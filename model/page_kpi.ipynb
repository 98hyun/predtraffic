{
 "cells": [
  {
   "cell_type": "code",
   "execution_count": 1,
   "id": "88f0ec84",
   "metadata": {},
   "outputs": [],
   "source": [
    "import requests\n",
    "from bs4 import BeautifulSoup"
   ]
  },
  {
   "cell_type": "code",
   "execution_count": 2,
   "id": "38fdbe8c",
   "metadata": {},
   "outputs": [],
   "source": [
    "## 법규위반 kpi\n",
    "\n",
    "## 서울(11) 광진구(215)\n",
    "## year : 2017 ~ 2020\n",
    "## 신호위반(01) 중앙선침범(02)\n",
    "servkey='qfc3a1UrA1TUTqi5MLpiAVuYEktqTznfXceNTrSSkfhRyAijwPF4e95Ya7KVROhJiHBXHe9Cb6T6n8mwCK9qZA=='\n",
    "kpi1_los,kpi1_lats=[],[]\n",
    "\n",
    "for year in [2017,2018,2019,2020]:\n",
    "    url=f\"http://apis.data.go.kr/B552061/frequentzoneLgrViolt/getRestFrequentzoneLgrViolt?type=xml&ServiceKey={servkey}&searchYearCd={year}&siDo=11&guGun=215&numOfRows=100&pageNo=1\"\n",
    "\n",
    "    res=requests.get(url)\n",
    "    soup=BeautifulSoup(res.content,'lxml')\n",
    "\n",
    "    items=soup.find_all('item')\n",
    "\n",
    "    for item in items:\n",
    "        lo_crd=float(item.find('lo_crd').text)\n",
    "        la_crd=float(item.find('la_crd').text)\n",
    "        kpi1_los.append(lo_crd)\n",
    "        kpi1_lats.append(la_crd)"
   ]
  },
  {
   "cell_type": "code",
   "execution_count": 3,
   "id": "0056ab6a",
   "metadata": {},
   "outputs": [
    {
     "data": {
      "text/plain": [
       "12"
      ]
     },
     "execution_count": 3,
     "metadata": {},
     "output_type": "execute_result"
    }
   ],
   "source": [
    "len(kpi1_los)"
   ]
  },
  {
   "cell_type": "code",
   "execution_count": 4,
   "id": "f28cfd41",
   "metadata": {},
   "outputs": [],
   "source": [
    "## 다발지역정보\n",
    "\n",
    "servkey='qfc3a1UrA1TUTqi5MLpiAVuYEktqTznfXceNTrSSkfhRyAijwPF4e95Ya7KVROhJiHBXHe9Cb6T6n8mwCK9qZA=='\n",
    "\n",
    "kpi2_los,kpi2_lats=[],[]\n",
    "\n",
    "for year in [2017,2018,2019,2020]:\n",
    "    url=f\"http://apis.data.go.kr/B552061/frequentzoneLg/getRestFrequentzoneLg?ServiceKey={servkey}&searchYearCd={year}&siDo=11&guGun=215&numOfRows=100&pageNo=1\"\n",
    "\n",
    "    res=requests.get(url)\n",
    "    res.raise_for_status()\n",
    "    soup=BeautifulSoup(res.content,'lxml')\n",
    "    \n",
    "    items=soup.find_all('item')\n",
    "\n",
    "    for item in items:\n",
    "        lo_crd=float(item.find('lo_crd').text)\n",
    "        la_crd=float(item.find('la_crd').text)\n",
    "        kpi2_los.append(lo_crd)\n",
    "        kpi2_lats.append(la_crd)"
   ]
  },
  {
   "cell_type": "code",
   "execution_count": 5,
   "id": "8ec5562c",
   "metadata": {},
   "outputs": [
    {
     "data": {
      "text/plain": [
       "12"
      ]
     },
     "execution_count": 5,
     "metadata": {},
     "output_type": "execute_result"
    }
   ],
   "source": [
    "len(kpi2_los)"
   ]
  },
  {
   "cell_type": "code",
   "execution_count": 6,
   "id": "225f7f9f",
   "metadata": {},
   "outputs": [],
   "source": [
    "import pandas as pd"
   ]
  },
  {
   "cell_type": "code",
   "execution_count": 7,
   "id": "d9eb80c9",
   "metadata": {},
   "outputs": [],
   "source": [
    "breakrule=pd.DataFrame({'lat':kpi1_lats,'lon':kpi1_los})\n",
    "manyaccident=pd.DataFrame({'lat':kpi2_lats,'lon':kpi2_los})"
   ]
  },
  {
   "cell_type": "code",
   "execution_count": 8,
   "id": "da8f78b9",
   "metadata": {},
   "outputs": [],
   "source": [
    "breakrule.to_csv('breakrule.csv',index=False)\n",
    "manyaccident.to_csv('manyaccident.csv',index=False)"
   ]
  },
  {
   "cell_type": "code",
   "execution_count": null,
   "id": "5b84d9d5",
   "metadata": {},
   "outputs": [],
   "source": []
  }
 ],
 "metadata": {
  "kernelspec": {
   "display_name": "Python 3 (ipykernel)",
   "language": "python",
   "name": "python3"
  },
  "language_info": {
   "codemirror_mode": {
    "name": "ipython",
    "version": 3
   },
   "file_extension": ".py",
   "mimetype": "text/x-python",
   "name": "python",
   "nbconvert_exporter": "python",
   "pygments_lexer": "ipython3",
   "version": "3.8.11"
  }
 },
 "nbformat": 4,
 "nbformat_minor": 5
}
