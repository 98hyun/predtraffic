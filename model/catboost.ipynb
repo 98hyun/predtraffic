{
 "cells": [
  {
   "cell_type": "code",
   "execution_count": null,
   "metadata": {},
   "outputs": [],
   "source": [
    "# colab에서 실행시킬것."
   ]
  },
  {
   "cell_type": "code",
   "execution_count": 69,
   "metadata": {
    "colab": {
     "base_uri": "https://localhost:8080/"
    },
    "executionInfo": {
     "elapsed": 281,
     "status": "ok",
     "timestamp": 1634102255147,
     "user": {
      "displayName": "황창현",
      "photoUrl": "https://lh3.googleusercontent.com/a/default-user=s64",
      "userId": "05808044836831561135"
     },
     "user_tz": -540
    },
    "id": "atmJTvi4DpOv",
    "outputId": "2918da25-86cf-46b3-d565-02710cade92a"
   },
   "outputs": [
    {
     "name": "stdout",
     "output_type": "stream",
     "text": [
      "[4, 5, 6, 8, 9, 10, 11, 13]\n",
      "5.75\n",
      "8.5\n",
      "10.25\n"
     ]
    }
   ],
   "source": [
    "s=[4,5,6,8,9,10,11,13]\n",
    "print(s)\n",
    "print(np.quantile(s,0.25))\n",
    "print(np.quantile(s,0.5))\n",
    "print(np.quantile(s,0.75))"
   ]
  },
  {
   "cell_type": "code",
   "execution_count": null,
   "metadata": {
    "id": "APLcVewykIqc"
   },
   "outputs": [],
   "source": [
    "import pandas as pd\n",
    "import numpy as np\n",
    "\n",
    "data=pd.read_csv('accalldata.csv')"
   ]
  },
  {
   "cell_type": "code",
   "execution_count": null,
   "metadata": {
    "colab": {
     "base_uri": "https://localhost:8080/"
    },
    "executionInfo": {
     "elapsed": 3216,
     "status": "ok",
     "timestamp": 1634099166852,
     "user": {
      "displayName": "황창현",
      "photoUrl": "https://lh3.googleusercontent.com/a/default-user=s64",
      "userId": "05808044836831561135"
     },
     "user_tz": -540
    },
    "id": "i_TCp1Zi3PX1",
    "outputId": "39d8a8b7-6b58-4d15-8498-b24716c045d1"
   },
   "outputs": [
    {
     "name": "stdout",
     "output_type": "stream",
     "text": [
      "Requirement already satisfied: catboost in /usr/local/lib/python3.7/dist-packages (1.0.0)\n",
      "Requirement already satisfied: matplotlib in /usr/local/lib/python3.7/dist-packages (from catboost) (3.2.2)\n",
      "Requirement already satisfied: numpy>=1.16.0 in /usr/local/lib/python3.7/dist-packages (from catboost) (1.19.5)\n",
      "Requirement already satisfied: plotly in /usr/local/lib/python3.7/dist-packages (from catboost) (4.4.1)\n",
      "Requirement already satisfied: graphviz in /usr/local/lib/python3.7/dist-packages (from catboost) (0.10.1)\n",
      "Requirement already satisfied: six in /usr/local/lib/python3.7/dist-packages (from catboost) (1.15.0)\n",
      "Requirement already satisfied: scipy in /usr/local/lib/python3.7/dist-packages (from catboost) (1.4.1)\n",
      "Requirement already satisfied: pandas>=0.24.0 in /usr/local/lib/python3.7/dist-packages (from catboost) (1.1.5)\n",
      "Requirement already satisfied: pytz>=2017.2 in /usr/local/lib/python3.7/dist-packages (from pandas>=0.24.0->catboost) (2018.9)\n",
      "Requirement already satisfied: python-dateutil>=2.7.3 in /usr/local/lib/python3.7/dist-packages (from pandas>=0.24.0->catboost) (2.8.2)\n",
      "Requirement already satisfied: cycler>=0.10 in /usr/local/lib/python3.7/dist-packages (from matplotlib->catboost) (0.10.0)\n",
      "Requirement already satisfied: kiwisolver>=1.0.1 in /usr/local/lib/python3.7/dist-packages (from matplotlib->catboost) (1.3.2)\n",
      "Requirement already satisfied: pyparsing!=2.0.4,!=2.1.2,!=2.1.6,>=2.0.1 in /usr/local/lib/python3.7/dist-packages (from matplotlib->catboost) (2.4.7)\n",
      "Requirement already satisfied: retrying>=1.3.3 in /usr/local/lib/python3.7/dist-packages (from plotly->catboost) (1.3.3)\n"
     ]
    }
   ],
   "source": [
    "!pip install catboost"
   ]
  },
  {
   "cell_type": "code",
   "execution_count": null,
   "metadata": {
    "colab": {
     "base_uri": "https://localhost:8080/",
     "height": 202
    },
    "executionInfo": {
     "elapsed": 27,
     "status": "ok",
     "timestamp": 1634099166854,
     "user": {
      "displayName": "황창현",
      "photoUrl": "https://lh3.googleusercontent.com/a/default-user=s64",
      "userId": "05808044836831561135"
     },
     "user_tz": -540
    },
    "id": "BWCH_aMDztKZ",
    "outputId": "49d0d049-f63f-4420-b4ed-14756d152c42"
   },
   "outputs": [
    {
     "data": {
      "text/html": [
       "<div>\n",
       "<style scoped>\n",
       "    .dataframe tbody tr th:only-of-type {\n",
       "        vertical-align: middle;\n",
       "    }\n",
       "\n",
       "    .dataframe tbody tr th {\n",
       "        vertical-align: top;\n",
       "    }\n",
       "\n",
       "    .dataframe thead th {\n",
       "        text-align: right;\n",
       "    }\n",
       "</style>\n",
       "<table border=\"1\" class=\"dataframe\">\n",
       "  <thead>\n",
       "    <tr style=\"text-align: right;\">\n",
       "      <th></th>\n",
       "      <th>월</th>\n",
       "      <th>일</th>\n",
       "      <th>시간</th>\n",
       "      <th>기온(°C)</th>\n",
       "      <th>풍향(deg)</th>\n",
       "      <th>풍속(m/s)</th>\n",
       "      <th>강수량(mm)</th>\n",
       "      <th>습도(%)</th>\n",
       "      <th>주야구분</th>\n",
       "      <th>요일</th>\n",
       "      <th>지역</th>\n",
       "      <th>사고유형대분류</th>\n",
       "    </tr>\n",
       "  </thead>\n",
       "  <tbody>\n",
       "    <tr>\n",
       "      <th>0</th>\n",
       "      <td>1</td>\n",
       "      <td>28</td>\n",
       "      <td>13</td>\n",
       "      <td>1.0</td>\n",
       "      <td>22.2</td>\n",
       "      <td>1.7</td>\n",
       "      <td>0.0</td>\n",
       "      <td>18.9</td>\n",
       "      <td>1</td>\n",
       "      <td>7</td>\n",
       "      <td>구의동</td>\n",
       "      <td>1</td>\n",
       "    </tr>\n",
       "    <tr>\n",
       "      <th>1</th>\n",
       "      <td>2</td>\n",
       "      <td>3</td>\n",
       "      <td>5</td>\n",
       "      <td>-12.9</td>\n",
       "      <td>78.6</td>\n",
       "      <td>1.3</td>\n",
       "      <td>0.0</td>\n",
       "      <td>66.7</td>\n",
       "      <td>2</td>\n",
       "      <td>6</td>\n",
       "      <td>광장동</td>\n",
       "      <td>3</td>\n",
       "    </tr>\n",
       "    <tr>\n",
       "      <th>2</th>\n",
       "      <td>2</td>\n",
       "      <td>9</td>\n",
       "      <td>15</td>\n",
       "      <td>0.1</td>\n",
       "      <td>322.1</td>\n",
       "      <td>3.0</td>\n",
       "      <td>0.0</td>\n",
       "      <td>45.7</td>\n",
       "      <td>1</td>\n",
       "      <td>5</td>\n",
       "      <td>자양동</td>\n",
       "      <td>2</td>\n",
       "    </tr>\n",
       "    <tr>\n",
       "      <th>3</th>\n",
       "      <td>2</td>\n",
       "      <td>13</td>\n",
       "      <td>11</td>\n",
       "      <td>4.0</td>\n",
       "      <td>122.8</td>\n",
       "      <td>1.0</td>\n",
       "      <td>0.0</td>\n",
       "      <td>29.5</td>\n",
       "      <td>1</td>\n",
       "      <td>2</td>\n",
       "      <td>중곡동</td>\n",
       "      <td>2</td>\n",
       "    </tr>\n",
       "    <tr>\n",
       "      <th>4</th>\n",
       "      <td>4</td>\n",
       "      <td>18</td>\n",
       "      <td>18</td>\n",
       "      <td>21.0</td>\n",
       "      <td>301.6</td>\n",
       "      <td>1.7</td>\n",
       "      <td>0.0</td>\n",
       "      <td>29.5</td>\n",
       "      <td>2</td>\n",
       "      <td>4</td>\n",
       "      <td>군자동</td>\n",
       "      <td>1</td>\n",
       "    </tr>\n",
       "  </tbody>\n",
       "</table>\n",
       "</div>"
      ],
      "text/plain": [
       "   월   일  시간  기온(°C)  풍향(deg)  풍속(m/s)  강수량(mm)  습도(%)  주야구분  요일   지역  사고유형대분류\n",
       "0  1  28  13     1.0     22.2      1.7      0.0   18.9     1   7  구의동        1\n",
       "1  2   3   5   -12.9     78.6      1.3      0.0   66.7     2   6  광장동        3\n",
       "2  2   9  15     0.1    322.1      3.0      0.0   45.7     1   5  자양동        2\n",
       "3  2  13  11     4.0    122.8      1.0      0.0   29.5     1   2  중곡동        2\n",
       "4  4  18  18    21.0    301.6      1.7      0.0   29.5     2   4  군자동        1"
      ]
     },
     "execution_count": 27,
     "metadata": {},
     "output_type": "execute_result"
    }
   ],
   "source": [
    "train=data.iloc[:,np.r_[1,2,3,4,5,6,7,8,9,10,-1,-5]]\n",
    "## 1 : 차대사람 2 : 차대차 3 : 차량단독\n",
    "## 1 : 주간 2 : 야간\n",
    "train.head()"
   ]
  },
  {
   "cell_type": "code",
   "execution_count": null,
   "metadata": {
    "colab": {
     "base_uri": "https://localhost:8080/",
     "height": 1000
    },
    "executionInfo": {
     "elapsed": 544,
     "status": "ok",
     "timestamp": 1634099167381,
     "user": {
      "displayName": "황창현",
      "photoUrl": "https://lh3.googleusercontent.com/a/default-user=s64",
      "userId": "05808044836831561135"
     },
     "user_tz": -540
    },
    "id": "x3AZNGc21UER",
    "outputId": "7fc500f2-9513-42ec-f79b-09f960c29e89"
   },
   "outputs": [
    {
     "name": "stderr",
     "output_type": "stream",
     "text": [
      "/usr/local/lib/python3.7/dist-packages/matplotlib/backends/backend_agg.py:214: RuntimeWarning: Glyph 49324 missing from current font.\n",
      "  font.set_text(s, 0.0, flags=flags)\n",
      "/usr/local/lib/python3.7/dist-packages/matplotlib/backends/backend_agg.py:214: RuntimeWarning: Glyph 44256 missing from current font.\n",
      "  font.set_text(s, 0.0, flags=flags)\n",
      "/usr/local/lib/python3.7/dist-packages/matplotlib/backends/backend_agg.py:214: RuntimeWarning: Glyph 50976 missing from current font.\n",
      "  font.set_text(s, 0.0, flags=flags)\n",
      "/usr/local/lib/python3.7/dist-packages/matplotlib/backends/backend_agg.py:214: RuntimeWarning: Glyph 54805 missing from current font.\n",
      "  font.set_text(s, 0.0, flags=flags)\n",
      "/usr/local/lib/python3.7/dist-packages/matplotlib/backends/backend_agg.py:214: RuntimeWarning: Glyph 45824 missing from current font.\n",
      "  font.set_text(s, 0.0, flags=flags)\n",
      "/usr/local/lib/python3.7/dist-packages/matplotlib/backends/backend_agg.py:214: RuntimeWarning: Glyph 48516 missing from current font.\n",
      "  font.set_text(s, 0.0, flags=flags)\n",
      "/usr/local/lib/python3.7/dist-packages/matplotlib/backends/backend_agg.py:214: RuntimeWarning: Glyph 47448 missing from current font.\n",
      "  font.set_text(s, 0.0, flags=flags)\n",
      "/usr/local/lib/python3.7/dist-packages/matplotlib/backends/backend_agg.py:183: RuntimeWarning: Glyph 49324 missing from current font.\n",
      "  font.set_text(s, 0, flags=flags)\n",
      "/usr/local/lib/python3.7/dist-packages/matplotlib/backends/backend_agg.py:183: RuntimeWarning: Glyph 44256 missing from current font.\n",
      "  font.set_text(s, 0, flags=flags)\n",
      "/usr/local/lib/python3.7/dist-packages/matplotlib/backends/backend_agg.py:183: RuntimeWarning: Glyph 50976 missing from current font.\n",
      "  font.set_text(s, 0, flags=flags)\n",
      "/usr/local/lib/python3.7/dist-packages/matplotlib/backends/backend_agg.py:183: RuntimeWarning: Glyph 54805 missing from current font.\n",
      "  font.set_text(s, 0, flags=flags)\n",
      "/usr/local/lib/python3.7/dist-packages/matplotlib/backends/backend_agg.py:183: RuntimeWarning: Glyph 45824 missing from current font.\n",
      "  font.set_text(s, 0, flags=flags)\n",
      "/usr/local/lib/python3.7/dist-packages/matplotlib/backends/backend_agg.py:183: RuntimeWarning: Glyph 48516 missing from current font.\n",
      "  font.set_text(s, 0, flags=flags)\n",
      "/usr/local/lib/python3.7/dist-packages/matplotlib/backends/backend_agg.py:183: RuntimeWarning: Glyph 47448 missing from current font.\n",
      "  font.set_text(s, 0, flags=flags)\n",
      "/usr/local/lib/python3.7/dist-packages/matplotlib/backends/backend_agg.py:214: RuntimeWarning: Glyph 51452 missing from current font.\n",
      "  font.set_text(s, 0.0, flags=flags)\n",
      "/usr/local/lib/python3.7/dist-packages/matplotlib/backends/backend_agg.py:214: RuntimeWarning: Glyph 50556 missing from current font.\n",
      "  font.set_text(s, 0.0, flags=flags)\n",
      "/usr/local/lib/python3.7/dist-packages/matplotlib/backends/backend_agg.py:214: RuntimeWarning: Glyph 44396 missing from current font.\n",
      "  font.set_text(s, 0.0, flags=flags)\n",
      "/usr/local/lib/python3.7/dist-packages/matplotlib/backends/backend_agg.py:183: RuntimeWarning: Glyph 51452 missing from current font.\n",
      "  font.set_text(s, 0, flags=flags)\n",
      "/usr/local/lib/python3.7/dist-packages/matplotlib/backends/backend_agg.py:183: RuntimeWarning: Glyph 50556 missing from current font.\n",
      "  font.set_text(s, 0, flags=flags)\n",
      "/usr/local/lib/python3.7/dist-packages/matplotlib/backends/backend_agg.py:183: RuntimeWarning: Glyph 44396 missing from current font.\n",
      "  font.set_text(s, 0, flags=flags)\n"
     ]
    },
    {
     "data": {
      "text/plain": [
       "<seaborn.axisgrid.FacetGrid at 0x7f00d2093f90>"
      ]
     },
     "execution_count": 28,
     "metadata": {},
     "output_type": "execute_result"
    },
    {
     "data": {
      "image/png": "[encoded data removed]",
      "text/plain": [
       "<Figure size 402.375x360 with 1 Axes>"
      ]
     },
     "metadata": {
      "needs_background": "light"
     },
     "output_type": "display_data"
    }
   ],
   "source": [
    "import matplotlib.pyplot as plt\n",
    "import seaborn as sns\n",
    "\n",
    "sns.catplot(data=train,x='사고유형대분류',hue='주야구분',kind='count')"
   ]
  },
  {
   "cell_type": "code",
   "execution_count": null,
   "metadata": {
    "colab": {
     "base_uri": "https://localhost:8080/",
     "height": 945
    },
    "executionInfo": {
     "elapsed": 463,
     "status": "ok",
     "timestamp": 1634099167835,
     "user": {
      "displayName": "황창현",
      "photoUrl": "https://lh3.googleusercontent.com/a/default-user=s64",
      "userId": "05808044836831561135"
     },
     "user_tz": -540
    },
    "id": "_nd9tn2V2ymw",
    "outputId": "0d647945-3974-4a28-cb36-bcf663551949"
   },
   "outputs": [
    {
     "name": "stderr",
     "output_type": "stream",
     "text": [
      "/usr/local/lib/python3.7/dist-packages/matplotlib/backends/backend_agg.py:214: RuntimeWarning: Glyph 50900 missing from current font.\n",
      "  font.set_text(s, 0.0, flags=flags)\n",
      "/usr/local/lib/python3.7/dist-packages/matplotlib/backends/backend_agg.py:183: RuntimeWarning: Glyph 50900 missing from current font.\n",
      "  font.set_text(s, 0, flags=flags)\n",
      "/usr/local/lib/python3.7/dist-packages/matplotlib/backends/backend_agg.py:214: RuntimeWarning: Glyph 49324 missing from current font.\n",
      "  font.set_text(s, 0.0, flags=flags)\n",
      "/usr/local/lib/python3.7/dist-packages/matplotlib/backends/backend_agg.py:214: RuntimeWarning: Glyph 44256 missing from current font.\n",
      "  font.set_text(s, 0.0, flags=flags)\n",
      "/usr/local/lib/python3.7/dist-packages/matplotlib/backends/backend_agg.py:214: RuntimeWarning: Glyph 50976 missing from current font.\n",
      "  font.set_text(s, 0.0, flags=flags)\n",
      "/usr/local/lib/python3.7/dist-packages/matplotlib/backends/backend_agg.py:214: RuntimeWarning: Glyph 54805 missing from current font.\n",
      "  font.set_text(s, 0.0, flags=flags)\n",
      "/usr/local/lib/python3.7/dist-packages/matplotlib/backends/backend_agg.py:214: RuntimeWarning: Glyph 45824 missing from current font.\n",
      "  font.set_text(s, 0.0, flags=flags)\n",
      "/usr/local/lib/python3.7/dist-packages/matplotlib/backends/backend_agg.py:214: RuntimeWarning: Glyph 48516 missing from current font.\n",
      "  font.set_text(s, 0.0, flags=flags)\n",
      "/usr/local/lib/python3.7/dist-packages/matplotlib/backends/backend_agg.py:214: RuntimeWarning: Glyph 47448 missing from current font.\n",
      "  font.set_text(s, 0.0, flags=flags)\n",
      "/usr/local/lib/python3.7/dist-packages/matplotlib/backends/backend_agg.py:183: RuntimeWarning: Glyph 49324 missing from current font.\n",
      "  font.set_text(s, 0, flags=flags)\n",
      "/usr/local/lib/python3.7/dist-packages/matplotlib/backends/backend_agg.py:183: RuntimeWarning: Glyph 44256 missing from current font.\n",
      "  font.set_text(s, 0, flags=flags)\n",
      "/usr/local/lib/python3.7/dist-packages/matplotlib/backends/backend_agg.py:183: RuntimeWarning: Glyph 50976 missing from current font.\n",
      "  font.set_text(s, 0, flags=flags)\n",
      "/usr/local/lib/python3.7/dist-packages/matplotlib/backends/backend_agg.py:183: RuntimeWarning: Glyph 54805 missing from current font.\n",
      "  font.set_text(s, 0, flags=flags)\n",
      "/usr/local/lib/python3.7/dist-packages/matplotlib/backends/backend_agg.py:183: RuntimeWarning: Glyph 45824 missing from current font.\n",
      "  font.set_text(s, 0, flags=flags)\n",
      "/usr/local/lib/python3.7/dist-packages/matplotlib/backends/backend_agg.py:183: RuntimeWarning: Glyph 48516 missing from current font.\n",
      "  font.set_text(s, 0, flags=flags)\n",
      "/usr/local/lib/python3.7/dist-packages/matplotlib/backends/backend_agg.py:183: RuntimeWarning: Glyph 47448 missing from current font.\n",
      "  font.set_text(s, 0, flags=flags)\n"
     ]
    },
    {
     "data": {
      "text/plain": [
       "<seaborn.axisgrid.FacetGrid at 0x7f00c40055d0>"
      ]
     },
     "execution_count": 29,
     "metadata": {},
     "output_type": "execute_result"
    },
    {
     "data": {
      "image/png": "[encoded data removed]",
      "text/plain": [
       "<Figure size 410x360 with 1 Axes>"
      ]
     },
     "metadata": {
      "needs_background": "light"
     },
     "output_type": "display_data"
    }
   ],
   "source": [
    "sns.catplot(data=train,x='월',hue='사고유형대분류',kind='count')"
   ]
  },
  {
   "cell_type": "code",
   "execution_count": null,
   "metadata": {
    "colab": {
     "base_uri": "https://localhost:8080/",
     "height": 412
    },
    "executionInfo": {
     "elapsed": 280,
     "status": "ok",
     "timestamp": 1634099186980,
     "user": {
      "displayName": "황창현",
      "photoUrl": "https://lh3.googleusercontent.com/a/default-user=s64",
      "userId": "05808044836831561135"
     },
     "user_tz": -540
    },
    "id": "hWT3EhRq5KaN",
    "outputId": "77583ab9-34e1-4537-f5d9-b35eefe4a36c"
   },
   "outputs": [
    {
     "name": "stderr",
     "output_type": "stream",
     "text": [
      "/usr/local/lib/python3.7/dist-packages/ipykernel_launcher.py:5: SettingWithCopyWarning: \n",
      "A value is trying to be set on a copy of a slice from a DataFrame.\n",
      "Try using .loc[row_indexer,col_indexer] = value instead\n",
      "\n",
      "See the caveats in the documentation: https://pandas.pydata.org/pandas-docs/stable/user_guide/indexing.html#returning-a-view-versus-a-copy\n",
      "  \"\"\"\n",
      "/usr/local/lib/python3.7/dist-packages/ipykernel_launcher.py:6: SettingWithCopyWarning: \n",
      "A value is trying to be set on a copy of a slice from a DataFrame.\n",
      "Try using .loc[row_indexer,col_indexer] = value instead\n",
      "\n",
      "See the caveats in the documentation: https://pandas.pydata.org/pandas-docs/stable/user_guide/indexing.html#returning-a-view-versus-a-copy\n",
      "  \n"
     ]
    },
    {
     "data": {
      "text/html": [
       "<div>\n",
       "<style scoped>\n",
       "    .dataframe tbody tr th:only-of-type {\n",
       "        vertical-align: middle;\n",
       "    }\n",
       "\n",
       "    .dataframe tbody tr th {\n",
       "        vertical-align: top;\n",
       "    }\n",
       "\n",
       "    .dataframe thead th {\n",
       "        text-align: right;\n",
       "    }\n",
       "</style>\n",
       "<table border=\"1\" class=\"dataframe\">\n",
       "  <thead>\n",
       "    <tr style=\"text-align: right;\">\n",
       "      <th></th>\n",
       "      <th>월</th>\n",
       "      <th>일</th>\n",
       "      <th>시간</th>\n",
       "      <th>기온(°C)</th>\n",
       "      <th>풍향(deg)</th>\n",
       "      <th>풍속(m/s)</th>\n",
       "      <th>강수량(mm)</th>\n",
       "      <th>습도(%)</th>\n",
       "      <th>주야구분</th>\n",
       "      <th>요일</th>\n",
       "      <th>지역</th>\n",
       "      <th>사고유형대분류</th>\n",
       "    </tr>\n",
       "  </thead>\n",
       "  <tbody>\n",
       "    <tr>\n",
       "      <th>0</th>\n",
       "      <td>1</td>\n",
       "      <td>28</td>\n",
       "      <td>13</td>\n",
       "      <td>1.0</td>\n",
       "      <td>22.2</td>\n",
       "      <td>1.7</td>\n",
       "      <td>0.0</td>\n",
       "      <td>18.9</td>\n",
       "      <td>1</td>\n",
       "      <td>7</td>\n",
       "      <td>2</td>\n",
       "      <td>1</td>\n",
       "    </tr>\n",
       "    <tr>\n",
       "      <th>1</th>\n",
       "      <td>2</td>\n",
       "      <td>3</td>\n",
       "      <td>5</td>\n",
       "      <td>-12.9</td>\n",
       "      <td>78.6</td>\n",
       "      <td>1.3</td>\n",
       "      <td>0.0</td>\n",
       "      <td>66.7</td>\n",
       "      <td>2</td>\n",
       "      <td>6</td>\n",
       "      <td>1</td>\n",
       "      <td>3</td>\n",
       "    </tr>\n",
       "    <tr>\n",
       "      <th>2</th>\n",
       "      <td>2</td>\n",
       "      <td>9</td>\n",
       "      <td>15</td>\n",
       "      <td>0.1</td>\n",
       "      <td>322.1</td>\n",
       "      <td>3.0</td>\n",
       "      <td>0.0</td>\n",
       "      <td>45.7</td>\n",
       "      <td>1</td>\n",
       "      <td>5</td>\n",
       "      <td>8</td>\n",
       "      <td>2</td>\n",
       "    </tr>\n",
       "    <tr>\n",
       "      <th>3</th>\n",
       "      <td>2</td>\n",
       "      <td>13</td>\n",
       "      <td>11</td>\n",
       "      <td>4.0</td>\n",
       "      <td>122.8</td>\n",
       "      <td>1.0</td>\n",
       "      <td>0.0</td>\n",
       "      <td>29.5</td>\n",
       "      <td>1</td>\n",
       "      <td>2</td>\n",
       "      <td>10</td>\n",
       "      <td>2</td>\n",
       "    </tr>\n",
       "    <tr>\n",
       "      <th>4</th>\n",
       "      <td>4</td>\n",
       "      <td>18</td>\n",
       "      <td>18</td>\n",
       "      <td>21.0</td>\n",
       "      <td>301.6</td>\n",
       "      <td>1.7</td>\n",
       "      <td>0.0</td>\n",
       "      <td>29.5</td>\n",
       "      <td>2</td>\n",
       "      <td>4</td>\n",
       "      <td>3</td>\n",
       "      <td>1</td>\n",
       "    </tr>\n",
       "  </tbody>\n",
       "</table>\n",
       "</div>"
      ],
      "text/plain": [
       "   월   일  시간  기온(°C)  풍향(deg)  풍속(m/s)  강수량(mm)  습도(%)  주야구분  요일  지역  사고유형대분류\n",
       "0  1  28  13     1.0     22.2      1.7      0.0   18.9     1   7   2        1\n",
       "1  2   3   5   -12.9     78.6      1.3      0.0   66.7     2   6   1        3\n",
       "2  2   9  15     0.1    322.1      3.0      0.0   45.7     1   5   8        2\n",
       "3  2  13  11     4.0    122.8      1.0      0.0   29.5     1   2  10        2\n",
       "4  4  18  18    21.0    301.6      1.7      0.0   29.5     2   4   3        1"
      ]
     },
     "execution_count": 33,
     "metadata": {},
     "output_type": "execute_result"
    }
   ],
   "source": [
    "from sklearn.preprocessing import LabelEncoder\n",
    "\n",
    "le=LabelEncoder()\n",
    "\n",
    "train['지역']=le.fit_transform(train['지역'])\n",
    "train['지역']+=1\n",
    "train.head()"
   ]
  },
  {
   "cell_type": "code",
   "execution_count": null,
   "metadata": {
    "id": "iNaPNi5QksUE"
   },
   "outputs": [],
   "source": [
    "from catboost import Pool, CatBoostClassifier\n",
    "\n",
    "cat_features=list([0,1,2,8,9,10])\n",
    "\n",
    "train_pool=Pool(data=train.iloc[:,:-1],label=train.iloc[:,-1],cat_features=cat_features)\n",
    "\n",
    "model=CatBoostClassifier(objective='MultiClass',n_estimators=1000,random_state=71)"
   ]
  },
  {
   "cell_type": "code",
   "execution_count": null,
   "metadata": {
    "colab": {
     "base_uri": "https://localhost:8080/",
     "height": 1000,
     "referenced_widgets": [
      "1c64a7b1658a45d4aa25de537aceb1c9"
     ]
    },
    "executionInfo": {
     "elapsed": 8282,
     "status": "ok",
     "timestamp": 1634099423080,
     "user": {
      "displayName": "황창현",
      "photoUrl": "https://lh3.googleusercontent.com/a/default-user=s64",
      "userId": "05808044836831561135"
     },
     "user_tz": -540
    },
    "id": "NHKIRX_54Qef",
    "outputId": "2071d0f5-4e87-4344-a4e3-384fb01b916f"
   },
   "outputs": [
    {
     "data": {
      "application/vnd.jupyter.widget-view+json": {
       "model_id": "1c64a7b1658a45d4aa25de537aceb1c9",
       "version_major": 2,
       "version_minor": 0
      },
      "text/plain": [
       "MetricVisualizer(layout=Layout(align_self='stretch', height='500px'))"
      ]
     },
     "metadata": {},
     "output_type": "display_data"
    },
    {
     "name": "stderr",
     "output_type": "stream",
     "text": [
      "You should provide test set for use best model. use_best_model parameter has been switched to false value.\n"
     ]
    },
    {
     "name": "stdout",
     "output_type": "stream",
     "text": [
      "Learning rate set to 0.070061\n",
      "0:\tlearn: 1.0833258\ttotal: 14.8ms\tremaining: 14.7s\n",
      "1:\tlearn: 1.0679527\ttotal: 23.6ms\tremaining: 11.8s\n",
      "2:\tlearn: 1.0579643\ttotal: 24.6ms\tremaining: 8.16s\n",
      "3:\tlearn: 1.0472035\ttotal: 33.9ms\tremaining: 8.43s\n",
      "4:\tlearn: 1.0370735\ttotal: 41ms\tremaining: 8.16s\n",
      "5:\tlearn: 1.0284054\ttotal: 41.5ms\tremaining: 6.87s\n",
      "6:\tlearn: 1.0155967\ttotal: 48.7ms\tremaining: 6.91s\n",
      "7:\tlearn: 1.0074027\ttotal: 55.7ms\tremaining: 6.91s\n",
      "8:\tlearn: 1.0004404\ttotal: 56.1ms\tremaining: 6.18s\n",
      "9:\tlearn: 0.9906214\ttotal: 62.1ms\tremaining: 6.15s\n",
      "10:\tlearn: 0.9842192\ttotal: 71.4ms\tremaining: 6.42s\n",
      "11:\tlearn: 0.9754103\ttotal: 82.9ms\tremaining: 6.83s\n",
      "12:\tlearn: 0.9673041\ttotal: 87.3ms\tremaining: 6.63s\n",
      "13:\tlearn: 0.9524474\ttotal: 94.3ms\tremaining: 6.64s\n",
      "14:\tlearn: 0.9429733\ttotal: 102ms\tremaining: 6.68s\n",
      "15:\tlearn: 0.9339936\ttotal: 106ms\tremaining: 6.51s\n",
      "16:\tlearn: 0.9290778\ttotal: 107ms\tremaining: 6.19s\n",
      "17:\tlearn: 0.9174014\ttotal: 114ms\tremaining: 6.21s\n",
      "18:\tlearn: 0.9036744\ttotal: 121ms\tremaining: 6.26s\n",
      "19:\tlearn: 0.8940392\ttotal: 127ms\tremaining: 6.22s\n",
      "20:\tlearn: 0.8876133\ttotal: 133ms\tremaining: 6.19s\n",
      "21:\tlearn: 0.8845296\ttotal: 134ms\tremaining: 5.98s\n",
      "22:\tlearn: 0.8767685\ttotal: 141ms\tremaining: 6s\n",
      "23:\tlearn: 0.8706781\ttotal: 147ms\tremaining: 5.98s\n",
      "24:\tlearn: 0.8634951\ttotal: 153ms\tremaining: 5.99s\n",
      "25:\tlearn: 0.8556675\ttotal: 161ms\tremaining: 6.01s\n",
      "26:\tlearn: 0.8500817\ttotal: 170ms\tremaining: 6.11s\n",
      "27:\tlearn: 0.8441291\ttotal: 178ms\tremaining: 6.17s\n",
      "28:\tlearn: 0.8384686\ttotal: 186ms\tremaining: 6.22s\n",
      "29:\tlearn: 0.8299856\ttotal: 201ms\tremaining: 6.5s\n",
      "30:\tlearn: 0.8255114\ttotal: 210ms\tremaining: 6.55s\n",
      "31:\tlearn: 0.8188478\ttotal: 215ms\tremaining: 6.51s\n",
      "32:\tlearn: 0.8130429\ttotal: 222ms\tremaining: 6.5s\n",
      "33:\tlearn: 0.8064286\ttotal: 229ms\tremaining: 6.5s\n",
      "34:\tlearn: 0.7990548\ttotal: 236ms\tremaining: 6.5s\n",
      "35:\tlearn: 0.7902598\ttotal: 252ms\tremaining: 6.75s\n",
      "36:\tlearn: 0.7855449\ttotal: 257ms\tremaining: 6.68s\n",
      "37:\tlearn: 0.7797292\ttotal: 263ms\tremaining: 6.66s\n",
      "38:\tlearn: 0.7739110\ttotal: 270ms\tremaining: 6.64s\n",
      "39:\tlearn: 0.7687412\ttotal: 276ms\tremaining: 6.62s\n",
      "40:\tlearn: 0.7666964\ttotal: 279ms\tremaining: 6.54s\n",
      "41:\tlearn: 0.7602226\ttotal: 291ms\tremaining: 6.63s\n",
      "42:\tlearn: 0.7577045\ttotal: 299ms\tremaining: 6.65s\n",
      "43:\tlearn: 0.7516413\ttotal: 305ms\tremaining: 6.62s\n",
      "44:\tlearn: 0.7502642\ttotal: 306ms\tremaining: 6.5s\n",
      "45:\tlearn: 0.7491344\ttotal: 307ms\tremaining: 6.36s\n",
      "46:\tlearn: 0.7423179\ttotal: 313ms\tremaining: 6.35s\n",
      "47:\tlearn: 0.7351711\ttotal: 320ms\tremaining: 6.34s\n",
      "48:\tlearn: 0.7290867\ttotal: 326ms\tremaining: 6.33s\n",
      "49:\tlearn: 0.7225446\ttotal: 332ms\tremaining: 6.31s\n",
      "50:\tlearn: 0.7187465\ttotal: 336ms\tremaining: 6.26s\n",
      "51:\tlearn: 0.7102719\ttotal: 343ms\tremaining: 6.26s\n",
      "52:\tlearn: 0.7044523\ttotal: 351ms\tremaining: 6.26s\n",
      "53:\tlearn: 0.6972193\ttotal: 358ms\tremaining: 6.27s\n",
      "54:\tlearn: 0.6907302\ttotal: 365ms\tremaining: 6.27s\n",
      "55:\tlearn: 0.6855369\ttotal: 374ms\tremaining: 6.3s\n",
      "56:\tlearn: 0.6796096\ttotal: 383ms\tremaining: 6.33s\n",
      "57:\tlearn: 0.6756795\ttotal: 389ms\tremaining: 6.32s\n",
      "58:\tlearn: 0.6691937\ttotal: 399ms\tremaining: 6.36s\n",
      "59:\tlearn: 0.6629777\ttotal: 405ms\tremaining: 6.34s\n",
      "60:\tlearn: 0.6563847\ttotal: 409ms\tremaining: 6.3s\n",
      "61:\tlearn: 0.6513460\ttotal: 416ms\tremaining: 6.3s\n",
      "62:\tlearn: 0.6474963\ttotal: 424ms\tremaining: 6.3s\n",
      "63:\tlearn: 0.6416984\ttotal: 431ms\tremaining: 6.3s\n",
      "64:\tlearn: 0.6397220\ttotal: 434ms\tremaining: 6.25s\n",
      "65:\tlearn: 0.6371185\ttotal: 442ms\tremaining: 6.25s\n",
      "66:\tlearn: 0.6335596\ttotal: 449ms\tremaining: 6.25s\n",
      "67:\tlearn: 0.6266315\ttotal: 455ms\tremaining: 6.24s\n",
      "68:\tlearn: 0.6210130\ttotal: 462ms\tremaining: 6.23s\n",
      "69:\tlearn: 0.6179544\ttotal: 470ms\tremaining: 6.24s\n",
      "70:\tlearn: 0.6113491\ttotal: 476ms\tremaining: 6.23s\n",
      "71:\tlearn: 0.6062939\ttotal: 481ms\tremaining: 6.2s\n",
      "72:\tlearn: 0.6030130\ttotal: 487ms\tremaining: 6.19s\n",
      "73:\tlearn: 0.6001698\ttotal: 494ms\tremaining: 6.19s\n",
      "74:\tlearn: 0.5962994\ttotal: 501ms\tremaining: 6.18s\n",
      "75:\tlearn: 0.5931586\ttotal: 507ms\tremaining: 6.16s\n",
      "76:\tlearn: 0.5906199\ttotal: 510ms\tremaining: 6.12s\n",
      "77:\tlearn: 0.5861874\ttotal: 518ms\tremaining: 6.13s\n",
      "78:\tlearn: 0.5823771\ttotal: 527ms\tremaining: 6.14s\n",
      "79:\tlearn: 0.5789234\ttotal: 533ms\tremaining: 6.13s\n",
      "80:\tlearn: 0.5734916\ttotal: 539ms\tremaining: 6.12s\n",
      "81:\tlearn: 0.5689150\ttotal: 546ms\tremaining: 6.11s\n",
      "82:\tlearn: 0.5620814\ttotal: 553ms\tremaining: 6.11s\n",
      "83:\tlearn: 0.5571154\ttotal: 561ms\tremaining: 6.11s\n",
      "84:\tlearn: 0.5514124\ttotal: 568ms\tremaining: 6.11s\n",
      "85:\tlearn: 0.5449388\ttotal: 575ms\tremaining: 6.11s\n",
      "86:\tlearn: 0.5432504\ttotal: 582ms\tremaining: 6.11s\n",
      "87:\tlearn: 0.5407837\ttotal: 589ms\tremaining: 6.11s\n",
      "88:\tlearn: 0.5351693\ttotal: 599ms\tremaining: 6.13s\n",
      "89:\tlearn: 0.5302508\ttotal: 607ms\tremaining: 6.13s\n",
      "90:\tlearn: 0.5261383\ttotal: 613ms\tremaining: 6.12s\n",
      "91:\tlearn: 0.5235244\ttotal: 620ms\tremaining: 6.12s\n",
      "92:\tlearn: 0.5197210\ttotal: 627ms\tremaining: 6.11s\n",
      "93:\tlearn: 0.5148335\ttotal: 633ms\tremaining: 6.1s\n",
      "94:\tlearn: 0.5103487\ttotal: 641ms\tremaining: 6.1s\n",
      "95:\tlearn: 0.5050540\ttotal: 652ms\tremaining: 6.14s\n",
      "96:\tlearn: 0.4997132\ttotal: 665ms\tremaining: 6.19s\n",
      "97:\tlearn: 0.4965221\ttotal: 674ms\tremaining: 6.2s\n",
      "98:\tlearn: 0.4926372\ttotal: 682ms\tremaining: 6.2s\n",
      "99:\tlearn: 0.4903612\ttotal: 690ms\tremaining: 6.21s\n",
      "100:\tlearn: 0.4884101\ttotal: 696ms\tremaining: 6.19s\n",
      "101:\tlearn: 0.4855121\ttotal: 703ms\tremaining: 6.19s\n",
      "102:\tlearn: 0.4824532\ttotal: 710ms\tremaining: 6.18s\n",
      "103:\tlearn: 0.4780793\ttotal: 716ms\tremaining: 6.17s\n",
      "104:\tlearn: 0.4742051\ttotal: 725ms\tremaining: 6.18s\n",
      "105:\tlearn: 0.4707127\ttotal: 734ms\tremaining: 6.19s\n",
      "106:\tlearn: 0.4671406\ttotal: 741ms\tremaining: 6.19s\n",
      "107:\tlearn: 0.4643535\ttotal: 747ms\tremaining: 6.17s\n",
      "108:\tlearn: 0.4607873\ttotal: 756ms\tremaining: 6.18s\n",
      "109:\tlearn: 0.4573370\ttotal: 765ms\tremaining: 6.19s\n",
      "110:\tlearn: 0.4540436\ttotal: 771ms\tremaining: 6.17s\n",
      "111:\tlearn: 0.4507987\ttotal: 778ms\tremaining: 6.17s\n",
      "112:\tlearn: 0.4473875\ttotal: 784ms\tremaining: 6.16s\n",
      "113:\tlearn: 0.4445170\ttotal: 791ms\tremaining: 6.15s\n",
      "114:\tlearn: 0.4412777\ttotal: 803ms\tremaining: 6.18s\n",
      "115:\tlearn: 0.4359603\ttotal: 810ms\tremaining: 6.17s\n",
      "116:\tlearn: 0.4324387\ttotal: 817ms\tremaining: 6.16s\n",
      "117:\tlearn: 0.4294256\ttotal: 824ms\tremaining: 6.16s\n",
      "118:\tlearn: 0.4264385\ttotal: 831ms\tremaining: 6.15s\n",
      "119:\tlearn: 0.4233296\ttotal: 838ms\tremaining: 6.14s\n",
      "120:\tlearn: 0.4214909\ttotal: 845ms\tremaining: 6.13s\n",
      "121:\tlearn: 0.4198667\ttotal: 851ms\tremaining: 6.13s\n",
      "122:\tlearn: 0.4166782\ttotal: 858ms\tremaining: 6.12s\n",
      "123:\tlearn: 0.4129939\ttotal: 865ms\tremaining: 6.11s\n",
      "124:\tlearn: 0.4109095\ttotal: 872ms\tremaining: 6.1s\n",
      "125:\tlearn: 0.4077028\ttotal: 879ms\tremaining: 6.09s\n",
      "126:\tlearn: 0.4038647\ttotal: 885ms\tremaining: 6.08s\n",
      "127:\tlearn: 0.4014501\ttotal: 892ms\tremaining: 6.08s\n",
      "128:\tlearn: 0.3992896\ttotal: 898ms\tremaining: 6.06s\n",
      "129:\tlearn: 0.3972387\ttotal: 905ms\tremaining: 6.06s\n",
      "130:\tlearn: 0.3942855\ttotal: 911ms\tremaining: 6.05s\n",
      "131:\tlearn: 0.3920933\ttotal: 919ms\tremaining: 6.04s\n",
      "132:\tlearn: 0.3901567\ttotal: 925ms\tremaining: 6.03s\n",
      "133:\tlearn: 0.3870839\ttotal: 932ms\tremaining: 6.03s\n",
      "134:\tlearn: 0.3848928\ttotal: 939ms\tremaining: 6.02s\n",
      "135:\tlearn: 0.3826011\ttotal: 947ms\tremaining: 6.01s\n",
      "136:\tlearn: 0.3804564\ttotal: 953ms\tremaining: 6.01s\n",
      "137:\tlearn: 0.3776594\ttotal: 976ms\tremaining: 6.1s\n",
      "138:\tlearn: 0.3755838\ttotal: 985ms\tremaining: 6.1s\n",
      "139:\tlearn: 0.3737844\ttotal: 992ms\tremaining: 6.09s\n",
      "140:\tlearn: 0.3716446\ttotal: 1s\tremaining: 6.12s\n",
      "141:\tlearn: 0.3686235\ttotal: 1.01s\tremaining: 6.11s\n",
      "142:\tlearn: 0.3671381\ttotal: 1.02s\tremaining: 6.1s\n",
      "143:\tlearn: 0.3644000\ttotal: 1.02s\tremaining: 6.1s\n",
      "144:\tlearn: 0.3619509\ttotal: 1.03s\tremaining: 6.1s\n",
      "145:\tlearn: 0.3590593\ttotal: 1.04s\tremaining: 6.09s\n",
      "146:\tlearn: 0.3565171\ttotal: 1.05s\tremaining: 6.08s\n",
      "147:\tlearn: 0.3539423\ttotal: 1.05s\tremaining: 6.07s\n",
      "148:\tlearn: 0.3517419\ttotal: 1.06s\tremaining: 6.07s\n",
      "149:\tlearn: 0.3488573\ttotal: 1.07s\tremaining: 6.06s\n",
      "150:\tlearn: 0.3468358\ttotal: 1.07s\tremaining: 6.05s\n",
      "151:\tlearn: 0.3447386\ttotal: 1.08s\tremaining: 6.04s\n",
      "152:\tlearn: 0.3426151\ttotal: 1.09s\tremaining: 6.04s\n",
      "153:\tlearn: 0.3409089\ttotal: 1.1s\tremaining: 6.03s\n",
      "154:\tlearn: 0.3383757\ttotal: 1.1s\tremaining: 6.02s\n",
      "155:\tlearn: 0.3359291\ttotal: 1.11s\tremaining: 6.01s\n",
      "156:\tlearn: 0.3335742\ttotal: 1.12s\tremaining: 6.01s\n",
      "157:\tlearn: 0.3311287\ttotal: 1.12s\tremaining: 5.99s\n",
      "158:\tlearn: 0.3285772\ttotal: 1.13s\tremaining: 5.99s\n",
      "159:\tlearn: 0.3268315\ttotal: 1.14s\tremaining: 5.98s\n",
      "160:\tlearn: 0.3250566\ttotal: 1.15s\tremaining: 5.98s\n",
      "161:\tlearn: 0.3228477\ttotal: 1.15s\tremaining: 5.97s\n",
      "162:\tlearn: 0.3214723\ttotal: 1.16s\tremaining: 5.96s\n",
      "163:\tlearn: 0.3194805\ttotal: 1.17s\tremaining: 5.97s\n",
      "164:\tlearn: 0.3177530\ttotal: 1.18s\tremaining: 5.96s\n",
      "165:\tlearn: 0.3157640\ttotal: 1.18s\tremaining: 5.95s\n",
      "166:\tlearn: 0.3141516\ttotal: 1.19s\tremaining: 5.94s\n",
      "167:\tlearn: 0.3124693\ttotal: 1.2s\tremaining: 5.94s\n",
      "168:\tlearn: 0.3109951\ttotal: 1.21s\tremaining: 5.95s\n",
      "169:\tlearn: 0.3091400\ttotal: 1.22s\tremaining: 5.94s\n",
      "170:\tlearn: 0.3075184\ttotal: 1.22s\tremaining: 5.93s\n",
      "171:\tlearn: 0.3056680\ttotal: 1.23s\tremaining: 5.92s\n",
      "172:\tlearn: 0.3036767\ttotal: 1.24s\tremaining: 5.91s\n",
      "173:\tlearn: 0.3021039\ttotal: 1.24s\tremaining: 5.9s\n",
      "174:\tlearn: 0.3002449\ttotal: 1.25s\tremaining: 5.9s\n",
      "175:\tlearn: 0.2987957\ttotal: 1.27s\tremaining: 5.94s\n",
      "176:\tlearn: 0.2969891\ttotal: 1.27s\tremaining: 5.92s\n",
      "177:\tlearn: 0.2952963\ttotal: 1.28s\tremaining: 5.92s\n",
      "178:\tlearn: 0.2936151\ttotal: 1.29s\tremaining: 5.93s\n",
      "179:\tlearn: 0.2918562\ttotal: 1.3s\tremaining: 5.93s\n",
      "180:\tlearn: 0.2901909\ttotal: 1.31s\tremaining: 5.93s\n",
      "181:\tlearn: 0.2884945\ttotal: 1.32s\tremaining: 5.92s\n",
      "182:\tlearn: 0.2873776\ttotal: 1.32s\tremaining: 5.91s\n",
      "183:\tlearn: 0.2853083\ttotal: 1.33s\tremaining: 5.9s\n",
      "184:\tlearn: 0.2840042\ttotal: 1.34s\tremaining: 5.89s\n",
      "185:\tlearn: 0.2823355\ttotal: 1.35s\tremaining: 5.9s\n",
      "186:\tlearn: 0.2810836\ttotal: 1.35s\tremaining: 5.89s\n",
      "187:\tlearn: 0.2794536\ttotal: 1.36s\tremaining: 5.88s\n",
      "188:\tlearn: 0.2784237\ttotal: 1.37s\tremaining: 5.88s\n",
      "189:\tlearn: 0.2764295\ttotal: 1.38s\tremaining: 5.87s\n",
      "190:\tlearn: 0.2744015\ttotal: 1.38s\tremaining: 5.86s\n",
      "191:\tlearn: 0.2732782\ttotal: 1.39s\tremaining: 5.86s\n",
      "192:\tlearn: 0.2718466\ttotal: 1.41s\tremaining: 5.88s\n",
      "193:\tlearn: 0.2707163\ttotal: 1.41s\tremaining: 5.87s\n",
      "194:\tlearn: 0.2688228\ttotal: 1.42s\tremaining: 5.86s\n",
      "195:\tlearn: 0.2679059\ttotal: 1.43s\tremaining: 5.85s\n",
      "196:\tlearn: 0.2662931\ttotal: 1.43s\tremaining: 5.84s\n",
      "197:\tlearn: 0.2646932\ttotal: 1.44s\tremaining: 5.84s\n",
      "198:\tlearn: 0.2634466\ttotal: 1.45s\tremaining: 5.83s\n",
      "199:\tlearn: 0.2623146\ttotal: 1.46s\tremaining: 5.82s\n",
      "200:\tlearn: 0.2603871\ttotal: 1.46s\tremaining: 5.81s\n",
      "201:\tlearn: 0.2586376\ttotal: 1.47s\tremaining: 5.81s\n",
      "202:\tlearn: 0.2563750\ttotal: 1.48s\tremaining: 5.8s\n",
      "203:\tlearn: 0.2551583\ttotal: 1.48s\tremaining: 5.79s\n",
      "204:\tlearn: 0.2535726\ttotal: 1.49s\tremaining: 5.78s\n",
      "205:\tlearn: 0.2523822\ttotal: 1.5s\tremaining: 5.77s\n",
      "206:\tlearn: 0.2511803\ttotal: 1.5s\tremaining: 5.77s\n",
      "207:\tlearn: 0.2497181\ttotal: 1.51s\tremaining: 5.76s\n",
      "208:\tlearn: 0.2485883\ttotal: 1.52s\tremaining: 5.75s\n",
      "209:\tlearn: 0.2473543\ttotal: 1.53s\tremaining: 5.77s\n",
      "210:\tlearn: 0.2459162\ttotal: 1.54s\tremaining: 5.76s\n",
      "211:\tlearn: 0.2451584\ttotal: 1.55s\tremaining: 5.76s\n",
      "212:\tlearn: 0.2437391\ttotal: 1.56s\tremaining: 5.75s\n",
      "213:\tlearn: 0.2427189\ttotal: 1.56s\tremaining: 5.75s\n",
      "214:\tlearn: 0.2414618\ttotal: 1.57s\tremaining: 5.74s\n",
      "215:\tlearn: 0.2404182\ttotal: 1.58s\tremaining: 5.73s\n",
      "216:\tlearn: 0.2397124\ttotal: 1.58s\tremaining: 5.72s\n",
      "217:\tlearn: 0.2387359\ttotal: 1.59s\tremaining: 5.71s\n",
      "218:\tlearn: 0.2376222\ttotal: 1.6s\tremaining: 5.7s\n",
      "219:\tlearn: 0.2362605\ttotal: 1.61s\tremaining: 5.7s\n",
      "220:\tlearn: 0.2351919\ttotal: 1.62s\tremaining: 5.7s\n",
      "221:\tlearn: 0.2335764\ttotal: 1.62s\tremaining: 5.69s\n",
      "222:\tlearn: 0.2324419\ttotal: 1.63s\tremaining: 5.68s\n",
      "223:\tlearn: 0.2309373\ttotal: 1.64s\tremaining: 5.67s\n",
      "224:\tlearn: 0.2297702\ttotal: 1.65s\tremaining: 5.67s\n",
      "225:\tlearn: 0.2288079\ttotal: 1.65s\tremaining: 5.66s\n",
      "226:\tlearn: 0.2278692\ttotal: 1.66s\tremaining: 5.65s\n",
      "227:\tlearn: 0.2270752\ttotal: 1.67s\tremaining: 5.64s\n",
      "228:\tlearn: 0.2257690\ttotal: 1.67s\tremaining: 5.63s\n",
      "229:\tlearn: 0.2246548\ttotal: 1.68s\tremaining: 5.63s\n",
      "230:\tlearn: 0.2234616\ttotal: 1.69s\tremaining: 5.63s\n",
      "231:\tlearn: 0.2228203\ttotal: 1.7s\tremaining: 5.62s\n",
      "232:\tlearn: 0.2217839\ttotal: 1.7s\tremaining: 5.61s\n",
      "233:\tlearn: 0.2205298\ttotal: 1.71s\tremaining: 5.6s\n",
      "234:\tlearn: 0.2194269\ttotal: 1.72s\tremaining: 5.59s\n",
      "235:\tlearn: 0.2184630\ttotal: 1.73s\tremaining: 5.58s\n",
      "236:\tlearn: 0.2171691\ttotal: 1.73s\tremaining: 5.57s\n",
      "237:\tlearn: 0.2159718\ttotal: 1.74s\tremaining: 5.57s\n",
      "238:\tlearn: 0.2149270\ttotal: 1.75s\tremaining: 5.56s\n",
      "239:\tlearn: 0.2139411\ttotal: 1.75s\tremaining: 5.55s\n",
      "240:\tlearn: 0.2127571\ttotal: 1.76s\tremaining: 5.55s\n",
      "241:\tlearn: 0.2113841\ttotal: 1.77s\tremaining: 5.54s\n",
      "242:\tlearn: 0.2105580\ttotal: 1.77s\tremaining: 5.52s\n",
      "243:\tlearn: 0.2095271\ttotal: 1.78s\tremaining: 5.52s\n",
      "244:\tlearn: 0.2085381\ttotal: 1.79s\tremaining: 5.51s\n",
      "245:\tlearn: 0.2072799\ttotal: 1.79s\tremaining: 5.5s\n",
      "246:\tlearn: 0.2065438\ttotal: 1.8s\tremaining: 5.5s\n",
      "247:\tlearn: 0.2053544\ttotal: 1.81s\tremaining: 5.49s\n",
      "248:\tlearn: 0.2043470\ttotal: 1.82s\tremaining: 5.5s\n",
      "249:\tlearn: 0.2033400\ttotal: 1.83s\tremaining: 5.49s\n",
      "250:\tlearn: 0.2028565\ttotal: 1.84s\tremaining: 5.48s\n",
      "251:\tlearn: 0.2018895\ttotal: 1.84s\tremaining: 5.47s\n",
      "252:\tlearn: 0.2010700\ttotal: 1.85s\tremaining: 5.47s\n",
      "253:\tlearn: 0.1999652\ttotal: 1.86s\tremaining: 5.46s\n",
      "254:\tlearn: 0.1992960\ttotal: 1.87s\tremaining: 5.46s\n",
      "255:\tlearn: 0.1980336\ttotal: 1.87s\tremaining: 5.45s\n",
      "256:\tlearn: 0.1974039\ttotal: 1.88s\tremaining: 5.44s\n",
      "257:\tlearn: 0.1962466\ttotal: 1.89s\tremaining: 5.43s\n",
      "258:\tlearn: 0.1950201\ttotal: 1.9s\tremaining: 5.42s\n",
      "259:\tlearn: 0.1939641\ttotal: 1.9s\tremaining: 5.41s\n",
      "260:\tlearn: 0.1929791\ttotal: 1.91s\tremaining: 5.4s\n",
      "261:\tlearn: 0.1919985\ttotal: 1.92s\tremaining: 5.4s\n",
      "262:\tlearn: 0.1913062\ttotal: 1.92s\tremaining: 5.39s\n",
      "263:\tlearn: 0.1905621\ttotal: 1.93s\tremaining: 5.38s\n",
      "264:\tlearn: 0.1899631\ttotal: 1.95s\tremaining: 5.41s\n",
      "265:\tlearn: 0.1894192\ttotal: 1.96s\tremaining: 5.41s\n",
      "266:\tlearn: 0.1890341\ttotal: 1.97s\tremaining: 5.41s\n",
      "267:\tlearn: 0.1880654\ttotal: 1.98s\tremaining: 5.39s\n",
      "268:\tlearn: 0.1873399\ttotal: 1.98s\tremaining: 5.38s\n",
      "269:\tlearn: 0.1868064\ttotal: 1.99s\tremaining: 5.38s\n",
      "270:\tlearn: 0.1858552\ttotal: 2s\tremaining: 5.38s\n",
      "271:\tlearn: 0.1853539\ttotal: 2.01s\tremaining: 5.39s\n",
      "272:\tlearn: 0.1844147\ttotal: 2.02s\tremaining: 5.38s\n",
      "273:\tlearn: 0.1836951\ttotal: 2.03s\tremaining: 5.37s\n",
      "274:\tlearn: 0.1828008\ttotal: 2.03s\tremaining: 5.36s\n",
      "275:\tlearn: 0.1819779\ttotal: 2.04s\tremaining: 5.35s\n",
      "276:\tlearn: 0.1813460\ttotal: 2.05s\tremaining: 5.34s\n",
      "277:\tlearn: 0.1801903\ttotal: 2.05s\tremaining: 5.33s\n",
      "278:\tlearn: 0.1795386\ttotal: 2.06s\tremaining: 5.33s\n",
      "279:\tlearn: 0.1786379\ttotal: 2.07s\tremaining: 5.32s\n",
      "280:\tlearn: 0.1779712\ttotal: 2.08s\tremaining: 5.31s\n",
      "281:\tlearn: 0.1771519\ttotal: 2.08s\tremaining: 5.3s\n",
      "282:\tlearn: 0.1761186\ttotal: 2.09s\tremaining: 5.3s\n",
      "283:\tlearn: 0.1751991\ttotal: 2.1s\tremaining: 5.29s\n",
      "284:\tlearn: 0.1746340\ttotal: 2.11s\tremaining: 5.29s\n",
      "285:\tlearn: 0.1739662\ttotal: 2.12s\tremaining: 5.28s\n",
      "286:\tlearn: 0.1732597\ttotal: 2.12s\tremaining: 5.27s\n",
      "287:\tlearn: 0.1726040\ttotal: 2.13s\tremaining: 5.26s\n",
      "288:\tlearn: 0.1718226\ttotal: 2.13s\tremaining: 5.25s\n",
      "289:\tlearn: 0.1712086\ttotal: 2.14s\tremaining: 5.24s\n",
      "290:\tlearn: 0.1705087\ttotal: 2.15s\tremaining: 5.24s\n",
      "291:\tlearn: 0.1701391\ttotal: 2.16s\tremaining: 5.23s\n",
      "292:\tlearn: 0.1697675\ttotal: 2.16s\tremaining: 5.22s\n",
      "293:\tlearn: 0.1691531\ttotal: 2.18s\tremaining: 5.23s\n",
      "294:\tlearn: 0.1679995\ttotal: 2.18s\tremaining: 5.22s\n",
      "295:\tlearn: 0.1674163\ttotal: 2.19s\tremaining: 5.21s\n",
      "296:\tlearn: 0.1671102\ttotal: 2.2s\tremaining: 5.2s\n",
      "297:\tlearn: 0.1665521\ttotal: 2.21s\tremaining: 5.2s\n",
      "298:\tlearn: 0.1659266\ttotal: 2.22s\tremaining: 5.2s\n",
      "299:\tlearn: 0.1652690\ttotal: 2.23s\tremaining: 5.19s\n",
      "300:\tlearn: 0.1648718\ttotal: 2.24s\tremaining: 5.19s\n",
      "301:\tlearn: 0.1643624\ttotal: 2.25s\tremaining: 5.19s\n",
      "302:\tlearn: 0.1636838\ttotal: 2.25s\tremaining: 5.18s\n",
      "303:\tlearn: 0.1632037\ttotal: 2.26s\tremaining: 5.18s\n",
      "304:\tlearn: 0.1626995\ttotal: 2.27s\tremaining: 5.17s\n",
      "305:\tlearn: 0.1620154\ttotal: 2.27s\tremaining: 5.16s\n",
      "306:\tlearn: 0.1612594\ttotal: 2.28s\tremaining: 5.15s\n",
      "307:\tlearn: 0.1603984\ttotal: 2.29s\tremaining: 5.14s\n",
      "308:\tlearn: 0.1597892\ttotal: 2.29s\tremaining: 5.13s\n",
      "309:\tlearn: 0.1595443\ttotal: 2.3s\tremaining: 5.12s\n",
      "310:\tlearn: 0.1588174\ttotal: 2.31s\tremaining: 5.11s\n",
      "311:\tlearn: 0.1578982\ttotal: 2.31s\tremaining: 5.1s\n",
      "312:\tlearn: 0.1572680\ttotal: 2.32s\tremaining: 5.09s\n",
      "313:\tlearn: 0.1568992\ttotal: 2.33s\tremaining: 5.09s\n",
      "314:\tlearn: 0.1562292\ttotal: 2.33s\tremaining: 5.08s\n",
      "315:\tlearn: 0.1555413\ttotal: 2.34s\tremaining: 5.07s\n",
      "316:\tlearn: 0.1551299\ttotal: 2.35s\tremaining: 5.06s\n",
      "317:\tlearn: 0.1542691\ttotal: 2.36s\tremaining: 5.06s\n",
      "318:\tlearn: 0.1536730\ttotal: 2.37s\tremaining: 5.05s\n",
      "319:\tlearn: 0.1528736\ttotal: 2.37s\tremaining: 5.04s\n",
      "320:\tlearn: 0.1522809\ttotal: 2.38s\tremaining: 5.04s\n",
      "321:\tlearn: 0.1511412\ttotal: 2.39s\tremaining: 5.03s\n",
      "322:\tlearn: 0.1505898\ttotal: 2.4s\tremaining: 5.02s\n",
      "323:\tlearn: 0.1501226\ttotal: 2.41s\tremaining: 5.02s\n",
      "324:\tlearn: 0.1495990\ttotal: 2.41s\tremaining: 5.01s\n",
      "325:\tlearn: 0.1491307\ttotal: 2.42s\tremaining: 5s\n",
      "326:\tlearn: 0.1485541\ttotal: 2.43s\tremaining: 5s\n",
      "327:\tlearn: 0.1480683\ttotal: 2.44s\tremaining: 4.99s\n",
      "328:\tlearn: 0.1476857\ttotal: 2.44s\tremaining: 4.98s\n",
      "329:\tlearn: 0.1472860\ttotal: 2.45s\tremaining: 4.97s\n",
      "330:\tlearn: 0.1468402\ttotal: 2.46s\tremaining: 4.96s\n",
      "331:\tlearn: 0.1461922\ttotal: 2.46s\tremaining: 4.96s\n",
      "332:\tlearn: 0.1457267\ttotal: 2.47s\tremaining: 4.95s\n",
      "333:\tlearn: 0.1450375\ttotal: 2.48s\tremaining: 4.94s\n",
      "334:\tlearn: 0.1446537\ttotal: 2.48s\tremaining: 4.93s\n",
      "335:\tlearn: 0.1442030\ttotal: 2.49s\tremaining: 4.93s\n",
      "336:\tlearn: 0.1435970\ttotal: 2.5s\tremaining: 4.92s\n",
      "337:\tlearn: 0.1430041\ttotal: 2.51s\tremaining: 4.91s\n",
      "338:\tlearn: 0.1422032\ttotal: 2.52s\tremaining: 4.9s\n",
      "339:\tlearn: 0.1416819\ttotal: 2.52s\tremaining: 4.9s\n",
      "340:\tlearn: 0.1414170\ttotal: 2.53s\tremaining: 4.89s\n",
      "341:\tlearn: 0.1409343\ttotal: 2.53s\tremaining: 4.88s\n",
      "342:\tlearn: 0.1405263\ttotal: 2.54s\tremaining: 4.87s\n",
      "343:\tlearn: 0.1399231\ttotal: 2.55s\tremaining: 4.86s\n",
      "344:\tlearn: 0.1393371\ttotal: 2.56s\tremaining: 4.85s\n",
      "345:\tlearn: 0.1389868\ttotal: 2.56s\tremaining: 4.84s\n",
      "346:\tlearn: 0.1387692\ttotal: 2.57s\tremaining: 4.83s\n",
      "347:\tlearn: 0.1383403\ttotal: 2.57s\tremaining: 4.82s\n",
      "348:\tlearn: 0.1378239\ttotal: 2.58s\tremaining: 4.81s\n",
      "349:\tlearn: 0.1373503\ttotal: 2.59s\tremaining: 4.81s\n",
      "350:\tlearn: 0.1369045\ttotal: 2.59s\tremaining: 4.8s\n",
      "351:\tlearn: 0.1365528\ttotal: 2.6s\tremaining: 4.8s\n",
      "352:\tlearn: 0.1361176\ttotal: 2.61s\tremaining: 4.79s\n",
      "353:\tlearn: 0.1357909\ttotal: 2.62s\tremaining: 4.78s\n",
      "354:\tlearn: 0.1352638\ttotal: 2.63s\tremaining: 4.78s\n",
      "355:\tlearn: 0.1348697\ttotal: 2.64s\tremaining: 4.77s\n",
      "356:\tlearn: 0.1343257\ttotal: 2.65s\tremaining: 4.77s\n",
      "357:\tlearn: 0.1338009\ttotal: 2.65s\tremaining: 4.76s\n",
      "358:\tlearn: 0.1331964\ttotal: 2.66s\tremaining: 4.75s\n",
      "359:\tlearn: 0.1328058\ttotal: 2.67s\tremaining: 4.74s\n",
      "360:\tlearn: 0.1323027\ttotal: 2.67s\tremaining: 4.73s\n",
      "361:\tlearn: 0.1317676\ttotal: 2.68s\tremaining: 4.72s\n",
      "362:\tlearn: 0.1312862\ttotal: 2.69s\tremaining: 4.72s\n",
      "363:\tlearn: 0.1309611\ttotal: 2.69s\tremaining: 4.71s\n",
      "364:\tlearn: 0.1303877\ttotal: 2.7s\tremaining: 4.7s\n",
      "365:\tlearn: 0.1299562\ttotal: 2.71s\tremaining: 4.7s\n",
      "366:\tlearn: 0.1294747\ttotal: 2.72s\tremaining: 4.68s\n",
      "367:\tlearn: 0.1291078\ttotal: 2.72s\tremaining: 4.68s\n",
      "368:\tlearn: 0.1286085\ttotal: 2.73s\tremaining: 4.67s\n",
      "369:\tlearn: 0.1282263\ttotal: 2.74s\tremaining: 4.66s\n",
      "370:\tlearn: 0.1277600\ttotal: 2.75s\tremaining: 4.65s\n",
      "371:\tlearn: 0.1272208\ttotal: 2.75s\tremaining: 4.65s\n",
      "372:\tlearn: 0.1267579\ttotal: 2.76s\tremaining: 4.64s\n",
      "373:\tlearn: 0.1264088\ttotal: 2.77s\tremaining: 4.63s\n",
      "374:\tlearn: 0.1259389\ttotal: 2.77s\tremaining: 4.62s\n",
      "375:\tlearn: 0.1254999\ttotal: 2.78s\tremaining: 4.61s\n",
      "376:\tlearn: 0.1250111\ttotal: 2.79s\tremaining: 4.61s\n",
      "377:\tlearn: 0.1244839\ttotal: 2.79s\tremaining: 4.6s\n",
      "378:\tlearn: 0.1240989\ttotal: 2.8s\tremaining: 4.6s\n",
      "379:\tlearn: 0.1236107\ttotal: 2.81s\tremaining: 4.59s\n",
      "380:\tlearn: 0.1232205\ttotal: 2.82s\tremaining: 4.58s\n",
      "381:\tlearn: 0.1229009\ttotal: 2.83s\tremaining: 4.57s\n",
      "382:\tlearn: 0.1223783\ttotal: 2.83s\tremaining: 4.57s\n",
      "383:\tlearn: 0.1219820\ttotal: 2.84s\tremaining: 4.56s\n",
      "384:\tlearn: 0.1214807\ttotal: 2.85s\tremaining: 4.55s\n",
      "385:\tlearn: 0.1212098\ttotal: 2.85s\tremaining: 4.54s\n",
      "386:\tlearn: 0.1208128\ttotal: 2.86s\tremaining: 4.53s\n",
      "387:\tlearn: 0.1203656\ttotal: 2.87s\tremaining: 4.52s\n",
      "388:\tlearn: 0.1200713\ttotal: 2.87s\tremaining: 4.51s\n",
      "389:\tlearn: 0.1196550\ttotal: 2.88s\tremaining: 4.5s\n",
      "390:\tlearn: 0.1191815\ttotal: 2.89s\tremaining: 4.5s\n",
      "391:\tlearn: 0.1188122\ttotal: 2.89s\tremaining: 4.49s\n",
      "392:\tlearn: 0.1185415\ttotal: 2.9s\tremaining: 4.48s\n",
      "393:\tlearn: 0.1182238\ttotal: 2.93s\tremaining: 4.5s\n",
      "394:\tlearn: 0.1179107\ttotal: 2.94s\tremaining: 4.5s\n",
      "395:\tlearn: 0.1175517\ttotal: 2.95s\tremaining: 4.5s\n",
      "396:\tlearn: 0.1169561\ttotal: 2.96s\tremaining: 4.49s\n",
      "397:\tlearn: 0.1164719\ttotal: 2.96s\tremaining: 4.48s\n",
      "398:\tlearn: 0.1160898\ttotal: 2.97s\tremaining: 4.47s\n",
      "399:\tlearn: 0.1157914\ttotal: 2.98s\tremaining: 4.47s\n",
      "400:\tlearn: 0.1154318\ttotal: 2.98s\tremaining: 4.46s\n",
      "401:\tlearn: 0.1151168\ttotal: 2.99s\tremaining: 4.45s\n",
      "402:\tlearn: 0.1149030\ttotal: 3s\tremaining: 4.44s\n",
      "403:\tlearn: 0.1145553\ttotal: 3.01s\tremaining: 4.44s\n",
      "404:\tlearn: 0.1142011\ttotal: 3.01s\tremaining: 4.43s\n",
      "405:\tlearn: 0.1139028\ttotal: 3.02s\tremaining: 4.42s\n",
      "406:\tlearn: 0.1135455\ttotal: 3.03s\tremaining: 4.41s\n",
      "407:\tlearn: 0.1131979\ttotal: 3.04s\tremaining: 4.41s\n",
      "408:\tlearn: 0.1129687\ttotal: 3.04s\tremaining: 4.4s\n",
      "409:\tlearn: 0.1126028\ttotal: 3.05s\tremaining: 4.39s\n",
      "410:\tlearn: 0.1122635\ttotal: 3.06s\tremaining: 4.38s\n",
      "411:\tlearn: 0.1120023\ttotal: 3.07s\tremaining: 4.38s\n",
      "412:\tlearn: 0.1116716\ttotal: 3.07s\tremaining: 4.37s\n",
      "413:\tlearn: 0.1113386\ttotal: 3.08s\tremaining: 4.36s\n",
      "414:\tlearn: 0.1110773\ttotal: 3.09s\tremaining: 4.35s\n",
      "415:\tlearn: 0.1108105\ttotal: 3.1s\tremaining: 4.35s\n",
      "416:\tlearn: 0.1105894\ttotal: 3.1s\tremaining: 4.34s\n",
      "417:\tlearn: 0.1103031\ttotal: 3.11s\tremaining: 4.33s\n",
      "418:\tlearn: 0.1099802\ttotal: 3.12s\tremaining: 4.33s\n",
      "419:\tlearn: 0.1096382\ttotal: 3.13s\tremaining: 4.32s\n",
      "420:\tlearn: 0.1093106\ttotal: 3.13s\tremaining: 4.31s\n",
      "421:\tlearn: 0.1090899\ttotal: 3.14s\tremaining: 4.3s\n",
      "422:\tlearn: 0.1088527\ttotal: 3.15s\tremaining: 4.29s\n",
      "423:\tlearn: 0.1085100\ttotal: 3.15s\tremaining: 4.29s\n",
      "424:\tlearn: 0.1082454\ttotal: 3.17s\tremaining: 4.28s\n",
      "425:\tlearn: 0.1078067\ttotal: 3.17s\tremaining: 4.28s\n",
      "426:\tlearn: 0.1074064\ttotal: 3.18s\tremaining: 4.27s\n",
      "427:\tlearn: 0.1070592\ttotal: 3.19s\tremaining: 4.26s\n",
      "428:\tlearn: 0.1067056\ttotal: 3.19s\tremaining: 4.25s\n",
      "429:\tlearn: 0.1064272\ttotal: 3.21s\tremaining: 4.25s\n",
      "430:\tlearn: 0.1062023\ttotal: 3.22s\tremaining: 4.25s\n",
      "431:\tlearn: 0.1058573\ttotal: 3.23s\tremaining: 4.24s\n",
      "432:\tlearn: 0.1056439\ttotal: 3.23s\tremaining: 4.23s\n",
      "433:\tlearn: 0.1053955\ttotal: 3.24s\tremaining: 4.22s\n",
      "434:\tlearn: 0.1050234\ttotal: 3.25s\tremaining: 4.21s\n",
      "435:\tlearn: 0.1047268\ttotal: 3.25s\tremaining: 4.21s\n",
      "436:\tlearn: 0.1044195\ttotal: 3.26s\tremaining: 4.2s\n",
      "437:\tlearn: 0.1041440\ttotal: 3.27s\tremaining: 4.19s\n",
      "438:\tlearn: 0.1037980\ttotal: 3.27s\tremaining: 4.18s\n",
      "439:\tlearn: 0.1034536\ttotal: 3.28s\tremaining: 4.17s\n",
      "440:\tlearn: 0.1030683\ttotal: 3.29s\tremaining: 4.17s\n",
      "441:\tlearn: 0.1027605\ttotal: 3.29s\tremaining: 4.16s\n",
      "442:\tlearn: 0.1025901\ttotal: 3.3s\tremaining: 4.15s\n",
      "443:\tlearn: 0.1021904\ttotal: 3.31s\tremaining: 4.14s\n",
      "444:\tlearn: 0.1018180\ttotal: 3.31s\tremaining: 4.13s\n",
      "445:\tlearn: 0.1015601\ttotal: 3.32s\tremaining: 4.12s\n",
      "446:\tlearn: 0.1013054\ttotal: 3.33s\tremaining: 4.12s\n",
      "447:\tlearn: 0.1009444\ttotal: 3.33s\tremaining: 4.11s\n",
      "448:\tlearn: 0.1006798\ttotal: 3.34s\tremaining: 4.1s\n",
      "449:\tlearn: 0.1005630\ttotal: 3.35s\tremaining: 4.09s\n",
      "450:\tlearn: 0.1002973\ttotal: 3.35s\tremaining: 4.08s\n",
      "451:\tlearn: 0.1001151\ttotal: 3.36s\tremaining: 4.07s\n",
      "452:\tlearn: 0.0998798\ttotal: 3.37s\tremaining: 4.07s\n",
      "453:\tlearn: 0.0996490\ttotal: 3.37s\tremaining: 4.06s\n",
      "454:\tlearn: 0.0992947\ttotal: 3.38s\tremaining: 4.05s\n",
      "455:\tlearn: 0.0990563\ttotal: 3.39s\tremaining: 4.04s\n",
      "456:\tlearn: 0.0987398\ttotal: 3.4s\tremaining: 4.04s\n",
      "457:\tlearn: 0.0985067\ttotal: 3.41s\tremaining: 4.03s\n",
      "458:\tlearn: 0.0981931\ttotal: 3.41s\tremaining: 4.02s\n",
      "459:\tlearn: 0.0978281\ttotal: 3.42s\tremaining: 4.02s\n",
      "460:\tlearn: 0.0975615\ttotal: 3.43s\tremaining: 4.01s\n",
      "461:\tlearn: 0.0973161\ttotal: 3.43s\tremaining: 4s\n",
      "462:\tlearn: 0.0968819\ttotal: 3.44s\tremaining: 3.99s\n",
      "463:\tlearn: 0.0966351\ttotal: 3.45s\tremaining: 3.98s\n",
      "464:\tlearn: 0.0964832\ttotal: 3.46s\tremaining: 3.98s\n",
      "465:\tlearn: 0.0961260\ttotal: 3.46s\tremaining: 3.97s\n",
      "466:\tlearn: 0.0959258\ttotal: 3.47s\tremaining: 3.96s\n",
      "467:\tlearn: 0.0957356\ttotal: 3.48s\tremaining: 3.95s\n",
      "468:\tlearn: 0.0954102\ttotal: 3.48s\tremaining: 3.94s\n",
      "469:\tlearn: 0.0951399\ttotal: 3.49s\tremaining: 3.94s\n",
      "470:\tlearn: 0.0947982\ttotal: 3.5s\tremaining: 3.93s\n",
      "471:\tlearn: 0.0946309\ttotal: 3.5s\tremaining: 3.92s\n",
      "472:\tlearn: 0.0943764\ttotal: 3.51s\tremaining: 3.91s\n",
      "473:\tlearn: 0.0941067\ttotal: 3.52s\tremaining: 3.9s\n",
      "474:\tlearn: 0.0937965\ttotal: 3.52s\tremaining: 3.9s\n",
      "475:\tlearn: 0.0936288\ttotal: 3.53s\tremaining: 3.89s\n",
      "476:\tlearn: 0.0934338\ttotal: 3.54s\tremaining: 3.88s\n",
      "477:\tlearn: 0.0932026\ttotal: 3.54s\tremaining: 3.87s\n",
      "478:\tlearn: 0.0928702\ttotal: 3.55s\tremaining: 3.86s\n",
      "479:\tlearn: 0.0926625\ttotal: 3.56s\tremaining: 3.85s\n",
      "480:\tlearn: 0.0923679\ttotal: 3.56s\tremaining: 3.85s\n",
      "481:\tlearn: 0.0921327\ttotal: 3.57s\tremaining: 3.84s\n",
      "482:\tlearn: 0.0919289\ttotal: 3.58s\tremaining: 3.83s\n",
      "483:\tlearn: 0.0917387\ttotal: 3.59s\tremaining: 3.83s\n",
      "484:\tlearn: 0.0915693\ttotal: 3.6s\tremaining: 3.82s\n",
      "485:\tlearn: 0.0913686\ttotal: 3.6s\tremaining: 3.81s\n",
      "486:\tlearn: 0.0911904\ttotal: 3.61s\tremaining: 3.8s\n",
      "487:\tlearn: 0.0909885\ttotal: 3.62s\tremaining: 3.79s\n",
      "488:\tlearn: 0.0907549\ttotal: 3.62s\tremaining: 3.79s\n",
      "489:\tlearn: 0.0905440\ttotal: 3.63s\tremaining: 3.78s\n",
      "490:\tlearn: 0.0903423\ttotal: 3.64s\tremaining: 3.77s\n",
      "491:\tlearn: 0.0901051\ttotal: 3.65s\tremaining: 3.77s\n",
      "492:\tlearn: 0.0898428\ttotal: 3.65s\tremaining: 3.76s\n",
      "493:\tlearn: 0.0896074\ttotal: 3.66s\tremaining: 3.75s\n",
      "494:\tlearn: 0.0893911\ttotal: 3.67s\tremaining: 3.74s\n",
      "495:\tlearn: 0.0891102\ttotal: 3.67s\tremaining: 3.73s\n",
      "496:\tlearn: 0.0888940\ttotal: 3.68s\tremaining: 3.73s\n",
      "497:\tlearn: 0.0886959\ttotal: 3.69s\tremaining: 3.72s\n",
      "498:\tlearn: 0.0885099\ttotal: 3.7s\tremaining: 3.71s\n",
      "499:\tlearn: 0.0882875\ttotal: 3.7s\tremaining: 3.7s\n",
      "500:\tlearn: 0.0881432\ttotal: 3.71s\tremaining: 3.7s\n",
      "501:\tlearn: 0.0879276\ttotal: 3.72s\tremaining: 3.69s\n",
      "502:\tlearn: 0.0877386\ttotal: 3.73s\tremaining: 3.68s\n",
      "503:\tlearn: 0.0875073\ttotal: 3.73s\tremaining: 3.67s\n",
      "504:\tlearn: 0.0872786\ttotal: 3.74s\tremaining: 3.67s\n",
      "505:\tlearn: 0.0871680\ttotal: 3.75s\tremaining: 3.66s\n",
      "506:\tlearn: 0.0869744\ttotal: 3.75s\tremaining: 3.65s\n",
      "507:\tlearn: 0.0867226\ttotal: 3.76s\tremaining: 3.64s\n",
      "508:\tlearn: 0.0866054\ttotal: 3.77s\tremaining: 3.63s\n",
      "509:\tlearn: 0.0863611\ttotal: 3.77s\tremaining: 3.63s\n",
      "510:\tlearn: 0.0861815\ttotal: 3.78s\tremaining: 3.62s\n",
      "511:\tlearn: 0.0860684\ttotal: 3.79s\tremaining: 3.62s\n",
      "512:\tlearn: 0.0859127\ttotal: 3.8s\tremaining: 3.61s\n",
      "513:\tlearn: 0.0858102\ttotal: 3.81s\tremaining: 3.6s\n",
      "514:\tlearn: 0.0856017\ttotal: 3.81s\tremaining: 3.59s\n",
      "515:\tlearn: 0.0853574\ttotal: 3.82s\tremaining: 3.58s\n",
      "516:\tlearn: 0.0850647\ttotal: 3.83s\tremaining: 3.58s\n",
      "517:\tlearn: 0.0848751\ttotal: 3.83s\tremaining: 3.57s\n",
      "518:\tlearn: 0.0846230\ttotal: 3.84s\tremaining: 3.56s\n",
      "519:\tlearn: 0.0844346\ttotal: 3.85s\tremaining: 3.55s\n",
      "520:\tlearn: 0.0842750\ttotal: 3.85s\tremaining: 3.54s\n",
      "521:\tlearn: 0.0840586\ttotal: 3.86s\tremaining: 3.54s\n",
      "522:\tlearn: 0.0838498\ttotal: 3.87s\tremaining: 3.53s\n",
      "523:\tlearn: 0.0837102\ttotal: 3.88s\tremaining: 3.52s\n",
      "524:\tlearn: 0.0835065\ttotal: 3.88s\tremaining: 3.51s\n",
      "525:\tlearn: 0.0833688\ttotal: 3.9s\tremaining: 3.52s\n",
      "526:\tlearn: 0.0831796\ttotal: 3.92s\tremaining: 3.52s\n",
      "527:\tlearn: 0.0830415\ttotal: 3.92s\tremaining: 3.51s\n",
      "528:\tlearn: 0.0828255\ttotal: 3.93s\tremaining: 3.5s\n",
      "529:\tlearn: 0.0826160\ttotal: 3.94s\tremaining: 3.49s\n",
      "530:\tlearn: 0.0824113\ttotal: 3.94s\tremaining: 3.48s\n",
      "531:\tlearn: 0.0822210\ttotal: 3.95s\tremaining: 3.48s\n",
      "532:\tlearn: 0.0820610\ttotal: 3.96s\tremaining: 3.47s\n",
      "533:\tlearn: 0.0818589\ttotal: 3.97s\tremaining: 3.46s\n",
      "534:\tlearn: 0.0816669\ttotal: 3.98s\tremaining: 3.46s\n",
      "535:\tlearn: 0.0814537\ttotal: 3.99s\tremaining: 3.45s\n",
      "536:\tlearn: 0.0813083\ttotal: 3.99s\tremaining: 3.44s\n",
      "537:\tlearn: 0.0811250\ttotal: 4s\tremaining: 3.44s\n",
      "538:\tlearn: 0.0809527\ttotal: 4.01s\tremaining: 3.43s\n",
      "539:\tlearn: 0.0807584\ttotal: 4.01s\tremaining: 3.42s\n",
      "540:\tlearn: 0.0806176\ttotal: 4.02s\tremaining: 3.41s\n",
      "541:\tlearn: 0.0804173\ttotal: 4.03s\tremaining: 3.4s\n",
      "542:\tlearn: 0.0802173\ttotal: 4.03s\tremaining: 3.4s\n",
      "543:\tlearn: 0.0799716\ttotal: 4.04s\tremaining: 3.39s\n",
      "544:\tlearn: 0.0798197\ttotal: 4.05s\tremaining: 3.38s\n",
      "545:\tlearn: 0.0796283\ttotal: 4.05s\tremaining: 3.37s\n",
      "546:\tlearn: 0.0794633\ttotal: 4.06s\tremaining: 3.36s\n",
      "547:\tlearn: 0.0793309\ttotal: 4.07s\tremaining: 3.35s\n",
      "548:\tlearn: 0.0791699\ttotal: 4.07s\tremaining: 3.35s\n",
      "549:\tlearn: 0.0790329\ttotal: 4.08s\tremaining: 3.34s\n",
      "550:\tlearn: 0.0788965\ttotal: 4.09s\tremaining: 3.33s\n",
      "551:\tlearn: 0.0786255\ttotal: 4.09s\tremaining: 3.32s\n",
      "552:\tlearn: 0.0784449\ttotal: 4.1s\tremaining: 3.31s\n",
      "553:\tlearn: 0.0782720\ttotal: 4.11s\tremaining: 3.31s\n",
      "554:\tlearn: 0.0781143\ttotal: 4.12s\tremaining: 3.3s\n",
      "555:\tlearn: 0.0778948\ttotal: 4.12s\tremaining: 3.29s\n",
      "556:\tlearn: 0.0777327\ttotal: 4.13s\tremaining: 3.28s\n",
      "557:\tlearn: 0.0774363\ttotal: 4.14s\tremaining: 3.28s\n",
      "558:\tlearn: 0.0772924\ttotal: 4.14s\tremaining: 3.27s\n",
      "559:\tlearn: 0.0770904\ttotal: 4.15s\tremaining: 3.26s\n",
      "560:\tlearn: 0.0769211\ttotal: 4.16s\tremaining: 3.25s\n",
      "561:\tlearn: 0.0766491\ttotal: 4.16s\tremaining: 3.24s\n",
      "562:\tlearn: 0.0765216\ttotal: 4.18s\tremaining: 3.24s\n",
      "563:\tlearn: 0.0764001\ttotal: 4.19s\tremaining: 3.24s\n",
      "564:\tlearn: 0.0762732\ttotal: 4.2s\tremaining: 3.23s\n",
      "565:\tlearn: 0.0761658\ttotal: 4.2s\tremaining: 3.22s\n",
      "566:\tlearn: 0.0760462\ttotal: 4.21s\tremaining: 3.21s\n",
      "567:\tlearn: 0.0758686\ttotal: 4.22s\tremaining: 3.21s\n",
      "568:\tlearn: 0.0757251\ttotal: 4.23s\tremaining: 3.2s\n",
      "569:\tlearn: 0.0756369\ttotal: 4.24s\tremaining: 3.19s\n",
      "570:\tlearn: 0.0754512\ttotal: 4.24s\tremaining: 3.19s\n",
      "571:\tlearn: 0.0752507\ttotal: 4.25s\tremaining: 3.18s\n",
      "572:\tlearn: 0.0750651\ttotal: 4.26s\tremaining: 3.17s\n",
      "573:\tlearn: 0.0748903\ttotal: 4.26s\tremaining: 3.16s\n",
      "574:\tlearn: 0.0747113\ttotal: 4.27s\tremaining: 3.15s\n",
      "575:\tlearn: 0.0744977\ttotal: 4.28s\tremaining: 3.15s\n",
      "576:\tlearn: 0.0743642\ttotal: 4.28s\tremaining: 3.14s\n",
      "577:\tlearn: 0.0742358\ttotal: 4.29s\tremaining: 3.13s\n",
      "578:\tlearn: 0.0740735\ttotal: 4.29s\tremaining: 3.12s\n",
      "579:\tlearn: 0.0739207\ttotal: 4.3s\tremaining: 3.12s\n",
      "580:\tlearn: 0.0737641\ttotal: 4.32s\tremaining: 3.11s\n",
      "581:\tlearn: 0.0736430\ttotal: 4.32s\tremaining: 3.1s\n",
      "582:\tlearn: 0.0735270\ttotal: 4.33s\tremaining: 3.1s\n",
      "583:\tlearn: 0.0734248\ttotal: 4.34s\tremaining: 3.09s\n",
      "584:\tlearn: 0.0732034\ttotal: 4.34s\tremaining: 3.08s\n",
      "585:\tlearn: 0.0730609\ttotal: 4.35s\tremaining: 3.07s\n",
      "586:\tlearn: 0.0728568\ttotal: 4.36s\tremaining: 3.07s\n",
      "587:\tlearn: 0.0726967\ttotal: 4.37s\tremaining: 3.06s\n",
      "588:\tlearn: 0.0725507\ttotal: 4.37s\tremaining: 3.05s\n",
      "589:\tlearn: 0.0723818\ttotal: 4.38s\tremaining: 3.04s\n",
      "590:\tlearn: 0.0722821\ttotal: 4.39s\tremaining: 3.04s\n",
      "591:\tlearn: 0.0721696\ttotal: 4.4s\tremaining: 3.03s\n",
      "592:\tlearn: 0.0720169\ttotal: 4.4s\tremaining: 3.02s\n",
      "593:\tlearn: 0.0718730\ttotal: 4.41s\tremaining: 3.01s\n",
      "594:\tlearn: 0.0717871\ttotal: 4.41s\tremaining: 3s\n",
      "595:\tlearn: 0.0716378\ttotal: 4.42s\tremaining: 3s\n",
      "596:\tlearn: 0.0715400\ttotal: 4.43s\tremaining: 2.99s\n",
      "597:\tlearn: 0.0713917\ttotal: 4.43s\tremaining: 2.98s\n",
      "598:\tlearn: 0.0712499\ttotal: 4.44s\tremaining: 2.97s\n",
      "599:\tlearn: 0.0710952\ttotal: 4.45s\tremaining: 2.96s\n",
      "600:\tlearn: 0.0709215\ttotal: 4.45s\tremaining: 2.96s\n",
      "601:\tlearn: 0.0707568\ttotal: 4.46s\tremaining: 2.95s\n",
      "602:\tlearn: 0.0706177\ttotal: 4.47s\tremaining: 2.94s\n",
      "603:\tlearn: 0.0705332\ttotal: 4.47s\tremaining: 2.93s\n",
      "604:\tlearn: 0.0704116\ttotal: 4.48s\tremaining: 2.92s\n",
      "605:\tlearn: 0.0702667\ttotal: 4.49s\tremaining: 2.92s\n",
      "606:\tlearn: 0.0701401\ttotal: 4.49s\tremaining: 2.91s\n",
      "607:\tlearn: 0.0699974\ttotal: 4.5s\tremaining: 2.9s\n",
      "608:\tlearn: 0.0698226\ttotal: 4.51s\tremaining: 2.89s\n",
      "609:\tlearn: 0.0696446\ttotal: 4.51s\tremaining: 2.88s\n",
      "610:\tlearn: 0.0695216\ttotal: 4.52s\tremaining: 2.88s\n",
      "611:\tlearn: 0.0694232\ttotal: 4.53s\tremaining: 2.87s\n",
      "612:\tlearn: 0.0693186\ttotal: 4.53s\tremaining: 2.86s\n",
      "613:\tlearn: 0.0692480\ttotal: 4.54s\tremaining: 2.85s\n",
      "614:\tlearn: 0.0691252\ttotal: 4.55s\tremaining: 2.85s\n",
      "615:\tlearn: 0.0690174\ttotal: 4.55s\tremaining: 2.84s\n",
      "616:\tlearn: 0.0688986\ttotal: 4.56s\tremaining: 2.83s\n",
      "617:\tlearn: 0.0687762\ttotal: 4.57s\tremaining: 2.82s\n",
      "618:\tlearn: 0.0686630\ttotal: 4.58s\tremaining: 2.82s\n",
      "619:\tlearn: 0.0685216\ttotal: 4.58s\tremaining: 2.81s\n",
      "620:\tlearn: 0.0683893\ttotal: 4.59s\tremaining: 2.8s\n",
      "621:\tlearn: 0.0682324\ttotal: 4.6s\tremaining: 2.79s\n",
      "622:\tlearn: 0.0681001\ttotal: 4.61s\tremaining: 2.79s\n",
      "623:\tlearn: 0.0679483\ttotal: 4.61s\tremaining: 2.78s\n",
      "624:\tlearn: 0.0678550\ttotal: 4.62s\tremaining: 2.77s\n",
      "625:\tlearn: 0.0677339\ttotal: 4.63s\tremaining: 2.77s\n",
      "626:\tlearn: 0.0676003\ttotal: 4.63s\tremaining: 2.76s\n",
      "627:\tlearn: 0.0674876\ttotal: 4.64s\tremaining: 2.75s\n",
      "628:\tlearn: 0.0673649\ttotal: 4.65s\tremaining: 2.74s\n",
      "629:\tlearn: 0.0671701\ttotal: 4.66s\tremaining: 2.73s\n",
      "630:\tlearn: 0.0670147\ttotal: 4.66s\tremaining: 2.73s\n",
      "631:\tlearn: 0.0669169\ttotal: 4.67s\tremaining: 2.72s\n",
      "632:\tlearn: 0.0667698\ttotal: 4.67s\tremaining: 2.71s\n",
      "633:\tlearn: 0.0666456\ttotal: 4.68s\tremaining: 2.7s\n",
      "634:\tlearn: 0.0665634\ttotal: 4.69s\tremaining: 2.69s\n",
      "635:\tlearn: 0.0664020\ttotal: 4.7s\tremaining: 2.69s\n",
      "636:\tlearn: 0.0662495\ttotal: 4.7s\tremaining: 2.68s\n",
      "637:\tlearn: 0.0661110\ttotal: 4.71s\tremaining: 2.67s\n",
      "638:\tlearn: 0.0659894\ttotal: 4.72s\tremaining: 2.67s\n",
      "639:\tlearn: 0.0658540\ttotal: 4.72s\tremaining: 2.66s\n",
      "640:\tlearn: 0.0657823\ttotal: 4.73s\tremaining: 2.65s\n",
      "641:\tlearn: 0.0656887\ttotal: 4.74s\tremaining: 2.64s\n",
      "642:\tlearn: 0.0655281\ttotal: 4.74s\tremaining: 2.63s\n",
      "643:\tlearn: 0.0653715\ttotal: 4.75s\tremaining: 2.63s\n",
      "644:\tlearn: 0.0652047\ttotal: 4.76s\tremaining: 2.62s\n",
      "645:\tlearn: 0.0650690\ttotal: 4.76s\tremaining: 2.61s\n",
      "646:\tlearn: 0.0649347\ttotal: 4.78s\tremaining: 2.6s\n",
      "647:\tlearn: 0.0647637\ttotal: 4.78s\tremaining: 2.6s\n",
      "648:\tlearn: 0.0646674\ttotal: 4.79s\tremaining: 2.59s\n",
      "649:\tlearn: 0.0645889\ttotal: 4.79s\tremaining: 2.58s\n",
      "650:\tlearn: 0.0644776\ttotal: 4.8s\tremaining: 2.57s\n",
      "651:\tlearn: 0.0642809\ttotal: 4.81s\tremaining: 2.57s\n",
      "652:\tlearn: 0.0641162\ttotal: 4.82s\tremaining: 2.56s\n",
      "653:\tlearn: 0.0640111\ttotal: 4.82s\tremaining: 2.55s\n",
      "654:\tlearn: 0.0639230\ttotal: 4.83s\tremaining: 2.54s\n",
      "655:\tlearn: 0.0637897\ttotal: 4.84s\tremaining: 2.54s\n",
      "656:\tlearn: 0.0636769\ttotal: 4.84s\tremaining: 2.53s\n",
      "657:\tlearn: 0.0635398\ttotal: 4.85s\tremaining: 2.52s\n",
      "658:\tlearn: 0.0633911\ttotal: 4.88s\tremaining: 2.52s\n",
      "659:\tlearn: 0.0632102\ttotal: 4.9s\tremaining: 2.52s\n",
      "660:\tlearn: 0.0630905\ttotal: 4.91s\tremaining: 2.52s\n",
      "661:\tlearn: 0.0629826\ttotal: 4.92s\tremaining: 2.51s\n",
      "662:\tlearn: 0.0628116\ttotal: 4.92s\tremaining: 2.5s\n",
      "663:\tlearn: 0.0626228\ttotal: 4.93s\tremaining: 2.49s\n",
      "664:\tlearn: 0.0625057\ttotal: 4.93s\tremaining: 2.48s\n",
      "665:\tlearn: 0.0623973\ttotal: 4.94s\tremaining: 2.48s\n",
      "666:\tlearn: 0.0622243\ttotal: 4.95s\tremaining: 2.47s\n",
      "667:\tlearn: 0.0620852\ttotal: 4.95s\tremaining: 2.46s\n",
      "668:\tlearn: 0.0619465\ttotal: 4.96s\tremaining: 2.45s\n",
      "669:\tlearn: 0.0618492\ttotal: 4.97s\tremaining: 2.45s\n",
      "670:\tlearn: 0.0617359\ttotal: 4.98s\tremaining: 2.44s\n",
      "671:\tlearn: 0.0615877\ttotal: 4.98s\tremaining: 2.43s\n",
      "672:\tlearn: 0.0615201\ttotal: 4.99s\tremaining: 2.43s\n",
      "673:\tlearn: 0.0613875\ttotal: 5s\tremaining: 2.42s\n",
      "674:\tlearn: 0.0612404\ttotal: 5s\tremaining: 2.41s\n",
      "675:\tlearn: 0.0611273\ttotal: 5.01s\tremaining: 2.4s\n",
      "676:\tlearn: 0.0610451\ttotal: 5.02s\tremaining: 2.39s\n",
      "677:\tlearn: 0.0608954\ttotal: 5.02s\tremaining: 2.39s\n",
      "678:\tlearn: 0.0607730\ttotal: 5.03s\tremaining: 2.38s\n",
      "679:\tlearn: 0.0606389\ttotal: 5.04s\tremaining: 2.37s\n",
      "680:\tlearn: 0.0605578\ttotal: 5.04s\tremaining: 2.36s\n",
      "681:\tlearn: 0.0604715\ttotal: 5.05s\tremaining: 2.35s\n",
      "682:\tlearn: 0.0603661\ttotal: 5.06s\tremaining: 2.35s\n",
      "683:\tlearn: 0.0602705\ttotal: 5.06s\tremaining: 2.34s\n",
      "684:\tlearn: 0.0601513\ttotal: 5.07s\tremaining: 2.33s\n",
      "685:\tlearn: 0.0600679\ttotal: 5.08s\tremaining: 2.32s\n",
      "686:\tlearn: 0.0599845\ttotal: 5.08s\tremaining: 2.32s\n",
      "687:\tlearn: 0.0598851\ttotal: 5.09s\tremaining: 2.31s\n",
      "688:\tlearn: 0.0597712\ttotal: 5.1s\tremaining: 2.3s\n",
      "689:\tlearn: 0.0596625\ttotal: 5.11s\tremaining: 2.29s\n",
      "690:\tlearn: 0.0595161\ttotal: 5.12s\tremaining: 2.29s\n",
      "691:\tlearn: 0.0594239\ttotal: 5.12s\tremaining: 2.28s\n",
      "692:\tlearn: 0.0593058\ttotal: 5.13s\tremaining: 2.27s\n",
      "693:\tlearn: 0.0591756\ttotal: 5.14s\tremaining: 2.27s\n",
      "694:\tlearn: 0.0590553\ttotal: 5.15s\tremaining: 2.26s\n",
      "695:\tlearn: 0.0590005\ttotal: 5.16s\tremaining: 2.25s\n",
      "696:\tlearn: 0.0588806\ttotal: 5.17s\tremaining: 2.25s\n",
      "697:\tlearn: 0.0587574\ttotal: 5.18s\tremaining: 2.24s\n",
      "698:\tlearn: 0.0586579\ttotal: 5.19s\tremaining: 2.23s\n",
      "699:\tlearn: 0.0585767\ttotal: 5.2s\tremaining: 2.23s\n",
      "700:\tlearn: 0.0584558\ttotal: 5.21s\tremaining: 2.22s\n",
      "701:\tlearn: 0.0583852\ttotal: 5.21s\tremaining: 2.21s\n",
      "702:\tlearn: 0.0582967\ttotal: 5.22s\tremaining: 2.21s\n",
      "703:\tlearn: 0.0582101\ttotal: 5.23s\tremaining: 2.2s\n",
      "704:\tlearn: 0.0581127\ttotal: 5.23s\tremaining: 2.19s\n",
      "705:\tlearn: 0.0580261\ttotal: 5.24s\tremaining: 2.18s\n",
      "706:\tlearn: 0.0579468\ttotal: 5.25s\tremaining: 2.17s\n",
      "707:\tlearn: 0.0578745\ttotal: 5.26s\tremaining: 2.17s\n",
      "708:\tlearn: 0.0577844\ttotal: 5.26s\tremaining: 2.16s\n",
      "709:\tlearn: 0.0576502\ttotal: 5.27s\tremaining: 2.15s\n",
      "710:\tlearn: 0.0575583\ttotal: 5.28s\tremaining: 2.15s\n",
      "711:\tlearn: 0.0574750\ttotal: 5.29s\tremaining: 2.14s\n",
      "712:\tlearn: 0.0574347\ttotal: 5.29s\tremaining: 2.13s\n",
      "713:\tlearn: 0.0573271\ttotal: 5.3s\tremaining: 2.12s\n",
      "714:\tlearn: 0.0572647\ttotal: 5.31s\tremaining: 2.12s\n",
      "715:\tlearn: 0.0571604\ttotal: 5.31s\tremaining: 2.11s\n",
      "716:\tlearn: 0.0570305\ttotal: 5.32s\tremaining: 2.1s\n",
      "717:\tlearn: 0.0568997\ttotal: 5.33s\tremaining: 2.09s\n",
      "718:\tlearn: 0.0567854\ttotal: 5.33s\tremaining: 2.08s\n",
      "719:\tlearn: 0.0567148\ttotal: 5.34s\tremaining: 2.08s\n",
      "720:\tlearn: 0.0566565\ttotal: 5.35s\tremaining: 2.07s\n",
      "721:\tlearn: 0.0565265\ttotal: 5.36s\tremaining: 2.06s\n",
      "722:\tlearn: 0.0564052\ttotal: 5.36s\tremaining: 2.06s\n",
      "723:\tlearn: 0.0563044\ttotal: 5.38s\tremaining: 2.05s\n",
      "724:\tlearn: 0.0562359\ttotal: 5.38s\tremaining: 2.04s\n",
      "725:\tlearn: 0.0561619\ttotal: 5.39s\tremaining: 2.03s\n",
      "726:\tlearn: 0.0560918\ttotal: 5.4s\tremaining: 2.03s\n",
      "727:\tlearn: 0.0559959\ttotal: 5.4s\tremaining: 2.02s\n",
      "728:\tlearn: 0.0559612\ttotal: 5.41s\tremaining: 2.01s\n",
      "729:\tlearn: 0.0558879\ttotal: 5.42s\tremaining: 2s\n",
      "730:\tlearn: 0.0557726\ttotal: 5.43s\tremaining: 2s\n",
      "731:\tlearn: 0.0556587\ttotal: 5.43s\tremaining: 1.99s\n",
      "732:\tlearn: 0.0556029\ttotal: 5.44s\tremaining: 1.98s\n",
      "733:\tlearn: 0.0554763\ttotal: 5.45s\tremaining: 1.97s\n",
      "734:\tlearn: 0.0553975\ttotal: 5.45s\tremaining: 1.97s\n",
      "735:\tlearn: 0.0552838\ttotal: 5.46s\tremaining: 1.96s\n",
      "736:\tlearn: 0.0552044\ttotal: 5.47s\tremaining: 1.95s\n",
      "737:\tlearn: 0.0551154\ttotal: 5.47s\tremaining: 1.94s\n",
      "738:\tlearn: 0.0549965\ttotal: 5.48s\tremaining: 1.94s\n",
      "739:\tlearn: 0.0549333\ttotal: 5.49s\tremaining: 1.93s\n",
      "740:\tlearn: 0.0548363\ttotal: 5.49s\tremaining: 1.92s\n",
      "741:\tlearn: 0.0547492\ttotal: 5.5s\tremaining: 1.91s\n",
      "742:\tlearn: 0.0546395\ttotal: 5.5s\tremaining: 1.9s\n",
      "743:\tlearn: 0.0545615\ttotal: 5.51s\tremaining: 1.9s\n",
      "744:\tlearn: 0.0544718\ttotal: 5.52s\tremaining: 1.89s\n",
      "745:\tlearn: 0.0543761\ttotal: 5.53s\tremaining: 1.88s\n",
      "746:\tlearn: 0.0542545\ttotal: 5.53s\tremaining: 1.87s\n",
      "747:\tlearn: 0.0541193\ttotal: 5.54s\tremaining: 1.87s\n",
      "748:\tlearn: 0.0540115\ttotal: 5.55s\tremaining: 1.86s\n",
      "749:\tlearn: 0.0539334\ttotal: 5.55s\tremaining: 1.85s\n",
      "750:\tlearn: 0.0538707\ttotal: 5.56s\tremaining: 1.84s\n",
      "751:\tlearn: 0.0537962\ttotal: 5.57s\tremaining: 1.84s\n",
      "752:\tlearn: 0.0537199\ttotal: 5.58s\tremaining: 1.83s\n",
      "753:\tlearn: 0.0536317\ttotal: 5.58s\tremaining: 1.82s\n",
      "754:\tlearn: 0.0535277\ttotal: 5.59s\tremaining: 1.81s\n",
      "755:\tlearn: 0.0534433\ttotal: 5.6s\tremaining: 1.81s\n",
      "756:\tlearn: 0.0533306\ttotal: 5.61s\tremaining: 1.8s\n",
      "757:\tlearn: 0.0532424\ttotal: 5.61s\tremaining: 1.79s\n",
      "758:\tlearn: 0.0531425\ttotal: 5.62s\tremaining: 1.78s\n",
      "759:\tlearn: 0.0530625\ttotal: 5.63s\tremaining: 1.78s\n",
      "760:\tlearn: 0.0529720\ttotal: 5.63s\tremaining: 1.77s\n",
      "761:\tlearn: 0.0529120\ttotal: 5.64s\tremaining: 1.76s\n",
      "762:\tlearn: 0.0528255\ttotal: 5.65s\tremaining: 1.75s\n",
      "763:\tlearn: 0.0527306\ttotal: 5.66s\tremaining: 1.75s\n",
      "764:\tlearn: 0.0526489\ttotal: 5.66s\tremaining: 1.74s\n",
      "765:\tlearn: 0.0525707\ttotal: 5.67s\tremaining: 1.73s\n",
      "766:\tlearn: 0.0524609\ttotal: 5.68s\tremaining: 1.73s\n",
      "767:\tlearn: 0.0523905\ttotal: 5.69s\tremaining: 1.72s\n",
      "768:\tlearn: 0.0522932\ttotal: 5.7s\tremaining: 1.71s\n",
      "769:\tlearn: 0.0522112\ttotal: 5.7s\tremaining: 1.7s\n",
      "770:\tlearn: 0.0521294\ttotal: 5.71s\tremaining: 1.7s\n",
      "771:\tlearn: 0.0520465\ttotal: 5.71s\tremaining: 1.69s\n",
      "772:\tlearn: 0.0519567\ttotal: 5.72s\tremaining: 1.68s\n",
      "773:\tlearn: 0.0518908\ttotal: 5.73s\tremaining: 1.67s\n",
      "774:\tlearn: 0.0518176\ttotal: 5.74s\tremaining: 1.67s\n",
      "775:\tlearn: 0.0517487\ttotal: 5.74s\tremaining: 1.66s\n",
      "776:\tlearn: 0.0516619\ttotal: 5.75s\tremaining: 1.65s\n",
      "777:\tlearn: 0.0515989\ttotal: 5.76s\tremaining: 1.64s\n",
      "778:\tlearn: 0.0515499\ttotal: 5.77s\tremaining: 1.64s\n",
      "779:\tlearn: 0.0514599\ttotal: 5.78s\tremaining: 1.63s\n",
      "780:\tlearn: 0.0514101\ttotal: 5.79s\tremaining: 1.62s\n",
      "781:\tlearn: 0.0513141\ttotal: 5.79s\tremaining: 1.61s\n",
      "782:\tlearn: 0.0512266\ttotal: 5.8s\tremaining: 1.61s\n",
      "783:\tlearn: 0.0511714\ttotal: 5.81s\tremaining: 1.6s\n",
      "784:\tlearn: 0.0511001\ttotal: 5.81s\tremaining: 1.59s\n",
      "785:\tlearn: 0.0510326\ttotal: 5.82s\tremaining: 1.58s\n",
      "786:\tlearn: 0.0509660\ttotal: 5.83s\tremaining: 1.58s\n",
      "787:\tlearn: 0.0508945\ttotal: 5.85s\tremaining: 1.57s\n",
      "788:\tlearn: 0.0508289\ttotal: 5.86s\tremaining: 1.57s\n",
      "789:\tlearn: 0.0507426\ttotal: 5.87s\tremaining: 1.56s\n",
      "790:\tlearn: 0.0506705\ttotal: 5.89s\tremaining: 1.56s\n",
      "791:\tlearn: 0.0505922\ttotal: 5.9s\tremaining: 1.55s\n",
      "792:\tlearn: 0.0505380\ttotal: 5.91s\tremaining: 1.54s\n",
      "793:\tlearn: 0.0504853\ttotal: 5.91s\tremaining: 1.53s\n",
      "794:\tlearn: 0.0503877\ttotal: 5.92s\tremaining: 1.53s\n",
      "795:\tlearn: 0.0503284\ttotal: 5.93s\tremaining: 1.52s\n",
      "796:\tlearn: 0.0502573\ttotal: 5.93s\tremaining: 1.51s\n",
      "797:\tlearn: 0.0501659\ttotal: 5.94s\tremaining: 1.5s\n",
      "798:\tlearn: 0.0501218\ttotal: 5.95s\tremaining: 1.5s\n",
      "799:\tlearn: 0.0500586\ttotal: 5.96s\tremaining: 1.49s\n",
      "800:\tlearn: 0.0499910\ttotal: 5.97s\tremaining: 1.48s\n",
      "801:\tlearn: 0.0499145\ttotal: 5.97s\tremaining: 1.48s\n",
      "802:\tlearn: 0.0498210\ttotal: 5.98s\tremaining: 1.47s\n",
      "803:\tlearn: 0.0497587\ttotal: 5.99s\tremaining: 1.46s\n",
      "804:\tlearn: 0.0497030\ttotal: 6s\tremaining: 1.45s\n",
      "805:\tlearn: 0.0496189\ttotal: 6.01s\tremaining: 1.45s\n",
      "806:\tlearn: 0.0494883\ttotal: 6.02s\tremaining: 1.44s\n",
      "807:\tlearn: 0.0493856\ttotal: 6.02s\tremaining: 1.43s\n",
      "808:\tlearn: 0.0492878\ttotal: 6.03s\tremaining: 1.42s\n",
      "809:\tlearn: 0.0492026\ttotal: 6.04s\tremaining: 1.42s\n",
      "810:\tlearn: 0.0491261\ttotal: 6.04s\tremaining: 1.41s\n",
      "811:\tlearn: 0.0490677\ttotal: 6.05s\tremaining: 1.4s\n",
      "812:\tlearn: 0.0490213\ttotal: 6.05s\tremaining: 1.39s\n",
      "813:\tlearn: 0.0489521\ttotal: 6.06s\tremaining: 1.39s\n",
      "814:\tlearn: 0.0489092\ttotal: 6.07s\tremaining: 1.38s\n",
      "815:\tlearn: 0.0488328\ttotal: 6.08s\tremaining: 1.37s\n",
      "816:\tlearn: 0.0487539\ttotal: 6.08s\tremaining: 1.36s\n",
      "817:\tlearn: 0.0486723\ttotal: 6.09s\tremaining: 1.35s\n",
      "818:\tlearn: 0.0485785\ttotal: 6.1s\tremaining: 1.35s\n",
      "819:\tlearn: 0.0485147\ttotal: 6.11s\tremaining: 1.34s\n",
      "820:\tlearn: 0.0484588\ttotal: 6.12s\tremaining: 1.33s\n",
      "821:\tlearn: 0.0483698\ttotal: 6.13s\tremaining: 1.33s\n",
      "822:\tlearn: 0.0482945\ttotal: 6.13s\tremaining: 1.32s\n",
      "823:\tlearn: 0.0482027\ttotal: 6.14s\tremaining: 1.31s\n",
      "824:\tlearn: 0.0481257\ttotal: 6.15s\tremaining: 1.3s\n",
      "825:\tlearn: 0.0480552\ttotal: 6.15s\tremaining: 1.3s\n",
      "826:\tlearn: 0.0479715\ttotal: 6.17s\tremaining: 1.29s\n",
      "827:\tlearn: 0.0478851\ttotal: 6.17s\tremaining: 1.28s\n",
      "828:\tlearn: 0.0478402\ttotal: 6.18s\tremaining: 1.27s\n",
      "829:\tlearn: 0.0477539\ttotal: 6.19s\tremaining: 1.27s\n",
      "830:\tlearn: 0.0476595\ttotal: 6.2s\tremaining: 1.26s\n",
      "831:\tlearn: 0.0476066\ttotal: 6.21s\tremaining: 1.25s\n",
      "832:\tlearn: 0.0475298\ttotal: 6.22s\tremaining: 1.25s\n",
      "833:\tlearn: 0.0474832\ttotal: 6.23s\tremaining: 1.24s\n",
      "834:\tlearn: 0.0474072\ttotal: 6.24s\tremaining: 1.23s\n",
      "835:\tlearn: 0.0473021\ttotal: 6.25s\tremaining: 1.23s\n",
      "836:\tlearn: 0.0472338\ttotal: 6.25s\tremaining: 1.22s\n",
      "837:\tlearn: 0.0471384\ttotal: 6.26s\tremaining: 1.21s\n",
      "838:\tlearn: 0.0470787\ttotal: 6.27s\tremaining: 1.2s\n",
      "839:\tlearn: 0.0470253\ttotal: 6.28s\tremaining: 1.2s\n",
      "840:\tlearn: 0.0469097\ttotal: 6.28s\tremaining: 1.19s\n",
      "841:\tlearn: 0.0468104\ttotal: 6.29s\tremaining: 1.18s\n",
      "842:\tlearn: 0.0467399\ttotal: 6.3s\tremaining: 1.17s\n",
      "843:\tlearn: 0.0466957\ttotal: 6.3s\tremaining: 1.17s\n",
      "844:\tlearn: 0.0466232\ttotal: 6.31s\tremaining: 1.16s\n",
      "845:\tlearn: 0.0465667\ttotal: 6.32s\tremaining: 1.15s\n",
      "846:\tlearn: 0.0464966\ttotal: 6.33s\tremaining: 1.14s\n",
      "847:\tlearn: 0.0464235\ttotal: 6.33s\tremaining: 1.14s\n",
      "848:\tlearn: 0.0463379\ttotal: 6.34s\tremaining: 1.13s\n",
      "849:\tlearn: 0.0462532\ttotal: 6.34s\tremaining: 1.12s\n",
      "850:\tlearn: 0.0461635\ttotal: 6.35s\tremaining: 1.11s\n",
      "851:\tlearn: 0.0461174\ttotal: 6.36s\tremaining: 1.1s\n",
      "852:\tlearn: 0.0460403\ttotal: 6.37s\tremaining: 1.1s\n",
      "853:\tlearn: 0.0459925\ttotal: 6.38s\tremaining: 1.09s\n",
      "854:\tlearn: 0.0459058\ttotal: 6.39s\tremaining: 1.08s\n",
      "855:\tlearn: 0.0458171\ttotal: 6.39s\tremaining: 1.07s\n",
      "856:\tlearn: 0.0457597\ttotal: 6.4s\tremaining: 1.07s\n",
      "857:\tlearn: 0.0456496\ttotal: 6.41s\tremaining: 1.06s\n",
      "858:\tlearn: 0.0455627\ttotal: 6.42s\tremaining: 1.05s\n",
      "859:\tlearn: 0.0455122\ttotal: 6.42s\tremaining: 1.04s\n",
      "860:\tlearn: 0.0454454\ttotal: 6.43s\tremaining: 1.04s\n",
      "861:\tlearn: 0.0453890\ttotal: 6.44s\tremaining: 1.03s\n",
      "862:\tlearn: 0.0453415\ttotal: 6.44s\tremaining: 1.02s\n",
      "863:\tlearn: 0.0453012\ttotal: 6.45s\tremaining: 1.01s\n",
      "864:\tlearn: 0.0452375\ttotal: 6.46s\tremaining: 1.01s\n",
      "865:\tlearn: 0.0452012\ttotal: 6.46s\tremaining: 1s\n",
      "866:\tlearn: 0.0451439\ttotal: 6.47s\tremaining: 993ms\n",
      "867:\tlearn: 0.0450830\ttotal: 6.48s\tremaining: 986ms\n",
      "868:\tlearn: 0.0450104\ttotal: 6.49s\tremaining: 978ms\n",
      "869:\tlearn: 0.0449478\ttotal: 6.5s\tremaining: 971ms\n",
      "870:\tlearn: 0.0448803\ttotal: 6.5s\tremaining: 963ms\n",
      "871:\tlearn: 0.0448338\ttotal: 6.51s\tremaining: 956ms\n",
      "872:\tlearn: 0.0447798\ttotal: 6.52s\tremaining: 949ms\n",
      "873:\tlearn: 0.0447091\ttotal: 6.53s\tremaining: 941ms\n",
      "874:\tlearn: 0.0446505\ttotal: 6.54s\tremaining: 934ms\n",
      "875:\tlearn: 0.0445947\ttotal: 6.54s\tremaining: 926ms\n",
      "876:\tlearn: 0.0445255\ttotal: 6.55s\tremaining: 919ms\n",
      "877:\tlearn: 0.0445016\ttotal: 6.56s\tremaining: 912ms\n",
      "878:\tlearn: 0.0444337\ttotal: 6.57s\tremaining: 904ms\n",
      "879:\tlearn: 0.0443784\ttotal: 6.58s\tremaining: 897ms\n",
      "880:\tlearn: 0.0443001\ttotal: 6.58s\tremaining: 889ms\n",
      "881:\tlearn: 0.0442403\ttotal: 6.59s\tremaining: 882ms\n",
      "882:\tlearn: 0.0441880\ttotal: 6.6s\tremaining: 874ms\n",
      "883:\tlearn: 0.0441455\ttotal: 6.6s\tremaining: 867ms\n",
      "884:\tlearn: 0.0441014\ttotal: 6.61s\tremaining: 859ms\n",
      "885:\tlearn: 0.0440417\ttotal: 6.62s\tremaining: 852ms\n",
      "886:\tlearn: 0.0439713\ttotal: 6.63s\tremaining: 844ms\n",
      "887:\tlearn: 0.0439005\ttotal: 6.63s\tremaining: 837ms\n",
      "888:\tlearn: 0.0438541\ttotal: 6.64s\tremaining: 829ms\n",
      "889:\tlearn: 0.0438022\ttotal: 6.64s\tremaining: 821ms\n",
      "890:\tlearn: 0.0437230\ttotal: 6.65s\tremaining: 814ms\n",
      "891:\tlearn: 0.0436576\ttotal: 6.66s\tremaining: 806ms\n",
      "892:\tlearn: 0.0436017\ttotal: 6.67s\tremaining: 799ms\n",
      "893:\tlearn: 0.0435354\ttotal: 6.67s\tremaining: 791ms\n",
      "894:\tlearn: 0.0435043\ttotal: 6.68s\tremaining: 784ms\n",
      "895:\tlearn: 0.0434614\ttotal: 6.69s\tremaining: 776ms\n",
      "896:\tlearn: 0.0433930\ttotal: 6.69s\tremaining: 769ms\n",
      "897:\tlearn: 0.0433371\ttotal: 6.7s\tremaining: 761ms\n",
      "898:\tlearn: 0.0432819\ttotal: 6.71s\tremaining: 754ms\n",
      "899:\tlearn: 0.0432088\ttotal: 6.71s\tremaining: 746ms\n",
      "900:\tlearn: 0.0431553\ttotal: 6.72s\tremaining: 739ms\n",
      "901:\tlearn: 0.0430853\ttotal: 6.73s\tremaining: 732ms\n",
      "902:\tlearn: 0.0430361\ttotal: 6.74s\tremaining: 724ms\n",
      "903:\tlearn: 0.0429967\ttotal: 6.75s\tremaining: 717ms\n",
      "904:\tlearn: 0.0429176\ttotal: 6.76s\tremaining: 710ms\n",
      "905:\tlearn: 0.0428492\ttotal: 6.77s\tremaining: 702ms\n",
      "906:\tlearn: 0.0427963\ttotal: 6.77s\tremaining: 695ms\n",
      "907:\tlearn: 0.0427306\ttotal: 6.78s\tremaining: 687ms\n",
      "908:\tlearn: 0.0426937\ttotal: 6.79s\tremaining: 679ms\n",
      "909:\tlearn: 0.0426159\ttotal: 6.79s\tremaining: 672ms\n",
      "910:\tlearn: 0.0425604\ttotal: 6.8s\tremaining: 664ms\n",
      "911:\tlearn: 0.0425283\ttotal: 6.81s\tremaining: 657ms\n",
      "912:\tlearn: 0.0424672\ttotal: 6.85s\tremaining: 652ms\n",
      "913:\tlearn: 0.0424205\ttotal: 6.86s\tremaining: 645ms\n",
      "914:\tlearn: 0.0423666\ttotal: 6.88s\tremaining: 639ms\n",
      "915:\tlearn: 0.0423237\ttotal: 6.88s\tremaining: 631ms\n",
      "916:\tlearn: 0.0422661\ttotal: 6.89s\tremaining: 624ms\n",
      "917:\tlearn: 0.0422060\ttotal: 6.9s\tremaining: 617ms\n",
      "918:\tlearn: 0.0421373\ttotal: 6.91s\tremaining: 609ms\n",
      "919:\tlearn: 0.0420840\ttotal: 6.92s\tremaining: 602ms\n",
      "920:\tlearn: 0.0420233\ttotal: 6.92s\tremaining: 594ms\n",
      "921:\tlearn: 0.0419682\ttotal: 6.93s\tremaining: 586ms\n",
      "922:\tlearn: 0.0418925\ttotal: 6.94s\tremaining: 579ms\n",
      "923:\tlearn: 0.0418608\ttotal: 6.94s\tremaining: 571ms\n",
      "924:\tlearn: 0.0418134\ttotal: 6.95s\tremaining: 563ms\n",
      "925:\tlearn: 0.0417418\ttotal: 6.96s\tremaining: 556ms\n",
      "926:\tlearn: 0.0416920\ttotal: 6.97s\tremaining: 549ms\n",
      "927:\tlearn: 0.0416300\ttotal: 6.97s\tremaining: 541ms\n",
      "928:\tlearn: 0.0415645\ttotal: 6.98s\tremaining: 534ms\n",
      "929:\tlearn: 0.0414943\ttotal: 7s\tremaining: 527ms\n",
      "930:\tlearn: 0.0414440\ttotal: 7s\tremaining: 519ms\n",
      "931:\tlearn: 0.0413737\ttotal: 7.01s\tremaining: 512ms\n",
      "932:\tlearn: 0.0413159\ttotal: 7.02s\tremaining: 504ms\n",
      "933:\tlearn: 0.0412620\ttotal: 7.02s\tremaining: 496ms\n",
      "934:\tlearn: 0.0412063\ttotal: 7.03s\tremaining: 489ms\n",
      "935:\tlearn: 0.0411696\ttotal: 7.04s\tremaining: 481ms\n",
      "936:\tlearn: 0.0411361\ttotal: 7.05s\tremaining: 474ms\n",
      "937:\tlearn: 0.0410883\ttotal: 7.05s\tremaining: 466ms\n",
      "938:\tlearn: 0.0410307\ttotal: 7.06s\tremaining: 459ms\n",
      "939:\tlearn: 0.0409730\ttotal: 7.07s\tremaining: 451ms\n",
      "940:\tlearn: 0.0409406\ttotal: 7.08s\tremaining: 444ms\n",
      "941:\tlearn: 0.0408966\ttotal: 7.09s\tremaining: 436ms\n",
      "942:\tlearn: 0.0408497\ttotal: 7.09s\tremaining: 429ms\n",
      "943:\tlearn: 0.0407790\ttotal: 7.1s\tremaining: 421ms\n",
      "944:\tlearn: 0.0407207\ttotal: 7.11s\tremaining: 414ms\n",
      "945:\tlearn: 0.0406612\ttotal: 7.12s\tremaining: 406ms\n",
      "946:\tlearn: 0.0406025\ttotal: 7.12s\tremaining: 399ms\n",
      "947:\tlearn: 0.0405454\ttotal: 7.13s\tremaining: 391ms\n",
      "948:\tlearn: 0.0404852\ttotal: 7.14s\tremaining: 384ms\n",
      "949:\tlearn: 0.0404356\ttotal: 7.14s\tremaining: 376ms\n",
      "950:\tlearn: 0.0403980\ttotal: 7.15s\tremaining: 368ms\n",
      "951:\tlearn: 0.0403319\ttotal: 7.16s\tremaining: 361ms\n",
      "952:\tlearn: 0.0402648\ttotal: 7.17s\tremaining: 353ms\n",
      "953:\tlearn: 0.0402169\ttotal: 7.17s\tremaining: 346ms\n",
      "954:\tlearn: 0.0401675\ttotal: 7.18s\tremaining: 338ms\n",
      "955:\tlearn: 0.0401203\ttotal: 7.19s\tremaining: 331ms\n",
      "956:\tlearn: 0.0400518\ttotal: 7.19s\tremaining: 323ms\n",
      "957:\tlearn: 0.0399975\ttotal: 7.2s\tremaining: 316ms\n",
      "958:\tlearn: 0.0399335\ttotal: 7.21s\tremaining: 308ms\n",
      "959:\tlearn: 0.0398874\ttotal: 7.21s\tremaining: 301ms\n",
      "960:\tlearn: 0.0398179\ttotal: 7.22s\tremaining: 293ms\n",
      "961:\tlearn: 0.0397846\ttotal: 7.23s\tremaining: 285ms\n",
      "962:\tlearn: 0.0397406\ttotal: 7.23s\tremaining: 278ms\n",
      "963:\tlearn: 0.0396640\ttotal: 7.24s\tremaining: 270ms\n",
      "964:\tlearn: 0.0396144\ttotal: 7.25s\tremaining: 263ms\n",
      "965:\tlearn: 0.0395735\ttotal: 7.25s\tremaining: 255ms\n",
      "966:\tlearn: 0.0395327\ttotal: 7.26s\tremaining: 248ms\n",
      "967:\tlearn: 0.0394885\ttotal: 7.27s\tremaining: 240ms\n",
      "968:\tlearn: 0.0394618\ttotal: 7.27s\tremaining: 233ms\n",
      "969:\tlearn: 0.0394170\ttotal: 7.28s\tremaining: 225ms\n",
      "970:\tlearn: 0.0393728\ttotal: 7.29s\tremaining: 218ms\n",
      "971:\tlearn: 0.0393363\ttotal: 7.29s\tremaining: 210ms\n",
      "972:\tlearn: 0.0392984\ttotal: 7.3s\tremaining: 203ms\n",
      "973:\tlearn: 0.0392517\ttotal: 7.31s\tremaining: 195ms\n",
      "974:\tlearn: 0.0392161\ttotal: 7.32s\tremaining: 188ms\n",
      "975:\tlearn: 0.0391604\ttotal: 7.33s\tremaining: 180ms\n",
      "976:\tlearn: 0.0391192\ttotal: 7.33s\tremaining: 173ms\n",
      "977:\tlearn: 0.0390679\ttotal: 7.34s\tremaining: 165ms\n",
      "978:\tlearn: 0.0390207\ttotal: 7.35s\tremaining: 158ms\n",
      "979:\tlearn: 0.0389641\ttotal: 7.36s\tremaining: 150ms\n",
      "980:\tlearn: 0.0389230\ttotal: 7.37s\tremaining: 143ms\n",
      "981:\tlearn: 0.0388738\ttotal: 7.37s\tremaining: 135ms\n",
      "982:\tlearn: 0.0388173\ttotal: 7.38s\tremaining: 128ms\n",
      "983:\tlearn: 0.0387798\ttotal: 7.39s\tremaining: 120ms\n",
      "984:\tlearn: 0.0387313\ttotal: 7.39s\tremaining: 113ms\n",
      "985:\tlearn: 0.0387020\ttotal: 7.4s\tremaining: 105ms\n",
      "986:\tlearn: 0.0386580\ttotal: 7.41s\tremaining: 97.6ms\n",
      "987:\tlearn: 0.0386150\ttotal: 7.41s\tremaining: 90ms\n",
      "988:\tlearn: 0.0385798\ttotal: 7.42s\tremaining: 82.5ms\n",
      "989:\tlearn: 0.0385384\ttotal: 7.43s\tremaining: 75ms\n",
      "990:\tlearn: 0.0385049\ttotal: 7.43s\tremaining: 67.5ms\n",
      "991:\tlearn: 0.0384706\ttotal: 7.44s\tremaining: 60ms\n",
      "992:\tlearn: 0.0384136\ttotal: 7.45s\tremaining: 52.5ms\n",
      "993:\tlearn: 0.0383821\ttotal: 7.45s\tremaining: 45ms\n",
      "994:\tlearn: 0.0383210\ttotal: 7.46s\tremaining: 37.5ms\n",
      "995:\tlearn: 0.0382778\ttotal: 7.47s\tremaining: 30ms\n",
      "996:\tlearn: 0.0382584\ttotal: 7.47s\tremaining: 22.5ms\n",
      "997:\tlearn: 0.0382266\ttotal: 7.48s\tremaining: 15ms\n",
      "998:\tlearn: 0.0381755\ttotal: 7.49s\tremaining: 7.5ms\n",
      "999:\tlearn: 0.0381320\ttotal: 7.49s\tremaining: 0us\n"
     ]
    },
    {
     "data": {
      "text/plain": [
       "<catboost.core.CatBoostClassifier at 0x7f00c3ed5d90>"
      ]
     },
     "execution_count": 46,
     "metadata": {},
     "output_type": "execute_result"
    }
   ],
   "source": [
    "model.fit(train_pool,plot=True,use_best_model=True)"
   ]
  },
  {
   "cell_type": "code",
   "execution_count": null,
   "metadata": {
    "colab": {
     "base_uri": "https://localhost:8080/",
     "height": 202
    },
    "executionInfo": {
     "elapsed": 10,
     "status": "ok",
     "timestamp": 1634099496624,
     "user": {
      "displayName": "황창현",
      "photoUrl": "https://lh3.googleusercontent.com/a/default-user=s64",
      "userId": "05808044836831561135"
     },
     "user_tz": -540
    },
    "id": "1cGEGDmC62xw",
    "outputId": "a9af0c8a-2c4e-47a2-9958-ad5ee78fdfd7"
   },
   "outputs": [
    {
     "data": {
      "text/html": [
       "<div>\n",
       "<style scoped>\n",
       "    .dataframe tbody tr th:only-of-type {\n",
       "        vertical-align: middle;\n",
       "    }\n",
       "\n",
       "    .dataframe tbody tr th {\n",
       "        vertical-align: top;\n",
       "    }\n",
       "\n",
       "    .dataframe thead th {\n",
       "        text-align: right;\n",
       "    }\n",
       "</style>\n",
       "<table border=\"1\" class=\"dataframe\">\n",
       "  <thead>\n",
       "    <tr style=\"text-align: right;\">\n",
       "      <th></th>\n",
       "      <th>월</th>\n",
       "      <th>일</th>\n",
       "      <th>시간</th>\n",
       "      <th>기온(°C)</th>\n",
       "      <th>풍향(deg)</th>\n",
       "      <th>풍속(m/s)</th>\n",
       "      <th>강수량(mm)</th>\n",
       "      <th>습도(%)</th>\n",
       "      <th>주야구분</th>\n",
       "      <th>요일</th>\n",
       "      <th>지역</th>\n",
       "      <th>사고유형대분류</th>\n",
       "    </tr>\n",
       "  </thead>\n",
       "  <tbody>\n",
       "    <tr>\n",
       "      <th>0</th>\n",
       "      <td>1</td>\n",
       "      <td>28</td>\n",
       "      <td>13</td>\n",
       "      <td>1.0</td>\n",
       "      <td>22.2</td>\n",
       "      <td>1.7</td>\n",
       "      <td>0.0</td>\n",
       "      <td>18.9</td>\n",
       "      <td>1</td>\n",
       "      <td>7</td>\n",
       "      <td>2</td>\n",
       "      <td>1</td>\n",
       "    </tr>\n",
       "    <tr>\n",
       "      <th>1</th>\n",
       "      <td>2</td>\n",
       "      <td>3</td>\n",
       "      <td>5</td>\n",
       "      <td>-12.9</td>\n",
       "      <td>78.6</td>\n",
       "      <td>1.3</td>\n",
       "      <td>0.0</td>\n",
       "      <td>66.7</td>\n",
       "      <td>2</td>\n",
       "      <td>6</td>\n",
       "      <td>1</td>\n",
       "      <td>3</td>\n",
       "    </tr>\n",
       "    <tr>\n",
       "      <th>2</th>\n",
       "      <td>2</td>\n",
       "      <td>9</td>\n",
       "      <td>15</td>\n",
       "      <td>0.1</td>\n",
       "      <td>322.1</td>\n",
       "      <td>3.0</td>\n",
       "      <td>0.0</td>\n",
       "      <td>45.7</td>\n",
       "      <td>1</td>\n",
       "      <td>5</td>\n",
       "      <td>8</td>\n",
       "      <td>2</td>\n",
       "    </tr>\n",
       "    <tr>\n",
       "      <th>3</th>\n",
       "      <td>2</td>\n",
       "      <td>13</td>\n",
       "      <td>11</td>\n",
       "      <td>4.0</td>\n",
       "      <td>122.8</td>\n",
       "      <td>1.0</td>\n",
       "      <td>0.0</td>\n",
       "      <td>29.5</td>\n",
       "      <td>1</td>\n",
       "      <td>2</td>\n",
       "      <td>10</td>\n",
       "      <td>2</td>\n",
       "    </tr>\n",
       "    <tr>\n",
       "      <th>4</th>\n",
       "      <td>4</td>\n",
       "      <td>18</td>\n",
       "      <td>18</td>\n",
       "      <td>21.0</td>\n",
       "      <td>301.6</td>\n",
       "      <td>1.7</td>\n",
       "      <td>0.0</td>\n",
       "      <td>29.5</td>\n",
       "      <td>2</td>\n",
       "      <td>4</td>\n",
       "      <td>3</td>\n",
       "      <td>1</td>\n",
       "    </tr>\n",
       "  </tbody>\n",
       "</table>\n",
       "</div>"
      ],
      "text/plain": [
       "   월   일  시간  기온(°C)  풍향(deg)  풍속(m/s)  강수량(mm)  습도(%)  주야구분  요일  지역  사고유형대분류\n",
       "0  1  28  13     1.0     22.2      1.7      0.0   18.9     1   7   2        1\n",
       "1  2   3   5   -12.9     78.6      1.3      0.0   66.7     2   6   1        3\n",
       "2  2   9  15     0.1    322.1      3.0      0.0   45.7     1   5   8        2\n",
       "3  2  13  11     4.0    122.8      1.0      0.0   29.5     1   2  10        2\n",
       "4  4  18  18    21.0    301.6      1.7      0.0   29.5     2   4   3        1"
      ]
     },
     "execution_count": 48,
     "metadata": {},
     "output_type": "execute_result"
    }
   ],
   "source": [
    "train.head()"
   ]
  },
  {
   "cell_type": "code",
   "execution_count": null,
   "metadata": {
    "colab": {
     "base_uri": "https://localhost:8080/"
    },
    "executionInfo": {
     "elapsed": 11,
     "status": "ok",
     "timestamp": 1634099660416,
     "user": {
      "displayName": "황창현",
      "photoUrl": "https://lh3.googleusercontent.com/a/default-user=s64",
      "userId": "05808044836831561135"
     },
     "user_tz": -540
    },
    "id": "hTpOLCE-2qUI",
    "outputId": "72768a4b-3ef2-48c4-e312-ae25d65468d5"
   },
   "outputs": [
    {
     "data": {
      "text/plain": [
       "array([[0.5045638 , 0.31117692, 0.18425928]])"
      ]
     },
     "execution_count": 56,
     "metadata": {},
     "output_type": "execute_result"
    }
   ],
   "source": [
    "model.predict_proba([[10,13,13,-12.9,78.6,1.7,0.0,66.7,1,4,3]])"
   ]
  },
  {
   "cell_type": "code",
   "execution_count": null,
   "metadata": {
    "colab": {
     "base_uri": "https://localhost:8080/",
     "height": 817
    },
    "executionInfo": {
     "elapsed": 838,
     "status": "ok",
     "timestamp": 1634099606974,
     "user": {
      "displayName": "황창현",
      "photoUrl": "https://lh3.googleusercontent.com/a/default-user=s64",
      "userId": "05808044836831561135"
     },
     "user_tz": -540
    },
    "id": "l7aeaZSA2nNw",
    "outputId": "7482837f-e785-41b4-b7a9-1d2880cb13f5"
   },
   "outputs": [
    {
     "data": {
      "image/svg+xml": [
       "<?xml version=\"1.0\" encoding=\"UTF-8\" standalone=\"no\"?>\n",
       "<!DOCTYPE svg PUBLIC \"-//W3C//DTD SVG 1.1//EN\"\n",
       " \"http://www.w3.org/Graphics/SVG/1.1/DTD/svg11.dtd\">\n",
       "<!-- Generated by graphviz version 2.40.1 (20161225.0304)\n",
       " -->\n",
       "<!-- Title: %3 Pages: 1 -->\n",
       "<svg width=\"9174pt\" height=\"583pt\"\n",
       " viewBox=\"0.00 0.00 9174.08 583.00\" xmlns=\"http://www.w3.org/2000/svg\" xmlns:xlink=\"http://www.w3.org/1999/xlink\">\n",
       "<g id=\"graph0\" class=\"graph\" transform=\"scale(1 1) rotate(0) translate(4 579)\">\n",
       "<title>%3</title>\n",
       "<polygon fill=\"#ffffff\" stroke=\"transparent\" points=\"-4,4 -4,-579 9170.0761,-579 9170.0761,4 -4,4\"/>\n",
       "<!-- 0 -->\n",
       "<g id=\"node1\" class=\"node\">\n",
       "<title>0</title>\n",
       "<ellipse fill=\"none\" stroke=\"#000000\" cx=\"4756.5381\" cy=\"-557\" rx=\"134.5761\" ry=\"18\"/>\n",
       "<text text-anchor=\"middle\" x=\"4756.5381\" y=\"-553.3\" font-family=\"Times,serif\" font-size=\"14.00\" fill=\"#000000\">{2} pr_num1 tb0 type0, value&gt;7</text>\n",
       "</g>\n",
       "<!-- 1 -->\n",
       "<g id=\"node2\" class=\"node\">\n",
       "<title>1</title>\n",
       "<ellipse fill=\"none\" stroke=\"#000000\" cx=\"3495.5381\" cy=\"-470\" rx=\"139.9756\" ry=\"18\"/>\n",
       "<text text-anchor=\"middle\" x=\"3495.5381\" y=\"-466.3\" font-family=\"Times,serif\" font-size=\"14.00\" fill=\"#000000\">{10} pr_num0 tb0 type0, value&gt;8</text>\n",
       "</g>\n",
       "<!-- 0&#45;&gt;1 -->\n",
       "<g id=\"edge1\" class=\"edge\">\n",
       "<title>0&#45;&gt;1</title>\n",
       "<path fill=\"none\" stroke=\"#000000\" d=\"M4636.7694,-548.7368C4400.5868,-532.4419 3876.3122,-496.2707 3629.254,-479.2254\"/>\n",
       "<polygon fill=\"#000000\" stroke=\"#000000\" points=\"3629.3588,-475.7244 3619.1416,-478.5278 3628.8769,-482.7078 3629.3588,-475.7244\"/>\n",
       "<text text-anchor=\"middle\" x=\"4211.0381\" y=\"-509.8\" font-family=\"Times,serif\" font-size=\"14.00\" fill=\"#000000\">No</text>\n",
       "</g>\n",
       "<!-- 2 -->\n",
       "<g id=\"node3\" class=\"node\">\n",
       "<title>2</title>\n",
       "<ellipse fill=\"none\" stroke=\"#000000\" cx=\"5552.5381\" cy=\"-470\" rx=\"139.9756\" ry=\"18\"/>\n",
       "<text text-anchor=\"middle\" x=\"5552.5381\" y=\"-466.3\" font-family=\"Times,serif\" font-size=\"14.00\" fill=\"#000000\">{10} pr_num0 tb0 type0, value&gt;8</text>\n",
       "</g>\n",
       "<!-- 0&#45;&gt;2 -->\n",
       "<g id=\"edge2\" class=\"edge\">\n",
       "<title>0&#45;&gt;2</title>\n",
       "<path fill=\"none\" stroke=\"#000000\" d=\"M4861.0101,-545.5816C5009.4897,-529.3533 5280.6916,-499.7119 5435.6745,-482.7728\"/>\n",
       "<polygon fill=\"#000000\" stroke=\"#000000\" points=\"5436.1519,-486.2415 5445.7123,-481.6757 5435.3912,-479.283 5436.1519,-486.2415\"/>\n",
       "<text text-anchor=\"middle\" x=\"5213.0381\" y=\"-509.8\" font-family=\"Times,serif\" font-size=\"14.00\" fill=\"#000000\">Yes</text>\n",
       "</g>\n",
       "<!-- 3 -->\n",
       "<g id=\"node4\" class=\"node\">\n",
       "<title>3</title>\n",
       "<ellipse fill=\"none\" stroke=\"#000000\" cx=\"1709.5381\" cy=\"-383\" rx=\"63.0888\" ry=\"18\"/>\n",
       "<text text-anchor=\"middle\" x=\"1709.5381\" y=\"-379.3\" font-family=\"Times,serif\" font-size=\"14.00\" fill=\"#000000\">5, value&gt;1.05</text>\n",
       "</g>\n",
       "<!-- 1&#45;&gt;3 -->\n",
       "<g id=\"edge3\" class=\"edge\">\n",
       "<title>1&#45;&gt;3</title>\n",
       "<path fill=\"none\" stroke=\"#000000\" d=\"M3364.5712,-463.6203C3012.3453,-446.4626 2053.1246,-399.7369 1781.8694,-386.5234\"/>\n",
       "<polygon fill=\"#000000\" stroke=\"#000000\" points=\"1781.9081,-383.0212 1771.7496,-386.0305 1781.5674,-390.013 1781.9081,-383.0212\"/>\n",
       "<text text-anchor=\"middle\" x=\"2719.0381\" y=\"-422.8\" font-family=\"Times,serif\" font-size=\"14.00\" fill=\"#000000\">No</text>\n",
       "</g>\n",
       "<!-- 4 -->\n",
       "<g id=\"node5\" class=\"node\">\n",
       "<title>4</title>\n",
       "<ellipse fill=\"none\" stroke=\"#000000\" cx=\"3495.5381\" cy=\"-383\" rx=\"63.0888\" ry=\"18\"/>\n",
       "<text text-anchor=\"middle\" x=\"3495.5381\" y=\"-379.3\" font-family=\"Times,serif\" font-size=\"14.00\" fill=\"#000000\">5, value&gt;1.05</text>\n",
       "</g>\n",
       "<!-- 1&#45;&gt;4 -->\n",
       "<g id=\"edge4\" class=\"edge\">\n",
       "<title>1&#45;&gt;4</title>\n",
       "<path fill=\"none\" stroke=\"#000000\" d=\"M3495.5381,-451.9735C3495.5381,-440.1918 3495.5381,-424.5607 3495.5381,-411.1581\"/>\n",
       "<polygon fill=\"#000000\" stroke=\"#000000\" points=\"3499.0382,-411.0033 3495.5381,-401.0034 3492.0382,-411.0034 3499.0382,-411.0033\"/>\n",
       "<text text-anchor=\"middle\" x=\"3506.0381\" y=\"-422.8\" font-family=\"Times,serif\" font-size=\"14.00\" fill=\"#000000\">Yes</text>\n",
       "</g>\n",
       "<!-- 5 -->\n",
       "<g id=\"node6\" class=\"node\">\n",
       "<title>5</title>\n",
       "<ellipse fill=\"none\" stroke=\"#000000\" cx=\"5552.5381\" cy=\"-383\" rx=\"63.0888\" ry=\"18\"/>\n",
       "<text text-anchor=\"middle\" x=\"5552.5381\" y=\"-379.3\" font-family=\"Times,serif\" font-size=\"14.00\" fill=\"#000000\">5, value&gt;1.05</text>\n",
       "</g>\n",
       "<!-- 2&#45;&gt;5 -->\n",
       "<g id=\"edge5\" class=\"edge\">\n",
       "<title>2&#45;&gt;5</title>\n",
       "<path fill=\"none\" stroke=\"#000000\" d=\"M5552.5381,-451.9735C5552.5381,-440.1918 5552.5381,-424.5607 5552.5381,-411.1581\"/>\n",
       "<polygon fill=\"#000000\" stroke=\"#000000\" points=\"5556.0382,-411.0033 5552.5381,-401.0034 5549.0382,-411.0034 5556.0382,-411.0033\"/>\n",
       "<text text-anchor=\"middle\" x=\"5562.0381\" y=\"-422.8\" font-family=\"Times,serif\" font-size=\"14.00\" fill=\"#000000\">No</text>\n",
       "</g>\n",
       "<!-- 6 -->\n",
       "<g id=\"node7\" class=\"node\">\n",
       "<title>6</title>\n",
       "<ellipse fill=\"none\" stroke=\"#000000\" cx=\"7373.5381\" cy=\"-383\" rx=\"63.0888\" ry=\"18\"/>\n",
       "<text text-anchor=\"middle\" x=\"7373.5381\" y=\"-379.3\" font-family=\"Times,serif\" font-size=\"14.00\" fill=\"#000000\">5, value&gt;1.05</text>\n",
       "</g>\n",
       "<!-- 2&#45;&gt;6 -->\n",
       "<g id=\"edge6\" class=\"edge\">\n",
       "<title>2&#45;&gt;6</title>\n",
       "<path fill=\"none\" stroke=\"#000000\" d=\"M5683.8659,-463.7257C6041.6765,-446.6309 7025.3872,-399.6332 7300.9439,-386.4683\"/>\n",
       "<polygon fill=\"#000000\" stroke=\"#000000\" points=\"7301.398,-389.9506 7311.2196,-385.9773 7301.0639,-382.9586 7301.398,-389.9506\"/>\n",
       "<text text-anchor=\"middle\" x=\"6583.0381\" y=\"-422.8\" font-family=\"Times,serif\" font-size=\"14.00\" fill=\"#000000\">Yes</text>\n",
       "</g>\n",
       "<!-- 7 -->\n",
       "<g id=\"node8\" class=\"node\">\n",
       "<title>7</title>\n",
       "<ellipse fill=\"none\" stroke=\"#000000\" cx=\"801.5381\" cy=\"-296\" rx=\"139.9756\" ry=\"18\"/>\n",
       "<text text-anchor=\"middle\" x=\"801.5381\" y=\"-292.3\" font-family=\"Times,serif\" font-size=\"14.00\" fill=\"#000000\">{2} pr_num1 tb0 type0, value&gt;13</text>\n",
       "</g>\n",
       "<!-- 3&#45;&gt;7 -->\n",
       "<g id=\"edge7\" class=\"edge\">\n",
       "<title>3&#45;&gt;7</title>\n",
       "<path fill=\"none\" stroke=\"#000000\" d=\"M1649.6105,-377.258C1502.54,-363.1665 1121.4321,-326.6506 924.0518,-307.7386\"/>\n",
       "<polygon fill=\"#000000\" stroke=\"#000000\" points=\"924.2133,-304.2382 913.925,-306.7684 923.5456,-311.2063 924.2133,-304.2382\"/>\n",
       "<text text-anchor=\"middle\" x=\"1320.0381\" y=\"-335.8\" font-family=\"Times,serif\" font-size=\"14.00\" fill=\"#000000\">No</text>\n",
       "</g>\n",
       "<!-- 8 -->\n",
       "<g id=\"node9\" class=\"node\">\n",
       "<title>8</title>\n",
       "<ellipse fill=\"none\" stroke=\"#000000\" cx=\"1709.5381\" cy=\"-296\" rx=\"139.9756\" ry=\"18\"/>\n",
       "<text text-anchor=\"middle\" x=\"1709.5381\" y=\"-292.3\" font-family=\"Times,serif\" font-size=\"14.00\" fill=\"#000000\">{2} pr_num1 tb0 type0, value&gt;13</text>\n",
       "</g>\n",
       "<!-- 3&#45;&gt;8 -->\n",
       "<g id=\"edge8\" class=\"edge\">\n",
       "<title>3&#45;&gt;8</title>\n",
       "<path fill=\"none\" stroke=\"#000000\" d=\"M1709.5381,-364.9735C1709.5381,-353.1918 1709.5381,-337.5607 1709.5381,-324.1581\"/>\n",
       "<polygon fill=\"#000000\" stroke=\"#000000\" points=\"1713.0382,-324.0033 1709.5381,-314.0034 1706.0382,-324.0034 1713.0382,-324.0033\"/>\n",
       "<text text-anchor=\"middle\" x=\"1720.0381\" y=\"-335.8\" font-family=\"Times,serif\" font-size=\"14.00\" fill=\"#000000\">Yes</text>\n",
       "</g>\n",
       "<!-- 9 -->\n",
       "<g id=\"node10\" class=\"node\">\n",
       "<title>9</title>\n",
       "<ellipse fill=\"none\" stroke=\"#000000\" cx=\"3102.5381\" cy=\"-296\" rx=\"139.9756\" ry=\"18\"/>\n",
       "<text text-anchor=\"middle\" x=\"3102.5381\" y=\"-292.3\" font-family=\"Times,serif\" font-size=\"14.00\" fill=\"#000000\">{2} pr_num1 tb0 type0, value&gt;13</text>\n",
       "</g>\n",
       "<!-- 4&#45;&gt;9 -->\n",
       "<g id=\"edge9\" class=\"edge\">\n",
       "<title>4&#45;&gt;9</title>\n",
       "<path fill=\"none\" stroke=\"#000000\" d=\"M3445.3652,-371.893C3379.0855,-357.2204 3261.5646,-331.2043 3182.8534,-313.7797\"/>\n",
       "<polygon fill=\"#000000\" stroke=\"#000000\" points=\"3183.4941,-310.3369 3172.974,-311.5927 3181.9811,-317.1714 3183.4941,-310.3369\"/>\n",
       "<text text-anchor=\"middle\" x=\"3333.0381\" y=\"-335.8\" font-family=\"Times,serif\" font-size=\"14.00\" fill=\"#000000\">No</text>\n",
       "</g>\n",
       "<!-- 10 -->\n",
       "<g id=\"node11\" class=\"node\">\n",
       "<title>10</title>\n",
       "<ellipse fill=\"none\" stroke=\"#000000\" cx=\"3751.5381\" cy=\"-296\" rx=\"139.9756\" ry=\"18\"/>\n",
       "<text text-anchor=\"middle\" x=\"3751.5381\" y=\"-292.3\" font-family=\"Times,serif\" font-size=\"14.00\" fill=\"#000000\">{2} pr_num1 tb0 type0, value&gt;13</text>\n",
       "</g>\n",
       "<!-- 4&#45;&gt;10 -->\n",
       "<g id=\"edge10\" class=\"edge\">\n",
       "<title>4&#45;&gt;10</title>\n",
       "<path fill=\"none\" stroke=\"#000000\" d=\"M3536.102,-369.2146C3578.1779,-354.9154 3644.3992,-332.4105 3692.322,-316.1242\"/>\n",
       "<polygon fill=\"#000000\" stroke=\"#000000\" points=\"3693.6103,-319.3831 3701.9523,-312.8514 3691.3579,-312.7553 3693.6103,-319.3831\"/>\n",
       "<text text-anchor=\"middle\" x=\"3650.0381\" y=\"-335.8\" font-family=\"Times,serif\" font-size=\"14.00\" fill=\"#000000\">Yes</text>\n",
       "</g>\n",
       "<!-- 11 -->\n",
       "<g id=\"node12\" class=\"node\">\n",
       "<title>11</title>\n",
       "<ellipse fill=\"none\" stroke=\"#000000\" cx=\"5449.5381\" cy=\"-296\" rx=\"139.9756\" ry=\"18\"/>\n",
       "<text text-anchor=\"middle\" x=\"5449.5381\" y=\"-292.3\" font-family=\"Times,serif\" font-size=\"14.00\" fill=\"#000000\">{2} pr_num1 tb0 type0, value&gt;13</text>\n",
       "</g>\n",
       "<!-- 5&#45;&gt;11 -->\n",
       "<g id=\"edge11\" class=\"edge\">\n",
       "<title>5&#45;&gt;11</title>\n",
       "<path fill=\"none\" stroke=\"#000000\" d=\"M5532.1886,-365.8116C5516.9729,-352.9595 5495.9462,-335.1991 5478.9092,-320.8086\"/>\n",
       "<polygon fill=\"#000000\" stroke=\"#000000\" points=\"5480.807,-317.8302 5470.909,-314.0512 5476.2901,-323.1778 5480.807,-317.8302\"/>\n",
       "<text text-anchor=\"middle\" x=\"5517.0381\" y=\"-335.8\" font-family=\"Times,serif\" font-size=\"14.00\" fill=\"#000000\">No</text>\n",
       "</g>\n",
       "<!-- 12 -->\n",
       "<g id=\"node13\" class=\"node\">\n",
       "<title>12</title>\n",
       "<ellipse fill=\"none\" stroke=\"#000000\" cx=\"6030.5381\" cy=\"-296\" rx=\"139.9756\" ry=\"18\"/>\n",
       "<text text-anchor=\"middle\" x=\"6030.5381\" y=\"-292.3\" font-family=\"Times,serif\" font-size=\"14.00\" fill=\"#000000\">{2} pr_num1 tb0 type0, value&gt;13</text>\n",
       "</g>\n",
       "<!-- 5&#45;&gt;12 -->\n",
       "<g id=\"edge12\" class=\"edge\">\n",
       "<title>5&#45;&gt;12</title>\n",
       "<path fill=\"none\" stroke=\"#000000\" d=\"M5605.9794,-373.2732C5686.7659,-358.5694 5841.002,-330.4972 5939.6554,-312.5414\"/>\n",
       "<polygon fill=\"#000000\" stroke=\"#000000\" points=\"5940.4062,-315.9623 5949.6178,-310.7282 5939.1526,-309.0755 5940.4062,-315.9623\"/>\n",
       "<text text-anchor=\"middle\" x=\"5831.0381\" y=\"-335.8\" font-family=\"Times,serif\" font-size=\"14.00\" fill=\"#000000\">Yes</text>\n",
       "</g>\n",
       "<!-- 13 -->\n",
       "<g id=\"node14\" class=\"node\">\n",
       "<title>13</title>\n",
       "<ellipse fill=\"none\" stroke=\"#000000\" cx=\"7373.5381\" cy=\"-296\" rx=\"139.9756\" ry=\"18\"/>\n",
       "<text text-anchor=\"middle\" x=\"7373.5381\" y=\"-292.3\" font-family=\"Times,serif\" font-size=\"14.00\" fill=\"#000000\">{2} pr_num1 tb0 type0, value&gt;13</text>\n",
       "</g>\n",
       "<!-- 6&#45;&gt;13 -->\n",
       "<g id=\"edge13\" class=\"edge\">\n",
       "<title>6&#45;&gt;13</title>\n",
       "<path fill=\"none\" stroke=\"#000000\" d=\"M7373.5381,-364.9735C7373.5381,-353.1918 7373.5381,-337.5607 7373.5381,-324.1581\"/>\n",
       "<polygon fill=\"#000000\" stroke=\"#000000\" points=\"7377.0382,-324.0033 7373.5381,-314.0034 7370.0382,-324.0034 7377.0382,-324.0033\"/>\n",
       "<text text-anchor=\"middle\" x=\"7383.0381\" y=\"-335.8\" font-family=\"Times,serif\" font-size=\"14.00\" fill=\"#000000\">No</text>\n",
       "</g>\n",
       "<!-- 14 -->\n",
       "<g id=\"node15\" class=\"node\">\n",
       "<title>14</title>\n",
       "<ellipse fill=\"none\" stroke=\"#000000\" cx=\"8305.5381\" cy=\"-296\" rx=\"139.9756\" ry=\"18\"/>\n",
       "<text text-anchor=\"middle\" x=\"8305.5381\" y=\"-292.3\" font-family=\"Times,serif\" font-size=\"14.00\" fill=\"#000000\">{2} pr_num1 tb0 type0, value&gt;13</text>\n",
       "</g>\n",
       "<!-- 6&#45;&gt;14 -->\n",
       "<g id=\"edge14\" class=\"edge\">\n",
       "<title>6&#45;&gt;14</title>\n",
       "<path fill=\"none\" stroke=\"#000000\" d=\"M7433.6134,-377.3921C7584.0497,-363.3492 7979.3674,-326.4473 8181.9672,-307.535\"/>\n",
       "<polygon fill=\"#000000\" stroke=\"#000000\" points=\"8182.4297,-311.0072 8192.0611,-306.5928 8181.7791,-304.0375 8182.4297,-311.0072\"/>\n",
       "<text text-anchor=\"middle\" x=\"7906.0381\" y=\"-335.8\" font-family=\"Times,serif\" font-size=\"14.00\" fill=\"#000000\">Yes</text>\n",
       "</g>\n",
       "<!-- 15 -->\n",
       "<g id=\"node16\" class=\"node\">\n",
       "<title>15</title>\n",
       "<ellipse fill=\"none\" stroke=\"#000000\" cx=\"421.5381\" cy=\"-209\" rx=\"143.7746\" ry=\"18\"/>\n",
       "<text text-anchor=\"middle\" x=\"421.5381\" y=\"-205.3\" font-family=\"Times,serif\" font-size=\"14.00\" fill=\"#000000\">{10} pr_num1 tb0 type0, value&gt;11</text>\n",
       "</g>\n",
       "<!-- 7&#45;&gt;15 -->\n",
       "<g id=\"edge15\" class=\"edge\">\n",
       "<title>7&#45;&gt;15</title>\n",
       "<path fill=\"none\" stroke=\"#000000\" d=\"M732.7229,-280.245C667.3882,-265.2867 569.2422,-242.8165 500.6949,-227.1227\"/>\n",
       "<polygon fill=\"#000000\" stroke=\"#000000\" points=\"501.3325,-223.6782 490.8035,-224.8582 499.7702,-230.5017 501.3325,-223.6782\"/>\n",
       "<text text-anchor=\"middle\" x=\"644.0381\" y=\"-248.8\" font-family=\"Times,serif\" font-size=\"14.00\" fill=\"#000000\">No</text>\n",
       "</g>\n",
       "<!-- 16 -->\n",
       "<g id=\"node17\" class=\"node\">\n",
       "<title>16</title>\n",
       "<ellipse fill=\"none\" stroke=\"#000000\" cx=\"801.5381\" cy=\"-209\" rx=\"143.7746\" ry=\"18\"/>\n",
       "<text text-anchor=\"middle\" x=\"801.5381\" y=\"-205.3\" font-family=\"Times,serif\" font-size=\"14.00\" fill=\"#000000\">{10} pr_num1 tb0 type0, value&gt;11</text>\n",
       "</g>\n",
       "<!-- 7&#45;&gt;16 -->\n",
       "<g id=\"edge16\" class=\"edge\">\n",
       "<title>7&#45;&gt;16</title>\n",
       "<path fill=\"none\" stroke=\"#000000\" d=\"M801.5381,-277.9735C801.5381,-266.1918 801.5381,-250.5607 801.5381,-237.1581\"/>\n",
       "<polygon fill=\"#000000\" stroke=\"#000000\" points=\"805.0382,-237.0033 801.5381,-227.0034 798.0382,-237.0034 805.0382,-237.0033\"/>\n",
       "<text text-anchor=\"middle\" x=\"812.0381\" y=\"-248.8\" font-family=\"Times,serif\" font-size=\"14.00\" fill=\"#000000\">Yes</text>\n",
       "</g>\n",
       "<!-- 17 -->\n",
       "<g id=\"node18\" class=\"node\">\n",
       "<title>17</title>\n",
       "<ellipse fill=\"none\" stroke=\"#000000\" cx=\"1556.5381\" cy=\"-209\" rx=\"143.7746\" ry=\"18\"/>\n",
       "<text text-anchor=\"middle\" x=\"1556.5381\" y=\"-205.3\" font-family=\"Times,serif\" font-size=\"14.00\" fill=\"#000000\">{10} pr_num1 tb0 type0, value&gt;11</text>\n",
       "</g>\n",
       "<!-- 8&#45;&gt;17 -->\n",
       "<g id=\"edge17\" class=\"edge\">\n",
       "<title>8&#45;&gt;17</title>\n",
       "<path fill=\"none\" stroke=\"#000000\" d=\"M1678.5762,-278.3943C1654.8311,-264.8921 1621.8828,-246.1568 1596.2058,-231.5562\"/>\n",
       "<polygon fill=\"#000000\" stroke=\"#000000\" points=\"1597.8768,-228.4801 1587.4538,-226.5796 1594.4167,-234.5652 1597.8768,-228.4801\"/>\n",
       "<text text-anchor=\"middle\" x=\"1652.0381\" y=\"-248.8\" font-family=\"Times,serif\" font-size=\"14.00\" fill=\"#000000\">No</text>\n",
       "</g>\n",
       "<!-- 18 -->\n",
       "<g id=\"node19\" class=\"node\">\n",
       "<title>18</title>\n",
       "<ellipse fill=\"none\" stroke=\"#000000\" cx=\"1861.5381\" cy=\"-209\" rx=\"143.7746\" ry=\"18\"/>\n",
       "<text text-anchor=\"middle\" x=\"1861.5381\" y=\"-205.3\" font-family=\"Times,serif\" font-size=\"14.00\" fill=\"#000000\">{10} pr_num1 tb0 type0, value&gt;11</text>\n",
       "</g>\n",
       "<!-- 8&#45;&gt;18 -->\n",
       "<g id=\"edge18\" class=\"edge\">\n",
       "<title>8&#45;&gt;18</title>\n",
       "<path fill=\"none\" stroke=\"#000000\" d=\"M1740.2975,-278.3943C1763.8099,-264.9365 1796.4052,-246.28 1821.8776,-231.7004\"/>\n",
       "<polygon fill=\"#000000\" stroke=\"#000000\" points=\"1823.6236,-234.7339 1830.5639,-226.7287 1820.1463,-228.6586 1823.6236,-234.7339\"/>\n",
       "<text text-anchor=\"middle\" x=\"1806.0381\" y=\"-248.8\" font-family=\"Times,serif\" font-size=\"14.00\" fill=\"#000000\">Yes</text>\n",
       "</g>\n",
       "<!-- 19 -->\n",
       "<g id=\"node20\" class=\"node\">\n",
       "<title>19</title>\n",
       "<ellipse fill=\"none\" stroke=\"#000000\" cx=\"2717.5381\" cy=\"-209\" rx=\"143.7746\" ry=\"18\"/>\n",
       "<text text-anchor=\"middle\" x=\"2717.5381\" y=\"-205.3\" font-family=\"Times,serif\" font-size=\"14.00\" fill=\"#000000\">{10} pr_num1 tb0 type0, value&gt;11</text>\n",
       "</g>\n",
       "<!-- 9&#45;&gt;19 -->\n",
       "<g id=\"edge19\" class=\"edge\">\n",
       "<title>9&#45;&gt;19</title>\n",
       "<path fill=\"none\" stroke=\"#000000\" d=\"M3033.2631,-280.3457C2966.9235,-265.3546 2866.9001,-242.7519 2797.2747,-227.0184\"/>\n",
       "<polygon fill=\"#000000\" stroke=\"#000000\" points=\"2797.7559,-223.539 2787.2303,-224.7486 2796.2129,-230.3668 2797.7559,-223.539\"/>\n",
       "<text text-anchor=\"middle\" x=\"2943.0381\" y=\"-248.8\" font-family=\"Times,serif\" font-size=\"14.00\" fill=\"#000000\">No</text>\n",
       "</g>\n",
       "<!-- 20 -->\n",
       "<g id=\"node21\" class=\"node\">\n",
       "<title>20</title>\n",
       "<ellipse fill=\"none\" stroke=\"#000000\" cx=\"3102.5381\" cy=\"-209\" rx=\"143.7746\" ry=\"18\"/>\n",
       "<text text-anchor=\"middle\" x=\"3102.5381\" y=\"-205.3\" font-family=\"Times,serif\" font-size=\"14.00\" fill=\"#000000\">{10} pr_num1 tb0 type0, value&gt;11</text>\n",
       "</g>\n",
       "<!-- 9&#45;&gt;20 -->\n",
       "<g id=\"edge20\" class=\"edge\">\n",
       "<title>9&#45;&gt;20</title>\n",
       "<path fill=\"none\" stroke=\"#000000\" d=\"M3102.5381,-277.9735C3102.5381,-266.1918 3102.5381,-250.5607 3102.5381,-237.1581\"/>\n",
       "<polygon fill=\"#000000\" stroke=\"#000000\" points=\"3106.0382,-237.0033 3102.5381,-227.0034 3099.0382,-237.0034 3106.0382,-237.0033\"/>\n",
       "<text text-anchor=\"middle\" x=\"3113.0381\" y=\"-248.8\" font-family=\"Times,serif\" font-size=\"14.00\" fill=\"#000000\">Yes</text>\n",
       "</g>\n",
       "<!-- 21 -->\n",
       "<g id=\"node22\" class=\"node\">\n",
       "<title>21</title>\n",
       "<ellipse fill=\"none\" stroke=\"#000000\" cx=\"3751.5381\" cy=\"-209\" rx=\"143.7746\" ry=\"18\"/>\n",
       "<text text-anchor=\"middle\" x=\"3751.5381\" y=\"-205.3\" font-family=\"Times,serif\" font-size=\"14.00\" fill=\"#000000\">{10} pr_num1 tb0 type0, value&gt;11</text>\n",
       "</g>\n",
       "<!-- 10&#45;&gt;21 -->\n",
       "<g id=\"edge21\" class=\"edge\">\n",
       "<title>10&#45;&gt;21</title>\n",
       "<path fill=\"none\" stroke=\"#000000\" d=\"M3751.5381,-277.9735C3751.5381,-266.1918 3751.5381,-250.5607 3751.5381,-237.1581\"/>\n",
       "<polygon fill=\"#000000\" stroke=\"#000000\" points=\"3755.0382,-237.0033 3751.5381,-227.0034 3748.0382,-237.0034 3755.0382,-237.0033\"/>\n",
       "<text text-anchor=\"middle\" x=\"3761.0381\" y=\"-248.8\" font-family=\"Times,serif\" font-size=\"14.00\" fill=\"#000000\">No</text>\n",
       "</g>\n",
       "<!-- 22 -->\n",
       "<g id=\"node23\" class=\"node\">\n",
       "<title>22</title>\n",
       "<ellipse fill=\"none\" stroke=\"#000000\" cx=\"4152.5381\" cy=\"-209\" rx=\"143.7746\" ry=\"18\"/>\n",
       "<text text-anchor=\"middle\" x=\"4152.5381\" y=\"-205.3\" font-family=\"Times,serif\" font-size=\"14.00\" fill=\"#000000\">{10} pr_num1 tb0 type0, value&gt;11</text>\n",
       "</g>\n",
       "<!-- 10&#45;&gt;22 -->\n",
       "<g id=\"edge22\" class=\"edge\">\n",
       "<title>10&#45;&gt;22</title>\n",
       "<path fill=\"none\" stroke=\"#000000\" d=\"M3823.2288,-280.4461C3892.617,-265.3919 3997.6985,-242.5936 4070.4159,-226.817\"/>\n",
       "<polygon fill=\"#000000\" stroke=\"#000000\" points=\"4071.4243,-230.1798 4080.4548,-224.639 4069.94,-223.3389 4071.4243,-230.1798\"/>\n",
       "<text text-anchor=\"middle\" x=\"3987.0381\" y=\"-248.8\" font-family=\"Times,serif\" font-size=\"14.00\" fill=\"#000000\">Yes</text>\n",
       "</g>\n",
       "<!-- 23 -->\n",
       "<g id=\"node24\" class=\"node\">\n",
       "<title>23</title>\n",
       "<ellipse fill=\"none\" stroke=\"#000000\" cx=\"5013.5381\" cy=\"-209\" rx=\"143.7746\" ry=\"18\"/>\n",
       "<text text-anchor=\"middle\" x=\"5013.5381\" y=\"-205.3\" font-family=\"Times,serif\" font-size=\"14.00\" fill=\"#000000\">{10} pr_num1 tb0 type0, value&gt;11</text>\n",
       "</g>\n",
       "<!-- 11&#45;&gt;23 -->\n",
       "<g id=\"edge23\" class=\"edge\">\n",
       "<title>11&#45;&gt;23</title>\n",
       "<path fill=\"none\" stroke=\"#000000\" d=\"M5373.5927,-280.8458C5297.318,-265.6258 5179.949,-242.2058 5100.1083,-226.2743\"/>\n",
       "<polygon fill=\"#000000\" stroke=\"#000000\" points=\"5100.5677,-222.7971 5090.0761,-224.2725 5099.1978,-229.6617 5100.5677,-222.7971\"/>\n",
       "<text text-anchor=\"middle\" x=\"5268.0381\" y=\"-248.8\" font-family=\"Times,serif\" font-size=\"14.00\" fill=\"#000000\">No</text>\n",
       "</g>\n",
       "<!-- 24 -->\n",
       "<g id=\"node25\" class=\"node\">\n",
       "<title>24</title>\n",
       "<ellipse fill=\"none\" stroke=\"#000000\" cx=\"5449.5381\" cy=\"-209\" rx=\"143.7746\" ry=\"18\"/>\n",
       "<text text-anchor=\"middle\" x=\"5449.5381\" y=\"-205.3\" font-family=\"Times,serif\" font-size=\"14.00\" fill=\"#000000\">{10} pr_num1 tb0 type0, value&gt;11</text>\n",
       "</g>\n",
       "<!-- 11&#45;&gt;24 -->\n",
       "<g id=\"edge24\" class=\"edge\">\n",
       "<title>11&#45;&gt;24</title>\n",
       "<path fill=\"none\" stroke=\"#000000\" d=\"M5449.5381,-277.9735C5449.5381,-266.1918 5449.5381,-250.5607 5449.5381,-237.1581\"/>\n",
       "<polygon fill=\"#000000\" stroke=\"#000000\" points=\"5453.0382,-237.0033 5449.5381,-227.0034 5446.0382,-237.0034 5453.0382,-237.0033\"/>\n",
       "<text text-anchor=\"middle\" x=\"5460.0381\" y=\"-248.8\" font-family=\"Times,serif\" font-size=\"14.00\" fill=\"#000000\">Yes</text>\n",
       "</g>\n",
       "<!-- 25 -->\n",
       "<g id=\"node26\" class=\"node\">\n",
       "<title>25</title>\n",
       "<ellipse fill=\"none\" stroke=\"#000000\" cx=\"6030.5381\" cy=\"-209\" rx=\"143.7746\" ry=\"18\"/>\n",
       "<text text-anchor=\"middle\" x=\"6030.5381\" y=\"-205.3\" font-family=\"Times,serif\" font-size=\"14.00\" fill=\"#000000\">{10} pr_num1 tb0 type0, value&gt;11</text>\n",
       "</g>\n",
       "<!-- 12&#45;&gt;25 -->\n",
       "<g id=\"edge25\" class=\"edge\">\n",
       "<title>12&#45;&gt;25</title>\n",
       "<path fill=\"none\" stroke=\"#000000\" d=\"M6030.5381,-277.9735C6030.5381,-266.1918 6030.5381,-250.5607 6030.5381,-237.1581\"/>\n",
       "<polygon fill=\"#000000\" stroke=\"#000000\" points=\"6034.0382,-237.0033 6030.5381,-227.0034 6027.0382,-237.0034 6034.0382,-237.0033\"/>\n",
       "<text text-anchor=\"middle\" x=\"6040.0381\" y=\"-248.8\" font-family=\"Times,serif\" font-size=\"14.00\" fill=\"#000000\">No</text>\n",
       "</g>\n",
       "<!-- 26 -->\n",
       "<g id=\"node27\" class=\"node\">\n",
       "<title>26</title>\n",
       "<ellipse fill=\"none\" stroke=\"#000000\" cx=\"6448.5381\" cy=\"-209\" rx=\"143.7746\" ry=\"18\"/>\n",
       "<text text-anchor=\"middle\" x=\"6448.5381\" y=\"-205.3\" font-family=\"Times,serif\" font-size=\"14.00\" fill=\"#000000\">{10} pr_num1 tb0 type0, value&gt;11</text>\n",
       "</g>\n",
       "<!-- 12&#45;&gt;26 -->\n",
       "<g id=\"edge26\" class=\"edge\">\n",
       "<title>12&#45;&gt;26</title>\n",
       "<path fill=\"none\" stroke=\"#000000\" d=\"M6104.3059,-280.6464C6176.9801,-265.5204 6287.8848,-242.4374 6364.0582,-226.5831\"/>\n",
       "<polygon fill=\"#000000\" stroke=\"#000000\" points=\"6365.0247,-229.9571 6374.1017,-224.4927 6363.5983,-223.1039 6365.0247,-229.9571\"/>\n",
       "<text text-anchor=\"middle\" x=\"6276.0381\" y=\"-248.8\" font-family=\"Times,serif\" font-size=\"14.00\" fill=\"#000000\">Yes</text>\n",
       "</g>\n",
       "<!-- 27 -->\n",
       "<g id=\"node28\" class=\"node\">\n",
       "<title>27</title>\n",
       "<ellipse fill=\"none\" stroke=\"#000000\" cx=\"7296.5381\" cy=\"-209\" rx=\"143.7746\" ry=\"18\"/>\n",
       "<text text-anchor=\"middle\" x=\"7296.5381\" y=\"-205.3\" font-family=\"Times,serif\" font-size=\"14.00\" fill=\"#000000\">{10} pr_num1 tb0 type0, value&gt;11</text>\n",
       "</g>\n",
       "<!-- 13&#45;&gt;27 -->\n",
       "<g id=\"edge27\" class=\"edge\">\n",
       "<title>13&#45;&gt;27</title>\n",
       "<path fill=\"none\" stroke=\"#000000\" d=\"M7357.5836,-277.9735C7346.5366,-265.4919 7331.6659,-248.6899 7319.3676,-234.7944\"/>\n",
       "<polygon fill=\"#000000\" stroke=\"#000000\" points=\"7321.7206,-232.172 7312.4721,-227.0034 7316.4788,-236.8114 7321.7206,-232.172\"/>\n",
       "<text text-anchor=\"middle\" x=\"7350.0381\" y=\"-248.8\" font-family=\"Times,serif\" font-size=\"14.00\" fill=\"#000000\">No</text>\n",
       "</g>\n",
       "<!-- 28 -->\n",
       "<g id=\"node29\" class=\"node\">\n",
       "<title>28</title>\n",
       "<ellipse fill=\"none\" stroke=\"#000000\" cx=\"7601.5381\" cy=\"-209\" rx=\"143.7746\" ry=\"18\"/>\n",
       "<text text-anchor=\"middle\" x=\"7601.5381\" y=\"-205.3\" font-family=\"Times,serif\" font-size=\"14.00\" fill=\"#000000\">{10} pr_num1 tb0 type0, value&gt;11</text>\n",
       "</g>\n",
       "<!-- 13&#45;&gt;28 -->\n",
       "<g id=\"edge28\" class=\"edge\">\n",
       "<title>13&#45;&gt;28</title>\n",
       "<path fill=\"none\" stroke=\"#000000\" d=\"M7418.3115,-278.9154C7455.1344,-264.8645 7507.4659,-244.8959 7546.7803,-229.8944\"/>\n",
       "<polygon fill=\"#000000\" stroke=\"#000000\" points=\"7548.3826,-233.0292 7556.4777,-226.1941 7545.887,-226.4892 7548.3826,-233.0292\"/>\n",
       "<text text-anchor=\"middle\" x=\"7512.0381\" y=\"-248.8\" font-family=\"Times,serif\" font-size=\"14.00\" fill=\"#000000\">Yes</text>\n",
       "</g>\n",
       "<!-- 29 -->\n",
       "<g id=\"node30\" class=\"node\">\n",
       "<title>29</title>\n",
       "<ellipse fill=\"none\" stroke=\"#000000\" cx=\"8305.5381\" cy=\"-209\" rx=\"143.7746\" ry=\"18\"/>\n",
       "<text text-anchor=\"middle\" x=\"8305.5381\" y=\"-205.3\" font-family=\"Times,serif\" font-size=\"14.00\" fill=\"#000000\">{10} pr_num1 tb0 type0, value&gt;11</text>\n",
       "</g>\n",
       "<!-- 14&#45;&gt;29 -->\n",
       "<g id=\"edge29\" class=\"edge\">\n",
       "<title>14&#45;&gt;29</title>\n",
       "<path fill=\"none\" stroke=\"#000000\" d=\"M8305.5381,-277.9735C8305.5381,-266.1918 8305.5381,-250.5607 8305.5381,-237.1581\"/>\n",
       "<polygon fill=\"#000000\" stroke=\"#000000\" points=\"8309.0382,-237.0033 8305.5381,-227.0034 8302.0382,-237.0034 8309.0382,-237.0033\"/>\n",
       "<text text-anchor=\"middle\" x=\"8315.0381\" y=\"-248.8\" font-family=\"Times,serif\" font-size=\"14.00\" fill=\"#000000\">No</text>\n",
       "</g>\n",
       "<!-- 30 -->\n",
       "<g id=\"node31\" class=\"node\">\n",
       "<title>30</title>\n",
       "<ellipse fill=\"none\" stroke=\"#000000\" cx=\"8744.5381\" cy=\"-209\" rx=\"143.7746\" ry=\"18\"/>\n",
       "<text text-anchor=\"middle\" x=\"8744.5381\" y=\"-205.3\" font-family=\"Times,serif\" font-size=\"14.00\" fill=\"#000000\">{10} pr_num1 tb0 type0, value&gt;11</text>\n",
       "</g>\n",
       "<!-- 14&#45;&gt;30 -->\n",
       "<g id=\"edge30\" class=\"edge\">\n",
       "<title>14&#45;&gt;30</title>\n",
       "<path fill=\"none\" stroke=\"#000000\" d=\"M8382.006,-280.8458C8458.8055,-265.6258 8576.9821,-242.2058 8657.3722,-226.2743\"/>\n",
       "<polygon fill=\"#000000\" stroke=\"#000000\" points=\"8658.3446,-229.6498 8667.4734,-224.2725 8656.9838,-222.7833 8658.3446,-229.6498\"/>\n",
       "<text text-anchor=\"middle\" x=\"8562.0381\" y=\"-248.8\" font-family=\"Times,serif\" font-size=\"14.00\" fill=\"#000000\">Yes</text>\n",
       "</g>\n",
       "<!-- 31 -->\n",
       "<g id=\"node32\" class=\"node\">\n",
       "<title>31</title>\n",
       "<ellipse fill=\"none\" stroke=\"#000000\" cx=\"134.5381\" cy=\"-122\" rx=\"134.5761\" ry=\"18\"/>\n",
       "<text text-anchor=\"middle\" x=\"134.5381\" y=\"-118.3\" font-family=\"Times,serif\" font-size=\"14.00\" fill=\"#000000\">{0} pr_num0 tb1 type0, value&gt;3</text>\n",
       "</g>\n",
       "<!-- 15&#45;&gt;31 -->\n",
       "<g id=\"edge31\" class=\"edge\">\n",
       "<title>15&#45;&gt;31</title>\n",
       "<path fill=\"none\" stroke=\"#000000\" d=\"M366.5412,-192.3285C318.6274,-177.8041 249.1168,-156.7329 198.6824,-141.4445\"/>\n",
       "<polygon fill=\"#000000\" stroke=\"#000000\" points=\"199.4473,-138.0191 188.8619,-138.4675 197.4165,-144.7181 199.4473,-138.0191\"/>\n",
       "<text text-anchor=\"middle\" x=\"305.0381\" y=\"-161.8\" font-family=\"Times,serif\" font-size=\"14.00\" fill=\"#000000\">No</text>\n",
       "</g>\n",
       "<!-- 32 -->\n",
       "<g id=\"node33\" class=\"node\">\n",
       "<title>32</title>\n",
       "<ellipse fill=\"none\" stroke=\"#000000\" cx=\"421.5381\" cy=\"-122\" rx=\"134.5761\" ry=\"18\"/>\n",
       "<text text-anchor=\"middle\" x=\"421.5381\" y=\"-118.3\" font-family=\"Times,serif\" font-size=\"14.00\" fill=\"#000000\">{0} pr_num0 tb1 type0, value&gt;3</text>\n",
       "</g>\n",
       "<!-- 15&#45;&gt;32 -->\n",
       "<g id=\"edge32\" class=\"edge\">\n",
       "<title>15&#45;&gt;32</title>\n",
       "<path fill=\"none\" stroke=\"#000000\" d=\"M421.5381,-190.9735C421.5381,-179.1918 421.5381,-163.5607 421.5381,-150.1581\"/>\n",
       "<polygon fill=\"#000000\" stroke=\"#000000\" points=\"425.0382,-150.0033 421.5381,-140.0034 418.0382,-150.0034 425.0382,-150.0033\"/>\n",
       "<text text-anchor=\"middle\" x=\"432.0381\" y=\"-161.8\" font-family=\"Times,serif\" font-size=\"14.00\" fill=\"#000000\">Yes</text>\n",
       "</g>\n",
       "<!-- 33 -->\n",
       "<g id=\"node34\" class=\"node\">\n",
       "<title>33</title>\n",
       "<ellipse fill=\"none\" stroke=\"#000000\" cx=\"708.5381\" cy=\"-122\" rx=\"134.5761\" ry=\"18\"/>\n",
       "<text text-anchor=\"middle\" x=\"708.5381\" y=\"-118.3\" font-family=\"Times,serif\" font-size=\"14.00\" fill=\"#000000\">{0} pr_num0 tb1 type0, value&gt;3</text>\n",
       "</g>\n",
       "<!-- 16&#45;&gt;33 -->\n",
       "<g id=\"edge33\" class=\"edge\">\n",
       "<title>16&#45;&gt;33</title>\n",
       "<path fill=\"none\" stroke=\"#000000\" d=\"M782.2684,-190.9735C768.6765,-178.2586 750.2922,-161.0603 735.2817,-147.0183\"/>\n",
       "<polygon fill=\"#000000\" stroke=\"#000000\" points=\"737.4768,-144.279 727.783,-140.0034 732.6947,-149.3909 737.4768,-144.279\"/>\n",
       "<text text-anchor=\"middle\" x=\"771.0381\" y=\"-161.8\" font-family=\"Times,serif\" font-size=\"14.00\" fill=\"#000000\">No</text>\n",
       "</g>\n",
       "<!-- 34 -->\n",
       "<g id=\"node35\" class=\"node\">\n",
       "<title>34</title>\n",
       "<ellipse fill=\"none\" stroke=\"#000000\" cx=\"995.5381\" cy=\"-122\" rx=\"134.5761\" ry=\"18\"/>\n",
       "<text text-anchor=\"middle\" x=\"995.5381\" y=\"-118.3\" font-family=\"Times,serif\" font-size=\"14.00\" fill=\"#000000\">{0} pr_num0 tb1 type0, value&gt;3</text>\n",
       "</g>\n",
       "<!-- 16&#45;&gt;34 -->\n",
       "<g id=\"edge34\" class=\"edge\">\n",
       "<title>16&#45;&gt;34</title>\n",
       "<path fill=\"none\" stroke=\"#000000\" d=\"M840.3306,-191.6033C871.1265,-177.7928 914.3437,-158.4119 947.3565,-143.6072\"/>\n",
       "<polygon fill=\"#000000\" stroke=\"#000000\" points=\"949.1205,-146.652 956.8128,-139.3665 946.2561,-140.2649 949.1205,-146.652\"/>\n",
       "<text text-anchor=\"middle\" x=\"921.0381\" y=\"-161.8\" font-family=\"Times,serif\" font-size=\"14.00\" fill=\"#000000\">Yes</text>\n",
       "</g>\n",
       "<!-- 35 -->\n",
       "<g id=\"node36\" class=\"node\">\n",
       "<title>35</title>\n",
       "<ellipse fill=\"none\" stroke=\"#000000\" cx=\"1282.5381\" cy=\"-122\" rx=\"134.5761\" ry=\"18\"/>\n",
       "<text text-anchor=\"middle\" x=\"1282.5381\" y=\"-118.3\" font-family=\"Times,serif\" font-size=\"14.00\" fill=\"#000000\">{0} pr_num0 tb1 type0, value&gt;3</text>\n",
       "</g>\n",
       "<!-- 17&#45;&gt;35 -->\n",
       "<g id=\"edge35\" class=\"edge\">\n",
       "<title>17&#45;&gt;35</title>\n",
       "<path fill=\"none\" stroke=\"#000000\" d=\"M1503.7081,-192.2255C1458.3161,-177.8127 1392.7969,-157.0092 1344.8524,-141.786\"/>\n",
       "<polygon fill=\"#000000\" stroke=\"#000000\" points=\"1345.7961,-138.4135 1335.2058,-138.723 1343.6777,-145.0852 1345.7961,-138.4135\"/>\n",
       "<text text-anchor=\"middle\" x=\"1446.0381\" y=\"-161.8\" font-family=\"Times,serif\" font-size=\"14.00\" fill=\"#000000\">No</text>\n",
       "</g>\n",
       "<!-- 36 -->\n",
       "<g id=\"node37\" class=\"node\">\n",
       "<title>36</title>\n",
       "<ellipse fill=\"none\" stroke=\"#000000\" cx=\"1569.5381\" cy=\"-122\" rx=\"134.5761\" ry=\"18\"/>\n",
       "<text text-anchor=\"middle\" x=\"1569.5381\" y=\"-118.3\" font-family=\"Times,serif\" font-size=\"14.00\" fill=\"#000000\">{0} pr_num0 tb1 type0, value&gt;3</text>\n",
       "</g>\n",
       "<!-- 17&#45;&gt;36 -->\n",
       "<g id=\"edge36\" class=\"edge\">\n",
       "<title>17&#45;&gt;36</title>\n",
       "<path fill=\"none\" stroke=\"#000000\" d=\"M1559.2317,-190.9735C1560.9922,-179.1918 1563.3278,-163.5607 1565.3305,-150.1581\"/>\n",
       "<polygon fill=\"#000000\" stroke=\"#000000\" points=\"1568.8315,-150.4108 1566.8479,-140.0034 1561.9084,-149.3763 1568.8315,-150.4108\"/>\n",
       "<text text-anchor=\"middle\" x=\"1575.0381\" y=\"-161.8\" font-family=\"Times,serif\" font-size=\"14.00\" fill=\"#000000\">Yes</text>\n",
       "</g>\n",
       "<!-- 37 -->\n",
       "<g id=\"node38\" class=\"node\">\n",
       "<title>37</title>\n",
       "<ellipse fill=\"none\" stroke=\"#000000\" cx=\"1856.5381\" cy=\"-122\" rx=\"134.5761\" ry=\"18\"/>\n",
       "<text text-anchor=\"middle\" x=\"1856.5381\" y=\"-118.3\" font-family=\"Times,serif\" font-size=\"14.00\" fill=\"#000000\">{0} pr_num0 tb1 type0, value&gt;3</text>\n",
       "</g>\n",
       "<!-- 18&#45;&gt;37 -->\n",
       "<g id=\"edge37\" class=\"edge\">\n",
       "<title>18&#45;&gt;37</title>\n",
       "<path fill=\"none\" stroke=\"#000000\" d=\"M1860.5021,-190.9735C1859.8249,-179.1918 1858.9266,-163.5607 1858.1563,-150.1581\"/>\n",
       "<polygon fill=\"#000000\" stroke=\"#000000\" points=\"1861.6408,-149.786 1857.5727,-140.0034 1854.6524,-150.1877 1861.6408,-149.786\"/>\n",
       "<text text-anchor=\"middle\" x=\"1869.0381\" y=\"-161.8\" font-family=\"Times,serif\" font-size=\"14.00\" fill=\"#000000\">No</text>\n",
       "</g>\n",
       "<!-- 38 -->\n",
       "<g id=\"node39\" class=\"node\">\n",
       "<title>38</title>\n",
       "<ellipse fill=\"none\" stroke=\"#000000\" cx=\"2143.5381\" cy=\"-122\" rx=\"134.5761\" ry=\"18\"/>\n",
       "<text text-anchor=\"middle\" x=\"2143.5381\" y=\"-118.3\" font-family=\"Times,serif\" font-size=\"14.00\" fill=\"#000000\">{0} pr_num0 tb1 type0, value&gt;3</text>\n",
       "</g>\n",
       "<!-- 18&#45;&gt;38 -->\n",
       "<g id=\"edge38\" class=\"edge\">\n",
       "<title>18&#45;&gt;38</title>\n",
       "<path fill=\"none\" stroke=\"#000000\" d=\"M1915.9105,-192.2255C1962.8754,-177.7364 2030.7753,-156.7885 2080.1872,-141.5444\"/>\n",
       "<polygon fill=\"#000000\" stroke=\"#000000\" points=\"2081.2877,-144.8678 2089.8115,-138.5752 2079.224,-138.1788 2081.2877,-144.8678\"/>\n",
       "<text text-anchor=\"middle\" x=\"2030.0381\" y=\"-161.8\" font-family=\"Times,serif\" font-size=\"14.00\" fill=\"#000000\">Yes</text>\n",
       "</g>\n",
       "<!-- 39 -->\n",
       "<g id=\"node40\" class=\"node\">\n",
       "<title>39</title>\n",
       "<ellipse fill=\"none\" stroke=\"#000000\" cx=\"2430.5381\" cy=\"-122\" rx=\"134.5761\" ry=\"18\"/>\n",
       "<text text-anchor=\"middle\" x=\"2430.5381\" y=\"-118.3\" font-family=\"Times,serif\" font-size=\"14.00\" fill=\"#000000\">{0} pr_num0 tb1 type0, value&gt;3</text>\n",
       "</g>\n",
       "<!-- 19&#45;&gt;39 -->\n",
       "<g id=\"edge39\" class=\"edge\">\n",
       "<title>19&#45;&gt;39</title>\n",
       "<path fill=\"none\" stroke=\"#000000\" d=\"M2662.5412,-192.3285C2614.6274,-177.8041 2545.1168,-156.7329 2494.6824,-141.4445\"/>\n",
       "<polygon fill=\"#000000\" stroke=\"#000000\" points=\"2495.4473,-138.0191 2484.8619,-138.4675 2493.4165,-144.7181 2495.4473,-138.0191\"/>\n",
       "<text text-anchor=\"middle\" x=\"2601.0381\" y=\"-161.8\" font-family=\"Times,serif\" font-size=\"14.00\" fill=\"#000000\">No</text>\n",
       "</g>\n",
       "<!-- 40 -->\n",
       "<g id=\"node41\" class=\"node\">\n",
       "<title>40</title>\n",
       "<ellipse fill=\"none\" stroke=\"#000000\" cx=\"2717.5381\" cy=\"-122\" rx=\"134.5761\" ry=\"18\"/>\n",
       "<text text-anchor=\"middle\" x=\"2717.5381\" y=\"-118.3\" font-family=\"Times,serif\" font-size=\"14.00\" fill=\"#000000\">{0} pr_num0 tb1 type0, value&gt;3</text>\n",
       "</g>\n",
       "<!-- 19&#45;&gt;40 -->\n",
       "<g id=\"edge40\" class=\"edge\">\n",
       "<title>19&#45;&gt;40</title>\n",
       "<path fill=\"none\" stroke=\"#000000\" d=\"M2717.5381,-190.9735C2717.5381,-179.1918 2717.5381,-163.5607 2717.5381,-150.1581\"/>\n",
       "<polygon fill=\"#000000\" stroke=\"#000000\" points=\"2721.0382,-150.0033 2717.5381,-140.0034 2714.0382,-150.0034 2721.0382,-150.0033\"/>\n",
       "<text text-anchor=\"middle\" x=\"2728.0381\" y=\"-161.8\" font-family=\"Times,serif\" font-size=\"14.00\" fill=\"#000000\">Yes</text>\n",
       "</g>\n",
       "<!-- 41 -->\n",
       "<g id=\"node42\" class=\"node\">\n",
       "<title>41</title>\n",
       "<ellipse fill=\"none\" stroke=\"#000000\" cx=\"3004.5381\" cy=\"-122\" rx=\"134.5761\" ry=\"18\"/>\n",
       "<text text-anchor=\"middle\" x=\"3004.5381\" y=\"-118.3\" font-family=\"Times,serif\" font-size=\"14.00\" fill=\"#000000\">{0} pr_num0 tb1 type0, value&gt;3</text>\n",
       "</g>\n",
       "<!-- 20&#45;&gt;41 -->\n",
       "<g id=\"edge41\" class=\"edge\">\n",
       "<title>20&#45;&gt;41</title>\n",
       "<path fill=\"none\" stroke=\"#000000\" d=\"M3082.2324,-190.9735C3067.9098,-178.2586 3048.537,-161.0603 3032.7196,-147.0183\"/>\n",
       "<polygon fill=\"#000000\" stroke=\"#000000\" points=\"3034.6197,-144.0249 3024.8177,-140.0034 3029.9724,-149.2597 3034.6197,-144.0249\"/>\n",
       "<text text-anchor=\"middle\" x=\"3069.0381\" y=\"-161.8\" font-family=\"Times,serif\" font-size=\"14.00\" fill=\"#000000\">No</text>\n",
       "</g>\n",
       "<!-- 42 -->\n",
       "<g id=\"node43\" class=\"node\">\n",
       "<title>42</title>\n",
       "<ellipse fill=\"none\" stroke=\"#000000\" cx=\"3291.5381\" cy=\"-122\" rx=\"134.5761\" ry=\"18\"/>\n",
       "<text text-anchor=\"middle\" x=\"3291.5381\" y=\"-118.3\" font-family=\"Times,serif\" font-size=\"14.00\" fill=\"#000000\">{0} pr_num0 tb1 type0, value&gt;3</text>\n",
       "</g>\n",
       "<!-- 20&#45;&gt;42 -->\n",
       "<g id=\"edge42\" class=\"edge\">\n",
       "<title>20&#45;&gt;42</title>\n",
       "<path fill=\"none\" stroke=\"#000000\" d=\"M3140.3308,-191.6033C3170.3329,-177.7928 3212.4363,-158.4119 3244.5983,-143.6072\"/>\n",
       "<polygon fill=\"#000000\" stroke=\"#000000\" points=\"3246.1905,-146.7273 3253.8108,-139.3665 3243.2635,-140.3687 3246.1905,-146.7273\"/>\n",
       "<text text-anchor=\"middle\" x=\"3219.0381\" y=\"-161.8\" font-family=\"Times,serif\" font-size=\"14.00\" fill=\"#000000\">Yes</text>\n",
       "</g>\n",
       "<!-- 43 -->\n",
       "<g id=\"node44\" class=\"node\">\n",
       "<title>43</title>\n",
       "<ellipse fill=\"none\" stroke=\"#000000\" cx=\"3578.5381\" cy=\"-122\" rx=\"134.5761\" ry=\"18\"/>\n",
       "<text text-anchor=\"middle\" x=\"3578.5381\" y=\"-118.3\" font-family=\"Times,serif\" font-size=\"14.00\" fill=\"#000000\">{0} pr_num0 tb1 type0, value&gt;3</text>\n",
       "</g>\n",
       "<!-- 21&#45;&gt;43 -->\n",
       "<g id=\"edge43\" class=\"edge\">\n",
       "<title>21&#45;&gt;43</title>\n",
       "<path fill=\"none\" stroke=\"#000000\" d=\"M3716.5289,-191.3943C3689.3562,-177.7294 3651.525,-158.7044 3622.3451,-144.0301\"/>\n",
       "<polygon fill=\"#000000\" stroke=\"#000000\" points=\"3623.7059,-140.7969 3613.1995,-139.4309 3620.5609,-147.0506 3623.7059,-140.7969\"/>\n",
       "<text text-anchor=\"middle\" x=\"3685.0381\" y=\"-161.8\" font-family=\"Times,serif\" font-size=\"14.00\" fill=\"#000000\">No</text>\n",
       "</g>\n",
       "<!-- 44 -->\n",
       "<g id=\"node45\" class=\"node\">\n",
       "<title>44</title>\n",
       "<ellipse fill=\"none\" stroke=\"#000000\" cx=\"3865.5381\" cy=\"-122\" rx=\"134.5761\" ry=\"18\"/>\n",
       "<text text-anchor=\"middle\" x=\"3865.5381\" y=\"-118.3\" font-family=\"Times,serif\" font-size=\"14.00\" fill=\"#000000\">{0} pr_num0 tb1 type0, value&gt;3</text>\n",
       "</g>\n",
       "<!-- 21&#45;&gt;44 -->\n",
       "<g id=\"edge44\" class=\"edge\">\n",
       "<title>21&#45;&gt;44</title>\n",
       "<path fill=\"none\" stroke=\"#000000\" d=\"M3774.8828,-191.1843C3792.0194,-178.1063 3815.4791,-160.2029 3834.2401,-145.8853\"/>\n",
       "<polygon fill=\"#000000\" stroke=\"#000000\" points=\"3836.3984,-148.641 3842.2246,-139.7919 3832.1517,-143.0763 3836.3984,-148.641\"/>\n",
       "<text text-anchor=\"middle\" x=\"3826.0381\" y=\"-161.8\" font-family=\"Times,serif\" font-size=\"14.00\" fill=\"#000000\">Yes</text>\n",
       "</g>\n",
       "<!-- 45 -->\n",
       "<g id=\"node46\" class=\"node\">\n",
       "<title>45</title>\n",
       "<ellipse fill=\"none\" stroke=\"#000000\" cx=\"4152.5381\" cy=\"-122\" rx=\"134.5761\" ry=\"18\"/>\n",
       "<text text-anchor=\"middle\" x=\"4152.5381\" y=\"-118.3\" font-family=\"Times,serif\" font-size=\"14.00\" fill=\"#000000\">{0} pr_num0 tb1 type0, value&gt;3</text>\n",
       "</g>\n",
       "<!-- 22&#45;&gt;45 -->\n",
       "<g id=\"edge45\" class=\"edge\">\n",
       "<title>22&#45;&gt;45</title>\n",
       "<path fill=\"none\" stroke=\"#000000\" d=\"M4152.5381,-190.9735C4152.5381,-179.1918 4152.5381,-163.5607 4152.5381,-150.1581\"/>\n",
       "<polygon fill=\"#000000\" stroke=\"#000000\" points=\"4156.0382,-150.0033 4152.5381,-140.0034 4149.0382,-150.0034 4156.0382,-150.0033\"/>\n",
       "<text text-anchor=\"middle\" x=\"4162.0381\" y=\"-161.8\" font-family=\"Times,serif\" font-size=\"14.00\" fill=\"#000000\">No</text>\n",
       "</g>\n",
       "<!-- 46 -->\n",
       "<g id=\"node47\" class=\"node\">\n",
       "<title>46</title>\n",
       "<ellipse fill=\"none\" stroke=\"#000000\" cx=\"4439.5381\" cy=\"-122\" rx=\"134.5761\" ry=\"18\"/>\n",
       "<text text-anchor=\"middle\" x=\"4439.5381\" y=\"-118.3\" font-family=\"Times,serif\" font-size=\"14.00\" fill=\"#000000\">{0} pr_num0 tb1 type0, value&gt;3</text>\n",
       "</g>\n",
       "<!-- 22&#45;&gt;46 -->\n",
       "<g id=\"edge46\" class=\"edge\">\n",
       "<title>22&#45;&gt;46</title>\n",
       "<path fill=\"none\" stroke=\"#000000\" d=\"M4207.535,-192.3285C4255.4487,-177.8041 4324.9593,-156.7329 4375.3937,-141.4445\"/>\n",
       "<polygon fill=\"#000000\" stroke=\"#000000\" points=\"4376.6596,-144.7181 4385.2142,-138.4675 4374.6289,-138.0191 4376.6596,-144.7181\"/>\n",
       "<text text-anchor=\"middle\" x=\"4324.0381\" y=\"-161.8\" font-family=\"Times,serif\" font-size=\"14.00\" fill=\"#000000\">Yes</text>\n",
       "</g>\n",
       "<!-- 47 -->\n",
       "<g id=\"node48\" class=\"node\">\n",
       "<title>47</title>\n",
       "<ellipse fill=\"none\" stroke=\"#000000\" cx=\"4726.5381\" cy=\"-122\" rx=\"134.5761\" ry=\"18\"/>\n",
       "<text text-anchor=\"middle\" x=\"4726.5381\" y=\"-118.3\" font-family=\"Times,serif\" font-size=\"14.00\" fill=\"#000000\">{0} pr_num0 tb1 type0, value&gt;3</text>\n",
       "</g>\n",
       "<!-- 23&#45;&gt;47 -->\n",
       "<g id=\"edge47\" class=\"edge\">\n",
       "<title>23&#45;&gt;47</title>\n",
       "<path fill=\"none\" stroke=\"#000000\" d=\"M4958.5412,-192.3285C4910.6274,-177.8041 4841.1168,-156.7329 4790.6824,-141.4445\"/>\n",
       "<polygon fill=\"#000000\" stroke=\"#000000\" points=\"4791.4473,-138.0191 4780.8619,-138.4675 4789.4165,-144.7181 4791.4473,-138.0191\"/>\n",
       "<text text-anchor=\"middle\" x=\"4897.0381\" y=\"-161.8\" font-family=\"Times,serif\" font-size=\"14.00\" fill=\"#000000\">No</text>\n",
       "</g>\n",
       "<!-- 48 -->\n",
       "<g id=\"node49\" class=\"node\">\n",
       "<title>48</title>\n",
       "<ellipse fill=\"none\" stroke=\"#000000\" cx=\"5013.5381\" cy=\"-122\" rx=\"134.5761\" ry=\"18\"/>\n",
       "<text text-anchor=\"middle\" x=\"5013.5381\" y=\"-118.3\" font-family=\"Times,serif\" font-size=\"14.00\" fill=\"#000000\">{0} pr_num0 tb1 type0, value&gt;3</text>\n",
       "</g>\n",
       "<!-- 23&#45;&gt;48 -->\n",
       "<g id=\"edge48\" class=\"edge\">\n",
       "<title>23&#45;&gt;48</title>\n",
       "<path fill=\"none\" stroke=\"#000000\" d=\"M5013.5381,-190.9735C5013.5381,-179.1918 5013.5381,-163.5607 5013.5381,-150.1581\"/>\n",
       "<polygon fill=\"#000000\" stroke=\"#000000\" points=\"5017.0382,-150.0033 5013.5381,-140.0034 5010.0382,-150.0034 5017.0382,-150.0033\"/>\n",
       "<text text-anchor=\"middle\" x=\"5024.0381\" y=\"-161.8\" font-family=\"Times,serif\" font-size=\"14.00\" fill=\"#000000\">Yes</text>\n",
       "</g>\n",
       "<!-- 49 -->\n",
       "<g id=\"node50\" class=\"node\">\n",
       "<title>49</title>\n",
       "<ellipse fill=\"none\" stroke=\"#000000\" cx=\"5300.5381\" cy=\"-122\" rx=\"134.5761\" ry=\"18\"/>\n",
       "<text text-anchor=\"middle\" x=\"5300.5381\" y=\"-118.3\" font-family=\"Times,serif\" font-size=\"14.00\" fill=\"#000000\">{0} pr_num0 tb1 type0, value&gt;3</text>\n",
       "</g>\n",
       "<!-- 24&#45;&gt;49 -->\n",
       "<g id=\"edge49\" class=\"edge\">\n",
       "<title>24&#45;&gt;49</title>\n",
       "<path fill=\"none\" stroke=\"#000000\" d=\"M5419.3857,-191.3943C5396.3623,-177.9511 5364.4545,-159.3203 5339.4968,-144.7477\"/>\n",
       "<polygon fill=\"#000000\" stroke=\"#000000\" points=\"5341.0461,-141.5994 5330.6456,-139.5796 5337.5165,-147.6444 5341.0461,-141.5994\"/>\n",
       "<text text-anchor=\"middle\" x=\"5394.0381\" y=\"-161.8\" font-family=\"Times,serif\" font-size=\"14.00\" fill=\"#000000\">No</text>\n",
       "</g>\n",
       "<!-- 50 -->\n",
       "<g id=\"node51\" class=\"node\">\n",
       "<title>50</title>\n",
       "<ellipse fill=\"none\" stroke=\"#000000\" cx=\"5587.5381\" cy=\"-122\" rx=\"134.5761\" ry=\"18\"/>\n",
       "<text text-anchor=\"middle\" x=\"5587.5381\" y=\"-118.3\" font-family=\"Times,serif\" font-size=\"14.00\" fill=\"#000000\">{0} pr_num0 tb1 type0, value&gt;3</text>\n",
       "</g>\n",
       "<!-- 24&#45;&gt;50 -->\n",
       "<g id=\"edge50\" class=\"edge\">\n",
       "<title>24&#45;&gt;50</title>\n",
       "<path fill=\"none\" stroke=\"#000000\" d=\"M5477.7974,-191.1843C5498.8209,-177.9304 5527.7059,-159.7203 5550.5645,-145.3094\"/>\n",
       "<polygon fill=\"#000000\" stroke=\"#000000\" points=\"5552.7238,-148.0857 5559.3165,-139.7919 5548.9906,-142.1642 5552.7238,-148.0857\"/>\n",
       "<text text-anchor=\"middle\" x=\"5538.0381\" y=\"-161.8\" font-family=\"Times,serif\" font-size=\"14.00\" fill=\"#000000\">Yes</text>\n",
       "</g>\n",
       "<!-- 51 -->\n",
       "<g id=\"node52\" class=\"node\">\n",
       "<title>51</title>\n",
       "<ellipse fill=\"none\" stroke=\"#000000\" cx=\"5874.5381\" cy=\"-122\" rx=\"134.5761\" ry=\"18\"/>\n",
       "<text text-anchor=\"middle\" x=\"5874.5381\" y=\"-118.3\" font-family=\"Times,serif\" font-size=\"14.00\" fill=\"#000000\">{0} pr_num0 tb1 type0, value&gt;3</text>\n",
       "</g>\n",
       "<!-- 25&#45;&gt;51 -->\n",
       "<g id=\"edge51\" class=\"edge\">\n",
       "<title>25&#45;&gt;51</title>\n",
       "<path fill=\"none\" stroke=\"#000000\" d=\"M5998.9691,-191.3943C5974.7584,-177.8921 5941.164,-159.1568 5914.9836,-144.5562\"/>\n",
       "<polygon fill=\"#000000\" stroke=\"#000000\" points=\"5916.4984,-141.3935 5906.06,-139.5796 5913.0889,-147.5071 5916.4984,-141.3935\"/>\n",
       "<text text-anchor=\"middle\" x=\"5972.0381\" y=\"-161.8\" font-family=\"Times,serif\" font-size=\"14.00\" fill=\"#000000\">No</text>\n",
       "</g>\n",
       "<!-- 52 -->\n",
       "<g id=\"node53\" class=\"node\">\n",
       "<title>52</title>\n",
       "<ellipse fill=\"none\" stroke=\"#000000\" cx=\"6161.5381\" cy=\"-122\" rx=\"134.5761\" ry=\"18\"/>\n",
       "<text text-anchor=\"middle\" x=\"6161.5381\" y=\"-118.3\" font-family=\"Times,serif\" font-size=\"14.00\" fill=\"#000000\">{0} pr_num0 tb1 type0, value&gt;3</text>\n",
       "</g>\n",
       "<!-- 25&#45;&gt;52 -->\n",
       "<g id=\"edge52\" class=\"edge\">\n",
       "<title>25&#45;&gt;52</title>\n",
       "<path fill=\"none\" stroke=\"#000000\" d=\"M6057.364,-191.1843C6077.2327,-177.989 6104.4983,-159.8813 6126.1516,-145.5009\"/>\n",
       "<polygon fill=\"#000000\" stroke=\"#000000\" points=\"6128.3541,-148.2398 6134.748,-139.7919 6124.4814,-142.4086 6128.3541,-148.2398\"/>\n",
       "<text text-anchor=\"middle\" x=\"6115.0381\" y=\"-161.8\" font-family=\"Times,serif\" font-size=\"14.00\" fill=\"#000000\">Yes</text>\n",
       "</g>\n",
       "<!-- 53 -->\n",
       "<g id=\"node54\" class=\"node\">\n",
       "<title>53</title>\n",
       "<ellipse fill=\"none\" stroke=\"#000000\" cx=\"6448.5381\" cy=\"-122\" rx=\"134.5761\" ry=\"18\"/>\n",
       "<text text-anchor=\"middle\" x=\"6448.5381\" y=\"-118.3\" font-family=\"Times,serif\" font-size=\"14.00\" fill=\"#000000\">{0} pr_num0 tb1 type0, value&gt;3</text>\n",
       "</g>\n",
       "<!-- 26&#45;&gt;53 -->\n",
       "<g id=\"edge53\" class=\"edge\">\n",
       "<title>26&#45;&gt;53</title>\n",
       "<path fill=\"none\" stroke=\"#000000\" d=\"M6448.5381,-190.9735C6448.5381,-179.1918 6448.5381,-163.5607 6448.5381,-150.1581\"/>\n",
       "<polygon fill=\"#000000\" stroke=\"#000000\" points=\"6452.0382,-150.0033 6448.5381,-140.0034 6445.0382,-150.0034 6452.0382,-150.0033\"/>\n",
       "<text text-anchor=\"middle\" x=\"6458.0381\" y=\"-161.8\" font-family=\"Times,serif\" font-size=\"14.00\" fill=\"#000000\">No</text>\n",
       "</g>\n",
       "<!-- 54 -->\n",
       "<g id=\"node55\" class=\"node\">\n",
       "<title>54</title>\n",
       "<ellipse fill=\"none\" stroke=\"#000000\" cx=\"6735.5381\" cy=\"-122\" rx=\"134.5761\" ry=\"18\"/>\n",
       "<text text-anchor=\"middle\" x=\"6735.5381\" y=\"-118.3\" font-family=\"Times,serif\" font-size=\"14.00\" fill=\"#000000\">{0} pr_num0 tb1 type0, value&gt;3</text>\n",
       "</g>\n",
       "<!-- 26&#45;&gt;54 -->\n",
       "<g id=\"edge54\" class=\"edge\">\n",
       "<title>26&#45;&gt;54</title>\n",
       "<path fill=\"none\" stroke=\"#000000\" d=\"M6503.535,-192.3285C6551.4487,-177.8041 6620.9593,-156.7329 6671.3937,-141.4445\"/>\n",
       "<polygon fill=\"#000000\" stroke=\"#000000\" points=\"6672.6596,-144.7181 6681.2142,-138.4675 6670.6289,-138.0191 6672.6596,-144.7181\"/>\n",
       "<text text-anchor=\"middle\" x=\"6620.0381\" y=\"-161.8\" font-family=\"Times,serif\" font-size=\"14.00\" fill=\"#000000\">Yes</text>\n",
       "</g>\n",
       "<!-- 55 -->\n",
       "<g id=\"node56\" class=\"node\">\n",
       "<title>55</title>\n",
       "<ellipse fill=\"none\" stroke=\"#000000\" cx=\"7022.5381\" cy=\"-122\" rx=\"134.5761\" ry=\"18\"/>\n",
       "<text text-anchor=\"middle\" x=\"7022.5381\" y=\"-118.3\" font-family=\"Times,serif\" font-size=\"14.00\" fill=\"#000000\">{0} pr_num0 tb1 type0, value&gt;3</text>\n",
       "</g>\n",
       "<!-- 27&#45;&gt;55 -->\n",
       "<g id=\"edge55\" class=\"edge\">\n",
       "<title>27&#45;&gt;55</title>\n",
       "<path fill=\"none\" stroke=\"#000000\" d=\"M7243.7081,-192.2255C7198.3161,-177.8127 7132.7969,-157.0092 7084.8524,-141.786\"/>\n",
       "<polygon fill=\"#000000\" stroke=\"#000000\" points=\"7085.7961,-138.4135 7075.2058,-138.723 7083.6777,-145.0852 7085.7961,-138.4135\"/>\n",
       "<text text-anchor=\"middle\" x=\"7186.0381\" y=\"-161.8\" font-family=\"Times,serif\" font-size=\"14.00\" fill=\"#000000\">No</text>\n",
       "</g>\n",
       "<!-- 56 -->\n",
       "<g id=\"node57\" class=\"node\">\n",
       "<title>56</title>\n",
       "<ellipse fill=\"none\" stroke=\"#000000\" cx=\"7309.5381\" cy=\"-122\" rx=\"134.5761\" ry=\"18\"/>\n",
       "<text text-anchor=\"middle\" x=\"7309.5381\" y=\"-118.3\" font-family=\"Times,serif\" font-size=\"14.00\" fill=\"#000000\">{0} pr_num0 tb1 type0, value&gt;3</text>\n",
       "</g>\n",
       "<!-- 27&#45;&gt;56 -->\n",
       "<g id=\"edge56\" class=\"edge\">\n",
       "<title>27&#45;&gt;56</title>\n",
       "<path fill=\"none\" stroke=\"#000000\" d=\"M7299.2317,-190.9735C7300.9922,-179.1918 7303.3278,-163.5607 7305.3305,-150.1581\"/>\n",
       "<polygon fill=\"#000000\" stroke=\"#000000\" points=\"7308.8315,-150.4108 7306.8479,-140.0034 7301.9084,-149.3763 7308.8315,-150.4108\"/>\n",
       "<text text-anchor=\"middle\" x=\"7315.0381\" y=\"-161.8\" font-family=\"Times,serif\" font-size=\"14.00\" fill=\"#000000\">Yes</text>\n",
       "</g>\n",
       "<!-- 57 -->\n",
       "<g id=\"node58\" class=\"node\">\n",
       "<title>57</title>\n",
       "<ellipse fill=\"none\" stroke=\"#000000\" cx=\"7596.5381\" cy=\"-122\" rx=\"134.5761\" ry=\"18\"/>\n",
       "<text text-anchor=\"middle\" x=\"7596.5381\" y=\"-118.3\" font-family=\"Times,serif\" font-size=\"14.00\" fill=\"#000000\">{0} pr_num0 tb1 type0, value&gt;3</text>\n",
       "</g>\n",
       "<!-- 28&#45;&gt;57 -->\n",
       "<g id=\"edge57\" class=\"edge\">\n",
       "<title>28&#45;&gt;57</title>\n",
       "<path fill=\"none\" stroke=\"#000000\" d=\"M7600.5021,-190.9735C7599.8249,-179.1918 7598.9266,-163.5607 7598.1563,-150.1581\"/>\n",
       "<polygon fill=\"#000000\" stroke=\"#000000\" points=\"7601.6408,-149.786 7597.5727,-140.0034 7594.6524,-150.1877 7601.6408,-149.786\"/>\n",
       "<text text-anchor=\"middle\" x=\"7609.0381\" y=\"-161.8\" font-family=\"Times,serif\" font-size=\"14.00\" fill=\"#000000\">No</text>\n",
       "</g>\n",
       "<!-- 58 -->\n",
       "<g id=\"node59\" class=\"node\">\n",
       "<title>58</title>\n",
       "<ellipse fill=\"none\" stroke=\"#000000\" cx=\"7883.5381\" cy=\"-122\" rx=\"134.5761\" ry=\"18\"/>\n",
       "<text text-anchor=\"middle\" x=\"7883.5381\" y=\"-118.3\" font-family=\"Times,serif\" font-size=\"14.00\" fill=\"#000000\">{0} pr_num0 tb1 type0, value&gt;3</text>\n",
       "</g>\n",
       "<!-- 28&#45;&gt;58 -->\n",
       "<g id=\"edge58\" class=\"edge\">\n",
       "<title>28&#45;&gt;58</title>\n",
       "<path fill=\"none\" stroke=\"#000000\" d=\"M7655.9105,-192.2255C7702.8754,-177.7364 7770.7753,-156.7885 7820.1872,-141.5444\"/>\n",
       "<polygon fill=\"#000000\" stroke=\"#000000\" points=\"7821.2877,-144.8678 7829.8115,-138.5752 7819.224,-138.1788 7821.2877,-144.8678\"/>\n",
       "<text text-anchor=\"middle\" x=\"7770.0381\" y=\"-161.8\" font-family=\"Times,serif\" font-size=\"14.00\" fill=\"#000000\">Yes</text>\n",
       "</g>\n",
       "<!-- 59 -->\n",
       "<g id=\"node60\" class=\"node\">\n",
       "<title>59</title>\n",
       "<ellipse fill=\"none\" stroke=\"#000000\" cx=\"8170.5381\" cy=\"-122\" rx=\"134.5761\" ry=\"18\"/>\n",
       "<text text-anchor=\"middle\" x=\"8170.5381\" y=\"-118.3\" font-family=\"Times,serif\" font-size=\"14.00\" fill=\"#000000\">{0} pr_num0 tb1 type0, value&gt;3</text>\n",
       "</g>\n",
       "<!-- 29&#45;&gt;59 -->\n",
       "<g id=\"edge59\" class=\"edge\">\n",
       "<title>29&#45;&gt;59</title>\n",
       "<path fill=\"none\" stroke=\"#000000\" d=\"M8277.893,-191.1843C8257.3266,-177.9304 8229.0695,-159.7203 8206.7078,-145.3094\"/>\n",
       "<polygon fill=\"#000000\" stroke=\"#000000\" points=\"8208.4478,-142.2669 8198.1461,-139.7919 8204.6559,-148.1509 8208.4478,-142.2669\"/>\n",
       "<text text-anchor=\"middle\" x=\"8256.0381\" y=\"-161.8\" font-family=\"Times,serif\" font-size=\"14.00\" fill=\"#000000\">No</text>\n",
       "</g>\n",
       "<!-- 60 -->\n",
       "<g id=\"node61\" class=\"node\">\n",
       "<title>60</title>\n",
       "<ellipse fill=\"none\" stroke=\"#000000\" cx=\"8457.5381\" cy=\"-122\" rx=\"134.5761\" ry=\"18\"/>\n",
       "<text text-anchor=\"middle\" x=\"8457.5381\" y=\"-118.3\" font-family=\"Times,serif\" font-size=\"14.00\" fill=\"#000000\">{0} pr_num0 tb1 type0, value&gt;3</text>\n",
       "</g>\n",
       "<!-- 29&#45;&gt;60 -->\n",
       "<g id=\"edge60\" class=\"edge\">\n",
       "<title>29&#45;&gt;60</title>\n",
       "<path fill=\"none\" stroke=\"#000000\" d=\"M8336.2975,-191.3943C8359.8875,-177.8921 8392.6205,-159.1568 8418.1296,-144.5562\"/>\n",
       "<polygon fill=\"#000000\" stroke=\"#000000\" points=\"8419.8841,-147.5848 8426.8243,-139.5796 8416.4068,-141.5095 8419.8841,-147.5848\"/>\n",
       "<text text-anchor=\"middle\" x=\"8402.0381\" y=\"-161.8\" font-family=\"Times,serif\" font-size=\"14.00\" fill=\"#000000\">Yes</text>\n",
       "</g>\n",
       "<!-- 61 -->\n",
       "<g id=\"node62\" class=\"node\">\n",
       "<title>61</title>\n",
       "<ellipse fill=\"none\" stroke=\"#000000\" cx=\"8744.5381\" cy=\"-122\" rx=\"134.5761\" ry=\"18\"/>\n",
       "<text text-anchor=\"middle\" x=\"8744.5381\" y=\"-118.3\" font-family=\"Times,serif\" font-size=\"14.00\" fill=\"#000000\">{0} pr_num0 tb1 type0, value&gt;3</text>\n",
       "</g>\n",
       "<!-- 30&#45;&gt;61 -->\n",
       "<g id=\"edge61\" class=\"edge\">\n",
       "<title>30&#45;&gt;61</title>\n",
       "<path fill=\"none\" stroke=\"#000000\" d=\"M8744.5381,-190.9735C8744.5381,-179.1918 8744.5381,-163.5607 8744.5381,-150.1581\"/>\n",
       "<polygon fill=\"#000000\" stroke=\"#000000\" points=\"8748.0382,-150.0033 8744.5381,-140.0034 8741.0382,-150.0034 8748.0382,-150.0033\"/>\n",
       "<text text-anchor=\"middle\" x=\"8754.0381\" y=\"-161.8\" font-family=\"Times,serif\" font-size=\"14.00\" fill=\"#000000\">No</text>\n",
       "</g>\n",
       "<!-- 62 -->\n",
       "<g id=\"node63\" class=\"node\">\n",
       "<title>62</title>\n",
       "<ellipse fill=\"none\" stroke=\"#000000\" cx=\"9031.5381\" cy=\"-122\" rx=\"134.5761\" ry=\"18\"/>\n",
       "<text text-anchor=\"middle\" x=\"9031.5381\" y=\"-118.3\" font-family=\"Times,serif\" font-size=\"14.00\" fill=\"#000000\">{0} pr_num0 tb1 type0, value&gt;3</text>\n",
       "</g>\n",
       "<!-- 30&#45;&gt;62 -->\n",
       "<g id=\"edge62\" class=\"edge\">\n",
       "<title>30&#45;&gt;62</title>\n",
       "<path fill=\"none\" stroke=\"#000000\" d=\"M8799.535,-192.3285C8847.4487,-177.8041 8916.9593,-156.7329 8967.3937,-141.4445\"/>\n",
       "<polygon fill=\"#000000\" stroke=\"#000000\" points=\"8968.6596,-144.7181 8977.2142,-138.4675 8966.6289,-138.0191 8968.6596,-144.7181\"/>\n",
       "<text text-anchor=\"middle\" x=\"8916.0381\" y=\"-161.8\" font-family=\"Times,serif\" font-size=\"14.00\" fill=\"#000000\">Yes</text>\n",
       "</g>\n",
       "<!-- 63 -->\n",
       "<g id=\"node64\" class=\"node\">\n",
       "<title>63</title>\n",
       "<polygon fill=\"none\" stroke=\"#ff0000\" points=\"144.5381,-53 56.5381,-53 56.5381,0 144.5381,0 144.5381,-53\"/>\n",
       "<text text-anchor=\"middle\" x=\"100.5381\" y=\"-37.8\" font-family=\"Times,serif\" font-size=\"14.00\" fill=\"#000000\">val = 0.018</text>\n",
       "<text text-anchor=\"middle\" x=\"100.5381\" y=\"-22.8\" font-family=\"Times,serif\" font-size=\"14.00\" fill=\"#000000\">val = 0.000</text>\n",
       "<text text-anchor=\"middle\" x=\"100.5381\" y=\"-7.8\" font-family=\"Times,serif\" font-size=\"14.00\" fill=\"#000000\">val = &#45;0.018</text>\n",
       "</g>\n",
       "<!-- 31&#45;&gt;63 -->\n",
       "<g id=\"edge63\" class=\"edge\">\n",
       "<title>31&#45;&gt;63</title>\n",
       "<path fill=\"none\" stroke=\"#000000\" d=\"M127.9825,-103.5866C123.8831,-92.0722 118.4608,-76.8419 113.5191,-62.9616\"/>\n",
       "<polygon fill=\"#000000\" stroke=\"#000000\" points=\"116.6829,-61.4124 110.0316,-53.1655 110.0883,-63.7602 116.6829,-61.4124\"/>\n",
       "<text text-anchor=\"middle\" x=\"132.0381\" y=\"-74.8\" font-family=\"Times,serif\" font-size=\"14.00\" fill=\"#000000\">No</text>\n",
       "</g>\n",
       "<!-- 64 -->\n",
       "<g id=\"node65\" class=\"node\">\n",
       "<title>64</title>\n",
       "<polygon fill=\"none\" stroke=\"#ff0000\" points=\"250.5381,-53 162.5381,-53 162.5381,0 250.5381,0 250.5381,-53\"/>\n",
       "<text text-anchor=\"middle\" x=\"206.5381\" y=\"-37.8\" font-family=\"Times,serif\" font-size=\"14.00\" fill=\"#000000\">val = &#45;0.007</text>\n",
       "<text text-anchor=\"middle\" x=\"206.5381\" y=\"-22.8\" font-family=\"Times,serif\" font-size=\"14.00\" fill=\"#000000\">val = 0.014</text>\n",
       "<text text-anchor=\"middle\" x=\"206.5381\" y=\"-7.8\" font-family=\"Times,serif\" font-size=\"14.00\" fill=\"#000000\">val = &#45;0.007</text>\n",
       "</g>\n",
       "<!-- 31&#45;&gt;64 -->\n",
       "<g id=\"edge64\" class=\"edge\">\n",
       "<title>31&#45;&gt;64</title>\n",
       "<path fill=\"none\" stroke=\"#000000\" d=\"M148.0807,-104.0372C157.1387,-92.0228 169.3548,-75.8195 180.2774,-61.3318\"/>\n",
       "<polygon fill=\"#000000\" stroke=\"#000000\" points=\"183.3,-63.1366 186.5254,-53.0446 177.7106,-58.9225 183.3,-63.1366\"/>\n",
       "<text text-anchor=\"middle\" x=\"184.0381\" y=\"-74.8\" font-family=\"Times,serif\" font-size=\"14.00\" fill=\"#000000\">Yes</text>\n",
       "</g>\n",
       "<!-- 65 -->\n",
       "<g id=\"node66\" class=\"node\">\n",
       "<title>65</title>\n",
       "<polygon fill=\"none\" stroke=\"#ff0000\" points=\"393.5381,-53 305.5381,-53 305.5381,0 393.5381,0 393.5381,-53\"/>\n",
       "<text text-anchor=\"middle\" x=\"349.5381\" y=\"-37.8\" font-family=\"Times,serif\" font-size=\"14.00\" fill=\"#000000\">val = 0.025</text>\n",
       "<text text-anchor=\"middle\" x=\"349.5381\" y=\"-22.8\" font-family=\"Times,serif\" font-size=\"14.00\" fill=\"#000000\">val = &#45;0.013</text>\n",
       "<text text-anchor=\"middle\" x=\"349.5381\" y=\"-7.8\" font-family=\"Times,serif\" font-size=\"14.00\" fill=\"#000000\">val = &#45;0.013</text>\n",
       "</g>\n",
       "<!-- 32&#45;&gt;65 -->\n",
       "<g id=\"edge65\" class=\"edge\">\n",
       "<title>32&#45;&gt;65</title>\n",
       "<path fill=\"none\" stroke=\"#000000\" d=\"M407.9954,-104.0372C398.9375,-92.0228 386.7214,-75.8195 375.7987,-61.3318\"/>\n",
       "<polygon fill=\"#000000\" stroke=\"#000000\" points=\"378.3656,-58.9225 369.5507,-53.0446 372.7761,-63.1366 378.3656,-58.9225\"/>\n",
       "<text text-anchor=\"middle\" x=\"404.0381\" y=\"-74.8\" font-family=\"Times,serif\" font-size=\"14.00\" fill=\"#000000\">No</text>\n",
       "</g>\n",
       "<!-- 66 -->\n",
       "<g id=\"node67\" class=\"node\">\n",
       "<title>66</title>\n",
       "<polygon fill=\"none\" stroke=\"#ff0000\" points=\"499.5381,-53 411.5381,-53 411.5381,0 499.5381,0 499.5381,-53\"/>\n",
       "<text text-anchor=\"middle\" x=\"455.5381\" y=\"-37.8\" font-family=\"Times,serif\" font-size=\"14.00\" fill=\"#000000\">val = 0.014</text>\n",
       "<text text-anchor=\"middle\" x=\"455.5381\" y=\"-22.8\" font-family=\"Times,serif\" font-size=\"14.00\" fill=\"#000000\">val = &#45;0.007</text>\n",
       "<text text-anchor=\"middle\" x=\"455.5381\" y=\"-7.8\" font-family=\"Times,serif\" font-size=\"14.00\" fill=\"#000000\">val = &#45;0.007</text>\n",
       "</g>\n",
       "<!-- 32&#45;&gt;66 -->\n",
       "<g id=\"edge66\" class=\"edge\">\n",
       "<title>32&#45;&gt;66</title>\n",
       "<path fill=\"none\" stroke=\"#000000\" d=\"M428.0936,-103.5866C432.193,-92.0722 437.6153,-76.8419 442.557,-62.9616\"/>\n",
       "<polygon fill=\"#000000\" stroke=\"#000000\" points=\"445.9878,-63.7602 446.0446,-53.1655 439.3932,-61.4124 445.9878,-63.7602\"/>\n",
       "<text text-anchor=\"middle\" x=\"451.0381\" y=\"-74.8\" font-family=\"Times,serif\" font-size=\"14.00\" fill=\"#000000\">Yes</text>\n",
       "</g>\n",
       "<!-- 67 -->\n",
       "<g id=\"node68\" class=\"node\">\n",
       "<title>67</title>\n",
       "<polygon fill=\"none\" stroke=\"#ff0000\" points=\"691.0381,-53 608.0381,-53 608.0381,0 691.0381,0 691.0381,-53\"/>\n",
       "<text text-anchor=\"middle\" x=\"649.5381\" y=\"-37.8\" font-family=\"Times,serif\" font-size=\"14.00\" fill=\"#000000\">val = 0.000</text>\n",
       "<text text-anchor=\"middle\" x=\"649.5381\" y=\"-22.8\" font-family=\"Times,serif\" font-size=\"14.00\" fill=\"#000000\">val = 0.000</text>\n",
       "<text text-anchor=\"middle\" x=\"649.5381\" y=\"-7.8\" font-family=\"Times,serif\" font-size=\"14.00\" fill=\"#000000\">val = 0.000</text>\n",
       "</g>\n",
       "<!-- 33&#45;&gt;67 -->\n",
       "<g id=\"edge67\" class=\"edge\">\n",
       "<title>33&#45;&gt;67</title>\n",
       "<path fill=\"none\" stroke=\"#000000\" d=\"M697.4406,-104.0372C690.0875,-92.1351 680.1946,-76.122 671.3084,-61.7385\"/>\n",
       "<polygon fill=\"#000000\" stroke=\"#000000\" points=\"674.1709,-59.7124 665.9373,-53.0446 668.2157,-63.3916 674.1709,-59.7124\"/>\n",
       "<text text-anchor=\"middle\" x=\"696.0381\" y=\"-74.8\" font-family=\"Times,serif\" font-size=\"14.00\" fill=\"#000000\">No</text>\n",
       "</g>\n",
       "<!-- 68 -->\n",
       "<g id=\"node69\" class=\"node\">\n",
       "<title>68</title>\n",
       "<polygon fill=\"none\" stroke=\"#ff0000\" points=\"792.0381,-53 709.0381,-53 709.0381,0 792.0381,0 792.0381,-53\"/>\n",
       "<text text-anchor=\"middle\" x=\"750.5381\" y=\"-37.8\" font-family=\"Times,serif\" font-size=\"14.00\" fill=\"#000000\">val = 0.000</text>\n",
       "<text text-anchor=\"middle\" x=\"750.5381\" y=\"-22.8\" font-family=\"Times,serif\" font-size=\"14.00\" fill=\"#000000\">val = 0.000</text>\n",
       "<text text-anchor=\"middle\" x=\"750.5381\" y=\"-7.8\" font-family=\"Times,serif\" font-size=\"14.00\" fill=\"#000000\">val = 0.000</text>\n",
       "</g>\n",
       "<!-- 33&#45;&gt;68 -->\n",
       "<g id=\"edge68\" class=\"edge\">\n",
       "<title>33&#45;&gt;68</title>\n",
       "<path fill=\"none\" stroke=\"#000000\" d=\"M716.6361,-103.5866C721.7492,-91.9604 728.5284,-76.5458 734.6802,-62.5577\"/>\n",
       "<polygon fill=\"#000000\" stroke=\"#000000\" points=\"737.9888,-63.7285 738.8108,-53.1655 731.5811,-60.9104 737.9888,-63.7285\"/>\n",
       "<text text-anchor=\"middle\" x=\"742.0381\" y=\"-74.8\" font-family=\"Times,serif\" font-size=\"14.00\" fill=\"#000000\">Yes</text>\n",
       "</g>\n",
       "<!-- 69 -->\n",
       "<g id=\"node70\" class=\"node\">\n",
       "<title>69</title>\n",
       "<polygon fill=\"none\" stroke=\"#ff0000\" points=\"975.0381,-53 892.0381,-53 892.0381,0 975.0381,0 975.0381,-53\"/>\n",
       "<text text-anchor=\"middle\" x=\"933.5381\" y=\"-37.8\" font-family=\"Times,serif\" font-size=\"14.00\" fill=\"#000000\">val = 0.000</text>\n",
       "<text text-anchor=\"middle\" x=\"933.5381\" y=\"-22.8\" font-family=\"Times,serif\" font-size=\"14.00\" fill=\"#000000\">val = 0.000</text>\n",
       "<text text-anchor=\"middle\" x=\"933.5381\" y=\"-7.8\" font-family=\"Times,serif\" font-size=\"14.00\" fill=\"#000000\">val = 0.000</text>\n",
       "</g>\n",
       "<!-- 34&#45;&gt;69 -->\n",
       "<g id=\"edge69\" class=\"edge\">\n",
       "<title>34&#45;&gt;69</title>\n",
       "<path fill=\"none\" stroke=\"#000000\" d=\"M983.8763,-104.0372C976.1493,-92.1351 965.7534,-76.122 956.4154,-61.7385\"/>\n",
       "<polygon fill=\"#000000\" stroke=\"#000000\" points=\"959.1521,-59.5262 950.7712,-53.0446 953.2809,-63.3379 959.1521,-59.5262\"/>\n",
       "<text text-anchor=\"middle\" x=\"982.0381\" y=\"-74.8\" font-family=\"Times,serif\" font-size=\"14.00\" fill=\"#000000\">No</text>\n",
       "</g>\n",
       "<!-- 70 -->\n",
       "<g id=\"node71\" class=\"node\">\n",
       "<title>70</title>\n",
       "<polygon fill=\"none\" stroke=\"#ff0000\" points=\"1076.0381,-53 993.0381,-53 993.0381,0 1076.0381,0 1076.0381,-53\"/>\n",
       "<text text-anchor=\"middle\" x=\"1034.5381\" y=\"-37.8\" font-family=\"Times,serif\" font-size=\"14.00\" fill=\"#000000\">val = 0.000</text>\n",
       "<text text-anchor=\"middle\" x=\"1034.5381\" y=\"-22.8\" font-family=\"Times,serif\" font-size=\"14.00\" fill=\"#000000\">val = 0.000</text>\n",
       "<text text-anchor=\"middle\" x=\"1034.5381\" y=\"-7.8\" font-family=\"Times,serif\" font-size=\"14.00\" fill=\"#000000\">val = 0.000</text>\n",
       "</g>\n",
       "<!-- 34&#45;&gt;70 -->\n",
       "<g id=\"edge70\" class=\"edge\">\n",
       "<title>34&#45;&gt;70</title>\n",
       "<path fill=\"none\" stroke=\"#000000\" d=\"M1003.0577,-103.5866C1007.8055,-91.9604 1014.1005,-76.5458 1019.8129,-62.5577\"/>\n",
       "<polygon fill=\"#000000\" stroke=\"#000000\" points=\"1023.108,-63.7466 1023.6485,-53.1655 1016.6275,-61.1001 1023.108,-63.7466\"/>\n",
       "<text text-anchor=\"middle\" x=\"1027.0381\" y=\"-74.8\" font-family=\"Times,serif\" font-size=\"14.00\" fill=\"#000000\">Yes</text>\n",
       "</g>\n",
       "<!-- 71 -->\n",
       "<g id=\"node72\" class=\"node\">\n",
       "<title>71</title>\n",
       "<polygon fill=\"none\" stroke=\"#ff0000\" points=\"1261.5381,-53 1173.5381,-53 1173.5381,0 1261.5381,0 1261.5381,-53\"/>\n",
       "<text text-anchor=\"middle\" x=\"1217.5381\" y=\"-37.8\" font-family=\"Times,serif\" font-size=\"14.00\" fill=\"#000000\">val = 0.000</text>\n",
       "<text text-anchor=\"middle\" x=\"1217.5381\" y=\"-22.8\" font-family=\"Times,serif\" font-size=\"14.00\" fill=\"#000000\">val = 0.018</text>\n",
       "<text text-anchor=\"middle\" x=\"1217.5381\" y=\"-7.8\" font-family=\"Times,serif\" font-size=\"14.00\" fill=\"#000000\">val = &#45;0.018</text>\n",
       "</g>\n",
       "<!-- 35&#45;&gt;71 -->\n",
       "<g id=\"edge71\" class=\"edge\">\n",
       "<title>35&#45;&gt;71</title>\n",
       "<path fill=\"none\" stroke=\"#000000\" d=\"M1270.3121,-104.0372C1262.1347,-92.0228 1251.1063,-75.8195 1241.2456,-61.3318\"/>\n",
       "<polygon fill=\"#000000\" stroke=\"#000000\" points=\"1244.1252,-59.3421 1235.6051,-53.0446 1238.3384,-63.2808 1244.1252,-59.3421\"/>\n",
       "<text text-anchor=\"middle\" x=\"1268.0381\" y=\"-74.8\" font-family=\"Times,serif\" font-size=\"14.00\" fill=\"#000000\">No</text>\n",
       "</g>\n",
       "<!-- 72 -->\n",
       "<g id=\"node73\" class=\"node\">\n",
       "<title>72</title>\n",
       "<polygon fill=\"none\" stroke=\"#ff0000\" points=\"1363.0381,-53 1280.0381,-53 1280.0381,0 1363.0381,0 1363.0381,-53\"/>\n",
       "<text text-anchor=\"middle\" x=\"1321.5381\" y=\"-37.8\" font-family=\"Times,serif\" font-size=\"14.00\" fill=\"#000000\">val = 0.000</text>\n",
       "<text text-anchor=\"middle\" x=\"1321.5381\" y=\"-22.8\" font-family=\"Times,serif\" font-size=\"14.00\" fill=\"#000000\">val = 0.000</text>\n",
       "<text text-anchor=\"middle\" x=\"1321.5381\" y=\"-7.8\" font-family=\"Times,serif\" font-size=\"14.00\" fill=\"#000000\">val = 0.000</text>\n",
       "</g>\n",
       "<!-- 35&#45;&gt;72 -->\n",
       "<g id=\"edge72\" class=\"edge\">\n",
       "<title>35&#45;&gt;72</title>\n",
       "<path fill=\"none\" stroke=\"#000000\" d=\"M1290.0577,-103.5866C1294.8055,-91.9604 1301.1005,-76.5458 1306.8129,-62.5577\"/>\n",
       "<polygon fill=\"#000000\" stroke=\"#000000\" points=\"1310.108,-63.7466 1310.6485,-53.1655 1303.6275,-61.1001 1310.108,-63.7466\"/>\n",
       "<text text-anchor=\"middle\" x=\"1314.0381\" y=\"-74.8\" font-family=\"Times,serif\" font-size=\"14.00\" fill=\"#000000\">Yes</text>\n",
       "</g>\n",
       "<!-- 73 -->\n",
       "<g id=\"node74\" class=\"node\">\n",
       "<title>73</title>\n",
       "<polygon fill=\"none\" stroke=\"#ff0000\" points=\"1561.5381,-53 1473.5381,-53 1473.5381,0 1561.5381,0 1561.5381,-53\"/>\n",
       "<text text-anchor=\"middle\" x=\"1517.5381\" y=\"-37.8\" font-family=\"Times,serif\" font-size=\"14.00\" fill=\"#000000\">val = &#45;0.007</text>\n",
       "<text text-anchor=\"middle\" x=\"1517.5381\" y=\"-22.8\" font-family=\"Times,serif\" font-size=\"14.00\" fill=\"#000000\">val = &#45;0.007</text>\n",
       "<text text-anchor=\"middle\" x=\"1517.5381\" y=\"-7.8\" font-family=\"Times,serif\" font-size=\"14.00\" fill=\"#000000\">val = 0.014</text>\n",
       "</g>\n",
       "<!-- 36&#45;&gt;73 -->\n",
       "<g id=\"edge73\" class=\"edge\">\n",
       "<title>36&#45;&gt;73</title>\n",
       "<path fill=\"none\" stroke=\"#000000\" d=\"M1559.7573,-104.0372C1553.3377,-92.2474 1544.7217,-76.4238 1536.9474,-62.146\"/>\n",
       "<polygon fill=\"#000000\" stroke=\"#000000\" points=\"1539.8477,-60.1533 1531.9917,-53.0446 1533.6999,-63.5008 1539.8477,-60.1533\"/>\n",
       "<text text-anchor=\"middle\" x=\"1560.0381\" y=\"-74.8\" font-family=\"Times,serif\" font-size=\"14.00\" fill=\"#000000\">No</text>\n",
       "</g>\n",
       "<!-- 74 -->\n",
       "<g id=\"node75\" class=\"node\">\n",
       "<title>74</title>\n",
       "<polygon fill=\"none\" stroke=\"#ff0000\" points=\"1663.0381,-53 1580.0381,-53 1580.0381,0 1663.0381,0 1663.0381,-53\"/>\n",
       "<text text-anchor=\"middle\" x=\"1621.5381\" y=\"-37.8\" font-family=\"Times,serif\" font-size=\"14.00\" fill=\"#000000\">val = 0.000</text>\n",
       "<text text-anchor=\"middle\" x=\"1621.5381\" y=\"-22.8\" font-family=\"Times,serif\" font-size=\"14.00\" fill=\"#000000\">val = 0.000</text>\n",
       "<text text-anchor=\"middle\" x=\"1621.5381\" y=\"-7.8\" font-family=\"Times,serif\" font-size=\"14.00\" fill=\"#000000\">val = 0.000</text>\n",
       "</g>\n",
       "<!-- 36&#45;&gt;74 -->\n",
       "<g id=\"edge74\" class=\"edge\">\n",
       "<title>36&#45;&gt;74</title>\n",
       "<path fill=\"none\" stroke=\"#000000\" d=\"M1579.3189,-104.0372C1585.7384,-92.2474 1594.3544,-76.4238 1602.1287,-62.146\"/>\n",
       "<polygon fill=\"#000000\" stroke=\"#000000\" points=\"1605.3762,-63.5008 1607.0845,-53.0446 1599.2285,-60.1533 1605.3762,-63.5008\"/>\n",
       "<text text-anchor=\"middle\" x=\"1608.0381\" y=\"-74.8\" font-family=\"Times,serif\" font-size=\"14.00\" fill=\"#000000\">Yes</text>\n",
       "</g>\n",
       "<!-- 75 -->\n",
       "<g id=\"node76\" class=\"node\">\n",
       "<title>75</title>\n",
       "<polygon fill=\"none\" stroke=\"#ff0000\" points=\"1848.0381,-53 1765.0381,-53 1765.0381,0 1848.0381,0 1848.0381,-53\"/>\n",
       "<text text-anchor=\"middle\" x=\"1806.5381\" y=\"-37.8\" font-family=\"Times,serif\" font-size=\"14.00\" fill=\"#000000\">val = 0.000</text>\n",
       "<text text-anchor=\"middle\" x=\"1806.5381\" y=\"-22.8\" font-family=\"Times,serif\" font-size=\"14.00\" fill=\"#000000\">val = 0.000</text>\n",
       "<text text-anchor=\"middle\" x=\"1806.5381\" y=\"-7.8\" font-family=\"Times,serif\" font-size=\"14.00\" fill=\"#000000\">val = 0.000</text>\n",
       "</g>\n",
       "<!-- 37&#45;&gt;75 -->\n",
       "<g id=\"edge75\" class=\"edge\">\n",
       "<title>37&#45;&gt;75</title>\n",
       "<path fill=\"none\" stroke=\"#000000\" d=\"M1847.1334,-104.0372C1840.9608,-92.2474 1832.6762,-76.4238 1825.2009,-62.146\"/>\n",
       "<polygon fill=\"#000000\" stroke=\"#000000\" points=\"1828.1749,-60.2804 1820.4358,-53.0446 1821.9734,-63.5273 1828.1749,-60.2804\"/>\n",
       "<text text-anchor=\"middle\" x=\"1847.0381\" y=\"-74.8\" font-family=\"Times,serif\" font-size=\"14.00\" fill=\"#000000\">No</text>\n",
       "</g>\n",
       "<!-- 76 -->\n",
       "<g id=\"node77\" class=\"node\">\n",
       "<title>76</title>\n",
       "<polygon fill=\"none\" stroke=\"#ff0000\" points=\"1949.0381,-53 1866.0381,-53 1866.0381,0 1949.0381,0 1949.0381,-53\"/>\n",
       "<text text-anchor=\"middle\" x=\"1907.5381\" y=\"-37.8\" font-family=\"Times,serif\" font-size=\"14.00\" fill=\"#000000\">val = 0.000</text>\n",
       "<text text-anchor=\"middle\" x=\"1907.5381\" y=\"-22.8\" font-family=\"Times,serif\" font-size=\"14.00\" fill=\"#000000\">val = 0.000</text>\n",
       "<text text-anchor=\"middle\" x=\"1907.5381\" y=\"-7.8\" font-family=\"Times,serif\" font-size=\"14.00\" fill=\"#000000\">val = 0.000</text>\n",
       "</g>\n",
       "<!-- 37&#45;&gt;76 -->\n",
       "<g id=\"edge76\" class=\"edge\">\n",
       "<title>37&#45;&gt;76</title>\n",
       "<path fill=\"none\" stroke=\"#000000\" d=\"M1866.1308,-104.0372C1872.4269,-92.2474 1880.8772,-76.4238 1888.502,-62.146\"/>\n",
       "<polygon fill=\"#000000\" stroke=\"#000000\" points=\"1891.739,-63.5143 1893.3624,-53.0446 1885.5643,-60.2168 1891.739,-63.5143\"/>\n",
       "<text text-anchor=\"middle\" x=\"1895.0381\" y=\"-74.8\" font-family=\"Times,serif\" font-size=\"14.00\" fill=\"#000000\">Yes</text>\n",
       "</g>\n",
       "<!-- 77 -->\n",
       "<g id=\"node78\" class=\"node\">\n",
       "<title>77</title>\n",
       "<polygon fill=\"none\" stroke=\"#ff0000\" points=\"2135.0381,-53 2052.0381,-53 2052.0381,0 2135.0381,0 2135.0381,-53\"/>\n",
       "<text text-anchor=\"middle\" x=\"2093.5381\" y=\"-37.8\" font-family=\"Times,serif\" font-size=\"14.00\" fill=\"#000000\">val = 0.000</text>\n",
       "<text text-anchor=\"middle\" x=\"2093.5381\" y=\"-22.8\" font-family=\"Times,serif\" font-size=\"14.00\" fill=\"#000000\">val = 0.000</text>\n",
       "<text text-anchor=\"middle\" x=\"2093.5381\" y=\"-7.8\" font-family=\"Times,serif\" font-size=\"14.00\" fill=\"#000000\">val = 0.000</text>\n",
       "</g>\n",
       "<!-- 38&#45;&gt;77 -->\n",
       "<g id=\"edge77\" class=\"edge\">\n",
       "<title>38&#45;&gt;77</title>\n",
       "<path fill=\"none\" stroke=\"#000000\" d=\"M2134.1334,-104.0372C2127.9608,-92.2474 2119.6762,-76.4238 2112.2009,-62.146\"/>\n",
       "<polygon fill=\"#000000\" stroke=\"#000000\" points=\"2115.1749,-60.2804 2107.4358,-53.0446 2108.9734,-63.5273 2115.1749,-60.2804\"/>\n",
       "<text text-anchor=\"middle\" x=\"2134.0381\" y=\"-74.8\" font-family=\"Times,serif\" font-size=\"14.00\" fill=\"#000000\">No</text>\n",
       "</g>\n",
       "<!-- 78 -->\n",
       "<g id=\"node79\" class=\"node\">\n",
       "<title>78</title>\n",
       "<polygon fill=\"none\" stroke=\"#ff0000\" points=\"2236.0381,-53 2153.0381,-53 2153.0381,0 2236.0381,0 2236.0381,-53\"/>\n",
       "<text text-anchor=\"middle\" x=\"2194.5381\" y=\"-37.8\" font-family=\"Times,serif\" font-size=\"14.00\" fill=\"#000000\">val = 0.000</text>\n",
       "<text text-anchor=\"middle\" x=\"2194.5381\" y=\"-22.8\" font-family=\"Times,serif\" font-size=\"14.00\" fill=\"#000000\">val = 0.000</text>\n",
       "<text text-anchor=\"middle\" x=\"2194.5381\" y=\"-7.8\" font-family=\"Times,serif\" font-size=\"14.00\" fill=\"#000000\">val = 0.000</text>\n",
       "</g>\n",
       "<!-- 38&#45;&gt;78 -->\n",
       "<g id=\"edge78\" class=\"edge\">\n",
       "<title>38&#45;&gt;78</title>\n",
       "<path fill=\"none\" stroke=\"#000000\" d=\"M2153.1308,-104.0372C2159.4269,-92.2474 2167.8772,-76.4238 2175.502,-62.146\"/>\n",
       "<polygon fill=\"#000000\" stroke=\"#000000\" points=\"2178.739,-63.5143 2180.3624,-53.0446 2172.5643,-60.2168 2178.739,-63.5143\"/>\n",
       "<text text-anchor=\"middle\" x=\"2182.0381\" y=\"-74.8\" font-family=\"Times,serif\" font-size=\"14.00\" fill=\"#000000\">Yes</text>\n",
       "</g>\n",
       "<!-- 79 -->\n",
       "<g id=\"node80\" class=\"node\">\n",
       "<title>79</title>\n",
       "<polygon fill=\"none\" stroke=\"#ff0000\" points=\"2447.0381,-53 2364.0381,-53 2364.0381,0 2447.0381,0 2447.0381,-53\"/>\n",
       "<text text-anchor=\"middle\" x=\"2405.5381\" y=\"-37.8\" font-family=\"Times,serif\" font-size=\"14.00\" fill=\"#000000\">val = 0.000</text>\n",
       "<text text-anchor=\"middle\" x=\"2405.5381\" y=\"-22.8\" font-family=\"Times,serif\" font-size=\"14.00\" fill=\"#000000\">val = 0.000</text>\n",
       "<text text-anchor=\"middle\" x=\"2405.5381\" y=\"-7.8\" font-family=\"Times,serif\" font-size=\"14.00\" fill=\"#000000\">val = 0.000</text>\n",
       "</g>\n",
       "<!-- 39&#45;&gt;79 -->\n",
       "<g id=\"edge79\" class=\"edge\">\n",
       "<title>39&#45;&gt;79</title>\n",
       "<path fill=\"none\" stroke=\"#000000\" d=\"M2425.7178,-103.5866C2422.7036,-92.0722 2418.7166,-76.8419 2415.083,-62.9616\"/>\n",
       "<polygon fill=\"#000000\" stroke=\"#000000\" points=\"2418.437,-61.9532 2412.5186,-53.1655 2411.6652,-63.726 2418.437,-61.9532\"/>\n",
       "<text text-anchor=\"middle\" x=\"2431.0381\" y=\"-74.8\" font-family=\"Times,serif\" font-size=\"14.00\" fill=\"#000000\">No</text>\n",
       "</g>\n",
       "<!-- 80 -->\n",
       "<g id=\"node81\" class=\"node\">\n",
       "<title>80</title>\n",
       "<polygon fill=\"none\" stroke=\"#ff0000\" points=\"2548.0381,-53 2465.0381,-53 2465.0381,0 2548.0381,0 2548.0381,-53\"/>\n",
       "<text text-anchor=\"middle\" x=\"2506.5381\" y=\"-37.8\" font-family=\"Times,serif\" font-size=\"14.00\" fill=\"#000000\">val = 0.000</text>\n",
       "<text text-anchor=\"middle\" x=\"2506.5381\" y=\"-22.8\" font-family=\"Times,serif\" font-size=\"14.00\" fill=\"#000000\">val = 0.000</text>\n",
       "<text text-anchor=\"middle\" x=\"2506.5381\" y=\"-7.8\" font-family=\"Times,serif\" font-size=\"14.00\" fill=\"#000000\">val = 0.000</text>\n",
       "</g>\n",
       "<!-- 39&#45;&gt;80 -->\n",
       "<g id=\"edge80\" class=\"edge\">\n",
       "<title>39&#45;&gt;80</title>\n",
       "<path fill=\"none\" stroke=\"#000000\" d=\"M2444.8331,-104.0372C2454.4836,-91.9105 2467.5303,-75.5163 2479.1414,-60.9261\"/>\n",
       "<polygon fill=\"#000000\" stroke=\"#000000\" points=\"2481.9252,-63.0487 2485.4136,-53.0446 2476.448,-58.6898 2481.9252,-63.0487\"/>\n",
       "<text text-anchor=\"middle\" x=\"2482.0381\" y=\"-74.8\" font-family=\"Times,serif\" font-size=\"14.00\" fill=\"#000000\">Yes</text>\n",
       "</g>\n",
       "<!-- 81 -->\n",
       "<g id=\"node82\" class=\"node\">\n",
       "<title>81</title>\n",
       "<polygon fill=\"none\" stroke=\"#ff0000\" points=\"2683.0381,-53 2600.0381,-53 2600.0381,0 2683.0381,0 2683.0381,-53\"/>\n",
       "<text text-anchor=\"middle\" x=\"2641.5381\" y=\"-37.8\" font-family=\"Times,serif\" font-size=\"14.00\" fill=\"#000000\">val = 0.000</text>\n",
       "<text text-anchor=\"middle\" x=\"2641.5381\" y=\"-22.8\" font-family=\"Times,serif\" font-size=\"14.00\" fill=\"#000000\">val = 0.000</text>\n",
       "<text text-anchor=\"middle\" x=\"2641.5381\" y=\"-7.8\" font-family=\"Times,serif\" font-size=\"14.00\" fill=\"#000000\">val = 0.000</text>\n",
       "</g>\n",
       "<!-- 40&#45;&gt;81 -->\n",
       "<g id=\"edge81\" class=\"edge\">\n",
       "<title>40&#45;&gt;81</title>\n",
       "<path fill=\"none\" stroke=\"#000000\" d=\"M2703.243,-104.0372C2693.5925,-91.9105 2680.5458,-75.5163 2668.9347,-60.9261\"/>\n",
       "<polygon fill=\"#000000\" stroke=\"#000000\" points=\"2671.6282,-58.6898 2662.6626,-53.0446 2666.1509,-63.0487 2671.6282,-58.6898\"/>\n",
       "<text text-anchor=\"middle\" x=\"2699.0381\" y=\"-74.8\" font-family=\"Times,serif\" font-size=\"14.00\" fill=\"#000000\">No</text>\n",
       "</g>\n",
       "<!-- 82 -->\n",
       "<g id=\"node83\" class=\"node\">\n",
       "<title>82</title>\n",
       "<polygon fill=\"none\" stroke=\"#ff0000\" points=\"2784.0381,-53 2701.0381,-53 2701.0381,0 2784.0381,0 2784.0381,-53\"/>\n",
       "<text text-anchor=\"middle\" x=\"2742.5381\" y=\"-37.8\" font-family=\"Times,serif\" font-size=\"14.00\" fill=\"#000000\">val = 0.000</text>\n",
       "<text text-anchor=\"middle\" x=\"2742.5381\" y=\"-22.8\" font-family=\"Times,serif\" font-size=\"14.00\" fill=\"#000000\">val = 0.000</text>\n",
       "<text text-anchor=\"middle\" x=\"2742.5381\" y=\"-7.8\" font-family=\"Times,serif\" font-size=\"14.00\" fill=\"#000000\">val = 0.000</text>\n",
       "</g>\n",
       "<!-- 40&#45;&gt;82 -->\n",
       "<g id=\"edge82\" class=\"edge\">\n",
       "<title>40&#45;&gt;82</title>\n",
       "<path fill=\"none\" stroke=\"#000000\" d=\"M2722.3583,-103.5866C2725.3726,-92.0722 2729.3596,-76.8419 2732.9932,-62.9616\"/>\n",
       "<polygon fill=\"#000000\" stroke=\"#000000\" points=\"2736.4109,-63.726 2735.5576,-53.1655 2729.6391,-61.9532 2736.4109,-63.726\"/>\n",
       "<text text-anchor=\"middle\" x=\"2742.0381\" y=\"-74.8\" font-family=\"Times,serif\" font-size=\"14.00\" fill=\"#000000\">Yes</text>\n",
       "</g>\n",
       "<!-- 83 -->\n",
       "<g id=\"node84\" class=\"node\">\n",
       "<title>83</title>\n",
       "<polygon fill=\"none\" stroke=\"#ff0000\" points=\"3017.0381,-53 2934.0381,-53 2934.0381,0 3017.0381,0 3017.0381,-53\"/>\n",
       "<text text-anchor=\"middle\" x=\"2975.5381\" y=\"-37.8\" font-family=\"Times,serif\" font-size=\"14.00\" fill=\"#000000\">val = 0.000</text>\n",
       "<text text-anchor=\"middle\" x=\"2975.5381\" y=\"-22.8\" font-family=\"Times,serif\" font-size=\"14.00\" fill=\"#000000\">val = 0.000</text>\n",
       "<text text-anchor=\"middle\" x=\"2975.5381\" y=\"-7.8\" font-family=\"Times,serif\" font-size=\"14.00\" fill=\"#000000\">val = 0.000</text>\n",
       "</g>\n",
       "<!-- 41&#45;&gt;83 -->\n",
       "<g id=\"edge83\" class=\"edge\">\n",
       "<title>41&#45;&gt;83</title>\n",
       "<path fill=\"none\" stroke=\"#000000\" d=\"M2998.9466,-103.5866C2995.45,-92.0722 2990.8251,-76.8419 2986.6102,-62.9616\"/>\n",
       "<polygon fill=\"#000000\" stroke=\"#000000\" points=\"2989.8902,-61.7171 2983.6355,-53.1655 2983.1922,-63.7511 2989.8902,-61.7171\"/>\n",
       "<text text-anchor=\"middle\" x=\"3003.0381\" y=\"-74.8\" font-family=\"Times,serif\" font-size=\"14.00\" fill=\"#000000\">No</text>\n",
       "</g>\n",
       "<!-- 84 -->\n",
       "<g id=\"node85\" class=\"node\">\n",
       "<title>84</title>\n",
       "<polygon fill=\"none\" stroke=\"#ff0000\" points=\"3118.0381,-53 3035.0381,-53 3035.0381,0 3118.0381,0 3118.0381,-53\"/>\n",
       "<text text-anchor=\"middle\" x=\"3076.5381\" y=\"-37.8\" font-family=\"Times,serif\" font-size=\"14.00\" fill=\"#000000\">val = 0.000</text>\n",
       "<text text-anchor=\"middle\" x=\"3076.5381\" y=\"-22.8\" font-family=\"Times,serif\" font-size=\"14.00\" fill=\"#000000\">val = 0.000</text>\n",
       "<text text-anchor=\"middle\" x=\"3076.5381\" y=\"-7.8\" font-family=\"Times,serif\" font-size=\"14.00\" fill=\"#000000\">val = 0.000</text>\n",
       "</g>\n",
       "<!-- 41&#45;&gt;84 -->\n",
       "<g id=\"edge84\" class=\"edge\">\n",
       "<title>41&#45;&gt;84</title>\n",
       "<path fill=\"none\" stroke=\"#000000\" d=\"M3018.0807,-104.0372C3027.1387,-92.0228 3039.3548,-75.8195 3050.2774,-61.3318\"/>\n",
       "<polygon fill=\"#000000\" stroke=\"#000000\" points=\"3053.3,-63.1366 3056.5254,-53.0446 3047.7106,-58.9225 3053.3,-63.1366\"/>\n",
       "<text text-anchor=\"middle\" x=\"3054.0381\" y=\"-74.8\" font-family=\"Times,serif\" font-size=\"14.00\" fill=\"#000000\">Yes</text>\n",
       "</g>\n",
       "<!-- 85 -->\n",
       "<g id=\"node86\" class=\"node\">\n",
       "<title>85</title>\n",
       "<polygon fill=\"none\" stroke=\"#ff0000\" points=\"3261.0381,-53 3178.0381,-53 3178.0381,0 3261.0381,0 3261.0381,-53\"/>\n",
       "<text text-anchor=\"middle\" x=\"3219.5381\" y=\"-37.8\" font-family=\"Times,serif\" font-size=\"14.00\" fill=\"#000000\">val = 0.000</text>\n",
       "<text text-anchor=\"middle\" x=\"3219.5381\" y=\"-22.8\" font-family=\"Times,serif\" font-size=\"14.00\" fill=\"#000000\">val = 0.000</text>\n",
       "<text text-anchor=\"middle\" x=\"3219.5381\" y=\"-7.8\" font-family=\"Times,serif\" font-size=\"14.00\" fill=\"#000000\">val = 0.000</text>\n",
       "</g>\n",
       "<!-- 42&#45;&gt;85 -->\n",
       "<g id=\"edge85\" class=\"edge\">\n",
       "<title>42&#45;&gt;85</title>\n",
       "<path fill=\"none\" stroke=\"#000000\" d=\"M3277.9954,-104.0372C3268.9375,-92.0228 3256.7214,-75.8195 3245.7987,-61.3318\"/>\n",
       "<polygon fill=\"#000000\" stroke=\"#000000\" points=\"3248.3656,-58.9225 3239.5507,-53.0446 3242.7761,-63.1366 3248.3656,-58.9225\"/>\n",
       "<text text-anchor=\"middle\" x=\"3274.0381\" y=\"-74.8\" font-family=\"Times,serif\" font-size=\"14.00\" fill=\"#000000\">No</text>\n",
       "</g>\n",
       "<!-- 86 -->\n",
       "<g id=\"node87\" class=\"node\">\n",
       "<title>86</title>\n",
       "<polygon fill=\"none\" stroke=\"#ff0000\" points=\"3362.0381,-53 3279.0381,-53 3279.0381,0 3362.0381,0 3362.0381,-53\"/>\n",
       "<text text-anchor=\"middle\" x=\"3320.5381\" y=\"-37.8\" font-family=\"Times,serif\" font-size=\"14.00\" fill=\"#000000\">val = 0.000</text>\n",
       "<text text-anchor=\"middle\" x=\"3320.5381\" y=\"-22.8\" font-family=\"Times,serif\" font-size=\"14.00\" fill=\"#000000\">val = 0.000</text>\n",
       "<text text-anchor=\"middle\" x=\"3320.5381\" y=\"-7.8\" font-family=\"Times,serif\" font-size=\"14.00\" fill=\"#000000\">val = 0.000</text>\n",
       "</g>\n",
       "<!-- 42&#45;&gt;86 -->\n",
       "<g id=\"edge86\" class=\"edge\">\n",
       "<title>42&#45;&gt;86</title>\n",
       "<path fill=\"none\" stroke=\"#000000\" d=\"M3297.1296,-103.5866C3300.6261,-92.0722 3305.251,-76.8419 3309.466,-62.9616\"/>\n",
       "<polygon fill=\"#000000\" stroke=\"#000000\" points=\"3312.884,-63.7511 3312.4407,-53.1655 3306.186,-61.7171 3312.884,-63.7511\"/>\n",
       "<text text-anchor=\"middle\" x=\"3318.0381\" y=\"-74.8\" font-family=\"Times,serif\" font-size=\"14.00\" fill=\"#000000\">Yes</text>\n",
       "</g>\n",
       "<!-- 87 -->\n",
       "<g id=\"node88\" class=\"node\">\n",
       "<title>87</title>\n",
       "<polygon fill=\"none\" stroke=\"#ff0000\" points=\"3590.5381,-53 3502.5381,-53 3502.5381,0 3590.5381,0 3590.5381,-53\"/>\n",
       "<text text-anchor=\"middle\" x=\"3546.5381\" y=\"-37.8\" font-family=\"Times,serif\" font-size=\"14.00\" fill=\"#000000\">val = 0.014</text>\n",
       "<text text-anchor=\"middle\" x=\"3546.5381\" y=\"-22.8\" font-family=\"Times,serif\" font-size=\"14.00\" fill=\"#000000\">val = &#45;0.007</text>\n",
       "<text text-anchor=\"middle\" x=\"3546.5381\" y=\"-7.8\" font-family=\"Times,serif\" font-size=\"14.00\" fill=\"#000000\">val = &#45;0.007</text>\n",
       "</g>\n",
       "<!-- 43&#45;&gt;87 -->\n",
       "<g id=\"edge87\" class=\"edge\">\n",
       "<title>43&#45;&gt;87</title>\n",
       "<path fill=\"none\" stroke=\"#000000\" d=\"M3572.3681,-103.5866C3568.5099,-92.0722 3563.4066,-76.8419 3558.7555,-62.9616\"/>\n",
       "<polygon fill=\"#000000\" stroke=\"#000000\" points=\"3561.969,-61.5354 3555.4731,-53.1655 3555.3317,-63.7594 3561.969,-61.5354\"/>\n",
       "<text text-anchor=\"middle\" x=\"3576.0381\" y=\"-74.8\" font-family=\"Times,serif\" font-size=\"14.00\" fill=\"#000000\">No</text>\n",
       "</g>\n",
       "<!-- 88 -->\n",
       "<g id=\"node89\" class=\"node\">\n",
       "<title>88</title>\n",
       "<polygon fill=\"none\" stroke=\"#ff0000\" points=\"3692.0381,-53 3609.0381,-53 3609.0381,0 3692.0381,0 3692.0381,-53\"/>\n",
       "<text text-anchor=\"middle\" x=\"3650.5381\" y=\"-37.8\" font-family=\"Times,serif\" font-size=\"14.00\" fill=\"#000000\">val = 0.000</text>\n",
       "<text text-anchor=\"middle\" x=\"3650.5381\" y=\"-22.8\" font-family=\"Times,serif\" font-size=\"14.00\" fill=\"#000000\">val = 0.000</text>\n",
       "<text text-anchor=\"middle\" x=\"3650.5381\" y=\"-7.8\" font-family=\"Times,serif\" font-size=\"14.00\" fill=\"#000000\">val = 0.000</text>\n",
       "</g>\n",
       "<!-- 43&#45;&gt;88 -->\n",
       "<g id=\"edge88\" class=\"edge\">\n",
       "<title>43&#45;&gt;88</title>\n",
       "<path fill=\"none\" stroke=\"#000000\" d=\"M3592.0807,-104.0372C3601.1387,-92.0228 3613.3548,-75.8195 3624.2774,-61.3318\"/>\n",
       "<polygon fill=\"#000000\" stroke=\"#000000\" points=\"3627.3,-63.1366 3630.5254,-53.0446 3621.7106,-58.9225 3627.3,-63.1366\"/>\n",
       "<text text-anchor=\"middle\" x=\"3628.0381\" y=\"-74.8\" font-family=\"Times,serif\" font-size=\"14.00\" fill=\"#000000\">Yes</text>\n",
       "</g>\n",
       "<!-- 89 -->\n",
       "<g id=\"node90\" class=\"node\">\n",
       "<title>89</title>\n",
       "<polygon fill=\"none\" stroke=\"#ff0000\" points=\"3837.5381,-53 3749.5381,-53 3749.5381,0 3837.5381,0 3837.5381,-53\"/>\n",
       "<text text-anchor=\"middle\" x=\"3793.5381\" y=\"-37.8\" font-family=\"Times,serif\" font-size=\"14.00\" fill=\"#000000\">val = 0.014</text>\n",
       "<text text-anchor=\"middle\" x=\"3793.5381\" y=\"-22.8\" font-family=\"Times,serif\" font-size=\"14.00\" fill=\"#000000\">val = &#45;0.007</text>\n",
       "<text text-anchor=\"middle\" x=\"3793.5381\" y=\"-7.8\" font-family=\"Times,serif\" font-size=\"14.00\" fill=\"#000000\">val = &#45;0.007</text>\n",
       "</g>\n",
       "<!-- 44&#45;&gt;89 -->\n",
       "<g id=\"edge89\" class=\"edge\">\n",
       "<title>44&#45;&gt;89</title>\n",
       "<path fill=\"none\" stroke=\"#000000\" d=\"M3851.9954,-104.0372C3842.9375,-92.0228 3830.7214,-75.8195 3819.7987,-61.3318\"/>\n",
       "<polygon fill=\"#000000\" stroke=\"#000000\" points=\"3822.3656,-58.9225 3813.5507,-53.0446 3816.7761,-63.1366 3822.3656,-58.9225\"/>\n",
       "<text text-anchor=\"middle\" x=\"3848.0381\" y=\"-74.8\" font-family=\"Times,serif\" font-size=\"14.00\" fill=\"#000000\">No</text>\n",
       "</g>\n",
       "<!-- 90 -->\n",
       "<g id=\"node91\" class=\"node\">\n",
       "<title>90</title>\n",
       "<polygon fill=\"none\" stroke=\"#ff0000\" points=\"3939.0381,-53 3856.0381,-53 3856.0381,0 3939.0381,0 3939.0381,-53\"/>\n",
       "<text text-anchor=\"middle\" x=\"3897.5381\" y=\"-37.8\" font-family=\"Times,serif\" font-size=\"14.00\" fill=\"#000000\">val = 0.000</text>\n",
       "<text text-anchor=\"middle\" x=\"3897.5381\" y=\"-22.8\" font-family=\"Times,serif\" font-size=\"14.00\" fill=\"#000000\">val = 0.000</text>\n",
       "<text text-anchor=\"middle\" x=\"3897.5381\" y=\"-7.8\" font-family=\"Times,serif\" font-size=\"14.00\" fill=\"#000000\">val = 0.000</text>\n",
       "</g>\n",
       "<!-- 44&#45;&gt;90 -->\n",
       "<g id=\"edge90\" class=\"edge\">\n",
       "<title>44&#45;&gt;90</title>\n",
       "<path fill=\"none\" stroke=\"#000000\" d=\"M3871.708,-103.5866C3875.5662,-92.0722 3880.6696,-76.8419 3885.3206,-62.9616\"/>\n",
       "<polygon fill=\"#000000\" stroke=\"#000000\" points=\"3888.7444,-63.7594 3888.603,-53.1655 3882.1071,-61.5354 3888.7444,-63.7594\"/>\n",
       "<text text-anchor=\"middle\" x=\"3893.0381\" y=\"-74.8\" font-family=\"Times,serif\" font-size=\"14.00\" fill=\"#000000\">Yes</text>\n",
       "</g>\n",
       "<!-- 91 -->\n",
       "<g id=\"node92\" class=\"node\">\n",
       "<title>91</title>\n",
       "<polygon fill=\"none\" stroke=\"#ff0000\" points=\"4144.0381,-53 4061.0381,-53 4061.0381,0 4144.0381,0 4144.0381,-53\"/>\n",
       "<text text-anchor=\"middle\" x=\"4102.5381\" y=\"-37.8\" font-family=\"Times,serif\" font-size=\"14.00\" fill=\"#000000\">val = 0.000</text>\n",
       "<text text-anchor=\"middle\" x=\"4102.5381\" y=\"-22.8\" font-family=\"Times,serif\" font-size=\"14.00\" fill=\"#000000\">val = 0.000</text>\n",
       "<text text-anchor=\"middle\" x=\"4102.5381\" y=\"-7.8\" font-family=\"Times,serif\" font-size=\"14.00\" fill=\"#000000\">val = 0.000</text>\n",
       "</g>\n",
       "<!-- 45&#45;&gt;91 -->\n",
       "<g id=\"edge91\" class=\"edge\">\n",
       "<title>45&#45;&gt;91</title>\n",
       "<path fill=\"none\" stroke=\"#000000\" d=\"M4143.1334,-104.0372C4136.9608,-92.2474 4128.6762,-76.4238 4121.2009,-62.146\"/>\n",
       "<polygon fill=\"#000000\" stroke=\"#000000\" points=\"4124.1749,-60.2804 4116.4358,-53.0446 4117.9734,-63.5273 4124.1749,-60.2804\"/>\n",
       "<text text-anchor=\"middle\" x=\"4143.0381\" y=\"-74.8\" font-family=\"Times,serif\" font-size=\"14.00\" fill=\"#000000\">No</text>\n",
       "</g>\n",
       "<!-- 92 -->\n",
       "<g id=\"node93\" class=\"node\">\n",
       "<title>92</title>\n",
       "<polygon fill=\"none\" stroke=\"#ff0000\" points=\"4245.0381,-53 4162.0381,-53 4162.0381,0 4245.0381,0 4245.0381,-53\"/>\n",
       "<text text-anchor=\"middle\" x=\"4203.5381\" y=\"-37.8\" font-family=\"Times,serif\" font-size=\"14.00\" fill=\"#000000\">val = 0.000</text>\n",
       "<text text-anchor=\"middle\" x=\"4203.5381\" y=\"-22.8\" font-family=\"Times,serif\" font-size=\"14.00\" fill=\"#000000\">val = 0.000</text>\n",
       "<text text-anchor=\"middle\" x=\"4203.5381\" y=\"-7.8\" font-family=\"Times,serif\" font-size=\"14.00\" fill=\"#000000\">val = 0.000</text>\n",
       "</g>\n",
       "<!-- 45&#45;&gt;92 -->\n",
       "<g id=\"edge92\" class=\"edge\">\n",
       "<title>45&#45;&gt;92</title>\n",
       "<path fill=\"none\" stroke=\"#000000\" d=\"M4162.1308,-104.0372C4168.4269,-92.2474 4176.8772,-76.4238 4184.502,-62.146\"/>\n",
       "<polygon fill=\"#000000\" stroke=\"#000000\" points=\"4187.739,-63.5143 4189.3624,-53.0446 4181.5643,-60.2168 4187.739,-63.5143\"/>\n",
       "<text text-anchor=\"middle\" x=\"4191.0381\" y=\"-74.8\" font-family=\"Times,serif\" font-size=\"14.00\" fill=\"#000000\">Yes</text>\n",
       "</g>\n",
       "<!-- 93 -->\n",
       "<g id=\"node94\" class=\"node\">\n",
       "<title>93</title>\n",
       "<polygon fill=\"none\" stroke=\"#ff0000\" points=\"4439.0381,-53 4356.0381,-53 4356.0381,0 4439.0381,0 4439.0381,-53\"/>\n",
       "<text text-anchor=\"middle\" x=\"4397.5381\" y=\"-37.8\" font-family=\"Times,serif\" font-size=\"14.00\" fill=\"#000000\">val = 0.000</text>\n",
       "<text text-anchor=\"middle\" x=\"4397.5381\" y=\"-22.8\" font-family=\"Times,serif\" font-size=\"14.00\" fill=\"#000000\">val = 0.000</text>\n",
       "<text text-anchor=\"middle\" x=\"4397.5381\" y=\"-7.8\" font-family=\"Times,serif\" font-size=\"14.00\" fill=\"#000000\">val = 0.000</text>\n",
       "</g>\n",
       "<!-- 46&#45;&gt;93 -->\n",
       "<g id=\"edge93\" class=\"edge\">\n",
       "<title>46&#45;&gt;93</title>\n",
       "<path fill=\"none\" stroke=\"#000000\" d=\"M4431.44,-103.5866C4426.3269,-91.9604 4419.5477,-76.5458 4413.3959,-62.5577\"/>\n",
       "<polygon fill=\"#000000\" stroke=\"#000000\" points=\"4416.495,-60.9104 4409.2653,-53.1655 4410.0873,-63.7285 4416.495,-60.9104\"/>\n",
       "<text text-anchor=\"middle\" x=\"4433.0381\" y=\"-74.8\" font-family=\"Times,serif\" font-size=\"14.00\" fill=\"#000000\">No</text>\n",
       "</g>\n",
       "<!-- 94 -->\n",
       "<g id=\"node95\" class=\"node\">\n",
       "<title>94</title>\n",
       "<polygon fill=\"none\" stroke=\"#ff0000\" points=\"4540.0381,-53 4457.0381,-53 4457.0381,0 4540.0381,0 4540.0381,-53\"/>\n",
       "<text text-anchor=\"middle\" x=\"4498.5381\" y=\"-37.8\" font-family=\"Times,serif\" font-size=\"14.00\" fill=\"#000000\">val = 0.000</text>\n",
       "<text text-anchor=\"middle\" x=\"4498.5381\" y=\"-22.8\" font-family=\"Times,serif\" font-size=\"14.00\" fill=\"#000000\">val = 0.000</text>\n",
       "<text text-anchor=\"middle\" x=\"4498.5381\" y=\"-7.8\" font-family=\"Times,serif\" font-size=\"14.00\" fill=\"#000000\">val = 0.000</text>\n",
       "</g>\n",
       "<!-- 46&#45;&gt;94 -->\n",
       "<g id=\"edge94\" class=\"edge\">\n",
       "<title>46&#45;&gt;94</title>\n",
       "<path fill=\"none\" stroke=\"#000000\" d=\"M4450.6355,-104.0372C4457.9886,-92.1351 4467.8815,-76.122 4476.7677,-61.7385\"/>\n",
       "<polygon fill=\"#000000\" stroke=\"#000000\" points=\"4479.8605,-63.3916 4482.1388,-53.0446 4473.9053,-59.7124 4479.8605,-63.3916\"/>\n",
       "<text text-anchor=\"middle\" x=\"4482.0381\" y=\"-74.8\" font-family=\"Times,serif\" font-size=\"14.00\" fill=\"#000000\">Yes</text>\n",
       "</g>\n",
       "<!-- 95 -->\n",
       "<g id=\"node96\" class=\"node\">\n",
       "<title>95</title>\n",
       "<polygon fill=\"none\" stroke=\"#ff0000\" points=\"4718.5381,-53 4630.5381,-53 4630.5381,0 4718.5381,0 4718.5381,-53\"/>\n",
       "<text text-anchor=\"middle\" x=\"4674.5381\" y=\"-37.8\" font-family=\"Times,serif\" font-size=\"14.00\" fill=\"#000000\">val = 0.012</text>\n",
       "<text text-anchor=\"middle\" x=\"4674.5381\" y=\"-22.8\" font-family=\"Times,serif\" font-size=\"14.00\" fill=\"#000000\">val = 0.000</text>\n",
       "<text text-anchor=\"middle\" x=\"4674.5381\" y=\"-7.8\" font-family=\"Times,serif\" font-size=\"14.00\" fill=\"#000000\">val = &#45;0.012</text>\n",
       "</g>\n",
       "<!-- 47&#45;&gt;95 -->\n",
       "<g id=\"edge95\" class=\"edge\">\n",
       "<title>47&#45;&gt;95</title>\n",
       "<path fill=\"none\" stroke=\"#000000\" d=\"M4716.7573,-104.0372C4710.3377,-92.2474 4701.7217,-76.4238 4693.9474,-62.146\"/>\n",
       "<polygon fill=\"#000000\" stroke=\"#000000\" points=\"4696.8477,-60.1533 4688.9917,-53.0446 4690.6999,-63.5008 4696.8477,-60.1533\"/>\n",
       "<text text-anchor=\"middle\" x=\"4717.0381\" y=\"-74.8\" font-family=\"Times,serif\" font-size=\"14.00\" fill=\"#000000\">No</text>\n",
       "</g>\n",
       "<!-- 96 -->\n",
       "<g id=\"node97\" class=\"node\">\n",
       "<title>96</title>\n",
       "<polygon fill=\"none\" stroke=\"#ff0000\" points=\"4820.0381,-53 4737.0381,-53 4737.0381,0 4820.0381,0 4820.0381,-53\"/>\n",
       "<text text-anchor=\"middle\" x=\"4778.5381\" y=\"-37.8\" font-family=\"Times,serif\" font-size=\"14.00\" fill=\"#000000\">val = 0.000</text>\n",
       "<text text-anchor=\"middle\" x=\"4778.5381\" y=\"-22.8\" font-family=\"Times,serif\" font-size=\"14.00\" fill=\"#000000\">val = 0.000</text>\n",
       "<text text-anchor=\"middle\" x=\"4778.5381\" y=\"-7.8\" font-family=\"Times,serif\" font-size=\"14.00\" fill=\"#000000\">val = 0.000</text>\n",
       "</g>\n",
       "<!-- 47&#45;&gt;96 -->\n",
       "<g id=\"edge96\" class=\"edge\">\n",
       "<title>47&#45;&gt;96</title>\n",
       "<path fill=\"none\" stroke=\"#000000\" d=\"M4736.3189,-104.0372C4742.7384,-92.2474 4751.3544,-76.4238 4759.1287,-62.146\"/>\n",
       "<polygon fill=\"#000000\" stroke=\"#000000\" points=\"4762.3762,-63.5008 4764.0845,-53.0446 4756.2285,-60.1533 4762.3762,-63.5008\"/>\n",
       "<text text-anchor=\"middle\" x=\"4765.0381\" y=\"-74.8\" font-family=\"Times,serif\" font-size=\"14.00\" fill=\"#000000\">Yes</text>\n",
       "</g>\n",
       "<!-- 97 -->\n",
       "<g id=\"node98\" class=\"node\">\n",
       "<title>97</title>\n",
       "<polygon fill=\"none\" stroke=\"#ff0000\" points=\"5018.5381,-53 4930.5381,-53 4930.5381,0 5018.5381,0 5018.5381,-53\"/>\n",
       "<text text-anchor=\"middle\" x=\"4974.5381\" y=\"-37.8\" font-family=\"Times,serif\" font-size=\"14.00\" fill=\"#000000\">val = 0.025</text>\n",
       "<text text-anchor=\"middle\" x=\"4974.5381\" y=\"-22.8\" font-family=\"Times,serif\" font-size=\"14.00\" fill=\"#000000\">val = &#45;0.013</text>\n",
       "<text text-anchor=\"middle\" x=\"4974.5381\" y=\"-7.8\" font-family=\"Times,serif\" font-size=\"14.00\" fill=\"#000000\">val = &#45;0.013</text>\n",
       "</g>\n",
       "<!-- 48&#45;&gt;97 -->\n",
       "<g id=\"edge97\" class=\"edge\">\n",
       "<title>48&#45;&gt;97</title>\n",
       "<path fill=\"none\" stroke=\"#000000\" d=\"M5006.0185,-103.5866C5001.2706,-91.9604 4994.9756,-76.5458 4989.2632,-62.5577\"/>\n",
       "<polygon fill=\"#000000\" stroke=\"#000000\" points=\"4992.4486,-61.1001 4985.4277,-53.1655 4985.9682,-63.7466 4992.4486,-61.1001\"/>\n",
       "<text text-anchor=\"middle\" x=\"5009.0381\" y=\"-74.8\" font-family=\"Times,serif\" font-size=\"14.00\" fill=\"#000000\">No</text>\n",
       "</g>\n",
       "<!-- 98 -->\n",
       "<g id=\"node99\" class=\"node\">\n",
       "<title>98</title>\n",
       "<polygon fill=\"none\" stroke=\"#ff0000\" points=\"5120.0381,-53 5037.0381,-53 5037.0381,0 5120.0381,0 5120.0381,-53\"/>\n",
       "<text text-anchor=\"middle\" x=\"5078.5381\" y=\"-37.8\" font-family=\"Times,serif\" font-size=\"14.00\" fill=\"#000000\">val = 0.000</text>\n",
       "<text text-anchor=\"middle\" x=\"5078.5381\" y=\"-22.8\" font-family=\"Times,serif\" font-size=\"14.00\" fill=\"#000000\">val = 0.000</text>\n",
       "<text text-anchor=\"middle\" x=\"5078.5381\" y=\"-7.8\" font-family=\"Times,serif\" font-size=\"14.00\" fill=\"#000000\">val = 0.000</text>\n",
       "</g>\n",
       "<!-- 48&#45;&gt;98 -->\n",
       "<g id=\"edge98\" class=\"edge\">\n",
       "<title>48&#45;&gt;98</title>\n",
       "<path fill=\"none\" stroke=\"#000000\" d=\"M5025.7641,-104.0372C5033.9414,-92.0228 5044.9698,-75.8195 5054.8305,-61.3318\"/>\n",
       "<polygon fill=\"#000000\" stroke=\"#000000\" points=\"5057.7378,-63.2808 5060.4711,-53.0446 5051.951,-59.3421 5057.7378,-63.2808\"/>\n",
       "<text text-anchor=\"middle\" x=\"5059.0381\" y=\"-74.8\" font-family=\"Times,serif\" font-size=\"14.00\" fill=\"#000000\">Yes</text>\n",
       "</g>\n",
       "<!-- 99 -->\n",
       "<g id=\"node100\" class=\"node\">\n",
       "<title>99</title>\n",
       "<polygon fill=\"none\" stroke=\"#ff0000\" points=\"5310.5381,-53 5222.5381,-53 5222.5381,0 5310.5381,0 5310.5381,-53\"/>\n",
       "<text text-anchor=\"middle\" x=\"5266.5381\" y=\"-37.8\" font-family=\"Times,serif\" font-size=\"14.00\" fill=\"#000000\">val = 0.014</text>\n",
       "<text text-anchor=\"middle\" x=\"5266.5381\" y=\"-22.8\" font-family=\"Times,serif\" font-size=\"14.00\" fill=\"#000000\">val = 0.014</text>\n",
       "<text text-anchor=\"middle\" x=\"5266.5381\" y=\"-7.8\" font-family=\"Times,serif\" font-size=\"14.00\" fill=\"#000000\">val = &#45;0.028</text>\n",
       "</g>\n",
       "<!-- 49&#45;&gt;99 -->\n",
       "<g id=\"edge99\" class=\"edge\">\n",
       "<title>49&#45;&gt;99</title>\n",
       "<path fill=\"none\" stroke=\"#000000\" d=\"M5293.9825,-103.5866C5289.8831,-92.0722 5284.4608,-76.8419 5279.5191,-62.9616\"/>\n",
       "<polygon fill=\"#000000\" stroke=\"#000000\" points=\"5282.6829,-61.4124 5276.0316,-53.1655 5276.0883,-63.7602 5282.6829,-61.4124\"/>\n",
       "<text text-anchor=\"middle\" x=\"5298.0381\" y=\"-74.8\" font-family=\"Times,serif\" font-size=\"14.00\" fill=\"#000000\">No</text>\n",
       "</g>\n",
       "<!-- 100 -->\n",
       "<g id=\"node101\" class=\"node\">\n",
       "<title>100</title>\n",
       "<polygon fill=\"none\" stroke=\"#ff0000\" points=\"5416.5381,-53 5328.5381,-53 5328.5381,0 5416.5381,0 5416.5381,-53\"/>\n",
       "<text text-anchor=\"middle\" x=\"5372.5381\" y=\"-37.8\" font-family=\"Times,serif\" font-size=\"14.00\" fill=\"#000000\">val = 0.000</text>\n",
       "<text text-anchor=\"middle\" x=\"5372.5381\" y=\"-22.8\" font-family=\"Times,serif\" font-size=\"14.00\" fill=\"#000000\">val = 0.018</text>\n",
       "<text text-anchor=\"middle\" x=\"5372.5381\" y=\"-7.8\" font-family=\"Times,serif\" font-size=\"14.00\" fill=\"#000000\">val = &#45;0.018</text>\n",
       "</g>\n",
       "<!-- 49&#45;&gt;100 -->\n",
       "<g id=\"edge100\" class=\"edge\">\n",
       "<title>49&#45;&gt;100</title>\n",
       "<path fill=\"none\" stroke=\"#000000\" d=\"M5314.0807,-104.0372C5323.1387,-92.0228 5335.3548,-75.8195 5346.2774,-61.3318\"/>\n",
       "<polygon fill=\"#000000\" stroke=\"#000000\" points=\"5349.3,-63.1366 5352.5254,-53.0446 5343.7106,-58.9225 5349.3,-63.1366\"/>\n",
       "<text text-anchor=\"middle\" x=\"5350.0381\" y=\"-74.8\" font-family=\"Times,serif\" font-size=\"14.00\" fill=\"#000000\">Yes</text>\n",
       "</g>\n",
       "<!-- 101 -->\n",
       "<g id=\"node102\" class=\"node\">\n",
       "<title>101</title>\n",
       "<polygon fill=\"none\" stroke=\"#ff0000\" points=\"5560.5381,-53 5472.5381,-53 5472.5381,0 5560.5381,0 5560.5381,-53\"/>\n",
       "<text text-anchor=\"middle\" x=\"5516.5381\" y=\"-37.8\" font-family=\"Times,serif\" font-size=\"14.00\" fill=\"#000000\">val = &#45;0.022</text>\n",
       "<text text-anchor=\"middle\" x=\"5516.5381\" y=\"-22.8\" font-family=\"Times,serif\" font-size=\"14.00\" fill=\"#000000\">val = 0.043</text>\n",
       "<text text-anchor=\"middle\" x=\"5516.5381\" y=\"-7.8\" font-family=\"Times,serif\" font-size=\"14.00\" fill=\"#000000\">val = &#45;0.022</text>\n",
       "</g>\n",
       "<!-- 50&#45;&gt;101 -->\n",
       "<g id=\"edge101\" class=\"edge\">\n",
       "<title>50&#45;&gt;101</title>\n",
       "<path fill=\"none\" stroke=\"#000000\" d=\"M5574.1835,-104.0372C5565.2514,-92.0228 5553.2049,-75.8195 5542.434,-61.3318\"/>\n",
       "<polygon fill=\"#000000\" stroke=\"#000000\" points=\"5545.048,-58.9815 5536.2728,-53.0446 5539.4303,-63.158 5545.048,-58.9815\"/>\n",
       "<text text-anchor=\"middle\" x=\"5570.0381\" y=\"-74.8\" font-family=\"Times,serif\" font-size=\"14.00\" fill=\"#000000\">No</text>\n",
       "</g>\n",
       "<!-- 102 -->\n",
       "<g id=\"node103\" class=\"node\">\n",
       "<title>102</title>\n",
       "<polygon fill=\"none\" stroke=\"#ff0000\" points=\"5662.0381,-53 5579.0381,-53 5579.0381,0 5662.0381,0 5662.0381,-53\"/>\n",
       "<text text-anchor=\"middle\" x=\"5620.5381\" y=\"-37.8\" font-family=\"Times,serif\" font-size=\"14.00\" fill=\"#000000\">val = 0.000</text>\n",
       "<text text-anchor=\"middle\" x=\"5620.5381\" y=\"-22.8\" font-family=\"Times,serif\" font-size=\"14.00\" fill=\"#000000\">val = 0.000</text>\n",
       "<text text-anchor=\"middle\" x=\"5620.5381\" y=\"-7.8\" font-family=\"Times,serif\" font-size=\"14.00\" fill=\"#000000\">val = 0.000</text>\n",
       "</g>\n",
       "<!-- 50&#45;&gt;102 -->\n",
       "<g id=\"edge102\" class=\"edge\">\n",
       "<title>50&#45;&gt;102</title>\n",
       "<path fill=\"none\" stroke=\"#000000\" d=\"M5593.9008,-103.5866C5597.8796,-92.0722 5603.1424,-76.8419 5607.9388,-62.9616\"/>\n",
       "<polygon fill=\"#000000\" stroke=\"#000000\" points=\"5611.3658,-63.7603 5611.3238,-53.1655 5604.7496,-61.4741 5611.3658,-63.7603\"/>\n",
       "<text text-anchor=\"middle\" x=\"5616.0381\" y=\"-74.8\" font-family=\"Times,serif\" font-size=\"14.00\" fill=\"#000000\">Yes</text>\n",
       "</g>\n",
       "<!-- 103 -->\n",
       "<g id=\"node104\" class=\"node\">\n",
       "<title>103</title>\n",
       "<polygon fill=\"none\" stroke=\"#ff0000\" points=\"5850.5381,-53 5762.5381,-53 5762.5381,0 5850.5381,0 5850.5381,-53\"/>\n",
       "<text text-anchor=\"middle\" x=\"5806.5381\" y=\"-37.8\" font-family=\"Times,serif\" font-size=\"14.00\" fill=\"#000000\">val = 0.008</text>\n",
       "<text text-anchor=\"middle\" x=\"5806.5381\" y=\"-22.8\" font-family=\"Times,serif\" font-size=\"14.00\" fill=\"#000000\">val = 0.008</text>\n",
       "<text text-anchor=\"middle\" x=\"5806.5381\" y=\"-7.8\" font-family=\"Times,serif\" font-size=\"14.00\" fill=\"#000000\">val = &#45;0.016</text>\n",
       "</g>\n",
       "<!-- 51&#45;&gt;103 -->\n",
       "<g id=\"edge103\" class=\"edge\">\n",
       "<title>51&#45;&gt;103</title>\n",
       "<path fill=\"none\" stroke=\"#000000\" d=\"M5861.7478,-104.0372C5853.1931,-92.0228 5841.6556,-75.8195 5831.3398,-61.3318\"/>\n",
       "<polygon fill=\"#000000\" stroke=\"#000000\" points=\"5834.0903,-59.1605 5825.4389,-53.0446 5828.3881,-63.2207 5834.0903,-59.1605\"/>\n",
       "<text text-anchor=\"middle\" x=\"5859.0381\" y=\"-74.8\" font-family=\"Times,serif\" font-size=\"14.00\" fill=\"#000000\">No</text>\n",
       "</g>\n",
       "<!-- 104 -->\n",
       "<g id=\"node105\" class=\"node\">\n",
       "<title>104</title>\n",
       "<polygon fill=\"none\" stroke=\"#ff0000\" points=\"5956.5381,-53 5868.5381,-53 5868.5381,0 5956.5381,0 5956.5381,-53\"/>\n",
       "<text text-anchor=\"middle\" x=\"5912.5381\" y=\"-37.8\" font-family=\"Times,serif\" font-size=\"14.00\" fill=\"#000000\">val = 0.006</text>\n",
       "<text text-anchor=\"middle\" x=\"5912.5381\" y=\"-22.8\" font-family=\"Times,serif\" font-size=\"14.00\" fill=\"#000000\">val = 0.006</text>\n",
       "<text text-anchor=\"middle\" x=\"5912.5381\" y=\"-7.8\" font-family=\"Times,serif\" font-size=\"14.00\" fill=\"#000000\">val = &#45;0.013</text>\n",
       "</g>\n",
       "<!-- 51&#45;&gt;104 -->\n",
       "<g id=\"edge104\" class=\"edge\">\n",
       "<title>51&#45;&gt;104</title>\n",
       "<path fill=\"none\" stroke=\"#000000\" d=\"M5881.8648,-103.5866C5886.491,-91.9604 5892.6245,-76.5458 5898.1905,-62.5577\"/>\n",
       "<polygon fill=\"#000000\" stroke=\"#000000\" points=\"5901.4825,-63.751 5901.9277,-53.1655 5894.9785,-61.163 5901.4825,-63.751\"/>\n",
       "<text text-anchor=\"middle\" x=\"5906.0381\" y=\"-74.8\" font-family=\"Times,serif\" font-size=\"14.00\" fill=\"#000000\">Yes</text>\n",
       "</g>\n",
       "<!-- 105 -->\n",
       "<g id=\"node106\" class=\"node\">\n",
       "<title>105</title>\n",
       "<polygon fill=\"none\" stroke=\"#ff0000\" points=\"6139.5381,-53 6051.5381,-53 6051.5381,0 6139.5381,0 6139.5381,-53\"/>\n",
       "<text text-anchor=\"middle\" x=\"6095.5381\" y=\"-37.8\" font-family=\"Times,serif\" font-size=\"14.00\" fill=\"#000000\">val = &#45;0.007</text>\n",
       "<text text-anchor=\"middle\" x=\"6095.5381\" y=\"-22.8\" font-family=\"Times,serif\" font-size=\"14.00\" fill=\"#000000\">val = 0.014</text>\n",
       "<text text-anchor=\"middle\" x=\"6095.5381\" y=\"-7.8\" font-family=\"Times,serif\" font-size=\"14.00\" fill=\"#000000\">val = &#45;0.007</text>\n",
       "</g>\n",
       "<!-- 52&#45;&gt;105 -->\n",
       "<g id=\"edge105\" class=\"edge\">\n",
       "<title>52&#45;&gt;105</title>\n",
       "<path fill=\"none\" stroke=\"#000000\" d=\"M6149.124,-104.0372C6140.8208,-92.0228 6129.6228,-75.8195 6119.6103,-61.3318\"/>\n",
       "<polygon fill=\"#000000\" stroke=\"#000000\" points=\"6122.4477,-59.2813 6113.883,-53.0446 6116.6891,-63.2611 6122.4477,-59.2813\"/>\n",
       "<text text-anchor=\"middle\" x=\"6146.0381\" y=\"-74.8\" font-family=\"Times,serif\" font-size=\"14.00\" fill=\"#000000\">No</text>\n",
       "</g>\n",
       "<!-- 106 -->\n",
       "<g id=\"node107\" class=\"node\">\n",
       "<title>106</title>\n",
       "<polygon fill=\"none\" stroke=\"#ff0000\" points=\"6241.0381,-53 6158.0381,-53 6158.0381,0 6241.0381,0 6241.0381,-53\"/>\n",
       "<text text-anchor=\"middle\" x=\"6199.5381\" y=\"-37.8\" font-family=\"Times,serif\" font-size=\"14.00\" fill=\"#000000\">val = 0.000</text>\n",
       "<text text-anchor=\"middle\" x=\"6199.5381\" y=\"-22.8\" font-family=\"Times,serif\" font-size=\"14.00\" fill=\"#000000\">val = 0.000</text>\n",
       "<text text-anchor=\"middle\" x=\"6199.5381\" y=\"-7.8\" font-family=\"Times,serif\" font-size=\"14.00\" fill=\"#000000\">val = 0.000</text>\n",
       "</g>\n",
       "<!-- 52&#45;&gt;106 -->\n",
       "<g id=\"edge106\" class=\"edge\">\n",
       "<title>52&#45;&gt;106</title>\n",
       "<path fill=\"none\" stroke=\"#000000\" d=\"M6168.8648,-103.5866C6173.491,-91.9604 6179.6245,-76.5458 6185.1905,-62.5577\"/>\n",
       "<polygon fill=\"#000000\" stroke=\"#000000\" points=\"6188.4825,-63.751 6188.9277,-53.1655 6181.9785,-61.163 6188.4825,-63.751\"/>\n",
       "<text text-anchor=\"middle\" x=\"6193.0381\" y=\"-74.8\" font-family=\"Times,serif\" font-size=\"14.00\" fill=\"#000000\">Yes</text>\n",
       "</g>\n",
       "<!-- 107 -->\n",
       "<g id=\"node108\" class=\"node\">\n",
       "<title>107</title>\n",
       "<polygon fill=\"none\" stroke=\"#ff0000\" points=\"6439.5381,-53 6351.5381,-53 6351.5381,0 6439.5381,0 6439.5381,-53\"/>\n",
       "<text text-anchor=\"middle\" x=\"6395.5381\" y=\"-37.8\" font-family=\"Times,serif\" font-size=\"14.00\" fill=\"#000000\">val = 0.058</text>\n",
       "<text text-anchor=\"middle\" x=\"6395.5381\" y=\"-22.8\" font-family=\"Times,serif\" font-size=\"14.00\" fill=\"#000000\">val = &#45;0.015</text>\n",
       "<text text-anchor=\"middle\" x=\"6395.5381\" y=\"-7.8\" font-family=\"Times,serif\" font-size=\"14.00\" fill=\"#000000\">val = &#45;0.043</text>\n",
       "</g>\n",
       "<!-- 53&#45;&gt;107 -->\n",
       "<g id=\"edge107\" class=\"edge\">\n",
       "<title>53&#45;&gt;107</title>\n",
       "<path fill=\"none\" stroke=\"#000000\" d=\"M6438.5692,-104.0372C6432.0261,-92.2474 6423.2445,-76.4238 6415.3207,-62.146\"/>\n",
       "<polygon fill=\"#000000\" stroke=\"#000000\" points=\"6418.1825,-60.0899 6410.2696,-53.0446 6412.0619,-63.4867 6418.1825,-60.0899\"/>\n",
       "<text text-anchor=\"middle\" x=\"6438.0381\" y=\"-74.8\" font-family=\"Times,serif\" font-size=\"14.00\" fill=\"#000000\">No</text>\n",
       "</g>\n",
       "<!-- 108 -->\n",
       "<g id=\"node109\" class=\"node\">\n",
       "<title>108</title>\n",
       "<polygon fill=\"none\" stroke=\"#ff0000\" points=\"6545.5381,-53 6457.5381,-53 6457.5381,0 6545.5381,0 6545.5381,-53\"/>\n",
       "<text text-anchor=\"middle\" x=\"6501.5381\" y=\"-37.8\" font-family=\"Times,serif\" font-size=\"14.00\" fill=\"#000000\">val = 0.018</text>\n",
       "<text text-anchor=\"middle\" x=\"6501.5381\" y=\"-22.8\" font-family=\"Times,serif\" font-size=\"14.00\" fill=\"#000000\">val = &#45;0.018</text>\n",
       "<text text-anchor=\"middle\" x=\"6501.5381\" y=\"-7.8\" font-family=\"Times,serif\" font-size=\"14.00\" fill=\"#000000\">val = 0.000</text>\n",
       "</g>\n",
       "<!-- 53&#45;&gt;108 -->\n",
       "<g id=\"edge108\" class=\"edge\">\n",
       "<title>53&#45;&gt;108</title>\n",
       "<path fill=\"none\" stroke=\"#000000\" d=\"M6458.507,-104.0372C6465.05,-92.2474 6473.8317,-76.4238 6481.7555,-62.146\"/>\n",
       "<polygon fill=\"#000000\" stroke=\"#000000\" points=\"6485.0142,-63.4867 6486.8065,-53.0446 6478.8936,-60.0899 6485.0142,-63.4867\"/>\n",
       "<text text-anchor=\"middle\" x=\"6488.0381\" y=\"-74.8\" font-family=\"Times,serif\" font-size=\"14.00\" fill=\"#000000\">Yes</text>\n",
       "</g>\n",
       "<!-- 109 -->\n",
       "<g id=\"node110\" class=\"node\">\n",
       "<title>109</title>\n",
       "<polygon fill=\"none\" stroke=\"#ff0000\" points=\"6726.5381,-53 6638.5381,-53 6638.5381,0 6726.5381,0 6726.5381,-53\"/>\n",
       "<text text-anchor=\"middle\" x=\"6682.5381\" y=\"-37.8\" font-family=\"Times,serif\" font-size=\"14.00\" fill=\"#000000\">val = &#45;0.004</text>\n",
       "<text text-anchor=\"middle\" x=\"6682.5381\" y=\"-22.8\" font-family=\"Times,serif\" font-size=\"14.00\" fill=\"#000000\">val = 0.022</text>\n",
       "<text text-anchor=\"middle\" x=\"6682.5381\" y=\"-7.8\" font-family=\"Times,serif\" font-size=\"14.00\" fill=\"#000000\">val = &#45;0.018</text>\n",
       "</g>\n",
       "<!-- 54&#45;&gt;109 -->\n",
       "<g id=\"edge109\" class=\"edge\">\n",
       "<title>54&#45;&gt;109</title>\n",
       "<path fill=\"none\" stroke=\"#000000\" d=\"M6725.5692,-104.0372C6719.0261,-92.2474 6710.2445,-76.4238 6702.3207,-62.146\"/>\n",
       "<polygon fill=\"#000000\" stroke=\"#000000\" points=\"6705.1825,-60.0899 6697.2696,-53.0446 6699.0619,-63.4867 6705.1825,-60.0899\"/>\n",
       "<text text-anchor=\"middle\" x=\"6725.0381\" y=\"-74.8\" font-family=\"Times,serif\" font-size=\"14.00\" fill=\"#000000\">No</text>\n",
       "</g>\n",
       "<!-- 110 -->\n",
       "<g id=\"node111\" class=\"node\">\n",
       "<title>110</title>\n",
       "<polygon fill=\"none\" stroke=\"#ff0000\" points=\"6832.5381,-53 6744.5381,-53 6744.5381,0 6832.5381,0 6832.5381,-53\"/>\n",
       "<text text-anchor=\"middle\" x=\"6788.5381\" y=\"-37.8\" font-family=\"Times,serif\" font-size=\"14.00\" fill=\"#000000\">val = &#45;0.007</text>\n",
       "<text text-anchor=\"middle\" x=\"6788.5381\" y=\"-22.8\" font-family=\"Times,serif\" font-size=\"14.00\" fill=\"#000000\">val = 0.014</text>\n",
       "<text text-anchor=\"middle\" x=\"6788.5381\" y=\"-7.8\" font-family=\"Times,serif\" font-size=\"14.00\" fill=\"#000000\">val = &#45;0.007</text>\n",
       "</g>\n",
       "<!-- 54&#45;&gt;110 -->\n",
       "<g id=\"edge110\" class=\"edge\">\n",
       "<title>54&#45;&gt;110</title>\n",
       "<path fill=\"none\" stroke=\"#000000\" d=\"M6745.507,-104.0372C6752.05,-92.2474 6760.8317,-76.4238 6768.7555,-62.146\"/>\n",
       "<polygon fill=\"#000000\" stroke=\"#000000\" points=\"6772.0142,-63.4867 6773.8065,-53.0446 6765.8936,-60.0899 6772.0142,-63.4867\"/>\n",
       "<text text-anchor=\"middle\" x=\"6775.0381\" y=\"-74.8\" font-family=\"Times,serif\" font-size=\"14.00\" fill=\"#000000\">Yes</text>\n",
       "</g>\n",
       "<!-- 111 -->\n",
       "<g id=\"node112\" class=\"node\">\n",
       "<title>111</title>\n",
       "<polygon fill=\"none\" stroke=\"#ff0000\" points=\"7052.5381,-53 6964.5381,-53 6964.5381,0 7052.5381,0 7052.5381,-53\"/>\n",
       "<text text-anchor=\"middle\" x=\"7008.5381\" y=\"-37.8\" font-family=\"Times,serif\" font-size=\"14.00\" fill=\"#000000\">val = 0.014</text>\n",
       "<text text-anchor=\"middle\" x=\"7008.5381\" y=\"-22.8\" font-family=\"Times,serif\" font-size=\"14.00\" fill=\"#000000\">val = &#45;0.007</text>\n",
       "<text text-anchor=\"middle\" x=\"7008.5381\" y=\"-7.8\" font-family=\"Times,serif\" font-size=\"14.00\" fill=\"#000000\">val = &#45;0.007</text>\n",
       "</g>\n",
       "<!-- 55&#45;&gt;111 -->\n",
       "<g id=\"edge111\" class=\"edge\">\n",
       "<title>55&#45;&gt;111</title>\n",
       "<path fill=\"none\" stroke=\"#000000\" d=\"M7019.8387,-103.5866C7018.1671,-92.184 7015.9613,-77.1373 7013.9425,-63.3662\"/>\n",
       "<polygon fill=\"#000000\" stroke=\"#000000\" points=\"7017.3607,-62.5521 7012.4471,-53.1655 7010.4347,-63.5675 7017.3607,-62.5521\"/>\n",
       "<text text-anchor=\"middle\" x=\"7027.0381\" y=\"-74.8\" font-family=\"Times,serif\" font-size=\"14.00\" fill=\"#000000\">No</text>\n",
       "</g>\n",
       "<!-- 112 -->\n",
       "<g id=\"node113\" class=\"node\">\n",
       "<title>112</title>\n",
       "<polygon fill=\"none\" stroke=\"#ff0000\" points=\"7158.5381,-53 7070.5381,-53 7070.5381,0 7158.5381,0 7158.5381,-53\"/>\n",
       "<text text-anchor=\"middle\" x=\"7114.5381\" y=\"-37.8\" font-family=\"Times,serif\" font-size=\"14.00\" fill=\"#000000\">val = &#45;0.007</text>\n",
       "<text text-anchor=\"middle\" x=\"7114.5381\" y=\"-22.8\" font-family=\"Times,serif\" font-size=\"14.00\" fill=\"#000000\">val = &#45;0.007</text>\n",
       "<text text-anchor=\"middle\" x=\"7114.5381\" y=\"-7.8\" font-family=\"Times,serif\" font-size=\"14.00\" fill=\"#000000\">val = 0.014</text>\n",
       "</g>\n",
       "<!-- 55&#45;&gt;112 -->\n",
       "<g id=\"edge112\" class=\"edge\">\n",
       "<title>55&#45;&gt;112</title>\n",
       "<path fill=\"none\" stroke=\"#000000\" d=\"M7039.8426,-104.0372C7051.6329,-91.7982 7067.611,-75.2123 7081.7636,-60.5213\"/>\n",
       "<polygon fill=\"#000000\" stroke=\"#000000\" points=\"7084.5491,-62.6747 7088.9663,-53.0446 7079.5078,-57.8182 7084.5491,-62.6747\"/>\n",
       "<text text-anchor=\"middle\" x=\"7082.0381\" y=\"-74.8\" font-family=\"Times,serif\" font-size=\"14.00\" fill=\"#000000\">Yes</text>\n",
       "</g>\n",
       "<!-- 113 -->\n",
       "<g id=\"node114\" class=\"node\">\n",
       "<title>113</title>\n",
       "<polygon fill=\"none\" stroke=\"#ff0000\" points=\"7299.5381,-53 7211.5381,-53 7211.5381,0 7299.5381,0 7299.5381,-53\"/>\n",
       "<text text-anchor=\"middle\" x=\"7255.5381\" y=\"-37.8\" font-family=\"Times,serif\" font-size=\"14.00\" fill=\"#000000\">val = 0.006</text>\n",
       "<text text-anchor=\"middle\" x=\"7255.5381\" y=\"-22.8\" font-family=\"Times,serif\" font-size=\"14.00\" fill=\"#000000\">val = 0.006</text>\n",
       "<text text-anchor=\"middle\" x=\"7255.5381\" y=\"-7.8\" font-family=\"Times,serif\" font-size=\"14.00\" fill=\"#000000\">val = &#45;0.013</text>\n",
       "</g>\n",
       "<!-- 56&#45;&gt;113 -->\n",
       "<g id=\"edge113\" class=\"edge\">\n",
       "<title>56&#45;&gt;113</title>\n",
       "<path fill=\"none\" stroke=\"#000000\" d=\"M7299.3811,-104.0372C7292.7146,-92.2474 7283.7672,-76.4238 7275.6939,-62.146\"/>\n",
       "<polygon fill=\"#000000\" stroke=\"#000000\" points=\"7278.5164,-60.0266 7270.5476,-53.0446 7272.423,-63.4721 7278.5164,-60.0266\"/>\n",
       "<text text-anchor=\"middle\" x=\"7299.0381\" y=\"-74.8\" font-family=\"Times,serif\" font-size=\"14.00\" fill=\"#000000\">No</text>\n",
       "</g>\n",
       "<!-- 114 -->\n",
       "<g id=\"node115\" class=\"node\">\n",
       "<title>114</title>\n",
       "<polygon fill=\"none\" stroke=\"#ff0000\" points=\"7401.0381,-53 7318.0381,-53 7318.0381,0 7401.0381,0 7401.0381,-53\"/>\n",
       "<text text-anchor=\"middle\" x=\"7359.5381\" y=\"-37.8\" font-family=\"Times,serif\" font-size=\"14.00\" fill=\"#000000\">val = 0.000</text>\n",
       "<text text-anchor=\"middle\" x=\"7359.5381\" y=\"-22.8\" font-family=\"Times,serif\" font-size=\"14.00\" fill=\"#000000\">val = 0.000</text>\n",
       "<text text-anchor=\"middle\" x=\"7359.5381\" y=\"-7.8\" font-family=\"Times,serif\" font-size=\"14.00\" fill=\"#000000\">val = 0.000</text>\n",
       "</g>\n",
       "<!-- 56&#45;&gt;114 -->\n",
       "<g id=\"edge114\" class=\"edge\">\n",
       "<title>56&#45;&gt;114</title>\n",
       "<path fill=\"none\" stroke=\"#000000\" d=\"M7318.9427,-104.0372C7325.1153,-92.2474 7333.4,-76.4238 7340.8752,-62.146\"/>\n",
       "<polygon fill=\"#000000\" stroke=\"#000000\" points=\"7344.1027,-63.5273 7345.6404,-53.0446 7337.9013,-60.2804 7344.1027,-63.5273\"/>\n",
       "<text text-anchor=\"middle\" x=\"7347.0381\" y=\"-74.8\" font-family=\"Times,serif\" font-size=\"14.00\" fill=\"#000000\">Yes</text>\n",
       "</g>\n",
       "<!-- 115 -->\n",
       "<g id=\"node116\" class=\"node\">\n",
       "<title>115</title>\n",
       "<polygon fill=\"none\" stroke=\"#ff0000\" points=\"7579.0381,-53 7496.0381,-53 7496.0381,0 7579.0381,0 7579.0381,-53\"/>\n",
       "<text text-anchor=\"middle\" x=\"7537.5381\" y=\"-37.8\" font-family=\"Times,serif\" font-size=\"14.00\" fill=\"#000000\">val = 0.000</text>\n",
       "<text text-anchor=\"middle\" x=\"7537.5381\" y=\"-22.8\" font-family=\"Times,serif\" font-size=\"14.00\" fill=\"#000000\">val = 0.000</text>\n",
       "<text text-anchor=\"middle\" x=\"7537.5381\" y=\"-7.8\" font-family=\"Times,serif\" font-size=\"14.00\" fill=\"#000000\">val = 0.000</text>\n",
       "</g>\n",
       "<!-- 57&#45;&gt;115 -->\n",
       "<g id=\"edge115\" class=\"edge\">\n",
       "<title>57&#45;&gt;115</title>\n",
       "<path fill=\"none\" stroke=\"#000000\" d=\"M7585.4406,-104.0372C7578.0875,-92.1351 7568.1946,-76.122 7559.3084,-61.7385\"/>\n",
       "<polygon fill=\"#000000\" stroke=\"#000000\" points=\"7562.1709,-59.7124 7553.9373,-53.0446 7556.2157,-63.3916 7562.1709,-59.7124\"/>\n",
       "<text text-anchor=\"middle\" x=\"7584.0381\" y=\"-74.8\" font-family=\"Times,serif\" font-size=\"14.00\" fill=\"#000000\">No</text>\n",
       "</g>\n",
       "<!-- 116 -->\n",
       "<g id=\"node117\" class=\"node\">\n",
       "<title>116</title>\n",
       "<polygon fill=\"none\" stroke=\"#ff0000\" points=\"7680.0381,-53 7597.0381,-53 7597.0381,0 7680.0381,0 7680.0381,-53\"/>\n",
       "<text text-anchor=\"middle\" x=\"7638.5381\" y=\"-37.8\" font-family=\"Times,serif\" font-size=\"14.00\" fill=\"#000000\">val = 0.000</text>\n",
       "<text text-anchor=\"middle\" x=\"7638.5381\" y=\"-22.8\" font-family=\"Times,serif\" font-size=\"14.00\" fill=\"#000000\">val = 0.000</text>\n",
       "<text text-anchor=\"middle\" x=\"7638.5381\" y=\"-7.8\" font-family=\"Times,serif\" font-size=\"14.00\" fill=\"#000000\">val = 0.000</text>\n",
       "</g>\n",
       "<!-- 57&#45;&gt;116 -->\n",
       "<g id=\"edge116\" class=\"edge\">\n",
       "<title>57&#45;&gt;116</title>\n",
       "<path fill=\"none\" stroke=\"#000000\" d=\"M7604.6361,-103.5866C7609.7492,-91.9604 7616.5284,-76.5458 7622.6802,-62.5577\"/>\n",
       "<polygon fill=\"#000000\" stroke=\"#000000\" points=\"7625.9888,-63.7285 7626.8108,-53.1655 7619.5811,-60.9104 7625.9888,-63.7285\"/>\n",
       "<text text-anchor=\"middle\" x=\"7630.0381\" y=\"-74.8\" font-family=\"Times,serif\" font-size=\"14.00\" fill=\"#000000\">Yes</text>\n",
       "</g>\n",
       "<!-- 117 -->\n",
       "<g id=\"node118\" class=\"node\">\n",
       "<title>117</title>\n",
       "<polygon fill=\"none\" stroke=\"#ff0000\" points=\"7863.0381,-53 7780.0381,-53 7780.0381,0 7863.0381,0 7863.0381,-53\"/>\n",
       "<text text-anchor=\"middle\" x=\"7821.5381\" y=\"-37.8\" font-family=\"Times,serif\" font-size=\"14.00\" fill=\"#000000\">val = 0.000</text>\n",
       "<text text-anchor=\"middle\" x=\"7821.5381\" y=\"-22.8\" font-family=\"Times,serif\" font-size=\"14.00\" fill=\"#000000\">val = 0.000</text>\n",
       "<text text-anchor=\"middle\" x=\"7821.5381\" y=\"-7.8\" font-family=\"Times,serif\" font-size=\"14.00\" fill=\"#000000\">val = 0.000</text>\n",
       "</g>\n",
       "<!-- 58&#45;&gt;117 -->\n",
       "<g id=\"edge117\" class=\"edge\">\n",
       "<title>58&#45;&gt;117</title>\n",
       "<path fill=\"none\" stroke=\"#000000\" d=\"M7871.8763,-104.0372C7864.1493,-92.1351 7853.7534,-76.122 7844.4154,-61.7385\"/>\n",
       "<polygon fill=\"#000000\" stroke=\"#000000\" points=\"7847.1521,-59.5262 7838.7712,-53.0446 7841.2809,-63.3379 7847.1521,-59.5262\"/>\n",
       "<text text-anchor=\"middle\" x=\"7870.0381\" y=\"-74.8\" font-family=\"Times,serif\" font-size=\"14.00\" fill=\"#000000\">No</text>\n",
       "</g>\n",
       "<!-- 118 -->\n",
       "<g id=\"node119\" class=\"node\">\n",
       "<title>118</title>\n",
       "<polygon fill=\"none\" stroke=\"#ff0000\" points=\"7964.0381,-53 7881.0381,-53 7881.0381,0 7964.0381,0 7964.0381,-53\"/>\n",
       "<text text-anchor=\"middle\" x=\"7922.5381\" y=\"-37.8\" font-family=\"Times,serif\" font-size=\"14.00\" fill=\"#000000\">val = 0.000</text>\n",
       "<text text-anchor=\"middle\" x=\"7922.5381\" y=\"-22.8\" font-family=\"Times,serif\" font-size=\"14.00\" fill=\"#000000\">val = 0.000</text>\n",
       "<text text-anchor=\"middle\" x=\"7922.5381\" y=\"-7.8\" font-family=\"Times,serif\" font-size=\"14.00\" fill=\"#000000\">val = 0.000</text>\n",
       "</g>\n",
       "<!-- 58&#45;&gt;118 -->\n",
       "<g id=\"edge118\" class=\"edge\">\n",
       "<title>58&#45;&gt;118</title>\n",
       "<path fill=\"none\" stroke=\"#000000\" d=\"M7891.0577,-103.5866C7895.8055,-91.9604 7902.1005,-76.5458 7907.8129,-62.5577\"/>\n",
       "<polygon fill=\"#000000\" stroke=\"#000000\" points=\"7911.108,-63.7466 7911.6485,-53.1655 7904.6275,-61.1001 7911.108,-63.7466\"/>\n",
       "<text text-anchor=\"middle\" x=\"7915.0381\" y=\"-74.8\" font-family=\"Times,serif\" font-size=\"14.00\" fill=\"#000000\">Yes</text>\n",
       "</g>\n",
       "<!-- 119 -->\n",
       "<g id=\"node120\" class=\"node\">\n",
       "<title>119</title>\n",
       "<polygon fill=\"none\" stroke=\"#ff0000\" points=\"8149.5381,-53 8061.5381,-53 8061.5381,0 8149.5381,0 8149.5381,-53\"/>\n",
       "<text text-anchor=\"middle\" x=\"8105.5381\" y=\"-37.8\" font-family=\"Times,serif\" font-size=\"14.00\" fill=\"#000000\">val = &#45;0.007</text>\n",
       "<text text-anchor=\"middle\" x=\"8105.5381\" y=\"-22.8\" font-family=\"Times,serif\" font-size=\"14.00\" fill=\"#000000\">val = 0.014</text>\n",
       "<text text-anchor=\"middle\" x=\"8105.5381\" y=\"-7.8\" font-family=\"Times,serif\" font-size=\"14.00\" fill=\"#000000\">val = &#45;0.007</text>\n",
       "</g>\n",
       "<!-- 59&#45;&gt;119 -->\n",
       "<g id=\"edge119\" class=\"edge\">\n",
       "<title>59&#45;&gt;119</title>\n",
       "<path fill=\"none\" stroke=\"#000000\" d=\"M8158.3121,-104.0372C8150.1347,-92.0228 8139.1063,-75.8195 8129.2456,-61.3318\"/>\n",
       "<polygon fill=\"#000000\" stroke=\"#000000\" points=\"8132.1252,-59.3421 8123.6051,-53.0446 8126.3384,-63.2808 8132.1252,-59.3421\"/>\n",
       "<text text-anchor=\"middle\" x=\"8156.0381\" y=\"-74.8\" font-family=\"Times,serif\" font-size=\"14.00\" fill=\"#000000\">No</text>\n",
       "</g>\n",
       "<!-- 120 -->\n",
       "<g id=\"node121\" class=\"node\">\n",
       "<title>120</title>\n",
       "<polygon fill=\"none\" stroke=\"#ff0000\" points=\"8251.0381,-53 8168.0381,-53 8168.0381,0 8251.0381,0 8251.0381,-53\"/>\n",
       "<text text-anchor=\"middle\" x=\"8209.5381\" y=\"-37.8\" font-family=\"Times,serif\" font-size=\"14.00\" fill=\"#000000\">val = 0.000</text>\n",
       "<text text-anchor=\"middle\" x=\"8209.5381\" y=\"-22.8\" font-family=\"Times,serif\" font-size=\"14.00\" fill=\"#000000\">val = 0.000</text>\n",
       "<text text-anchor=\"middle\" x=\"8209.5381\" y=\"-7.8\" font-family=\"Times,serif\" font-size=\"14.00\" fill=\"#000000\">val = 0.000</text>\n",
       "</g>\n",
       "<!-- 59&#45;&gt;120 -->\n",
       "<g id=\"edge120\" class=\"edge\">\n",
       "<title>59&#45;&gt;120</title>\n",
       "<path fill=\"none\" stroke=\"#000000\" d=\"M8178.0577,-103.5866C8182.8055,-91.9604 8189.1005,-76.5458 8194.8129,-62.5577\"/>\n",
       "<polygon fill=\"#000000\" stroke=\"#000000\" points=\"8198.108,-63.7466 8198.6485,-53.1655 8191.6275,-61.1001 8198.108,-63.7466\"/>\n",
       "<text text-anchor=\"middle\" x=\"8202.0381\" y=\"-74.8\" font-family=\"Times,serif\" font-size=\"14.00\" fill=\"#000000\">Yes</text>\n",
       "</g>\n",
       "<!-- 121 -->\n",
       "<g id=\"node122\" class=\"node\">\n",
       "<title>121</title>\n",
       "<polygon fill=\"none\" stroke=\"#ff0000\" points=\"8439.5381,-53 8351.5381,-53 8351.5381,0 8439.5381,0 8439.5381,-53\"/>\n",
       "<text text-anchor=\"middle\" x=\"8395.5381\" y=\"-37.8\" font-family=\"Times,serif\" font-size=\"14.00\" fill=\"#000000\">val = &#45;0.007</text>\n",
       "<text text-anchor=\"middle\" x=\"8395.5381\" y=\"-22.8\" font-family=\"Times,serif\" font-size=\"14.00\" fill=\"#000000\">val = &#45;0.007</text>\n",
       "<text text-anchor=\"middle\" x=\"8395.5381\" y=\"-7.8\" font-family=\"Times,serif\" font-size=\"14.00\" fill=\"#000000\">val = 0.014</text>\n",
       "</g>\n",
       "<!-- 60&#45;&gt;121 -->\n",
       "<g id=\"edge121\" class=\"edge\">\n",
       "<title>60&#45;&gt;121</title>\n",
       "<path fill=\"none\" stroke=\"#000000\" d=\"M8445.8763,-104.0372C8438.1493,-92.1351 8427.7534,-76.122 8418.4154,-61.7385\"/>\n",
       "<polygon fill=\"#000000\" stroke=\"#000000\" points=\"8421.1521,-59.5262 8412.7712,-53.0446 8415.2809,-63.3379 8421.1521,-59.5262\"/>\n",
       "<text text-anchor=\"middle\" x=\"8444.0381\" y=\"-74.8\" font-family=\"Times,serif\" font-size=\"14.00\" fill=\"#000000\">No</text>\n",
       "</g>\n",
       "<!-- 122 -->\n",
       "<g id=\"node123\" class=\"node\">\n",
       "<title>122</title>\n",
       "<polygon fill=\"none\" stroke=\"#ff0000\" points=\"8541.0381,-53 8458.0381,-53 8458.0381,0 8541.0381,0 8541.0381,-53\"/>\n",
       "<text text-anchor=\"middle\" x=\"8499.5381\" y=\"-37.8\" font-family=\"Times,serif\" font-size=\"14.00\" fill=\"#000000\">val = 0.000</text>\n",
       "<text text-anchor=\"middle\" x=\"8499.5381\" y=\"-22.8\" font-family=\"Times,serif\" font-size=\"14.00\" fill=\"#000000\">val = 0.000</text>\n",
       "<text text-anchor=\"middle\" x=\"8499.5381\" y=\"-7.8\" font-family=\"Times,serif\" font-size=\"14.00\" fill=\"#000000\">val = 0.000</text>\n",
       "</g>\n",
       "<!-- 60&#45;&gt;122 -->\n",
       "<g id=\"edge122\" class=\"edge\">\n",
       "<title>60&#45;&gt;122</title>\n",
       "<path fill=\"none\" stroke=\"#000000\" d=\"M8465.6361,-103.5866C8470.7492,-91.9604 8477.5284,-76.5458 8483.6802,-62.5577\"/>\n",
       "<polygon fill=\"#000000\" stroke=\"#000000\" points=\"8486.9888,-63.7285 8487.8108,-53.1655 8480.5811,-60.9104 8486.9888,-63.7285\"/>\n",
       "<text text-anchor=\"middle\" x=\"8491.0381\" y=\"-74.8\" font-family=\"Times,serif\" font-size=\"14.00\" fill=\"#000000\">Yes</text>\n",
       "</g>\n",
       "<!-- 123 -->\n",
       "<g id=\"node124\" class=\"node\">\n",
       "<title>123</title>\n",
       "<polygon fill=\"none\" stroke=\"#ff0000\" points=\"8723.0381,-53 8640.0381,-53 8640.0381,0 8723.0381,0 8723.0381,-53\"/>\n",
       "<text text-anchor=\"middle\" x=\"8681.5381\" y=\"-37.8\" font-family=\"Times,serif\" font-size=\"14.00\" fill=\"#000000\">val = 0.000</text>\n",
       "<text text-anchor=\"middle\" x=\"8681.5381\" y=\"-22.8\" font-family=\"Times,serif\" font-size=\"14.00\" fill=\"#000000\">val = 0.000</text>\n",
       "<text text-anchor=\"middle\" x=\"8681.5381\" y=\"-7.8\" font-family=\"Times,serif\" font-size=\"14.00\" fill=\"#000000\">val = 0.000</text>\n",
       "</g>\n",
       "<!-- 61&#45;&gt;123 -->\n",
       "<g id=\"edge123\" class=\"edge\">\n",
       "<title>61&#45;&gt;123</title>\n",
       "<path fill=\"none\" stroke=\"#000000\" d=\"M8732.6882,-104.0372C8724.8366,-92.1351 8714.273,-76.122 8704.7844,-61.7385\"/>\n",
       "<polygon fill=\"#000000\" stroke=\"#000000\" points=\"8707.4774,-59.4646 8699.0492,-53.0446 8701.6342,-63.3192 8707.4774,-59.4646\"/>\n",
       "<text text-anchor=\"middle\" x=\"8730.0381\" y=\"-74.8\" font-family=\"Times,serif\" font-size=\"14.00\" fill=\"#000000\">No</text>\n",
       "</g>\n",
       "<!-- 124 -->\n",
       "<g id=\"node125\" class=\"node\">\n",
       "<title>124</title>\n",
       "<polygon fill=\"none\" stroke=\"#ff0000\" points=\"8824.0381,-53 8741.0381,-53 8741.0381,0 8824.0381,0 8824.0381,-53\"/>\n",
       "<text text-anchor=\"middle\" x=\"8782.5381\" y=\"-37.8\" font-family=\"Times,serif\" font-size=\"14.00\" fill=\"#000000\">val = 0.000</text>\n",
       "<text text-anchor=\"middle\" x=\"8782.5381\" y=\"-22.8\" font-family=\"Times,serif\" font-size=\"14.00\" fill=\"#000000\">val = 0.000</text>\n",
       "<text text-anchor=\"middle\" x=\"8782.5381\" y=\"-7.8\" font-family=\"Times,serif\" font-size=\"14.00\" fill=\"#000000\">val = 0.000</text>\n",
       "</g>\n",
       "<!-- 61&#45;&gt;124 -->\n",
       "<g id=\"edge124\" class=\"edge\">\n",
       "<title>61&#45;&gt;124</title>\n",
       "<path fill=\"none\" stroke=\"#000000\" d=\"M8751.8648,-103.5866C8756.491,-91.9604 8762.6245,-76.5458 8768.1905,-62.5577\"/>\n",
       "<polygon fill=\"#000000\" stroke=\"#000000\" points=\"8771.4825,-63.751 8771.9277,-53.1655 8764.9785,-61.163 8771.4825,-63.751\"/>\n",
       "<text text-anchor=\"middle\" x=\"8776.0381\" y=\"-74.8\" font-family=\"Times,serif\" font-size=\"14.00\" fill=\"#000000\">Yes</text>\n",
       "</g>\n",
       "<!-- 125 -->\n",
       "<g id=\"node126\" class=\"node\">\n",
       "<title>125</title>\n",
       "<polygon fill=\"none\" stroke=\"#ff0000\" points=\"9022.5381,-53 8934.5381,-53 8934.5381,0 9022.5381,0 9022.5381,-53\"/>\n",
       "<text text-anchor=\"middle\" x=\"8978.5381\" y=\"-37.8\" font-family=\"Times,serif\" font-size=\"14.00\" fill=\"#000000\">val = 0.006</text>\n",
       "<text text-anchor=\"middle\" x=\"8978.5381\" y=\"-22.8\" font-family=\"Times,serif\" font-size=\"14.00\" fill=\"#000000\">val = 0.006</text>\n",
       "<text text-anchor=\"middle\" x=\"8978.5381\" y=\"-7.8\" font-family=\"Times,serif\" font-size=\"14.00\" fill=\"#000000\">val = &#45;0.013</text>\n",
       "</g>\n",
       "<!-- 62&#45;&gt;125 -->\n",
       "<g id=\"edge125\" class=\"edge\">\n",
       "<title>62&#45;&gt;125</title>\n",
       "<path fill=\"none\" stroke=\"#000000\" d=\"M9021.5692,-104.0372C9015.0261,-92.2474 9006.2445,-76.4238 8998.3207,-62.146\"/>\n",
       "<polygon fill=\"#000000\" stroke=\"#000000\" points=\"9001.1825,-60.0899 8993.2696,-53.0446 8995.0619,-63.4867 9001.1825,-60.0899\"/>\n",
       "<text text-anchor=\"middle\" x=\"9021.0381\" y=\"-74.8\" font-family=\"Times,serif\" font-size=\"14.00\" fill=\"#000000\">No</text>\n",
       "</g>\n",
       "<!-- 126 -->\n",
       "<g id=\"node127\" class=\"node\">\n",
       "<title>126</title>\n",
       "<polygon fill=\"none\" stroke=\"#ff0000\" points=\"9128.5381,-53 9040.5381,-53 9040.5381,0 9128.5381,0 9128.5381,-53\"/>\n",
       "<text text-anchor=\"middle\" x=\"9084.5381\" y=\"-37.8\" font-family=\"Times,serif\" font-size=\"14.00\" fill=\"#000000\">val = &#45;0.007</text>\n",
       "<text text-anchor=\"middle\" x=\"9084.5381\" y=\"-22.8\" font-family=\"Times,serif\" font-size=\"14.00\" fill=\"#000000\">val = &#45;0.007</text>\n",
       "<text text-anchor=\"middle\" x=\"9084.5381\" y=\"-7.8\" font-family=\"Times,serif\" font-size=\"14.00\" fill=\"#000000\">val = 0.014</text>\n",
       "</g>\n",
       "<!-- 62&#45;&gt;126 -->\n",
       "<g id=\"edge126\" class=\"edge\">\n",
       "<title>62&#45;&gt;126</title>\n",
       "<path fill=\"none\" stroke=\"#000000\" d=\"M9041.507,-104.0372C9048.05,-92.2474 9056.8317,-76.4238 9064.7555,-62.146\"/>\n",
       "<polygon fill=\"#000000\" stroke=\"#000000\" points=\"9068.0142,-63.4867 9069.8065,-53.0446 9061.8936,-60.0899 9068.0142,-63.4867\"/>\n",
       "<text text-anchor=\"middle\" x=\"9070.0381\" y=\"-74.8\" font-family=\"Times,serif\" font-size=\"14.00\" fill=\"#000000\">Yes</text>\n",
       "</g>\n",
       "</g>\n",
       "</svg>\n"
      ],
      "text/plain": [
       "<graphviz.dot.Digraph at 0x7f00ed48dbd0>"
      ]
     },
     "execution_count": 55,
     "metadata": {},
     "output_type": "execute_result"
    }
   ],
   "source": [
    "model.plot_tree(tree_idx=0, pool=None)"
   ]
  },
  {
   "cell_type": "code",
   "execution_count": null,
   "metadata": {
    "id": "mcLd98rs7HwY"
   },
   "outputs": [],
   "source": []
  }
 ],
 "metadata": {
  "colab": {
   "authorship_tag": "ABX9TyPIhiczaLTWBChKK0T6hIIX",
   "collapsed_sections": [],
   "name": "catboost.ipynb",
   "provenance": []
  },
  "kernelspec": {
   "display_name": "Python 3 (ipykernel)",
   "language": "python",
   "name": "python3"
  },
  "language_info": {
   "codemirror_mode": {
    "name": "ipython",
    "version": 3
   },
   "file_extension": ".py",
   "mimetype": "text/x-python",
   "name": "python",
   "nbconvert_exporter": "python",
   "pygments_lexer": "ipython3",
   "version": "3.8.11"
  },
  "widgets": {
   "application/vnd.jupyter.widget-state+json": {
    "1c64a7b1658a45d4aa25de537aceb1c9": {
     "model_module": "catboost-widget",
     "model_module_version": "^1.0.0",
     "model_name": "CatboostWidgetModel",
     "state": {
      "_dom_classes": [],
      "_model_module": "catboost-widget",
      "_model_module_version": "^1.0.0",
      "_model_name": "CatboostWidgetModel",
      "_view_count": null,
      "_view_module": "catboost-widget",
      "_view_module_version": "^1.0.0",
      "_view_name": "CatboostWidgetView",
      "data": {
       "catboost_info": {
        "content": {
         "data": {
          "iterations": [
           {
            "iteration": 0,
            "learn": [
             1.083325828
            ],
            "passed_time": 0.01475334481,
            "remaining_time": 14.73859146
           },
           {
            "iteration": 1,
            "learn": [
             1.067952718
            ],
            "passed_time": 0.02355096908,
            "remaining_time": 11.75193357
           },
           {
            "iteration": 2,
            "learn": [
             1.057964287
            ],
            "passed_time": 0.0245579371,
            "remaining_time": 8.161421095
           },
           {
            "iteration": 3,
            "learn": [
             1.047203543
            ],
            "passed_time": 0.03385573075,
            "remaining_time": 8.430076957
           },
           {
            "iteration": 4,
            "learn": [
             1.037073455
            ],
            "passed_time": 0.04101092675,
            "remaining_time": 8.161174424
           },
           {
            "iteration": 5,
            "learn": [
             1.028405425
            ],
            "passed_time": 0.04149238241,
            "remaining_time": 6.873904686
           },
           {
            "iteration": 6,
            "learn": [
             1.015596734
            ],
            "passed_time": 0.04871401958,
            "remaining_time": 6.910431635
           },
           {
            "iteration": 7,
            "learn": [
             1.007402746
            ],
            "passed_time": 0.05569082388,
            "remaining_time": 6.905662161
           },
           {
            "iteration": 8,
            "learn": [
             1.000440415
            ],
            "passed_time": 0.05613961506,
            "remaining_time": 6.181595392
           },
           {
            "iteration": 9,
            "learn": [
             0.9906213567
            ],
            "passed_time": 0.06211444157,
            "remaining_time": 6.149329716
           },
           {
            "iteration": 10,
            "learn": [
             0.9842192223
            ],
            "passed_time": 0.07137513368,
            "remaining_time": 6.417273382
           },
           {
            "iteration": 11,
            "learn": [
             0.9754103072
            ],
            "passed_time": 0.08292643057,
            "remaining_time": 6.82760945
           },
           {
            "iteration": 12,
            "learn": [
             0.9673040684
            ],
            "passed_time": 0.08731855436,
            "remaining_time": 6.62949332
           },
           {
            "iteration": 13,
            "learn": [
             0.9524474291
            ],
            "passed_time": 0.09433130799,
            "remaining_time": 6.643619262
           },
           {
            "iteration": 14,
            "learn": [
             0.9429732857
            ],
            "passed_time": 0.1016960425,
            "remaining_time": 6.678040124
           },
           {
            "iteration": 15,
            "learn": [
             0.9339935887
            ],
            "passed_time": 0.1059454239,
            "remaining_time": 6.515643572
           },
           {
            "iteration": 16,
            "learn": [
             0.9290777915
            ],
            "passed_time": 0.107048735,
            "remaining_time": 6.189935676
           },
           {
            "iteration": 17,
            "learn": [
             0.9174013559
            ],
            "passed_time": 0.1138356135,
            "remaining_time": 6.210365139
           },
           {
            "iteration": 18,
            "learn": [
             0.9036743546
            ],
            "passed_time": 0.1212052865,
            "remaining_time": 6.258020318
           },
           {
            "iteration": 19,
            "learn": [
             0.8940392291
            ],
            "passed_time": 0.1269409362,
            "remaining_time": 6.220105875
           },
           {
            "iteration": 20,
            "learn": [
             0.8876133287
            ],
            "passed_time": 0.1328417446,
            "remaining_time": 6.192955619
           },
           {
            "iteration": 21,
            "learn": [
             0.8845295607
            ],
            "passed_time": 0.1344339169,
            "remaining_time": 5.976198671
           },
           {
            "iteration": 22,
            "learn": [
             0.8767684574
            ],
            "passed_time": 0.1411347643,
            "remaining_time": 5.995159334
           },
           {
            "iteration": 23,
            "learn": [
             0.8706780707
            ],
            "passed_time": 0.1469956753,
            "remaining_time": 5.97782413
           },
           {
            "iteration": 24,
            "learn": [
             0.8634950903
            ],
            "passed_time": 0.1534869691,
            "remaining_time": 5.985991796
           },
           {
            "iteration": 25,
            "learn": [
             0.8556674628
            ],
            "passed_time": 0.1605527704,
            "remaining_time": 6.014553785
           },
           {
            "iteration": 26,
            "learn": [
             0.8500817065
            ],
            "passed_time": 0.169680922,
            "remaining_time": 6.11479767
           },
           {
            "iteration": 27,
            "learn": [
             0.8441290708
            ],
            "passed_time": 0.177717117,
            "remaining_time": 6.169322776
           },
           {
            "iteration": 28,
            "learn": [
             0.8384685687
            ],
            "passed_time": 0.1857840311,
            "remaining_time": 6.220561869
           },
           {
            "iteration": 29,
            "learn": [
             0.8299856357
            ],
            "passed_time": 0.2010728051,
            "remaining_time": 6.501354032
           },
           {
            "iteration": 30,
            "learn": [
             0.8255113565
            ],
            "passed_time": 0.2095304893,
            "remaining_time": 6.549517554
           },
           {
            "iteration": 31,
            "learn": [
             0.8188477717
            ],
            "passed_time": 0.2152057249,
            "remaining_time": 6.509973179
           },
           {
            "iteration": 32,
            "learn": [
             0.8130429048
            ],
            "passed_time": 0.2219640115,
            "remaining_time": 6.504218156
           },
           {
            "iteration": 33,
            "learn": [
             0.8064286031
            ],
            "passed_time": 0.2286737535,
            "remaining_time": 6.497024878
           },
           {
            "iteration": 34,
            "learn": [
             0.7990548221
            ],
            "passed_time": 0.2358948025,
            "remaining_time": 6.503956697
           },
           {
            "iteration": 35,
            "learn": [
             0.7902598013
            ],
            "passed_time": 0.2521087799,
            "remaining_time": 6.750912885
           },
           {
            "iteration": 36,
            "learn": [
             0.7855449119
            ],
            "passed_time": 0.2566420648,
            "remaining_time": 6.679629957
           },
           {
            "iteration": 37,
            "learn": [
             0.7797291911
            ],
            "passed_time": 0.2632637797,
            "remaining_time": 6.664730423
           },
           {
            "iteration": 38,
            "learn": [
             0.7739109503
            ],
            "passed_time": 0.2696903136,
            "remaining_time": 6.645445933
           },
           {
            "iteration": 39,
            "learn": [
             0.7687411899
            ],
            "passed_time": 0.2758408842,
            "remaining_time": 6.620181221
           },
           {
            "iteration": 40,
            "learn": [
             0.7666964391
            ],
            "passed_time": 0.2794474689,
            "remaining_time": 6.536344456
           },
           {
            "iteration": 41,
            "learn": [
             0.7602225549
            ],
            "passed_time": 0.2906706098,
            "remaining_time": 6.630058194
           },
           {
            "iteration": 42,
            "learn": [
             0.757704517
            ],
            "passed_time": 0.2987048058,
            "remaining_time": 6.647918584
           },
           {
            "iteration": 43,
            "learn": [
             0.7516413434
            ],
            "passed_time": 0.3049150124,
            "remaining_time": 6.624971633
           },
           {
            "iteration": 44,
            "learn": [
             0.7502641691
            ],
            "passed_time": 0.3061832094,
            "remaining_time": 6.49788811
           },
           {
            "iteration": 45,
            "learn": [
             0.7491343776
            ],
            "passed_time": 0.3068591215,
            "remaining_time": 6.363991346
           },
           {
            "iteration": 46,
            "learn": [
             0.7423178834
            ],
            "passed_time": 0.3134049534,
            "remaining_time": 6.354785544
           },
           {
            "iteration": 47,
            "learn": [
             0.7351711222
            ],
            "passed_time": 0.3197459488,
            "remaining_time": 6.341627984
           },
           {
            "iteration": 48,
            "learn": [
             0.7290866891
            ],
            "passed_time": 0.3263141142,
            "remaining_time": 6.333157605
           },
           {
            "iteration": 49,
            "learn": [
             0.7225445839
            ],
            "passed_time": 0.3323260318,
            "remaining_time": 6.314194605
           },
           {
            "iteration": 50,
            "learn": [
             0.7187464547
            ],
            "passed_time": 0.3362512734,
            "remaining_time": 6.25691095
           },
           {
            "iteration": 51,
            "learn": [
             0.7102719202
            ],
            "passed_time": 0.3434940578,
            "remaining_time": 6.262160901
           },
           {
            "iteration": 52,
            "learn": [
             0.7044523331
            ],
            "passed_time": 0.3505338635,
            "remaining_time": 6.263312617
           },
           {
            "iteration": 53,
            "learn": [
             0.697219257
            ],
            "passed_time": 0.3579798258,
            "remaining_time": 6.271276207
           },
           {
            "iteration": 54,
            "learn": [
             0.6907302219
            ],
            "passed_time": 0.364770426,
            "remaining_time": 6.267419137
           },
           {
            "iteration": 55,
            "learn": [
             0.6855369027
            ],
            "passed_time": 0.3736547464,
            "remaining_time": 6.29875144
           },
           {
            "iteration": 56,
            "learn": [
             0.6796095699
            ],
            "passed_time": 0.3827440429,
            "remaining_time": 6.332063727
           },
           {
            "iteration": 57,
            "learn": [
             0.675679493
            ],
            "passed_time": 0.3888589051,
            "remaining_time": 6.315604975
           },
           {
            "iteration": 58,
            "learn": [
             0.6691936595
            ],
            "passed_time": 0.3987352924,
            "remaining_time": 6.359490002
           },
           {
            "iteration": 59,
            "learn": [
             0.6629776587
            ],
            "passed_time": 0.4050384336,
            "remaining_time": 6.345602126
           },
           {
            "iteration": 60,
            "learn": [
             0.6563847453
            ],
            "passed_time": 0.4090906396,
            "remaining_time": 6.297313288
           },
           {
            "iteration": 61,
            "learn": [
             0.6513459893
            ],
            "passed_time": 0.4162363151,
            "remaining_time": 6.297252638
           },
           {
            "iteration": 62,
            "learn": [
             0.6474962838
            ],
            "passed_time": 0.4238810832,
            "remaining_time": 6.304390079
           },
           {
            "iteration": 63,
            "learn": [
             0.6416984264
            ],
            "passed_time": 0.4306037759,
            "remaining_time": 6.297580223
           },
           {
            "iteration": 64,
            "learn": [
             0.6397220131
            ],
            "passed_time": 0.4342939519,
            "remaining_time": 6.247151462
           },
           {
            "iteration": 65,
            "learn": [
             0.6371185432
            ],
            "passed_time": 0.4417943078,
            "remaining_time": 6.25205884
           },
           {
            "iteration": 66,
            "learn": [
             0.6335596273
            ],
            "passed_time": 0.4485000303,
            "remaining_time": 6.245530273
           },
           {
            "iteration": 67,
            "learn": [
             0.6266314615
            ],
            "passed_time": 0.45537427,
            "remaining_time": 6.241306172
           },
           {
            "iteration": 68,
            "learn": [
             0.6210130067
            ],
            "passed_time": 0.4620440774,
            "remaining_time": 6.234246899
           },
           {
            "iteration": 69,
            "learn": [
             0.6179544035
            ],
            "passed_time": 0.4696138947,
            "remaining_time": 6.23915603
           },
           {
            "iteration": 70,
            "learn": [
             0.6113490953
            ],
            "passed_time": 0.4763760971,
            "remaining_time": 6.233146397
           },
           {
            "iteration": 71,
            "learn": [
             0.6062939061
            ],
            "passed_time": 0.4810542887,
            "remaining_time": 6.200255277
           },
           {
            "iteration": 72,
            "learn": [
             0.6030130434
            ],
            "passed_time": 0.4872897102,
            "remaining_time": 6.187911799
           },
           {
            "iteration": 73,
            "learn": [
             0.6001697894
            ],
            "passed_time": 0.4943527788,
            "remaining_time": 6.186090179
           },
           {
            "iteration": 74,
            "learn": [
             0.596299411
            ],
            "passed_time": 0.5009889022,
            "remaining_time": 6.178863127
           },
           {
            "iteration": 75,
            "learn": [
             0.5931585798
            ],
            "passed_time": 0.5068486238,
            "remaining_time": 6.162212215
           },
           {
            "iteration": 76,
            "learn": [
             0.5906198818
            ],
            "passed_time": 0.510457367,
            "remaining_time": 6.118859087
           },
           {
            "iteration": 77,
            "learn": [
             0.5861874394
            ],
            "passed_time": 0.5183468866,
            "remaining_time": 6.127126019
           },
           {
            "iteration": 78,
            "learn": [
             0.5823771
            ],
            "passed_time": 0.526640624,
            "remaining_time": 6.139696388
           },
           {
            "iteration": 79,
            "learn": [
             0.5789234208
            ],
            "passed_time": 0.5327180305,
            "remaining_time": 6.126257351
           },
           {
            "iteration": 80,
            "learn": [
             0.5734916219
            ],
            "passed_time": 0.539236519,
            "remaining_time": 6.118004457
           },
           {
            "iteration": 81,
            "learn": [
             0.5689150204
            ],
            "passed_time": 0.5458036818,
            "remaining_time": 6.110338779
           },
           {
            "iteration": 82,
            "learn": [
             0.5620814283
            ],
            "passed_time": 0.5530140399,
            "remaining_time": 6.109805718
           },
           {
            "iteration": 83,
            "learn": [
             0.557115425
            ],
            "passed_time": 0.5605030231,
            "remaining_time": 6.112152013
           },
           {
            "iteration": 84,
            "learn": [
             0.5514124475
            ],
            "passed_time": 0.5680507627,
            "remaining_time": 6.114899387
           },
           {
            "iteration": 85,
            "learn": [
             0.5449388459
            ],
            "passed_time": 0.5749608813,
            "remaining_time": 6.110630762
           },
           {
            "iteration": 86,
            "learn": [
             0.5432503685
            ],
            "passed_time": 0.5821335124,
            "remaining_time": 6.109056286
           },
           {
            "iteration": 87,
            "learn": [
             0.5407837195
            ],
            "passed_time": 0.5891172978,
            "remaining_time": 6.10539745
           },
           {
            "iteration": 88,
            "learn": [
             0.5351693258
            ],
            "passed_time": 0.5992714893,
            "remaining_time": 6.134116031
           },
           {
            "iteration": 89,
            "learn": [
             0.5302507918
            ],
            "passed_time": 0.6068484635,
            "remaining_time": 6.135912243
           },
           {
            "iteration": 90,
            "learn": [
             0.5261382551
            ],
            "passed_time": 0.6129033352,
            "remaining_time": 6.12229815
           },
           {
            "iteration": 91,
            "learn": [
             0.5235243614
            ],
            "passed_time": 0.619987078,
            "remaining_time": 6.1190029
           },
           {
            "iteration": 92,
            "learn": [
             0.5197209746
            ],
            "passed_time": 0.6266229359,
            "remaining_time": 6.111258095
           },
           {
            "iteration": 93,
            "learn": [
             0.5148335063
            ],
            "passed_time": 0.633125086,
            "remaining_time": 6.10224817
           },
           {
            "iteration": 94,
            "learn": [
             0.5103487227
            ],
            "passed_time": 0.6407358761,
            "remaining_time": 6.103852293
           },
           {
            "iteration": 95,
            "learn": [
             0.505054024
            ],
            "passed_time": 0.6524095467,
            "remaining_time": 6.143523231
           },
           {
            "iteration": 96,
            "learn": [
             0.4997132127
            ],
            "passed_time": 0.6650841174,
            "remaining_time": 6.191453175
           },
           {
            "iteration": 97,
            "learn": [
             0.4965220738
            ],
            "passed_time": 0.6737967213,
            "remaining_time": 6.201680027
           },
           {
            "iteration": 98,
            "learn": [
             0.492637153
            ],
            "passed_time": 0.6816631211,
            "remaining_time": 6.20382295
           },
           {
            "iteration": 99,
            "learn": [
             0.4903611511
            ],
            "passed_time": 0.6895510612,
            "remaining_time": 6.205959551
           },
           {
            "iteration": 100,
            "learn": [
             0.4884101127
            ],
            "passed_time": 0.6958728307,
            "remaining_time": 6.193957176
           },
           {
            "iteration": 101,
            "learn": [
             0.485512127
            ],
            "passed_time": 0.7031661633,
            "remaining_time": 6.190619752
           },
           {
            "iteration": 102,
            "learn": [
             0.4824531501
            ],
            "passed_time": 0.7096449727,
            "remaining_time": 6.180112044
           },
           {
            "iteration": 103,
            "learn": [
             0.4780792738
            ],
            "passed_time": 0.7158965611,
            "remaining_time": 6.167724219
           },
           {
            "iteration": 104,
            "learn": [
             0.4742050769
            ],
            "passed_time": 0.7246040916,
            "remaining_time": 6.176387257
           },
           {
            "iteration": 105,
            "learn": [
             0.4707127061
            ],
            "passed_time": 0.7342959939,
            "remaining_time": 6.193024703
           },
           {
            "iteration": 106,
            "learn": [
             0.467140588
            ],
            "passed_time": 0.7413362595,
            "remaining_time": 6.187039997
           },
           {
            "iteration": 107,
            "learn": [
             0.4643535359
            ],
            "passed_time": 0.7468773191,
            "remaining_time": 6.168653414
           },
           {
            "iteration": 108,
            "learn": [
             0.4607872589
            ],
            "passed_time": 0.7556686232,
            "remaining_time": 6.177071039
           },
           {
            "iteration": 109,
            "learn": [
             0.4573370255
            ],
            "passed_time": 0.7646059486,
            "remaining_time": 6.186357221
           },
           {
            "iteration": 110,
            "learn": [
             0.4540436493
            ],
            "passed_time": 0.7711017482,
            "remaining_time": 6.175760848
           },
           {
            "iteration": 111,
            "learn": [
             0.4507987092
            ],
            "passed_time": 0.7783326222,
            "remaining_time": 6.17106579
           },
           {
            "iteration": 112,
            "learn": [
             0.4473874853
            ],
            "passed_time": 0.7842551801,
            "remaining_time": 6.156056148
           },
           {
            "iteration": 113,
            "learn": [
             0.4445169938
            ],
            "passed_time": 0.7913216573,
            "remaining_time": 6.150096389
           },
           {
            "iteration": 114,
            "learn": [
             0.4412776862
            ],
            "passed_time": 0.8033134539,
            "remaining_time": 6.182020928
           },
           {
            "iteration": 115,
            "learn": [
             0.4359603404
            ],
            "passed_time": 0.8102328394,
            "remaining_time": 6.174533017
           },
           {
            "iteration": 116,
            "learn": [
             0.4324387358
            ],
            "passed_time": 0.8166384687,
            "remaining_time": 6.163177503
           },
           {
            "iteration": 117,
            "learn": [
             0.4294256188
            ],
            "passed_time": 0.823588226,
            "remaining_time": 6.155973012
           },
           {
            "iteration": 118,
            "learn": [
             0.4264384727
            ],
            "passed_time": 0.8310171946,
            "remaining_time": 6.152320575
           },
           {
            "iteration": 119,
            "learn": [
             0.4233296379
            ],
            "passed_time": 0.8378820706,
            "remaining_time": 6.144468518
           },
           {
            "iteration": 120,
            "learn": [
             0.4214908654
            ],
            "passed_time": 0.844569763,
            "remaining_time": 6.135345634
           },
           {
            "iteration": 121,
            "learn": [
             0.4198667071
            ],
            "passed_time": 0.8511533873,
            "remaining_time": 6.125513722
           },
           {
            "iteration": 122,
            "learn": [
             0.416678188
            ],
            "passed_time": 0.858278251,
            "remaining_time": 6.119593709
           },
           {
            "iteration": 123,
            "learn": [
             0.4129938685
            ],
            "passed_time": 0.8654359501,
            "remaining_time": 6.113886228
           },
           {
            "iteration": 124,
            "learn": [
             0.4109094535
            ],
            "passed_time": 0.8718837613,
            "remaining_time": 6.103186329
           },
           {
            "iteration": 125,
            "learn": [
             0.4077027996
            ],
            "passed_time": 0.8787754357,
            "remaining_time": 6.095632784
           },
           {
            "iteration": 126,
            "learn": [
             0.4038646899
            ],
            "passed_time": 0.8853344043,
            "remaining_time": 6.085802637
           },
           {
            "iteration": 127,
            "learn": [
             0.4014501298
            ],
            "passed_time": 0.8920726204,
            "remaining_time": 6.077244726
           },
           {
            "iteration": 128,
            "learn": [
             0.3992896231
            ],
            "passed_time": 0.898021628,
            "remaining_time": 6.063386341
           },
           {
            "iteration": 129,
            "learn": [
             0.3972386956
            ],
            "passed_time": 0.9050983648,
            "remaining_time": 6.057196749
           },
           {
            "iteration": 130,
            "learn": [
             0.394285462
            ],
            "passed_time": 0.9114647418,
            "remaining_time": 6.046281379
           },
           {
            "iteration": 131,
            "learn": [
             0.3920932522
            ],
            "passed_time": 0.9188365115,
            "remaining_time": 6.042046151
           },
           {
            "iteration": 132,
            "learn": [
             0.3901567027
            ],
            "passed_time": 0.9250198834,
            "remaining_time": 6.030016834
           },
           {
            "iteration": 133,
            "learn": [
             0.3870838899
            ],
            "passed_time": 0.9323392394,
            "remaining_time": 6.025416279
           },
           {
            "iteration": 134,
            "learn": [
             0.3848927924
            ],
            "passed_time": 0.9393479809,
            "remaining_time": 6.018785211
           },
           {
            "iteration": 135,
            "learn": [
             0.3826010651
            ],
            "passed_time": 0.9465101634,
            "remaining_time": 6.013123391
           },
           {
            "iteration": 136,
            "learn": [
             0.3804563647
            ],
            "passed_time": 0.9534748583,
            "remaining_time": 6.00619564
           },
           {
            "iteration": 137,
            "learn": [
             0.3776593984
            ],
            "passed_time": 0.9760288793,
            "remaining_time": 6.096644159
           },
           {
            "iteration": 138,
            "learn": [
             0.3755837523
            ],
            "passed_time": 0.9854410053,
            "remaining_time": 6.10406263
           },
           {
            "iteration": 139,
            "learn": [
             0.3737843834
            ],
            "passed_time": 0.9921918604,
            "remaining_time": 6.094892857
           },
           {
            "iteration": 140,
            "learn": [
             0.3716446448
            ],
            "passed_time": 1.004013567,
            "remaining_time": 6.11665003
           },
           {
            "iteration": 141,
            "learn": [
             0.3686234611
            ],
            "passed_time": 1.011743824,
            "remaining_time": 6.113212682
           },
           {
            "iteration": 142,
            "learn": [
             0.367138109
            ],
            "passed_time": 1.018604434,
            "remaining_time": 6.104503497
           },
           {
            "iteration": 143,
            "learn": [
             0.364400019
            ],
            "passed_time": 1.02586953,
            "remaining_time": 6.098224428
           },
           {
            "iteration": 144,
            "learn": [
             0.3619509304
            ],
            "passed_time": 1.03414612,
            "remaining_time": 6.097896088
           },
           {
            "iteration": 145,
            "learn": [
             0.3590593324
            ],
            "passed_time": 1.041226007,
            "remaining_time": 6.090458971
           },
           {
            "iteration": 146,
            "learn": [
             0.356517116
            ],
            "passed_time": 1.048538861,
            "remaining_time": 6.08437856
           },
           {
            "iteration": 147,
            "learn": [
             0.3539423124
            ],
            "passed_time": 1.054582244,
            "remaining_time": 6.070973458
           },
           {
            "iteration": 148,
            "learn": [
             0.351741938
            ],
            "passed_time": 1.062780429,
            "remaining_time": 6.069974129
           },
           {
            "iteration": 149,
            "learn": [
             0.3488573112
            ],
            "passed_time": 1.069405758,
            "remaining_time": 6.059965964
           },
           {
            "iteration": 150,
            "learn": [
             0.3468358058
            ],
            "passed_time": 1.075915909,
            "remaining_time": 6.049355009
           },
           {
            "iteration": 151,
            "learn": [
             0.3447386012
            ],
            "passed_time": 1.083704026,
            "remaining_time": 6.045927723
           },
           {
            "iteration": 152,
            "learn": [
             0.342615145
            ],
            "passed_time": 1.09053071,
            "remaining_time": 6.037120989
           },
           {
            "iteration": 153,
            "learn": [
             0.3409088671
            ],
            "passed_time": 1.097521092,
            "remaining_time": 6.029239247
           },
           {
            "iteration": 154,
            "learn": [
             0.338375723
            ],
            "passed_time": 1.104195307,
            "remaining_time": 6.019645382
           },
           {
            "iteration": 155,
            "learn": [
             0.3359291095
            ],
            "passed_time": 1.111511609,
            "remaining_time": 6.013562807
           },
           {
            "iteration": 156,
            "learn": [
             0.333574214
            ],
            "passed_time": 1.118617036,
            "remaining_time": 6.006332238
           },
           {
            "iteration": 157,
            "learn": [
             0.3311287332
            ],
            "passed_time": 1.12443002,
            "remaining_time": 5.992215675
           },
           {
            "iteration": 158,
            "learn": [
             0.3285772267
            ],
            "passed_time": 1.132970755,
            "remaining_time": 5.992631479
           },
           {
            "iteration": 159,
            "learn": [
             0.3268315253
            ],
            "passed_time": 1.139182052,
            "remaining_time": 5.980705772
           },
           {
            "iteration": 160,
            "learn": [
             0.3250566023
            ],
            "passed_time": 1.14684557,
            "remaining_time": 5.976418838
           },
           {
            "iteration": 161,
            "learn": [
             0.322847715
            ],
            "passed_time": 1.153879838,
            "remaining_time": 5.96883521
           },
           {
            "iteration": 162,
            "learn": [
             0.3214722679
            ],
            "passed_time": 1.160446977,
            "remaining_time": 5.958859632
           },
           {
            "iteration": 163,
            "learn": [
             0.3194804823
            ],
            "passed_time": 1.171262832,
            "remaining_time": 5.970583707
           },
           {
            "iteration": 164,
            "learn": [
             0.3177529876
            ],
            "passed_time": 1.178337895,
            "remaining_time": 5.963103891
           },
           {
            "iteration": 165,
            "learn": [
             0.3157639523
            ],
            "passed_time": 1.184621352,
            "remaining_time": 5.951651854
           },
           {
            "iteration": 166,
            "learn": [
             0.3141515533
            ],
            "passed_time": 1.190816217,
            "remaining_time": 5.939819812
           },
           {
            "iteration": 167,
            "learn": [
             0.3124692518
            ],
            "passed_time": 1.199805638,
            "remaining_time": 5.941894591
           },
           {
            "iteration": 168,
            "learn": [
             0.3109951135
            ],
            "passed_time": 1.209357295,
            "remaining_time": 5.946603031
           },
           {
            "iteration": 169,
            "learn": [
             0.3091400299
            ],
            "passed_time": 1.216581313,
            "remaining_time": 5.93977935
           },
           {
            "iteration": 170,
            "learn": [
             0.307518419
            ],
            "passed_time": 1.22252036,
            "remaining_time": 5.926721512
           },
           {
            "iteration": 171,
            "learn": [
             0.3056679645
            ],
            "passed_time": 1.229615251,
            "remaining_time": 5.919310628
           },
           {
            "iteration": 172,
            "learn": [
             0.3036767284
            ],
            "passed_time": 1.236411176,
            "remaining_time": 5.910474233
           },
           {
            "iteration": 173,
            "learn": [
             0.3021039267
            ],
            "passed_time": 1.243657602,
            "remaining_time": 5.90379988
           },
           {
            "iteration": 174,
            "learn": [
             0.3002449259
            ],
            "passed_time": 1.251623971,
            "remaining_time": 5.900513007
           },
           {
            "iteration": 175,
            "learn": [
             0.2987957074
            ],
            "passed_time": 1.268577696,
            "remaining_time": 5.939250121
           },
           {
            "iteration": 176,
            "learn": [
             0.296989052
            ],
            "passed_time": 1.27446596,
            "remaining_time": 5.925906696
           },
           {
            "iteration": 177,
            "learn": [
             0.2952963361
            ],
            "passed_time": 1.281538838,
            "remaining_time": 5.918117557
           },
           {
            "iteration": 178,
            "learn": [
             0.2936151234
            ],
            "passed_time": 1.292232604,
            "remaining_time": 5.926943956
           },
           {
            "iteration": 179,
            "learn": [
             0.2918561734
            ],
            "passed_time": 1.301579653,
            "remaining_time": 5.929418419
           },
           {
            "iteration": 180,
            "learn": [
             0.2901908686
            ],
            "passed_time": 1.309833839,
            "remaining_time": 5.926817205
           },
           {
            "iteration": 181,
            "learn": [
             0.2884945004
            ],
            "passed_time": 1.317247088,
            "remaining_time": 5.920374273
           },
           {
            "iteration": 182,
            "learn": [
             0.2873776144
            ],
            "passed_time": 1.323697017,
            "remaining_time": 5.909620015
           },
           {
            "iteration": 183,
            "learn": [
             0.2853082571
            ],
            "passed_time": 1.331267436,
            "remaining_time": 5.903881673
           },
           {
            "iteration": 184,
            "learn": [
             0.284004189
            ],
            "passed_time": 1.338299467,
            "remaining_time": 5.895751704
           },
           {
            "iteration": 185,
            "learn": [
             0.2823354603
            ],
            "passed_time": 1.348162567,
            "remaining_time": 5.900023278
           },
           {
            "iteration": 186,
            "learn": [
             0.2810835636
            ],
            "passed_time": 1.355573262,
            "remaining_time": 5.893481617
           },
           {
            "iteration": 187,
            "learn": [
             0.2794535876
            ],
            "passed_time": 1.362731331,
            "remaining_time": 5.885839581
           },
           {
            "iteration": 188,
            "learn": [
             0.2784236791
            ],
            "passed_time": 1.369946715,
            "remaining_time": 5.878448604
           },
           {
            "iteration": 189,
            "learn": [
             0.2764294611
            ],
            "passed_time": 1.376529382,
            "remaining_time": 5.868362102
           },
           {
            "iteration": 190,
            "learn": [
             0.2744014808
            ],
            "passed_time": 1.38349021,
            "remaining_time": 5.859914031
           },
           {
            "iteration": 191,
            "learn": [
             0.2732781692
            ],
            "passed_time": 1.392407831,
            "remaining_time": 5.859716288
           },
           {
            "iteration": 192,
            "learn": [
             0.2718465521
            ],
            "passed_time": 1.405215289,
            "remaining_time": 5.875692944
           },
           {
            "iteration": 193,
            "learn": [
             0.270716333
            ],
            "passed_time": 1.411821979,
            "remaining_time": 5.865610904
           },
           {
            "iteration": 194,
            "learn": [
             0.2688227923
            ],
            "passed_time": 1.419444799,
            "remaining_time": 5.859759297
           },
           {
            "iteration": 195,
            "learn": [
             0.2679058536
            ],
            "passed_time": 1.427059694,
            "remaining_time": 5.853857114
           },
           {
            "iteration": 196,
            "learn": [
             0.2662930711
            ],
            "passed_time": 1.433534323,
            "remaining_time": 5.843289654
           },
           {
            "iteration": 197,
            "learn": [
             0.2646931596
            ],
            "passed_time": 1.441411035,
            "remaining_time": 5.838442677
           },
           {
            "iteration": 198,
            "learn": [
             0.2634465815
            ],
            "passed_time": 1.448017701,
            "remaining_time": 5.828453157
           },
           {
            "iteration": 199,
            "learn": [
             0.2623146265
            ],
            "passed_time": 1.455578719,
            "remaining_time": 5.822314875
           },
           {
            "iteration": 200,
            "learn": [
             0.2603870994
            ],
            "passed_time": 1.462534373,
            "remaining_time": 5.813756038
           },
           {
            "iteration": 201,
            "learn": [
             0.2586375586
            ],
            "passed_time": 1.470521368,
            "remaining_time": 5.809287386
           },
           {
            "iteration": 202,
            "learn": [
             0.2563749706
            ],
            "passed_time": 1.477554283,
            "remaining_time": 5.801038242
           },
           {
            "iteration": 203,
            "learn": [
             0.2551583446
            ],
            "passed_time": 1.48437872,
            "remaining_time": 5.791987556
           },
           {
            "iteration": 204,
            "learn": [
             0.2535726352
            ],
            "passed_time": 1.491445068,
            "remaining_time": 5.783896729
           },
           {
            "iteration": 205,
            "learn": [
             0.2523821846
            ],
            "passed_time": 1.498155736,
            "remaining_time": 5.774444925
           },
           {
            "iteration": 206,
            "learn": [
             0.2511803169
            ],
            "passed_time": 1.505329082,
            "remaining_time": 5.766792088
           },
           {
            "iteration": 207,
            "learn": [
             0.2497181385
            ],
            "passed_time": 1.512314461,
            "remaining_time": 5.758428141
           },
           {
            "iteration": 208,
            "learn": [
             0.2485882522
            ],
            "passed_time": 1.519672035,
            "remaining_time": 5.751486026
           },
           {
            "iteration": 209,
            "learn": [
             0.2473543415
            ],
            "passed_time": 1.533768256,
            "remaining_time": 5.769890105
           },
           {
            "iteration": 210,
            "learn": [
             0.2459162411
            ],
            "passed_time": 1.541820075,
            "remaining_time": 5.765384072
           },
           {
            "iteration": 211,
            "learn": [
             0.2451583913
            ],
            "passed_time": 1.549556153,
            "remaining_time": 5.759670983
           },
           {
            "iteration": 212,
            "learn": [
             0.2437391413
            ],
            "passed_time": 1.556975339,
            "remaining_time": 5.752768035
           },
           {
            "iteration": 213,
            "learn": [
             0.2427189264
            ],
            "passed_time": 1.564204005,
            "remaining_time": 5.745160504
           },
           {
            "iteration": 214,
            "learn": [
             0.2414617556
            ],
            "passed_time": 1.571152959,
            "remaining_time": 5.736535221
           },
           {
            "iteration": 215,
            "learn": [
             0.2404182375
            ],
            "passed_time": 1.578638238,
            "remaining_time": 5.729872124
           },
           {
            "iteration": 216,
            "learn": [
             0.2397124267
            ],
            "passed_time": 1.584520456,
            "remaining_time": 5.717417128
           },
           {
            "iteration": 217,
            "learn": [
             0.2387359142
            ],
            "passed_time": 1.591553101,
            "remaining_time": 5.709149198
           },
           {
            "iteration": 218,
            "learn": [
             0.2376221512
            ],
            "passed_time": 1.598441964,
            "remaining_time": 5.700379789
           },
           {
            "iteration": 219,
            "learn": [
             0.2362604668
            ],
            "passed_time": 1.60891512,
            "remaining_time": 5.704335425
           },
           {
            "iteration": 220,
            "learn": [
             0.2351918942
            ],
            "passed_time": 1.616532225,
            "remaining_time": 5.698093227
           },
           {
            "iteration": 221,
            "learn": [
             0.2335763687
            ],
            "passed_time": 1.623737563,
            "remaining_time": 5.690395602
           },
           {
            "iteration": 222,
            "learn": [
             0.2324419495
            ],
            "passed_time": 1.630945232,
            "remaining_time": 5.682710518
           },
           {
            "iteration": 223,
            "learn": [
             0.2309372929
            ],
            "passed_time": 1.638153683,
            "remaining_time": 5.675032401
           },
           {
            "iteration": 224,
            "learn": [
             0.2297701711
            ],
            "passed_time": 1.645407188,
            "remaining_time": 5.667513648
           },
           {
            "iteration": 225,
            "learn": [
             0.2288079482
            ],
            "passed_time": 1.652948992,
            "remaining_time": 5.6609846
           },
           {
            "iteration": 226,
            "learn": [
             0.2278692312
            ],
            "passed_time": 1.659967097,
            "remaining_time": 5.652663286
           },
           {
            "iteration": 227,
            "learn": [
             0.2270751831
            ],
            "passed_time": 1.665886547,
            "remaining_time": 5.640633396
           },
           {
            "iteration": 228,
            "learn": [
             0.225768977
            ],
            "passed_time": 1.673136195,
            "remaining_time": 5.633135398
           },
           {
            "iteration": 229,
            "learn": [
             0.2246547933
            ],
            "passed_time": 1.680430938,
            "remaining_time": 5.625790531
           },
           {
            "iteration": 230,
            "learn": [
             0.2234615998
            ],
            "passed_time": 1.690855662,
            "remaining_time": 5.628865819
           },
           {
            "iteration": 231,
            "learn": [
             0.2228203453
            ],
            "passed_time": 1.697877111,
            "remaining_time": 5.620558711
           },
           {
            "iteration": 232,
            "learn": [
             0.2217839051
            ],
            "passed_time": 1.704641095,
            "remaining_time": 5.611415106
           },
           {
            "iteration": 233,
            "learn": [
             0.2205298438
            ],
            "passed_time": 1.711247459,
            "remaining_time": 5.601775872
           },
           {
            "iteration": 234,
            "learn": [
             0.21942685
            ],
            "passed_time": 1.718807358,
            "remaining_time": 5.595266505
           },
           {
            "iteration": 235,
            "learn": [
             0.2184630139
            ],
            "passed_time": 1.725508635,
            "remaining_time": 5.585968632
           },
           {
            "iteration": 236,
            "learn": [
             0.2171691011
            ],
            "passed_time": 1.731500639,
            "remaining_time": 5.574409229
           },
           {
            "iteration": 237,
            "learn": [
             0.2159717752
            ],
            "passed_time": 1.738543299,
            "remaining_time": 5.566260478
           },
           {
            "iteration": 238,
            "learn": [
             0.2149269671
            ],
            "passed_time": 1.74622169,
            "remaining_time": 5.560145214
           },
           {
            "iteration": 239,
            "learn": [
             0.2139410872
            ],
            "passed_time": 1.753536298,
            "remaining_time": 5.552864943
           },
           {
            "iteration": 240,
            "learn": [
             0.2127570685
            ],
            "passed_time": 1.76131584,
            "remaining_time": 5.547048643
           },
           {
            "iteration": 241,
            "learn": [
             0.2113841372
            ],
            "passed_time": 1.767154855,
            "remaining_time": 5.535137934
           },
           {
            "iteration": 242,
            "learn": [
             0.2105579714
            ],
            "passed_time": 1.773102423,
            "remaining_time": 5.523615368
           },
           {
            "iteration": 243,
            "learn": [
             0.2095271227
            ],
            "passed_time": 1.780422558,
            "remaining_time": 5.516391206
           },
           {
            "iteration": 244,
            "learn": [
             0.2085381035
            ],
            "passed_time": 1.787508588,
            "remaining_time": 5.508444832
           },
           {
            "iteration": 245,
            "learn": [
             0.2072799427
            ],
            "passed_time": 1.794737433,
            "remaining_time": 5.500943189
           },
           {
            "iteration": 246,
            "learn": [
             0.2065438072
            ],
            "passed_time": 1.802820361,
            "remaining_time": 5.496047496
           },
           {
            "iteration": 247,
            "learn": [
             0.2053544378
            ],
            "passed_time": 1.811957099,
            "remaining_time": 5.494321526
           },
           {
            "iteration": 248,
            "learn": [
             0.2043470462
            ],
            "passed_time": 1.822057504,
            "remaining_time": 5.495442513
           },
           {
            "iteration": 249,
            "learn": [
             0.2033400093
            ],
            "passed_time": 1.830551055,
            "remaining_time": 5.491653165
           },
           {
            "iteration": 250,
            "learn": [
             0.2028564896
            ],
            "passed_time": 1.837043139,
            "remaining_time": 5.481853828
           },
           {
            "iteration": 251,
            "learn": [
             0.2018894691
            ],
            "passed_time": 1.844317478,
            "remaining_time": 5.474402673
           },
           {
            "iteration": 252,
            "learn": [
             0.2010700398
            ],
            "passed_time": 1.852154852,
            "remaining_time": 5.468615315
           },
           {
            "iteration": 253,
            "learn": [
             0.1999652038
            ],
            "passed_time": 1.859792206,
            "remaining_time": 5.462224354
           },
           {
            "iteration": 254,
            "learn": [
             0.1992960306
            ],
            "passed_time": 1.867155627,
            "remaining_time": 5.455023303
           },
           {
            "iteration": 255,
            "learn": [
             0.198033597
            ],
            "passed_time": 1.874527537,
            "remaining_time": 5.447845654
           },
           {
            "iteration": 256,
            "learn": [
             0.1974038785
            ],
            "passed_time": 1.881881915,
            "remaining_time": 5.44061581
           },
           {
            "iteration": 257,
            "learn": [
             0.1962466072
            ],
            "passed_time": 1.888772679,
            "remaining_time": 5.43205166
           },
           {
            "iteration": 258,
            "learn": [
             0.1950200538
            ],
            "passed_time": 1.895899321,
            "remaining_time": 5.424175278
           },
           {
            "iteration": 259,
            "learn": [
             0.1939641121
            ],
            "passed_time": 1.901738096,
            "remaining_time": 5.412639196
           },
           {
            "iteration": 260,
            "learn": [
             0.1929791114
            ],
            "passed_time": 1.908531323,
            "remaining_time": 5.403849225
           },
           {
            "iteration": 261,
            "learn": [
             0.1919985176
            ],
            "passed_time": 1.917852112,
            "remaining_time": 5.402194116
           },
           {
            "iteration": 262,
            "learn": [
             0.1913061613
            ],
            "passed_time": 1.924109926,
            "remaining_time": 5.391897397
           },
           {
            "iteration": 263,
            "learn": [
             0.1905620534
            ],
            "passed_time": 1.931358816,
            "remaining_time": 5.384394274
           },
           {
            "iteration": 264,
            "learn": [
             0.1899631106
            ],
            "passed_time": 1.9491959,
            "remaining_time": 5.406260327
           },
           {
            "iteration": 265,
            "learn": [
             0.1894192378
            ],
            "passed_time": 1.962139691,
            "remaining_time": 5.414325313
           },
           {
            "iteration": 266,
            "learn": [
             0.1890340606
            ],
            "passed_time": 1.968822223,
            "remaining_time": 5.405043782
           },
           {
            "iteration": 267,
            "learn": [
             0.1880654085
            ],
            "passed_time": 1.975184716,
            "remaining_time": 5.394907509
           },
           {
            "iteration": 268,
            "learn": [
             0.1873398951
            ],
            "passed_time": 1.98164275,
            "remaining_time": 5.385058924
           },
           {
            "iteration": 269,
            "learn": [
             0.1868063636
            ],
            "passed_time": 1.98917891,
            "remaining_time": 5.378150386
           },
           {
            "iteration": 270,
            "learn": [
             0.1858551851
            ],
            "passed_time": 1.998670925,
            "remaining_time": 5.376498539
           },
           {
            "iteration": 271,
            "learn": [
             0.1853539047
            ],
            "passed_time": 2.012920393,
            "remaining_time": 5.38752223
           },
           {
            "iteration": 272,
            "learn": [
             0.1844147212
            ],
            "passed_time": 2.020434407,
            "remaining_time": 5.380424226
           },
           {
            "iteration": 273,
            "learn": [
             0.1836951038
            ],
            "passed_time": 2.027179606,
            "remaining_time": 5.37128611
           },
           {
            "iteration": 274,
            "learn": [
             0.1828008288
            ],
            "passed_time": 2.033893952,
            "remaining_time": 5.362084055
           },
           {
            "iteration": 275,
            "learn": [
             0.181977947
            ],
            "passed_time": 2.039963465,
            "remaining_time": 5.351208511
           },
           {
            "iteration": 276,
            "learn": [
             0.1813460091
            ],
            "passed_time": 2.0473305,
            "remaining_time": 5.343754337
           },
           {
            "iteration": 277,
            "learn": [
             0.1801902574
            ],
            "passed_time": 2.054321671,
            "remaining_time": 5.335324628
           },
           {
            "iteration": 278,
            "learn": [
             0.1795386041
            ],
            "passed_time": 2.060997187,
            "remaining_time": 5.326089506
           },
           {
            "iteration": 279,
            "learn": [
             0.1786378535
            ],
            "passed_time": 2.067967359,
            "remaining_time": 5.317630351
           },
           {
            "iteration": 280,
            "learn": [
             0.1779711918
            ],
            "passed_time": 2.075363998,
            "remaining_time": 5.310273006
           },
           {
            "iteration": 281,
            "learn": [
             0.1771518699
            ],
            "passed_time": 2.082108363,
            "remaining_time": 5.301254627
           },
           {
            "iteration": 282,
            "learn": [
             0.1761186141
            ],
            "passed_time": 2.091139347,
            "remaining_time": 5.298045625
           },
           {
            "iteration": 283,
            "learn": [
             0.1751991465
            ],
            "passed_time": 2.099797711,
            "remaining_time": 5.293856201
           },
           {
            "iteration": 284,
            "learn": [
             0.1746339762
            ],
            "passed_time": 2.107330493,
            "remaining_time": 5.286811588
           },
           {
            "iteration": 285,
            "learn": [
             0.1739662177
            ],
            "passed_time": 2.115217815,
            "remaining_time": 5.280648671
           },
           {
            "iteration": 286,
            "learn": [
             0.1732597379
            ],
            "passed_time": 2.121958769,
            "remaining_time": 5.271625792
           },
           {
            "iteration": 287,
            "learn": [
             0.17260397
            ],
            "passed_time": 2.128589407,
            "remaining_time": 5.262346035
           },
           {
            "iteration": 288,
            "learn": [
             0.1718226014
            ],
            "passed_time": 2.134805532,
            "remaining_time": 5.252064822
           },
           {
            "iteration": 289,
            "learn": [
             0.1712085691
            ],
            "passed_time": 2.141320536,
            "remaining_time": 5.242543382
           },
           {
            "iteration": 290,
            "learn": [
             0.1705086896
            ],
            "passed_time": 2.149474539,
            "remaining_time": 5.237035904
           },
           {
            "iteration": 291,
            "learn": [
             0.1701391022
            ],
            "passed_time": 2.156700741,
            "remaining_time": 5.229260702
           },
           {
            "iteration": 292,
            "learn": [
             0.1697675169
            ],
            "passed_time": 2.164633624,
            "remaining_time": 5.223194444
           },
           {
            "iteration": 293,
            "learn": [
             0.1691531269
            ],
            "passed_time": 2.176759174,
            "remaining_time": 5.227183594
           },
           {
            "iteration": 294,
            "learn": [
             0.1679995336
            ],
            "passed_time": 2.184221206,
            "remaining_time": 5.219918476
           },
           {
            "iteration": 295,
            "learn": [
             0.1674163445
            ],
            "passed_time": 2.191119322,
            "remaining_time": 5.211310819
           },
           {
            "iteration": 296,
            "learn": [
             0.1671102462
            ],
            "passed_time": 2.198578927,
            "remaining_time": 5.204043724
           },
           {
            "iteration": 297,
            "learn": [
             0.1665521283
            ],
            "passed_time": 2.207990658,
            "remaining_time": 5.201373967
           },
           {
            "iteration": 298,
            "learn": [
             0.1659266355
            ],
            "passed_time": 2.217533917,
            "remaining_time": 5.198967478
           },
           {
            "iteration": 299,
            "learn": [
             0.1652690058
            ],
            "passed_time": 2.225749473,
            "remaining_time": 5.193415437
           },
           {
            "iteration": 300,
            "learn": [
             0.1648718309
            ],
            "passed_time": 2.236685746,
            "remaining_time": 5.194163909
           },
           {
            "iteration": 301,
            "learn": [
             0.1643624136
            ],
            "passed_time": 2.247324563,
            "remaining_time": 5.194147501
           },
           {
            "iteration": 302,
            "learn": [
             0.1636838332
            ],
            "passed_time": 2.254030789,
            "remaining_time": 5.185014718
           },
           {
            "iteration": 303,
            "learn": [
             0.163203666
            ],
            "passed_time": 2.260792129,
            "remaining_time": 5.176024085
           },
           {
            "iteration": 304,
            "learn": [
             0.1626994966
            ],
            "passed_time": 2.267390553,
            "remaining_time": 5.166676833
           },
           {
            "iteration": 305,
            "learn": [
             0.1620153558
            ],
            "passed_time": 2.274047521,
            "remaining_time": 5.157480326
           },
           {
            "iteration": 306,
            "learn": [
             0.1612593917
            ],
            "passed_time": 2.281652139,
            "remaining_time": 5.150439519
           },
           {
            "iteration": 307,
            "learn": [
             0.1603984138
            ],
            "passed_time": 2.287721395,
            "remaining_time": 5.139945472
           },
           {
            "iteration": 308,
            "learn": [
             0.1597892378
            ],
            "passed_time": 2.294127769,
            "remaining_time": 5.130233942
           },
           {
            "iteration": 309,
            "learn": [
             0.1595443385
            ],
            "passed_time": 2.301176059,
            "remaining_time": 5.121972519
           },
           {
            "iteration": 310,
            "learn": [
             0.158817448
            ],
            "passed_time": 2.307867582,
            "remaining_time": 5.112928501
           },
           {
            "iteration": 311,
            "learn": [
             0.1578982284
            ],
            "passed_time": 2.314622664,
            "remaining_time": 5.104039721
           },
           {
            "iteration": 312,
            "learn": [
             0.1572679993
            ],
            "passed_time": 2.321653657,
            "remaining_time": 5.095770167
           },
           {
            "iteration": 313,
            "learn": [
             0.1568991657
            ],
            "passed_time": 2.328915804,
            "remaining_time": 5.088013508
           },
           {
            "iteration": 314,
            "learn": [
             0.1562292039
            ],
            "passed_time": 2.335896503,
            "remaining_time": 5.07964795
           },
           {
            "iteration": 315,
            "learn": [
             0.1555413074
            ],
            "passed_time": 2.341816855,
            "remaining_time": 5.068995977
           },
           {
            "iteration": 316,
            "learn": [
             0.155129916
            ],
            "passed_time": 2.349847149,
            "remaining_time": 5.062919883
           },
           {
            "iteration": 317,
            "learn": [
             0.1542691204
            ],
            "passed_time": 2.359676951,
            "remaining_time": 5.06069082
           },
           {
            "iteration": 318,
            "learn": [
             0.1536730011
            ],
            "passed_time": 2.36691155,
            "remaining_time": 5.052873872
           },
           {
            "iteration": 319,
            "learn": [
             0.1528735658
            ],
            "passed_time": 2.373860549,
            "remaining_time": 5.044453667
           },
           {
            "iteration": 320,
            "learn": [
             0.1522808901
            ],
            "passed_time": 2.381568832,
            "remaining_time": 5.037648714
           },
           {
            "iteration": 321,
            "learn": [
             0.1511411985
            ],
            "passed_time": 2.388826887,
            "remaining_time": 5.029890153
           },
           {
            "iteration": 322,
            "learn": [
             0.1505898112
            ],
            "passed_time": 2.395995783,
            "remaining_time": 5.021947817
           },
           {
            "iteration": 323,
            "learn": [
             0.1501225567
            ],
            "passed_time": 2.406061998,
            "remaining_time": 5.02005528
           },
           {
            "iteration": 324,
            "learn": [
             0.1495989707
            ],
            "passed_time": 2.413549632,
            "remaining_time": 5.012756927
           },
           {
            "iteration": 325,
            "learn": [
             0.1491306586
            ],
            "passed_time": 2.421281969,
            "remaining_time": 5.005963334
           },
           {
            "iteration": 326,
            "learn": [
             0.148554062
            ],
            "passed_time": 2.42864821,
            "remaining_time": 4.998410536
           },
           {
            "iteration": 327,
            "learn": [
             0.1480682574
            ],
            "passed_time": 2.435641169,
            "remaining_time": 4.990094103
           },
           {
            "iteration": 328,
            "learn": [
             0.1476857199
            ],
            "passed_time": 2.442652775,
            "remaining_time": 4.981823746
           },
           {
            "iteration": 329,
            "learn": [
             0.1472860317
            ],
            "passed_time": 2.448560973,
            "remaining_time": 4.971320763
           },
           {
            "iteration": 330,
            "learn": [
             0.1468402126
            ],
            "passed_time": 2.45562211,
            "remaining_time": 4.963175806
           },
           {
            "iteration": 331,
            "learn": [
             0.1461921609
            ],
            "passed_time": 2.463080916,
            "remaining_time": 4.955837506
           },
           {
            "iteration": 332,
            "learn": [
             0.1457266913
            ],
            "passed_time": 2.470173111,
            "remaining_time": 4.94776416
           },
           {
            "iteration": 333,
            "learn": [
             0.14503748
            ],
            "passed_time": 2.478039166,
            "remaining_time": 4.941239774
           },
           {
            "iteration": 334,
            "learn": [
             0.144653726
            ],
            "passed_time": 2.483944059,
            "remaining_time": 4.930814327
           },
           {
            "iteration": 335,
            "learn": [
             0.1442029996
            ],
            "passed_time": 2.49404285,
            "remaining_time": 4.928703727
           },
           {
            "iteration": 336,
            "learn": [
             0.1435970095
            ],
            "passed_time": 2.500206592,
            "remaining_time": 4.918804066
           },
           {
            "iteration": 337,
            "learn": [
             0.1430040549
            ],
            "passed_time": 2.507975604,
            "remaining_time": 4.912070562
           },
           {
            "iteration": 338,
            "learn": [
             0.1422032405
            ],
            "passed_time": 2.515456121,
            "remaining_time": 4.904768425
           },
           {
            "iteration": 339,
            "learn": [
             0.1416818963
            ],
            "passed_time": 2.5222812,
            "remaining_time": 4.896192919
           },
           {
            "iteration": 340,
            "learn": [
             0.1414170304
            ],
            "passed_time": 2.528303552,
            "remaining_time": 4.886076365
           },
           {
            "iteration": 341,
            "learn": [
             0.1409343186
            ],
            "passed_time": 2.534788178,
            "remaining_time": 4.87687316
           },
           {
            "iteration": 342,
            "learn": [
             0.1405263176
            ],
            "passed_time": 2.541829709,
            "remaining_time": 4.868752533
           },
           {
            "iteration": 343,
            "learn": [
             0.1399230953
            ],
            "passed_time": 2.547981432,
            "remaining_time": 4.858941335
           },
           {
            "iteration": 344,
            "learn": [
             0.139337117
            ],
            "passed_time": 2.555005068,
            "remaining_time": 4.850806724
           },
           {
            "iteration": 345,
            "learn": [
             0.1389867525
            ],
            "passed_time": 2.561505412,
            "remaining_time": 4.841689421
           },
           {
            "iteration": 346,
            "learn": [
             0.1387692409
            ],
            "passed_time": 2.568199788,
            "remaining_time": 4.832952339
           },
           {
            "iteration": 347,
            "learn": [
             0.1383403446
            ],
            "passed_time": 2.57483626,
            "remaining_time": 4.82411851
           },
           {
            "iteration": 348,
            "learn": [
             0.1378239138
            ],
            "passed_time": 2.581289347,
            "remaining_time": 4.8149552
           },
           {
            "iteration": 349,
            "learn": [
             0.1373503405
            ],
            "passed_time": 2.588349751,
            "remaining_time": 4.806935253
           },
           {
            "iteration": 350,
            "learn": [
             0.1369045021
            ],
            "passed_time": 2.594990314,
            "remaining_time": 4.798144484
           },
           {
            "iteration": 351,
            "learn": [
             0.1365527745
            ],
            "passed_time": 2.605911883,
            "remaining_time": 4.797246876
           },
           {
            "iteration": 352,
            "learn": [
             0.1361175568
            ],
            "passed_time": 2.614023107,
            "remaining_time": 4.791141502
           },
           {
            "iteration": 353,
            "learn": [
             0.1357909497
            ],
            "passed_time": 2.61996455,
            "remaining_time": 4.781065253
           },
           {
            "iteration": 354,
            "learn": [
             0.135263823
            ],
            "passed_time": 2.628770141,
            "remaining_time": 4.776216172
           },
           {
            "iteration": 355,
            "learn": [
             0.1348696725
            ],
            "passed_time": 2.638424934,
            "remaining_time": 4.772881061
           },
           {
            "iteration": 356,
            "learn": [
             0.1343257082
            ],
            "passed_time": 2.646148725,
            "remaining_time": 4.766032577
           },
           {
            "iteration": 357,
            "learn": [
             0.1338008895
            ],
            "passed_time": 2.65243647,
            "remaining_time": 4.756603948
           },
           {
            "iteration": 358,
            "learn": [
             0.133196404
            ],
            "passed_time": 2.659528381,
            "remaining_time": 4.748628668
           },
           {
            "iteration": 359,
            "learn": [
             0.1328057674
            ],
            "passed_time": 2.667265266,
            "remaining_time": 4.741804918
           },
           {
            "iteration": 360,
            "learn": [
             0.1323026676
            ],
            "passed_time": 2.674037523,
            "remaining_time": 4.733268635
           },
           {
            "iteration": 361,
            "learn": [
             0.1317675811
            ],
            "passed_time": 2.681270935,
            "remaining_time": 4.725554852
           },
           {
            "iteration": 362,
            "learn": [
             0.1312861831
            ],
            "passed_time": 2.6884936,
            "remaining_time": 4.717824857
           },
           {
            "iteration": 363,
            "learn": [
             0.1309611396
            ],
            "passed_time": 2.695339159,
            "remaining_time": 4.70943875
           },
           {
            "iteration": 364,
            "learn": [
             0.1303876804
            ],
            "passed_time": 2.703055188,
            "remaining_time": 4.702575464
           },
           {
            "iteration": 365,
            "learn": [
             0.1299561785
            ],
            "passed_time": 2.710426168,
            "remaining_time": 4.69510981
           },
           {
            "iteration": 366,
            "learn": [
             0.1294747016
            ],
            "passed_time": 2.716549222,
            "remaining_time": 4.685492255
           },
           {
            "iteration": 367,
            "learn": [
             0.1291077882
            ],
            "passed_time": 2.723778429,
            "remaining_time": 4.677793389
           },
           {
            "iteration": 368,
            "learn": [
             0.1286085337
            ],
            "passed_time": 2.731089125,
            "remaining_time": 4.670236417
           },
           {
            "iteration": 369,
            "learn": [
             0.1282263174
            ],
            "passed_time": 2.73870512,
            "remaining_time": 4.663200611
           },
           {
            "iteration": 370,
            "learn": [
             0.1277600323
            ],
            "passed_time": 2.745591224,
            "remaining_time": 4.654924204
           },
           {
            "iteration": 371,
            "learn": [
             0.1272208219
            ],
            "passed_time": 2.75269559,
            "remaining_time": 4.647023738
           },
           {
            "iteration": 372,
            "learn": [
             0.1267579214
            ],
            "passed_time": 2.759902447,
            "remaining_time": 4.639299824
           },
           {
            "iteration": 373,
            "learn": [
             0.1264087961
            ],
            "passed_time": 2.766790183,
            "remaining_time": 4.631044532
           },
           {
            "iteration": 374,
            "learn": [
             0.1259389128
            ],
            "passed_time": 2.77323256,
            "remaining_time": 4.622054267
           },
           {
            "iteration": 375,
            "learn": [
             0.1254998598
            ],
            "passed_time": 2.780797397,
            "remaining_time": 4.61494036
           },
           {
            "iteration": 376,
            "learn": [
             0.1250111477
            ],
            "passed_time": 2.787043807,
            "remaining_time": 4.605645336
           },
           {
            "iteration": 377,
            "learn": [
             0.1244838863
            ],
            "passed_time": 2.793799381,
            "remaining_time": 4.597204272
           },
           {
            "iteration": 378,
            "learn": [
             0.1240989324
            ],
            "passed_time": 2.804988331,
            "remaining_time": 4.596036289
           },
           {
            "iteration": 379,
            "learn": [
             0.1236106772
            ],
            "passed_time": 2.812748272,
            "remaining_time": 4.589220865
           },
           {
            "iteration": 380,
            "learn": [
             0.1232205332
            ],
            "passed_time": 2.820118292,
            "remaining_time": 4.581766988
           },
           {
            "iteration": 381,
            "learn": [
             0.1229009255
            ],
            "passed_time": 2.826879939,
            "remaining_time": 4.573329326
           },
           {
            "iteration": 382,
            "learn": [
             0.1223783355
            ],
            "passed_time": 2.834292751,
            "remaining_time": 4.565949419
           },
           {
            "iteration": 383,
            "learn": [
             0.1219819745
            ],
            "passed_time": 2.841812358,
            "remaining_time": 4.558740658
           },
           {
            "iteration": 384,
            "learn": [
             0.1214807061
            ],
            "passed_time": 2.847971422,
            "remaining_time": 4.549356947
           },
           {
            "iteration": 385,
            "learn": [
             0.1212098114
            ],
            "passed_time": 2.854664216,
            "remaining_time": 4.540838935
           },
           {
            "iteration": 386,
            "learn": [
             0.1208127832
            ],
            "passed_time": 2.861563734,
            "remaining_time": 4.532657801
           },
           {
            "iteration": 387,
            "learn": [
             0.1203655713
            ],
            "passed_time": 2.868569299,
            "remaining_time": 4.524650543
           },
           {
            "iteration": 388,
            "learn": [
             0.1200713057
            ],
            "passed_time": 2.87495385,
            "remaining_time": 4.515673014
           },
           {
            "iteration": 389,
            "learn": [
             0.119654982
            ],
            "passed_time": 2.880655697,
            "remaining_time": 4.505640962
           },
           {
            "iteration": 390,
            "learn": [
             0.1191815494
            ],
            "passed_time": 2.886867452,
            "remaining_time": 4.496425265
           },
           {
            "iteration": 391,
            "learn": [
             0.1188121936
            ],
            "passed_time": 2.89401498,
            "remaining_time": 4.488676295
           },
           {
            "iteration": 392,
            "learn": [
             0.118541515
            ],
            "passed_time": 2.901278495,
            "remaining_time": 4.481109533
           },
           {
            "iteration": 393,
            "learn": [
             0.118223808
            ],
            "passed_time": 2.926296004,
            "remaining_time": 4.500851214
           },
           {
            "iteration": 394,
            "learn": [
             0.1179107372
            ],
            "passed_time": 2.935114567,
            "remaining_time": 4.495555223
           },
           {
            "iteration": 395,
            "learn": [
             0.1175516902
            ],
            "passed_time": 2.950960983,
            "remaining_time": 4.500960692
           },
           {
            "iteration": 396,
            "learn": [
             0.1169561415
            ],
            "passed_time": 2.958556946,
            "remaining_time": 4.493727553
           },
           {
            "iteration": 397,
            "learn": [
             0.1164718732
            ],
            "passed_time": 2.964698088,
            "remaining_time": 4.484292083
           },
           {
            "iteration": 398,
            "learn": [
             0.1160898375
            ],
            "passed_time": 2.971492355,
            "remaining_time": 4.475856906
           },
           {
            "iteration": 399,
            "learn": [
             0.1157914344
            ],
            "passed_time": 2.978330734,
            "remaining_time": 4.4674961
           },
           {
            "iteration": 400,
            "learn": [
             0.1154318463
            ],
            "passed_time": 2.984527346,
            "remaining_time": 4.45818424
           },
           {
            "iteration": 401,
            "learn": [
             0.1151167737
            ],
            "passed_time": 2.990947733,
            "remaining_time": 4.449220757
           },
           {
            "iteration": 402,
            "learn": [
             0.1149030364
            ],
            "passed_time": 2.997338551,
            "remaining_time": 4.440226092
           },
           {
            "iteration": 403,
            "learn": [
             0.1145552972
            ],
            "passed_time": 3.007802607,
            "remaining_time": 4.437253351
           },
           {
            "iteration": 404,
            "learn": [
             0.1142011016
            ],
            "passed_time": 3.014719961,
            "remaining_time": 4.429033029
           },
           {
            "iteration": 405,
            "learn": [
             0.1139027796
            ],
            "passed_time": 3.021032353,
            "remaining_time": 4.419934033
           },
           {
            "iteration": 406,
            "learn": [
             0.1135455311
            ],
            "passed_time": 3.028375933,
            "remaining_time": 4.412351176
           },
           {
            "iteration": 407,
            "learn": [
             0.1131978714
            ],
            "passed_time": 3.036069862,
            "remaining_time": 4.405277838
           },
           {
            "iteration": 408,
            "learn": [
             0.1129687223
            ],
            "passed_time": 3.042470148,
            "remaining_time": 4.39633217
           },
           {
            "iteration": 409,
            "learn": [
             0.1126028418
            ],
            "passed_time": 3.050234675,
            "remaining_time": 4.389362094
           },
           {
            "iteration": 410,
            "learn": [
             0.1122634669
            ],
            "passed_time": 3.05839351,
            "remaining_time": 4.38295323
           },
           {
            "iteration": 411,
            "learn": [
             0.1120022744
            ],
            "passed_time": 3.066081008,
            "remaining_time": 4.375863186
           },
           {
            "iteration": 412,
            "learn": [
             0.1116716495
            ],
            "passed_time": 3.074935372,
            "remaining_time": 4.370428725
           },
           {
            "iteration": 413,
            "learn": [
             0.1113385795
            ],
            "passed_time": 3.081586818,
            "remaining_time": 4.361859603
           },
           {
            "iteration": 414,
            "learn": [
             0.1110772615
            ],
            "passed_time": 3.088552475,
            "remaining_time": 4.353742646
           },
           {
            "iteration": 415,
            "learn": [
             0.1108105485
            ],
            "passed_time": 3.09589109,
            "remaining_time": 4.346154799
           },
           {
            "iteration": 416,
            "learn": [
             0.1105894072
            ],
            "passed_time": 3.10193868,
            "remaining_time": 4.336763191
           },
           {
            "iteration": 417,
            "learn": [
             0.1103031431
            ],
            "passed_time": 3.112979883,
            "remaining_time": 4.334340411
           },
           {
            "iteration": 418,
            "learn": [
             0.1099802111
            ],
            "passed_time": 3.119874209,
            "remaining_time": 4.32612629
           },
           {
            "iteration": 419,
            "learn": [
             0.1096382244
            ],
            "passed_time": 3.127274268,
            "remaining_time": 4.318616846
           },
           {
            "iteration": 420,
            "learn": [
             0.1093105587
            ],
            "passed_time": 3.134343132,
            "remaining_time": 4.310652431
           },
           {
            "iteration": 421,
            "learn": [
             0.1090898542
            ],
            "passed_time": 3.140273355,
            "remaining_time": 4.301132699
           },
           {
            "iteration": 422,
            "learn": [
             0.1088526616
            ],
            "passed_time": 3.147764516,
            "remaining_time": 4.293759163
           },
           {
            "iteration": 423,
            "learn": [
             0.1085099702
            ],
            "passed_time": 3.154450154,
            "remaining_time": 4.285290776
           },
           {
            "iteration": 424,
            "learn": [
             0.1082454268
            ],
            "passed_time": 3.165905824,
            "remaining_time": 4.28328435
           },
           {
            "iteration": 425,
            "learn": [
             0.1078067379
            ],
            "passed_time": 3.172922606,
            "remaining_time": 4.275252525
           },
           {
            "iteration": 426,
            "learn": [
             0.1074064051
            ],
            "passed_time": 3.179156463,
            "remaining_time": 4.266174832
           },
           {
            "iteration": 427,
            "learn": [
             0.1070591919
            ],
            "passed_time": 3.185429164,
            "remaining_time": 4.257162341
           },
           {
            "iteration": 428,
            "learn": [
             0.106705644
            ],
            "passed_time": 3.193119953,
            "remaining_time": 4.2500501
           },
           {
            "iteration": 429,
            "learn": [
             0.1064272442
            ],
            "passed_time": 3.205735985,
            "remaining_time": 4.24946398
           },
           {
            "iteration": 430,
            "learn": [
             0.1062022572
            ],
            "passed_time": 3.219135465,
            "remaining_time": 4.249856334
           },
           {
            "iteration": 431,
            "learn": [
             0.1058573442
            ],
            "passed_time": 3.225849644,
            "remaining_time": 4.241394902
           },
           {
            "iteration": 432,
            "learn": [
             0.1056438837
            ],
            "passed_time": 3.231843639,
            "remaining_time": 4.231998483
           },
           {
            "iteration": 433,
            "learn": [
             0.105395451
            ],
            "passed_time": 3.238552351,
            "remaining_time": 4.223549841
           },
           {
            "iteration": 434,
            "learn": [
             0.1050233564
            ],
            "passed_time": 3.245511444,
            "remaining_time": 4.215434404
           },
           {
            "iteration": 435,
            "learn": [
             0.1047267798
            ],
            "passed_time": 3.252660777,
            "remaining_time": 4.207570363
           },
           {
            "iteration": 436,
            "learn": [
             0.1044194907
            ],
            "passed_time": 3.259373748,
            "remaining_time": 4.199147414
           },
           {
            "iteration": 437,
            "learn": [
             0.1041439869
            ],
            "passed_time": 3.266267334,
            "remaining_time": 4.190964023
           },
           {
            "iteration": 438,
            "learn": [
             0.1037980154
            ],
            "passed_time": 3.273403138,
            "remaining_time": 4.183096037
           },
           {
            "iteration": 439,
            "learn": [
             0.1034536318
            ],
            "passed_time": 3.280276181,
            "remaining_time": 4.174896958
           },
           {
            "iteration": 440,
            "learn": [
             0.103068261
            ],
            "passed_time": 3.287418552,
            "remaining_time": 4.167045284
           },
           {
            "iteration": 441,
            "learn": [
             0.1027605295
            ],
            "passed_time": 3.293761101,
            "remaining_time": 4.158187091
           },
           {
            "iteration": 442,
            "learn": [
             0.102590146
            ],
            "passed_time": 3.299471256,
            "remaining_time": 4.148545123
           },
           {
            "iteration": 443,
            "learn": [
             0.1021903946
            ],
            "passed_time": 3.306526413,
            "remaining_time": 4.140605148
           },
           {
            "iteration": 444,
            "learn": [
             0.1018179726
            ],
            "passed_time": 3.313309004,
            "remaining_time": 4.132329207
           },
           {
            "iteration": 445,
            "learn": [
             0.1015600957
            ],
            "passed_time": 3.320602241,
            "remaining_time": 4.124694264
           },
           {
            "iteration": 446,
            "learn": [
             0.1013054435
            ],
            "passed_time": 3.327256826,
            "remaining_time": 4.116270749
           },
           {
            "iteration": 447,
            "learn": [
             0.1009444125
            ],
            "passed_time": 3.333156337,
            "remaining_time": 4.106924772
           },
           {
            "iteration": 448,
            "learn": [
             0.1006797874
            ],
            "passed_time": 3.340225235,
            "remaining_time": 4.099029185
           },
           {
            "iteration": 449,
            "learn": [
             0.1005629532
            ],
            "passed_time": 3.346033382,
            "remaining_time": 4.089596356
           },
           {
            "iteration": 450,
            "learn": [
             0.1002973145
            ],
            "passed_time": 3.352566314,
            "remaining_time": 4.081061877
           },
           {
            "iteration": 451,
            "learn": [
             0.1001151057
            ],
            "passed_time": 3.359344507,
            "remaining_time": 4.072833606
           },
           {
            "iteration": 452,
            "learn": [
             0.09987982621
            ],
            "passed_time": 3.367108488,
            "remaining_time": 4.065802081
           },
           {
            "iteration": 453,
            "learn": [
             0.09964902157
            ],
            "passed_time": 3.373950263,
            "remaining_time": 4.057658246
           },
           {
            "iteration": 454,
            "learn": [
             0.0992947173
            ],
            "passed_time": 3.380975522,
            "remaining_time": 4.049739911
           },
           {
            "iteration": 455,
            "learn": [
             0.09905625236
            ],
            "passed_time": 3.390477623,
            "remaining_time": 4.044780323
           },
           {
            "iteration": 456,
            "learn": [
             0.09873978219
            ],
            "passed_time": 3.400893199,
            "remaining_time": 4.04088623
           },
           {
            "iteration": 457,
            "learn": [
             0.0985067068
            ],
            "passed_time": 3.407885861,
            "remaining_time": 4.032912962
           },
           {
            "iteration": 458,
            "learn": [
             0.09819309079
            ],
            "passed_time": 3.414576994,
            "remaining_time": 4.024588571
           },
           {
            "iteration": 459,
            "learn": [
             0.0978280587
            ],
            "passed_time": 3.421156599,
            "remaining_time": 4.016140356
           },
           {
            "iteration": 460,
            "learn": [
             0.09756145468
            ],
            "passed_time": 3.427980722,
            "remaining_time": 4.007986137
           },
           {
            "iteration": 461,
            "learn": [
             0.09731607928
            ],
            "passed_time": 3.434326414,
            "remaining_time": 3.999280543
           },
           {
            "iteration": 462,
            "learn": [
             0.09688192769
            ],
            "passed_time": 3.440310108,
            "remaining_time": 3.990165288
           },
           {
            "iteration": 463,
            "learn": [
             0.09663510051
            ],
            "passed_time": 3.448186932,
            "remaining_time": 3.983250422
           },
           {
            "iteration": 464,
            "learn": [
             0.0964832223
            ],
            "passed_time": 3.455208797,
            "remaining_time": 3.975347756
           },
           {
            "iteration": 465,
            "learn": [
             0.0961260358
            ],
            "passed_time": 3.461255627,
            "remaining_time": 3.966331555
           },
           {
            "iteration": 466,
            "learn": [
             0.0959258285
            ],
            "passed_time": 3.472295577,
            "remaining_time": 3.963026858
           },
           {
            "iteration": 467,
            "learn": [
             0.09573558301
            ],
            "passed_time": 3.478587798,
            "remaining_time": 3.954292113
           },
           {
            "iteration": 468,
            "learn": [
             0.09541021263
            ],
            "passed_time": 3.484777365,
            "remaining_time": 3.945451559
           },
           {
            "iteration": 469,
            "learn": [
             0.09513990454
            ],
            "passed_time": 3.49125571,
            "remaining_time": 3.936947928
           },
           {
            "iteration": 470,
            "learn": [
             0.09479819546
            ],
            "passed_time": 3.497631199,
            "remaining_time": 3.928337377
           },
           {
            "iteration": 471,
            "learn": [
             0.0946309116
            ],
            "passed_time": 3.504358822,
            "remaining_time": 3.920130208
           },
           {
            "iteration": 472,
            "learn": [
             0.09437638628
            ],
            "passed_time": 3.511248583,
            "remaining_time": 3.912109943
           },
           {
            "iteration": 473,
            "learn": [
             0.09410669444
            ],
            "passed_time": 3.518404124,
            "remaining_time": 3.904389387
           },
           {
            "iteration": 474,
            "learn": [
             0.09379653015
            ],
            "passed_time": 3.524499772,
            "remaining_time": 3.895499748
           },
           {
            "iteration": 475,
            "learn": [
             0.09362881126
            ],
            "passed_time": 3.530795708,
            "remaining_time": 3.886842334
           },
           {
            "iteration": 476,
            "learn": [
             0.0934337589
            ],
            "passed_time": 3.537553061,
            "remaining_time": 3.878700736
           },
           {
            "iteration": 477,
            "learn": [
             0.09320261066
            ],
            "passed_time": 3.5447232,
            "remaining_time": 3.871015712
           },
           {
            "iteration": 478,
            "learn": [
             0.09287022556
            ],
            "passed_time": 3.550824621,
            "remaining_time": 3.862170413
           },
           {
            "iteration": 479,
            "learn": [
             0.09266246976
            ],
            "passed_time": 3.557802186,
            "remaining_time": 3.854285701
           },
           {
            "iteration": 480,
            "learn": [
             0.09236786908
            ],
            "passed_time": 3.564674685,
            "remaining_time": 3.846291396
           },
           {
            "iteration": 481,
            "learn": [
             0.09213268794
            ],
            "passed_time": 3.571402989,
            "remaining_time": 3.838146781
           },
           {
            "iteration": 482,
            "learn": [
             0.09192889642
            ],
            "passed_time": 3.578257339,
            "remaining_time": 3.830142949
           },
           {
            "iteration": 483,
            "learn": [
             0.09173869668
            ],
            "passed_time": 3.589345585,
            "remaining_time": 3.82665769
           },
           {
            "iteration": 484,
            "learn": [
             0.09156933569
            ],
            "passed_time": 3.596842073,
            "remaining_time": 3.81932715
           },
           {
            "iteration": 485,
            "learn": [
             0.09136862101
            ],
            "passed_time": 3.604043879,
            "remaining_time": 3.811684267
           },
           {
            "iteration": 486,
            "learn": [
             0.0911903865
            ],
            "passed_time": 3.611456854,
            "remaining_time": 3.804265638
           },
           {
            "iteration": 487,
            "learn": [
             0.09098852248
            ],
            "passed_time": 3.617132916,
            "remaining_time": 3.795024699
           },
           {
            "iteration": 488,
            "learn": [
             0.09075493844
            ],
            "passed_time": 3.623884638,
            "remaining_time": 3.786922393
           },
           {
            "iteration": 489,
            "learn": [
             0.09054400432
            ],
            "passed_time": 3.63030685,
            "remaining_time": 3.77848264
           },
           {
            "iteration": 490,
            "learn": [
             0.09034227591
            ],
            "passed_time": 3.637473311,
            "remaining_time": 3.770822638
           },
           {
            "iteration": 491,
            "learn": [
             0.09010514607
            ],
            "passed_time": 3.647373129,
            "remaining_time": 3.76598689
           },
           {
            "iteration": 492,
            "learn": [
             0.08984277705
            ],
            "passed_time": 3.654435419,
            "remaining_time": 3.75821249
           },
           {
            "iteration": 493,
            "learn": [
             0.08960739484
            ],
            "passed_time": 3.661331513,
            "remaining_time": 3.75027074
           },
           {
            "iteration": 494,
            "learn": [
             0.08939107763
            ],
            "passed_time": 3.667768257,
            "remaining_time": 3.741864585
           },
           {
            "iteration": 495,
            "learn": [
             0.08911020587
            ],
            "passed_time": 3.674044328,
            "remaining_time": 3.733303107
           },
           {
            "iteration": 496,
            "learn": [
             0.08889404371
            ],
            "passed_time": 3.681851979,
            "remaining_time": 3.726300897
           },
           {
            "iteration": 497,
            "learn": [
             0.08869590899
            ],
            "passed_time": 3.690731469,
            "remaining_time": 3.720375898
           },
           {
            "iteration": 498,
            "learn": [
             0.08850992442
            ],
            "passed_time": 3.696622998,
            "remaining_time": 3.711439123
           },
           {
            "iteration": 499,
            "learn": [
             0.08828753016
            ],
            "passed_time": 3.703274159,
            "remaining_time": 3.703274159
           },
           {
            "iteration": 500,
            "learn": [
             0.0881432162
            ],
            "passed_time": 3.711707645,
            "remaining_time": 3.696890449
           },
           {
            "iteration": 501,
            "learn": [
             0.08792763314
            ],
            "passed_time": 3.720603008,
            "remaining_time": 3.690956769
           },
           {
            "iteration": 502,
            "learn": [
             0.08773856931
            ],
            "passed_time": 3.727302097,
            "remaining_time": 3.682841237
           },
           {
            "iteration": 503,
            "learn": [
             0.08750727051
            ],
            "passed_time": 3.733513736,
            "remaining_time": 3.674251613
           },
           {
            "iteration": 504,
            "learn": [
             0.08727858116
            ],
            "passed_time": 3.740450248,
            "remaining_time": 3.666381926
           },
           {
            "iteration": 505,
            "learn": [
             0.087168
            ],
            "passed_time": 3.747957058,
            "remaining_time": 3.659072701
           },
           {
            "iteration": 506,
            "learn": [
             0.08697442994
            ],
            "passed_time": 3.754550306,
            "remaining_time": 3.650874361
           },
           {
            "iteration": 507,
            "learn": [
             0.0867226295
            ],
            "passed_time": 3.761054507,
            "remaining_time": 3.642596097
           },
           {
            "iteration": 508,
            "learn": [
             0.08660536907
            ],
            "passed_time": 3.768286278,
            "remaining_time": 3.635026645
           },
           {
            "iteration": 509,
            "learn": [
             0.08636114777
            ],
            "passed_time": 3.77488887,
            "remaining_time": 3.626854012
           },
           {
            "iteration": 510,
            "learn": [
             0.08618147077
            ],
            "passed_time": 3.781805967,
            "remaining_time": 3.618988489
           },
           {
            "iteration": 511,
            "learn": [
             0.08606838431
            ],
            "passed_time": 3.793261226,
            "remaining_time": 3.615452106
           },
           {
            "iteration": 512,
            "learn": [
             0.08591271807
            ],
            "passed_time": 3.800891891,
            "remaining_time": 3.608254095
           },
           {
            "iteration": 513,
            "learn": [
             0.08581017415
            ],
            "passed_time": 3.806845182,
            "remaining_time": 3.599468401
           },
           {
            "iteration": 514,
            "learn": [
             0.08560172189
            ],
            "passed_time": 3.813654353,
            "remaining_time": 3.59149973
           },
           {
            "iteration": 515,
            "learn": [
             0.08535735725
            ],
            "passed_time": 3.820848928,
            "remaining_time": 3.583897057
           },
           {
            "iteration": 516,
            "learn": [
             0.08506465199
            ],
            "passed_time": 3.827660648,
            "remaining_time": 3.575938284
           },
           {
            "iteration": 517,
            "learn": [
             0.08487512198
            ],
            "passed_time": 3.835244036,
            "remaining_time": 3.56870198
           },
           {
            "iteration": 518,
            "learn": [
             0.08462299134
            ],
            "passed_time": 3.842413209,
            "remaining_time": 3.56108045
           },
           {
            "iteration": 519,
            "learn": [
             0.0844345897
            ],
            "passed_time": 3.848742967,
            "remaining_time": 3.552685816
           },
           {
            "iteration": 520,
            "learn": [
             0.0842749916
            ],
            "passed_time": 3.855808089,
            "remaining_time": 3.544975191
           },
           {
            "iteration": 521,
            "learn": [
             0.08405860686
            ],
            "passed_time": 3.86286644,
            "remaining_time": 3.53726084
           },
           {
            "iteration": 522,
            "learn": [
             0.08384980538
            ],
            "passed_time": 3.869994589,
            "remaining_time": 3.529612656
           },
           {
            "iteration": 523,
            "learn": [
             0.08371020838
            ],
            "passed_time": 3.876732011,
            "remaining_time": 3.521611522
           },
           {
            "iteration": 524,
            "learn": [
             0.08350652282
            ],
            "passed_time": 3.88499798,
            "remaining_time": 3.514998172
           },
           {
            "iteration": 525,
            "learn": [
             0.08336876424
            ],
            "passed_time": 3.901885573,
            "remaining_time": 3.516147835
           },
           {
            "iteration": 526,
            "learn": [
             0.08317957996
            ],
            "passed_time": 3.918425283,
            "remaining_time": 3.51691681
           },
           {
            "iteration": 527,
            "learn": [
             0.0830414923
            ],
            "passed_time": 3.925137411,
            "remaining_time": 3.508834958
           },
           {
            "iteration": 528,
            "learn": [
             0.08282553744
            ],
            "passed_time": 3.930445103,
            "remaining_time": 3.499507833
           },
           {
            "iteration": 529,
            "learn": [
             0.08261602615
            ],
            "passed_time": 3.937330658,
            "remaining_time": 3.491595112
           },
           {
            "iteration": 530,
            "learn": [
             0.08241130279
            ],
            "passed_time": 3.944603989,
            "remaining_time": 3.484028759
           },
           {
            "iteration": 531,
            "learn": [
             0.08222098198
            ],
            "passed_time": 3.951593641,
            "remaining_time": 3.476213955
           },
           {
            "iteration": 532,
            "learn": [
             0.08206097323
            ],
            "passed_time": 3.963448207,
            "remaining_time": 3.472664751
           },
           {
            "iteration": 533,
            "learn": [
             0.0818588534
            ],
            "passed_time": 3.970883136,
            "remaining_time": 3.465227605
           },
           {
            "iteration": 534,
            "learn": [
             0.08166688944
            ],
            "passed_time": 3.979783305,
            "remaining_time": 3.459063994
           },
           {
            "iteration": 535,
            "learn": [
             0.08145366814
            ],
            "passed_time": 3.987450669,
            "remaining_time": 3.451822967
           },
           {
            "iteration": 536,
            "learn": [
             0.0813082697
            ],
            "passed_time": 3.994124287,
            "remaining_time": 3.443723547
           },
           {
            "iteration": 537,
            "learn": [
             0.08112495888
            ],
            "passed_time": 4.001188364,
            "remaining_time": 3.435964729
           },
           {
            "iteration": 538,
            "learn": [
             0.08095268075
            ],
            "passed_time": 4.006684783,
            "remaining_time": 3.42686769
           },
           {
            "iteration": 539,
            "learn": [
             0.08075842076
            ],
            "passed_time": 4.01465982,
            "remaining_time": 3.419895402
           },
           {
            "iteration": 540,
            "learn": [
             0.08061764287
            ],
            "passed_time": 4.021446935,
            "remaining_time": 3.41191154
           },
           {
            "iteration": 541,
            "learn": [
             0.08041726589
            ],
            "passed_time": 4.028130229,
            "remaining_time": 3.403844363
           },
           {
            "iteration": 542,
            "learn": [
             0.08021730653
            ],
            "passed_time": 4.034303506,
            "remaining_time": 3.395353043
           },
           {
            "iteration": 543,
            "learn": [
             0.07997159613
            ],
            "passed_time": 4.039918727,
            "remaining_time": 3.386402463
           },
           {
            "iteration": 544,
            "learn": [
             0.07981974144
            ],
            "passed_time": 4.046417734,
            "remaining_time": 3.378201961
           },
           {
            "iteration": 545,
            "learn": [
             0.07962831887
            ],
            "passed_time": 4.051970591,
            "remaining_time": 3.369220968
           },
           {
            "iteration": 546,
            "learn": [
             0.07946331655
            ],
            "passed_time": 4.059302914,
            "remaining_time": 3.361726179
           },
           {
            "iteration": 547,
            "learn": [
             0.07933094859
            ],
            "passed_time": 4.0661303,
            "remaining_time": 3.353815503
           },
           {
            "iteration": 548,
            "learn": [
             0.07916990613
            ],
            "passed_time": 4.073023299,
            "remaining_time": 3.345962674
           },
           {
            "iteration": 549,
            "learn": [
             0.07903285902
            ],
            "passed_time": 4.080380496,
            "remaining_time": 3.338493133
           },
           {
            "iteration": 550,
            "learn": [
             0.07889648652
            ],
            "passed_time": 4.087438649,
            "remaining_time": 3.330780315
           },
           {
            "iteration": 551,
            "learn": [
             0.078625452
            ],
            "passed_time": 4.094876405,
            "remaining_time": 3.323377952
           },
           {
            "iteration": 552,
            "learn": [
             0.07844485596
            ],
            "passed_time": 4.102047907,
            "remaining_time": 3.315760243
           },
           {
            "iteration": 553,
            "learn": [
             0.0782719757
            ],
            "passed_time": 4.109367777,
            "remaining_time": 3.308263589
           },
           {
            "iteration": 554,
            "learn": [
             0.07811428877
            ],
            "passed_time": 4.116116674,
            "remaining_time": 3.300309766
           },
           {
            "iteration": 555,
            "learn": [
             0.07789476746
            ],
            "passed_time": 4.122613484,
            "remaining_time": 3.292158969
           },
           {
            "iteration": 556,
            "learn": [
             0.07773271774
            ],
            "passed_time": 4.129648774,
            "remaining_time": 3.284442382
           },
           {
            "iteration": 557,
            "learn": [
             0.07743634961
            ],
            "passed_time": 4.136339351,
            "remaining_time": 3.276455185
           },
           {
            "iteration": 558,
            "learn": [
             0.07729241066
            ],
            "passed_time": 4.143054781,
            "remaining_time": 3.268492233
           },
           {
            "iteration": 559,
            "learn": [
             0.07709038518
            ],
            "passed_time": 4.150160725,
            "remaining_time": 3.26084057
           },
           {
            "iteration": 560,
            "learn": [
             0.07692114309
            ],
            "passed_time": 4.156756646,
            "remaining_time": 3.252791743
           },
           {
            "iteration": 561,
            "learn": [
             0.07664911325
            ],
            "passed_time": 4.163118193,
            "remaining_time": 3.244565424
           },
           {
            "iteration": 562,
            "learn": [
             0.07652159666
            ],
            "passed_time": 4.17732313,
            "remaining_time": 3.242433761
           },
           {
            "iteration": 563,
            "learn": [
             0.07640007652
            ],
            "passed_time": 4.1913039,
            "remaining_time": 3.240085993
           },
           {
            "iteration": 564,
            "learn": [
             0.07627320557
            ],
            "passed_time": 4.198092507,
            "remaining_time": 3.232159718
           },
           {
            "iteration": 565,
            "learn": [
             0.07616580836
            ],
            "passed_time": 4.204909706,
            "remaining_time": 3.224259386
           },
           {
            "iteration": 566,
            "learn": [
             0.07604623026
            ],
            "passed_time": 4.210612203,
            "remaining_time": 3.215511612
           },
           {
            "iteration": 567,
            "learn": [
             0.07586856152
            ],
            "passed_time": 4.2219946,
            "remaining_time": 3.211094485
           },
           {
            "iteration": 568,
            "learn": [
             0.07572510108
            ],
            "passed_time": 4.228631808,
            "remaining_time": 3.20305854
           },
           {
            "iteration": 569,
            "learn": [
             0.07563688911
            ],
            "passed_time": 4.235970714,
            "remaining_time": 3.195556854
           },
           {
            "iteration": 570,
            "learn": [
             0.07545117098
            ],
            "passed_time": 4.242942714,
            "remaining_time": 3.187780078
           },
           {
            "iteration": 571,
            "learn": [
             0.07525065101
            ],
            "passed_time": 4.250387622,
            "remaining_time": 3.180359969
           },
           {
            "iteration": 572,
            "learn": [
             0.07506510677
            ],
            "passed_time": 4.25731595,
            "remaining_time": 3.172554818
           },
           {
            "iteration": 573,
            "learn": [
             0.07489028745
            ],
            "passed_time": 4.263275797,
            "remaining_time": 3.164033954
           },
           {
            "iteration": 574,
            "learn": [
             0.07471128319
            ],
            "passed_time": 4.269287496,
            "remaining_time": 3.155560323
           },
           {
            "iteration": 575,
            "learn": [
             0.07449765009
            ],
            "passed_time": 4.275214431,
            "remaining_time": 3.147032845
           },
           {
            "iteration": 576,
            "learn": [
             0.07436417554
            ],
            "passed_time": 4.281880065,
            "remaining_time": 3.139055923
           },
           {
            "iteration": 577,
            "learn": [
             0.07423583888
            ],
            "passed_time": 4.288322974,
            "remaining_time": 3.130920925
           },
           {
            "iteration": 578,
            "learn": [
             0.07407345866
            ],
            "passed_time": 4.295416772,
            "remaining_time": 3.123265045
           },
           {
            "iteration": 579,
            "learn": [
             0.07392068988
            ],
            "passed_time": 4.302479445,
            "remaining_time": 3.115588564
           },
           {
            "iteration": 580,
            "learn": [
             0.07376414453
            ],
            "passed_time": 4.31503278,
            "remaining_time": 3.111873898
           },
           {
            "iteration": 581,
            "learn": [
             0.07364299676
            ],
            "passed_time": 4.322560857,
            "remaining_time": 3.104519653
           },
           {
            "iteration": 582,
            "learn": [
             0.07352699578
            ],
            "passed_time": 4.329871828,
            "remaining_time": 3.097009523
           },
           {
            "iteration": 583,
            "learn": [
             0.07342476525
            ],
            "passed_time": 4.337157494,
            "remaining_time": 3.08948205
           },
           {
            "iteration": 584,
            "learn": [
             0.07320338675
            ],
            "passed_time": 4.343344733,
            "remaining_time": 3.081176178
           },
           {
            "iteration": 585,
            "learn": [
             0.0730608791
            ],
            "passed_time": 4.35117327,
            "remaining_time": 3.074037089
           },
           {
            "iteration": 586,
            "learn": [
             0.07285677595
            ],
            "passed_time": 4.358067,
            "remaining_time": 3.066237941
           },
           {
            "iteration": 587,
            "learn": [
             0.07269674152
            ],
            "passed_time": 4.365330957,
            "remaining_time": 3.058701283
           },
           {
            "iteration": 588,
            "learn": [
             0.07255069989
            ],
            "passed_time": 4.372273635,
            "remaining_time": 3.050941365
           },
           {
            "iteration": 589,
            "learn": [
             0.07238176579
            ],
            "passed_time": 4.382736704,
            "remaining_time": 3.045630591
           },
           {
            "iteration": 590,
            "learn": [
             0.07228213964
            ],
            "passed_time": 4.38941175,
            "remaining_time": 3.037680889
           },
           {
            "iteration": 591,
            "learn": [
             0.0721695602
            ],
            "passed_time": 4.396762469,
            "remaining_time": 3.030201161
           },
           {
            "iteration": 592,
            "learn": [
             0.07201694077
            ],
            "passed_time": 4.403235736,
            "remaining_time": 3.022119637
           },
           {
            "iteration": 593,
            "learn": [
             0.07187302223
            ],
            "passed_time": 4.409177917,
            "remaining_time": 3.013680529
           },
           {
            "iteration": 594,
            "learn": [
             0.07178710935
            ],
            "passed_time": 4.414957361,
            "remaining_time": 3.005139044
           },
           {
            "iteration": 595,
            "learn": [
             0.07163782028
            ],
            "passed_time": 4.421679621,
            "remaining_time": 2.997245918
           },
           {
            "iteration": 596,
            "learn": [
             0.07153997423
            ],
            "passed_time": 4.427660607,
            "remaining_time": 2.988856323
           },
           {
            "iteration": 597,
            "learn": [
             0.07139170824
            ],
            "passed_time": 4.433635933,
            "remaining_time": 2.980470978
           },
           {
            "iteration": 598,
            "learn": [
             0.07124988376
            ],
            "passed_time": 4.440150576,
            "remaining_time": 2.972454726
           },
           {
            "iteration": 599,
            "learn": [
             0.07109523218
            ],
            "passed_time": 4.44678706,
            "remaining_time": 2.964524706
           },
           {
            "iteration": 600,
            "learn": [
             0.070921512
            ],
            "passed_time": 4.453014163,
            "remaining_time": 2.956327206
           },
           {
            "iteration": 601,
            "learn": [
             0.0707567667
            ],
            "passed_time": 4.45900263,
            "remaining_time": 2.947978483
           },
           {
            "iteration": 602,
            "learn": [
             0.07061772174
            ],
            "passed_time": 4.466189152,
            "remaining_time": 2.940426357
           },
           {
            "iteration": 603,
            "learn": [
             0.07053315248
            ],
            "passed_time": 4.473164443,
            "remaining_time": 2.932736952
           },
           {
            "iteration": 604,
            "learn": [
             0.07041159601
            ],
            "passed_time": 4.48012965,
            "remaining_time": 2.925043325
           },
           {
            "iteration": 605,
            "learn": [
             0.0702666765
            ],
            "passed_time": 4.486603489,
            "remaining_time": 2.917032631
           },
           {
            "iteration": 606,
            "learn": [
             0.07014007718
            ],
            "passed_time": 4.493937862,
            "remaining_time": 2.909584151
           },
           {
            "iteration": 607,
            "learn": [
             0.06999735554
            ],
            "passed_time": 4.500227838,
            "remaining_time": 2.901462685
           },
           {
            "iteration": 608,
            "learn": [
             0.06982264053
            ],
            "passed_time": 4.506893572,
            "remaining_time": 2.893588484
           },
           {
            "iteration": 609,
            "learn": [
             0.0696446057
            ],
            "passed_time": 4.513665026,
            "remaining_time": 2.885785837
           },
           {
            "iteration": 610,
            "learn": [
             0.06952155397
            ],
            "passed_time": 4.520399314,
            "remaining_time": 2.877962902
           },
           {
            "iteration": 611,
            "learn": [
             0.06942324978
            ],
            "passed_time": 4.526491869,
            "remaining_time": 2.869736675
           },
           {
            "iteration": 612,
            "learn": [
             0.06931862477
            ],
            "passed_time": 4.532946828,
            "remaining_time": 2.861746203
           },
           {
            "iteration": 613,
            "learn": [
             0.06924804744
            ],
            "passed_time": 4.539885778,
            "remaining_time": 2.854065
           },
           {
            "iteration": 614,
            "learn": [
             0.0691252493
            ],
            "passed_time": 4.546066665,
            "remaining_time": 2.845911652
           },
           {
            "iteration": 615,
            "learn": [
             0.06901741887
            ],
            "passed_time": 4.552911632,
            "remaining_time": 2.83817868
           },
           {
            "iteration": 616,
            "learn": [
             0.06889861794
            ],
            "passed_time": 4.558729253,
            "remaining_time": 2.829810865
           },
           {
            "iteration": 617,
            "learn": [
             0.06877618888
            ],
            "passed_time": 4.565692572,
            "remaining_time": 2.822159486
           },
           {
            "iteration": 618,
            "learn": [
             0.06866301469
            ],
            "passed_time": 4.577488822,
            "remaining_time": 2.817485042
           },
           {
            "iteration": 619,
            "learn": [
             0.06852164932
            ],
            "passed_time": 4.583237847,
            "remaining_time": 2.809081261
           },
           {
            "iteration": 620,
            "learn": [
             0.06838927833
            ],
            "passed_time": 4.592188676,
            "remaining_time": 2.80264011
           },
           {
            "iteration": 621,
            "learn": [
             0.06823243767
            ],
            "passed_time": 4.600308485,
            "remaining_time": 2.795685864
           },
           {
            "iteration": 622,
            "learn": [
             0.06810013813
            ],
            "passed_time": 4.607526138,
            "remaining_time": 2.788181948
           },
           {
            "iteration": 623,
            "learn": [
             0.0679482882
            ],
            "passed_time": 4.614605553,
            "remaining_time": 2.780595654
           },
           {
            "iteration": 624,
            "learn": [
             0.06785502088
            ],
            "passed_time": 4.621646386,
            "remaining_time": 2.772987831
           },
           {
            "iteration": 625,
            "learn": [
             0.06773394622
            ],
            "passed_time": 4.628165886,
            "remaining_time": 2.765070354
           },
           {
            "iteration": 626,
            "learn": [
             0.06760032115
            ],
            "passed_time": 4.634914663,
            "remaining_time": 2.757293731
           },
           {
            "iteration": 627,
            "learn": [
             0.06748761258
            ],
            "passed_time": 4.641845333,
            "remaining_time": 2.749628127
           },
           {
            "iteration": 628,
            "learn": [
             0.06736488592
            ],
            "passed_time": 4.648930323,
            "remaining_time": 2.742055882
           },
           {
            "iteration": 629,
            "learn": [
             0.06717006994
            ],
            "passed_time": 4.655598362,
            "remaining_time": 2.734240308
           },
           {
            "iteration": 630,
            "learn": [
             0.06701470946
            ],
            "passed_time": 4.661409228,
            "remaining_time": 2.725927108
           },
           {
            "iteration": 631,
            "learn": [
             0.06691691924
            ],
            "passed_time": 4.66897002,
            "remaining_time": 2.718640771
           },
           {
            "iteration": 632,
            "learn": [
             0.06676980696
            ],
            "passed_time": 4.675440468,
            "remaining_time": 2.710721409
           },
           {
            "iteration": 633,
            "learn": [
             0.06664562606
            ],
            "passed_time": 4.68269845,
            "remaining_time": 2.70326125
           },
           {
            "iteration": 634,
            "learn": [
             0.06656338246
            ],
            "passed_time": 4.689984949,
            "remaining_time": 2.69581812
           },
           {
            "iteration": 635,
            "learn": [
             0.06640200737
            ],
            "passed_time": 4.697281111,
            "remaining_time": 2.688381013
           },
           {
            "iteration": 636,
            "learn": [
             0.06624953592
            ],
            "passed_time": 4.704435696,
            "remaining_time": 2.68086367
           },
           {
            "iteration": 637,
            "learn": [
             0.06611095622
            ],
            "passed_time": 4.710803057,
            "remaining_time": 2.672900794
           },
           {
            "iteration": 638,
            "learn": [
             0.06598940822
            ],
            "passed_time": 4.717858583,
            "remaining_time": 2.665331688
           },
           {
            "iteration": 639,
            "learn": [
             0.06585396827
            ],
            "passed_time": 4.724023793,
            "remaining_time": 2.657263384
           },
           {
            "iteration": 640,
            "learn": [
             0.06578232946
            ],
            "passed_time": 4.730890878,
            "remaining_time": 2.649594111
           },
           {
            "iteration": 641,
            "learn": [
             0.0656886743
            ],
            "passed_time": 4.736374204,
            "remaining_time": 2.641155709
           },
           {
            "iteration": 642,
            "learn": [
             0.06552811893
            ],
            "passed_time": 4.742426128,
            "remaining_time": 2.633042189
           },
           {
            "iteration": 643,
            "learn": [
             0.06537148136
            ],
            "passed_time": 4.750022957,
            "remaining_time": 2.625789088
           },
           {
            "iteration": 644,
            "learn": [
             0.06520468147
            ],
            "passed_time": 4.757175928,
            "remaining_time": 2.618290627
           },
           {
            "iteration": 645,
            "learn": [
             0.0650690182
            ],
            "passed_time": 4.764235356,
            "remaining_time": 2.610741975
           },
           {
            "iteration": 646,
            "learn": [
             0.06493472723
            ],
            "passed_time": 4.775951985,
            "remaining_time": 2.605735782
           },
           {
            "iteration": 647,
            "learn": [
             0.06476365366
            ],
            "passed_time": 4.783299566,
            "remaining_time": 2.598335566
           },
           {
            "iteration": 648,
            "learn": [
             0.06466735863
            ],
            "passed_time": 4.789471737,
            "remaining_time": 2.590299814
           },
           {
            "iteration": 649,
            "learn": [
             0.06458893305
            ],
            "passed_time": 4.795037469,
            "remaining_time": 2.581943253
           },
           {
            "iteration": 650,
            "learn": [
             0.06447758702
            ],
            "passed_time": 4.801897329,
            "remaining_time": 2.574289044
           },
           {
            "iteration": 651,
            "learn": [
             0.06428088516
            ],
            "passed_time": 4.808118583,
            "remaining_time": 2.566296421
           },
           {
            "iteration": 652,
            "learn": [
             0.0641162013
            ],
            "passed_time": 4.815036674,
            "remaining_time": 2.558679519
           },
           {
            "iteration": 653,
            "learn": [
             0.06401106282
            ],
            "passed_time": 4.820769011,
            "remaining_time": 2.550437428
           },
           {
            "iteration": 654,
            "learn": [
             0.0639230309
            ],
            "passed_time": 4.829546268,
            "remaining_time": 2.543806813
           },
           {
            "iteration": 655,
            "learn": [
             0.06378974467
            ],
            "passed_time": 4.836252223,
            "remaining_time": 2.536083483
           },
           {
            "iteration": 656,
            "learn": [
             0.06367694818
            ],
            "passed_time": 4.842876603,
            "remaining_time": 2.528320662
           },
           {
            "iteration": 657,
            "learn": [
             0.06353984095
            ],
            "passed_time": 4.849722257,
            "remaining_time": 2.52067631
           },
           {
            "iteration": 658,
            "learn": [
             0.06339112764
            ],
            "passed_time": 4.880322001,
            "remaining_time": 2.525325952
           },
           {
            "iteration": 659,
            "learn": [
             0.06321016245
            ],
            "passed_time": 4.896428053,
            "remaining_time": 2.52240233
           },
           {
            "iteration": 660,
            "learn": [
             0.06309053735
            ],
            "passed_time": 4.908020028,
            "remaining_time": 2.517123736
           },
           {
            "iteration": 661,
            "learn": [
             0.06298258867
            ],
            "passed_time": 4.915034706,
            "remaining_time": 2.509489019
           },
           {
            "iteration": 662,
            "learn": [
             0.06281164388
            ],
            "passed_time": 4.922072326,
            "remaining_time": 2.501867834
           },
           {
            "iteration": 663,
            "learn": [
             0.06262276743
            ],
            "passed_time": 4.927586746,
            "remaining_time": 2.49347763
           },
           {
            "iteration": 664,
            "learn": [
             0.06250569564
            ],
            "passed_time": 4.93368867,
            "remaining_time": 2.485392037
           },
           {
            "iteration": 665,
            "learn": [
             0.06239734997
            ],
            "passed_time": 4.940172165,
            "remaining_time": 2.477503758
           },
           {
            "iteration": 666,
            "learn": [
             0.06222434049
            ],
            "passed_time": 4.947659509,
            "remaining_time": 2.470120864
           },
           {
            "iteration": 667,
            "learn": [
             0.0620851553
            ],
            "passed_time": 4.954209214,
            "remaining_time": 2.462271646
           },
           {
            "iteration": 668,
            "learn": [
             0.06194649006
            ],
            "passed_time": 4.960396002,
            "remaining_time": 2.454246751
           },
           {
            "iteration": 669,
            "learn": [
             0.06184919669
            ],
            "passed_time": 4.971889266,
            "remaining_time": 2.448840982
           },
           {
            "iteration": 670,
            "learn": [
             0.06173594789
            ],
            "passed_time": 4.978149246,
            "remaining_time": 2.440851121
           },
           {
            "iteration": 671,
            "learn": [
             0.06158766325
            ],
            "passed_time": 4.984569757,
            "remaining_time": 2.432944762
           },
           {
            "iteration": 672,
            "learn": [
             0.06152012076
            ],
            "passed_time": 4.992969296,
            "remaining_time": 2.426004398
           },
           {
            "iteration": 673,
            "learn": [
             0.06138748326
            ],
            "passed_time": 4.998539889,
            "remaining_time": 2.4176914
           },
           {
            "iteration": 674,
            "learn": [
             0.06124041466
            ],
            "passed_time": 5.004782129,
            "remaining_time": 2.409709914
           },
           {
            "iteration": 675,
            "learn": [
             0.06112725662
            ],
            "passed_time": 5.011721292,
            "remaining_time": 2.402067601
           },
           {
            "iteration": 676,
            "learn": [
             0.06104508129
            ],
            "passed_time": 5.017611426,
            "remaining_time": 2.393926869
           },
           {
            "iteration": 677,
            "learn": [
             0.06089543461
            ],
            "passed_time": 5.02454521,
            "remaining_time": 2.386288433
           },
           {
            "iteration": 678,
            "learn": [
             0.06077297249
            ],
            "passed_time": 5.030979562,
            "remaining_time": 2.378415964
           },
           {
            "iteration": 679,
            "learn": [
             0.06063889377
            ],
            "passed_time": 5.037585439,
            "remaining_time": 2.370628442
           },
           {
            "iteration": 680,
            "learn": [
             0.0605577778
            ],
            "passed_time": 5.044252349,
            "remaining_time": 2.36287298
           },
           {
            "iteration": 681,
            "learn": [
             0.06047153068
            ],
            "passed_time": 5.051319776,
            "remaining_time": 2.355307461
           },
           {
            "iteration": 682,
            "learn": [
             0.06036613623
            ],
            "passed_time": 5.058230589,
            "remaining_time": 2.347670713
           },
           {
            "iteration": 683,
            "learn": [
             0.06027045382
            ],
            "passed_time": 5.063958992,
            "remaining_time": 2.339489827
           },
           {
            "iteration": 684,
            "learn": [
             0.06015130217
            ],
            "passed_time": 5.069839866,
            "remaining_time": 2.331386216
           },
           {
            "iteration": 685,
            "learn": [
             0.06006790562
            ],
            "passed_time": 5.076734494,
            "remaining_time": 2.323753107
           },
           {
            "iteration": 686,
            "learn": [
             0.05998445325
            ],
            "passed_time": 5.084213605,
            "remaining_time": 2.31638844
           },
           {
            "iteration": 687,
            "learn": [
             0.05988505954
            ],
            "passed_time": 5.091575489,
            "remaining_time": 2.30897028
           },
           {
            "iteration": 688,
            "learn": [
             0.05977115257
            ],
            "passed_time": 5.098429734,
            "remaining_time": 2.301323146
           },
           {
            "iteration": 689,
            "learn": [
             0.05966246571
            ],
            "passed_time": 5.105023975,
            "remaining_time": 2.293561496
           },
           {
            "iteration": 690,
            "learn": [
             0.05951605454
            ],
            "passed_time": 5.117738824,
            "remaining_time": 2.288540227
           },
           {
            "iteration": 691,
            "learn": [
             0.05942393321
            ],
            "passed_time": 5.12354651,
            "remaining_time": 2.280422435
           },
           {
            "iteration": 692,
            "learn": [
             0.05930578977
            ],
            "passed_time": 5.130431792,
            "remaining_time": 2.272788687
           },
           {
            "iteration": 693,
            "learn": [
             0.05917558518
            ],
            "passed_time": 5.141950547,
            "remaining_time": 2.267200097
           },
           {
            "iteration": 694,
            "learn": [
             0.05905532191
            ],
            "passed_time": 5.151624744,
            "remaining_time": 2.26078496
           },
           {
            "iteration": 695,
            "learn": [
             0.05900046165
            ],
            "passed_time": 5.159142254,
            "remaining_time": 2.253418456
           },
           {
            "iteration": 696,
            "learn": [
             0.05888060495
            ],
            "passed_time": 5.171955367,
            "remaining_time": 2.248353625
           },
           {
            "iteration": 697,
            "learn": [
             0.0587573649
            ],
            "passed_time": 5.18496948,
            "remaining_time": 2.243353557
           },
           {
            "iteration": 698,
            "learn": [
             0.05865788674
            ],
            "passed_time": 5.191462932,
            "remaining_time": 2.235522665
           },
           {
            "iteration": 699,
            "learn": [
             0.05857665755
            ],
            "passed_time": 5.197707189,
            "remaining_time": 2.227588795
           },
           {
            "iteration": 700,
            "learn": [
             0.05845582458
            ],
            "passed_time": 5.20505333,
            "remaining_time": 2.220129737
           },
           {
            "iteration": 701,
            "learn": [
             0.05838516354
            ],
            "passed_time": 5.212030756,
            "remaining_time": 2.212514481
           },
           {
            "iteration": 702,
            "learn": [
             0.05829671302
            ],
            "passed_time": 5.219791892,
            "remaining_time": 2.205232136
           },
           {
            "iteration": 703,
            "learn": [
             0.0582101458
            ],
            "passed_time": 5.22727086,
            "remaining_time": 2.197829794
           },
           {
            "iteration": 704,
            "learn": [
             0.05811273633
            ],
            "passed_time": 5.233739852,
            "remaining_time": 2.190004619
           },
           {
            "iteration": 705,
            "learn": [
             0.05802606335
            ],
            "passed_time": 5.241383687,
            "remaining_time": 2.182672527
           },
           {
            "iteration": 706,
            "learn": [
             0.05794681171
            ],
            "passed_time": 5.2487986,
            "remaining_time": 2.175244682
           },
           {
            "iteration": 707,
            "learn": [
             0.05787451868
            ],
            "passed_time": 5.256073135,
            "remaining_time": 2.167758977
           },
           {
            "iteration": 708,
            "learn": [
             0.0577843895
            ],
            "passed_time": 5.263787693,
            "remaining_time": 2.160454469
           },
           {
            "iteration": 709,
            "learn": [
             0.05765024777
            ],
            "passed_time": 5.270045548,
            "remaining_time": 2.152553815
           },
           {
            "iteration": 710,
            "learn": [
             0.05755833968
            ],
            "passed_time": 5.277790025,
            "remaining_time": 2.14526205
           },
           {
            "iteration": 711,
            "learn": [
             0.05747501259
            ],
            "passed_time": 5.285346175,
            "remaining_time": 2.137892835
           },
           {
            "iteration": 712,
            "learn": [
             0.05743469121
            ],
            "passed_time": 5.292806834,
            "remaining_time": 2.130484658
           },
           {
            "iteration": 713,
            "learn": [
             0.05732713536
            ],
            "passed_time": 5.300293059,
            "remaining_time": 2.123086575
           },
           {
            "iteration": 714,
            "learn": [
             0.05726471962
            ],
            "passed_time": 5.306529118,
            "remaining_time": 2.115189928
           },
           {
            "iteration": 715,
            "learn": [
             0.05716039126
            ],
            "passed_time": 5.313535897,
            "remaining_time": 2.107603624
           },
           {
            "iteration": 716,
            "learn": [
             0.05703046967
            ],
            "passed_time": 5.320789305,
            "remaining_time": 2.100116281
           },
           {
            "iteration": 717,
            "learn": [
             0.05689970234
            ],
            "passed_time": 5.328721194,
            "remaining_time": 2.092896068
           },
           {
            "iteration": 718,
            "learn": [
             0.05678535922
            ],
            "passed_time": 5.335809664,
            "remaining_time": 2.08534425
           },
           {
            "iteration": 719,
            "learn": [
             0.05671484054
            ],
            "passed_time": 5.343185563,
            "remaining_time": 2.077905497
           },
           {
            "iteration": 720,
            "learn": [
             0.05665650399
            ],
            "passed_time": 5.351117186,
            "remaining_time": 2.070681963
           },
           {
            "iteration": 721,
            "learn": [
             0.05652653897
            ],
            "passed_time": 5.358327511,
            "remaining_time": 2.063178737
           },
           {
            "iteration": 722,
            "learn": [
             0.05640518229
            ],
            "passed_time": 5.364745697,
            "remaining_time": 2.055372833
           },
           {
            "iteration": 723,
            "learn": [
             0.05630441602
            ],
            "passed_time": 5.376365493,
            "remaining_time": 2.049553696
           },
           {
            "iteration": 724,
            "learn": [
             0.05623593057
            ],
            "passed_time": 5.383671886,
            "remaining_time": 2.042082439
           },
           {
            "iteration": 725,
            "learn": [
             0.05616188403
            ],
            "passed_time": 5.389984315,
            "remaining_time": 2.034236505
           },
           {
            "iteration": 726,
            "learn": [
             0.05609177777
            ],
            "passed_time": 5.396308952,
            "remaining_time": 2.026399372
           },
           {
            "iteration": 727,
            "learn": [
             0.05599591397
            ],
            "passed_time": 5.402897519,
            "remaining_time": 2.018665007
           },
           {
            "iteration": 728,
            "learn": [
             0.05596115023
            ],
            "passed_time": 5.409068486,
            "remaining_time": 2.010778546
           },
           {
            "iteration": 729,
            "learn": [
             0.05588793642
            ],
            "passed_time": 5.419740294,
            "remaining_time": 2.004561479
           },
           {
            "iteration": 730,
            "learn": [
             0.05577260571
            ],
            "passed_time": 5.42630988,
            "remaining_time": 1.996822651
           },
           {
            "iteration": 731,
            "learn": [
             0.05565874655
            ],
            "passed_time": 5.433730015,
            "remaining_time": 1.989398421
           },
           {
            "iteration": 732,
            "learn": [
             0.05560292512
            ],
            "passed_time": 5.440487433,
            "remaining_time": 1.981732803
           },
           {
            "iteration": 733,
            "learn": [
             0.05547634424
            ],
            "passed_time": 5.447719443,
            "remaining_time": 1.974241651
           },
           {
            "iteration": 734,
            "learn": [
             0.05539754605
            ],
            "passed_time": 5.453966344,
            "remaining_time": 1.966396029
           },
           {
            "iteration": 735,
            "learn": [
             0.05528375856
            ],
            "passed_time": 5.460020147,
            "remaining_time": 1.958485487
           },
           {
            "iteration": 736,
            "learn": [
             0.05520436327
            ],
            "passed_time": 5.466694546,
            "remaining_time": 1.950801446
           },
           {
            "iteration": 737,
            "learn": [
             0.05511544862
            ],
            "passed_time": 5.472992012,
            "remaining_time": 1.942986324
           },
           {
            "iteration": 738,
            "learn": [
             0.05499650867
            ],
            "passed_time": 5.479525578,
            "remaining_time": 1.935258696
           },
           {
            "iteration": 739,
            "learn": [
             0.05493334207
            ],
            "passed_time": 5.485510239,
            "remaining_time": 1.927341435
           },
           {
            "iteration": 740,
            "learn": [
             0.05483631968
            ],
            "passed_time": 5.492463087,
            "remaining_time": 1.9197678
           },
           {
            "iteration": 741,
            "learn": [
             0.05474924868
            ],
            "passed_time": 5.499030587,
            "remaining_time": 1.912061848
           },
           {
            "iteration": 742,
            "learn": [
             0.05463947605
            ],
            "passed_time": 5.505710506,
            "remaining_time": 1.904397847
           },
           {
            "iteration": 743,
            "learn": [
             0.05456152142
            ],
            "passed_time": 5.512288685,
            "remaining_time": 1.896701483
           },
           {
            "iteration": 744,
            "learn": [
             0.0544717943
            ],
            "passed_time": 5.520614185,
            "remaining_time": 1.889606198
           },
           {
            "iteration": 745,
            "learn": [
             0.05437606447
            ],
            "passed_time": 5.527698485,
            "remaining_time": 1.882085007
           },
           {
            "iteration": 746,
            "learn": [
             0.05425454412
            ],
            "passed_time": 5.534705657,
            "remaining_time": 1.874538864
           },
           {
            "iteration": 747,
            "learn": [
             0.05411930346
            ],
            "passed_time": 5.54208105,
            "remaining_time": 1.867118215
           },
           {
            "iteration": 748,
            "learn": [
             0.05401146424
            ],
            "passed_time": 5.548940833,
            "remaining_time": 1.859524899
           },
           {
            "iteration": 749,
            "learn": [
             0.05393344987
            ],
            "passed_time": 5.554638768,
            "remaining_time": 1.851546256
           },
           {
            "iteration": 750,
            "learn": [
             0.05387069102
            ],
            "passed_time": 5.561033299,
            "remaining_time": 1.843804649
           },
           {
            "iteration": 751,
            "learn": [
             0.05379617246
            ],
            "passed_time": 5.56796063,
            "remaining_time": 1.836242335
           },
           {
            "iteration": 752,
            "learn": [
             0.05371990706
            ],
            "passed_time": 5.577639555,
            "remaining_time": 1.82958429
           },
           {
            "iteration": 753,
            "learn": [
             0.05363172224
            ],
            "passed_time": 5.584386631,
            "remaining_time": 1.821961686
           },
           {
            "iteration": 754,
            "learn": [
             0.05352774771
            ],
            "passed_time": 5.592212377,
            "remaining_time": 1.814691433
           },
           {
            "iteration": 755,
            "learn": [
             0.05344333593
            ],
            "passed_time": 5.598120051,
            "remaining_time": 1.806800651
           },
           {
            "iteration": 756,
            "learn": [
             0.05333064337
            ],
            "passed_time": 5.605050819,
            "remaining_time": 1.799243526
           },
           {
            "iteration": 757,
            "learn": [
             0.0532423571
            ],
            "passed_time": 5.611727066,
            "remaining_time": 1.791606794
           },
           {
            "iteration": 758,
            "learn": [
             0.05314246783
            ],
            "passed_time": 5.618812581,
            "remaining_time": 1.784102545
           },
           {
            "iteration": 759,
            "learn": [
             0.05306252414
            ],
            "passed_time": 5.625989695,
            "remaining_time": 1.776628325
           },
           {
            "iteration": 760,
            "learn": [
             0.05297202834
            ],
            "passed_time": 5.633484874,
            "remaining_time": 1.769254776
           },
           {
            "iteration": 761,
            "learn": [
             0.05291199147
            ],
            "passed_time": 5.640900038,
            "remaining_time": 1.761855917
           },
           {
            "iteration": 762,
            "learn": [
             0.05282549204
            ],
            "passed_time": 5.647828962,
            "remaining_time": 1.754305982
           },
           {
            "iteration": 763,
            "learn": [
             0.0527305901
            ],
            "passed_time": 5.657696607,
            "remaining_time": 1.747665444
           },
           {
            "iteration": 764,
            "learn": [
             0.0526488678
            ],
            "passed_time": 5.664505809,
            "remaining_time": 1.740076948
           },
           {
            "iteration": 765,
            "learn": [
             0.05257065089
            ],
            "passed_time": 5.673212352,
            "remaining_time": 1.733070092
           },
           {
            "iteration": 766,
            "learn": [
             0.05246089597
            ],
            "passed_time": 5.681900325,
            "remaining_time": 1.726053163
           },
           {
            "iteration": 767,
            "learn": [
             0.05239053994
            ],
            "passed_time": 5.688576048,
            "remaining_time": 1.718424014
           },
           {
            "iteration": 768,
            "learn": [
             0.0522932207
            ],
            "passed_time": 5.695167147,
            "remaining_time": 1.710771926
           },
           {
            "iteration": 769,
            "learn": [
             0.05221117317
            ],
            "passed_time": 5.701659441,
            "remaining_time": 1.70309308
           },
           {
            "iteration": 770,
            "learn": [
             0.05212944495
            ],
            "passed_time": 5.708802295,
            "remaining_time": 1.695610539
           },
           {
            "iteration": 771,
            "learn": [
             0.05204646686
            ],
            "passed_time": 5.715520401,
            "remaining_time": 1.688003434
           },
           {
            "iteration": 772,
            "learn": [
             0.05195670667
            ],
            "passed_time": 5.722780415,
            "remaining_time": 1.680557767
           },
           {
            "iteration": 773,
            "learn": [
             0.05189079066
            ],
            "passed_time": 5.728749329,
            "remaining_time": 1.672735592
           },
           {
            "iteration": 774,
            "learn": [
             0.05181763788
            ],
            "passed_time": 5.73610781,
            "remaining_time": 1.665321622
           },
           {
            "iteration": 775,
            "learn": [
             0.05174874113
            ],
            "passed_time": 5.743117139,
            "remaining_time": 1.657807009
           },
           {
            "iteration": 776,
            "learn": [
             0.05166193413
            ],
            "passed_time": 5.74943137,
            "remaining_time": 1.650094203
           },
           {
            "iteration": 777,
            "learn": [
             0.05159890755
            ],
            "passed_time": 5.756033632,
            "remaining_time": 1.64246718
           },
           {
            "iteration": 778,
            "learn": [
             0.0515499008
            ],
            "passed_time": 5.769093641,
            "remaining_time": 1.636674833
           },
           {
            "iteration": 779,
            "learn": [
             0.05145985367
            ],
            "passed_time": 5.778346486,
            "remaining_time": 1.629790035
           },
           {
            "iteration": 780,
            "learn": [
             0.05141008733
            ],
            "passed_time": 5.785480984,
            "remaining_time": 1.622305167
           },
           {
            "iteration": 781,
            "learn": [
             0.05131407774
            ],
            "passed_time": 5.793069631,
            "remaining_time": 1.6149478
           },
           {
            "iteration": 782,
            "learn": [
             0.05122662853
            ],
            "passed_time": 5.799013604,
            "remaining_time": 1.607134039
           },
           {
            "iteration": 783,
            "learn": [
             0.0511714203
            ],
            "passed_time": 5.80678019,
            "remaining_time": 1.599827195
           },
           {
            "iteration": 784,
            "learn": [
             0.05110005094
            ],
            "passed_time": 5.814005199,
            "remaining_time": 1.592370851
           },
           {
            "iteration": 785,
            "learn": [
             0.05103264944
            ],
            "passed_time": 5.820759146,
            "remaining_time": 1.584786841
           },
           {
            "iteration": 786,
            "learn": [
             0.05096601106
            ],
            "passed_time": 5.828201827,
            "remaining_time": 1.577391346
           },
           {
            "iteration": 787,
            "learn": [
             0.05089454219
            ],
            "passed_time": 5.852928314,
            "remaining_time": 1.574645689
           },
           {
            "iteration": 788,
            "learn": [
             0.05082887831
            ],
            "passed_time": 5.86482783,
            "remaining_time": 1.568414033
           },
           {
            "iteration": 789,
            "learn": [
             0.05074256769
            ],
            "passed_time": 5.873639069,
            "remaining_time": 1.561347094
           },
           {
            "iteration": 790,
            "learn": [
             0.05067054048
            ],
            "passed_time": 5.891888484,
            "remaining_time": 1.556769524
           },
           {
            "iteration": 791,
            "learn": [
             0.05059223649
            ],
            "passed_time": 5.899396932,
            "remaining_time": 1.549336568
           },
           {
            "iteration": 792,
            "learn": [
             0.05053803191
            ],
            "passed_time": 5.906285869,
            "remaining_time": 1.541741709
           },
           {
            "iteration": 793,
            "learn": [
             0.0504852879
            ],
            "passed_time": 5.91183156,
            "remaining_time": 1.533800128
           },
           {
            "iteration": 794,
            "learn": [
             0.05038773293
            ],
            "passed_time": 5.919835795,
            "remaining_time": 1.526498538
           },
           {
            "iteration": 795,
            "learn": [
             0.05032839396
            ],
            "passed_time": 5.926958009,
            "remaining_time": 1.518969138
           },
           {
            "iteration": 796,
            "learn": [
             0.05025725258
            ],
            "passed_time": 5.934399205,
            "remaining_time": 1.511522006
           },
           {
            "iteration": 797,
            "learn": [
             0.05016594058
            ],
            "passed_time": 5.942145244,
            "remaining_time": 1.504152054
           },
           {
            "iteration": 798,
            "learn": [
             0.05012184908
            ],
            "passed_time": 5.949096185,
            "remaining_time": 1.496581143
           },
           {
            "iteration": 799,
            "learn": [
             0.05005857878
            ],
            "passed_time": 5.955165457,
            "remaining_time": 1.488791364
           },
           {
            "iteration": 800,
            "learn": [
             0.04999102631
            ],
            "passed_time": 5.968106619,
            "remaining_time": 1.48271313
           },
           {
            "iteration": 801,
            "learn": [
             0.04991445927
            ],
            "passed_time": 5.975677083,
            "remaining_time": 1.475291848
           },
           {
            "iteration": 802,
            "learn": [
             0.04982103807
            ],
            "passed_time": 5.982147854,
            "remaining_time": 1.467600407
           },
           {
            "iteration": 803,
            "learn": [
             0.04975867927
            ],
            "passed_time": 5.992908789,
            "remaining_time": 1.460957864
           },
           {
            "iteration": 804,
            "learn": [
             0.04970297183
            ],
            "passed_time": 6.002246032,
            "remaining_time": 1.453960219
           },
           {
            "iteration": 805,
            "learn": [
             0.04961885313
            ],
            "passed_time": 6.009349786,
            "remaining_time": 1.446419179
           },
           {
            "iteration": 806,
            "learn": [
             0.04948828111
            ],
            "passed_time": 6.016325205,
            "remaining_time": 1.438848531
           },
           {
            "iteration": 807,
            "learn": [
             0.04938555145
            ],
            "passed_time": 6.023470374,
            "remaining_time": 1.431319693
           },
           {
            "iteration": 808,
            "learn": [
             0.04928783083
            ],
            "passed_time": 6.030192973,
            "remaining_time": 1.423692037
           },
           {
            "iteration": 809,
            "learn": [
             0.04920255093
            ],
            "passed_time": 6.037185987,
            "remaining_time": 1.416130046
           },
           {
            "iteration": 810,
            "learn": [
             0.04912605884
            ],
            "passed_time": 6.042415369,
            "remaining_time": 1.408158452
           },
           {
            "iteration": 811,
            "learn": [
             0.0490677378
            ],
            "passed_time": 6.049887393,
            "remaining_time": 1.400712845
           },
           {
            "iteration": 812,
            "learn": [
             0.04902134229
            ],
            "passed_time": 6.055597054,
            "remaining_time": 1.392861807
           },
           {
            "iteration": 813,
            "learn": [
             0.04895214878
            ],
            "passed_time": 6.063207593,
            "remaining_time": 1.385450384
           },
           {
            "iteration": 814,
            "learn": [
             0.0489091855
            ],
            "passed_time": 6.069373006,
            "remaining_time": 1.377710437
           },
           {
            "iteration": 815,
            "learn": [
             0.04883284719
            ],
            "passed_time": 6.076512304,
            "remaining_time": 1.370193951
           },
           {
            "iteration": 816,
            "learn": [
             0.04875393998
            ],
            "passed_time": 6.083213658,
            "remaining_time": 1.362580293
           },
           {
            "iteration": 817,
            "learn": [
             0.0486722571
            ],
            "passed_time": 6.090058843,
            "remaining_time": 1.355000867
           },
           {
            "iteration": 818,
            "learn": [
             0.04857852159
            ],
            "passed_time": 6.097368407,
            "remaining_time": 1.347525863
           },
           {
            "iteration": 819,
            "learn": [
             0.04851469242
            ],
            "passed_time": 6.108878867,
            "remaining_time": 1.34097341
           },
           {
            "iteration": 820,
            "learn": [
             0.04845883832
            ],
            "passed_time": 6.118002788,
            "remaining_time": 1.333888549
           },
           {
            "iteration": 821,
            "learn": [
             0.04836978865
            ],
            "passed_time": 6.125918066,
            "remaining_time": 1.326537002
           },
           {
            "iteration": 822,
            "learn": [
             0.04829452517
            ],
            "passed_time": 6.133016195,
            "remaining_time": 1.319008343
           },
           {
            "iteration": 823,
            "learn": [
             0.04820268478
            ],
            "passed_time": 6.139627689,
            "remaining_time": 1.311376788
           },
           {
            "iteration": 824,
            "learn": [
             0.04812571868
            ],
            "passed_time": 6.146109603,
            "remaining_time": 1.303720219
           },
           {
            "iteration": 825,
            "learn": [
             0.04805521106
            ],
            "passed_time": 6.153302016,
            "remaining_time": 1.296216163
           },
           {
            "iteration": 826,
            "learn": [
             0.04797148031
            ],
            "passed_time": 6.165344602,
            "remaining_time": 1.289727468
           },
           {
            "iteration": 827,
            "learn": [
             0.04788506099
            ],
            "passed_time": 6.17323533,
            "remaining_time": 1.282362895
           },
           {
            "iteration": 828,
            "learn": [
             0.04784016547
            ],
            "passed_time": 6.180049349,
            "remaining_time": 1.274774956
           },
           {
            "iteration": 829,
            "learn": [
             0.04775387955
            ],
            "passed_time": 6.187526548,
            "remaining_time": 1.267324715
           },
           {
            "iteration": 830,
            "learn": [
             0.0476594562
            ],
            "passed_time": 6.201212133,
            "remaining_time": 1.261137004
           },
           {
            "iteration": 831,
            "learn": [
             0.04760661285
            ],
            "passed_time": 6.211712219,
            "remaining_time": 1.254288044
           },
           {
            "iteration": 832,
            "learn": [
             0.04752975706
            ],
            "passed_time": 6.221838215,
            "remaining_time": 1.24735532
           },
           {
            "iteration": 833,
            "learn": [
             0.04748323405
            ],
            "passed_time": 6.233482371,
            "remaining_time": 1.240717115
           },
           {
            "iteration": 834,
            "learn": [
             0.04740715429
            ],
            "passed_time": 6.241192583,
            "remaining_time": 1.233289552
           },
           {
            "iteration": 835,
            "learn": [
             0.04730209772
            ],
            "passed_time": 6.249006977,
            "remaining_time": 1.225881751
           },
           {
            "iteration": 836,
            "learn": [
             0.0472337799
            ],
            "passed_time": 6.255126187,
            "remaining_time": 1.218142854
           },
           {
            "iteration": 837,
            "learn": [
             0.04713841572
            ],
            "passed_time": 6.261616945,
            "remaining_time": 1.210479648
           },
           {
            "iteration": 838,
            "learn": [
             0.04707868647
            ],
            "passed_time": 6.269273528,
            "remaining_time": 1.203042954
           },
           {
            "iteration": 839,
            "learn": [
             0.04702529982
            ],
            "passed_time": 6.275552159,
            "remaining_time": 1.195343268
           },
           {
            "iteration": 840,
            "learn": [
             0.04690969768
            ],
            "passed_time": 6.283781389,
            "remaining_time": 1.188015744
           },
           {
            "iteration": 841,
            "learn": [
             0.04681041818
            ],
            "passed_time": 6.290524673,
            "remaining_time": 1.180407243
           },
           {
            "iteration": 842,
            "learn": [
             0.04673992146
            ],
            "passed_time": 6.297709895,
            "remaining_time": 1.1728831
           },
           {
            "iteration": 843,
            "learn": [
             0.04669572226
            ],
            "passed_time": 6.304677208,
            "remaining_time": 1.165319484
           },
           {
            "iteration": 844,
            "learn": [
             0.04662324193
            ],
            "passed_time": 6.312456331,
            "remaining_time": 1.157906191
           },
           {
            "iteration": 845,
            "learn": [
             0.04656672605
            ],
            "passed_time": 6.319608058,
            "remaining_time": 1.150377826
           },
           {
            "iteration": 846,
            "learn": [
             0.04649662658
            ],
            "passed_time": 6.325420792,
            "remaining_time": 1.142608478
           },
           {
            "iteration": 847,
            "learn": [
             0.04642354779
            ],
            "passed_time": 6.332226917,
            "remaining_time": 1.135021806
           },
           {
            "iteration": 848,
            "learn": [
             0.04633793819
            ],
            "passed_time": 6.33858076,
            "remaining_time": 1.127356531
           },
           {
            "iteration": 849,
            "learn": [
             0.04625323885
            ],
            "passed_time": 6.345406272,
            "remaining_time": 1.119777577
           },
           {
            "iteration": 850,
            "learn": [
             0.04616349633
            ],
            "passed_time": 6.35218801,
            "remaining_time": 1.11219273
           },
           {
            "iteration": 851,
            "learn": [
             0.04611742751
            ],
            "passed_time": 6.361248925,
            "remaining_time": 1.105005682
           },
           {
            "iteration": 852,
            "learn": [
             0.04604030656
            ],
            "passed_time": 6.371836348,
            "remaining_time": 1.098077307
           },
           {
            "iteration": 853,
            "learn": [
             0.04599245732
            ],
            "passed_time": 6.379243563,
            "remaining_time": 1.090596675
           },
           {
            "iteration": 854,
            "learn": [
             0.04590575279
            ],
            "passed_time": 6.386863463,
            "remaining_time": 1.083152283
           },
           {
            "iteration": 855,
            "learn": [
             0.0458171116
            ],
            "passed_time": 6.393929531,
            "remaining_time": 1.075614314
           },
           {
            "iteration": 856,
            "learn": [
             0.04575969744
            ],
            "passed_time": 6.401549795,
            "remaining_time": 1.068169919
           },
           {
            "iteration": 857,
            "learn": [
             0.04564964059
            ],
            "passed_time": 6.408776953,
            "remaining_time": 1.060660055
           },
           {
            "iteration": 858,
            "learn": [
             0.04556267731
            ],
            "passed_time": 6.415422411,
            "remaining_time": 1.053055367
           },
           {
            "iteration": 859,
            "learn": [
             0.04551216795
            ],
            "passed_time": 6.421793839,
            "remaining_time": 1.045408299
           },
           {
            "iteration": 860,
            "learn": [
             0.04544538336
            ],
            "passed_time": 6.429502201,
            "remaining_time": 1.03798003
           },
           {
            "iteration": 861,
            "learn": [
             0.04538902028
            ],
            "passed_time": 6.436263299,
            "remaining_time": 1.030399461
           },
           {
            "iteration": 862,
            "learn": [
             0.0453415448
            ],
            "passed_time": 6.442817454,
            "remaining_time": 1.022787939
           },
           {
            "iteration": 863,
            "learn": [
             0.04530115963
            ],
            "passed_time": 6.450591668,
            "remaining_time": 1.015370911
           },
           {
            "iteration": 864,
            "learn": [
             0.04523748244
            ],
            "passed_time": 6.457656404,
            "remaining_time": 1.007842329
           },
           {
            "iteration": 865,
            "learn": [
             0.04520121154
            ],
            "passed_time": 6.464940071,
            "remaining_time": 1.000348695
           },
           {
            "iteration": 866,
            "learn": [
             0.04514389608
            ],
            "passed_time": 6.475419702,
            "remaining_time": 0.9933458135
           },
           {
            "iteration": 867,
            "learn": [
             0.04508295203
            ],
            "passed_time": 6.481937971,
            "remaining_time": 0.9857325025
           },
           {
            "iteration": 868,
            "learn": [
             0.04501041885
            ],
            "passed_time": 6.489263275,
            "remaining_time": 0.9782433706
           },
           {
            "iteration": 869,
            "learn": [
             0.04494778948
            ],
            "passed_time": 6.497245826,
            "remaining_time": 0.9708528246
           },
           {
            "iteration": 870,
            "learn": [
             0.04488025137
            ],
            "passed_time": 6.504870104,
            "remaining_time": 0.963407857
           },
           {
            "iteration": 871,
            "learn": [
             0.0448337522
            ],
            "passed_time": 6.515735471,
            "remaining_time": 0.9564382343
           },
           {
            "iteration": 872,
            "learn": [
             0.04477981409
            ],
            "passed_time": 6.523048585,
            "remaining_time": 0.9489429213
           },
           {
            "iteration": 873,
            "learn": [
             0.04470906211
            ],
            "passed_time": 6.530046723,
            "remaining_time": 0.9414026168
           },
           {
            "iteration": 874,
            "learn": [
             0.04465048942
            ],
            "passed_time": 6.537277883,
            "remaining_time": 0.9338968404
           },
           {
            "iteration": 875,
            "learn": [
             0.04459468637
            ],
            "passed_time": 6.544122148,
            "remaining_time": 0.9263369251
           },
           {
            "iteration": 876,
            "learn": [
             0.04452553335
            ],
            "passed_time": 6.551960245,
            "remaining_time": 0.9189180275
           },
           {
            "iteration": 877,
            "learn": [
             0.04450162667
            ],
            "passed_time": 6.560428582,
            "remaining_time": 0.9115857482
           },
           {
            "iteration": 878,
            "learn": [
             0.04443370644
            ],
            "passed_time": 6.569948026,
            "remaining_time": 0.9043955759
           },
           {
            "iteration": 879,
            "learn": [
             0.0443784396
            ],
            "passed_time": 6.576902615,
            "remaining_time": 0.8968503566
           },
           {
            "iteration": 880,
            "learn": [
             0.04430006236
            ],
            "passed_time": 6.584070947,
            "remaining_time": 0.8893353493
           },
           {
            "iteration": 881,
            "learn": [
             0.04424032276
            ],
            "passed_time": 6.591109836,
            "remaining_time": 0.8818038102
           },
           {
            "iteration": 882,
            "learn": [
             0.04418796665
            ],
            "passed_time": 6.598206055,
            "remaining_time": 0.8742809834
           },
           {
            "iteration": 883,
            "learn": [
             0.04414547089
            ],
            "passed_time": 6.604587867,
            "remaining_time": 0.8666653762
           },
           {
            "iteration": 884,
            "learn": [
             0.04410142567
            ],
            "passed_time": 6.611714385,
            "remaining_time": 0.8591493269
           },
           {
            "iteration": 885,
            "learn": [
             0.0440417154
            ],
            "passed_time": 6.618291907,
            "remaining_time": 0.8515635185
           },
           {
            "iteration": 886,
            "learn": [
             0.04397125229
            ],
            "passed_time": 6.625215338,
            "remaining_time": 0.8440240509
           },
           {
            "iteration": 887,
            "learn": [
             0.04390051525
            ],
            "passed_time": 6.632473182,
            "remaining_time": 0.8365281491
           },
           {
            "iteration": 888,
            "learn": [
             0.04385407568
            ],
            "passed_time": 6.639189137,
            "remaining_time": 0.8289651229
           },
           {
            "iteration": 889,
            "learn": [
             0.04380215352
            ],
            "passed_time": 6.645699486,
            "remaining_time": 0.8213785881
           },
           {
            "iteration": 890,
            "learn": [
             0.04372295635
            ],
            "passed_time": 6.651922429,
            "remaining_time": 0.8137593095
           },
           {
            "iteration": 891,
            "learn": [
             0.04365760755
            ],
            "passed_time": 6.659237068,
            "remaining_time": 0.8062753401
           },
           {
            "iteration": 892,
            "learn": [
             0.04360172426
            ],
            "passed_time": 6.66644438,
            "remaining_time": 0.7987788899
           },
           {
            "iteration": 893,
            "learn": [
             0.04353539504
            ],
            "passed_time": 6.673195551,
            "remaining_time": 0.7912290027
           },
           {
            "iteration": 894,
            "learn": [
             0.04350427618
            ],
            "passed_time": 6.680003821,
            "remaining_time": 0.7836875991
           },
           {
            "iteration": 895,
            "learn": [
             0.04346140551
            ],
            "passed_time": 6.687439486,
            "remaining_time": 0.7762206546
           },
           {
            "iteration": 896,
            "learn": [
             0.04339301648
            ],
            "passed_time": 6.694129999,
            "remaining_time": 0.7686682161
           },
           {
            "iteration": 897,
            "learn": [
             0.04333708534
            ],
            "passed_time": 6.701328615,
            "remaining_time": 0.7611754106
           },
           {
            "iteration": 898,
            "learn": [
             0.04328194282
            ],
            "passed_time": 6.708297325,
            "remaining_time": 0.7536574303
           },
           {
            "iteration": 899,
            "learn": [
             0.04320879865
            ],
            "passed_time": 6.715286087,
            "remaining_time": 0.7461428985
           },
           {
            "iteration": 900,
            "learn": [
             0.04315530844
            ],
            "passed_time": 6.723491415,
            "remaining_time": 0.7387632076
           },
           {
            "iteration": 901,
            "learn": [
             0.04308528364
            ],
            "passed_time": 6.733225911,
            "remaining_time": 0.7315478262
           },
           {
            "iteration": 902,
            "learn": [
             0.04303610412
            ],
            "passed_time": 6.74122791,
            "remaining_time": 0.7241407611
           },
           {
            "iteration": 903,
            "learn": [
             0.04299667736
            ],
            "passed_time": 6.748039209,
            "remaining_time": 0.7166059337
           },
           {
            "iteration": 904,
            "learn": [
             0.04291756923
            ],
            "passed_time": 6.760002052,
            "remaining_time": 0.7096134751
           },
           {
            "iteration": 905,
            "learn": [
             0.04284919183
            ],
            "passed_time": 6.767183772,
            "remaining_time": 0.7021139896
           },
           {
            "iteration": 906,
            "learn": [
             0.04279630567
            ],
            "passed_time": 6.774117635,
            "remaining_time": 0.6945897906
           },
           {
            "iteration": 907,
            "learn": [
             0.0427306144
            ],
            "passed_time": 6.781020525,
            "remaining_time": 0.6870637536
           },
           {
            "iteration": 908,
            "learn": [
             0.04269369554
            ],
            "passed_time": 6.786912683,
            "remaining_time": 0.6794379034
           },
           {
            "iteration": 909,
            "learn": [
             0.0426158975
            ],
            "passed_time": 6.794543366,
            "remaining_time": 0.6719878054
           },
           {
            "iteration": 910,
            "learn": [
             0.0425603603
            ],
            "passed_time": 6.801007049,
            "remaining_time": 0.6644233012
           },
           {
            "iteration": 911,
            "learn": [
             0.04252825198
            ],
            "passed_time": 6.806422039,
            "remaining_time": 0.6567600213
           },
           {
            "iteration": 912,
            "learn": [
             0.04246721232
            ],
            "passed_time": 6.846326716,
            "remaining_time": 0.6523881975
           },
           {
            "iteration": 913,
            "learn": [
             0.04242050118
            ],
            "passed_time": 6.85712866,
            "remaining_time": 0.6452002897
           },
           {
            "iteration": 914,
            "learn": [
             0.04236661682
            ],
            "passed_time": 6.875561125,
            "remaining_time": 0.6387133285
           },
           {
            "iteration": 915,
            "learn": [
             0.04232366756
            ],
            "passed_time": 6.883540708,
            "remaining_time": 0.6312417243
           },
           {
            "iteration": 916,
            "learn": [
             0.04226607717
            ],
            "passed_time": 6.8957953,
            "remaining_time": 0.6241559541
           },
           {
            "iteration": 917,
            "learn": [
             0.04220599691
            ],
            "passed_time": 6.904149132,
            "remaining_time": 0.6167104889
           },
           {
            "iteration": 918,
            "learn": [
             0.04213731588
            ],
            "passed_time": 6.910688437,
            "remaining_time": 0.6091031158
           },
           {
            "iteration": 919,
            "learn": [
             0.04208396929
            ],
            "passed_time": 6.917930208,
            "remaining_time": 0.6015591485
           },
           {
            "iteration": 920,
            "learn": [
             0.0420233297
            ],
            "passed_time": 6.924483118,
            "remaining_time": 0.5939567495
           },
           {
            "iteration": 921,
            "learn": [
             0.04196824972
            ],
            "passed_time": 6.930439979,
            "remaining_time": 0.5863062021
           },
           {
            "iteration": 922,
            "learn": [
             0.04189251748
            ],
            "passed_time": 6.937427014,
            "remaining_time": 0.5787452655
           },
           {
            "iteration": 923,
            "learn": [
             0.04186078083
            ],
            "passed_time": 6.943407598,
            "remaining_time": 0.5711027894
           },
           {
            "iteration": 924,
            "learn": [
             0.04181344304
            ],
            "passed_time": 6.949808485,
            "remaining_time": 0.5634979852
           },
           {
            "iteration": 925,
            "learn": [
             0.04174180866
            ],
            "passed_time": 6.961136752,
            "remaining_time": 0.556289546
           },
           {
            "iteration": 926,
            "learn": [
             0.04169200665
            ],
            "passed_time": 6.968172482,
            "remaining_time": 0.5487341868
           },
           {
            "iteration": 927,
            "learn": [
             0.04162996029
            ],
            "passed_time": 6.975290592,
            "remaining_time": 0.5411863391
           },
           {
            "iteration": 928,
            "learn": [
             0.04156453786
            ],
            "passed_time": 6.980857515,
            "remaining_time": 0.533520865
           },
           {
            "iteration": 929,
            "learn": [
             0.04149427282
            ],
            "passed_time": 6.997313952,
            "remaining_time": 0.5266795448
           },
           {
            "iteration": 930,
            "learn": [
             0.04144404285
            ],
            "passed_time": 7.004872824,
            "remaining_time": 0.5191581363
           },
           {
            "iteration": 931,
            "learn": [
             0.04137368106
            ],
            "passed_time": 7.011034048,
            "remaining_time": 0.511534673
           },
           {
            "iteration": 932,
            "learn": [
             0.04131592257
            ],
            "passed_time": 7.017700017,
            "remaining_time": 0.5039505907
           },
           {
            "iteration": 933,
            "learn": [
             0.04126202338
            ],
            "passed_time": 7.024907074,
            "remaining_time": 0.4964067097
           },
           {
            "iteration": 934,
            "learn": [
             0.04120631062
            ],
            "passed_time": 7.031802718,
            "remaining_time": 0.4888419001
           },
           {
            "iteration": 935,
            "learn": [
             0.04116958368
            ],
            "passed_time": 7.038712813,
            "remaining_time": 0.4812795086
           },
           {
            "iteration": 936,
            "learn": [
             0.04113607586
            ],
            "passed_time": 7.046529028,
            "remaining_time": 0.473779433
           },
           {
            "iteration": 937,
            "learn": [
             0.04108829598
            ],
            "passed_time": 7.053463286,
            "remaining_time": 0.4662203878
           },
           {
            "iteration": 938,
            "learn": [
             0.04103069269
            ],
            "passed_time": 7.060556975,
            "remaining_time": 0.4586730303
           },
           {
            "iteration": 939,
            "learn": [
             0.04097302873
            ],
            "passed_time": 7.067501338,
            "remaining_time": 0.4511171067
           },
           {
            "iteration": 940,
            "learn": [
             0.04094060962
            ],
            "passed_time": 7.077029379,
            "remaining_time": 0.4437244776
           },
           {
            "iteration": 941,
            "learn": [
             0.04089661947
            ],
            "passed_time": 7.088685269,
            "remaining_time": 0.4364583286
           },
           {
            "iteration": 942,
            "learn": [
             0.04084969124
            ],
            "passed_time": 7.095483403,
            "remaining_time": 0.4288892407
           },
           {
            "iteration": 943,
            "learn": [
             0.04077899409
            ],
            "passed_time": 7.102155455,
            "remaining_time": 0.4213143067
           },
           {
            "iteration": 944,
            "learn": [
             0.04072071872
            ],
            "passed_time": 7.108553879,
            "remaining_time": 0.413725358
           },
           {
            "iteration": 945,
            "learn": [
             0.0406612338
            ],
            "passed_time": 7.116056454,
            "remaining_time": 0.4062019541
           },
           {
            "iteration": 946,
            "learn": [
             0.04060245265
            ],
            "passed_time": 7.122916703,
            "remaining_time": 0.3986426455
           },
           {
            "iteration": 947,
            "learn": [
             0.04054539178
            ],
            "passed_time": 7.12978335,
            "remaining_time": 0.3910851626
           },
           {
            "iteration": 948,
            "learn": [
             0.04048519496
            ],
            "passed_time": 7.136404872,
            "remaining_time": 0.3835159626
           },
           {
            "iteration": 949,
            "learn": [
             0.04043560752
            ],
            "passed_time": 7.142828358,
            "remaining_time": 0.3759383346
           },
           {
            "iteration": 950,
            "learn": [
             0.04039795152
            ],
            "passed_time": 7.14842889,
            "remaining_time": 0.3683207314
           },
           {
            "iteration": 951,
            "learn": [
             0.04033194529
            ],
            "passed_time": 7.159170434,
            "remaining_time": 0.3609665765
           },
           {
            "iteration": 952,
            "learn": [
             0.04026481188
            ],
            "passed_time": 7.165609163,
            "remaining_time": 0.3533931067
           },
           {
            "iteration": 953,
            "learn": [
             0.0402168817
            ],
            "passed_time": 7.172463094,
            "remaining_time": 0.345842036
           },
           {
            "iteration": 954,
            "learn": [
             0.04016745541
            ],
            "passed_time": 7.179095593,
            "remaining_time": 0.3382819913
           },
           {
            "iteration": 955,
            "learn": [
             0.04012027843
            ],
            "passed_time": 7.1862002,
            "remaining_time": 0.3307456159
           },
           {
            "iteration": 956,
            "learn": [
             0.04005178652
            ],
            "passed_time": 7.192865421,
            "remaining_time": 0.3231904003
           },
           {
            "iteration": 957,
            "learn": [
             0.03999748436
            ],
            "passed_time": 7.199555393,
            "remaining_time": 0.3156381279
           },
           {
            "iteration": 958,
            "learn": [
             0.03993350978
            ],
            "passed_time": 7.206679242,
            "remaining_time": 0.3081062032
           },
           {
            "iteration": 959,
            "learn": [
             0.03988738433
            ],
            "passed_time": 7.212955292,
            "remaining_time": 0.3005398038
           },
           {
            "iteration": 960,
            "learn": [
             0.0398179403
            ],
            "passed_time": 7.219853883,
            "remaining_time": 0.2930013543
           },
           {
            "iteration": 961,
            "learn": [
             0.03978463377
            ],
            "passed_time": 7.226568239,
            "remaining_time": 0.2854569575
           },
           {
            "iteration": 962,
            "learn": [
             0.03974063573
            ],
            "passed_time": 7.233466126,
            "remaining_time": 0.2779213361
           },
           {
            "iteration": 963,
            "learn": [
             0.03966401876
            ],
            "passed_time": 7.239720864,
            "remaining_time": 0.2703630198
           },
           {
            "iteration": 964,
            "learn": [
             0.03961438653
            ],
            "passed_time": 7.246704836,
            "remaining_time": 0.2628338542
           },
           {
            "iteration": 965,
            "learn": [
             0.03957348126
            ],
            "passed_time": 7.253577597,
            "remaining_time": 0.255301903
           },
           {
            "iteration": 966,
            "learn": [
             0.03953266749
            ],
            "passed_time": 7.260202643,
            "remaining_time": 0.2477628617
           },
           {
            "iteration": 967,
            "learn": [
             0.03948850576
            ],
            "passed_time": 7.266174755,
            "remaining_time": 0.2402041241
           },
           {
            "iteration": 968,
            "learn": [
             0.03946184039
            ],
            "passed_time": 7.273115548,
            "remaining_time": 0.2326796512
           },
           {
            "iteration": 969,
            "learn": [
             0.03941697685
            ],
            "passed_time": 7.280183805,
            "remaining_time": 0.2251603239
           },
           {
            "iteration": 970,
            "learn": [
             0.03937280724
            ],
            "passed_time": 7.286114042,
            "remaining_time": 0.2176079374
           },
           {
            "iteration": 971,
            "learn": [
             0.03933628648
            ],
            "passed_time": 7.293106038,
            "remaining_time": 0.2100894744
           },
           {
            "iteration": 972,
            "learn": [
             0.03929844704
            ],
            "passed_time": 7.299497505,
            "remaining_time": 0.2025554292
           },
           {
            "iteration": 973,
            "learn": [
             0.03925174727
            ],
            "passed_time": 7.306691855,
            "remaining_time": 0.1950451625
           },
           {
            "iteration": 974,
            "learn": [
             0.03921605644
            ],
            "passed_time": 7.318833363,
            "remaining_time": 0.1876623939
           },
           {
            "iteration": 975,
            "learn": [
             0.03916036322
            ],
            "passed_time": 7.32553163,
            "remaining_time": 0.1801360237
           },
           {
            "iteration": 976,
            "learn": [
             0.03911916525
            ],
            "passed_time": 7.332083544,
            "remaining_time": 0.1726079033
           },
           {
            "iteration": 977,
            "learn": [
             0.03906791042
            ],
            "passed_time": 7.339685867,
            "remaining_time": 0.165105408
           },
           {
            "iteration": 978,
            "learn": [
             0.03902068947
            ],
            "passed_time": 7.34709001,
            "remaining_time": 0.1575984578
           },
           {
            "iteration": 979,
            "learn": [
             0.03896414223
            ],
            "passed_time": 7.358783749,
            "remaining_time": 0.1501792602
           },
           {
            "iteration": 980,
            "learn": [
             0.03892301437
            ],
            "passed_time": 7.365736076,
            "remaining_time": 0.1426595163
           },
           {
            "iteration": 981,
            "learn": [
             0.03887377706
            ],
            "passed_time": 7.373082522,
            "remaining_time": 0.1351481521
           },
           {
            "iteration": 982,
            "learn": [
             0.03881734692
            ],
            "passed_time": 7.379998627,
            "remaining_time": 0.1276296812
           },
           {
            "iteration": 983,
            "learn": [
             0.03877984828
            ],
            "passed_time": 7.386789727,
            "remaining_time": 0.1201104021
           },
           {
            "iteration": 984,
            "learn": [
             0.03873134738
            ],
            "passed_time": 7.393160757,
            "remaining_time": 0.1125862044
           },
           {
            "iteration": 985,
            "learn": [
             0.03870197985
            ],
            "passed_time": 7.400359907,
            "remaining_time": 0.1050761042
           },
           {
            "iteration": 986,
            "learn": [
             0.03865798127
            ],
            "passed_time": 7.406853201,
            "remaining_time": 0.09755733699
           },
           {
            "iteration": 987,
            "learn": [
             0.03861502532
            ],
            "passed_time": 7.413187765,
            "remaining_time": 0.0900387178
           },
           {
            "iteration": 988,
            "learn": [
             0.03857981392
            ],
            "passed_time": 7.419656693,
            "remaining_time": 0.08252398748
           },
           {
            "iteration": 989,
            "learn": [
             0.03853842888
            ],
            "passed_time": 7.427310627,
            "remaining_time": 0.07502333966
           },
           {
            "iteration": 990,
            "learn": [
             0.03850493979
            ],
            "passed_time": 7.434261908,
            "remaining_time": 0.06751600118
           },
           {
            "iteration": 991,
            "learn": [
             0.0384705785
            ],
            "passed_time": 7.441556429,
            "remaining_time": 0.06001255185
           },
           {
            "iteration": 992,
            "learn": [
             0.0384136469
            ],
            "passed_time": 7.44823344,
            "remaining_time": 0.05250517027
           },
           {
            "iteration": 993,
            "learn": [
             0.03838212646
            ],
            "passed_time": 7.454620263,
            "remaining_time": 0.04499770782
           },
           {
            "iteration": 994,
            "learn": [
             0.03832103394
            ],
            "passed_time": 7.460177461,
            "remaining_time": 0.03748832895
           },
           {
            "iteration": 995,
            "learn": [
             0.03827775028
            ],
            "passed_time": 7.467151077,
            "remaining_time": 0.02998855854
           },
           {
            "iteration": 996,
            "learn": [
             0.03825837375
            ],
            "passed_time": 7.474415336,
            "remaining_time": 0.02249071816
           },
           {
            "iteration": 997,
            "learn": [
             0.03822656209
            ],
            "passed_time": 7.480032351,
            "remaining_time": 0.01499004479
           },
           {
            "iteration": 998,
            "learn": [
             0.03817547304
            ],
            "passed_time": 7.488118469,
            "remaining_time": 0.007495614083
           },
           {
            "iteration": 999,
            "learn": [
             0.03813201326
            ],
            "passed_time": 7.494926891,
            "remaining_time": 0
           }
          ],
          "meta": {
           "iteration_count": 1000,
           "launch_mode": "Train",
           "learn_metrics": [
            {
             "best_value": "Min",
             "name": "MultiClass"
            }
           ],
           "learn_sets": [
            "learn"
           ],
           "name": "experiment",
           "parameters": "",
           "test_metrics": [],
           "test_sets": []
          }
         },
         "passed_iterations": 999,
         "total_iterations": 1000
        },
        "name": "catboost_info",
        "path": "catboost_info"
       }
      },
      "layout": "IPY_MODEL_718092988106491d84fcb5e069793ade"
     }
    }
   }
  }
 },
 "nbformat": 4,
 "nbformat_minor": 1
}
