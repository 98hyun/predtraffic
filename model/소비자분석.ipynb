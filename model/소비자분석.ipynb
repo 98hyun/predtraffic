{
 "cells": [
  {
   "cell_type": "code",
   "execution_count": 1,
   "metadata": {
    "id": "jaHecHKK9c1c"
   },
   "outputs": [],
   "source": [
    "import pandas as pd\n",
    "import numpy as np\n",
    "\n",
    "data=pd.read_csv('accalldata.csv')"
   ]
  },
  {
   "cell_type": "code",
   "execution_count": 2,
   "metadata": {
    "colab": {
     "base_uri": "https://localhost:8080/",
     "height": 302
    },
    "executionInfo": {
     "elapsed": 61,
     "status": "ok",
     "timestamp": 1635474759657,
     "user": {
      "displayName": "황창현",
      "photoUrl": "https://lh3.googleusercontent.com/a/default-user=s64",
      "userId": "05808044836831561135"
     },
     "user_tz": -540
    },
    "id": "MqwY_BntDINa",
    "outputId": "fad6e0db-87a4-4a3f-f1dc-b8f419d29023"
   },
   "outputs": [
    {
     "data": {
      "text/html": [
       "<div>\n",
       "<style scoped>\n",
       "    .dataframe tbody tr th:only-of-type {\n",
       "        vertical-align: middle;\n",
       "    }\n",
       "\n",
       "    .dataframe tbody tr th {\n",
       "        vertical-align: top;\n",
       "    }\n",
       "\n",
       "    .dataframe thead th {\n",
       "        text-align: right;\n",
       "    }\n",
       "</style>\n",
       "<table border=\"1\" class=\"dataframe\">\n",
       "  <thead>\n",
       "    <tr style=\"text-align: right;\">\n",
       "      <th></th>\n",
       "      <th>시설종류</th>\n",
       "      <th>대상시설명</th>\n",
       "      <th>소재지도로명주소</th>\n",
       "      <th>소재지지번주소</th>\n",
       "      <th>위도</th>\n",
       "      <th>경도</th>\n",
       "      <th>관리기관명</th>\n",
       "      <th>관할경찰서명</th>\n",
       "      <th>CCTV설치여부</th>\n",
       "      <th>CCTV설치대수</th>\n",
       "      <th>보호구역도로폭</th>\n",
       "      <th>데이터기준일자</th>\n",
       "    </tr>\n",
       "  </thead>\n",
       "  <tbody>\n",
       "    <tr>\n",
       "      <th>0</th>\n",
       "      <td>초등학교</td>\n",
       "      <td>광장초등학교</td>\n",
       "      <td>서울특별시 광진구 광장로1길 27</td>\n",
       "      <td>서울특별시 광진구 광장동 389-1</td>\n",
       "      <td>37.548549</td>\n",
       "      <td>127.101800</td>\n",
       "      <td>서울특별시청</td>\n",
       "      <td>광진경찰서</td>\n",
       "      <td>Y</td>\n",
       "      <td>5</td>\n",
       "      <td>NaN</td>\n",
       "      <td>2020-12-23</td>\n",
       "    </tr>\n",
       "    <tr>\n",
       "      <th>1</th>\n",
       "      <td>초등학교</td>\n",
       "      <td>구의초등학교</td>\n",
       "      <td>서울특별시 광진구 광나루로30길 49</td>\n",
       "      <td>서울특별시 광진구 화양동 303-9</td>\n",
       "      <td>37.543007</td>\n",
       "      <td>127.080312</td>\n",
       "      <td>서울특별시청</td>\n",
       "      <td>광진경찰서</td>\n",
       "      <td>Y</td>\n",
       "      <td>7</td>\n",
       "      <td>NaN</td>\n",
       "      <td>2020-12-23</td>\n",
       "    </tr>\n",
       "    <tr>\n",
       "      <th>2</th>\n",
       "      <td>초등학교</td>\n",
       "      <td>동의초등학교</td>\n",
       "      <td>서울특별시 광진구 영화사로 111</td>\n",
       "      <td>서울특별시 광진구 구의2동 4-5</td>\n",
       "      <td>37.553422</td>\n",
       "      <td>127.099047</td>\n",
       "      <td>서울특별시청</td>\n",
       "      <td>광진경찰서</td>\n",
       "      <td>Y</td>\n",
       "      <td>7</td>\n",
       "      <td>NaN</td>\n",
       "      <td>2020-12-23</td>\n",
       "    </tr>\n",
       "    <tr>\n",
       "      <th>3</th>\n",
       "      <td>초등학교</td>\n",
       "      <td>동자초등학교</td>\n",
       "      <td>서울특별시 광진구 뚝섬로 561</td>\n",
       "      <td>서울특별시 광진구 자양3동 518-1</td>\n",
       "      <td>37.535058</td>\n",
       "      <td>127.072179</td>\n",
       "      <td>서울특별시청</td>\n",
       "      <td>광진경찰서</td>\n",
       "      <td>Y</td>\n",
       "      <td>3</td>\n",
       "      <td>NaN</td>\n",
       "      <td>2020-12-23</td>\n",
       "    </tr>\n",
       "    <tr>\n",
       "      <th>4</th>\n",
       "      <td>초등학교</td>\n",
       "      <td>신자초등학교</td>\n",
       "      <td>서울특별시 광진구 자양동 뚝섬로46길 64</td>\n",
       "      <td>서울특별시 광진구 자양2동 591</td>\n",
       "      <td>NaN</td>\n",
       "      <td>127.073328</td>\n",
       "      <td>서울특별시청</td>\n",
       "      <td>광진경찰서</td>\n",
       "      <td>Y</td>\n",
       "      <td>7</td>\n",
       "      <td>NaN</td>\n",
       "      <td>2020-12-23</td>\n",
       "    </tr>\n",
       "  </tbody>\n",
       "</table>\n",
       "</div>"
      ],
      "text/plain": [
       "   시설종류   대상시설명                 소재지도로명주소               소재지지번주소         위도  \\\n",
       "0  초등학교  광장초등학교       서울특별시 광진구 광장로1길 27   서울특별시 광진구 광장동 389-1  37.548549   \n",
       "1  초등학교  구의초등학교     서울특별시 광진구 광나루로30길 49   서울특별시 광진구 화양동 303-9  37.543007   \n",
       "2  초등학교  동의초등학교       서울특별시 광진구 영화사로 111    서울특별시 광진구 구의2동 4-5  37.553422   \n",
       "3  초등학교  동자초등학교        서울특별시 광진구 뚝섬로 561  서울특별시 광진구 자양3동 518-1  37.535058   \n",
       "4  초등학교  신자초등학교  서울특별시 광진구 자양동 뚝섬로46길 64    서울특별시 광진구 자양2동 591        NaN   \n",
       "\n",
       "           경도   관리기관명 관할경찰서명 CCTV설치여부  CCTV설치대수  보호구역도로폭     데이터기준일자  \n",
       "0  127.101800  서울특별시청  광진경찰서        Y         5      NaN  2020-12-23  \n",
       "1  127.080312  서울특별시청  광진경찰서        Y         7      NaN  2020-12-23  \n",
       "2  127.099047  서울특별시청  광진경찰서        Y         7      NaN  2020-12-23  \n",
       "3  127.072179  서울특별시청  광진경찰서        Y         3      NaN  2020-12-23  \n",
       "4  127.073328  서울특별시청  광진경찰서        Y         7      NaN  2020-12-23  "
      ]
     },
     "execution_count": 2,
     "metadata": {},
     "output_type": "execute_result"
    }
   ],
   "source": [
    "school=pd.read_csv('schoolzone.csv',encoding='cp949')\n",
    "school.head()"
   ]
  },
  {
   "cell_type": "code",
   "execution_count": 3,
   "metadata": {
    "colab": {
     "base_uri": "https://localhost:8080/",
     "height": 161
    },
    "executionInfo": {
     "elapsed": 66,
     "status": "ok",
     "timestamp": 1635474759667,
     "user": {
      "displayName": "황창현",
      "photoUrl": "https://lh3.googleusercontent.com/a/default-user=s64",
      "userId": "05808044836831561135"
     },
     "user_tz": -540
    },
    "id": "L4a4mBPsDR6u",
    "outputId": "f8e2ead5-c18d-4edf-fc4b-f98a4599651e"
   },
   "outputs": [
    {
     "data": {
      "text/html": [
       "<div>\n",
       "<style scoped>\n",
       "    .dataframe tbody tr th:only-of-type {\n",
       "        vertical-align: middle;\n",
       "    }\n",
       "\n",
       "    .dataframe tbody tr th {\n",
       "        vertical-align: top;\n",
       "    }\n",
       "\n",
       "    .dataframe thead th {\n",
       "        text-align: right;\n",
       "    }\n",
       "</style>\n",
       "<table border=\"1\" class=\"dataframe\">\n",
       "  <thead>\n",
       "    <tr style=\"text-align: right;\">\n",
       "      <th></th>\n",
       "      <th>시설종류</th>\n",
       "      <th>대상시설명</th>\n",
       "      <th>소재지도로명주소</th>\n",
       "      <th>소재지지번주소</th>\n",
       "      <th>위도</th>\n",
       "      <th>경도</th>\n",
       "      <th>관리기관명</th>\n",
       "      <th>관할경찰서명</th>\n",
       "      <th>CCTV설치여부</th>\n",
       "      <th>CCTV설치대수</th>\n",
       "      <th>보호구역도로폭</th>\n",
       "      <th>데이터기준일자</th>\n",
       "    </tr>\n",
       "  </thead>\n",
       "  <tbody>\n",
       "    <tr>\n",
       "      <th>4</th>\n",
       "      <td>초등학교</td>\n",
       "      <td>신자초등학교</td>\n",
       "      <td>서울특별시 광진구 자양동 뚝섬로46길 64</td>\n",
       "      <td>서울특별시 광진구 자양2동 591</td>\n",
       "      <td>NaN</td>\n",
       "      <td>127.073328</td>\n",
       "      <td>서울특별시청</td>\n",
       "      <td>광진경찰서</td>\n",
       "      <td>Y</td>\n",
       "      <td>7</td>\n",
       "      <td>NaN</td>\n",
       "      <td>2020-12-23</td>\n",
       "    </tr>\n",
       "    <tr>\n",
       "      <th>43</th>\n",
       "      <td>유치원</td>\n",
       "      <td>신자병설유치원</td>\n",
       "      <td>서울특별시 광진구 자양동 뚝섬로46길 64</td>\n",
       "      <td>서울특별시 광진구 자양2동 591</td>\n",
       "      <td>37.530017</td>\n",
       "      <td>NaN</td>\n",
       "      <td>서울특별시청</td>\n",
       "      <td>광진경찰서</td>\n",
       "      <td>Y</td>\n",
       "      <td>1</td>\n",
       "      <td>NaN</td>\n",
       "      <td>2020-12-23</td>\n",
       "    </tr>\n",
       "  </tbody>\n",
       "</table>\n",
       "</div>"
      ],
      "text/plain": [
       "    시설종류    대상시설명                 소재지도로명주소             소재지지번주소         위도  \\\n",
       "4   초등학교   신자초등학교  서울특별시 광진구 자양동 뚝섬로46길 64  서울특별시 광진구 자양2동 591        NaN   \n",
       "43   유치원  신자병설유치원  서울특별시 광진구 자양동 뚝섬로46길 64  서울특별시 광진구 자양2동 591  37.530017   \n",
       "\n",
       "            경도   관리기관명 관할경찰서명 CCTV설치여부  CCTV설치대수  보호구역도로폭     데이터기준일자  \n",
       "4   127.073328  서울특별시청  광진경찰서        Y         7      NaN  2020-12-23  \n",
       "43         NaN  서울특별시청  광진경찰서        Y         1      NaN  2020-12-23  "
      ]
     },
     "execution_count": 3,
     "metadata": {},
     "output_type": "execute_result"
    }
   ],
   "source": [
    "mask=(school['위도'].isnull()|school['경도'].isnull())\n",
    "school.loc[mask,:]"
   ]
  },
  {
   "cell_type": "code",
   "execution_count": 4,
   "metadata": {
    "id": "49sbgbqpEGsO"
   },
   "outputs": [],
   "source": [
    "school.loc[4,'위도']=37.530017\n",
    "school.loc[43,'경도']=127.073328"
   ]
  },
  {
   "cell_type": "code",
   "execution_count": 5,
   "metadata": {
    "id": "qKEFeT-ipbUq"
   },
   "outputs": [],
   "source": [
    "def haversine(coord1, coord2):\n",
    "    import math\n",
    "    # Coordinates in decimal degrees (e.g. 2.89078, 12.79797)\n",
    "    lon1, lat1 = coord1\n",
    "    lon2, lat2 = coord2\n",
    "    R = 6371000  # radius of Earth in meters\n",
    "    phi_1 = math.radians(lat1)\n",
    "    phi_2 = math.radians(lat2)\n",
    "\n",
    "    delta_phi = math.radians(lat2 - lat1)\n",
    "    delta_lambda = math.radians(lon2 - lon1)\n",
    "\n",
    "    a = math.sin(delta_phi / 2.0) ** 2 + math.cos(phi_1) * math.cos(phi_2) * math.sin(delta_lambda / 2.0) ** 2\n",
    "\n",
    "    c = 2 * math.atan2(math.sqrt(a), math.sqrt(1 - a))\n",
    "\n",
    "    meters = R * c  # output distance in meters\n",
    "    km = meters / 1000.0  # output distance in kilometers\n",
    "\n",
    "    meters = round(meters)\n",
    "    km = round(km, 3)\n",
    "    # print(f\"Distance: {meters} m\")\n",
    "    # print(f\"Distance: {km} km\")\n",
    "    return meters"
   ]
  },
  {
   "cell_type": "code",
   "execution_count": 6,
   "metadata": {
    "id": "wYVtcUGdy_EW"
   },
   "outputs": [],
   "source": [
    "data_copy=data.copy()"
   ]
  },
  {
   "cell_type": "code",
   "execution_count": 7,
   "metadata": {
    "id": "VwwxCXxPzFDP"
   },
   "outputs": [],
   "source": [
    "data_copy2=data_copy.copy()"
   ]
  },
  {
   "cell_type": "code",
   "execution_count": 8,
   "metadata": {
    "id": "7FMPkptAqLRK"
   },
   "outputs": [],
   "source": [
    "for idx,(lon1,lat1) in enumerate(zip(data_copy2['경도'],data_copy2['위도'])):\n",
    "    for lon2,lat2 in zip(school['경도'],school['위도']):\n",
    "        meters=haversine(coord1=(lon1,lat1),coord2=(lon2,lat2))\n",
    "        if meters<300:\n",
    "            data_copy2.loc[idx,'schoolzone']=1"
   ]
  },
  {
   "cell_type": "code",
   "execution_count": 9,
   "metadata": {
    "colab": {
     "base_uri": "https://localhost:8080/"
    },
    "executionInfo": {
     "elapsed": 77,
     "status": "ok",
     "timestamp": 1635474764347,
     "user": {
      "displayName": "황창현",
      "photoUrl": "https://lh3.googleusercontent.com/a/default-user=s64",
      "userId": "05808044836831561135"
     },
     "user_tz": -540
    },
    "id": "4Zq4nb3kphI7",
    "outputId": "a5fcd85f-aa80-47d2-d458-ab97bf76dcdd"
   },
   "outputs": [
    {
     "name": "stdout",
     "output_type": "stream",
     "text": [
      "49.1.72.121"
     ]
    },
    {
     "name": "stderr",
     "output_type": "stream",
     "text": [
      "  % Total    % Received % Xferd  Average Speed   Time    Time     Time  Current\n",
      "                                 Dload  Upload   Total   Spent    Left  Speed"
     ]
    },
    {
     "name": "stdout",
     "output_type": "stream",
     "text": [
      "\n"
     ]
    },
    {
     "name": "stderr",
     "output_type": "stream",
     "text": [
      "\n",
      "\n",
      "  0     0    0     0    0     0      0      0 --:--:-- --:--:-- --:--:--     0\n",
      "100    11  100    11    0     0     11      0  0:00:01 --:--:--  0:00:01    29\n"
     ]
    }
   ],
   "source": [
    "!curl ipecho.net/plain\n",
    "\n",
    "# https://developers.kakao.com/console/app/474191/advanced/allowedIp"
   ]
  },
  {
   "cell_type": "code",
   "execution_count": 10,
   "metadata": {
    "colab": {
     "base_uri": "https://localhost:8080/"
    },
    "executionInfo": {
     "elapsed": 29,
     "status": "ok",
     "timestamp": 1635474764349,
     "user": {
      "displayName": "황창현",
      "photoUrl": "https://lh3.googleusercontent.com/a/default-user=s64",
      "userId": "05808044836831561135"
     },
     "user_tz": -540
    },
    "id": "9DSK9Da3yqnw",
    "outputId": "56a391e2-a38d-4a47-a070-f43d4acd6f1f"
   },
   "outputs": [
    {
     "data": {
      "text/plain": [
       "60"
      ]
     },
     "execution_count": 10,
     "metadata": {},
     "output_type": "execute_result"
    }
   ],
   "source": [
    "len(data_copy2[data_copy2['schoolzone'].notna()])"
   ]
  },
  {
   "cell_type": "code",
   "execution_count": 11,
   "metadata": {
    "id": "Uce95YyQy6FD"
   },
   "outputs": [],
   "source": [
    "data2=data_copy2"
   ]
  },
  {
   "cell_type": "code",
   "execution_count": 12,
   "metadata": {
    "id": "leS8pwrUzeuK"
   },
   "outputs": [],
   "source": [
    "data2=data2[data2['schoolzone']==1]"
   ]
  },
  {
   "cell_type": "code",
   "execution_count": 13,
   "metadata": {
    "colab": {
     "base_uri": "https://localhost:8080/",
     "height": 420
    },
    "executionInfo": {
     "elapsed": 33,
     "status": "ok",
     "timestamp": 1635474764675,
     "user": {
      "displayName": "황창현",
      "photoUrl": "https://lh3.googleusercontent.com/a/default-user=s64",
      "userId": "05808044836831561135"
     },
     "user_tz": -540
    },
    "id": "ywJR2lHVzlmA",
    "outputId": "a1cd2d3c-739e-4b14-d158-203e03c97fcd"
   },
   "outputs": [
    {
     "data": {
      "text/html": [
       "<div>\n",
       "<style scoped>\n",
       "    .dataframe tbody tr th:only-of-type {\n",
       "        vertical-align: middle;\n",
       "    }\n",
       "\n",
       "    .dataframe tbody tr th {\n",
       "        vertical-align: top;\n",
       "    }\n",
       "\n",
       "    .dataframe thead th {\n",
       "        text-align: right;\n",
       "    }\n",
       "</style>\n",
       "<table border=\"1\" class=\"dataframe\">\n",
       "  <thead>\n",
       "    <tr style=\"text-align: right;\">\n",
       "      <th></th>\n",
       "      <th>연</th>\n",
       "      <th>월</th>\n",
       "      <th>일</th>\n",
       "      <th>시간</th>\n",
       "      <th>기온(°C)</th>\n",
       "      <th>풍향(deg)</th>\n",
       "      <th>풍속(m/s)</th>\n",
       "      <th>강수량(mm)</th>\n",
       "      <th>습도(%)</th>\n",
       "      <th>주야구분</th>\n",
       "      <th>...</th>\n",
       "      <th>사망자수</th>\n",
       "      <th>부상자수</th>\n",
       "      <th>중상자수</th>\n",
       "      <th>경상자수</th>\n",
       "      <th>사고유형대분류</th>\n",
       "      <th>사고유형중분류</th>\n",
       "      <th>사고유형소분류</th>\n",
       "      <th>주소</th>\n",
       "      <th>지역</th>\n",
       "      <th>schoolzone</th>\n",
       "    </tr>\n",
       "  </thead>\n",
       "  <tbody>\n",
       "    <tr>\n",
       "      <th>3</th>\n",
       "      <td>2012</td>\n",
       "      <td>2</td>\n",
       "      <td>13</td>\n",
       "      <td>11</td>\n",
       "      <td>4.0</td>\n",
       "      <td>122.8</td>\n",
       "      <td>1.0</td>\n",
       "      <td>0.0</td>\n",
       "      <td>29.5</td>\n",
       "      <td>1</td>\n",
       "      <td>...</td>\n",
       "      <td>1</td>\n",
       "      <td>1</td>\n",
       "      <td>0</td>\n",
       "      <td>0</td>\n",
       "      <td>2</td>\n",
       "      <td>24</td>\n",
       "      <td>25</td>\n",
       "      <td>서울특별시 광진구 중곡동</td>\n",
       "      <td>중곡동</td>\n",
       "      <td>1.0</td>\n",
       "    </tr>\n",
       "    <tr>\n",
       "      <th>4</th>\n",
       "      <td>2012</td>\n",
       "      <td>4</td>\n",
       "      <td>18</td>\n",
       "      <td>18</td>\n",
       "      <td>21.0</td>\n",
       "      <td>301.6</td>\n",
       "      <td>1.7</td>\n",
       "      <td>0.0</td>\n",
       "      <td>29.5</td>\n",
       "      <td>2</td>\n",
       "      <td>...</td>\n",
       "      <td>1</td>\n",
       "      <td>1</td>\n",
       "      <td>0</td>\n",
       "      <td>0</td>\n",
       "      <td>1</td>\n",
       "      <td>15</td>\n",
       "      <td>05</td>\n",
       "      <td>서울특별시 광진구 군자동</td>\n",
       "      <td>군자동</td>\n",
       "      <td>1.0</td>\n",
       "    </tr>\n",
       "    <tr>\n",
       "      <th>6</th>\n",
       "      <td>2012</td>\n",
       "      <td>6</td>\n",
       "      <td>14</td>\n",
       "      <td>3</td>\n",
       "      <td>20.3</td>\n",
       "      <td>50.9</td>\n",
       "      <td>2.3</td>\n",
       "      <td>0.0</td>\n",
       "      <td>73.2</td>\n",
       "      <td>2</td>\n",
       "      <td>...</td>\n",
       "      <td>1</td>\n",
       "      <td>3</td>\n",
       "      <td>2</td>\n",
       "      <td>0</td>\n",
       "      <td>1</td>\n",
       "      <td>11</td>\n",
       "      <td>01</td>\n",
       "      <td>서울특별시 광진구 중곡동</td>\n",
       "      <td>중곡동</td>\n",
       "      <td>1.0</td>\n",
       "    </tr>\n",
       "    <tr>\n",
       "      <th>7</th>\n",
       "      <td>2012</td>\n",
       "      <td>7</td>\n",
       "      <td>24</td>\n",
       "      <td>20</td>\n",
       "      <td>29.0</td>\n",
       "      <td>309.5</td>\n",
       "      <td>1.8</td>\n",
       "      <td>0.0</td>\n",
       "      <td>77.4</td>\n",
       "      <td>2</td>\n",
       "      <td>...</td>\n",
       "      <td>1</td>\n",
       "      <td>1</td>\n",
       "      <td>0</td>\n",
       "      <td>0</td>\n",
       "      <td>1</td>\n",
       "      <td>15</td>\n",
       "      <td>05</td>\n",
       "      <td>서울특별시 광진구 구의동</td>\n",
       "      <td>구의동</td>\n",
       "      <td>1.0</td>\n",
       "    </tr>\n",
       "    <tr>\n",
       "      <th>8</th>\n",
       "      <td>2012</td>\n",
       "      <td>7</td>\n",
       "      <td>30</td>\n",
       "      <td>9</td>\n",
       "      <td>29.1</td>\n",
       "      <td>250.9</td>\n",
       "      <td>2.2</td>\n",
       "      <td>0.0</td>\n",
       "      <td>78.4</td>\n",
       "      <td>1</td>\n",
       "      <td>...</td>\n",
       "      <td>1</td>\n",
       "      <td>1</td>\n",
       "      <td>0</td>\n",
       "      <td>0</td>\n",
       "      <td>1</td>\n",
       "      <td>12</td>\n",
       "      <td>02</td>\n",
       "      <td>서울특별시 광진구 군자동</td>\n",
       "      <td>군자동</td>\n",
       "      <td>1.0</td>\n",
       "    </tr>\n",
       "  </tbody>\n",
       "</table>\n",
       "<p>5 rows × 23 columns</p>\n",
       "</div>"
      ],
      "text/plain": [
       "      연  월   일  시간  기온(°C)  풍향(deg)  풍속(m/s)  강수량(mm)  습도(%)  주야구분  ...  사망자수  \\\n",
       "3  2012  2  13  11     4.0    122.8      1.0      0.0   29.5     1  ...     1   \n",
       "4  2012  4  18  18    21.0    301.6      1.7      0.0   29.5     2  ...     1   \n",
       "6  2012  6  14   3    20.3     50.9      2.3      0.0   73.2     2  ...     1   \n",
       "7  2012  7  24  20    29.0    309.5      1.8      0.0   77.4     2  ...     1   \n",
       "8  2012  7  30   9    29.1    250.9      2.2      0.0   78.4     1  ...     1   \n",
       "\n",
       "   부상자수  중상자수  경상자수  사고유형대분류  사고유형중분류  사고유형소분류             주소   지역 schoolzone  \n",
       "3     1     0     0        2       24       25  서울특별시 광진구 중곡동  중곡동        1.0  \n",
       "4     1     0     0        1       15       05  서울특별시 광진구 군자동  군자동        1.0  \n",
       "6     3     2     0        1       11       01  서울특별시 광진구 중곡동  중곡동        1.0  \n",
       "7     1     0     0        1       15       05  서울특별시 광진구 구의동  구의동        1.0  \n",
       "8     1     0     0        1       12       02  서울특별시 광진구 군자동  군자동        1.0  \n",
       "\n",
       "[5 rows x 23 columns]"
      ]
     },
     "execution_count": 13,
     "metadata": {},
     "output_type": "execute_result"
    }
   ],
   "source": [
    "# data2.apply(lambda row:str(row['사고유형대분류'])+'_'+str(row['사고유형중분류']),axis=1).value_counts()\n",
    "data2.head()"
   ]
  },
  {
   "cell_type": "code",
   "execution_count": 14,
   "metadata": {
    "colab": {
     "base_uri": "https://localhost:8080/"
    },
    "executionInfo": {
     "elapsed": 2862,
     "status": "ok",
     "timestamp": 1635474769780,
     "user": {
      "displayName": "황창현",
      "photoUrl": "https://lh3.googleusercontent.com/a/default-user=s64",
      "userId": "05808044836831561135"
     },
     "user_tz": -540
    },
    "id": "3wfMKBAI1ZML",
    "outputId": "6c54a3f9-5273-4282-f802-c49bac779010"
   },
   "outputs": [],
   "source": [
    "# !pip install catboost"
   ]
  },
  {
   "cell_type": "code",
   "execution_count": 15,
   "metadata": {
    "colab": {
     "base_uri": "https://localhost:8080/",
     "height": 202
    },
    "executionInfo": {
     "elapsed": 59,
     "status": "ok",
     "timestamp": 1635474769785,
     "user": {
      "displayName": "황창현",
      "photoUrl": "https://lh3.googleusercontent.com/a/default-user=s64",
      "userId": "05808044836831561135"
     },
     "user_tz": -540
    },
    "id": "-lcx-IEs1ZeI",
    "outputId": "b02f74f5-3423-4ce6-d771-771ee6f3338b"
   },
   "outputs": [
    {
     "data": {
      "text/html": [
       "<div>\n",
       "<style scoped>\n",
       "    .dataframe tbody tr th:only-of-type {\n",
       "        vertical-align: middle;\n",
       "    }\n",
       "\n",
       "    .dataframe tbody tr th {\n",
       "        vertical-align: top;\n",
       "    }\n",
       "\n",
       "    .dataframe thead th {\n",
       "        text-align: right;\n",
       "    }\n",
       "</style>\n",
       "<table border=\"1\" class=\"dataframe\">\n",
       "  <thead>\n",
       "    <tr style=\"text-align: right;\">\n",
       "      <th></th>\n",
       "      <th>월</th>\n",
       "      <th>일</th>\n",
       "      <th>시간</th>\n",
       "      <th>기온(°C)</th>\n",
       "      <th>풍속(m/s)</th>\n",
       "      <th>강수량(mm)</th>\n",
       "      <th>습도(%)</th>\n",
       "      <th>주야구분</th>\n",
       "      <th>요일</th>\n",
       "      <th>지역</th>\n",
       "      <th>사고유형대분류</th>\n",
       "    </tr>\n",
       "  </thead>\n",
       "  <tbody>\n",
       "    <tr>\n",
       "      <th>3</th>\n",
       "      <td>2</td>\n",
       "      <td>13</td>\n",
       "      <td>11</td>\n",
       "      <td>4.0</td>\n",
       "      <td>1.0</td>\n",
       "      <td>0.0</td>\n",
       "      <td>29.5</td>\n",
       "      <td>1</td>\n",
       "      <td>2</td>\n",
       "      <td>중곡동</td>\n",
       "      <td>2</td>\n",
       "    </tr>\n",
       "    <tr>\n",
       "      <th>4</th>\n",
       "      <td>4</td>\n",
       "      <td>18</td>\n",
       "      <td>18</td>\n",
       "      <td>21.0</td>\n",
       "      <td>1.7</td>\n",
       "      <td>0.0</td>\n",
       "      <td>29.5</td>\n",
       "      <td>2</td>\n",
       "      <td>4</td>\n",
       "      <td>군자동</td>\n",
       "      <td>1</td>\n",
       "    </tr>\n",
       "    <tr>\n",
       "      <th>6</th>\n",
       "      <td>6</td>\n",
       "      <td>14</td>\n",
       "      <td>3</td>\n",
       "      <td>20.3</td>\n",
       "      <td>2.3</td>\n",
       "      <td>0.0</td>\n",
       "      <td>73.2</td>\n",
       "      <td>2</td>\n",
       "      <td>5</td>\n",
       "      <td>중곡동</td>\n",
       "      <td>1</td>\n",
       "    </tr>\n",
       "    <tr>\n",
       "      <th>7</th>\n",
       "      <td>7</td>\n",
       "      <td>24</td>\n",
       "      <td>20</td>\n",
       "      <td>29.0</td>\n",
       "      <td>1.8</td>\n",
       "      <td>0.0</td>\n",
       "      <td>77.4</td>\n",
       "      <td>2</td>\n",
       "      <td>3</td>\n",
       "      <td>구의동</td>\n",
       "      <td>1</td>\n",
       "    </tr>\n",
       "    <tr>\n",
       "      <th>8</th>\n",
       "      <td>7</td>\n",
       "      <td>30</td>\n",
       "      <td>9</td>\n",
       "      <td>29.1</td>\n",
       "      <td>2.2</td>\n",
       "      <td>0.0</td>\n",
       "      <td>78.4</td>\n",
       "      <td>1</td>\n",
       "      <td>2</td>\n",
       "      <td>군자동</td>\n",
       "      <td>1</td>\n",
       "    </tr>\n",
       "  </tbody>\n",
       "</table>\n",
       "</div>"
      ],
      "text/plain": [
       "   월   일  시간  기온(°C)  풍속(m/s)  강수량(mm)  습도(%)  주야구분  요일   지역  사고유형대분류\n",
       "3  2  13  11     4.0      1.0      0.0   29.5     1   2  중곡동        2\n",
       "4  4  18  18    21.0      1.7      0.0   29.5     2   4  군자동        1\n",
       "6  6  14   3    20.3      2.3      0.0   73.2     2   5  중곡동        1\n",
       "7  7  24  20    29.0      1.8      0.0   77.4     2   3  구의동        1\n",
       "8  7  30   9    29.1      2.2      0.0   78.4     1   2  군자동        1"
      ]
     },
     "execution_count": 15,
     "metadata": {},
     "output_type": "execute_result"
    }
   ],
   "source": [
    "train=data2.iloc[:,np.r_[1,2,3,4,6,7,8,9,10,-2,-6]]\n",
    "## 1 : 차대사람 2 : 차대차 3 : 차량단독\n",
    "## 1 : 주간 2 : 야간\n",
    "train.head()"
   ]
  },
  {
   "cell_type": "markdown",
   "metadata": {
    "id": "cIGBLWIq2FYS"
   },
   "source": [
    "## 그래프 및 훈련"
   ]
  },
  {
   "cell_type": "code",
   "execution_count": 16,
   "metadata": {
    "colab": {
     "base_uri": "https://localhost:8080/"
    },
    "executionInfo": {
     "elapsed": 5303,
     "status": "ok",
     "timestamp": 1635474341635,
     "user": {
      "displayName": "황창현",
      "photoUrl": "https://lh3.googleusercontent.com/a/default-user=s64",
      "userId": "05808044836831561135"
     },
     "user_tz": -540
    },
    "id": "YgZ2pb_91qU7",
    "outputId": "bfbba501-1242-43c1-e5b7-0ba258a11ffd"
   },
   "outputs": [],
   "source": [
    "# !sudo apt-get install -y fonts-nanum\n",
    "# !sudo fc-cache -fv\n",
    "# !rm ~/.cache/matplotlib -rf"
   ]
  },
  {
   "cell_type": "code",
   "execution_count": 17,
   "metadata": {},
   "outputs": [],
   "source": [
    "import matplotlib.pyplot as plt\n",
    "from matplotlib import font_manager, rc\n",
    "font_path = \"malgun.ttf\"\n",
    "font = font_manager.FontProperties(fname=font_path).get_name()\n",
    "rc('font', family=font)"
   ]
  },
  {
   "cell_type": "code",
   "execution_count": 54,
   "metadata": {},
   "outputs": [
    {
     "name": "stdout",
     "output_type": "stream",
     "text": [
      "2 3\n"
     ]
    }
   ],
   "source": [
    "## 11월 어떤 사고가 많이 일어나는지.\n",
    "df=train.groupby(['월','사고유형대분류'])['사고유형대분류'].count()\n",
    "top_acc=df.loc[11].idxmax()\n",
    "count=df.loc[11][top_acc]\n",
    "print(top_acc,count)"
   ]
  },
  {
   "cell_type": "code",
   "execution_count": 58,
   "metadata": {
    "colab": {
     "base_uri": "https://localhost:8080/",
     "height": 386
    },
    "executionInfo": {
     "elapsed": 457,
     "status": "ok",
     "timestamp": 1635474401779,
     "user": {
      "displayName": "황창현",
      "photoUrl": "https://lh3.googleusercontent.com/a/default-user=s64",
      "userId": "05808044836831561135"
     },
     "user_tz": -540
    },
    "id": "i6FCRYBK104b",
    "outputId": "89c93d9f-9d4d-459f-b508-e93e8c867814"
   },
   "outputs": [
    {
     "name": "stdout",
     "output_type": "stream",
     "text": [
      "2 5\n"
     ]
    },
    {
     "data": {
      "image/png": "[encoded data removed]",
      "text/plain": [
       "<Figure size 600x600 with 1 Axes>"
      ]
     },
     "metadata": {
      "needs_background": "light"
     },
     "output_type": "display_data"
    }
   ],
   "source": [
    "## 11월 주야구분 사고.\n",
    "df=train.groupby(['월','주야구분'])['사고유형대분류'].count()\n",
    "\n",
    "top_acc=df.loc[11].idxmax()\n",
    "count=df.loc[11][top_acc]\n",
    "print(top_acc,count)\n",
    "fig,ax=plt.subplots(1,1,figsize=(4,4),dpi=150)\n",
    "ax.bar(x='주간',height=df.loc[11][1],color='#59332F')\n",
    "ax.bar(x='야간',height=df.loc[11][2],color='#A69886')\n",
    "\n",
    "# for axis in ['top','right','left']:\n",
    "#     ax.spines[axis].set_visible(False)\n",
    "plt.show()\n",
    "\n",
    "\n",
    "# sns.catplot(data=train,x='사고유형대분류',hue='주야구분',kind='count')"
   ]
  },
  {
   "cell_type": "code",
   "execution_count": 62,
   "metadata": {},
   "outputs": [
    {
     "name": "stdout",
     "output_type": "stream",
     "text": [
      "5 3\n"
     ]
    }
   ],
   "source": [
    "## 11월 몇시에 사고가 가장 많이 나는지.\n",
    "df=train.groupby(['월','시간'])['사고유형대분류'].count()\n",
    "top_acc_time=df.loc[11].idxmax()\n",
    "count=df.loc[11][top_acc]\n",
    "print(top_acc,count)"
   ]
  },
  {
   "cell_type": "code",
   "execution_count": 65,
   "metadata": {},
   "outputs": [
    {
     "name": "stdout",
     "output_type": "stream",
     "text": [
      "5 2\n"
     ]
    }
   ],
   "source": [
    "## 11월 무슨요일에 사고가 가장 많이 나는지\n",
    "## 1 일 2 월 .. 7 토\n",
    "df=train.groupby(['월','요일'])['사고유형대분류'].count()\n",
    "top_acc_time=df.loc[11].idxmax()\n",
    "count=df.loc[11][top_acc]\n",
    "print(top_acc,count)"
   ]
  },
  {
   "cell_type": "code",
   "execution_count": 82,
   "metadata": {},
   "outputs": [
    {
     "name": "stdout",
     "output_type": "stream",
     "text": [
      "송정동 2\n"
     ]
    }
   ],
   "source": [
    "## 11월 어떤 지역에서 사고가 가장 많이 나는지.\n",
    "df=train.groupby(['월','지역'])['사고유형대분류'].count()\n",
    "top_acc=df.loc[11].idxmax()\n",
    "count=df.loc[11].loc[top_acc_time]\n",
    "print(top_acc,count)"
   ]
  },
  {
   "cell_type": "code",
   "execution_count": 104,
   "metadata": {},
   "outputs": [
    {
     "data": {
      "image/png": "[encoded data removed]",
      "text/plain": [
       "<Figure size 800x800 with 1 Axes>"
      ]
     },
     "metadata": {
      "needs_background": "light"
     },
     "output_type": "display_data"
    }
   ],
   "source": [
    "## 월에 많이 일어나는 사고유형 대분류.\n",
    "fig,ax=plt.subplots(1,1,figsize=(4,4),dpi=200)\n",
    "df=train.groupby(['월','사고유형대분류'])['사고유형대분류'].count().unstack()\n",
    "df.columns=['차대차','차대사람','차량단독']\n",
    "df.plot(kind='bar',ax=ax)\n",
    "plt.show()"
   ]
  },
  {
   "cell_type": "code",
   "execution_count": null,
   "metadata": {
    "id": "HLlmpsxg2MeU"
   },
   "outputs": [],
   "source": [
    "# 날씨는 구글에서 가져오기\n",
    "# 광진구 화양동 날씨\n",
    "# 광진구 .. 날씨"
   ]
  },
  {
   "cell_type": "code",
   "execution_count": null,
   "metadata": {
    "id": "vbn8EQgX2Jj4"
   },
   "outputs": [],
   "source": [
    "from catboost import Pool, CatBoostClassifier\n",
    "\n",
    "cat_features=list([0,1,2,7,8,9])\n",
    "\n",
    "train_pool=Pool(data=train.iloc[:,:-1],label=train.iloc[:,-1],cat_features=cat_features)\n",
    "\n",
    "model=CatBoostClassifier(objective='MultiClass',n_estimators=1000,random_state=71)"
   ]
  },
  {
   "cell_type": "code",
   "execution_count": null,
   "metadata": {
    "colab": {
     "base_uri": "https://localhost:8080/",
     "height": 52,
     "referenced_widgets": [
      "6edf734b4c0540f4a26a49b6a5862813"
     ]
    },
    "executionInfo": {
     "elapsed": 8334,
     "status": "ok",
     "timestamp": 1635474789656,
     "user": {
      "displayName": "황창현",
      "photoUrl": "https://lh3.googleusercontent.com/a/default-user=s64",
      "userId": "05808044836831561135"
     },
     "user_tz": -540
    },
    "id": "au-oFQJL2WJI",
    "outputId": "8302b399-84ad-4fc0-dad6-9eea15a14c79"
   },
   "outputs": [
    {
     "data": {
      "application/vnd.jupyter.widget-view+json": {
       "model_id": "6edf734b4c0540f4a26a49b6a5862813",
       "version_major": 2,
       "version_minor": 0
      },
      "text/plain": [
       "MetricVisualizer(layout=Layout(align_self='stretch', height='500px'))"
      ]
     },
     "metadata": {},
     "output_type": "display_data"
    },
    {
     "name": "stderr",
     "output_type": "stream",
     "text": [
      "You should provide test set for use best model. use_best_model parameter has been switched to false value.\n"
     ]
    },
    {
     "data": {
      "text/plain": [
       "<catboost.core.CatBoostClassifier at 0x7f16ca8ed2d0>"
      ]
     },
     "execution_count": 40,
     "metadata": {},
     "output_type": "execute_result"
    }
   ],
   "source": [
    "model.fit(train_pool,plot=True,use_best_model=True,verbose=0)"
   ]
  },
  {
   "cell_type": "code",
   "execution_count": null,
   "metadata": {
    "colab": {
     "base_uri": "https://localhost:8080/"
    },
    "executionInfo": {
     "elapsed": 574,
     "status": "ok",
     "timestamp": 1635474857066,
     "user": {
      "displayName": "황창현",
      "photoUrl": "https://lh3.googleusercontent.com/a/default-user=s64",
      "userId": "05808044836831561135"
     },
     "user_tz": -540
    },
    "id": "sLk51hDv2Xul",
    "outputId": "e0f3b22e-820d-4828-c877-a4d3efa90007"
   },
   "outputs": [
    {
     "data": {
      "text/plain": [
       "array([[0.85851062, 0.10455918, 0.03693021]])"
      ]
     },
     "execution_count": 48,
     "metadata": {},
     "output_type": "execute_result"
    }
   ],
   "source": [
    "model.predict_proba([[10,29,11,17,1,0,46,1,'능동',3]])"
   ]
  },
  {
   "cell_type": "code",
   "execution_count": null,
   "metadata": {
    "colab": {
     "base_uri": "https://localhost:8080/",
     "height": 817
    },
    "executionInfo": {
     "elapsed": 449,
     "status": "ok",
     "timestamp": 1635474194969,
     "user": {
      "displayName": "황창현",
      "photoUrl": "https://lh3.googleusercontent.com/a/default-user=s64",
      "userId": "05808044836831561135"
     },
     "user_tz": -540
    },
    "id": "i_Ki20Rz2aul",
    "outputId": "228ccb69-658a-452f-94d7-2a2ba612b32f"
   },
   "outputs": [
    {
     "data": {
      "image/svg+xml": [
       "<?xml version=\"1.0\" encoding=\"UTF-8\" standalone=\"no\"?>\n",
       "<!DOCTYPE svg PUBLIC \"-//W3C//DTD SVG 1.1//EN\"\n",
       " \"http://www.w3.org/Graphics/SVG/1.1/DTD/svg11.dtd\">\n",
       "<!-- Generated by graphviz version 2.40.1 (20161225.0304)\n",
       " -->\n",
       "<!-- Title: %3 Pages: 1 -->\n",
       "<svg width=\"9462pt\" height=\"583pt\"\n",
       " viewBox=\"0.00 0.00 9462.18 583.00\" xmlns=\"http://www.w3.org/2000/svg\" xmlns:xlink=\"http://www.w3.org/1999/xlink\">\n",
       "<g id=\"graph0\" class=\"graph\" transform=\"scale(1 1) rotate(0) translate(4 579)\">\n",
       "<title>%3</title>\n",
       "<polygon fill=\"#ffffff\" stroke=\"transparent\" points=\"-4,4 -4,-579 9458.1753,-579 9458.1753,4 -4,4\"/>\n",
       "<!-- 0 -->\n",
       "<g id=\"node1\" class=\"node\">\n",
       "<title>0</title>\n",
       "<ellipse fill=\"none\" stroke=\"#000000\" cx=\"4762.0877\" cy=\"-557\" rx=\"139.9756\" ry=\"18\"/>\n",
       "<text text-anchor=\"middle\" x=\"4762.0877\" y=\"-553.3\" font-family=\"Times,serif\" font-size=\"14.00\" fill=\"#000000\">{8} pr_num0 tb0 type4, value&gt;13</text>\n",
       "</g>\n",
       "<!-- 1 -->\n",
       "<g id=\"node2\" class=\"node\">\n",
       "<title>1</title>\n",
       "<ellipse fill=\"none\" stroke=\"#000000\" cx=\"3578.0877\" cy=\"-470\" rx=\"134.5761\" ry=\"18\"/>\n",
       "<text text-anchor=\"middle\" x=\"3578.0877\" y=\"-466.3\" font-family=\"Times,serif\" font-size=\"14.00\" fill=\"#000000\">{0} pr_num1 tb1 type0, value&gt;4</text>\n",
       "</g>\n",
       "<!-- 0&#45;&gt;1 -->\n",
       "<g id=\"edge1\" class=\"edge\">\n",
       "<title>0&#45;&gt;1</title>\n",
       "<path fill=\"none\" stroke=\"#000000\" d=\"M4640.6673,-548.0781C4415.7792,-531.5533 3936.4572,-496.3329 3706.4468,-479.4318\"/>\n",
       "<polygon fill=\"#000000\" stroke=\"#000000\" points=\"3706.5853,-475.9326 3696.3556,-478.6903 3706.0722,-482.9138 3706.5853,-475.9326\"/>\n",
       "<text text-anchor=\"middle\" x=\"4250.5877\" y=\"-509.8\" font-family=\"Times,serif\" font-size=\"14.00\" fill=\"#000000\">No</text>\n",
       "</g>\n",
       "<!-- 2 -->\n",
       "<g id=\"node3\" class=\"node\">\n",
       "<title>2</title>\n",
       "<ellipse fill=\"none\" stroke=\"#000000\" cx=\"5713.0877\" cy=\"-470\" rx=\"134.5761\" ry=\"18\"/>\n",
       "<text text-anchor=\"middle\" x=\"5713.0877\" y=\"-466.3\" font-family=\"Times,serif\" font-size=\"14.00\" fill=\"#000000\">{0} pr_num1 tb1 type0, value&gt;4</text>\n",
       "</g>\n",
       "<!-- 0&#45;&gt;2 -->\n",
       "<g id=\"edge2\" class=\"edge\">\n",
       "<title>0&#45;&gt;2</title>\n",
       "<path fill=\"none\" stroke=\"#000000\" d=\"M4876.3278,-546.549C5056.9638,-530.024 5406.9581,-498.0055 5591.8576,-481.0905\"/>\n",
       "<polygon fill=\"#000000\" stroke=\"#000000\" points=\"5592.2541,-484.5689 5601.8936,-480.1723 5591.6163,-477.598 5592.2541,-484.5689\"/>\n",
       "<text text-anchor=\"middle\" x=\"5305.5877\" y=\"-509.8\" font-family=\"Times,serif\" font-size=\"14.00\" fill=\"#000000\">Yes</text>\n",
       "</g>\n",
       "<!-- 3 -->\n",
       "<g id=\"node4\" class=\"node\">\n",
       "<title>3</title>\n",
       "<ellipse fill=\"none\" stroke=\"#000000\" cx=\"1841.0877\" cy=\"-383\" rx=\"134.5761\" ry=\"18\"/>\n",
       "<text text-anchor=\"middle\" x=\"1841.0877\" y=\"-379.3\" font-family=\"Times,serif\" font-size=\"14.00\" fill=\"#000000\">{8} pr_num0 tb0 type0, value&gt;6</text>\n",
       "</g>\n",
       "<!-- 1&#45;&gt;3 -->\n",
       "<g id=\"edge3\" class=\"edge\">\n",
       "<title>1&#45;&gt;3</title>\n",
       "<path fill=\"none\" stroke=\"#000000\" d=\"M3451.7677,-463.6731C3134.2906,-447.7718 2305.0334,-406.2374 1977.2515,-389.82\"/>\n",
       "<polygon fill=\"#000000\" stroke=\"#000000\" points=\"1977.3891,-386.3225 1967.2265,-389.3178 1977.0389,-393.3138 1977.3891,-386.3225\"/>\n",
       "<text text-anchor=\"middle\" x=\"2823.5877\" y=\"-422.8\" font-family=\"Times,serif\" font-size=\"14.00\" fill=\"#000000\">No</text>\n",
       "</g>\n",
       "<!-- 4 -->\n",
       "<g id=\"node5\" class=\"node\">\n",
       "<title>4</title>\n",
       "<ellipse fill=\"none\" stroke=\"#000000\" cx=\"3578.0877\" cy=\"-383\" rx=\"134.5761\" ry=\"18\"/>\n",
       "<text text-anchor=\"middle\" x=\"3578.0877\" y=\"-379.3\" font-family=\"Times,serif\" font-size=\"14.00\" fill=\"#000000\">{8} pr_num0 tb0 type0, value&gt;6</text>\n",
       "</g>\n",
       "<!-- 1&#45;&gt;4 -->\n",
       "<g id=\"edge4\" class=\"edge\">\n",
       "<title>1&#45;&gt;4</title>\n",
       "<path fill=\"none\" stroke=\"#000000\" d=\"M3578.0877,-451.9735C3578.0877,-440.1918 3578.0877,-424.5607 3578.0877,-411.1581\"/>\n",
       "<polygon fill=\"#000000\" stroke=\"#000000\" points=\"3581.5878,-411.0033 3578.0877,-401.0034 3574.5878,-411.0034 3581.5878,-411.0033\"/>\n",
       "<text text-anchor=\"middle\" x=\"3588.5877\" y=\"-422.8\" font-family=\"Times,serif\" font-size=\"14.00\" fill=\"#000000\">Yes</text>\n",
       "</g>\n",
       "<!-- 5 -->\n",
       "<g id=\"node6\" class=\"node\">\n",
       "<title>5</title>\n",
       "<ellipse fill=\"none\" stroke=\"#000000\" cx=\"5713.0877\" cy=\"-383\" rx=\"134.5761\" ry=\"18\"/>\n",
       "<text text-anchor=\"middle\" x=\"5713.0877\" y=\"-379.3\" font-family=\"Times,serif\" font-size=\"14.00\" fill=\"#000000\">{8} pr_num0 tb0 type0, value&gt;6</text>\n",
       "</g>\n",
       "<!-- 2&#45;&gt;5 -->\n",
       "<g id=\"edge5\" class=\"edge\">\n",
       "<title>2&#45;&gt;5</title>\n",
       "<path fill=\"none\" stroke=\"#000000\" d=\"M5713.0877,-451.9735C5713.0877,-440.1918 5713.0877,-424.5607 5713.0877,-411.1581\"/>\n",
       "<polygon fill=\"#000000\" stroke=\"#000000\" points=\"5716.5878,-411.0033 5713.0877,-401.0034 5709.5878,-411.0034 5716.5878,-411.0033\"/>\n",
       "<text text-anchor=\"middle\" x=\"5722.5877\" y=\"-422.8\" font-family=\"Times,serif\" font-size=\"14.00\" fill=\"#000000\">No</text>\n",
       "</g>\n",
       "<!-- 6 -->\n",
       "<g id=\"node7\" class=\"node\">\n",
       "<title>6</title>\n",
       "<ellipse fill=\"none\" stroke=\"#000000\" cx=\"7613.0877\" cy=\"-383\" rx=\"134.5761\" ry=\"18\"/>\n",
       "<text text-anchor=\"middle\" x=\"7613.0877\" y=\"-379.3\" font-family=\"Times,serif\" font-size=\"14.00\" fill=\"#000000\">{8} pr_num0 tb0 type0, value&gt;6</text>\n",
       "</g>\n",
       "<!-- 2&#45;&gt;6 -->\n",
       "<g id=\"edge6\" class=\"edge\">\n",
       "<title>2&#45;&gt;6</title>\n",
       "<path fill=\"none\" stroke=\"#000000\" d=\"M5840.7023,-464.1566C6183.4316,-448.4632 7121.8807,-405.4921 7475.6769,-389.292\"/>\n",
       "<polygon fill=\"#000000\" stroke=\"#000000\" points=\"7475.8875,-392.7861 7485.7169,-388.8322 7475.5672,-385.7934 7475.8875,-392.7861\"/>\n",
       "<text text-anchor=\"middle\" x=\"6787.5877\" y=\"-422.8\" font-family=\"Times,serif\" font-size=\"14.00\" fill=\"#000000\">Yes</text>\n",
       "</g>\n",
       "<!-- 7 -->\n",
       "<g id=\"node8\" class=\"node\">\n",
       "<title>7</title>\n",
       "<ellipse fill=\"none\" stroke=\"#000000\" cx=\"857.0877\" cy=\"-296\" rx=\"67.6881\" ry=\"18\"/>\n",
       "<text text-anchor=\"middle\" x=\"857.0877\" y=\"-292.3\" font-family=\"Times,serif\" font-size=\"14.00\" fill=\"#000000\">3, value&gt;20.15</text>\n",
       "</g>\n",
       "<!-- 3&#45;&gt;7 -->\n",
       "<g id=\"edge7\" class=\"edge\">\n",
       "<title>3&#45;&gt;7</title>\n",
       "<path fill=\"none\" stroke=\"#000000\" d=\"M1728.6898,-373.0624C1525.5842,-355.1049 1102.6478,-317.7111 931.4365,-302.5735\"/>\n",
       "<polygon fill=\"#000000\" stroke=\"#000000\" points=\"931.5324,-299.0684 921.2629,-301.674 930.9158,-306.0412 931.5324,-299.0684\"/>\n",
       "<text text-anchor=\"middle\" x=\"1417.5877\" y=\"-335.8\" font-family=\"Times,serif\" font-size=\"14.00\" fill=\"#000000\">No</text>\n",
       "</g>\n",
       "<!-- 8 -->\n",
       "<g id=\"node9\" class=\"node\">\n",
       "<title>8</title>\n",
       "<ellipse fill=\"none\" stroke=\"#000000\" cx=\"1841.0877\" cy=\"-296\" rx=\"67.6881\" ry=\"18\"/>\n",
       "<text text-anchor=\"middle\" x=\"1841.0877\" y=\"-292.3\" font-family=\"Times,serif\" font-size=\"14.00\" fill=\"#000000\">3, value&gt;20.15</text>\n",
       "</g>\n",
       "<!-- 3&#45;&gt;8 -->\n",
       "<g id=\"edge8\" class=\"edge\">\n",
       "<title>3&#45;&gt;8</title>\n",
       "<path fill=\"none\" stroke=\"#000000\" d=\"M1841.0877,-364.9735C1841.0877,-353.1918 1841.0877,-337.5607 1841.0877,-324.1581\"/>\n",
       "<polygon fill=\"#000000\" stroke=\"#000000\" points=\"1844.5878,-324.0033 1841.0877,-314.0034 1837.5878,-324.0034 1844.5878,-324.0033\"/>\n",
       "<text text-anchor=\"middle\" x=\"1851.5877\" y=\"-335.8\" font-family=\"Times,serif\" font-size=\"14.00\" fill=\"#000000\">Yes</text>\n",
       "</g>\n",
       "<!-- 9 -->\n",
       "<g id=\"node10\" class=\"node\">\n",
       "<title>9</title>\n",
       "<ellipse fill=\"none\" stroke=\"#000000\" cx=\"3147.0877\" cy=\"-296\" rx=\"67.6881\" ry=\"18\"/>\n",
       "<text text-anchor=\"middle\" x=\"3147.0877\" y=\"-292.3\" font-family=\"Times,serif\" font-size=\"14.00\" fill=\"#000000\">3, value&gt;20.15</text>\n",
       "</g>\n",
       "<!-- 4&#45;&gt;9 -->\n",
       "<g id=\"edge9\" class=\"edge\">\n",
       "<title>4&#45;&gt;9</title>\n",
       "<path fill=\"none\" stroke=\"#000000\" d=\"M3503.5052,-367.9451C3420.9574,-351.2823 3289.2856,-324.7035 3211.1993,-308.9413\"/>\n",
       "<polygon fill=\"#000000\" stroke=\"#000000\" points=\"3211.5098,-305.4335 3201.0149,-306.8855 3210.1246,-312.2951 3211.5098,-305.4335\"/>\n",
       "<text text-anchor=\"middle\" x=\"3398.5877\" y=\"-335.8\" font-family=\"Times,serif\" font-size=\"14.00\" fill=\"#000000\">No</text>\n",
       "</g>\n",
       "<!-- 10 -->\n",
       "<g id=\"node11\" class=\"node\">\n",
       "<title>10</title>\n",
       "<ellipse fill=\"none\" stroke=\"#000000\" cx=\"3916.0877\" cy=\"-296\" rx=\"67.6881\" ry=\"18\"/>\n",
       "<text text-anchor=\"middle\" x=\"3916.0877\" y=\"-292.3\" font-family=\"Times,serif\" font-size=\"14.00\" fill=\"#000000\">3, value&gt;20.15</text>\n",
       "</g>\n",
       "<!-- 4&#45;&gt;10 -->\n",
       "<g id=\"edge10\" class=\"edge\">\n",
       "<title>4&#45;&gt;10</title>\n",
       "<path fill=\"none\" stroke=\"#000000\" d=\"M3640.476,-366.9415C3702.5428,-350.9657 3797.0356,-326.6436 3857.6719,-311.036\"/>\n",
       "<polygon fill=\"#000000\" stroke=\"#000000\" points=\"3858.6607,-314.3957 3867.4726,-308.5134 3856.9157,-307.6166 3858.6607,-314.3957\"/>\n",
       "<text text-anchor=\"middle\" x=\"3778.5877\" y=\"-335.8\" font-family=\"Times,serif\" font-size=\"14.00\" fill=\"#000000\">Yes</text>\n",
       "</g>\n",
       "<!-- 11 -->\n",
       "<g id=\"node12\" class=\"node\">\n",
       "<title>11</title>\n",
       "<ellipse fill=\"none\" stroke=\"#000000\" cx=\"5615.0877\" cy=\"-296\" rx=\"67.6881\" ry=\"18\"/>\n",
       "<text text-anchor=\"middle\" x=\"5615.0877\" y=\"-292.3\" font-family=\"Times,serif\" font-size=\"14.00\" fill=\"#000000\">3, value&gt;20.15</text>\n",
       "</g>\n",
       "<!-- 5&#45;&gt;11 -->\n",
       "<g id=\"edge11\" class=\"edge\">\n",
       "<title>5&#45;&gt;11</title>\n",
       "<path fill=\"none\" stroke=\"#000000\" d=\"M5692.782,-364.9735C5678.1353,-351.9708 5658.2072,-334.2796 5642.2009,-320.0699\"/>\n",
       "<polygon fill=\"#000000\" stroke=\"#000000\" points=\"5644.5005,-317.4312 5634.6986,-313.4097 5639.8533,-322.666 5644.5005,-317.4312\"/>\n",
       "<text text-anchor=\"middle\" x=\"5679.5877\" y=\"-335.8\" font-family=\"Times,serif\" font-size=\"14.00\" fill=\"#000000\">No</text>\n",
       "</g>\n",
       "<!-- 12 -->\n",
       "<g id=\"node13\" class=\"node\">\n",
       "<title>12</title>\n",
       "<ellipse fill=\"none\" stroke=\"#000000\" cx=\"6284.0877\" cy=\"-296\" rx=\"67.6881\" ry=\"18\"/>\n",
       "<text text-anchor=\"middle\" x=\"6284.0877\" y=\"-292.3\" font-family=\"Times,serif\" font-size=\"14.00\" fill=\"#000000\">3, value&gt;20.15</text>\n",
       "</g>\n",
       "<!-- 5&#45;&gt;12 -->\n",
       "<g id=\"edge12\" class=\"edge\">\n",
       "<title>5&#45;&gt;12</title>\n",
       "<path fill=\"none\" stroke=\"#000000\" d=\"M5801.993,-369.454C5916.0538,-352.0752 6111.4959,-322.2968 6215.0296,-306.522\"/>\n",
       "<polygon fill=\"#000000\" stroke=\"#000000\" points=\"6215.7017,-309.9601 6225.0604,-304.9936 6214.6472,-303.0399 6215.7017,-309.9601\"/>\n",
       "<text text-anchor=\"middle\" x=\"6043.5877\" y=\"-335.8\" font-family=\"Times,serif\" font-size=\"14.00\" fill=\"#000000\">Yes</text>\n",
       "</g>\n",
       "<!-- 13 -->\n",
       "<g id=\"node14\" class=\"node\">\n",
       "<title>13</title>\n",
       "<ellipse fill=\"none\" stroke=\"#000000\" cx=\"7613.0877\" cy=\"-296\" rx=\"67.6881\" ry=\"18\"/>\n",
       "<text text-anchor=\"middle\" x=\"7613.0877\" y=\"-292.3\" font-family=\"Times,serif\" font-size=\"14.00\" fill=\"#000000\">3, value&gt;20.15</text>\n",
       "</g>\n",
       "<!-- 6&#45;&gt;13 -->\n",
       "<g id=\"edge13\" class=\"edge\">\n",
       "<title>6&#45;&gt;13</title>\n",
       "<path fill=\"none\" stroke=\"#000000\" d=\"M7613.0877,-364.9735C7613.0877,-353.1918 7613.0877,-337.5607 7613.0877,-324.1581\"/>\n",
       "<polygon fill=\"#000000\" stroke=\"#000000\" points=\"7616.5878,-324.0033 7613.0877,-314.0034 7609.5878,-324.0034 7616.5878,-324.0033\"/>\n",
       "<text text-anchor=\"middle\" x=\"7622.5877\" y=\"-335.8\" font-family=\"Times,serif\" font-size=\"14.00\" fill=\"#000000\">No</text>\n",
       "</g>\n",
       "<!-- 14 -->\n",
       "<g id=\"node15\" class=\"node\">\n",
       "<title>14</title>\n",
       "<ellipse fill=\"none\" stroke=\"#000000\" cx=\"8501.0877\" cy=\"-296\" rx=\"67.6881\" ry=\"18\"/>\n",
       "<text text-anchor=\"middle\" x=\"8501.0877\" y=\"-292.3\" font-family=\"Times,serif\" font-size=\"14.00\" fill=\"#000000\">3, value&gt;20.15</text>\n",
       "</g>\n",
       "<!-- 6&#45;&gt;14 -->\n",
       "<g id=\"edge14\" class=\"edge\">\n",
       "<title>6&#45;&gt;14</title>\n",
       "<path fill=\"none\" stroke=\"#000000\" d=\"M7721.9739,-372.3321C7905.3977,-354.3615 8271.2468,-318.5182 8427.5382,-303.2059\"/>\n",
       "<polygon fill=\"#000000\" stroke=\"#000000\" points=\"8427.9146,-306.6858 8437.5256,-302.2274 8427.232,-299.7192 8427.9146,-306.6858\"/>\n",
       "<text text-anchor=\"middle\" x=\"8121.5877\" y=\"-335.8\" font-family=\"Times,serif\" font-size=\"14.00\" fill=\"#000000\">Yes</text>\n",
       "</g>\n",
       "<!-- 15 -->\n",
       "<g id=\"node16\" class=\"node\">\n",
       "<title>15</title>\n",
       "<ellipse fill=\"none\" stroke=\"#000000\" cx=\"435.0877\" cy=\"-209\" rx=\"134.5761\" ry=\"18\"/>\n",
       "<text text-anchor=\"middle\" x=\"435.0877\" y=\"-205.3\" font-family=\"Times,serif\" font-size=\"14.00\" fill=\"#000000\">{9} pr_num0 tb0 type0, value&gt;8</text>\n",
       "</g>\n",
       "<!-- 7&#45;&gt;15 -->\n",
       "<g id=\"edge15\" class=\"edge\">\n",
       "<title>7&#45;&gt;15</title>\n",
       "<path fill=\"none\" stroke=\"#000000\" d=\"M803.2124,-284.893C731.1832,-270.0434 602.796,-243.5749 518.2889,-226.1529\"/>\n",
       "<polygon fill=\"#000000\" stroke=\"#000000\" points=\"518.9643,-222.7186 508.4635,-224.1273 517.5508,-229.5744 518.9643,-222.7186\"/>\n",
       "<text text-anchor=\"middle\" x=\"681.5877\" y=\"-248.8\" font-family=\"Times,serif\" font-size=\"14.00\" fill=\"#000000\">No</text>\n",
       "</g>\n",
       "<!-- 16 -->\n",
       "<g id=\"node17\" class=\"node\">\n",
       "<title>16</title>\n",
       "<ellipse fill=\"none\" stroke=\"#000000\" cx=\"857.0877\" cy=\"-209\" rx=\"134.5761\" ry=\"18\"/>\n",
       "<text text-anchor=\"middle\" x=\"857.0877\" y=\"-205.3\" font-family=\"Times,serif\" font-size=\"14.00\" fill=\"#000000\">{9} pr_num0 tb0 type0, value&gt;8</text>\n",
       "</g>\n",
       "<!-- 7&#45;&gt;16 -->\n",
       "<g id=\"edge16\" class=\"edge\">\n",
       "<title>7&#45;&gt;16</title>\n",
       "<path fill=\"none\" stroke=\"#000000\" d=\"M857.0877,-277.9735C857.0877,-266.1918 857.0877,-250.5607 857.0877,-237.1581\"/>\n",
       "<polygon fill=\"#000000\" stroke=\"#000000\" points=\"860.5878,-237.0033 857.0877,-227.0034 853.5878,-237.0034 860.5878,-237.0033\"/>\n",
       "<text text-anchor=\"middle\" x=\"867.5877\" y=\"-248.8\" font-family=\"Times,serif\" font-size=\"14.00\" fill=\"#000000\">Yes</text>\n",
       "</g>\n",
       "<!-- 17 -->\n",
       "<g id=\"node18\" class=\"node\">\n",
       "<title>17</title>\n",
       "<ellipse fill=\"none\" stroke=\"#000000\" cx=\"1619.0877\" cy=\"-209\" rx=\"134.5761\" ry=\"18\"/>\n",
       "<text text-anchor=\"middle\" x=\"1619.0877\" y=\"-205.3\" font-family=\"Times,serif\" font-size=\"14.00\" fill=\"#000000\">{9} pr_num0 tb0 type0, value&gt;8</text>\n",
       "</g>\n",
       "<!-- 8&#45;&gt;17 -->\n",
       "<g id=\"edge17\" class=\"edge\">\n",
       "<title>8&#45;&gt;17</title>\n",
       "<path fill=\"none\" stroke=\"#000000\" d=\"M1802.9245,-281.0442C1766.8868,-266.9213 1712.5099,-245.6114 1672.2356,-229.8282\"/>\n",
       "<polygon fill=\"#000000\" stroke=\"#000000\" points=\"1673.4256,-226.5355 1662.838,-226.1454 1670.8715,-233.0529 1673.4256,-226.5355\"/>\n",
       "<text text-anchor=\"middle\" x=\"1753.5877\" y=\"-248.8\" font-family=\"Times,serif\" font-size=\"14.00\" fill=\"#000000\">No</text>\n",
       "</g>\n",
       "<!-- 18 -->\n",
       "<g id=\"node19\" class=\"node\">\n",
       "<title>18</title>\n",
       "<ellipse fill=\"none\" stroke=\"#000000\" cx=\"1915.0877\" cy=\"-209\" rx=\"134.5761\" ry=\"18\"/>\n",
       "<text text-anchor=\"middle\" x=\"1915.0877\" y=\"-205.3\" font-family=\"Times,serif\" font-size=\"14.00\" fill=\"#000000\">{9} pr_num0 tb0 type0, value&gt;8</text>\n",
       "</g>\n",
       "<!-- 8&#45;&gt;18 -->\n",
       "<g id=\"edge18\" class=\"edge\">\n",
       "<title>8&#45;&gt;18</title>\n",
       "<path fill=\"none\" stroke=\"#000000\" d=\"M1856.0627,-278.3943C1866.6538,-265.9425 1881.0304,-249.0403 1892.9433,-235.0346\"/>\n",
       "<polygon fill=\"#000000\" stroke=\"#000000\" points=\"1895.8125,-237.0634 1899.6255,-227.1785 1890.4804,-232.528 1895.8125,-237.0634\"/>\n",
       "<text text-anchor=\"middle\" x=\"1893.5877\" y=\"-248.8\" font-family=\"Times,serif\" font-size=\"14.00\" fill=\"#000000\">Yes</text>\n",
       "</g>\n",
       "<!-- 19 -->\n",
       "<g id=\"node20\" class=\"node\">\n",
       "<title>19</title>\n",
       "<ellipse fill=\"none\" stroke=\"#000000\" cx=\"2803.0877\" cy=\"-209\" rx=\"134.5761\" ry=\"18\"/>\n",
       "<text text-anchor=\"middle\" x=\"2803.0877\" y=\"-205.3\" font-family=\"Times,serif\" font-size=\"14.00\" fill=\"#000000\">{9} pr_num0 tb0 type0, value&gt;8</text>\n",
       "</g>\n",
       "<!-- 9&#45;&gt;19 -->\n",
       "<g id=\"edge19\" class=\"edge\">\n",
       "<title>9&#45;&gt;19</title>\n",
       "<path fill=\"none\" stroke=\"#000000\" d=\"M3097.8008,-283.535C3039.7522,-268.8541 2942.7936,-244.3326 2876.0356,-227.4491\"/>\n",
       "<polygon fill=\"#000000\" stroke=\"#000000\" points=\"2876.5557,-223.9704 2866.0028,-224.9117 2874.8393,-230.7568 2876.5557,-223.9704\"/>\n",
       "<text text-anchor=\"middle\" x=\"3005.5877\" y=\"-248.8\" font-family=\"Times,serif\" font-size=\"14.00\" fill=\"#000000\">No</text>\n",
       "</g>\n",
       "<!-- 20 -->\n",
       "<g id=\"node21\" class=\"node\">\n",
       "<title>20</title>\n",
       "<ellipse fill=\"none\" stroke=\"#000000\" cx=\"3147.0877\" cy=\"-209\" rx=\"134.5761\" ry=\"18\"/>\n",
       "<text text-anchor=\"middle\" x=\"3147.0877\" y=\"-205.3\" font-family=\"Times,serif\" font-size=\"14.00\" fill=\"#000000\">{9} pr_num0 tb0 type0, value&gt;8</text>\n",
       "</g>\n",
       "<!-- 9&#45;&gt;20 -->\n",
       "<g id=\"edge20\" class=\"edge\">\n",
       "<title>9&#45;&gt;20</title>\n",
       "<path fill=\"none\" stroke=\"#000000\" d=\"M3147.0877,-277.9735C3147.0877,-266.1918 3147.0877,-250.5607 3147.0877,-237.1581\"/>\n",
       "<polygon fill=\"#000000\" stroke=\"#000000\" points=\"3150.5878,-237.0033 3147.0877,-227.0034 3143.5878,-237.0034 3150.5878,-237.0033\"/>\n",
       "<text text-anchor=\"middle\" x=\"3157.5877\" y=\"-248.8\" font-family=\"Times,serif\" font-size=\"14.00\" fill=\"#000000\">Yes</text>\n",
       "</g>\n",
       "<!-- 21 -->\n",
       "<g id=\"node22\" class=\"node\">\n",
       "<title>21</title>\n",
       "<ellipse fill=\"none\" stroke=\"#000000\" cx=\"3916.0877\" cy=\"-209\" rx=\"134.5761\" ry=\"18\"/>\n",
       "<text text-anchor=\"middle\" x=\"3916.0877\" y=\"-205.3\" font-family=\"Times,serif\" font-size=\"14.00\" fill=\"#000000\">{9} pr_num0 tb0 type0, value&gt;8</text>\n",
       "</g>\n",
       "<!-- 10&#45;&gt;21 -->\n",
       "<g id=\"edge21\" class=\"edge\">\n",
       "<title>10&#45;&gt;21</title>\n",
       "<path fill=\"none\" stroke=\"#000000\" d=\"M3916.0877,-277.9735C3916.0877,-266.1918 3916.0877,-250.5607 3916.0877,-237.1581\"/>\n",
       "<polygon fill=\"#000000\" stroke=\"#000000\" points=\"3919.5878,-237.0033 3916.0877,-227.0034 3912.5878,-237.0034 3919.5878,-237.0033\"/>\n",
       "<text text-anchor=\"middle\" x=\"3925.5877\" y=\"-248.8\" font-family=\"Times,serif\" font-size=\"14.00\" fill=\"#000000\">No</text>\n",
       "</g>\n",
       "<!-- 22 -->\n",
       "<g id=\"node23\" class=\"node\">\n",
       "<title>22</title>\n",
       "<ellipse fill=\"none\" stroke=\"#000000\" cx=\"4283.0877\" cy=\"-209\" rx=\"134.5761\" ry=\"18\"/>\n",
       "<text text-anchor=\"middle\" x=\"4283.0877\" y=\"-205.3\" font-family=\"Times,serif\" font-size=\"14.00\" fill=\"#000000\">{9} pr_num0 tb0 type0, value&gt;8</text>\n",
       "</g>\n",
       "<!-- 10&#45;&gt;22 -->\n",
       "<g id=\"edge22\" class=\"edge\">\n",
       "<title>10&#45;&gt;22</title>\n",
       "<path fill=\"none\" stroke=\"#000000\" d=\"M3966.7321,-283.9944C4028.8949,-269.2582 4134.8998,-244.129 4206.9082,-227.0589\"/>\n",
       "<polygon fill=\"#000000\" stroke=\"#000000\" points=\"4207.9121,-230.418 4216.8351,-224.7056 4206.2974,-223.6067 4207.9121,-230.418\"/>\n",
       "<text text-anchor=\"middle\" x=\"4132.5877\" y=\"-248.8\" font-family=\"Times,serif\" font-size=\"14.00\" fill=\"#000000\">Yes</text>\n",
       "</g>\n",
       "<!-- 23 -->\n",
       "<g id=\"node24\" class=\"node\">\n",
       "<title>23</title>\n",
       "<ellipse fill=\"none\" stroke=\"#000000\" cx=\"5171.0877\" cy=\"-209\" rx=\"134.5761\" ry=\"18\"/>\n",
       "<text text-anchor=\"middle\" x=\"5171.0877\" y=\"-205.3\" font-family=\"Times,serif\" font-size=\"14.00\" fill=\"#000000\">{9} pr_num0 tb0 type0, value&gt;8</text>\n",
       "</g>\n",
       "<!-- 11&#45;&gt;23 -->\n",
       "<g id=\"edge23\" class=\"edge\">\n",
       "<title>11&#45;&gt;23</title>\n",
       "<path fill=\"none\" stroke=\"#000000\" d=\"M5560.1992,-285.2448C5484.2757,-270.3679 5346.4562,-243.3628 5256.873,-225.8093\"/>\n",
       "<polygon fill=\"#000000\" stroke=\"#000000\" points=\"5257.4939,-222.3645 5247.0074,-223.8762 5256.1478,-229.2338 5257.4939,-222.3645\"/>\n",
       "<text text-anchor=\"middle\" x=\"5429.5877\" y=\"-248.8\" font-family=\"Times,serif\" font-size=\"14.00\" fill=\"#000000\">No</text>\n",
       "</g>\n",
       "<!-- 24 -->\n",
       "<g id=\"node25\" class=\"node\">\n",
       "<title>24</title>\n",
       "<ellipse fill=\"none\" stroke=\"#000000\" cx=\"5615.0877\" cy=\"-209\" rx=\"134.5761\" ry=\"18\"/>\n",
       "<text text-anchor=\"middle\" x=\"5615.0877\" y=\"-205.3\" font-family=\"Times,serif\" font-size=\"14.00\" fill=\"#000000\">{9} pr_num0 tb0 type0, value&gt;8</text>\n",
       "</g>\n",
       "<!-- 11&#45;&gt;24 -->\n",
       "<g id=\"edge24\" class=\"edge\">\n",
       "<title>11&#45;&gt;24</title>\n",
       "<path fill=\"none\" stroke=\"#000000\" d=\"M5615.0877,-277.9735C5615.0877,-266.1918 5615.0877,-250.5607 5615.0877,-237.1581\"/>\n",
       "<polygon fill=\"#000000\" stroke=\"#000000\" points=\"5618.5878,-237.0033 5615.0877,-227.0034 5611.5878,-237.0034 5618.5878,-237.0033\"/>\n",
       "<text text-anchor=\"middle\" x=\"5625.5877\" y=\"-248.8\" font-family=\"Times,serif\" font-size=\"14.00\" fill=\"#000000\">Yes</text>\n",
       "</g>\n",
       "<!-- 25 -->\n",
       "<g id=\"node26\" class=\"node\">\n",
       "<title>25</title>\n",
       "<ellipse fill=\"none\" stroke=\"#000000\" cx=\"6284.0877\" cy=\"-209\" rx=\"134.5761\" ry=\"18\"/>\n",
       "<text text-anchor=\"middle\" x=\"6284.0877\" y=\"-205.3\" font-family=\"Times,serif\" font-size=\"14.00\" fill=\"#000000\">{9} pr_num0 tb0 type0, value&gt;8</text>\n",
       "</g>\n",
       "<!-- 12&#45;&gt;25 -->\n",
       "<g id=\"edge25\" class=\"edge\">\n",
       "<title>12&#45;&gt;25</title>\n",
       "<path fill=\"none\" stroke=\"#000000\" d=\"M6284.0877,-277.9735C6284.0877,-266.1918 6284.0877,-250.5607 6284.0877,-237.1581\"/>\n",
       "<polygon fill=\"#000000\" stroke=\"#000000\" points=\"6287.5878,-237.0033 6284.0877,-227.0034 6280.5878,-237.0034 6287.5878,-237.0033\"/>\n",
       "<text text-anchor=\"middle\" x=\"6293.5877\" y=\"-248.8\" font-family=\"Times,serif\" font-size=\"14.00\" fill=\"#000000\">No</text>\n",
       "</g>\n",
       "<!-- 26 -->\n",
       "<g id=\"node27\" class=\"node\">\n",
       "<title>26</title>\n",
       "<ellipse fill=\"none\" stroke=\"#000000\" cx=\"6651.0877\" cy=\"-209\" rx=\"134.5761\" ry=\"18\"/>\n",
       "<text text-anchor=\"middle\" x=\"6651.0877\" y=\"-205.3\" font-family=\"Times,serif\" font-size=\"14.00\" fill=\"#000000\">{9} pr_num0 tb0 type0, value&gt;8</text>\n",
       "</g>\n",
       "<!-- 12&#45;&gt;26 -->\n",
       "<g id=\"edge26\" class=\"edge\">\n",
       "<title>12&#45;&gt;26</title>\n",
       "<path fill=\"none\" stroke=\"#000000\" d=\"M6334.7321,-283.9944C6396.8949,-269.2582 6502.8998,-244.129 6574.9082,-227.0589\"/>\n",
       "<polygon fill=\"#000000\" stroke=\"#000000\" points=\"6575.9121,-230.418 6584.8351,-224.7056 6574.2974,-223.6067 6575.9121,-230.418\"/>\n",
       "<text text-anchor=\"middle\" x=\"6500.5877\" y=\"-248.8\" font-family=\"Times,serif\" font-size=\"14.00\" fill=\"#000000\">Yes</text>\n",
       "</g>\n",
       "<!-- 27 -->\n",
       "<g id=\"node28\" class=\"node\">\n",
       "<title>27</title>\n",
       "<ellipse fill=\"none\" stroke=\"#000000\" cx=\"7539.0877\" cy=\"-209\" rx=\"134.5761\" ry=\"18\"/>\n",
       "<text text-anchor=\"middle\" x=\"7539.0877\" y=\"-205.3\" font-family=\"Times,serif\" font-size=\"14.00\" fill=\"#000000\">{9} pr_num0 tb0 type0, value&gt;8</text>\n",
       "</g>\n",
       "<!-- 13&#45;&gt;27 -->\n",
       "<g id=\"edge27\" class=\"edge\">\n",
       "<title>13&#45;&gt;27</title>\n",
       "<path fill=\"none\" stroke=\"#000000\" d=\"M7598.1127,-278.3943C7587.5215,-265.9425 7573.1449,-249.0403 7561.232,-235.0346\"/>\n",
       "<polygon fill=\"#000000\" stroke=\"#000000\" points=\"7563.6949,-232.528 7554.5498,-227.1785 7558.3628,-237.0634 7563.6949,-232.528\"/>\n",
       "<text text-anchor=\"middle\" x=\"7590.5877\" y=\"-248.8\" font-family=\"Times,serif\" font-size=\"14.00\" fill=\"#000000\">No</text>\n",
       "</g>\n",
       "<!-- 28 -->\n",
       "<g id=\"node29\" class=\"node\">\n",
       "<title>28</title>\n",
       "<ellipse fill=\"none\" stroke=\"#000000\" cx=\"7835.0877\" cy=\"-209\" rx=\"134.5761\" ry=\"18\"/>\n",
       "<text text-anchor=\"middle\" x=\"7835.0877\" y=\"-205.3\" font-family=\"Times,serif\" font-size=\"14.00\" fill=\"#000000\">{9} pr_num0 tb0 type0, value&gt;8</text>\n",
       "</g>\n",
       "<!-- 13&#45;&gt;28 -->\n",
       "<g id=\"edge28\" class=\"edge\">\n",
       "<title>13&#45;&gt;28</title>\n",
       "<path fill=\"none\" stroke=\"#000000\" d=\"M7651.2508,-281.0442C7687.2886,-266.9213 7741.6654,-245.6114 7781.9397,-229.8282\"/>\n",
       "<polygon fill=\"#000000\" stroke=\"#000000\" points=\"7783.3038,-233.0529 7791.3373,-226.1454 7780.7497,-226.5355 7783.3038,-233.0529\"/>\n",
       "<text text-anchor=\"middle\" x=\"7748.5877\" y=\"-248.8\" font-family=\"Times,serif\" font-size=\"14.00\" fill=\"#000000\">Yes</text>\n",
       "</g>\n",
       "<!-- 29 -->\n",
       "<g id=\"node30\" class=\"node\">\n",
       "<title>29</title>\n",
       "<ellipse fill=\"none\" stroke=\"#000000\" cx=\"8501.0877\" cy=\"-209\" rx=\"134.5761\" ry=\"18\"/>\n",
       "<text text-anchor=\"middle\" x=\"8501.0877\" y=\"-205.3\" font-family=\"Times,serif\" font-size=\"14.00\" fill=\"#000000\">{9} pr_num0 tb0 type0, value&gt;8</text>\n",
       "</g>\n",
       "<!-- 14&#45;&gt;29 -->\n",
       "<g id=\"edge29\" class=\"edge\">\n",
       "<title>14&#45;&gt;29</title>\n",
       "<path fill=\"none\" stroke=\"#000000\" d=\"M8501.0877,-277.9735C8501.0877,-266.1918 8501.0877,-250.5607 8501.0877,-237.1581\"/>\n",
       "<polygon fill=\"#000000\" stroke=\"#000000\" points=\"8504.5878,-237.0033 8501.0877,-227.0034 8497.5878,-237.0034 8504.5878,-237.0033\"/>\n",
       "<text text-anchor=\"middle\" x=\"8510.5877\" y=\"-248.8\" font-family=\"Times,serif\" font-size=\"14.00\" fill=\"#000000\">No</text>\n",
       "</g>\n",
       "<!-- 30 -->\n",
       "<g id=\"node31\" class=\"node\">\n",
       "<title>30</title>\n",
       "<ellipse fill=\"none\" stroke=\"#000000\" cx=\"9019.0877\" cy=\"-209\" rx=\"134.5761\" ry=\"18\"/>\n",
       "<text text-anchor=\"middle\" x=\"9019.0877\" y=\"-205.3\" font-family=\"Times,serif\" font-size=\"14.00\" fill=\"#000000\">{9} pr_num0 tb0 type0, value&gt;8</text>\n",
       "</g>\n",
       "<!-- 14&#45;&gt;30 -->\n",
       "<g id=\"edge30\" class=\"edge\">\n",
       "<title>14&#45;&gt;30</title>\n",
       "<path fill=\"none\" stroke=\"#000000\" d=\"M8558.5019,-286.3571C8647.05,-271.4851 8817.8669,-242.7958 8924.7547,-224.8436\"/>\n",
       "<polygon fill=\"#000000\" stroke=\"#000000\" points=\"8925.612,-228.2487 8934.8942,-223.1406 8924.4525,-221.3454 8925.612,-228.2487\"/>\n",
       "<text text-anchor=\"middle\" x=\"8802.5877\" y=\"-248.8\" font-family=\"Times,serif\" font-size=\"14.00\" fill=\"#000000\">Yes</text>\n",
       "</g>\n",
       "<!-- 31 -->\n",
       "<g id=\"node32\" class=\"node\">\n",
       "<title>31</title>\n",
       "<ellipse fill=\"none\" stroke=\"#000000\" cx=\"139.0877\" cy=\"-122\" rx=\"139.1754\" ry=\"18\"/>\n",
       "<text text-anchor=\"middle\" x=\"139.0877\" y=\"-118.3\" font-family=\"Times,serif\" font-size=\"14.00\" fill=\"#000000\">{9} pr_num1 tb1 type0, value&gt;11</text>\n",
       "</g>\n",
       "<!-- 15&#45;&gt;31 -->\n",
       "<g id=\"edge31\" class=\"edge\">\n",
       "<title>15&#45;&gt;31</title>\n",
       "<path fill=\"none\" stroke=\"#000000\" d=\"M379.0643,-192.5337C329.623,-178.0019 257.4931,-156.8016 205.2306,-141.4407\"/>\n",
       "<polygon fill=\"#000000\" stroke=\"#000000\" points=\"205.9659,-138.0088 195.3847,-138.5468 203.9919,-144.7247 205.9659,-138.0088\"/>\n",
       "<text text-anchor=\"middle\" x=\"314.5877\" y=\"-161.8\" font-family=\"Times,serif\" font-size=\"14.00\" fill=\"#000000\">No</text>\n",
       "</g>\n",
       "<!-- 32 -->\n",
       "<g id=\"node33\" class=\"node\">\n",
       "<title>32</title>\n",
       "<ellipse fill=\"none\" stroke=\"#000000\" cx=\"435.0877\" cy=\"-122\" rx=\"139.1754\" ry=\"18\"/>\n",
       "<text text-anchor=\"middle\" x=\"435.0877\" y=\"-118.3\" font-family=\"Times,serif\" font-size=\"14.00\" fill=\"#000000\">{9} pr_num1 tb1 type0, value&gt;11</text>\n",
       "</g>\n",
       "<!-- 15&#45;&gt;32 -->\n",
       "<g id=\"edge32\" class=\"edge\">\n",
       "<title>15&#45;&gt;32</title>\n",
       "<path fill=\"none\" stroke=\"#000000\" d=\"M435.0877,-190.9735C435.0877,-179.1918 435.0877,-163.5607 435.0877,-150.1581\"/>\n",
       "<polygon fill=\"#000000\" stroke=\"#000000\" points=\"438.5878,-150.0033 435.0877,-140.0034 431.5878,-150.0034 438.5878,-150.0033\"/>\n",
       "<text text-anchor=\"middle\" x=\"445.5877\" y=\"-161.8\" font-family=\"Times,serif\" font-size=\"14.00\" fill=\"#000000\">Yes</text>\n",
       "</g>\n",
       "<!-- 33 -->\n",
       "<g id=\"node34\" class=\"node\">\n",
       "<title>33</title>\n",
       "<ellipse fill=\"none\" stroke=\"#000000\" cx=\"731.0877\" cy=\"-122\" rx=\"139.1754\" ry=\"18\"/>\n",
       "<text text-anchor=\"middle\" x=\"731.0877\" y=\"-118.3\" font-family=\"Times,serif\" font-size=\"14.00\" fill=\"#000000\">{9} pr_num1 tb1 type0, value&gt;11</text>\n",
       "</g>\n",
       "<!-- 16&#45;&gt;33 -->\n",
       "<g id=\"edge33\" class=\"edge\">\n",
       "<title>16&#45;&gt;33</title>\n",
       "<path fill=\"none\" stroke=\"#000000\" d=\"M831.2856,-191.1843C812.1752,-177.989 785.9503,-159.8813 765.1235,-145.5009\"/>\n",
       "<polygon fill=\"#000000\" stroke=\"#000000\" points=\"767.0729,-142.5937 756.8552,-139.7919 763.0955,-148.354 767.0729,-142.5937\"/>\n",
       "<text text-anchor=\"middle\" x=\"811.5877\" y=\"-161.8\" font-family=\"Times,serif\" font-size=\"14.00\" fill=\"#000000\">No</text>\n",
       "</g>\n",
       "<!-- 34 -->\n",
       "<g id=\"node35\" class=\"node\">\n",
       "<title>34</title>\n",
       "<ellipse fill=\"none\" stroke=\"#000000\" cx=\"1027.0877\" cy=\"-122\" rx=\"139.1754\" ry=\"18\"/>\n",
       "<text text-anchor=\"middle\" x=\"1027.0877\" y=\"-118.3\" font-family=\"Times,serif\" font-size=\"14.00\" fill=\"#000000\">{9} pr_num1 tb1 type0, value&gt;11</text>\n",
       "</g>\n",
       "<!-- 16&#45;&gt;34 -->\n",
       "<g id=\"edge34\" class=\"edge\">\n",
       "<title>16&#45;&gt;34</title>\n",
       "<path fill=\"none\" stroke=\"#000000\" d=\"M891.4897,-191.3943C918.1036,-177.7742 955.1227,-158.8291 983.758,-144.1746\"/>\n",
       "<polygon fill=\"#000000\" stroke=\"#000000\" points=\"985.4293,-147.251 992.7368,-139.5796 982.2403,-141.0196 985.4293,-147.251\"/>\n",
       "<text text-anchor=\"middle\" x=\"963.5877\" y=\"-161.8\" font-family=\"Times,serif\" font-size=\"14.00\" fill=\"#000000\">Yes</text>\n",
       "</g>\n",
       "<!-- 35 -->\n",
       "<g id=\"node36\" class=\"node\">\n",
       "<title>35</title>\n",
       "<ellipse fill=\"none\" stroke=\"#000000\" cx=\"1323.0877\" cy=\"-122\" rx=\"139.1754\" ry=\"18\"/>\n",
       "<text text-anchor=\"middle\" x=\"1323.0877\" y=\"-118.3\" font-family=\"Times,serif\" font-size=\"14.00\" fill=\"#000000\">{9} pr_num1 tb1 type0, value&gt;11</text>\n",
       "</g>\n",
       "<!-- 17&#45;&gt;35 -->\n",
       "<g id=\"edge35\" class=\"edge\">\n",
       "<title>17&#45;&gt;35</title>\n",
       "<path fill=\"none\" stroke=\"#000000\" d=\"M1563.0643,-192.5337C1513.623,-178.0019 1441.4931,-156.8016 1389.2306,-141.4407\"/>\n",
       "<polygon fill=\"#000000\" stroke=\"#000000\" points=\"1389.9659,-138.0088 1379.3847,-138.5468 1387.9919,-144.7247 1389.9659,-138.0088\"/>\n",
       "<text text-anchor=\"middle\" x=\"1498.5877\" y=\"-161.8\" font-family=\"Times,serif\" font-size=\"14.00\" fill=\"#000000\">No</text>\n",
       "</g>\n",
       "<!-- 36 -->\n",
       "<g id=\"node37\" class=\"node\">\n",
       "<title>36</title>\n",
       "<ellipse fill=\"none\" stroke=\"#000000\" cx=\"1619.0877\" cy=\"-122\" rx=\"139.1754\" ry=\"18\"/>\n",
       "<text text-anchor=\"middle\" x=\"1619.0877\" y=\"-118.3\" font-family=\"Times,serif\" font-size=\"14.00\" fill=\"#000000\">{9} pr_num1 tb1 type0, value&gt;11</text>\n",
       "</g>\n",
       "<!-- 17&#45;&gt;36 -->\n",
       "<g id=\"edge36\" class=\"edge\">\n",
       "<title>17&#45;&gt;36</title>\n",
       "<path fill=\"none\" stroke=\"#000000\" d=\"M1619.0877,-190.9735C1619.0877,-179.1918 1619.0877,-163.5607 1619.0877,-150.1581\"/>\n",
       "<polygon fill=\"#000000\" stroke=\"#000000\" points=\"1622.5878,-150.0033 1619.0877,-140.0034 1615.5878,-150.0034 1622.5878,-150.0033\"/>\n",
       "<text text-anchor=\"middle\" x=\"1629.5877\" y=\"-161.8\" font-family=\"Times,serif\" font-size=\"14.00\" fill=\"#000000\">Yes</text>\n",
       "</g>\n",
       "<!-- 37 -->\n",
       "<g id=\"node38\" class=\"node\">\n",
       "<title>37</title>\n",
       "<ellipse fill=\"none\" stroke=\"#000000\" cx=\"1915.0877\" cy=\"-122\" rx=\"139.1754\" ry=\"18\"/>\n",
       "<text text-anchor=\"middle\" x=\"1915.0877\" y=\"-118.3\" font-family=\"Times,serif\" font-size=\"14.00\" fill=\"#000000\">{9} pr_num1 tb1 type0, value&gt;11</text>\n",
       "</g>\n",
       "<!-- 18&#45;&gt;37 -->\n",
       "<g id=\"edge37\" class=\"edge\">\n",
       "<title>18&#45;&gt;37</title>\n",
       "<path fill=\"none\" stroke=\"#000000\" d=\"M1915.0877,-190.9735C1915.0877,-179.1918 1915.0877,-163.5607 1915.0877,-150.1581\"/>\n",
       "<polygon fill=\"#000000\" stroke=\"#000000\" points=\"1918.5878,-150.0033 1915.0877,-140.0034 1911.5878,-150.0034 1918.5878,-150.0033\"/>\n",
       "<text text-anchor=\"middle\" x=\"1924.5877\" y=\"-161.8\" font-family=\"Times,serif\" font-size=\"14.00\" fill=\"#000000\">No</text>\n",
       "</g>\n",
       "<!-- 38 -->\n",
       "<g id=\"node39\" class=\"node\">\n",
       "<title>38</title>\n",
       "<ellipse fill=\"none\" stroke=\"#000000\" cx=\"2211.0877\" cy=\"-122\" rx=\"139.1754\" ry=\"18\"/>\n",
       "<text text-anchor=\"middle\" x=\"2211.0877\" y=\"-118.3\" font-family=\"Times,serif\" font-size=\"14.00\" fill=\"#000000\">{9} pr_num1 tb1 type0, value&gt;11</text>\n",
       "</g>\n",
       "<!-- 18&#45;&gt;38 -->\n",
       "<g id=\"edge38\" class=\"edge\">\n",
       "<title>18&#45;&gt;38</title>\n",
       "<path fill=\"none\" stroke=\"#000000\" d=\"M1971.111,-192.5337C2020.5523,-178.0019 2092.6822,-156.8016 2144.9447,-141.4407\"/>\n",
       "<polygon fill=\"#000000\" stroke=\"#000000\" points=\"2146.1834,-144.7247 2154.7906,-138.5468 2144.2094,-138.0088 2146.1834,-144.7247\"/>\n",
       "<text text-anchor=\"middle\" x=\"2091.5877\" y=\"-161.8\" font-family=\"Times,serif\" font-size=\"14.00\" fill=\"#000000\">Yes</text>\n",
       "</g>\n",
       "<!-- 39 -->\n",
       "<g id=\"node40\" class=\"node\">\n",
       "<title>39</title>\n",
       "<ellipse fill=\"none\" stroke=\"#000000\" cx=\"2507.0877\" cy=\"-122\" rx=\"139.1754\" ry=\"18\"/>\n",
       "<text text-anchor=\"middle\" x=\"2507.0877\" y=\"-118.3\" font-family=\"Times,serif\" font-size=\"14.00\" fill=\"#000000\">{9} pr_num1 tb1 type0, value&gt;11</text>\n",
       "</g>\n",
       "<!-- 19&#45;&gt;39 -->\n",
       "<g id=\"edge39\" class=\"edge\">\n",
       "<title>19&#45;&gt;39</title>\n",
       "<path fill=\"none\" stroke=\"#000000\" d=\"M2747.0643,-192.5337C2697.623,-178.0019 2625.4931,-156.8016 2573.2306,-141.4407\"/>\n",
       "<polygon fill=\"#000000\" stroke=\"#000000\" points=\"2573.9659,-138.0088 2563.3847,-138.5468 2571.9919,-144.7247 2573.9659,-138.0088\"/>\n",
       "<text text-anchor=\"middle\" x=\"2682.5877\" y=\"-161.8\" font-family=\"Times,serif\" font-size=\"14.00\" fill=\"#000000\">No</text>\n",
       "</g>\n",
       "<!-- 40 -->\n",
       "<g id=\"node41\" class=\"node\">\n",
       "<title>40</title>\n",
       "<ellipse fill=\"none\" stroke=\"#000000\" cx=\"2803.0877\" cy=\"-122\" rx=\"139.1754\" ry=\"18\"/>\n",
       "<text text-anchor=\"middle\" x=\"2803.0877\" y=\"-118.3\" font-family=\"Times,serif\" font-size=\"14.00\" fill=\"#000000\">{9} pr_num1 tb1 type0, value&gt;11</text>\n",
       "</g>\n",
       "<!-- 19&#45;&gt;40 -->\n",
       "<g id=\"edge40\" class=\"edge\">\n",
       "<title>19&#45;&gt;40</title>\n",
       "<path fill=\"none\" stroke=\"#000000\" d=\"M2803.0877,-190.9735C2803.0877,-179.1918 2803.0877,-163.5607 2803.0877,-150.1581\"/>\n",
       "<polygon fill=\"#000000\" stroke=\"#000000\" points=\"2806.5878,-150.0033 2803.0877,-140.0034 2799.5878,-150.0034 2806.5878,-150.0033\"/>\n",
       "<text text-anchor=\"middle\" x=\"2813.5877\" y=\"-161.8\" font-family=\"Times,serif\" font-size=\"14.00\" fill=\"#000000\">Yes</text>\n",
       "</g>\n",
       "<!-- 41 -->\n",
       "<g id=\"node42\" class=\"node\">\n",
       "<title>41</title>\n",
       "<ellipse fill=\"none\" stroke=\"#000000\" cx=\"3099.0877\" cy=\"-122\" rx=\"139.1754\" ry=\"18\"/>\n",
       "<text text-anchor=\"middle\" x=\"3099.0877\" y=\"-118.3\" font-family=\"Times,serif\" font-size=\"14.00\" fill=\"#000000\">{9} pr_num1 tb1 type0, value&gt;11</text>\n",
       "</g>\n",
       "<!-- 20&#45;&gt;41 -->\n",
       "<g id=\"edge41\" class=\"edge\">\n",
       "<title>20&#45;&gt;41</title>\n",
       "<path fill=\"none\" stroke=\"#000000\" d=\"M3137.142,-190.9735C3130.4487,-178.8418 3121.5035,-162.6287 3113.9676,-148.9698\"/>\n",
       "<polygon fill=\"#000000\" stroke=\"#000000\" points=\"3116.9159,-147.0684 3109.0205,-140.0034 3110.7868,-150.4499 3116.9159,-147.0684\"/>\n",
       "<text text-anchor=\"middle\" x=\"3135.5877\" y=\"-161.8\" font-family=\"Times,serif\" font-size=\"14.00\" fill=\"#000000\">No</text>\n",
       "</g>\n",
       "<!-- 42 -->\n",
       "<g id=\"node43\" class=\"node\">\n",
       "<title>42</title>\n",
       "<ellipse fill=\"none\" stroke=\"#000000\" cx=\"3395.0877\" cy=\"-122\" rx=\"139.1754\" ry=\"18\"/>\n",
       "<text text-anchor=\"middle\" x=\"3395.0877\" y=\"-118.3\" font-family=\"Times,serif\" font-size=\"14.00\" fill=\"#000000\">{9} pr_num1 tb1 type0, value&gt;11</text>\n",
       "</g>\n",
       "<!-- 20&#45;&gt;42 -->\n",
       "<g id=\"edge42\" class=\"edge\">\n",
       "<title>20&#45;&gt;42</title>\n",
       "<path fill=\"none\" stroke=\"#000000\" d=\"M3195.1986,-192.1224C3235.7946,-177.881 3294.0233,-157.454 3337.1709,-142.3176\"/>\n",
       "<polygon fill=\"#000000\" stroke=\"#000000\" points=\"3338.4102,-145.592 3346.6878,-138.979 3336.093,-138.9867 3338.4102,-145.592\"/>\n",
       "<text text-anchor=\"middle\" x=\"3296.5877\" y=\"-161.8\" font-family=\"Times,serif\" font-size=\"14.00\" fill=\"#000000\">Yes</text>\n",
       "</g>\n",
       "<!-- 43 -->\n",
       "<g id=\"node44\" class=\"node\">\n",
       "<title>43</title>\n",
       "<ellipse fill=\"none\" stroke=\"#000000\" cx=\"3691.0877\" cy=\"-122\" rx=\"139.1754\" ry=\"18\"/>\n",
       "<text text-anchor=\"middle\" x=\"3691.0877\" y=\"-118.3\" font-family=\"Times,serif\" font-size=\"14.00\" fill=\"#000000\">{9} pr_num1 tb1 type0, value&gt;11</text>\n",
       "</g>\n",
       "<!-- 21&#45;&gt;43 -->\n",
       "<g id=\"edge43\" class=\"edge\">\n",
       "<title>21&#45;&gt;43</title>\n",
       "<path fill=\"none\" stroke=\"#000000\" d=\"M3871.9034,-191.9154C3835.5649,-177.8645 3783.922,-157.8959 3745.1249,-142.8944\"/>\n",
       "<polygon fill=\"#000000\" stroke=\"#000000\" points=\"3746.1444,-139.5361 3735.5551,-139.1941 3743.6199,-146.0651 3746.1444,-139.5361\"/>\n",
       "<text text-anchor=\"middle\" x=\"3826.5877\" y=\"-161.8\" font-family=\"Times,serif\" font-size=\"14.00\" fill=\"#000000\">No</text>\n",
       "</g>\n",
       "<!-- 44 -->\n",
       "<g id=\"node45\" class=\"node\">\n",
       "<title>44</title>\n",
       "<ellipse fill=\"none\" stroke=\"#000000\" cx=\"3987.0877\" cy=\"-122\" rx=\"139.1754\" ry=\"18\"/>\n",
       "<text text-anchor=\"middle\" x=\"3987.0877\" y=\"-118.3\" font-family=\"Times,serif\" font-size=\"14.00\" fill=\"#000000\">{9} pr_num1 tb1 type0, value&gt;11</text>\n",
       "</g>\n",
       "<!-- 21&#45;&gt;44 -->\n",
       "<g id=\"edge44\" class=\"edge\">\n",
       "<title>21&#45;&gt;44</title>\n",
       "<path fill=\"none\" stroke=\"#000000\" d=\"M3930.7989,-190.9735C3940.9851,-178.4919 3954.697,-161.6899 3966.0371,-147.7944\"/>\n",
       "<polygon fill=\"#000000\" stroke=\"#000000\" points=\"3968.7842,-149.9638 3972.3953,-140.0034 3963.3609,-145.5379 3968.7842,-149.9638\"/>\n",
       "<text text-anchor=\"middle\" x=\"3966.5877\" y=\"-161.8\" font-family=\"Times,serif\" font-size=\"14.00\" fill=\"#000000\">Yes</text>\n",
       "</g>\n",
       "<!-- 45 -->\n",
       "<g id=\"node46\" class=\"node\">\n",
       "<title>45</title>\n",
       "<ellipse fill=\"none\" stroke=\"#000000\" cx=\"4283.0877\" cy=\"-122\" rx=\"139.1754\" ry=\"18\"/>\n",
       "<text text-anchor=\"middle\" x=\"4283.0877\" y=\"-118.3\" font-family=\"Times,serif\" font-size=\"14.00\" fill=\"#000000\">{9} pr_num1 tb1 type0, value&gt;11</text>\n",
       "</g>\n",
       "<!-- 22&#45;&gt;45 -->\n",
       "<g id=\"edge45\" class=\"edge\">\n",
       "<title>22&#45;&gt;45</title>\n",
       "<path fill=\"none\" stroke=\"#000000\" d=\"M4283.0877,-190.9735C4283.0877,-179.1918 4283.0877,-163.5607 4283.0877,-150.1581\"/>\n",
       "<polygon fill=\"#000000\" stroke=\"#000000\" points=\"4286.5878,-150.0033 4283.0877,-140.0034 4279.5878,-150.0034 4286.5878,-150.0033\"/>\n",
       "<text text-anchor=\"middle\" x=\"4292.5877\" y=\"-161.8\" font-family=\"Times,serif\" font-size=\"14.00\" fill=\"#000000\">No</text>\n",
       "</g>\n",
       "<!-- 46 -->\n",
       "<g id=\"node47\" class=\"node\">\n",
       "<title>46</title>\n",
       "<ellipse fill=\"none\" stroke=\"#000000\" cx=\"4579.0877\" cy=\"-122\" rx=\"139.1754\" ry=\"18\"/>\n",
       "<text text-anchor=\"middle\" x=\"4579.0877\" y=\"-118.3\" font-family=\"Times,serif\" font-size=\"14.00\" fill=\"#000000\">{9} pr_num1 tb1 type0, value&gt;11</text>\n",
       "</g>\n",
       "<!-- 22&#45;&gt;46 -->\n",
       "<g id=\"edge46\" class=\"edge\">\n",
       "<title>22&#45;&gt;46</title>\n",
       "<path fill=\"none\" stroke=\"#000000\" d=\"M4339.111,-192.5337C4388.5523,-178.0019 4460.6822,-156.8016 4512.9447,-141.4407\"/>\n",
       "<polygon fill=\"#000000\" stroke=\"#000000\" points=\"4514.1834,-144.7247 4522.7906,-138.5468 4512.2094,-138.0088 4514.1834,-144.7247\"/>\n",
       "<text text-anchor=\"middle\" x=\"4459.5877\" y=\"-161.8\" font-family=\"Times,serif\" font-size=\"14.00\" fill=\"#000000\">Yes</text>\n",
       "</g>\n",
       "<!-- 47 -->\n",
       "<g id=\"node48\" class=\"node\">\n",
       "<title>47</title>\n",
       "<ellipse fill=\"none\" stroke=\"#000000\" cx=\"4875.0877\" cy=\"-122\" rx=\"139.1754\" ry=\"18\"/>\n",
       "<text text-anchor=\"middle\" x=\"4875.0877\" y=\"-118.3\" font-family=\"Times,serif\" font-size=\"14.00\" fill=\"#000000\">{9} pr_num1 tb1 type0, value&gt;11</text>\n",
       "</g>\n",
       "<!-- 23&#45;&gt;47 -->\n",
       "<g id=\"edge47\" class=\"edge\">\n",
       "<title>23&#45;&gt;47</title>\n",
       "<path fill=\"none\" stroke=\"#000000\" d=\"M5115.0643,-192.5337C5065.623,-178.0019 4993.4931,-156.8016 4941.2306,-141.4407\"/>\n",
       "<polygon fill=\"#000000\" stroke=\"#000000\" points=\"4941.9659,-138.0088 4931.3847,-138.5468 4939.9919,-144.7247 4941.9659,-138.0088\"/>\n",
       "<text text-anchor=\"middle\" x=\"5050.5877\" y=\"-161.8\" font-family=\"Times,serif\" font-size=\"14.00\" fill=\"#000000\">No</text>\n",
       "</g>\n",
       "<!-- 48 -->\n",
       "<g id=\"node49\" class=\"node\">\n",
       "<title>48</title>\n",
       "<ellipse fill=\"none\" stroke=\"#000000\" cx=\"5171.0877\" cy=\"-122\" rx=\"139.1754\" ry=\"18\"/>\n",
       "<text text-anchor=\"middle\" x=\"5171.0877\" y=\"-118.3\" font-family=\"Times,serif\" font-size=\"14.00\" fill=\"#000000\">{9} pr_num1 tb1 type0, value&gt;11</text>\n",
       "</g>\n",
       "<!-- 23&#45;&gt;48 -->\n",
       "<g id=\"edge48\" class=\"edge\">\n",
       "<title>23&#45;&gt;48</title>\n",
       "<path fill=\"none\" stroke=\"#000000\" d=\"M5171.0877,-190.9735C5171.0877,-179.1918 5171.0877,-163.5607 5171.0877,-150.1581\"/>\n",
       "<polygon fill=\"#000000\" stroke=\"#000000\" points=\"5174.5878,-150.0033 5171.0877,-140.0034 5167.5878,-150.0034 5174.5878,-150.0033\"/>\n",
       "<text text-anchor=\"middle\" x=\"5181.5877\" y=\"-161.8\" font-family=\"Times,serif\" font-size=\"14.00\" fill=\"#000000\">Yes</text>\n",
       "</g>\n",
       "<!-- 49 -->\n",
       "<g id=\"node50\" class=\"node\">\n",
       "<title>49</title>\n",
       "<ellipse fill=\"none\" stroke=\"#000000\" cx=\"5467.0877\" cy=\"-122\" rx=\"139.1754\" ry=\"18\"/>\n",
       "<text text-anchor=\"middle\" x=\"5467.0877\" y=\"-118.3\" font-family=\"Times,serif\" font-size=\"14.00\" fill=\"#000000\">{9} pr_num1 tb1 type0, value&gt;11</text>\n",
       "</g>\n",
       "<!-- 24&#45;&gt;49 -->\n",
       "<g id=\"edge49\" class=\"edge\">\n",
       "<title>24&#45;&gt;49</title>\n",
       "<path fill=\"none\" stroke=\"#000000\" d=\"M5585.1377,-191.3943C5562.2688,-177.9511 5530.5751,-159.3203 5505.7849,-144.7477\"/>\n",
       "<polygon fill=\"#000000\" stroke=\"#000000\" points=\"5507.3877,-141.63 5496.9931,-139.5796 5503.8403,-147.6646 5507.3877,-141.63\"/>\n",
       "<text text-anchor=\"middle\" x=\"5559.5877\" y=\"-161.8\" font-family=\"Times,serif\" font-size=\"14.00\" fill=\"#000000\">No</text>\n",
       "</g>\n",
       "<!-- 50 -->\n",
       "<g id=\"node51\" class=\"node\">\n",
       "<title>50</title>\n",
       "<ellipse fill=\"none\" stroke=\"#000000\" cx=\"5763.0877\" cy=\"-122\" rx=\"139.1754\" ry=\"18\"/>\n",
       "<text text-anchor=\"middle\" x=\"5763.0877\" y=\"-118.3\" font-family=\"Times,serif\" font-size=\"14.00\" fill=\"#000000\">{9} pr_num1 tb1 type0, value&gt;11</text>\n",
       "</g>\n",
       "<!-- 24&#45;&gt;50 -->\n",
       "<g id=\"edge50\" class=\"edge\">\n",
       "<title>24&#45;&gt;50</title>\n",
       "<path fill=\"none\" stroke=\"#000000\" d=\"M5645.0377,-191.3943C5667.9065,-177.9511 5699.6002,-159.3203 5724.3904,-144.7477\"/>\n",
       "<polygon fill=\"#000000\" stroke=\"#000000\" points=\"5726.335,-147.6646 5733.1822,-139.5796 5722.7876,-141.63 5726.335,-147.6646\"/>\n",
       "<text text-anchor=\"middle\" x=\"5708.5877\" y=\"-161.8\" font-family=\"Times,serif\" font-size=\"14.00\" fill=\"#000000\">Yes</text>\n",
       "</g>\n",
       "<!-- 51 -->\n",
       "<g id=\"node52\" class=\"node\">\n",
       "<title>51</title>\n",
       "<ellipse fill=\"none\" stroke=\"#000000\" cx=\"6059.0877\" cy=\"-122\" rx=\"139.1754\" ry=\"18\"/>\n",
       "<text text-anchor=\"middle\" x=\"6059.0877\" y=\"-118.3\" font-family=\"Times,serif\" font-size=\"14.00\" fill=\"#000000\">{9} pr_num1 tb1 type0, value&gt;11</text>\n",
       "</g>\n",
       "<!-- 25&#45;&gt;51 -->\n",
       "<g id=\"edge51\" class=\"edge\">\n",
       "<title>25&#45;&gt;51</title>\n",
       "<path fill=\"none\" stroke=\"#000000\" d=\"M6239.9034,-191.9154C6203.5649,-177.8645 6151.922,-157.8959 6113.1249,-142.8944\"/>\n",
       "<polygon fill=\"#000000\" stroke=\"#000000\" points=\"6114.1444,-139.5361 6103.5551,-139.1941 6111.6199,-146.0651 6114.1444,-139.5361\"/>\n",
       "<text text-anchor=\"middle\" x=\"6194.5877\" y=\"-161.8\" font-family=\"Times,serif\" font-size=\"14.00\" fill=\"#000000\">No</text>\n",
       "</g>\n",
       "<!-- 52 -->\n",
       "<g id=\"node53\" class=\"node\">\n",
       "<title>52</title>\n",
       "<ellipse fill=\"none\" stroke=\"#000000\" cx=\"6355.0877\" cy=\"-122\" rx=\"139.1754\" ry=\"18\"/>\n",
       "<text text-anchor=\"middle\" x=\"6355.0877\" y=\"-118.3\" font-family=\"Times,serif\" font-size=\"14.00\" fill=\"#000000\">{9} pr_num1 tb1 type0, value&gt;11</text>\n",
       "</g>\n",
       "<!-- 25&#45;&gt;52 -->\n",
       "<g id=\"edge52\" class=\"edge\">\n",
       "<title>25&#45;&gt;52</title>\n",
       "<path fill=\"none\" stroke=\"#000000\" d=\"M6298.7989,-190.9735C6308.9851,-178.4919 6322.697,-161.6899 6334.0371,-147.7944\"/>\n",
       "<polygon fill=\"#000000\" stroke=\"#000000\" points=\"6336.7842,-149.9638 6340.3953,-140.0034 6331.3609,-145.5379 6336.7842,-149.9638\"/>\n",
       "<text text-anchor=\"middle\" x=\"6334.5877\" y=\"-161.8\" font-family=\"Times,serif\" font-size=\"14.00\" fill=\"#000000\">Yes</text>\n",
       "</g>\n",
       "<!-- 53 -->\n",
       "<g id=\"node54\" class=\"node\">\n",
       "<title>53</title>\n",
       "<ellipse fill=\"none\" stroke=\"#000000\" cx=\"6651.0877\" cy=\"-122\" rx=\"139.1754\" ry=\"18\"/>\n",
       "<text text-anchor=\"middle\" x=\"6651.0877\" y=\"-118.3\" font-family=\"Times,serif\" font-size=\"14.00\" fill=\"#000000\">{9} pr_num1 tb1 type0, value&gt;11</text>\n",
       "</g>\n",
       "<!-- 26&#45;&gt;53 -->\n",
       "<g id=\"edge53\" class=\"edge\">\n",
       "<title>26&#45;&gt;53</title>\n",
       "<path fill=\"none\" stroke=\"#000000\" d=\"M6651.0877,-190.9735C6651.0877,-179.1918 6651.0877,-163.5607 6651.0877,-150.1581\"/>\n",
       "<polygon fill=\"#000000\" stroke=\"#000000\" points=\"6654.5878,-150.0033 6651.0877,-140.0034 6647.5878,-150.0034 6654.5878,-150.0033\"/>\n",
       "<text text-anchor=\"middle\" x=\"6660.5877\" y=\"-161.8\" font-family=\"Times,serif\" font-size=\"14.00\" fill=\"#000000\">No</text>\n",
       "</g>\n",
       "<!-- 54 -->\n",
       "<g id=\"node55\" class=\"node\">\n",
       "<title>54</title>\n",
       "<ellipse fill=\"none\" stroke=\"#000000\" cx=\"6947.0877\" cy=\"-122\" rx=\"139.1754\" ry=\"18\"/>\n",
       "<text text-anchor=\"middle\" x=\"6947.0877\" y=\"-118.3\" font-family=\"Times,serif\" font-size=\"14.00\" fill=\"#000000\">{9} pr_num1 tb1 type0, value&gt;11</text>\n",
       "</g>\n",
       "<!-- 26&#45;&gt;54 -->\n",
       "<g id=\"edge54\" class=\"edge\">\n",
       "<title>26&#45;&gt;54</title>\n",
       "<path fill=\"none\" stroke=\"#000000\" d=\"M6707.111,-192.5337C6756.5523,-178.0019 6828.6822,-156.8016 6880.9447,-141.4407\"/>\n",
       "<polygon fill=\"#000000\" stroke=\"#000000\" points=\"6882.1834,-144.7247 6890.7906,-138.5468 6880.2094,-138.0088 6882.1834,-144.7247\"/>\n",
       "<text text-anchor=\"middle\" x=\"6827.5877\" y=\"-161.8\" font-family=\"Times,serif\" font-size=\"14.00\" fill=\"#000000\">Yes</text>\n",
       "</g>\n",
       "<!-- 55 -->\n",
       "<g id=\"node56\" class=\"node\">\n",
       "<title>55</title>\n",
       "<ellipse fill=\"none\" stroke=\"#000000\" cx=\"7243.0877\" cy=\"-122\" rx=\"139.1754\" ry=\"18\"/>\n",
       "<text text-anchor=\"middle\" x=\"7243.0877\" y=\"-118.3\" font-family=\"Times,serif\" font-size=\"14.00\" fill=\"#000000\">{9} pr_num1 tb1 type0, value&gt;11</text>\n",
       "</g>\n",
       "<!-- 27&#45;&gt;55 -->\n",
       "<g id=\"edge55\" class=\"edge\">\n",
       "<title>27&#45;&gt;55</title>\n",
       "<path fill=\"none\" stroke=\"#000000\" d=\"M7483.0643,-192.5337C7433.623,-178.0019 7361.4931,-156.8016 7309.2306,-141.4407\"/>\n",
       "<polygon fill=\"#000000\" stroke=\"#000000\" points=\"7309.9659,-138.0088 7299.3847,-138.5468 7307.9919,-144.7247 7309.9659,-138.0088\"/>\n",
       "<text text-anchor=\"middle\" x=\"7418.5877\" y=\"-161.8\" font-family=\"Times,serif\" font-size=\"14.00\" fill=\"#000000\">No</text>\n",
       "</g>\n",
       "<!-- 56 -->\n",
       "<g id=\"node57\" class=\"node\">\n",
       "<title>56</title>\n",
       "<ellipse fill=\"none\" stroke=\"#000000\" cx=\"7539.0877\" cy=\"-122\" rx=\"139.1754\" ry=\"18\"/>\n",
       "<text text-anchor=\"middle\" x=\"7539.0877\" y=\"-118.3\" font-family=\"Times,serif\" font-size=\"14.00\" fill=\"#000000\">{9} pr_num1 tb1 type0, value&gt;11</text>\n",
       "</g>\n",
       "<!-- 27&#45;&gt;56 -->\n",
       "<g id=\"edge56\" class=\"edge\">\n",
       "<title>27&#45;&gt;56</title>\n",
       "<path fill=\"none\" stroke=\"#000000\" d=\"M7539.0877,-190.9735C7539.0877,-179.1918 7539.0877,-163.5607 7539.0877,-150.1581\"/>\n",
       "<polygon fill=\"#000000\" stroke=\"#000000\" points=\"7542.5878,-150.0033 7539.0877,-140.0034 7535.5878,-150.0034 7542.5878,-150.0033\"/>\n",
       "<text text-anchor=\"middle\" x=\"7549.5877\" y=\"-161.8\" font-family=\"Times,serif\" font-size=\"14.00\" fill=\"#000000\">Yes</text>\n",
       "</g>\n",
       "<!-- 57 -->\n",
       "<g id=\"node58\" class=\"node\">\n",
       "<title>57</title>\n",
       "<ellipse fill=\"none\" stroke=\"#000000\" cx=\"7835.0877\" cy=\"-122\" rx=\"139.1754\" ry=\"18\"/>\n",
       "<text text-anchor=\"middle\" x=\"7835.0877\" y=\"-118.3\" font-family=\"Times,serif\" font-size=\"14.00\" fill=\"#000000\">{9} pr_num1 tb1 type0, value&gt;11</text>\n",
       "</g>\n",
       "<!-- 28&#45;&gt;57 -->\n",
       "<g id=\"edge57\" class=\"edge\">\n",
       "<title>28&#45;&gt;57</title>\n",
       "<path fill=\"none\" stroke=\"#000000\" d=\"M7835.0877,-190.9735C7835.0877,-179.1918 7835.0877,-163.5607 7835.0877,-150.1581\"/>\n",
       "<polygon fill=\"#000000\" stroke=\"#000000\" points=\"7838.5878,-150.0033 7835.0877,-140.0034 7831.5878,-150.0034 7838.5878,-150.0033\"/>\n",
       "<text text-anchor=\"middle\" x=\"7844.5877\" y=\"-161.8\" font-family=\"Times,serif\" font-size=\"14.00\" fill=\"#000000\">No</text>\n",
       "</g>\n",
       "<!-- 58 -->\n",
       "<g id=\"node59\" class=\"node\">\n",
       "<title>58</title>\n",
       "<ellipse fill=\"none\" stroke=\"#000000\" cx=\"8131.0877\" cy=\"-122\" rx=\"139.1754\" ry=\"18\"/>\n",
       "<text text-anchor=\"middle\" x=\"8131.0877\" y=\"-118.3\" font-family=\"Times,serif\" font-size=\"14.00\" fill=\"#000000\">{9} pr_num1 tb1 type0, value&gt;11</text>\n",
       "</g>\n",
       "<!-- 28&#45;&gt;58 -->\n",
       "<g id=\"edge58\" class=\"edge\">\n",
       "<title>28&#45;&gt;58</title>\n",
       "<path fill=\"none\" stroke=\"#000000\" d=\"M7891.111,-192.5337C7940.5523,-178.0019 8012.6822,-156.8016 8064.9447,-141.4407\"/>\n",
       "<polygon fill=\"#000000\" stroke=\"#000000\" points=\"8066.1834,-144.7247 8074.7906,-138.5468 8064.2094,-138.0088 8066.1834,-144.7247\"/>\n",
       "<text text-anchor=\"middle\" x=\"8011.5877\" y=\"-161.8\" font-family=\"Times,serif\" font-size=\"14.00\" fill=\"#000000\">Yes</text>\n",
       "</g>\n",
       "<!-- 59 -->\n",
       "<g id=\"node60\" class=\"node\">\n",
       "<title>59</title>\n",
       "<ellipse fill=\"none\" stroke=\"#000000\" cx=\"8427.0877\" cy=\"-122\" rx=\"139.1754\" ry=\"18\"/>\n",
       "<text text-anchor=\"middle\" x=\"8427.0877\" y=\"-118.3\" font-family=\"Times,serif\" font-size=\"14.00\" fill=\"#000000\">{9} pr_num1 tb1 type0, value&gt;11</text>\n",
       "</g>\n",
       "<!-- 29&#45;&gt;59 -->\n",
       "<g id=\"edge59\" class=\"edge\">\n",
       "<title>29&#45;&gt;59</title>\n",
       "<path fill=\"none\" stroke=\"#000000\" d=\"M8485.7548,-190.9735C8475.1382,-178.4919 8460.8469,-161.6899 8449.0277,-147.7944\"/>\n",
       "<polygon fill=\"#000000\" stroke=\"#000000\" points=\"8451.546,-145.3529 8442.4009,-140.0034 8446.2139,-149.8883 8451.546,-145.3529\"/>\n",
       "<text text-anchor=\"middle\" x=\"8478.5877\" y=\"-161.8\" font-family=\"Times,serif\" font-size=\"14.00\" fill=\"#000000\">No</text>\n",
       "</g>\n",
       "<!-- 60 -->\n",
       "<g id=\"node61\" class=\"node\">\n",
       "<title>60</title>\n",
       "<ellipse fill=\"none\" stroke=\"#000000\" cx=\"8723.0877\" cy=\"-122\" rx=\"139.1754\" ry=\"18\"/>\n",
       "<text text-anchor=\"middle\" x=\"8723.0877\" y=\"-118.3\" font-family=\"Times,serif\" font-size=\"14.00\" fill=\"#000000\">{9} pr_num1 tb1 type0, value&gt;11</text>\n",
       "</g>\n",
       "<!-- 29&#45;&gt;60 -->\n",
       "<g id=\"edge60\" class=\"edge\">\n",
       "<title>29&#45;&gt;60</title>\n",
       "<path fill=\"none\" stroke=\"#000000\" d=\"M8544.6828,-191.9154C8580.5368,-177.8645 8631.4911,-157.8959 8669.7709,-142.8944\"/>\n",
       "<polygon fill=\"#000000\" stroke=\"#000000\" points=\"8671.1796,-146.1016 8679.2131,-139.1941 8668.6254,-139.5842 8671.1796,-146.1016\"/>\n",
       "<text text-anchor=\"middle\" x=\"8636.5877\" y=\"-161.8\" font-family=\"Times,serif\" font-size=\"14.00\" fill=\"#000000\">Yes</text>\n",
       "</g>\n",
       "<!-- 61 -->\n",
       "<g id=\"node62\" class=\"node\">\n",
       "<title>61</title>\n",
       "<ellipse fill=\"none\" stroke=\"#000000\" cx=\"9019.0877\" cy=\"-122\" rx=\"139.1754\" ry=\"18\"/>\n",
       "<text text-anchor=\"middle\" x=\"9019.0877\" y=\"-118.3\" font-family=\"Times,serif\" font-size=\"14.00\" fill=\"#000000\">{9} pr_num1 tb1 type0, value&gt;11</text>\n",
       "</g>\n",
       "<!-- 30&#45;&gt;61 -->\n",
       "<g id=\"edge61\" class=\"edge\">\n",
       "<title>30&#45;&gt;61</title>\n",
       "<path fill=\"none\" stroke=\"#000000\" d=\"M9019.0877,-190.9735C9019.0877,-179.1918 9019.0877,-163.5607 9019.0877,-150.1581\"/>\n",
       "<polygon fill=\"#000000\" stroke=\"#000000\" points=\"9022.5878,-150.0033 9019.0877,-140.0034 9015.5878,-150.0034 9022.5878,-150.0033\"/>\n",
       "<text text-anchor=\"middle\" x=\"9028.5877\" y=\"-161.8\" font-family=\"Times,serif\" font-size=\"14.00\" fill=\"#000000\">No</text>\n",
       "</g>\n",
       "<!-- 62 -->\n",
       "<g id=\"node63\" class=\"node\">\n",
       "<title>62</title>\n",
       "<ellipse fill=\"none\" stroke=\"#000000\" cx=\"9315.0877\" cy=\"-122\" rx=\"139.1754\" ry=\"18\"/>\n",
       "<text text-anchor=\"middle\" x=\"9315.0877\" y=\"-118.3\" font-family=\"Times,serif\" font-size=\"14.00\" fill=\"#000000\">{9} pr_num1 tb1 type0, value&gt;11</text>\n",
       "</g>\n",
       "<!-- 30&#45;&gt;62 -->\n",
       "<g id=\"edge62\" class=\"edge\">\n",
       "<title>30&#45;&gt;62</title>\n",
       "<path fill=\"none\" stroke=\"#000000\" d=\"M9075.111,-192.5337C9124.5523,-178.0019 9196.6822,-156.8016 9248.9447,-141.4407\"/>\n",
       "<polygon fill=\"#000000\" stroke=\"#000000\" points=\"9250.1834,-144.7247 9258.7906,-138.5468 9248.2094,-138.0088 9250.1834,-144.7247\"/>\n",
       "<text text-anchor=\"middle\" x=\"9195.5877\" y=\"-161.8\" font-family=\"Times,serif\" font-size=\"14.00\" fill=\"#000000\">Yes</text>\n",
       "</g>\n",
       "<!-- 63 -->\n",
       "<g id=\"node64\" class=\"node\">\n",
       "<title>63</title>\n",
       "<polygon fill=\"none\" stroke=\"#ff0000\" points=\"178.0877,-53 90.0877,-53 90.0877,0 178.0877,0 178.0877,-53\"/>\n",
       "<text text-anchor=\"middle\" x=\"134.0877\" y=\"-37.8\" font-family=\"Times,serif\" font-size=\"14.00\" fill=\"#000000\">val = &#45;0.007</text>\n",
       "<text text-anchor=\"middle\" x=\"134.0877\" y=\"-22.8\" font-family=\"Times,serif\" font-size=\"14.00\" fill=\"#000000\">val = 0.014</text>\n",
       "<text text-anchor=\"middle\" x=\"134.0877\" y=\"-7.8\" font-family=\"Times,serif\" font-size=\"14.00\" fill=\"#000000\">val = &#45;0.007</text>\n",
       "</g>\n",
       "<!-- 31&#45;&gt;63 -->\n",
       "<g id=\"edge63\" class=\"edge\">\n",
       "<title>31&#45;&gt;63</title>\n",
       "<path fill=\"none\" stroke=\"#000000\" d=\"M138.1236,-103.5866C137.5266,-92.184 136.7388,-77.1373 136.0178,-63.3662\"/>\n",
       "<polygon fill=\"#000000\" stroke=\"#000000\" points=\"139.5019,-62.9688 135.4838,-53.1655 132.5115,-63.3349 139.5019,-62.9688\"/>\n",
       "<text text-anchor=\"middle\" x=\"147.5877\" y=\"-74.8\" font-family=\"Times,serif\" font-size=\"14.00\" fill=\"#000000\">No</text>\n",
       "</g>\n",
       "<!-- 64 -->\n",
       "<g id=\"node65\" class=\"node\">\n",
       "<title>64</title>\n",
       "<polygon fill=\"none\" stroke=\"#ff0000\" points=\"279.5877,-53 196.5877,-53 196.5877,0 279.5877,0 279.5877,-53\"/>\n",
       "<text text-anchor=\"middle\" x=\"238.0877\" y=\"-37.8\" font-family=\"Times,serif\" font-size=\"14.00\" fill=\"#000000\">val = 0.000</text>\n",
       "<text text-anchor=\"middle\" x=\"238.0877\" y=\"-22.8\" font-family=\"Times,serif\" font-size=\"14.00\" fill=\"#000000\">val = 0.000</text>\n",
       "<text text-anchor=\"middle\" x=\"238.0877\" y=\"-7.8\" font-family=\"Times,serif\" font-size=\"14.00\" fill=\"#000000\">val = 0.000</text>\n",
       "</g>\n",
       "<!-- 31&#45;&gt;64 -->\n",
       "<g id=\"edge64\" class=\"edge\">\n",
       "<title>31&#45;&gt;64</title>\n",
       "<path fill=\"none\" stroke=\"#000000\" d=\"M157.7088,-104.0372C170.5127,-91.686 187.9059,-74.9076 203.2382,-60.1174\"/>\n",
       "<polygon fill=\"#000000\" stroke=\"#000000\" points=\"205.803,-62.5063 210.5702,-53.0446 200.9431,-57.4683 205.803,-62.5063\"/>\n",
       "<text text-anchor=\"middle\" x=\"202.5877\" y=\"-74.8\" font-family=\"Times,serif\" font-size=\"14.00\" fill=\"#000000\">Yes</text>\n",
       "</g>\n",
       "<!-- 65 -->\n",
       "<g id=\"node66\" class=\"node\">\n",
       "<title>65</title>\n",
       "<polygon fill=\"none\" stroke=\"#ff0000\" points=\"421.5877,-53 338.5877,-53 338.5877,0 421.5877,0 421.5877,-53\"/>\n",
       "<text text-anchor=\"middle\" x=\"380.0877\" y=\"-37.8\" font-family=\"Times,serif\" font-size=\"14.00\" fill=\"#000000\">val = 0.000</text>\n",
       "<text text-anchor=\"middle\" x=\"380.0877\" y=\"-22.8\" font-family=\"Times,serif\" font-size=\"14.00\" fill=\"#000000\">val = 0.000</text>\n",
       "<text text-anchor=\"middle\" x=\"380.0877\" y=\"-7.8\" font-family=\"Times,serif\" font-size=\"14.00\" fill=\"#000000\">val = 0.000</text>\n",
       "</g>\n",
       "<!-- 32&#45;&gt;65 -->\n",
       "<g id=\"edge65\" class=\"edge\">\n",
       "<title>32&#45;&gt;65</title>\n",
       "<path fill=\"none\" stroke=\"#000000\" d=\"M424.7426,-104.0372C417.888,-92.1351 408.6658,-76.122 400.3821,-61.7385\"/>\n",
       "<polygon fill=\"#000000\" stroke=\"#000000\" points=\"403.3988,-59.9635 395.3751,-53.0446 397.3329,-63.457 403.3988,-59.9635\"/>\n",
       "<text text-anchor=\"middle\" x=\"424.5877\" y=\"-74.8\" font-family=\"Times,serif\" font-size=\"14.00\" fill=\"#000000\">No</text>\n",
       "</g>\n",
       "<!-- 66 -->\n",
       "<g id=\"node67\" class=\"node\">\n",
       "<title>66</title>\n",
       "<polygon fill=\"none\" stroke=\"#ff0000\" points=\"522.5877,-53 439.5877,-53 439.5877,0 522.5877,0 522.5877,-53\"/>\n",
       "<text text-anchor=\"middle\" x=\"481.0877\" y=\"-37.8\" font-family=\"Times,serif\" font-size=\"14.00\" fill=\"#000000\">val = 0.000</text>\n",
       "<text text-anchor=\"middle\" x=\"481.0877\" y=\"-22.8\" font-family=\"Times,serif\" font-size=\"14.00\" fill=\"#000000\">val = 0.000</text>\n",
       "<text text-anchor=\"middle\" x=\"481.0877\" y=\"-7.8\" font-family=\"Times,serif\" font-size=\"14.00\" fill=\"#000000\">val = 0.000</text>\n",
       "</g>\n",
       "<!-- 32&#45;&gt;66 -->\n",
       "<g id=\"edge66\" class=\"edge\">\n",
       "<title>32&#45;&gt;66</title>\n",
       "<path fill=\"none\" stroke=\"#000000\" d=\"M443.9569,-103.5866C449.557,-91.9604 456.9818,-76.5458 463.7196,-62.5577\"/>\n",
       "<polygon fill=\"#000000\" stroke=\"#000000\" points=\"467.0572,-63.6938 468.2435,-53.1655 460.7506,-60.656 467.0572,-63.6938\"/>\n",
       "<text text-anchor=\"middle\" x=\"470.5877\" y=\"-74.8\" font-family=\"Times,serif\" font-size=\"14.00\" fill=\"#000000\">Yes</text>\n",
       "</g>\n",
       "<!-- 67 -->\n",
       "<g id=\"node68\" class=\"node\">\n",
       "<title>67</title>\n",
       "<polygon fill=\"none\" stroke=\"#ff0000\" points=\"718.0877,-53 630.0877,-53 630.0877,0 718.0877,0 718.0877,-53\"/>\n",
       "<text text-anchor=\"middle\" x=\"674.0877\" y=\"-37.8\" font-family=\"Times,serif\" font-size=\"14.00\" fill=\"#000000\">val = 0.042</text>\n",
       "<text text-anchor=\"middle\" x=\"674.0877\" y=\"-22.8\" font-family=\"Times,serif\" font-size=\"14.00\" fill=\"#000000\">val = &#45;0.021</text>\n",
       "<text text-anchor=\"middle\" x=\"674.0877\" y=\"-7.8\" font-family=\"Times,serif\" font-size=\"14.00\" fill=\"#000000\">val = &#45;0.021</text>\n",
       "</g>\n",
       "<!-- 33&#45;&gt;67 -->\n",
       "<g id=\"edge67\" class=\"edge\">\n",
       "<title>33&#45;&gt;67</title>\n",
       "<path fill=\"none\" stroke=\"#000000\" d=\"M720.3664,-104.0372C713.2625,-92.1351 703.705,-76.122 695.12,-61.7385\"/>\n",
       "<polygon fill=\"#000000\" stroke=\"#000000\" points=\"698.0616,-59.8376 689.931,-53.0446 692.0508,-63.4252 698.0616,-59.8376\"/>\n",
       "<text text-anchor=\"middle\" x=\"719.5877\" y=\"-74.8\" font-family=\"Times,serif\" font-size=\"14.00\" fill=\"#000000\">No</text>\n",
       "</g>\n",
       "<!-- 68 -->\n",
       "<g id=\"node69\" class=\"node\">\n",
       "<title>68</title>\n",
       "<polygon fill=\"none\" stroke=\"#ff0000\" points=\"819.5877,-53 736.5877,-53 736.5877,0 819.5877,0 819.5877,-53\"/>\n",
       "<text text-anchor=\"middle\" x=\"778.0877\" y=\"-37.8\" font-family=\"Times,serif\" font-size=\"14.00\" fill=\"#000000\">val = 0.000</text>\n",
       "<text text-anchor=\"middle\" x=\"778.0877\" y=\"-22.8\" font-family=\"Times,serif\" font-size=\"14.00\" fill=\"#000000\">val = 0.000</text>\n",
       "<text text-anchor=\"middle\" x=\"778.0877\" y=\"-7.8\" font-family=\"Times,serif\" font-size=\"14.00\" fill=\"#000000\">val = 0.000</text>\n",
       "</g>\n",
       "<!-- 33&#45;&gt;68 -->\n",
       "<g id=\"edge68\" class=\"edge\">\n",
       "<title>33&#45;&gt;68</title>\n",
       "<path fill=\"none\" stroke=\"#000000\" d=\"M740.1497,-103.5866C745.9266,-91.8486 753.6038,-76.249 760.5404,-62.1546\"/>\n",
       "<polygon fill=\"#000000\" stroke=\"#000000\" points=\"763.6889,-63.6833 764.9643,-53.1655 757.4083,-60.5923 763.6889,-63.6833\"/>\n",
       "<text text-anchor=\"middle\" x=\"766.5877\" y=\"-74.8\" font-family=\"Times,serif\" font-size=\"14.00\" fill=\"#000000\">Yes</text>\n",
       "</g>\n",
       "<!-- 69 -->\n",
       "<g id=\"node70\" class=\"node\">\n",
       "<title>69</title>\n",
       "<polygon fill=\"none\" stroke=\"#ff0000\" points=\"1011.5877,-53 928.5877,-53 928.5877,0 1011.5877,0 1011.5877,-53\"/>\n",
       "<text text-anchor=\"middle\" x=\"970.0877\" y=\"-37.8\" font-family=\"Times,serif\" font-size=\"14.00\" fill=\"#000000\">val = 0.000</text>\n",
       "<text text-anchor=\"middle\" x=\"970.0877\" y=\"-22.8\" font-family=\"Times,serif\" font-size=\"14.00\" fill=\"#000000\">val = 0.000</text>\n",
       "<text text-anchor=\"middle\" x=\"970.0877\" y=\"-7.8\" font-family=\"Times,serif\" font-size=\"14.00\" fill=\"#000000\">val = 0.000</text>\n",
       "</g>\n",
       "<!-- 34&#45;&gt;69 -->\n",
       "<g id=\"edge69\" class=\"edge\">\n",
       "<title>34&#45;&gt;69</title>\n",
       "<path fill=\"none\" stroke=\"#000000\" d=\"M1016.3664,-104.0372C1009.2625,-92.1351 999.705,-76.122 991.12,-61.7385\"/>\n",
       "<polygon fill=\"#000000\" stroke=\"#000000\" points=\"994.0616,-59.8376 985.931,-53.0446 988.0508,-63.4252 994.0616,-59.8376\"/>\n",
       "<text text-anchor=\"middle\" x=\"1015.5877\" y=\"-74.8\" font-family=\"Times,serif\" font-size=\"14.00\" fill=\"#000000\">No</text>\n",
       "</g>\n",
       "<!-- 70 -->\n",
       "<g id=\"node71\" class=\"node\">\n",
       "<title>70</title>\n",
       "<polygon fill=\"none\" stroke=\"#ff0000\" points=\"1112.5877,-53 1029.5877,-53 1029.5877,0 1112.5877,0 1112.5877,-53\"/>\n",
       "<text text-anchor=\"middle\" x=\"1071.0877\" y=\"-37.8\" font-family=\"Times,serif\" font-size=\"14.00\" fill=\"#000000\">val = 0.000</text>\n",
       "<text text-anchor=\"middle\" x=\"1071.0877\" y=\"-22.8\" font-family=\"Times,serif\" font-size=\"14.00\" fill=\"#000000\">val = 0.000</text>\n",
       "<text text-anchor=\"middle\" x=\"1071.0877\" y=\"-7.8\" font-family=\"Times,serif\" font-size=\"14.00\" fill=\"#000000\">val = 0.000</text>\n",
       "</g>\n",
       "<!-- 34&#45;&gt;70 -->\n",
       "<g id=\"edge70\" class=\"edge\">\n",
       "<title>34&#45;&gt;70</title>\n",
       "<path fill=\"none\" stroke=\"#000000\" d=\"M1035.5713,-103.5866C1040.9279,-91.9604 1048.0299,-76.5458 1054.4747,-62.5577\"/>\n",
       "<polygon fill=\"#000000\" stroke=\"#000000\" points=\"1057.7962,-63.7125 1058.802,-53.1655 1051.4385,-60.7833 1057.7962,-63.7125\"/>\n",
       "<text text-anchor=\"middle\" x=\"1061.5877\" y=\"-74.8\" font-family=\"Times,serif\" font-size=\"14.00\" fill=\"#000000\">Yes</text>\n",
       "</g>\n",
       "<!-- 71 -->\n",
       "<g id=\"node72\" class=\"node\">\n",
       "<title>71</title>\n",
       "<polygon fill=\"none\" stroke=\"#ff0000\" points=\"1310.0877,-53 1222.0877,-53 1222.0877,0 1310.0877,0 1310.0877,-53\"/>\n",
       "<text text-anchor=\"middle\" x=\"1266.0877\" y=\"-37.8\" font-family=\"Times,serif\" font-size=\"14.00\" fill=\"#000000\">val = 0.011</text>\n",
       "<text text-anchor=\"middle\" x=\"1266.0877\" y=\"-22.8\" font-family=\"Times,serif\" font-size=\"14.00\" fill=\"#000000\">val = 0.011</text>\n",
       "<text text-anchor=\"middle\" x=\"1266.0877\" y=\"-7.8\" font-family=\"Times,serif\" font-size=\"14.00\" fill=\"#000000\">val = &#45;0.021</text>\n",
       "</g>\n",
       "<!-- 35&#45;&gt;71 -->\n",
       "<g id=\"edge71\" class=\"edge\">\n",
       "<title>35&#45;&gt;71</title>\n",
       "<path fill=\"none\" stroke=\"#000000\" d=\"M1312.3664,-104.0372C1305.2625,-92.1351 1295.705,-76.122 1287.12,-61.7385\"/>\n",
       "<polygon fill=\"#000000\" stroke=\"#000000\" points=\"1290.0616,-59.8376 1281.931,-53.0446 1284.0508,-63.4252 1290.0616,-59.8376\"/>\n",
       "<text text-anchor=\"middle\" x=\"1311.5877\" y=\"-74.8\" font-family=\"Times,serif\" font-size=\"14.00\" fill=\"#000000\">No</text>\n",
       "</g>\n",
       "<!-- 72 -->\n",
       "<g id=\"node73\" class=\"node\">\n",
       "<title>72</title>\n",
       "<polygon fill=\"none\" stroke=\"#ff0000\" points=\"1411.5877,-53 1328.5877,-53 1328.5877,0 1411.5877,0 1411.5877,-53\"/>\n",
       "<text text-anchor=\"middle\" x=\"1370.0877\" y=\"-37.8\" font-family=\"Times,serif\" font-size=\"14.00\" fill=\"#000000\">val = 0.000</text>\n",
       "<text text-anchor=\"middle\" x=\"1370.0877\" y=\"-22.8\" font-family=\"Times,serif\" font-size=\"14.00\" fill=\"#000000\">val = 0.000</text>\n",
       "<text text-anchor=\"middle\" x=\"1370.0877\" y=\"-7.8\" font-family=\"Times,serif\" font-size=\"14.00\" fill=\"#000000\">val = 0.000</text>\n",
       "</g>\n",
       "<!-- 35&#45;&gt;72 -->\n",
       "<g id=\"edge72\" class=\"edge\">\n",
       "<title>35&#45;&gt;72</title>\n",
       "<path fill=\"none\" stroke=\"#000000\" d=\"M1332.1497,-103.5866C1337.9266,-91.8486 1345.6038,-76.249 1352.5404,-62.1546\"/>\n",
       "<polygon fill=\"#000000\" stroke=\"#000000\" points=\"1355.6889,-63.6833 1356.9643,-53.1655 1349.4083,-60.5923 1355.6889,-63.6833\"/>\n",
       "<text text-anchor=\"middle\" x=\"1358.5877\" y=\"-74.8\" font-family=\"Times,serif\" font-size=\"14.00\" fill=\"#000000\">Yes</text>\n",
       "</g>\n",
       "<!-- 73 -->\n",
       "<g id=\"node74\" class=\"node\">\n",
       "<title>73</title>\n",
       "<polygon fill=\"none\" stroke=\"#ff0000\" points=\"1609.5877,-53 1526.5877,-53 1526.5877,0 1609.5877,0 1609.5877,-53\"/>\n",
       "<text text-anchor=\"middle\" x=\"1568.0877\" y=\"-37.8\" font-family=\"Times,serif\" font-size=\"14.00\" fill=\"#000000\">val = 0.000</text>\n",
       "<text text-anchor=\"middle\" x=\"1568.0877\" y=\"-22.8\" font-family=\"Times,serif\" font-size=\"14.00\" fill=\"#000000\">val = 0.000</text>\n",
       "<text text-anchor=\"middle\" x=\"1568.0877\" y=\"-7.8\" font-family=\"Times,serif\" font-size=\"14.00\" fill=\"#000000\">val = 0.000</text>\n",
       "</g>\n",
       "<!-- 36&#45;&gt;73 -->\n",
       "<g id=\"edge73\" class=\"edge\">\n",
       "<title>36&#45;&gt;73</title>\n",
       "<path fill=\"none\" stroke=\"#000000\" d=\"M1609.4949,-104.0372C1603.1988,-92.2474 1594.7485,-76.4238 1587.1237,-62.146\"/>\n",
       "<polygon fill=\"#000000\" stroke=\"#000000\" points=\"1590.0614,-60.2168 1582.2633,-53.0446 1583.8867,-63.5143 1590.0614,-60.2168\"/>\n",
       "<text text-anchor=\"middle\" x=\"1609.5877\" y=\"-74.8\" font-family=\"Times,serif\" font-size=\"14.00\" fill=\"#000000\">No</text>\n",
       "</g>\n",
       "<!-- 74 -->\n",
       "<g id=\"node75\" class=\"node\">\n",
       "<title>74</title>\n",
       "<polygon fill=\"none\" stroke=\"#ff0000\" points=\"1710.5877,-53 1627.5877,-53 1627.5877,0 1710.5877,0 1710.5877,-53\"/>\n",
       "<text text-anchor=\"middle\" x=\"1669.0877\" y=\"-37.8\" font-family=\"Times,serif\" font-size=\"14.00\" fill=\"#000000\">val = 0.000</text>\n",
       "<text text-anchor=\"middle\" x=\"1669.0877\" y=\"-22.8\" font-family=\"Times,serif\" font-size=\"14.00\" fill=\"#000000\">val = 0.000</text>\n",
       "<text text-anchor=\"middle\" x=\"1669.0877\" y=\"-7.8\" font-family=\"Times,serif\" font-size=\"14.00\" fill=\"#000000\">val = 0.000</text>\n",
       "</g>\n",
       "<!-- 36&#45;&gt;74 -->\n",
       "<g id=\"edge74\" class=\"edge\">\n",
       "<title>36&#45;&gt;74</title>\n",
       "<path fill=\"none\" stroke=\"#000000\" d=\"M1628.4923,-104.0372C1634.6649,-92.2474 1642.9495,-76.4238 1650.4248,-62.146\"/>\n",
       "<polygon fill=\"#000000\" stroke=\"#000000\" points=\"1653.6523,-63.5273 1655.19,-53.0446 1647.4508,-60.2804 1653.6523,-63.5273\"/>\n",
       "<text text-anchor=\"middle\" x=\"1656.5877\" y=\"-74.8\" font-family=\"Times,serif\" font-size=\"14.00\" fill=\"#000000\">Yes</text>\n",
       "</g>\n",
       "<!-- 75 -->\n",
       "<g id=\"node76\" class=\"node\">\n",
       "<title>75</title>\n",
       "<polygon fill=\"none\" stroke=\"#ff0000\" points=\"1907.0877,-53 1819.0877,-53 1819.0877,0 1907.0877,0 1907.0877,-53\"/>\n",
       "<text text-anchor=\"middle\" x=\"1863.0877\" y=\"-37.8\" font-family=\"Times,serif\" font-size=\"14.00\" fill=\"#000000\">val = 0.014</text>\n",
       "<text text-anchor=\"middle\" x=\"1863.0877\" y=\"-22.8\" font-family=\"Times,serif\" font-size=\"14.00\" fill=\"#000000\">val = &#45;0.007</text>\n",
       "<text text-anchor=\"middle\" x=\"1863.0877\" y=\"-7.8\" font-family=\"Times,serif\" font-size=\"14.00\" fill=\"#000000\">val = &#45;0.007</text>\n",
       "</g>\n",
       "<!-- 37&#45;&gt;75 -->\n",
       "<g id=\"edge75\" class=\"edge\">\n",
       "<title>37&#45;&gt;75</title>\n",
       "<path fill=\"none\" stroke=\"#000000\" d=\"M1905.3069,-104.0372C1898.8873,-92.2474 1890.2713,-76.4238 1882.497,-62.146\"/>\n",
       "<polygon fill=\"#000000\" stroke=\"#000000\" points=\"1885.3973,-60.1533 1877.5413,-53.0446 1879.2495,-63.5008 1885.3973,-60.1533\"/>\n",
       "<text text-anchor=\"middle\" x=\"1905.5877\" y=\"-74.8\" font-family=\"Times,serif\" font-size=\"14.00\" fill=\"#000000\">No</text>\n",
       "</g>\n",
       "<!-- 76 -->\n",
       "<g id=\"node77\" class=\"node\">\n",
       "<title>76</title>\n",
       "<polygon fill=\"none\" stroke=\"#ff0000\" points=\"2008.5877,-53 1925.5877,-53 1925.5877,0 2008.5877,0 2008.5877,-53\"/>\n",
       "<text text-anchor=\"middle\" x=\"1967.0877\" y=\"-37.8\" font-family=\"Times,serif\" font-size=\"14.00\" fill=\"#000000\">val = 0.000</text>\n",
       "<text text-anchor=\"middle\" x=\"1967.0877\" y=\"-22.8\" font-family=\"Times,serif\" font-size=\"14.00\" fill=\"#000000\">val = 0.000</text>\n",
       "<text text-anchor=\"middle\" x=\"1967.0877\" y=\"-7.8\" font-family=\"Times,serif\" font-size=\"14.00\" fill=\"#000000\">val = 0.000</text>\n",
       "</g>\n",
       "<!-- 37&#45;&gt;76 -->\n",
       "<g id=\"edge76\" class=\"edge\">\n",
       "<title>37&#45;&gt;76</title>\n",
       "<path fill=\"none\" stroke=\"#000000\" d=\"M1924.8685,-104.0372C1931.288,-92.2474 1939.904,-76.4238 1947.6783,-62.146\"/>\n",
       "<polygon fill=\"#000000\" stroke=\"#000000\" points=\"1950.9258,-63.5008 1952.6341,-53.0446 1944.7781,-60.1533 1950.9258,-63.5008\"/>\n",
       "<text text-anchor=\"middle\" x=\"1953.5877\" y=\"-74.8\" font-family=\"Times,serif\" font-size=\"14.00\" fill=\"#000000\">Yes</text>\n",
       "</g>\n",
       "<!-- 77 -->\n",
       "<g id=\"node78\" class=\"node\">\n",
       "<title>77</title>\n",
       "<polygon fill=\"none\" stroke=\"#ff0000\" points=\"2202.5877,-53 2119.5877,-53 2119.5877,0 2202.5877,0 2202.5877,-53\"/>\n",
       "<text text-anchor=\"middle\" x=\"2161.0877\" y=\"-37.8\" font-family=\"Times,serif\" font-size=\"14.00\" fill=\"#000000\">val = 0.000</text>\n",
       "<text text-anchor=\"middle\" x=\"2161.0877\" y=\"-22.8\" font-family=\"Times,serif\" font-size=\"14.00\" fill=\"#000000\">val = 0.000</text>\n",
       "<text text-anchor=\"middle\" x=\"2161.0877\" y=\"-7.8\" font-family=\"Times,serif\" font-size=\"14.00\" fill=\"#000000\">val = 0.000</text>\n",
       "</g>\n",
       "<!-- 38&#45;&gt;77 -->\n",
       "<g id=\"edge77\" class=\"edge\">\n",
       "<title>38&#45;&gt;77</title>\n",
       "<path fill=\"none\" stroke=\"#000000\" d=\"M2201.683,-104.0372C2195.5104,-92.2474 2187.2258,-76.4238 2179.7505,-62.146\"/>\n",
       "<polygon fill=\"#000000\" stroke=\"#000000\" points=\"2182.7245,-60.2804 2174.9853,-53.0446 2176.523,-63.5273 2182.7245,-60.2804\"/>\n",
       "<text text-anchor=\"middle\" x=\"2201.5877\" y=\"-74.8\" font-family=\"Times,serif\" font-size=\"14.00\" fill=\"#000000\">No</text>\n",
       "</g>\n",
       "<!-- 78 -->\n",
       "<g id=\"node79\" class=\"node\">\n",
       "<title>78</title>\n",
       "<polygon fill=\"none\" stroke=\"#ff0000\" points=\"2303.5877,-53 2220.5877,-53 2220.5877,0 2303.5877,0 2303.5877,-53\"/>\n",
       "<text text-anchor=\"middle\" x=\"2262.0877\" y=\"-37.8\" font-family=\"Times,serif\" font-size=\"14.00\" fill=\"#000000\">val = 0.000</text>\n",
       "<text text-anchor=\"middle\" x=\"2262.0877\" y=\"-22.8\" font-family=\"Times,serif\" font-size=\"14.00\" fill=\"#000000\">val = 0.000</text>\n",
       "<text text-anchor=\"middle\" x=\"2262.0877\" y=\"-7.8\" font-family=\"Times,serif\" font-size=\"14.00\" fill=\"#000000\">val = 0.000</text>\n",
       "</g>\n",
       "<!-- 38&#45;&gt;78 -->\n",
       "<g id=\"edge78\" class=\"edge\">\n",
       "<title>38&#45;&gt;78</title>\n",
       "<path fill=\"none\" stroke=\"#000000\" d=\"M2220.6804,-104.0372C2226.9765,-92.2474 2235.4268,-76.4238 2243.0516,-62.146\"/>\n",
       "<polygon fill=\"#000000\" stroke=\"#000000\" points=\"2246.2886,-63.5143 2247.912,-53.0446 2240.1139,-60.2168 2246.2886,-63.5143\"/>\n",
       "<text text-anchor=\"middle\" x=\"2249.5877\" y=\"-74.8\" font-family=\"Times,serif\" font-size=\"14.00\" fill=\"#000000\">Yes</text>\n",
       "</g>\n",
       "<!-- 79 -->\n",
       "<g id=\"node80\" class=\"node\">\n",
       "<title>79</title>\n",
       "<polygon fill=\"none\" stroke=\"#ff0000\" points=\"2523.0877,-53 2435.0877,-53 2435.0877,0 2523.0877,0 2523.0877,-53\"/>\n",
       "<text text-anchor=\"middle\" x=\"2479.0877\" y=\"-37.8\" font-family=\"Times,serif\" font-size=\"14.00\" fill=\"#000000\">val = &#45;0.021</text>\n",
       "<text text-anchor=\"middle\" x=\"2479.0877\" y=\"-22.8\" font-family=\"Times,serif\" font-size=\"14.00\" fill=\"#000000\">val = 0.026</text>\n",
       "<text text-anchor=\"middle\" x=\"2479.0877\" y=\"-7.8\" font-family=\"Times,serif\" font-size=\"14.00\" fill=\"#000000\">val = &#45;0.005</text>\n",
       "</g>\n",
       "<!-- 39&#45;&gt;79 -->\n",
       "<g id=\"edge79\" class=\"edge\">\n",
       "<title>39&#45;&gt;79</title>\n",
       "<path fill=\"none\" stroke=\"#000000\" d=\"M2501.689,-103.5866C2498.313,-92.0722 2493.8476,-76.8419 2489.778,-62.9616\"/>\n",
       "<polygon fill=\"#000000\" stroke=\"#000000\" points=\"2493.078,-61.7769 2486.9058,-53.1655 2486.3608,-63.7464 2493.078,-61.7769\"/>\n",
       "<text text-anchor=\"middle\" x=\"2506.5877\" y=\"-74.8\" font-family=\"Times,serif\" font-size=\"14.00\" fill=\"#000000\">No</text>\n",
       "</g>\n",
       "<!-- 80 -->\n",
       "<g id=\"node81\" class=\"node\">\n",
       "<title>80</title>\n",
       "<polygon fill=\"none\" stroke=\"#ff0000\" points=\"2629.0877,-53 2541.0877,-53 2541.0877,0 2629.0877,0 2629.0877,-53\"/>\n",
       "<text text-anchor=\"middle\" x=\"2585.0877\" y=\"-37.8\" font-family=\"Times,serif\" font-size=\"14.00\" fill=\"#000000\">val = 0.000</text>\n",
       "<text text-anchor=\"middle\" x=\"2585.0877\" y=\"-22.8\" font-family=\"Times,serif\" font-size=\"14.00\" fill=\"#000000\">val = 0.017</text>\n",
       "<text text-anchor=\"middle\" x=\"2585.0877\" y=\"-7.8\" font-family=\"Times,serif\" font-size=\"14.00\" fill=\"#000000\">val = &#45;0.017</text>\n",
       "</g>\n",
       "<!-- 39&#45;&gt;80 -->\n",
       "<g id=\"edge80\" class=\"edge\">\n",
       "<title>39&#45;&gt;80</title>\n",
       "<path fill=\"none\" stroke=\"#000000\" d=\"M2521.7589,-104.0372C2531.6633,-91.9105 2545.0534,-75.5163 2556.97,-60.9261\"/>\n",
       "<polygon fill=\"#000000\" stroke=\"#000000\" points=\"2559.7922,-63.0036 2563.4073,-53.0446 2554.3707,-58.5756 2559.7922,-63.0036\"/>\n",
       "<text text-anchor=\"middle\" x=\"2559.5877\" y=\"-74.8\" font-family=\"Times,serif\" font-size=\"14.00\" fill=\"#000000\">Yes</text>\n",
       "</g>\n",
       "<!-- 81 -->\n",
       "<g id=\"node82\" class=\"node\">\n",
       "<title>81</title>\n",
       "<polygon fill=\"none\" stroke=\"#ff0000\" points=\"2770.0877,-53 2682.0877,-53 2682.0877,0 2770.0877,0 2770.0877,-53\"/>\n",
       "<text text-anchor=\"middle\" x=\"2726.0877\" y=\"-37.8\" font-family=\"Times,serif\" font-size=\"14.00\" fill=\"#000000\">val = 0.014</text>\n",
       "<text text-anchor=\"middle\" x=\"2726.0877\" y=\"-22.8\" font-family=\"Times,serif\" font-size=\"14.00\" fill=\"#000000\">val = &#45;0.007</text>\n",
       "<text text-anchor=\"middle\" x=\"2726.0877\" y=\"-7.8\" font-family=\"Times,serif\" font-size=\"14.00\" fill=\"#000000\">val = &#45;0.007</text>\n",
       "</g>\n",
       "<!-- 40&#45;&gt;81 -->\n",
       "<g id=\"edge81\" class=\"edge\">\n",
       "<title>40&#45;&gt;81</title>\n",
       "<path fill=\"none\" stroke=\"#000000\" d=\"M2788.6045,-104.0372C2778.827,-91.9105 2765.6087,-75.5163 2753.8448,-60.9261\"/>\n",
       "<polygon fill=\"#000000\" stroke=\"#000000\" points=\"2756.4915,-58.6325 2747.4901,-53.0446 2751.0422,-63.0262 2756.4915,-58.6325\"/>\n",
       "<text text-anchor=\"middle\" x=\"2783.5877\" y=\"-74.8\" font-family=\"Times,serif\" font-size=\"14.00\" fill=\"#000000\">No</text>\n",
       "</g>\n",
       "<!-- 82 -->\n",
       "<g id=\"node83\" class=\"node\">\n",
       "<title>82</title>\n",
       "<polygon fill=\"none\" stroke=\"#ff0000\" points=\"2871.5877,-53 2788.5877,-53 2788.5877,0 2871.5877,0 2871.5877,-53\"/>\n",
       "<text text-anchor=\"middle\" x=\"2830.0877\" y=\"-37.8\" font-family=\"Times,serif\" font-size=\"14.00\" fill=\"#000000\">val = 0.000</text>\n",
       "<text text-anchor=\"middle\" x=\"2830.0877\" y=\"-22.8\" font-family=\"Times,serif\" font-size=\"14.00\" fill=\"#000000\">val = 0.000</text>\n",
       "<text text-anchor=\"middle\" x=\"2830.0877\" y=\"-7.8\" font-family=\"Times,serif\" font-size=\"14.00\" fill=\"#000000\">val = 0.000</text>\n",
       "</g>\n",
       "<!-- 40&#45;&gt;82 -->\n",
       "<g id=\"edge82\" class=\"edge\">\n",
       "<title>40&#45;&gt;82</title>\n",
       "<path fill=\"none\" stroke=\"#000000\" d=\"M2808.2935,-103.5866C2811.5489,-92.0722 2815.8549,-76.8419 2819.7792,-62.9616\"/>\n",
       "<polygon fill=\"#000000\" stroke=\"#000000\" points=\"2823.196,-63.7406 2822.5487,-53.1655 2816.4601,-61.8361 2823.196,-63.7406\"/>\n",
       "<text text-anchor=\"middle\" x=\"2828.5877\" y=\"-74.8\" font-family=\"Times,serif\" font-size=\"14.00\" fill=\"#000000\">Yes</text>\n",
       "</g>\n",
       "<!-- 83 -->\n",
       "<g id=\"node84\" class=\"node\">\n",
       "<title>83</title>\n",
       "<polygon fill=\"none\" stroke=\"#ff0000\" points=\"3111.0877,-53 3023.0877,-53 3023.0877,0 3111.0877,0 3111.0877,-53\"/>\n",
       "<text text-anchor=\"middle\" x=\"3067.0877\" y=\"-37.8\" font-family=\"Times,serif\" font-size=\"14.00\" fill=\"#000000\">val = 0.011</text>\n",
       "<text text-anchor=\"middle\" x=\"3067.0877\" y=\"-22.8\" font-family=\"Times,serif\" font-size=\"14.00\" fill=\"#000000\">val = 0.011</text>\n",
       "<text text-anchor=\"middle\" x=\"3067.0877\" y=\"-7.8\" font-family=\"Times,serif\" font-size=\"14.00\" fill=\"#000000\">val = &#45;0.021</text>\n",
       "</g>\n",
       "<!-- 41&#45;&gt;83 -->\n",
       "<g id=\"edge83\" class=\"edge\">\n",
       "<title>41&#45;&gt;83</title>\n",
       "<path fill=\"none\" stroke=\"#000000\" d=\"M3092.9177,-103.5866C3089.0595,-92.0722 3083.9561,-76.8419 3079.3051,-62.9616\"/>\n",
       "<polygon fill=\"#000000\" stroke=\"#000000\" points=\"3082.5186,-61.5354 3076.0227,-53.1655 3075.8813,-63.7594 3082.5186,-61.5354\"/>\n",
       "<text text-anchor=\"middle\" x=\"3096.5877\" y=\"-74.8\" font-family=\"Times,serif\" font-size=\"14.00\" fill=\"#000000\">No</text>\n",
       "</g>\n",
       "<!-- 84 -->\n",
       "<g id=\"node85\" class=\"node\">\n",
       "<title>84</title>\n",
       "<polygon fill=\"none\" stroke=\"#ff0000\" points=\"3217.0877,-53 3129.0877,-53 3129.0877,0 3217.0877,0 3217.0877,-53\"/>\n",
       "<text text-anchor=\"middle\" x=\"3173.0877\" y=\"-37.8\" font-family=\"Times,serif\" font-size=\"14.00\" fill=\"#000000\">val = 0.006</text>\n",
       "<text text-anchor=\"middle\" x=\"3173.0877\" y=\"-22.8\" font-family=\"Times,serif\" font-size=\"14.00\" fill=\"#000000\">val = 0.006</text>\n",
       "<text text-anchor=\"middle\" x=\"3173.0877\" y=\"-7.8\" font-family=\"Times,serif\" font-size=\"14.00\" fill=\"#000000\">val = &#45;0.012</text>\n",
       "</g>\n",
       "<!-- 41&#45;&gt;84 -->\n",
       "<g id=\"edge84\" class=\"edge\">\n",
       "<title>41&#45;&gt;84</title>\n",
       "<path fill=\"none\" stroke=\"#000000\" d=\"M3113.0065,-104.0372C3122.3161,-92.0228 3134.8715,-75.8195 3146.0975,-61.3318\"/>\n",
       "<polygon fill=\"#000000\" stroke=\"#000000\" points=\"3149.1606,-63.093 3152.5191,-53.0446 3143.6273,-58.8055 3149.1606,-63.093\"/>\n",
       "<text text-anchor=\"middle\" x=\"3149.5877\" y=\"-74.8\" font-family=\"Times,serif\" font-size=\"14.00\" fill=\"#000000\">Yes</text>\n",
       "</g>\n",
       "<!-- 85 -->\n",
       "<g id=\"node86\" class=\"node\">\n",
       "<title>85</title>\n",
       "<polygon fill=\"none\" stroke=\"#ff0000\" points=\"3366.0877,-53 3278.0877,-53 3278.0877,0 3366.0877,0 3366.0877,-53\"/>\n",
       "<text text-anchor=\"middle\" x=\"3322.0877\" y=\"-37.8\" font-family=\"Times,serif\" font-size=\"14.00\" fill=\"#000000\">val = 0.006</text>\n",
       "<text text-anchor=\"middle\" x=\"3322.0877\" y=\"-22.8\" font-family=\"Times,serif\" font-size=\"14.00\" fill=\"#000000\">val = 0.006</text>\n",
       "<text text-anchor=\"middle\" x=\"3322.0877\" y=\"-7.8\" font-family=\"Times,serif\" font-size=\"14.00\" fill=\"#000000\">val = &#45;0.012</text>\n",
       "</g>\n",
       "<!-- 42&#45;&gt;85 -->\n",
       "<g id=\"edge85\" class=\"edge\">\n",
       "<title>42&#45;&gt;85</title>\n",
       "<path fill=\"none\" stroke=\"#000000\" d=\"M3381.3569,-104.0372C3372.1732,-92.0228 3359.7874,-75.8195 3348.713,-61.3318\"/>\n",
       "<polygon fill=\"#000000\" stroke=\"#000000\" points=\"3351.232,-58.8638 3342.3783,-53.0446 3345.6706,-63.1149 3351.232,-58.8638\"/>\n",
       "<text text-anchor=\"middle\" x=\"3377.5877\" y=\"-74.8\" font-family=\"Times,serif\" font-size=\"14.00\" fill=\"#000000\">No</text>\n",
       "</g>\n",
       "<!-- 86 -->\n",
       "<g id=\"node87\" class=\"node\">\n",
       "<title>86</title>\n",
       "<polygon fill=\"none\" stroke=\"#ff0000\" points=\"3467.5877,-53 3384.5877,-53 3384.5877,0 3467.5877,0 3467.5877,-53\"/>\n",
       "<text text-anchor=\"middle\" x=\"3426.0877\" y=\"-37.8\" font-family=\"Times,serif\" font-size=\"14.00\" fill=\"#000000\">val = 0.000</text>\n",
       "<text text-anchor=\"middle\" x=\"3426.0877\" y=\"-22.8\" font-family=\"Times,serif\" font-size=\"14.00\" fill=\"#000000\">val = 0.000</text>\n",
       "<text text-anchor=\"middle\" x=\"3426.0877\" y=\"-7.8\" font-family=\"Times,serif\" font-size=\"14.00\" fill=\"#000000\">val = 0.000</text>\n",
       "</g>\n",
       "<!-- 42&#45;&gt;86 -->\n",
       "<g id=\"edge86\" class=\"edge\">\n",
       "<title>42&#45;&gt;86</title>\n",
       "<path fill=\"none\" stroke=\"#000000\" d=\"M3401.0648,-103.5866C3404.8024,-92.0722 3409.7463,-76.8419 3414.252,-62.9616\"/>\n",
       "<polygon fill=\"#000000\" stroke=\"#000000\" points=\"3417.6733,-63.7576 3417.4318,-53.1655 3411.0153,-61.5963 3417.6733,-63.7576\"/>\n",
       "<text text-anchor=\"middle\" x=\"3422.5877\" y=\"-74.8\" font-family=\"Times,serif\" font-size=\"14.00\" fill=\"#000000\">Yes</text>\n",
       "</g>\n",
       "<!-- 87 -->\n",
       "<g id=\"node88\" class=\"node\">\n",
       "<title>87</title>\n",
       "<polygon fill=\"none\" stroke=\"#ff0000\" points=\"3703.0877,-53 3615.0877,-53 3615.0877,0 3703.0877,0 3703.0877,-53\"/>\n",
       "<text text-anchor=\"middle\" x=\"3659.0877\" y=\"-37.8\" font-family=\"Times,serif\" font-size=\"14.00\" fill=\"#000000\">val = 0.026</text>\n",
       "<text text-anchor=\"middle\" x=\"3659.0877\" y=\"-22.8\" font-family=\"Times,serif\" font-size=\"14.00\" fill=\"#000000\">val = &#45;0.005</text>\n",
       "<text text-anchor=\"middle\" x=\"3659.0877\" y=\"-7.8\" font-family=\"Times,serif\" font-size=\"14.00\" fill=\"#000000\">val = &#45;0.021</text>\n",
       "</g>\n",
       "<!-- 43&#45;&gt;87 -->\n",
       "<g id=\"edge87\" class=\"edge\">\n",
       "<title>43&#45;&gt;87</title>\n",
       "<path fill=\"none\" stroke=\"#000000\" d=\"M3684.9177,-103.5866C3681.0595,-92.0722 3675.9561,-76.8419 3671.3051,-62.9616\"/>\n",
       "<polygon fill=\"#000000\" stroke=\"#000000\" points=\"3674.5186,-61.5354 3668.0227,-53.1655 3667.8813,-63.7594 3674.5186,-61.5354\"/>\n",
       "<text text-anchor=\"middle\" x=\"3688.5877\" y=\"-74.8\" font-family=\"Times,serif\" font-size=\"14.00\" fill=\"#000000\">No</text>\n",
       "</g>\n",
       "<!-- 88 -->\n",
       "<g id=\"node89\" class=\"node\">\n",
       "<title>88</title>\n",
       "<polygon fill=\"none\" stroke=\"#ff0000\" points=\"3809.0877,-53 3721.0877,-53 3721.0877,0 3809.0877,0 3809.0877,-53\"/>\n",
       "<text text-anchor=\"middle\" x=\"3765.0877\" y=\"-37.8\" font-family=\"Times,serif\" font-size=\"14.00\" fill=\"#000000\">val = 0.014</text>\n",
       "<text text-anchor=\"middle\" x=\"3765.0877\" y=\"-22.8\" font-family=\"Times,serif\" font-size=\"14.00\" fill=\"#000000\">val = &#45;0.007</text>\n",
       "<text text-anchor=\"middle\" x=\"3765.0877\" y=\"-7.8\" font-family=\"Times,serif\" font-size=\"14.00\" fill=\"#000000\">val = &#45;0.007</text>\n",
       "</g>\n",
       "<!-- 43&#45;&gt;88 -->\n",
       "<g id=\"edge88\" class=\"edge\">\n",
       "<title>43&#45;&gt;88</title>\n",
       "<path fill=\"none\" stroke=\"#000000\" d=\"M3705.0065,-104.0372C3714.3161,-92.0228 3726.8715,-75.8195 3738.0975,-61.3318\"/>\n",
       "<polygon fill=\"#000000\" stroke=\"#000000\" points=\"3741.1606,-63.093 3744.5191,-53.0446 3735.6273,-58.8055 3741.1606,-63.093\"/>\n",
       "<text text-anchor=\"middle\" x=\"3741.5877\" y=\"-74.8\" font-family=\"Times,serif\" font-size=\"14.00\" fill=\"#000000\">Yes</text>\n",
       "</g>\n",
       "<!-- 89 -->\n",
       "<g id=\"node90\" class=\"node\">\n",
       "<title>89</title>\n",
       "<polygon fill=\"none\" stroke=\"#ff0000\" points=\"3958.0877,-53 3870.0877,-53 3870.0877,0 3958.0877,0 3958.0877,-53\"/>\n",
       "<text text-anchor=\"middle\" x=\"3914.0877\" y=\"-37.8\" font-family=\"Times,serif\" font-size=\"14.00\" fill=\"#000000\">val = 0.006</text>\n",
       "<text text-anchor=\"middle\" x=\"3914.0877\" y=\"-22.8\" font-family=\"Times,serif\" font-size=\"14.00\" fill=\"#000000\">val = 0.006</text>\n",
       "<text text-anchor=\"middle\" x=\"3914.0877\" y=\"-7.8\" font-family=\"Times,serif\" font-size=\"14.00\" fill=\"#000000\">val = &#45;0.012</text>\n",
       "</g>\n",
       "<!-- 44&#45;&gt;89 -->\n",
       "<g id=\"edge89\" class=\"edge\">\n",
       "<title>44&#45;&gt;89</title>\n",
       "<path fill=\"none\" stroke=\"#000000\" d=\"M3973.3569,-104.0372C3964.1732,-92.0228 3951.7874,-75.8195 3940.713,-61.3318\"/>\n",
       "<polygon fill=\"#000000\" stroke=\"#000000\" points=\"3943.232,-58.8638 3934.3783,-53.0446 3937.6706,-63.1149 3943.232,-58.8638\"/>\n",
       "<text text-anchor=\"middle\" x=\"3969.5877\" y=\"-74.8\" font-family=\"Times,serif\" font-size=\"14.00\" fill=\"#000000\">No</text>\n",
       "</g>\n",
       "<!-- 90 -->\n",
       "<g id=\"node91\" class=\"node\">\n",
       "<title>90</title>\n",
       "<polygon fill=\"none\" stroke=\"#ff0000\" points=\"4059.5877,-53 3976.5877,-53 3976.5877,0 4059.5877,0 4059.5877,-53\"/>\n",
       "<text text-anchor=\"middle\" x=\"4018.0877\" y=\"-37.8\" font-family=\"Times,serif\" font-size=\"14.00\" fill=\"#000000\">val = 0.000</text>\n",
       "<text text-anchor=\"middle\" x=\"4018.0877\" y=\"-22.8\" font-family=\"Times,serif\" font-size=\"14.00\" fill=\"#000000\">val = 0.000</text>\n",
       "<text text-anchor=\"middle\" x=\"4018.0877\" y=\"-7.8\" font-family=\"Times,serif\" font-size=\"14.00\" fill=\"#000000\">val = 0.000</text>\n",
       "</g>\n",
       "<!-- 44&#45;&gt;90 -->\n",
       "<g id=\"edge90\" class=\"edge\">\n",
       "<title>44&#45;&gt;90</title>\n",
       "<path fill=\"none\" stroke=\"#000000\" d=\"M3993.0648,-103.5866C3996.8024,-92.0722 4001.7463,-76.8419 4006.252,-62.9616\"/>\n",
       "<polygon fill=\"#000000\" stroke=\"#000000\" points=\"4009.6733,-63.7576 4009.4318,-53.1655 4003.0153,-61.5963 4009.6733,-63.7576\"/>\n",
       "<text text-anchor=\"middle\" x=\"4014.5877\" y=\"-74.8\" font-family=\"Times,serif\" font-size=\"14.00\" fill=\"#000000\">Yes</text>\n",
       "</g>\n",
       "<!-- 91 -->\n",
       "<g id=\"node92\" class=\"node\">\n",
       "<title>91</title>\n",
       "<polygon fill=\"none\" stroke=\"#ff0000\" points=\"4297.0877,-53 4209.0877,-53 4209.0877,0 4297.0877,0 4297.0877,-53\"/>\n",
       "<text text-anchor=\"middle\" x=\"4253.0877\" y=\"-37.8\" font-family=\"Times,serif\" font-size=\"14.00\" fill=\"#000000\">val = 0.006</text>\n",
       "<text text-anchor=\"middle\" x=\"4253.0877\" y=\"-22.8\" font-family=\"Times,serif\" font-size=\"14.00\" fill=\"#000000\">val = &#45;0.012</text>\n",
       "<text text-anchor=\"middle\" x=\"4253.0877\" y=\"-7.8\" font-family=\"Times,serif\" font-size=\"14.00\" fill=\"#000000\">val = 0.006</text>\n",
       "</g>\n",
       "<!-- 45&#45;&gt;91 -->\n",
       "<g id=\"edge91\" class=\"edge\">\n",
       "<title>45&#45;&gt;91</title>\n",
       "<path fill=\"none\" stroke=\"#000000\" d=\"M4277.3034,-103.5866C4273.6863,-92.0722 4268.9019,-76.8419 4264.5416,-62.9616\"/>\n",
       "<polygon fill=\"#000000\" stroke=\"#000000\" points=\"4267.8004,-61.6569 4261.4643,-53.1655 4261.1222,-63.7549 4267.8004,-61.6569\"/>\n",
       "<text text-anchor=\"middle\" x=\"4281.5877\" y=\"-74.8\" font-family=\"Times,serif\" font-size=\"14.00\" fill=\"#000000\">No</text>\n",
       "</g>\n",
       "<!-- 92 -->\n",
       "<g id=\"node93\" class=\"node\">\n",
       "<title>92</title>\n",
       "<polygon fill=\"none\" stroke=\"#ff0000\" points=\"4403.0877,-53 4315.0877,-53 4315.0877,0 4403.0877,0 4403.0877,-53\"/>\n",
       "<text text-anchor=\"middle\" x=\"4359.0877\" y=\"-37.8\" font-family=\"Times,serif\" font-size=\"14.00\" fill=\"#000000\">val = 0.014</text>\n",
       "<text text-anchor=\"middle\" x=\"4359.0877\" y=\"-22.8\" font-family=\"Times,serif\" font-size=\"14.00\" fill=\"#000000\">val = &#45;0.007</text>\n",
       "<text text-anchor=\"middle\" x=\"4359.0877\" y=\"-7.8\" font-family=\"Times,serif\" font-size=\"14.00\" fill=\"#000000\">val = &#45;0.007</text>\n",
       "</g>\n",
       "<!-- 45&#45;&gt;92 -->\n",
       "<g id=\"edge92\" class=\"edge\">\n",
       "<title>45&#45;&gt;92</title>\n",
       "<path fill=\"none\" stroke=\"#000000\" d=\"M4297.3827,-104.0372C4307.0332,-91.9105 4320.0799,-75.5163 4331.691,-60.9261\"/>\n",
       "<polygon fill=\"#000000\" stroke=\"#000000\" points=\"4334.4748,-63.0487 4337.9632,-53.0446 4328.9976,-58.6898 4334.4748,-63.0487\"/>\n",
       "<text text-anchor=\"middle\" x=\"4334.5877\" y=\"-74.8\" font-family=\"Times,serif\" font-size=\"14.00\" fill=\"#000000\">Yes</text>\n",
       "</g>\n",
       "<!-- 93 -->\n",
       "<g id=\"node94\" class=\"node\">\n",
       "<title>93</title>\n",
       "<polygon fill=\"none\" stroke=\"#ff0000\" points=\"4549.5877,-53 4466.5877,-53 4466.5877,0 4549.5877,0 4549.5877,-53\"/>\n",
       "<text text-anchor=\"middle\" x=\"4508.0877\" y=\"-37.8\" font-family=\"Times,serif\" font-size=\"14.00\" fill=\"#000000\">val = 0.000</text>\n",
       "<text text-anchor=\"middle\" x=\"4508.0877\" y=\"-22.8\" font-family=\"Times,serif\" font-size=\"14.00\" fill=\"#000000\">val = 0.000</text>\n",
       "<text text-anchor=\"middle\" x=\"4508.0877\" y=\"-7.8\" font-family=\"Times,serif\" font-size=\"14.00\" fill=\"#000000\">val = 0.000</text>\n",
       "</g>\n",
       "<!-- 46&#45;&gt;93 -->\n",
       "<g id=\"edge93\" class=\"edge\">\n",
       "<title>46&#45;&gt;93</title>\n",
       "<path fill=\"none\" stroke=\"#000000\" d=\"M4565.7331,-104.0372C4556.801,-92.0228 4544.7545,-75.8195 4533.9836,-61.3318\"/>\n",
       "<polygon fill=\"#000000\" stroke=\"#000000\" points=\"4536.5976,-58.9815 4527.8224,-53.0446 4530.9799,-63.158 4536.5976,-58.9815\"/>\n",
       "<text text-anchor=\"middle\" x=\"4561.5877\" y=\"-74.8\" font-family=\"Times,serif\" font-size=\"14.00\" fill=\"#000000\">No</text>\n",
       "</g>\n",
       "<!-- 94 -->\n",
       "<g id=\"node95\" class=\"node\">\n",
       "<title>94</title>\n",
       "<polygon fill=\"none\" stroke=\"#ff0000\" points=\"4650.5877,-53 4567.5877,-53 4567.5877,0 4650.5877,0 4650.5877,-53\"/>\n",
       "<text text-anchor=\"middle\" x=\"4609.0877\" y=\"-37.8\" font-family=\"Times,serif\" font-size=\"14.00\" fill=\"#000000\">val = 0.000</text>\n",
       "<text text-anchor=\"middle\" x=\"4609.0877\" y=\"-22.8\" font-family=\"Times,serif\" font-size=\"14.00\" fill=\"#000000\">val = 0.000</text>\n",
       "<text text-anchor=\"middle\" x=\"4609.0877\" y=\"-7.8\" font-family=\"Times,serif\" font-size=\"14.00\" fill=\"#000000\">val = 0.000</text>\n",
       "</g>\n",
       "<!-- 46&#45;&gt;94 -->\n",
       "<g id=\"edge94\" class=\"edge\">\n",
       "<title>46&#45;&gt;94</title>\n",
       "<path fill=\"none\" stroke=\"#000000\" d=\"M4584.872,-103.5866C4588.4891,-92.0722 4593.2735,-76.8419 4597.6338,-62.9616\"/>\n",
       "<polygon fill=\"#000000\" stroke=\"#000000\" points=\"4601.0531,-63.7549 4600.711,-53.1655 4594.3749,-61.6569 4601.0531,-63.7549\"/>\n",
       "<text text-anchor=\"middle\" x=\"4605.5877\" y=\"-74.8\" font-family=\"Times,serif\" font-size=\"14.00\" fill=\"#000000\">Yes</text>\n",
       "</g>\n",
       "<!-- 95 -->\n",
       "<g id=\"node96\" class=\"node\">\n",
       "<title>95</title>\n",
       "<polygon fill=\"none\" stroke=\"#ff0000\" points=\"4889.5877,-53 4806.5877,-53 4806.5877,0 4889.5877,0 4889.5877,-53\"/>\n",
       "<text text-anchor=\"middle\" x=\"4848.0877\" y=\"-37.8\" font-family=\"Times,serif\" font-size=\"14.00\" fill=\"#000000\">val = 0.000</text>\n",
       "<text text-anchor=\"middle\" x=\"4848.0877\" y=\"-22.8\" font-family=\"Times,serif\" font-size=\"14.00\" fill=\"#000000\">val = 0.000</text>\n",
       "<text text-anchor=\"middle\" x=\"4848.0877\" y=\"-7.8\" font-family=\"Times,serif\" font-size=\"14.00\" fill=\"#000000\">val = 0.000</text>\n",
       "</g>\n",
       "<!-- 47&#45;&gt;95 -->\n",
       "<g id=\"edge95\" class=\"edge\">\n",
       "<title>47&#45;&gt;95</title>\n",
       "<path fill=\"none\" stroke=\"#000000\" d=\"M4869.8818,-103.5866C4866.6264,-92.0722 4862.3204,-76.8419 4858.3962,-62.9616\"/>\n",
       "<polygon fill=\"#000000\" stroke=\"#000000\" points=\"4861.7152,-61.8361 4855.6266,-53.1655 4854.9793,-63.7406 4861.7152,-61.8361\"/>\n",
       "<text text-anchor=\"middle\" x=\"4874.5877\" y=\"-74.8\" font-family=\"Times,serif\" font-size=\"14.00\" fill=\"#000000\">No</text>\n",
       "</g>\n",
       "<!-- 96 -->\n",
       "<g id=\"node97\" class=\"node\">\n",
       "<title>96</title>\n",
       "<polygon fill=\"none\" stroke=\"#ff0000\" points=\"4990.5877,-53 4907.5877,-53 4907.5877,0 4990.5877,0 4990.5877,-53\"/>\n",
       "<text text-anchor=\"middle\" x=\"4949.0877\" y=\"-37.8\" font-family=\"Times,serif\" font-size=\"14.00\" fill=\"#000000\">val = 0.000</text>\n",
       "<text text-anchor=\"middle\" x=\"4949.0877\" y=\"-22.8\" font-family=\"Times,serif\" font-size=\"14.00\" fill=\"#000000\">val = 0.000</text>\n",
       "<text text-anchor=\"middle\" x=\"4949.0877\" y=\"-7.8\" font-family=\"Times,serif\" font-size=\"14.00\" fill=\"#000000\">val = 0.000</text>\n",
       "</g>\n",
       "<!-- 47&#45;&gt;96 -->\n",
       "<g id=\"edge96\" class=\"edge\">\n",
       "<title>47&#45;&gt;96</title>\n",
       "<path fill=\"none\" stroke=\"#000000\" d=\"M4889.0065,-104.0372C4898.3161,-92.0228 4910.8715,-75.8195 4922.0975,-61.3318\"/>\n",
       "<polygon fill=\"#000000\" stroke=\"#000000\" points=\"4925.1606,-63.093 4928.5191,-53.0446 4919.6273,-58.8055 4925.1606,-63.093\"/>\n",
       "<text text-anchor=\"middle\" x=\"4925.5877\" y=\"-74.8\" font-family=\"Times,serif\" font-size=\"14.00\" fill=\"#000000\">Yes</text>\n",
       "</g>\n",
       "<!-- 97 -->\n",
       "<g id=\"node98\" class=\"node\">\n",
       "<title>97</title>\n",
       "<polygon fill=\"none\" stroke=\"#ff0000\" points=\"5138.5877,-53 5055.5877,-53 5055.5877,0 5138.5877,0 5138.5877,-53\"/>\n",
       "<text text-anchor=\"middle\" x=\"5097.0877\" y=\"-37.8\" font-family=\"Times,serif\" font-size=\"14.00\" fill=\"#000000\">val = 0.000</text>\n",
       "<text text-anchor=\"middle\" x=\"5097.0877\" y=\"-22.8\" font-family=\"Times,serif\" font-size=\"14.00\" fill=\"#000000\">val = 0.000</text>\n",
       "<text text-anchor=\"middle\" x=\"5097.0877\" y=\"-7.8\" font-family=\"Times,serif\" font-size=\"14.00\" fill=\"#000000\">val = 0.000</text>\n",
       "</g>\n",
       "<!-- 48&#45;&gt;97 -->\n",
       "<g id=\"edge97\" class=\"edge\">\n",
       "<title>48&#45;&gt;97</title>\n",
       "<path fill=\"none\" stroke=\"#000000\" d=\"M5157.1688,-104.0372C5147.8593,-92.0228 5135.3038,-75.8195 5124.0778,-61.3318\"/>\n",
       "<polygon fill=\"#000000\" stroke=\"#000000\" points=\"5126.548,-58.8055 5117.6562,-53.0446 5121.0147,-63.093 5126.548,-58.8055\"/>\n",
       "<text text-anchor=\"middle\" x=\"5152.5877\" y=\"-74.8\" font-family=\"Times,serif\" font-size=\"14.00\" fill=\"#000000\">No</text>\n",
       "</g>\n",
       "<!-- 98 -->\n",
       "<g id=\"node99\" class=\"node\">\n",
       "<title>98</title>\n",
       "<polygon fill=\"none\" stroke=\"#ff0000\" points=\"5239.5877,-53 5156.5877,-53 5156.5877,0 5239.5877,0 5239.5877,-53\"/>\n",
       "<text text-anchor=\"middle\" x=\"5198.0877\" y=\"-37.8\" font-family=\"Times,serif\" font-size=\"14.00\" fill=\"#000000\">val = 0.000</text>\n",
       "<text text-anchor=\"middle\" x=\"5198.0877\" y=\"-22.8\" font-family=\"Times,serif\" font-size=\"14.00\" fill=\"#000000\">val = 0.000</text>\n",
       "<text text-anchor=\"middle\" x=\"5198.0877\" y=\"-7.8\" font-family=\"Times,serif\" font-size=\"14.00\" fill=\"#000000\">val = 0.000</text>\n",
       "</g>\n",
       "<!-- 48&#45;&gt;98 -->\n",
       "<g id=\"edge98\" class=\"edge\">\n",
       "<title>48&#45;&gt;98</title>\n",
       "<path fill=\"none\" stroke=\"#000000\" d=\"M5176.2935,-103.5866C5179.5489,-92.0722 5183.8549,-76.8419 5187.7792,-62.9616\"/>\n",
       "<polygon fill=\"#000000\" stroke=\"#000000\" points=\"5191.196,-63.7406 5190.5487,-53.1655 5184.4601,-61.8361 5191.196,-63.7406\"/>\n",
       "<text text-anchor=\"middle\" x=\"5196.5877\" y=\"-74.8\" font-family=\"Times,serif\" font-size=\"14.00\" fill=\"#000000\">Yes</text>\n",
       "</g>\n",
       "<!-- 99 -->\n",
       "<g id=\"node100\" class=\"node\">\n",
       "<title>99</title>\n",
       "<polygon fill=\"none\" stroke=\"#ff0000\" points=\"5481.5877,-53 5398.5877,-53 5398.5877,0 5481.5877,0 5481.5877,-53\"/>\n",
       "<text text-anchor=\"middle\" x=\"5440.0877\" y=\"-37.8\" font-family=\"Times,serif\" font-size=\"14.00\" fill=\"#000000\">val = 0.000</text>\n",
       "<text text-anchor=\"middle\" x=\"5440.0877\" y=\"-22.8\" font-family=\"Times,serif\" font-size=\"14.00\" fill=\"#000000\">val = 0.000</text>\n",
       "<text text-anchor=\"middle\" x=\"5440.0877\" y=\"-7.8\" font-family=\"Times,serif\" font-size=\"14.00\" fill=\"#000000\">val = 0.000</text>\n",
       "</g>\n",
       "<!-- 49&#45;&gt;99 -->\n",
       "<g id=\"edge99\" class=\"edge\">\n",
       "<title>49&#45;&gt;99</title>\n",
       "<path fill=\"none\" stroke=\"#000000\" d=\"M5461.8818,-103.5866C5458.6264,-92.0722 5454.3204,-76.8419 5450.3962,-62.9616\"/>\n",
       "<polygon fill=\"#000000\" stroke=\"#000000\" points=\"5453.7152,-61.8361 5447.6266,-53.1655 5446.9793,-63.7406 5453.7152,-61.8361\"/>\n",
       "<text text-anchor=\"middle\" x=\"5466.5877\" y=\"-74.8\" font-family=\"Times,serif\" font-size=\"14.00\" fill=\"#000000\">No</text>\n",
       "</g>\n",
       "<!-- 100 -->\n",
       "<g id=\"node101\" class=\"node\">\n",
       "<title>100</title>\n",
       "<polygon fill=\"none\" stroke=\"#ff0000\" points=\"5582.5877,-53 5499.5877,-53 5499.5877,0 5582.5877,0 5582.5877,-53\"/>\n",
       "<text text-anchor=\"middle\" x=\"5541.0877\" y=\"-37.8\" font-family=\"Times,serif\" font-size=\"14.00\" fill=\"#000000\">val = 0.000</text>\n",
       "<text text-anchor=\"middle\" x=\"5541.0877\" y=\"-22.8\" font-family=\"Times,serif\" font-size=\"14.00\" fill=\"#000000\">val = 0.000</text>\n",
       "<text text-anchor=\"middle\" x=\"5541.0877\" y=\"-7.8\" font-family=\"Times,serif\" font-size=\"14.00\" fill=\"#000000\">val = 0.000</text>\n",
       "</g>\n",
       "<!-- 49&#45;&gt;100 -->\n",
       "<g id=\"edge100\" class=\"edge\">\n",
       "<title>49&#45;&gt;100</title>\n",
       "<path fill=\"none\" stroke=\"#000000\" d=\"M5481.0065,-104.0372C5490.3161,-92.0228 5502.8715,-75.8195 5514.0975,-61.3318\"/>\n",
       "<polygon fill=\"#000000\" stroke=\"#000000\" points=\"5517.1606,-63.093 5520.5191,-53.0446 5511.6273,-58.8055 5517.1606,-63.093\"/>\n",
       "<text text-anchor=\"middle\" x=\"5517.5877\" y=\"-74.8\" font-family=\"Times,serif\" font-size=\"14.00\" fill=\"#000000\">Yes</text>\n",
       "</g>\n",
       "<!-- 101 -->\n",
       "<g id=\"node102\" class=\"node\">\n",
       "<title>101</title>\n",
       "<polygon fill=\"none\" stroke=\"#ff0000\" points=\"5730.5877,-53 5647.5877,-53 5647.5877,0 5730.5877,0 5730.5877,-53\"/>\n",
       "<text text-anchor=\"middle\" x=\"5689.0877\" y=\"-37.8\" font-family=\"Times,serif\" font-size=\"14.00\" fill=\"#000000\">val = 0.000</text>\n",
       "<text text-anchor=\"middle\" x=\"5689.0877\" y=\"-22.8\" font-family=\"Times,serif\" font-size=\"14.00\" fill=\"#000000\">val = 0.000</text>\n",
       "<text text-anchor=\"middle\" x=\"5689.0877\" y=\"-7.8\" font-family=\"Times,serif\" font-size=\"14.00\" fill=\"#000000\">val = 0.000</text>\n",
       "</g>\n",
       "<!-- 50&#45;&gt;101 -->\n",
       "<g id=\"edge101\" class=\"edge\">\n",
       "<title>50&#45;&gt;101</title>\n",
       "<path fill=\"none\" stroke=\"#000000\" d=\"M5749.1688,-104.0372C5739.8593,-92.0228 5727.3038,-75.8195 5716.0778,-61.3318\"/>\n",
       "<polygon fill=\"#000000\" stroke=\"#000000\" points=\"5718.548,-58.8055 5709.6562,-53.0446 5713.0147,-63.093 5718.548,-58.8055\"/>\n",
       "<text text-anchor=\"middle\" x=\"5744.5877\" y=\"-74.8\" font-family=\"Times,serif\" font-size=\"14.00\" fill=\"#000000\">No</text>\n",
       "</g>\n",
       "<!-- 102 -->\n",
       "<g id=\"node103\" class=\"node\">\n",
       "<title>102</title>\n",
       "<polygon fill=\"none\" stroke=\"#ff0000\" points=\"5831.5877,-53 5748.5877,-53 5748.5877,0 5831.5877,0 5831.5877,-53\"/>\n",
       "<text text-anchor=\"middle\" x=\"5790.0877\" y=\"-37.8\" font-family=\"Times,serif\" font-size=\"14.00\" fill=\"#000000\">val = 0.000</text>\n",
       "<text text-anchor=\"middle\" x=\"5790.0877\" y=\"-22.8\" font-family=\"Times,serif\" font-size=\"14.00\" fill=\"#000000\">val = 0.000</text>\n",
       "<text text-anchor=\"middle\" x=\"5790.0877\" y=\"-7.8\" font-family=\"Times,serif\" font-size=\"14.00\" fill=\"#000000\">val = 0.000</text>\n",
       "</g>\n",
       "<!-- 50&#45;&gt;102 -->\n",
       "<g id=\"edge102\" class=\"edge\">\n",
       "<title>50&#45;&gt;102</title>\n",
       "<path fill=\"none\" stroke=\"#000000\" d=\"M5768.2935,-103.5866C5771.5489,-92.0722 5775.8549,-76.8419 5779.7792,-62.9616\"/>\n",
       "<polygon fill=\"#000000\" stroke=\"#000000\" points=\"5783.196,-63.7406 5782.5487,-53.1655 5776.4601,-61.8361 5783.196,-63.7406\"/>\n",
       "<text text-anchor=\"middle\" x=\"5788.5877\" y=\"-74.8\" font-family=\"Times,serif\" font-size=\"14.00\" fill=\"#000000\">Yes</text>\n",
       "</g>\n",
       "<!-- 103 -->\n",
       "<g id=\"node104\" class=\"node\">\n",
       "<title>103</title>\n",
       "<polygon fill=\"none\" stroke=\"#ff0000\" points=\"6043.0877,-53 5955.0877,-53 5955.0877,0 6043.0877,0 6043.0877,-53\"/>\n",
       "<text text-anchor=\"middle\" x=\"5999.0877\" y=\"-37.8\" font-family=\"Times,serif\" font-size=\"14.00\" fill=\"#000000\">val = &#45;0.007</text>\n",
       "<text text-anchor=\"middle\" x=\"5999.0877\" y=\"-22.8\" font-family=\"Times,serif\" font-size=\"14.00\" fill=\"#000000\">val = &#45;0.007</text>\n",
       "<text text-anchor=\"middle\" x=\"5999.0877\" y=\"-7.8\" font-family=\"Times,serif\" font-size=\"14.00\" fill=\"#000000\">val = 0.014</text>\n",
       "</g>\n",
       "<!-- 51&#45;&gt;103 -->\n",
       "<g id=\"edge103\" class=\"edge\">\n",
       "<title>51&#45;&gt;103</title>\n",
       "<path fill=\"none\" stroke=\"#000000\" d=\"M6047.8021,-104.0372C6040.3244,-92.1351 6030.2638,-76.122 6021.227,-61.7385\"/>\n",
       "<polygon fill=\"#000000\" stroke=\"#000000\" points=\"6024.0485,-59.6501 6015.7649,-53.0446 6018.1212,-63.3741 6024.0485,-59.6501\"/>\n",
       "<text text-anchor=\"middle\" x=\"6046.5877\" y=\"-74.8\" font-family=\"Times,serif\" font-size=\"14.00\" fill=\"#000000\">No</text>\n",
       "</g>\n",
       "<!-- 104 -->\n",
       "<g id=\"node105\" class=\"node\">\n",
       "<title>104</title>\n",
       "<polygon fill=\"none\" stroke=\"#ff0000\" points=\"6144.5877,-53 6061.5877,-53 6061.5877,0 6144.5877,0 6144.5877,-53\"/>\n",
       "<text text-anchor=\"middle\" x=\"6103.0877\" y=\"-37.8\" font-family=\"Times,serif\" font-size=\"14.00\" fill=\"#000000\">val = 0.000</text>\n",
       "<text text-anchor=\"middle\" x=\"6103.0877\" y=\"-22.8\" font-family=\"Times,serif\" font-size=\"14.00\" fill=\"#000000\">val = 0.000</text>\n",
       "<text text-anchor=\"middle\" x=\"6103.0877\" y=\"-7.8\" font-family=\"Times,serif\" font-size=\"14.00\" fill=\"#000000\">val = 0.000</text>\n",
       "</g>\n",
       "<!-- 51&#45;&gt;104 -->\n",
       "<g id=\"edge104\" class=\"edge\">\n",
       "<title>51&#45;&gt;104</title>\n",
       "<path fill=\"none\" stroke=\"#000000\" d=\"M6067.5713,-103.5866C6072.9279,-91.9604 6080.0299,-76.5458 6086.4747,-62.5577\"/>\n",
       "<polygon fill=\"#000000\" stroke=\"#000000\" points=\"6089.7962,-63.7125 6090.802,-53.1655 6083.4385,-60.7833 6089.7962,-63.7125\"/>\n",
       "<text text-anchor=\"middle\" x=\"6093.5877\" y=\"-74.8\" font-family=\"Times,serif\" font-size=\"14.00\" fill=\"#000000\">Yes</text>\n",
       "</g>\n",
       "<!-- 105 -->\n",
       "<g id=\"node106\" class=\"node\">\n",
       "<title>105</title>\n",
       "<polygon fill=\"none\" stroke=\"#ff0000\" points=\"6339.0877,-53 6251.0877,-53 6251.0877,0 6339.0877,0 6339.0877,-53\"/>\n",
       "<text text-anchor=\"middle\" x=\"6295.0877\" y=\"-37.8\" font-family=\"Times,serif\" font-size=\"14.00\" fill=\"#000000\">val = 0.025</text>\n",
       "<text text-anchor=\"middle\" x=\"6295.0877\" y=\"-22.8\" font-family=\"Times,serif\" font-size=\"14.00\" fill=\"#000000\">val = &#45;0.012</text>\n",
       "<text text-anchor=\"middle\" x=\"6295.0877\" y=\"-7.8\" font-family=\"Times,serif\" font-size=\"14.00\" fill=\"#000000\">val = &#45;0.012</text>\n",
       "</g>\n",
       "<!-- 52&#45;&gt;105 -->\n",
       "<g id=\"edge105\" class=\"edge\">\n",
       "<title>52&#45;&gt;105</title>\n",
       "<path fill=\"none\" stroke=\"#000000\" d=\"M6343.8021,-104.0372C6336.3244,-92.1351 6326.2638,-76.122 6317.227,-61.7385\"/>\n",
       "<polygon fill=\"#000000\" stroke=\"#000000\" points=\"6320.0485,-59.6501 6311.7649,-53.0446 6314.1212,-63.3741 6320.0485,-59.6501\"/>\n",
       "<text text-anchor=\"middle\" x=\"6342.5877\" y=\"-74.8\" font-family=\"Times,serif\" font-size=\"14.00\" fill=\"#000000\">No</text>\n",
       "</g>\n",
       "<!-- 106 -->\n",
       "<g id=\"node107\" class=\"node\">\n",
       "<title>106</title>\n",
       "<polygon fill=\"none\" stroke=\"#ff0000\" points=\"6440.5877,-53 6357.5877,-53 6357.5877,0 6440.5877,0 6440.5877,-53\"/>\n",
       "<text text-anchor=\"middle\" x=\"6399.0877\" y=\"-37.8\" font-family=\"Times,serif\" font-size=\"14.00\" fill=\"#000000\">val = 0.000</text>\n",
       "<text text-anchor=\"middle\" x=\"6399.0877\" y=\"-22.8\" font-family=\"Times,serif\" font-size=\"14.00\" fill=\"#000000\">val = 0.000</text>\n",
       "<text text-anchor=\"middle\" x=\"6399.0877\" y=\"-7.8\" font-family=\"Times,serif\" font-size=\"14.00\" fill=\"#000000\">val = 0.000</text>\n",
       "</g>\n",
       "<!-- 52&#45;&gt;106 -->\n",
       "<g id=\"edge106\" class=\"edge\">\n",
       "<title>52&#45;&gt;106</title>\n",
       "<path fill=\"none\" stroke=\"#000000\" d=\"M6363.5713,-103.5866C6368.9279,-91.9604 6376.0299,-76.5458 6382.4747,-62.5577\"/>\n",
       "<polygon fill=\"#000000\" stroke=\"#000000\" points=\"6385.7962,-63.7125 6386.802,-53.1655 6379.4385,-60.7833 6385.7962,-63.7125\"/>\n",
       "<text text-anchor=\"middle\" x=\"6389.5877\" y=\"-74.8\" font-family=\"Times,serif\" font-size=\"14.00\" fill=\"#000000\">Yes</text>\n",
       "</g>\n",
       "<!-- 107 -->\n",
       "<g id=\"node108\" class=\"node\">\n",
       "<title>107</title>\n",
       "<polygon fill=\"none\" stroke=\"#ff0000\" points=\"6643.0877,-53 6555.0877,-53 6555.0877,0 6643.0877,0 6643.0877,-53\"/>\n",
       "<text text-anchor=\"middle\" x=\"6599.0877\" y=\"-37.8\" font-family=\"Times,serif\" font-size=\"14.00\" fill=\"#000000\">val = &#45;0.007</text>\n",
       "<text text-anchor=\"middle\" x=\"6599.0877\" y=\"-22.8\" font-family=\"Times,serif\" font-size=\"14.00\" fill=\"#000000\">val = 0.014</text>\n",
       "<text text-anchor=\"middle\" x=\"6599.0877\" y=\"-7.8\" font-family=\"Times,serif\" font-size=\"14.00\" fill=\"#000000\">val = &#45;0.007</text>\n",
       "</g>\n",
       "<!-- 53&#45;&gt;107 -->\n",
       "<g id=\"edge107\" class=\"edge\">\n",
       "<title>53&#45;&gt;107</title>\n",
       "<path fill=\"none\" stroke=\"#000000\" d=\"M6641.3069,-104.0372C6634.8873,-92.2474 6626.2713,-76.4238 6618.497,-62.146\"/>\n",
       "<polygon fill=\"#000000\" stroke=\"#000000\" points=\"6621.3973,-60.1533 6613.5413,-53.0446 6615.2495,-63.5008 6621.3973,-60.1533\"/>\n",
       "<text text-anchor=\"middle\" x=\"6641.5877\" y=\"-74.8\" font-family=\"Times,serif\" font-size=\"14.00\" fill=\"#000000\">No</text>\n",
       "</g>\n",
       "<!-- 108 -->\n",
       "<g id=\"node109\" class=\"node\">\n",
       "<title>108</title>\n",
       "<polygon fill=\"none\" stroke=\"#ff0000\" points=\"6744.5877,-53 6661.5877,-53 6661.5877,0 6744.5877,0 6744.5877,-53\"/>\n",
       "<text text-anchor=\"middle\" x=\"6703.0877\" y=\"-37.8\" font-family=\"Times,serif\" font-size=\"14.00\" fill=\"#000000\">val = 0.000</text>\n",
       "<text text-anchor=\"middle\" x=\"6703.0877\" y=\"-22.8\" font-family=\"Times,serif\" font-size=\"14.00\" fill=\"#000000\">val = 0.000</text>\n",
       "<text text-anchor=\"middle\" x=\"6703.0877\" y=\"-7.8\" font-family=\"Times,serif\" font-size=\"14.00\" fill=\"#000000\">val = 0.000</text>\n",
       "</g>\n",
       "<!-- 53&#45;&gt;108 -->\n",
       "<g id=\"edge108\" class=\"edge\">\n",
       "<title>53&#45;&gt;108</title>\n",
       "<path fill=\"none\" stroke=\"#000000\" d=\"M6660.8685,-104.0372C6667.288,-92.2474 6675.904,-76.4238 6683.6783,-62.146\"/>\n",
       "<polygon fill=\"#000000\" stroke=\"#000000\" points=\"6686.9258,-63.5008 6688.6341,-53.0446 6680.7781,-60.1533 6686.9258,-63.5008\"/>\n",
       "<text text-anchor=\"middle\" x=\"6689.5877\" y=\"-74.8\" font-family=\"Times,serif\" font-size=\"14.00\" fill=\"#000000\">Yes</text>\n",
       "</g>\n",
       "<!-- 109 -->\n",
       "<g id=\"node110\" class=\"node\">\n",
       "<title>109</title>\n",
       "<polygon fill=\"none\" stroke=\"#ff0000\" points=\"6938.5877,-53 6855.5877,-53 6855.5877,0 6938.5877,0 6938.5877,-53\"/>\n",
       "<text text-anchor=\"middle\" x=\"6897.0877\" y=\"-37.8\" font-family=\"Times,serif\" font-size=\"14.00\" fill=\"#000000\">val = 0.000</text>\n",
       "<text text-anchor=\"middle\" x=\"6897.0877\" y=\"-22.8\" font-family=\"Times,serif\" font-size=\"14.00\" fill=\"#000000\">val = 0.000</text>\n",
       "<text text-anchor=\"middle\" x=\"6897.0877\" y=\"-7.8\" font-family=\"Times,serif\" font-size=\"14.00\" fill=\"#000000\">val = 0.000</text>\n",
       "</g>\n",
       "<!-- 54&#45;&gt;109 -->\n",
       "<g id=\"edge109\" class=\"edge\">\n",
       "<title>54&#45;&gt;109</title>\n",
       "<path fill=\"none\" stroke=\"#000000\" d=\"M6937.683,-104.0372C6931.5104,-92.2474 6923.2258,-76.4238 6915.7505,-62.146\"/>\n",
       "<polygon fill=\"#000000\" stroke=\"#000000\" points=\"6918.7245,-60.2804 6910.9853,-53.0446 6912.523,-63.5273 6918.7245,-60.2804\"/>\n",
       "<text text-anchor=\"middle\" x=\"6937.5877\" y=\"-74.8\" font-family=\"Times,serif\" font-size=\"14.00\" fill=\"#000000\">No</text>\n",
       "</g>\n",
       "<!-- 110 -->\n",
       "<g id=\"node111\" class=\"node\">\n",
       "<title>110</title>\n",
       "<polygon fill=\"none\" stroke=\"#ff0000\" points=\"7039.5877,-53 6956.5877,-53 6956.5877,0 7039.5877,0 7039.5877,-53\"/>\n",
       "<text text-anchor=\"middle\" x=\"6998.0877\" y=\"-37.8\" font-family=\"Times,serif\" font-size=\"14.00\" fill=\"#000000\">val = 0.000</text>\n",
       "<text text-anchor=\"middle\" x=\"6998.0877\" y=\"-22.8\" font-family=\"Times,serif\" font-size=\"14.00\" fill=\"#000000\">val = 0.000</text>\n",
       "<text text-anchor=\"middle\" x=\"6998.0877\" y=\"-7.8\" font-family=\"Times,serif\" font-size=\"14.00\" fill=\"#000000\">val = 0.000</text>\n",
       "</g>\n",
       "<!-- 54&#45;&gt;110 -->\n",
       "<g id=\"edge110\" class=\"edge\">\n",
       "<title>54&#45;&gt;110</title>\n",
       "<path fill=\"none\" stroke=\"#000000\" d=\"M6956.6804,-104.0372C6962.9765,-92.2474 6971.4268,-76.4238 6979.0516,-62.146\"/>\n",
       "<polygon fill=\"#000000\" stroke=\"#000000\" points=\"6982.2886,-63.5143 6983.912,-53.0446 6976.1139,-60.2168 6982.2886,-63.5143\"/>\n",
       "<text text-anchor=\"middle\" x=\"6985.5877\" y=\"-74.8\" font-family=\"Times,serif\" font-size=\"14.00\" fill=\"#000000\">Yes</text>\n",
       "</g>\n",
       "<!-- 111 -->\n",
       "<g id=\"node112\" class=\"node\">\n",
       "<title>111</title>\n",
       "<polygon fill=\"none\" stroke=\"#ff0000\" points=\"7257.5877,-53 7174.5877,-53 7174.5877,0 7257.5877,0 7257.5877,-53\"/>\n",
       "<text text-anchor=\"middle\" x=\"7216.0877\" y=\"-37.8\" font-family=\"Times,serif\" font-size=\"14.00\" fill=\"#000000\">val = 0.000</text>\n",
       "<text text-anchor=\"middle\" x=\"7216.0877\" y=\"-22.8\" font-family=\"Times,serif\" font-size=\"14.00\" fill=\"#000000\">val = 0.000</text>\n",
       "<text text-anchor=\"middle\" x=\"7216.0877\" y=\"-7.8\" font-family=\"Times,serif\" font-size=\"14.00\" fill=\"#000000\">val = 0.000</text>\n",
       "</g>\n",
       "<!-- 55&#45;&gt;111 -->\n",
       "<g id=\"edge111\" class=\"edge\">\n",
       "<title>55&#45;&gt;111</title>\n",
       "<path fill=\"none\" stroke=\"#000000\" d=\"M7237.8818,-103.5866C7234.6264,-92.0722 7230.3204,-76.8419 7226.3962,-62.9616\"/>\n",
       "<polygon fill=\"#000000\" stroke=\"#000000\" points=\"7229.7152,-61.8361 7223.6266,-53.1655 7222.9793,-63.7406 7229.7152,-61.8361\"/>\n",
       "<text text-anchor=\"middle\" x=\"7242.5877\" y=\"-74.8\" font-family=\"Times,serif\" font-size=\"14.00\" fill=\"#000000\">No</text>\n",
       "</g>\n",
       "<!-- 112 -->\n",
       "<g id=\"node113\" class=\"node\">\n",
       "<title>112</title>\n",
       "<polygon fill=\"none\" stroke=\"#ff0000\" points=\"7364.0877,-53 7276.0877,-53 7276.0877,0 7364.0877,0 7364.0877,-53\"/>\n",
       "<text text-anchor=\"middle\" x=\"7320.0877\" y=\"-37.8\" font-family=\"Times,serif\" font-size=\"14.00\" fill=\"#000000\">val = &#45;0.007</text>\n",
       "<text text-anchor=\"middle\" x=\"7320.0877\" y=\"-22.8\" font-family=\"Times,serif\" font-size=\"14.00\" fill=\"#000000\">val = &#45;0.007</text>\n",
       "<text text-anchor=\"middle\" x=\"7320.0877\" y=\"-7.8\" font-family=\"Times,serif\" font-size=\"14.00\" fill=\"#000000\">val = 0.014</text>\n",
       "</g>\n",
       "<!-- 55&#45;&gt;112 -->\n",
       "<g id=\"edge112\" class=\"edge\">\n",
       "<title>55&#45;&gt;112</title>\n",
       "<path fill=\"none\" stroke=\"#000000\" d=\"M7257.5708,-104.0372C7267.3483,-91.9105 7280.5667,-75.5163 7292.3305,-60.9261\"/>\n",
       "<polygon fill=\"#000000\" stroke=\"#000000\" points=\"7295.1331,-63.0262 7298.6852,-53.0446 7289.6838,-58.6325 7295.1331,-63.0262\"/>\n",
       "<text text-anchor=\"middle\" x=\"7294.5877\" y=\"-74.8\" font-family=\"Times,serif\" font-size=\"14.00\" fill=\"#000000\">Yes</text>\n",
       "</g>\n",
       "<!-- 113 -->\n",
       "<g id=\"node114\" class=\"node\">\n",
       "<title>113</title>\n",
       "<polygon fill=\"none\" stroke=\"#ff0000\" points=\"7505.5877,-53 7422.5877,-53 7422.5877,0 7505.5877,0 7505.5877,-53\"/>\n",
       "<text text-anchor=\"middle\" x=\"7464.0877\" y=\"-37.8\" font-family=\"Times,serif\" font-size=\"14.00\" fill=\"#000000\">val = 0.000</text>\n",
       "<text text-anchor=\"middle\" x=\"7464.0877\" y=\"-22.8\" font-family=\"Times,serif\" font-size=\"14.00\" fill=\"#000000\">val = 0.000</text>\n",
       "<text text-anchor=\"middle\" x=\"7464.0877\" y=\"-7.8\" font-family=\"Times,serif\" font-size=\"14.00\" fill=\"#000000\">val = 0.000</text>\n",
       "</g>\n",
       "<!-- 56&#45;&gt;113 -->\n",
       "<g id=\"edge113\" class=\"edge\">\n",
       "<title>56&#45;&gt;113</title>\n",
       "<path fill=\"none\" stroke=\"#000000\" d=\"M7524.9807,-104.0372C7515.4572,-91.9105 7502.5821,-75.5163 7491.1239,-60.9261\"/>\n",
       "<polygon fill=\"#000000\" stroke=\"#000000\" points=\"7493.8632,-58.7475 7484.9342,-53.0446 7488.358,-63.071 7493.8632,-58.7475\"/>\n",
       "<text text-anchor=\"middle\" x=\"7520.5877\" y=\"-74.8\" font-family=\"Times,serif\" font-size=\"14.00\" fill=\"#000000\">No</text>\n",
       "</g>\n",
       "<!-- 114 -->\n",
       "<g id=\"node115\" class=\"node\">\n",
       "<title>114</title>\n",
       "<polygon fill=\"none\" stroke=\"#ff0000\" points=\"7606.5877,-53 7523.5877,-53 7523.5877,0 7606.5877,0 7606.5877,-53\"/>\n",
       "<text text-anchor=\"middle\" x=\"7565.0877\" y=\"-37.8\" font-family=\"Times,serif\" font-size=\"14.00\" fill=\"#000000\">val = 0.000</text>\n",
       "<text text-anchor=\"middle\" x=\"7565.0877\" y=\"-22.8\" font-family=\"Times,serif\" font-size=\"14.00\" fill=\"#000000\">val = 0.000</text>\n",
       "<text text-anchor=\"middle\" x=\"7565.0877\" y=\"-7.8\" font-family=\"Times,serif\" font-size=\"14.00\" fill=\"#000000\">val = 0.000</text>\n",
       "</g>\n",
       "<!-- 56&#45;&gt;114 -->\n",
       "<g id=\"edge114\" class=\"edge\">\n",
       "<title>56&#45;&gt;114</title>\n",
       "<path fill=\"none\" stroke=\"#000000\" d=\"M7544.1007,-103.5866C7547.2355,-92.0722 7551.382,-76.8419 7555.161,-62.9616\"/>\n",
       "<polygon fill=\"#000000\" stroke=\"#000000\" points=\"7558.578,-63.7338 7557.8279,-53.1655 7551.8239,-61.8949 7558.578,-63.7338\"/>\n",
       "<text text-anchor=\"middle\" x=\"7563.5877\" y=\"-74.8\" font-family=\"Times,serif\" font-size=\"14.00\" fill=\"#000000\">Yes</text>\n",
       "</g>\n",
       "<!-- 115 -->\n",
       "<g id=\"node116\" class=\"node\">\n",
       "<title>115</title>\n",
       "<polygon fill=\"none\" stroke=\"#ff0000\" points=\"7817.5877,-53 7734.5877,-53 7734.5877,0 7817.5877,0 7817.5877,-53\"/>\n",
       "<text text-anchor=\"middle\" x=\"7776.0877\" y=\"-37.8\" font-family=\"Times,serif\" font-size=\"14.00\" fill=\"#000000\">val = 0.000</text>\n",
       "<text text-anchor=\"middle\" x=\"7776.0877\" y=\"-22.8\" font-family=\"Times,serif\" font-size=\"14.00\" fill=\"#000000\">val = 0.000</text>\n",
       "<text text-anchor=\"middle\" x=\"7776.0877\" y=\"-7.8\" font-family=\"Times,serif\" font-size=\"14.00\" fill=\"#000000\">val = 0.000</text>\n",
       "</g>\n",
       "<!-- 57&#45;&gt;115 -->\n",
       "<g id=\"edge115\" class=\"edge\">\n",
       "<title>57&#45;&gt;115</title>\n",
       "<path fill=\"none\" stroke=\"#000000\" d=\"M7823.9902,-104.0372C7816.6371,-92.1351 7806.7442,-76.122 7797.858,-61.7385\"/>\n",
       "<polygon fill=\"#000000\" stroke=\"#000000\" points=\"7800.7204,-59.7124 7792.4869,-53.0446 7794.7653,-63.3916 7800.7204,-59.7124\"/>\n",
       "<text text-anchor=\"middle\" x=\"7822.5877\" y=\"-74.8\" font-family=\"Times,serif\" font-size=\"14.00\" fill=\"#000000\">No</text>\n",
       "</g>\n",
       "<!-- 116 -->\n",
       "<g id=\"node117\" class=\"node\">\n",
       "<title>116</title>\n",
       "<polygon fill=\"none\" stroke=\"#ff0000\" points=\"7924.0877,-53 7836.0877,-53 7836.0877,0 7924.0877,0 7924.0877,-53\"/>\n",
       "<text text-anchor=\"middle\" x=\"7880.0877\" y=\"-37.8\" font-family=\"Times,serif\" font-size=\"14.00\" fill=\"#000000\">val = &#45;0.007</text>\n",
       "<text text-anchor=\"middle\" x=\"7880.0877\" y=\"-22.8\" font-family=\"Times,serif\" font-size=\"14.00\" fill=\"#000000\">val = 0.014</text>\n",
       "<text text-anchor=\"middle\" x=\"7880.0877\" y=\"-7.8\" font-family=\"Times,serif\" font-size=\"14.00\" fill=\"#000000\">val = &#45;0.007</text>\n",
       "</g>\n",
       "<!-- 57&#45;&gt;116 -->\n",
       "<g id=\"edge116\" class=\"edge\">\n",
       "<title>57&#45;&gt;116</title>\n",
       "<path fill=\"none\" stroke=\"#000000\" d=\"M7843.7641,-103.5866C7849.2424,-91.9604 7856.5059,-76.5458 7863.0971,-62.5577\"/>\n",
       "<polygon fill=\"#000000\" stroke=\"#000000\" points=\"7866.4263,-63.7035 7867.5227,-53.1655 7860.094,-60.7197 7866.4263,-63.7035\"/>\n",
       "<text text-anchor=\"middle\" x=\"7869.5877\" y=\"-74.8\" font-family=\"Times,serif\" font-size=\"14.00\" fill=\"#000000\">Yes</text>\n",
       "</g>\n",
       "<!-- 117 -->\n",
       "<g id=\"node118\" class=\"node\">\n",
       "<title>117</title>\n",
       "<polygon fill=\"none\" stroke=\"#ff0000\" points=\"8115.5877,-53 8032.5877,-53 8032.5877,0 8115.5877,0 8115.5877,-53\"/>\n",
       "<text text-anchor=\"middle\" x=\"8074.0877\" y=\"-37.8\" font-family=\"Times,serif\" font-size=\"14.00\" fill=\"#000000\">val = 0.000</text>\n",
       "<text text-anchor=\"middle\" x=\"8074.0877\" y=\"-22.8\" font-family=\"Times,serif\" font-size=\"14.00\" fill=\"#000000\">val = 0.000</text>\n",
       "<text text-anchor=\"middle\" x=\"8074.0877\" y=\"-7.8\" font-family=\"Times,serif\" font-size=\"14.00\" fill=\"#000000\">val = 0.000</text>\n",
       "</g>\n",
       "<!-- 58&#45;&gt;117 -->\n",
       "<g id=\"edge117\" class=\"edge\">\n",
       "<title>58&#45;&gt;117</title>\n",
       "<path fill=\"none\" stroke=\"#000000\" d=\"M8120.3664,-104.0372C8113.2625,-92.1351 8103.705,-76.122 8095.12,-61.7385\"/>\n",
       "<polygon fill=\"#000000\" stroke=\"#000000\" points=\"8098.0616,-59.8376 8089.931,-53.0446 8092.0508,-63.4252 8098.0616,-59.8376\"/>\n",
       "<text text-anchor=\"middle\" x=\"8119.5877\" y=\"-74.8\" font-family=\"Times,serif\" font-size=\"14.00\" fill=\"#000000\">No</text>\n",
       "</g>\n",
       "<!-- 118 -->\n",
       "<g id=\"node119\" class=\"node\">\n",
       "<title>118</title>\n",
       "<polygon fill=\"none\" stroke=\"#ff0000\" points=\"8216.5877,-53 8133.5877,-53 8133.5877,0 8216.5877,0 8216.5877,-53\"/>\n",
       "<text text-anchor=\"middle\" x=\"8175.0877\" y=\"-37.8\" font-family=\"Times,serif\" font-size=\"14.00\" fill=\"#000000\">val = 0.000</text>\n",
       "<text text-anchor=\"middle\" x=\"8175.0877\" y=\"-22.8\" font-family=\"Times,serif\" font-size=\"14.00\" fill=\"#000000\">val = 0.000</text>\n",
       "<text text-anchor=\"middle\" x=\"8175.0877\" y=\"-7.8\" font-family=\"Times,serif\" font-size=\"14.00\" fill=\"#000000\">val = 0.000</text>\n",
       "</g>\n",
       "<!-- 58&#45;&gt;118 -->\n",
       "<g id=\"edge118\" class=\"edge\">\n",
       "<title>58&#45;&gt;118</title>\n",
       "<path fill=\"none\" stroke=\"#000000\" d=\"M8139.5713,-103.5866C8144.9279,-91.9604 8152.0299,-76.5458 8158.4747,-62.5577\"/>\n",
       "<polygon fill=\"#000000\" stroke=\"#000000\" points=\"8161.7962,-63.7125 8162.802,-53.1655 8155.4385,-60.7833 8161.7962,-63.7125\"/>\n",
       "<text text-anchor=\"middle\" x=\"8165.5877\" y=\"-74.8\" font-family=\"Times,serif\" font-size=\"14.00\" fill=\"#000000\">Yes</text>\n",
       "</g>\n",
       "<!-- 119 -->\n",
       "<g id=\"node120\" class=\"node\">\n",
       "<title>119</title>\n",
       "<polygon fill=\"none\" stroke=\"#ff0000\" points=\"8411.0877,-53 8323.0877,-53 8323.0877,0 8411.0877,0 8411.0877,-53\"/>\n",
       "<text text-anchor=\"middle\" x=\"8367.0877\" y=\"-37.8\" font-family=\"Times,serif\" font-size=\"14.00\" fill=\"#000000\">val = &#45;0.014</text>\n",
       "<text text-anchor=\"middle\" x=\"8367.0877\" y=\"-22.8\" font-family=\"Times,serif\" font-size=\"14.00\" fill=\"#000000\">val = 0.041</text>\n",
       "<text text-anchor=\"middle\" x=\"8367.0877\" y=\"-7.8\" font-family=\"Times,serif\" font-size=\"14.00\" fill=\"#000000\">val = &#45;0.027</text>\n",
       "</g>\n",
       "<!-- 59&#45;&gt;119 -->\n",
       "<g id=\"edge119\" class=\"edge\">\n",
       "<title>59&#45;&gt;119</title>\n",
       "<path fill=\"none\" stroke=\"#000000\" d=\"M8415.8021,-104.0372C8408.3244,-92.1351 8398.2638,-76.122 8389.227,-61.7385\"/>\n",
       "<polygon fill=\"#000000\" stroke=\"#000000\" points=\"8392.0485,-59.6501 8383.7649,-53.0446 8386.1212,-63.3741 8392.0485,-59.6501\"/>\n",
       "<text text-anchor=\"middle\" x=\"8414.5877\" y=\"-74.8\" font-family=\"Times,serif\" font-size=\"14.00\" fill=\"#000000\">No</text>\n",
       "</g>\n",
       "<!-- 120 -->\n",
       "<g id=\"node121\" class=\"node\">\n",
       "<title>120</title>\n",
       "<polygon fill=\"none\" stroke=\"#ff0000\" points=\"8512.5877,-53 8429.5877,-53 8429.5877,0 8512.5877,0 8512.5877,-53\"/>\n",
       "<text text-anchor=\"middle\" x=\"8471.0877\" y=\"-37.8\" font-family=\"Times,serif\" font-size=\"14.00\" fill=\"#000000\">val = 0.000</text>\n",
       "<text text-anchor=\"middle\" x=\"8471.0877\" y=\"-22.8\" font-family=\"Times,serif\" font-size=\"14.00\" fill=\"#000000\">val = 0.000</text>\n",
       "<text text-anchor=\"middle\" x=\"8471.0877\" y=\"-7.8\" font-family=\"Times,serif\" font-size=\"14.00\" fill=\"#000000\">val = 0.000</text>\n",
       "</g>\n",
       "<!-- 59&#45;&gt;120 -->\n",
       "<g id=\"edge120\" class=\"edge\">\n",
       "<title>59&#45;&gt;120</title>\n",
       "<path fill=\"none\" stroke=\"#000000\" d=\"M8435.5713,-103.5866C8440.9279,-91.9604 8448.0299,-76.5458 8454.4747,-62.5577\"/>\n",
       "<polygon fill=\"#000000\" stroke=\"#000000\" points=\"8457.7962,-63.7125 8458.802,-53.1655 8451.4385,-60.7833 8457.7962,-63.7125\"/>\n",
       "<text text-anchor=\"middle\" x=\"8461.5877\" y=\"-74.8\" font-family=\"Times,serif\" font-size=\"14.00\" fill=\"#000000\">Yes</text>\n",
       "</g>\n",
       "<!-- 121 -->\n",
       "<g id=\"node122\" class=\"node\">\n",
       "<title>121</title>\n",
       "<polygon fill=\"none\" stroke=\"#ff0000\" points=\"8707.0877,-53 8619.0877,-53 8619.0877,0 8707.0877,0 8707.0877,-53\"/>\n",
       "<text text-anchor=\"middle\" x=\"8663.0877\" y=\"-37.8\" font-family=\"Times,serif\" font-size=\"14.00\" fill=\"#000000\">val = 0.005</text>\n",
       "<text text-anchor=\"middle\" x=\"8663.0877\" y=\"-22.8\" font-family=\"Times,serif\" font-size=\"14.00\" fill=\"#000000\">val = 0.005</text>\n",
       "<text text-anchor=\"middle\" x=\"8663.0877\" y=\"-7.8\" font-family=\"Times,serif\" font-size=\"14.00\" fill=\"#000000\">val = &#45;0.010</text>\n",
       "</g>\n",
       "<!-- 60&#45;&gt;121 -->\n",
       "<g id=\"edge121\" class=\"edge\">\n",
       "<title>60&#45;&gt;121</title>\n",
       "<path fill=\"none\" stroke=\"#000000\" d=\"M8711.8021,-104.0372C8704.3244,-92.1351 8694.2638,-76.122 8685.227,-61.7385\"/>\n",
       "<polygon fill=\"#000000\" stroke=\"#000000\" points=\"8688.0485,-59.6501 8679.7649,-53.0446 8682.1212,-63.3741 8688.0485,-59.6501\"/>\n",
       "<text text-anchor=\"middle\" x=\"8710.5877\" y=\"-74.8\" font-family=\"Times,serif\" font-size=\"14.00\" fill=\"#000000\">No</text>\n",
       "</g>\n",
       "<!-- 122 -->\n",
       "<g id=\"node123\" class=\"node\">\n",
       "<title>122</title>\n",
       "<polygon fill=\"none\" stroke=\"#ff0000\" points=\"8808.5877,-53 8725.5877,-53 8725.5877,0 8808.5877,0 8808.5877,-53\"/>\n",
       "<text text-anchor=\"middle\" x=\"8767.0877\" y=\"-37.8\" font-family=\"Times,serif\" font-size=\"14.00\" fill=\"#000000\">val = 0.000</text>\n",
       "<text text-anchor=\"middle\" x=\"8767.0877\" y=\"-22.8\" font-family=\"Times,serif\" font-size=\"14.00\" fill=\"#000000\">val = 0.000</text>\n",
       "<text text-anchor=\"middle\" x=\"8767.0877\" y=\"-7.8\" font-family=\"Times,serif\" font-size=\"14.00\" fill=\"#000000\">val = 0.000</text>\n",
       "</g>\n",
       "<!-- 60&#45;&gt;122 -->\n",
       "<g id=\"edge122\" class=\"edge\">\n",
       "<title>60&#45;&gt;122</title>\n",
       "<path fill=\"none\" stroke=\"#000000\" d=\"M8731.5713,-103.5866C8736.9279,-91.9604 8744.0299,-76.5458 8750.4747,-62.5577\"/>\n",
       "<polygon fill=\"#000000\" stroke=\"#000000\" points=\"8753.7962,-63.7125 8754.802,-53.1655 8747.4385,-60.7833 8753.7962,-63.7125\"/>\n",
       "<text text-anchor=\"middle\" x=\"8757.5877\" y=\"-74.8\" font-family=\"Times,serif\" font-size=\"14.00\" fill=\"#000000\">Yes</text>\n",
       "</g>\n",
       "<!-- 123 -->\n",
       "<g id=\"node124\" class=\"node\">\n",
       "<title>123</title>\n",
       "<polygon fill=\"none\" stroke=\"#ff0000\" points=\"9003.0877,-53 8915.0877,-53 8915.0877,0 9003.0877,0 9003.0877,-53\"/>\n",
       "<text text-anchor=\"middle\" x=\"8959.0877\" y=\"-37.8\" font-family=\"Times,serif\" font-size=\"14.00\" fill=\"#000000\">val = 0.020</text>\n",
       "<text text-anchor=\"middle\" x=\"8959.0877\" y=\"-22.8\" font-family=\"Times,serif\" font-size=\"14.00\" fill=\"#000000\">val = &#45;0.010</text>\n",
       "<text text-anchor=\"middle\" x=\"8959.0877\" y=\"-7.8\" font-family=\"Times,serif\" font-size=\"14.00\" fill=\"#000000\">val = &#45;0.010</text>\n",
       "</g>\n",
       "<!-- 61&#45;&gt;123 -->\n",
       "<g id=\"edge123\" class=\"edge\">\n",
       "<title>61&#45;&gt;123</title>\n",
       "<path fill=\"none\" stroke=\"#000000\" d=\"M9007.8021,-104.0372C9000.3244,-92.1351 8990.2638,-76.122 8981.227,-61.7385\"/>\n",
       "<polygon fill=\"#000000\" stroke=\"#000000\" points=\"8984.0485,-59.6501 8975.7649,-53.0446 8978.1212,-63.3741 8984.0485,-59.6501\"/>\n",
       "<text text-anchor=\"middle\" x=\"9006.5877\" y=\"-74.8\" font-family=\"Times,serif\" font-size=\"14.00\" fill=\"#000000\">No</text>\n",
       "</g>\n",
       "<!-- 124 -->\n",
       "<g id=\"node125\" class=\"node\">\n",
       "<title>124</title>\n",
       "<polygon fill=\"none\" stroke=\"#ff0000\" points=\"9104.5877,-53 9021.5877,-53 9021.5877,0 9104.5877,0 9104.5877,-53\"/>\n",
       "<text text-anchor=\"middle\" x=\"9063.0877\" y=\"-37.8\" font-family=\"Times,serif\" font-size=\"14.00\" fill=\"#000000\">val = 0.000</text>\n",
       "<text text-anchor=\"middle\" x=\"9063.0877\" y=\"-22.8\" font-family=\"Times,serif\" font-size=\"14.00\" fill=\"#000000\">val = 0.000</text>\n",
       "<text text-anchor=\"middle\" x=\"9063.0877\" y=\"-7.8\" font-family=\"Times,serif\" font-size=\"14.00\" fill=\"#000000\">val = 0.000</text>\n",
       "</g>\n",
       "<!-- 61&#45;&gt;124 -->\n",
       "<g id=\"edge124\" class=\"edge\">\n",
       "<title>61&#45;&gt;124</title>\n",
       "<path fill=\"none\" stroke=\"#000000\" d=\"M9027.5713,-103.5866C9032.9279,-91.9604 9040.0299,-76.5458 9046.4747,-62.5577\"/>\n",
       "<polygon fill=\"#000000\" stroke=\"#000000\" points=\"9049.7962,-63.7125 9050.802,-53.1655 9043.4385,-60.7833 9049.7962,-63.7125\"/>\n",
       "<text text-anchor=\"middle\" x=\"9053.5877\" y=\"-74.8\" font-family=\"Times,serif\" font-size=\"14.00\" fill=\"#000000\">Yes</text>\n",
       "</g>\n",
       "<!-- 125 -->\n",
       "<g id=\"node126\" class=\"node\">\n",
       "<title>125</title>\n",
       "<polygon fill=\"none\" stroke=\"#ff0000\" points=\"9307.0877,-53 9219.0877,-53 9219.0877,0 9307.0877,0 9307.0877,-53\"/>\n",
       "<text text-anchor=\"middle\" x=\"9263.0877\" y=\"-37.8\" font-family=\"Times,serif\" font-size=\"14.00\" fill=\"#000000\">val = 0.006</text>\n",
       "<text text-anchor=\"middle\" x=\"9263.0877\" y=\"-22.8\" font-family=\"Times,serif\" font-size=\"14.00\" fill=\"#000000\">val = &#45;0.012</text>\n",
       "<text text-anchor=\"middle\" x=\"9263.0877\" y=\"-7.8\" font-family=\"Times,serif\" font-size=\"14.00\" fill=\"#000000\">val = 0.006</text>\n",
       "</g>\n",
       "<!-- 62&#45;&gt;125 -->\n",
       "<g id=\"edge125\" class=\"edge\">\n",
       "<title>62&#45;&gt;125</title>\n",
       "<path fill=\"none\" stroke=\"#000000\" d=\"M9305.3069,-104.0372C9298.8873,-92.2474 9290.2713,-76.4238 9282.497,-62.146\"/>\n",
       "<polygon fill=\"#000000\" stroke=\"#000000\" points=\"9285.3973,-60.1533 9277.5413,-53.0446 9279.2495,-63.5008 9285.3973,-60.1533\"/>\n",
       "<text text-anchor=\"middle\" x=\"9305.5877\" y=\"-74.8\" font-family=\"Times,serif\" font-size=\"14.00\" fill=\"#000000\">No</text>\n",
       "</g>\n",
       "<!-- 126 -->\n",
       "<g id=\"node127\" class=\"node\">\n",
       "<title>126</title>\n",
       "<polygon fill=\"none\" stroke=\"#ff0000\" points=\"9408.5877,-53 9325.5877,-53 9325.5877,0 9408.5877,0 9408.5877,-53\"/>\n",
       "<text text-anchor=\"middle\" x=\"9367.0877\" y=\"-37.8\" font-family=\"Times,serif\" font-size=\"14.00\" fill=\"#000000\">val = 0.000</text>\n",
       "<text text-anchor=\"middle\" x=\"9367.0877\" y=\"-22.8\" font-family=\"Times,serif\" font-size=\"14.00\" fill=\"#000000\">val = 0.000</text>\n",
       "<text text-anchor=\"middle\" x=\"9367.0877\" y=\"-7.8\" font-family=\"Times,serif\" font-size=\"14.00\" fill=\"#000000\">val = 0.000</text>\n",
       "</g>\n",
       "<!-- 62&#45;&gt;126 -->\n",
       "<g id=\"edge126\" class=\"edge\">\n",
       "<title>62&#45;&gt;126</title>\n",
       "<path fill=\"none\" stroke=\"#000000\" d=\"M9324.8685,-104.0372C9331.288,-92.2474 9339.904,-76.4238 9347.6783,-62.146\"/>\n",
       "<polygon fill=\"#000000\" stroke=\"#000000\" points=\"9350.9258,-63.5008 9352.6341,-53.0446 9344.7781,-60.1533 9350.9258,-63.5008\"/>\n",
       "<text text-anchor=\"middle\" x=\"9352.5877\" y=\"-74.8\" font-family=\"Times,serif\" font-size=\"14.00\" fill=\"#000000\">Yes</text>\n",
       "</g>\n",
       "</g>\n",
       "</svg>\n"
      ],
      "text/plain": [
       "<graphviz.dot.Digraph at 0x7fc0a39a3810>"
      ]
     },
     "execution_count": 27,
     "metadata": {},
     "output_type": "execute_result"
    }
   ],
   "source": [
    "model.plot_tree(tree_idx=0, pool=None)"
   ]
  },
  {
   "cell_type": "code",
   "execution_count": 1,
   "metadata": {},
   "outputs": [],
   "source": [
    "from datetime import datetime"
   ]
  },
  {
   "cell_type": "code",
   "execution_count": 8,
   "metadata": {},
   "outputs": [
    {
     "data": {
      "text/plain": [
       "['2021', '11', '11']"
      ]
     },
     "execution_count": 8,
     "metadata": {},
     "output_type": "execute_result"
    }
   ],
   "source": [
    "datetime.today().strftime('%Y-%m-%d').split('-')"
   ]
  },
  {
   "cell_type": "code",
   "execution_count": null,
   "metadata": {},
   "outputs": [],
   "source": []
  }
 ],
 "metadata": {
  "colab": {
   "authorship_tag": "ABX9TyPpe+OMf7tp54K7AnGn1qMq",
   "collapsed_sections": [],
   "name": "소비자분석.ipynb",
   "provenance": []
  },
  "kernelspec": {
   "display_name": "Python 3 (ipykernel)",
   "language": "python",
   "name": "python3"
  },
  "language_info": {
   "codemirror_mode": {
    "name": "ipython",
    "version": 3
   },
   "file_extension": ".py",
   "mimetype": "text/x-python",
   "name": "python",
   "nbconvert_exporter": "python",
   "pygments_lexer": "ipython3",
   "version": "3.8.10"
  },
  "widgets": {
   "application/vnd.jupyter.widget-state+json": {
    "6edf734b4c0540f4a26a49b6a5862813": {
     "model_module": "catboost-widget",
     "model_module_version": "^1.0.0",
     "model_name": "CatboostWidgetModel",
     "state": {
      "_dom_classes": [],
      "_model_module": "catboost-widget",
      "_model_module_version": "^1.0.0",
      "_model_name": "CatboostWidgetModel",
      "_view_count": null,
      "_view_module": "catboost-widget",
      "_view_module_version": "^1.0.0",
      "_view_name": "CatboostWidgetView",
      "data": {
       "catboost_info": {
        "content": {
         "data": {
          "iterations": [
           {
            "iteration": 0,
            "learn": [
             1.083569089
            ],
            "passed_time": 0.0629101545,
            "remaining_time": 62.84724434
           },
           {
            "iteration": 1,
            "learn": [
             1.070754312
            ],
            "passed_time": 0.06411229928,
            "remaining_time": 31.99203734
           },
           {
            "iteration": 2,
            "learn": [
             1.058288316
            ],
            "passed_time": 0.07599377354,
            "remaining_time": 25.25526407
           },
           {
            "iteration": 3,
            "learn": [
             1.048725136
            ],
            "passed_time": 0.07840145202,
            "remaining_time": 19.52196155
           },
           {
            "iteration": 4,
            "learn": [
             1.0342556
            ],
            "passed_time": 0.08672863387,
            "remaining_time": 17.25899814
           },
           {
            "iteration": 5,
            "learn": [
             1.022879543
            ],
            "passed_time": 0.09333197361,
            "remaining_time": 15.46199696
           },
           {
            "iteration": 6,
            "learn": [
             1.011949072
            ],
            "passed_time": 0.1020474697,
            "remaining_time": 14.47616248
           },
           {
            "iteration": 7,
            "learn": [
             1.00366853
            ],
            "passed_time": 0.102463313,
            "remaining_time": 12.70545081
           },
           {
            "iteration": 8,
            "learn": [
             0.9947007646
            ],
            "passed_time": 0.1096154931,
            "remaining_time": 12.06988374
           },
           {
            "iteration": 9,
            "learn": [
             0.9856462378
            ],
            "passed_time": 0.111904922,
            "remaining_time": 11.07858728
           },
           {
            "iteration": 10,
            "learn": [
             0.9762233342
            ],
            "passed_time": 0.1228313188,
            "remaining_time": 11.04365221
           },
           {
            "iteration": 11,
            "learn": [
             0.9656401846
            ],
            "passed_time": 0.1310814494,
            "remaining_time": 10.79237267
           },
           {
            "iteration": 12,
            "learn": [
             0.9579555523
            ],
            "passed_time": 0.1318171573,
            "remaining_time": 10.00796417
           },
           {
            "iteration": 13,
            "learn": [
             0.9450285293
            ],
            "passed_time": 0.1400791652,
            "remaining_time": 9.865575491
           },
           {
            "iteration": 14,
            "learn": [
             0.9352728836
            ],
            "passed_time": 0.1468699106,
            "remaining_time": 9.644457461
           },
           {
            "iteration": 15,
            "learn": [
             0.9298064948
            ],
            "passed_time": 0.1527294573,
            "remaining_time": 9.392861621
           },
           {
            "iteration": 16,
            "learn": [
             0.9207173954
            ],
            "passed_time": 0.1590612968,
            "remaining_time": 9.197485573
           },
           {
            "iteration": 17,
            "learn": [
             0.910403496
            ],
            "passed_time": 0.1682393577,
            "remaining_time": 9.178391623
           },
           {
            "iteration": 18,
            "learn": [
             0.9061683901
            ],
            "passed_time": 0.1696833284,
            "remaining_time": 8.761018168
           },
           {
            "iteration": 19,
            "learn": [
             0.898213867
            ],
            "passed_time": 0.182574385,
            "remaining_time": 8.946144866
           },
           {
            "iteration": 20,
            "learn": [
             0.885626728
            ],
            "passed_time": 0.1898110052,
            "remaining_time": 8.848808291
           },
           {
            "iteration": 21,
            "learn": [
             0.8753548949
            ],
            "passed_time": 0.1973618373,
            "remaining_time": 8.773630766
           },
           {
            "iteration": 22,
            "learn": [
             0.86426612
            ],
            "passed_time": 0.2102203308,
            "remaining_time": 8.929794051
           },
           {
            "iteration": 23,
            "learn": [
             0.8601801101
            ],
            "passed_time": 0.2113871241,
            "remaining_time": 8.596409712
           },
           {
            "iteration": 24,
            "learn": [
             0.853366499
            ],
            "passed_time": 0.2210934664,
            "remaining_time": 8.622645191
           },
           {
            "iteration": 25,
            "learn": [
             0.8448960303
            ],
            "passed_time": 0.2292065527,
            "remaining_time": 8.586430091
           },
           {
            "iteration": 26,
            "learn": [
             0.8350051806
            ],
            "passed_time": 0.2339066517,
            "remaining_time": 8.429302671
           },
           {
            "iteration": 27,
            "learn": [
             0.8290579038
            ],
            "passed_time": 0.2410347658,
            "remaining_time": 8.367349729
           },
           {
            "iteration": 28,
            "learn": [
             0.82291354
            ],
            "passed_time": 0.2483998115,
            "remaining_time": 8.317110929
           },
           {
            "iteration": 29,
            "learn": [
             0.8164818015
            ],
            "passed_time": 0.2544116441,
            "remaining_time": 8.225976493
           },
           {
            "iteration": 30,
            "learn": [
             0.8080888053
            ],
            "passed_time": 0.2605171444,
            "remaining_time": 8.143261707
           },
           {
            "iteration": 31,
            "learn": [
             0.8027331511
            ],
            "passed_time": 0.267067253,
            "remaining_time": 8.078784403
           },
           {
            "iteration": 32,
            "learn": [
             0.7964351048
            ],
            "passed_time": 0.2733235782,
            "remaining_time": 8.009209095
           },
           {
            "iteration": 33,
            "learn": [
             0.7869376787
            ],
            "passed_time": 0.2791061918,
            "remaining_time": 7.92989945
           },
           {
            "iteration": 34,
            "learn": [
             0.7799201886
            ],
            "passed_time": 0.2866311141,
            "remaining_time": 7.902829288
           },
           {
            "iteration": 35,
            "learn": [
             0.772059807
            ],
            "passed_time": 0.2938210514,
            "remaining_time": 7.86787482
           },
           {
            "iteration": 36,
            "learn": [
             0.7637488294
            ],
            "passed_time": 0.3031583779,
            "remaining_time": 7.890311295
           },
           {
            "iteration": 37,
            "learn": [
             0.758002838
            ],
            "passed_time": 0.3100523985,
            "remaining_time": 7.849221246
           },
           {
            "iteration": 38,
            "learn": [
             0.7505186624
            ],
            "passed_time": 0.3169668589,
            "remaining_time": 7.810388498
           },
           {
            "iteration": 39,
            "learn": [
             0.7450082136
            ],
            "passed_time": 0.3241753055,
            "remaining_time": 7.780207331
           },
           {
            "iteration": 40,
            "learn": [
             0.7394874072
            ],
            "passed_time": 0.3303983498,
            "remaining_time": 7.728097987
           },
           {
            "iteration": 41,
            "learn": [
             0.7364056341
            ],
            "passed_time": 0.3370539811,
            "remaining_time": 7.688040806
           },
           {
            "iteration": 42,
            "learn": [
             0.732910868
            ],
            "passed_time": 0.3441732149,
            "remaining_time": 7.659855039
           },
           {
            "iteration": 43,
            "learn": [
             0.728011255
            ],
            "passed_time": 0.3501365037,
            "remaining_time": 7.607511307
           },
           {
            "iteration": 44,
            "learn": [
             0.7222136318
            ],
            "passed_time": 0.3634826449,
            "remaining_time": 7.713909464
           },
           {
            "iteration": 45,
            "learn": [
             0.7196987305
            ],
            "passed_time": 0.3647446882,
            "remaining_time": 7.564487664
           },
           {
            "iteration": 46,
            "learn": [
             0.7114423798
            ],
            "passed_time": 0.3707287213,
            "remaining_time": 7.517116413
           },
           {
            "iteration": 47,
            "learn": [
             0.7081358407
            ],
            "passed_time": 0.376027813,
            "remaining_time": 7.457884958
           },
           {
            "iteration": 48,
            "learn": [
             0.7033322837
            ],
            "passed_time": 0.3813665202,
            "remaining_time": 7.401623687
           },
           {
            "iteration": 49,
            "learn": [
             0.7010641539
            ],
            "passed_time": 0.3849320348,
            "remaining_time": 7.313708662
           },
           {
            "iteration": 50,
            "learn": [
             0.699795611
            ],
            "passed_time": 0.3857077555,
            "remaining_time": 7.177189411
           },
           {
            "iteration": 51,
            "learn": [
             0.6980169427
            ],
            "passed_time": 0.3911695408,
            "remaining_time": 7.131321629
           },
           {
            "iteration": 52,
            "learn": [
             0.6937884731
            ],
            "passed_time": 0.3984386059,
            "remaining_time": 7.11927094
           },
           {
            "iteration": 53,
            "learn": [
             0.6896305444
            ],
            "passed_time": 0.4048580889,
            "remaining_time": 7.092513928
           },
           {
            "iteration": 54,
            "learn": [
             0.6835161236
            ],
            "passed_time": 0.4117192437,
            "remaining_time": 7.074085187
           },
           {
            "iteration": 55,
            "learn": [
             0.6773454554
            ],
            "passed_time": 0.4179792669,
            "remaining_time": 7.045936214
           },
           {
            "iteration": 56,
            "learn": [
             0.6704397825
            ],
            "passed_time": 0.423403976,
            "remaining_time": 7.004735955
           },
           {
            "iteration": 57,
            "learn": [
             0.6644257684
            ],
            "passed_time": 0.4318512467,
            "remaining_time": 7.013859904
           },
           {
            "iteration": 58,
            "learn": [
             0.6582005812
            ],
            "passed_time": 0.4430834415,
            "remaining_time": 7.066805397
           },
           {
            "iteration": 59,
            "learn": [
             0.6534907315
            ],
            "passed_time": 0.4497118987,
            "remaining_time": 7.045486413
           },
           {
            "iteration": 60,
            "learn": [
             0.6486695524
            ],
            "passed_time": 0.4566802722,
            "remaining_time": 7.029881567
           },
           {
            "iteration": 61,
            "learn": [
             0.6471117387
            ],
            "passed_time": 0.4591154538,
            "remaining_time": 6.945972511
           },
           {
            "iteration": 62,
            "learn": [
             0.6423018402
            ],
            "passed_time": 0.4662786149,
            "remaining_time": 6.93496924
           },
           {
            "iteration": 63,
            "learn": [
             0.638217231
            ],
            "passed_time": 0.4731508346,
            "remaining_time": 6.919830956
           },
           {
            "iteration": 64,
            "learn": [
             0.633625044
            ],
            "passed_time": 0.4811490984,
            "remaining_time": 6.921144723
           },
           {
            "iteration": 65,
            "learn": [
             0.6279618749
            ],
            "passed_time": 0.4884690263,
            "remaining_time": 6.912576826
           },
           {
            "iteration": 66,
            "learn": [
             0.6204798953
            ],
            "passed_time": 0.4950550819,
            "remaining_time": 6.893826737
           },
           {
            "iteration": 67,
            "learn": [
             0.6137191178
            ],
            "passed_time": 0.5017616386,
            "remaining_time": 6.877085988
           },
           {
            "iteration": 68,
            "learn": [
             0.6083808851
            ],
            "passed_time": 0.5092797339,
            "remaining_time": 6.871585975
           },
           {
            "iteration": 69,
            "learn": [
             0.6042130921
            ],
            "passed_time": 0.5161979401,
            "remaining_time": 6.858058347
           },
           {
            "iteration": 70,
            "learn": [
             0.5985145737
            ],
            "passed_time": 0.5229229252,
            "remaining_time": 6.842188697
           },
           {
            "iteration": 71,
            "learn": [
             0.5950023127
            ],
            "passed_time": 0.5346164596,
            "remaining_time": 6.890612146
           },
           {
            "iteration": 72,
            "learn": [
             0.5914284758
            ],
            "passed_time": 0.5437859989,
            "remaining_time": 6.905337274
           },
           {
            "iteration": 73,
            "learn": [
             0.5886347273
            ],
            "passed_time": 0.5529347142,
            "remaining_time": 6.919156018
           },
           {
            "iteration": 74,
            "learn": [
             0.5855115399
            ],
            "passed_time": 0.5590992679,
            "remaining_time": 6.895557637
           },
           {
            "iteration": 75,
            "learn": [
             0.5813587917
            ],
            "passed_time": 0.5661119627,
            "remaining_time": 6.882729651
           },
           {
            "iteration": 76,
            "learn": [
             0.575075065
            ],
            "passed_time": 0.5727040051,
            "remaining_time": 6.865010347
           },
           {
            "iteration": 77,
            "learn": [
             0.5710261726
            ],
            "passed_time": 0.5796286936,
            "remaining_time": 6.851508404
           },
           {
            "iteration": 78,
            "learn": [
             0.5655727525
            ],
            "passed_time": 0.5863840403,
            "remaining_time": 6.836198748
           },
           {
            "iteration": 79,
            "learn": [
             0.5616886831
            ],
            "passed_time": 0.5920577773,
            "remaining_time": 6.808664439
           },
           {
            "iteration": 80,
            "learn": [
             0.5567340107
            ],
            "passed_time": 0.6001293125,
            "remaining_time": 6.808874546
           },
           {
            "iteration": 81,
            "learn": [
             0.5516580452
            ],
            "passed_time": 0.6075313507,
            "remaining_time": 6.80138756
           },
           {
            "iteration": 82,
            "learn": [
             0.5467777778
            ],
            "passed_time": 0.6138464357,
            "remaining_time": 6.781893753
           },
           {
            "iteration": 83,
            "learn": [
             0.5439121863
            ],
            "passed_time": 0.6193558799,
            "remaining_time": 6.753928404
           },
           {
            "iteration": 84,
            "learn": [
             0.5396891993
            ],
            "passed_time": 0.6273840347,
            "remaining_time": 6.753604609
           },
           {
            "iteration": 85,
            "learn": [
             0.5367109354
            ],
            "passed_time": 0.6344907067,
            "remaining_time": 6.743308208
           },
           {
            "iteration": 86,
            "learn": [
             0.533771785
            ],
            "passed_time": 0.6414486165,
            "remaining_time": 6.731523987
           },
           {
            "iteration": 87,
            "learn": [
             0.5306973109
            ],
            "passed_time": 0.6471290164,
            "remaining_time": 6.706609806
           },
           {
            "iteration": 88,
            "learn": [
             0.5260278624
            ],
            "passed_time": 0.6525492161,
            "remaining_time": 6.679464448
           },
           {
            "iteration": 89,
            "learn": [
             0.522165842
            ],
            "passed_time": 0.6648907931,
            "remaining_time": 6.722784686
           },
           {
            "iteration": 90,
            "learn": [
             0.516190318
            ],
            "passed_time": 0.671165343,
            "remaining_time": 6.704277987
           },
           {
            "iteration": 91,
            "learn": [
             0.5108814457
            ],
            "passed_time": 0.6789576846,
            "remaining_time": 6.701017148
           },
           {
            "iteration": 92,
            "learn": [
             0.5052641775
            ],
            "passed_time": 0.6853838164,
            "remaining_time": 6.684334639
           },
           {
            "iteration": 93,
            "learn": [
             0.5006646704
            ],
            "passed_time": 0.6921814464,
            "remaining_time": 6.671450962
           },
           {
            "iteration": 94,
            "learn": [
             0.4971840151
            ],
            "passed_time": 0.6987272147,
            "remaining_time": 6.656296098
           },
           {
            "iteration": 95,
            "learn": [
             0.4941889184
            ],
            "passed_time": 0.7058742285,
            "remaining_time": 6.646982318
           },
           {
            "iteration": 96,
            "learn": [
             0.4891951914
            ],
            "passed_time": 0.7126461378,
            "remaining_time": 6.634221262
           },
           {
            "iteration": 97,
            "learn": [
             0.4849859265
            ],
            "passed_time": 0.7191669368,
            "remaining_time": 6.619271194
           },
           {
            "iteration": 98,
            "learn": [
             0.4825077004
            ],
            "passed_time": 0.7242826386,
            "remaining_time": 6.59170361
           },
           {
            "iteration": 99,
            "learn": [
             0.478902805
            ],
            "passed_time": 0.731047961,
            "remaining_time": 6.579431649
           },
           {
            "iteration": 100,
            "learn": [
             0.4753289748
            ],
            "passed_time": 0.738771367,
            "remaining_time": 6.575796623
           },
           {
            "iteration": 101,
            "learn": [
             0.4731539342
            ],
            "passed_time": 0.7452065377,
            "remaining_time": 6.56073991
           },
           {
            "iteration": 102,
            "learn": [
             0.4689082156
            ],
            "passed_time": 0.7531084564,
            "remaining_time": 6.55862413
           },
           {
            "iteration": 103,
            "learn": [
             0.464454019
            ],
            "passed_time": 0.7599457401,
            "remaining_time": 6.547224838
           },
           {
            "iteration": 104,
            "learn": [
             0.4619111534
            ],
            "passed_time": 0.7670232065,
            "remaining_time": 6.537959712
           },
           {
            "iteration": 105,
            "learn": [
             0.4584188346
            ],
            "passed_time": 0.7735668746,
            "remaining_time": 6.524233829
           },
           {
            "iteration": 106,
            "learn": [
             0.4555199623
            ],
            "passed_time": 0.7803490447,
            "remaining_time": 6.512632682
           },
           {
            "iteration": 107,
            "learn": [
             0.4524328471
            ],
            "passed_time": 0.7874316688,
            "remaining_time": 6.503602302
           },
           {
            "iteration": 108,
            "learn": [
             0.4497819244
            ],
            "passed_time": 0.7991445244,
            "remaining_time": 6.532456617
           },
           {
            "iteration": 109,
            "learn": [
             0.4464132717
            ],
            "passed_time": 0.8052157246,
            "remaining_time": 6.514927226
           },
           {
            "iteration": 110,
            "learn": [
             0.4424754907
            ],
            "passed_time": 0.811578518,
            "remaining_time": 6.499939662
           },
           {
            "iteration": 111,
            "learn": [
             0.43918821
            ],
            "passed_time": 0.8182081012,
            "remaining_time": 6.487221374
           },
           {
            "iteration": 112,
            "learn": [
             0.4361167133
            ],
            "passed_time": 0.8244875524,
            "remaining_time": 6.471862469
           },
           {
            "iteration": 113,
            "learn": [
             0.4338614107
            ],
            "passed_time": 0.8305527526,
            "remaining_time": 6.454997709
           },
           {
            "iteration": 114,
            "learn": [
             0.4294166322
            ],
            "passed_time": 0.8366957473,
            "remaining_time": 6.438919446
           },
           {
            "iteration": 115,
            "learn": [
             0.4256706932
            ],
            "passed_time": 0.8434774747,
            "remaining_time": 6.427880065
           },
           {
            "iteration": 116,
            "learn": [
             0.4227686208
            ],
            "passed_time": 0.8503215962,
            "remaining_time": 6.417384354
           },
           {
            "iteration": 117,
            "learn": [
             0.420097608
            ],
            "passed_time": 0.8558591018,
            "remaining_time": 6.397184133
           },
           {
            "iteration": 118,
            "learn": [
             0.4173533623
            ],
            "passed_time": 0.8623990659,
            "remaining_time": 6.384651908
           },
           {
            "iteration": 119,
            "learn": [
             0.413968448
            ],
            "passed_time": 0.8769099303,
            "remaining_time": 6.430672822
           },
           {
            "iteration": 120,
            "learn": [
             0.4104216586
            ],
            "passed_time": 0.8828269498,
            "remaining_time": 6.413263544
           },
           {
            "iteration": 121,
            "learn": [
             0.4072855222
            ],
            "passed_time": 0.8917436326,
            "remaining_time": 6.417630405
           },
           {
            "iteration": 122,
            "learn": [
             0.404075925
            ],
            "passed_time": 0.9039898765,
            "remaining_time": 6.445521314
           },
           {
            "iteration": 123,
            "learn": [
             0.4013399502
            ],
            "passed_time": 0.9093915787,
            "remaining_time": 6.424411476
           },
           {
            "iteration": 124,
            "learn": [
             0.3975189619
            ],
            "passed_time": 0.9152768634,
            "remaining_time": 6.406938044
           },
           {
            "iteration": 125,
            "learn": [
             0.3949947453
            ],
            "passed_time": 0.9213818164,
            "remaining_time": 6.391172282
           },
           {
            "iteration": 126,
            "learn": [
             0.3924030547
            ],
            "passed_time": 0.9278914008,
            "remaining_time": 6.378340101
           },
           {
            "iteration": 127,
            "learn": [
             0.3895878028
            ],
            "passed_time": 0.9332295011,
            "remaining_time": 6.357625976
           },
           {
            "iteration": 128,
            "learn": [
             0.3863759411
            ],
            "passed_time": 0.9394463944,
            "remaining_time": 6.343083795
           },
           {
            "iteration": 129,
            "learn": [
             0.3841588235
            ],
            "passed_time": 0.9510160129,
            "remaining_time": 6.364491779
           },
           {
            "iteration": 130,
            "learn": [
             0.3816262606
            ],
            "passed_time": 0.9571589585,
            "remaining_time": 6.349397977
           },
           {
            "iteration": 131,
            "learn": [
             0.3795552953
            ],
            "passed_time": 0.962188892,
            "remaining_time": 6.327120896
           },
           {
            "iteration": 132,
            "learn": [
             0.3765068523
            ],
            "passed_time": 0.9796850617,
            "remaining_time": 6.386368034
           },
           {
            "iteration": 133,
            "learn": [
             0.3745375157
            ],
            "passed_time": 0.9940126612,
            "remaining_time": 6.423992273
           },
           {
            "iteration": 134,
            "learn": [
             0.3713695952
            ],
            "passed_time": 1.00453215,
            "remaining_time": 6.436446739
           },
           {
            "iteration": 135,
            "learn": [
             0.3695739681
            ],
            "passed_time": 1.010719478,
            "remaining_time": 6.421041391
           },
           {
            "iteration": 136,
            "learn": [
             0.3674557983
            ],
            "passed_time": 1.016459976,
            "remaining_time": 6.402955908
           },
           {
            "iteration": 137,
            "learn": [
             0.3653271092
            ],
            "passed_time": 1.022243743,
            "remaining_time": 6.38531961
           },
           {
            "iteration": 138,
            "learn": [
             0.3638944778
            ],
            "passed_time": 1.028518268,
            "remaining_time": 6.370893734
           },
           {
            "iteration": 139,
            "learn": [
             0.3619877627
            ],
            "passed_time": 1.036846474,
            "remaining_time": 6.369199771
           },
           {
            "iteration": 140,
            "learn": [
             0.3590516557
            ],
            "passed_time": 1.044368103,
            "remaining_time": 6.362497874
           },
           {
            "iteration": 141,
            "learn": [
             0.3571715137
            ],
            "passed_time": 1.050143192,
            "remaining_time": 6.3452314
           },
           {
            "iteration": 142,
            "learn": [
             0.3551469698
            ],
            "passed_time": 1.056055692,
            "remaining_time": 6.328949148
           },
           {
            "iteration": 143,
            "learn": [
             0.3530182571
            ],
            "passed_time": 1.062253919,
            "remaining_time": 6.31450941
           },
           {
            "iteration": 144,
            "learn": [
             0.3508920947
            ],
            "passed_time": 1.068758116,
            "remaining_time": 6.30198751
           },
           {
            "iteration": 145,
            "learn": [
             0.3486795911
            ],
            "passed_time": 1.07507157,
            "remaining_time": 6.288432335
           },
           {
            "iteration": 146,
            "learn": [
             0.3471746876
            ],
            "passed_time": 1.081904633,
            "remaining_time": 6.27799083
           },
           {
            "iteration": 147,
            "learn": [
             0.3449479963
            ],
            "passed_time": 1.088269843,
            "remaining_time": 6.264904775
           },
           {
            "iteration": 148,
            "learn": [
             0.3419929465
            ],
            "passed_time": 1.094818571,
            "remaining_time": 6.252957071
           },
           {
            "iteration": 149,
            "learn": [
             0.3398041708
            ],
            "passed_time": 1.10096896,
            "remaining_time": 6.238824109
           },
           {
            "iteration": 150,
            "learn": [
             0.3364491871
            ],
            "passed_time": 1.107663368,
            "remaining_time": 6.227855628
           },
           {
            "iteration": 151,
            "learn": [
             0.3344424363
            ],
            "passed_time": 1.114771386,
            "remaining_time": 6.219250888
           },
           {
            "iteration": 152,
            "learn": [
             0.3320857048
            ],
            "passed_time": 1.120854463,
            "remaining_time": 6.204991698
           },
           {
            "iteration": 153,
            "learn": [
             0.3303052746
            ],
            "passed_time": 1.127500409,
            "remaining_time": 6.193930816
           },
           {
            "iteration": 154,
            "learn": [
             0.3288678149
            ],
            "passed_time": 1.134634947,
            "remaining_time": 6.185590519
           },
           {
            "iteration": 155,
            "learn": [
             0.3263034629
            ],
            "passed_time": 1.140951786,
            "remaining_time": 6.172841712
           },
           {
            "iteration": 156,
            "learn": [
             0.3246368578
            ],
            "passed_time": 1.145748461,
            "remaining_time": 6.15201244
           },
           {
            "iteration": 157,
            "learn": [
             0.3225373716
            ],
            "passed_time": 1.151293596,
            "remaining_time": 6.135374735
           },
           {
            "iteration": 158,
            "learn": [
             0.3208243551
            ],
            "passed_time": 1.156895839,
            "remaining_time": 6.11917862
           },
           {
            "iteration": 159,
            "learn": [
             0.3201342125
            ],
            "passed_time": 1.163048521,
            "remaining_time": 6.106004734
           },
           {
            "iteration": 160,
            "learn": [
             0.3168844233
            ],
            "passed_time": 1.171463888,
            "remaining_time": 6.104709329
           },
           {
            "iteration": 161,
            "learn": [
             0.3153283853
            ],
            "passed_time": 1.177550801,
            "remaining_time": 6.091281305
           },
           {
            "iteration": 162,
            "learn": [
             0.3131825003
            ],
            "passed_time": 1.183795691,
            "remaining_time": 6.07875456
           },
           {
            "iteration": 163,
            "learn": [
             0.3108269019
            ],
            "passed_time": 1.190404579,
            "remaining_time": 6.068159929
           },
           {
            "iteration": 164,
            "learn": [
             0.3089522816
            ],
            "passed_time": 1.196643163,
            "remaining_time": 6.055739641
           },
           {
            "iteration": 165,
            "learn": [
             0.3070520987
            ],
            "passed_time": 1.204103343,
            "remaining_time": 6.049531255
           },
           {
            "iteration": 166,
            "learn": [
             0.3052543101
            ],
            "passed_time": 1.210881998,
            "remaining_time": 6.039908408
           },
           {
            "iteration": 167,
            "learn": [
             0.3033953041
            ],
            "passed_time": 1.216738806,
            "remaining_time": 6.025754089
           },
           {
            "iteration": 168,
            "learn": [
             0.3012665373
            ],
            "passed_time": 1.223324104,
            "remaining_time": 6.015280063
           },
           {
            "iteration": 169,
            "learn": [
             0.298894885
            ],
            "passed_time": 1.229531189,
            "remaining_time": 6.003005215
           },
           {
            "iteration": 170,
            "learn": [
             0.2973698943
            ],
            "passed_time": 1.23501499,
            "remaining_time": 5.987294892
           },
           {
            "iteration": 171,
            "learn": [
             0.2962489778
            ],
            "passed_time": 1.241648195,
            "remaining_time": 5.977236661
           },
           {
            "iteration": 172,
            "learn": [
             0.2941473542
            ],
            "passed_time": 1.24867082,
            "remaining_time": 5.969079584
           },
           {
            "iteration": 173,
            "learn": [
             0.2922464985
            ],
            "passed_time": 1.255052228,
            "remaining_time": 5.957891611
           },
           {
            "iteration": 174,
            "learn": [
             0.2896912654
            ],
            "passed_time": 1.261080021,
            "remaining_time": 5.94509153
           },
           {
            "iteration": 175,
            "learn": [
             0.2882489184
            ],
            "passed_time": 1.266183825,
            "remaining_time": 5.928042454
           },
           {
            "iteration": 176,
            "learn": [
             0.2866537634
            ],
            "passed_time": 1.272074975,
            "remaining_time": 5.914789289
           },
           {
            "iteration": 177,
            "learn": [
             0.2847941843
            ],
            "passed_time": 1.277707406,
            "remaining_time": 5.900424089
           },
           {
            "iteration": 178,
            "learn": [
             0.2830721081
            ],
            "passed_time": 1.284333855,
            "remaining_time": 5.890715617
           },
           {
            "iteration": 179,
            "learn": [
             0.281425693
            ],
            "passed_time": 1.29035413,
            "remaining_time": 5.878279927
           },
           {
            "iteration": 180,
            "learn": [
             0.2802620992
            ],
            "passed_time": 1.296480551,
            "remaining_time": 5.866395423
           },
           {
            "iteration": 181,
            "learn": [
             0.2787233871
            ],
            "passed_time": 1.302226546,
            "remaining_time": 5.852864366
           },
           {
            "iteration": 182,
            "learn": [
             0.2773884208
            ],
            "passed_time": 1.307805458,
            "remaining_time": 5.838672453
           },
           {
            "iteration": 183,
            "learn": [
             0.2762603826
            ],
            "passed_time": 1.3147691,
            "remaining_time": 5.830715138
           },
           {
            "iteration": 184,
            "learn": [
             0.274661835
            ],
            "passed_time": 1.320477783,
            "remaining_time": 5.817239962
           },
           {
            "iteration": 185,
            "learn": [
             0.2732974909
            ],
            "passed_time": 1.325921189,
            "remaining_time": 5.802687356
           },
           {
            "iteration": 186,
            "learn": [
             0.2715460867
            ],
            "passed_time": 1.332485067,
            "remaining_time": 5.793103528
           },
           {
            "iteration": 187,
            "learn": [
             0.2710612108
            ],
            "passed_time": 1.338579294,
            "remaining_time": 5.781523335
           },
           {
            "iteration": 188,
            "learn": [
             0.2694929299
            ],
            "passed_time": 1.344543353,
            "remaining_time": 5.769442641
           },
           {
            "iteration": 189,
            "learn": [
             0.2683026351
            ],
            "passed_time": 1.349389692,
            "remaining_time": 5.752661319
           },
           {
            "iteration": 190,
            "learn": [
             0.2670839039
            ],
            "passed_time": 1.356211767,
            "remaining_time": 5.744373402
           },
           {
            "iteration": 191,
            "learn": [
             0.2660592349
            ],
            "passed_time": 1.362473469,
            "remaining_time": 5.733742513
           },
           {
            "iteration": 192,
            "learn": [
             0.2646681862
            ],
            "passed_time": 1.368266818,
            "remaining_time": 5.721198559
           },
           {
            "iteration": 193,
            "learn": [
             0.2624564301
            ],
            "passed_time": 1.374579701,
            "remaining_time": 5.710882675
           },
           {
            "iteration": 194,
            "learn": [
             0.2607003008
            ],
            "passed_time": 1.381346371,
            "remaining_time": 5.702481174
           },
           {
            "iteration": 195,
            "learn": [
             0.2593082562
            ],
            "passed_time": 1.392119893,
            "remaining_time": 5.710532624
           },
           {
            "iteration": 196,
            "learn": [
             0.2577258962
            ],
            "passed_time": 1.397737793,
            "remaining_time": 5.697377906
           },
           {
            "iteration": 197,
            "learn": [
             0.25696978
            ],
            "passed_time": 1.402357227,
            "remaining_time": 5.680255029
           },
           {
            "iteration": 198,
            "learn": [
             0.2558201402
            ],
            "passed_time": 1.407638567,
            "remaining_time": 5.665922072
           },
           {
            "iteration": 199,
            "learn": [
             0.2543265808
            ],
            "passed_time": 1.41361356,
            "remaining_time": 5.65445424
           },
           {
            "iteration": 200,
            "learn": [
             0.2521896665
            ],
            "passed_time": 1.419920526,
            "remaining_time": 5.644360697
           },
           {
            "iteration": 201,
            "learn": [
             0.2514455043
            ],
            "passed_time": 1.425617576,
            "remaining_time": 5.631895175
           },
           {
            "iteration": 202,
            "learn": [
             0.2505400428
            ],
            "passed_time": 1.431151871,
            "remaining_time": 5.618857347
           },
           {
            "iteration": 203,
            "learn": [
             0.2493421279
            ],
            "passed_time": 1.437596108,
            "remaining_time": 5.609443638
           },
           {
            "iteration": 204,
            "learn": [
             0.2478245843
            ],
            "passed_time": 1.443270695,
            "remaining_time": 5.59707416
           },
           {
            "iteration": 205,
            "learn": [
             0.2467626607
            ],
            "passed_time": 1.448306957,
            "remaining_time": 5.582309338
           },
           {
            "iteration": 206,
            "learn": [
             0.244499833
            ],
            "passed_time": 1.455021312,
            "remaining_time": 5.574067153
           },
           {
            "iteration": 207,
            "learn": [
             0.2426976425
            ],
            "passed_time": 1.460888737,
            "remaining_time": 5.562614805
           },
           {
            "iteration": 208,
            "learn": [
             0.2414603755
            ],
            "passed_time": 1.466992671,
            "remaining_time": 5.552111018
           },
           {
            "iteration": 209,
            "learn": [
             0.240285248
            ],
            "passed_time": 1.472758207,
            "remaining_time": 5.540376113
           },
           {
            "iteration": 210,
            "learn": [
             0.2387176698
            ],
            "passed_time": 1.478094609,
            "remaining_time": 5.527093113
           },
           {
            "iteration": 211,
            "learn": [
             0.2371612221
            ],
            "passed_time": 1.484392279,
            "remaining_time": 5.517458093
           },
           {
            "iteration": 212,
            "learn": [
             0.2355709897
            ],
            "passed_time": 1.490645135,
            "remaining_time": 5.507688831
           },
           {
            "iteration": 213,
            "learn": [
             0.2344836641
            ],
            "passed_time": 1.49628246,
            "remaining_time": 5.495691651
           },
           {
            "iteration": 214,
            "learn": [
             0.233731875
            ],
            "passed_time": 1.502282498,
            "remaining_time": 5.485077957
           },
           {
            "iteration": 215,
            "learn": [
             0.23297864
            ],
            "passed_time": 1.508105512,
            "remaining_time": 5.473864452
           },
           {
            "iteration": 216,
            "learn": [
             0.2315862647
            ],
            "passed_time": 1.515332269,
            "remaining_time": 5.467765743
           },
           {
            "iteration": 217,
            "learn": [
             0.2308132408
            ],
            "passed_time": 1.521810576,
            "remaining_time": 5.458971882
           },
           {
            "iteration": 218,
            "learn": [
             0.2298995869
            ],
            "passed_time": 1.529017335,
            "remaining_time": 5.452796979
           },
           {
            "iteration": 219,
            "learn": [
             0.2288429725
            ],
            "passed_time": 1.540078255,
            "remaining_time": 5.460277448
           },
           {
            "iteration": 220,
            "learn": [
             0.2278549675
            ],
            "passed_time": 1.546371526,
            "remaining_time": 5.450784698
           },
           {
            "iteration": 221,
            "learn": [
             0.2266259911
            ],
            "passed_time": 1.552692736,
            "remaining_time": 5.441418687
           },
           {
            "iteration": 222,
            "learn": [
             0.2259815999
            ],
            "passed_time": 1.558823371,
            "remaining_time": 5.431415961
           },
           {
            "iteration": 223,
            "learn": [
             0.2251443165
            ],
            "passed_time": 1.564895247,
            "remaining_time": 5.421244249
           },
           {
            "iteration": 224,
            "learn": [
             0.2240187813
            ],
            "passed_time": 1.570981852,
            "remaining_time": 5.411159713
           },
           {
            "iteration": 225,
            "learn": [
             0.2231911428
            ],
            "passed_time": 1.57874366,
            "remaining_time": 5.406847756
           },
           {
            "iteration": 226,
            "learn": [
             0.2219324726
            ],
            "passed_time": 1.584730512,
            "remaining_time": 5.39646117
           },
           {
            "iteration": 227,
            "learn": [
             0.2206601749
            ],
            "passed_time": 1.591118808,
            "remaining_time": 5.387472454
           },
           {
            "iteration": 228,
            "learn": [
             0.2193886388
            ],
            "passed_time": 1.599342783,
            "remaining_time": 5.384686838
           },
           {
            "iteration": 229,
            "learn": [
             0.2176049921
            ],
            "passed_time": 1.605849184,
            "remaining_time": 5.376103791
           },
           {
            "iteration": 230,
            "learn": [
             0.2166497027
            ],
            "passed_time": 1.61221779,
            "remaining_time": 5.367080001
           },
           {
            "iteration": 231,
            "learn": [
             0.2158460575
            ],
            "passed_time": 1.618503715,
            "remaining_time": 5.357805401
           },
           {
            "iteration": 232,
            "learn": [
             0.215085783
            ],
            "passed_time": 1.624302824,
            "remaining_time": 5.346953931
           },
           {
            "iteration": 233,
            "learn": [
             0.2142956731
            ],
            "passed_time": 1.629411732,
            "remaining_time": 5.333886269
           },
           {
            "iteration": 234,
            "learn": [
             0.2132741109
            ],
            "passed_time": 1.636124233,
            "remaining_time": 5.326106547
           },
           {
            "iteration": 235,
            "learn": [
             0.2124375844
            ],
            "passed_time": 1.641954849,
            "remaining_time": 5.315480952
           },
           {
            "iteration": 236,
            "learn": [
             0.2113395274
            ],
            "passed_time": 1.648178993,
            "remaining_time": 5.306162751
           },
           {
            "iteration": 237,
            "learn": [
             0.2105110835
            ],
            "passed_time": 1.656542764,
            "remaining_time": 5.303720949
           },
           {
            "iteration": 238,
            "learn": [
             0.2093339206
            ],
            "passed_time": 1.663306023,
            "remaining_time": 5.296133405
           },
           {
            "iteration": 239,
            "learn": [
             0.2086977985
            ],
            "passed_time": 1.674099823,
            "remaining_time": 5.301316107
           },
           {
            "iteration": 240,
            "learn": [
             0.2079520487
            ],
            "passed_time": 1.679234845,
            "remaining_time": 5.288544596
           },
           {
            "iteration": 241,
            "learn": [
             0.2071494981
            ],
            "passed_time": 1.685065744,
            "remaining_time": 5.278015844
           },
           {
            "iteration": 242,
            "learn": [
             0.2063544013
            ],
            "passed_time": 1.690992946,
            "remaining_time": 5.26782576
           },
           {
            "iteration": 243,
            "learn": [
             0.205242038
            ],
            "passed_time": 1.696939319,
            "remaining_time": 5.257730022
           },
           {
            "iteration": 244,
            "learn": [
             0.2041449425
            ],
            "passed_time": 1.70329804,
            "remaining_time": 5.248938857
           },
           {
            "iteration": 245,
            "learn": [
             0.2031717991
            ],
            "passed_time": 1.7169107,
            "remaining_time": 5.262401088
           },
           {
            "iteration": 246,
            "learn": [
             0.2017689669
            ],
            "passed_time": 1.725791149,
            "remaining_time": 5.261217551
           },
           {
            "iteration": 247,
            "learn": [
             0.2007270235
            ],
            "passed_time": 1.731473868,
            "remaining_time": 5.250275599
           },
           {
            "iteration": 248,
            "learn": [
             0.1999013873
            ],
            "passed_time": 1.737557422,
            "remaining_time": 5.240584836
           },
           {
            "iteration": 249,
            "learn": [
             0.1991464905
            ],
            "passed_time": 1.742932465,
            "remaining_time": 5.228797394
           },
           {
            "iteration": 250,
            "learn": [
             0.1985556194
            ],
            "passed_time": 1.749891713,
            "remaining_time": 5.221788418
           },
           {
            "iteration": 251,
            "learn": [
             0.1973443209
            ],
            "passed_time": 1.756307527,
            "remaining_time": 5.213166786
           },
           {
            "iteration": 252,
            "learn": [
             0.1964028648
            ],
            "passed_time": 1.763232098,
            "remaining_time": 5.206064732
           },
           {
            "iteration": 253,
            "learn": [
             0.1956691136
            ],
            "passed_time": 1.770964812,
            "remaining_time": 5.201337598
           },
           {
            "iteration": 254,
            "learn": [
             0.1950731618
            ],
            "passed_time": 1.776053489,
            "remaining_time": 5.188862154
           },
           {
            "iteration": 255,
            "learn": [
             0.1941911525
            ],
            "passed_time": 1.782067044,
            "remaining_time": 5.179132346
           },
           {
            "iteration": 256,
            "learn": [
             0.1933379572
            ],
            "passed_time": 1.787260161,
            "remaining_time": 5.167059531
           },
           {
            "iteration": 257,
            "learn": [
             0.1924269884
            ],
            "passed_time": 1.792921891,
            "remaining_time": 5.156387764
           },
           {
            "iteration": 258,
            "learn": [
             0.191666832
            ],
            "passed_time": 1.800086411,
            "remaining_time": 5.150054172
           },
           {
            "iteration": 259,
            "learn": [
             0.1909272703
            ],
            "passed_time": 1.807711608,
            "remaining_time": 5.145025347
           },
           {
            "iteration": 260,
            "learn": [
             0.1901230023
            ],
            "passed_time": 1.814079334,
            "remaining_time": 5.136416199
           },
           {
            "iteration": 261,
            "learn": [
             0.1890705814
            ],
            "passed_time": 1.820173847,
            "remaining_time": 5.127054577
           },
           {
            "iteration": 262,
            "learn": [
             0.1881761641
            ],
            "passed_time": 1.827240255,
            "remaining_time": 5.120441324
           },
           {
            "iteration": 263,
            "learn": [
             0.1874153128
            ],
            "passed_time": 1.833787593,
            "remaining_time": 5.112377533
           },
           {
            "iteration": 264,
            "learn": [
             0.1868500198
            ],
            "passed_time": 1.839742594,
            "remaining_time": 5.10268229
           },
           {
            "iteration": 265,
            "learn": [
             0.1861928682
            ],
            "passed_time": 1.846876423,
            "remaining_time": 5.096268024
           },
           {
            "iteration": 266,
            "learn": [
             0.1853343485
            ],
            "passed_time": 1.853443253,
            "remaining_time": 5.088291776
           },
           {
            "iteration": 267,
            "learn": [
             0.1845151648
            ],
            "passed_time": 1.863090812,
            "remaining_time": 5.088740576
           },
           {
            "iteration": 268,
            "learn": [
             0.1833352974
            ],
            "passed_time": 1.875851249,
            "remaining_time": 5.097573467
           },
           {
            "iteration": 269,
            "learn": [
             0.1829168896
            ],
            "passed_time": 1.88262189,
            "remaining_time": 5.090051777
           },
           {
            "iteration": 270,
            "learn": [
             0.1824626955
            ],
            "passed_time": 1.888775666,
            "remaining_time": 5.080876237
           },
           {
            "iteration": 271,
            "learn": [
             0.1815223339
            ],
            "passed_time": 1.895196132,
            "remaining_time": 5.072436706
           },
           {
            "iteration": 272,
            "learn": [
             0.1806554407
            ],
            "passed_time": 1.90101871,
            "remaining_time": 5.062419788
           },
           {
            "iteration": 273,
            "learn": [
             0.180054825
            ],
            "passed_time": 1.907459008,
            "remaining_time": 5.054070218
           },
           {
            "iteration": 274,
            "learn": [
             0.1792782389
            ],
            "passed_time": 1.914163094,
            "remaining_time": 5.046429975
           },
           {
            "iteration": 275,
            "learn": [
             0.1787381066
            ],
            "passed_time": 1.920763277,
            "remaining_time": 5.038523958
           },
           {
            "iteration": 276,
            "learn": [
             0.1782248597
            ],
            "passed_time": 1.927436427,
            "remaining_time": 5.030817821
           },
           {
            "iteration": 277,
            "learn": [
             0.1773522038
            ],
            "passed_time": 1.934243666,
            "remaining_time": 5.023467363
           },
           {
            "iteration": 278,
            "learn": [
             0.1766606568
            ],
            "passed_time": 1.939506964,
            "remaining_time": 5.0121309
           },
           {
            "iteration": 279,
            "learn": [
             0.1757451782
            ],
            "passed_time": 1.946632464,
            "remaining_time": 5.005626335
           },
           {
            "iteration": 280,
            "learn": [
             0.174853763
            ],
            "passed_time": 1.953300888,
            "remaining_time": 4.997947823
           },
           {
            "iteration": 281,
            "learn": [
             0.1741602233
            ],
            "passed_time": 1.976599226,
            "remaining_time": 5.032617889
           },
           {
            "iteration": 282,
            "learn": [
             0.1735366877
            ],
            "passed_time": 1.995836509,
            "remaining_time": 5.056589318
           },
           {
            "iteration": 283,
            "learn": [
             0.1727459347
            ],
            "passed_time": 2.007479132,
            "remaining_time": 5.061109362
           },
           {
            "iteration": 284,
            "learn": [
             0.1719909156
            ],
            "passed_time": 2.01583032,
            "remaining_time": 5.057258522
           },
           {
            "iteration": 285,
            "learn": [
             0.1712478077
            ],
            "passed_time": 2.02297002,
            "remaining_time": 5.050351729
           },
           {
            "iteration": 286,
            "learn": [
             0.1704118795
            ],
            "passed_time": 2.029992866,
            "remaining_time": 5.043153008
           },
           {
            "iteration": 287,
            "learn": [
             0.1699865883
            ],
            "passed_time": 2.037803907,
            "remaining_time": 5.037904104
           },
           {
            "iteration": 288,
            "learn": [
             0.1692334348
            ],
            "passed_time": 2.043606482,
            "remaining_time": 5.027696225
           },
           {
            "iteration": 289,
            "learn": [
             0.1683843545
            ],
            "passed_time": 2.050041093,
            "remaining_time": 5.019066124
           },
           {
            "iteration": 290,
            "learn": [
             0.1675912567
            ],
            "passed_time": 2.056139323,
            "remaining_time": 5.009631547
           },
           {
            "iteration": 291,
            "learn": [
             0.1669115049
            ],
            "passed_time": 2.062390162,
            "remaining_time": 5.000589846
           },
           {
            "iteration": 292,
            "learn": [
             0.166101722
            ],
            "passed_time": 2.069060413,
            "remaining_time": 4.992579221
           },
           {
            "iteration": 293,
            "learn": [
             0.1655295456
            ],
            "passed_time": 2.075713917,
            "remaining_time": 4.984537501
           },
           {
            "iteration": 294,
            "learn": [
             0.1647635895
            ],
            "passed_time": 2.081465072,
            "remaining_time": 4.974348733
           },
           {
            "iteration": 295,
            "learn": [
             0.1642709908
            ],
            "passed_time": 2.087024597,
            "remaining_time": 4.963734177
           },
           {
            "iteration": 296,
            "learn": [
             0.1638910241
            ],
            "passed_time": 2.091749227,
            "remaining_time": 4.951177463
           },
           {
            "iteration": 297,
            "learn": [
             0.1633694103
            ],
            "passed_time": 2.09768822,
            "remaining_time": 4.941533994
           },
           {
            "iteration": 298,
            "learn": [
             0.1627629024
            ],
            "passed_time": 2.104557402,
            "remaining_time": 4.934096118
           },
           {
            "iteration": 299,
            "learn": [
             0.1619724317
            ],
            "passed_time": 2.111002955,
            "remaining_time": 4.925673562
           },
           {
            "iteration": 300,
            "learn": [
             0.1615042934
            ],
            "passed_time": 2.117730175,
            "remaining_time": 4.917918247
           },
           {
            "iteration": 301,
            "learn": [
             0.1606933314
            ],
            "passed_time": 2.124823031,
            "remaining_time": 4.911014821
           },
           {
            "iteration": 302,
            "learn": [
             0.1599697526
            ],
            "passed_time": 2.139200339,
            "remaining_time": 4.920866785
           },
           {
            "iteration": 303,
            "learn": [
             0.159486754
            ],
            "passed_time": 2.146209688,
            "remaining_time": 4.913690602
           },
           {
            "iteration": 304,
            "learn": [
             0.1587918786
            ],
            "passed_time": 2.152806203,
            "remaining_time": 4.90557479
           },
           {
            "iteration": 305,
            "learn": [
             0.1582288832
            ],
            "passed_time": 2.15970288,
            "remaining_time": 4.89814967
           },
           {
            "iteration": 306,
            "learn": [
             0.1575877647
            ],
            "passed_time": 2.16681456,
            "remaining_time": 4.891213324
           },
           {
            "iteration": 307,
            "learn": [
             0.1569118874
            ],
            "passed_time": 2.173740441,
            "remaining_time": 4.883858393
           },
           {
            "iteration": 308,
            "learn": [
             0.1561467157
            ],
            "passed_time": 2.179336482,
            "remaining_time": 4.873532393
           },
           {
            "iteration": 309,
            "learn": [
             0.15555179
            ],
            "passed_time": 2.18652403,
            "remaining_time": 4.866779293
           },
           {
            "iteration": 310,
            "learn": [
             0.1547269402
            ],
            "passed_time": 2.1924251,
            "remaining_time": 4.857173292
           },
           {
            "iteration": 311,
            "learn": [
             0.1542988167
            ],
            "passed_time": 2.198671023,
            "remaining_time": 4.848351487
           },
           {
            "iteration": 312,
            "learn": [
             0.1539353891
            ],
            "passed_time": 2.205637398,
            "remaining_time": 4.841127452
           },
           {
            "iteration": 313,
            "learn": [
             0.1534010787
            ],
            "passed_time": 2.212053282,
            "remaining_time": 4.832702394
           },
           {
            "iteration": 314,
            "learn": [
             0.1529023823
            ],
            "passed_time": 2.218516223,
            "remaining_time": 4.824392421
           },
           {
            "iteration": 315,
            "learn": [
             0.1523950152
            ],
            "passed_time": 2.22349778,
            "remaining_time": 4.812887599
           },
           {
            "iteration": 316,
            "learn": [
             0.1519521402
            ],
            "passed_time": 2.230176734,
            "remaining_time": 4.805081102
           },
           {
            "iteration": 317,
            "learn": [
             0.151434296
            ],
            "passed_time": 2.237370229,
            "remaining_time": 4.798385208
           },
           {
            "iteration": 318,
            "learn": [
             0.150980917
            ],
            "passed_time": 2.244009281,
            "remaining_time": 4.790502572
           },
           {
            "iteration": 319,
            "learn": [
             0.1502804622
            ],
            "passed_time": 2.251006864,
            "remaining_time": 4.783389585
           },
           {
            "iteration": 320,
            "learn": [
             0.1497376262
            ],
            "passed_time": 2.25781052,
            "remaining_time": 4.775867112
           },
           {
            "iteration": 321,
            "learn": [
             0.1492795545
            ],
            "passed_time": 2.264167102,
            "remaining_time": 4.76740775
           },
           {
            "iteration": 322,
            "learn": [
             0.1486886747
            ],
            "passed_time": 2.270630493,
            "remaining_time": 4.759185275
           },
           {
            "iteration": 323,
            "learn": [
             0.1480210035
            ],
            "passed_time": 2.276984474,
            "remaining_time": 4.750745385
           },
           {
            "iteration": 324,
            "learn": [
             0.1477379213
            ],
            "passed_time": 2.28392614,
            "remaining_time": 4.743538906
           },
           {
            "iteration": 325,
            "learn": [
             0.1471768959
            ],
            "passed_time": 2.289137939,
            "remaining_time": 4.732757579
           },
           {
            "iteration": 326,
            "learn": [
             0.1465809948
            ],
            "passed_time": 2.296221458,
            "remaining_time": 4.725862511
           },
           {
            "iteration": 327,
            "learn": [
             0.1461893395
            ],
            "passed_time": 2.30280474,
            "remaining_time": 4.717941418
           },
           {
            "iteration": 328,
            "learn": [
             0.1457711348
            ],
            "passed_time": 2.308706906,
            "remaining_time": 4.708639313
           },
           {
            "iteration": 329,
            "learn": [
             0.1451393358
            ],
            "passed_time": 2.314561779,
            "remaining_time": 4.699261794
           },
           {
            "iteration": 330,
            "learn": [
             0.1446222057
            ],
            "passed_time": 2.320645449,
            "remaining_time": 4.690367992
           },
           {
            "iteration": 331,
            "learn": [
             0.1442270204
            ],
            "passed_time": 2.3275776,
            "remaining_time": 4.683198304
           },
           {
            "iteration": 332,
            "learn": [
             0.1437627895
            ],
            "passed_time": 2.334525017,
            "remaining_time": 4.67606062
           },
           {
            "iteration": 333,
            "learn": [
             0.1432566087
            ],
            "passed_time": 2.34123851,
            "remaining_time": 4.668457628
           },
           {
            "iteration": 334,
            "learn": [
             0.1428127995
            ],
            "passed_time": 2.347956957,
            "remaining_time": 4.66086978
           },
           {
            "iteration": 335,
            "learn": [
             0.1422890893
            ],
            "passed_time": 2.353620781,
            "remaining_time": 4.651202973
           },
           {
            "iteration": 336,
            "learn": [
             0.1416507232
            ],
            "passed_time": 2.359131079,
            "remaining_time": 4.641257879
           },
           {
            "iteration": 337,
            "learn": [
             0.1412622632
            ],
            "passed_time": 2.365990374,
            "remaining_time": 4.633981146
           },
           {
            "iteration": 338,
            "learn": [
             0.1407113873
            ],
            "passed_time": 2.373030267,
            "remaining_time": 4.627059017
           },
           {
            "iteration": 339,
            "learn": [
             0.1403644822
            ],
            "passed_time": 2.379894903,
            "remaining_time": 4.619795988
           },
           {
            "iteration": 340,
            "learn": [
             0.1397899507
            ],
            "passed_time": 2.385940826,
            "remaining_time": 4.610953092
           },
           {
            "iteration": 341,
            "learn": [
             0.1392493674
            ],
            "passed_time": 2.393029763,
            "remaining_time": 4.604133287
           },
           {
            "iteration": 342,
            "learn": [
             0.1389482842
            ],
            "passed_time": 2.398265303,
            "remaining_time": 4.593761819
           },
           {
            "iteration": 343,
            "learn": [
             0.138555915
            ],
            "passed_time": 2.405300806,
            "remaining_time": 4.5868527
           },
           {
            "iteration": 344,
            "learn": [
             0.1381394977
            ],
            "passed_time": 2.411489136,
            "remaining_time": 4.578334447
           },
           {
            "iteration": 345,
            "learn": [
             0.1376945587
            ],
            "passed_time": 2.418131142,
            "remaining_time": 4.570687187
           },
           {
            "iteration": 346,
            "learn": [
             0.1369616758
            ],
            "passed_time": 2.42475178,
            "remaining_time": 4.563005512
           },
           {
            "iteration": 347,
            "learn": [
             0.1363949128
            ],
            "passed_time": 2.432012714,
            "remaining_time": 4.556529567
           },
           {
            "iteration": 348,
            "learn": [
             0.1359115357
            ],
            "passed_time": 2.438403804,
            "remaining_time": 4.54842658
           },
           {
            "iteration": 349,
            "learn": [
             0.1354486938
            ],
            "passed_time": 2.444078119,
            "remaining_time": 4.539002221
           },
           {
            "iteration": 350,
            "learn": [
             0.1349255318
            ],
            "passed_time": 2.448928877,
            "remaining_time": 4.52807647
           },
           {
            "iteration": 351,
            "learn": [
             0.1345788476
            ],
            "passed_time": 2.455803389,
            "remaining_time": 4.520910785
           },
           {
            "iteration": 352,
            "learn": [
             0.1341769386
            ],
            "passed_time": 2.46233448,
            "remaining_time": 4.513117304
           },
           {
            "iteration": 353,
            "learn": [
             0.1337457528
            ],
            "passed_time": 2.469024141,
            "remaining_time": 4.505620326
           },
           {
            "iteration": 354,
            "learn": [
             0.1332572596
            ],
            "passed_time": 2.473899848,
            "remaining_time": 4.494832118
           },
           {
            "iteration": 355,
            "learn": [
             0.1326813815
            ],
            "passed_time": 2.480117536,
            "remaining_time": 4.486504756
           },
           {
            "iteration": 356,
            "learn": [
             0.1322424328
            ],
            "passed_time": 2.486132763,
            "remaining_time": 4.477824557
           },
           {
            "iteration": 357,
            "learn": [
             0.1316088032
            ],
            "passed_time": 2.492564693,
            "remaining_time": 4.469906516
           },
           {
            "iteration": 358,
            "learn": [
             0.1312268671
            ],
            "passed_time": 2.497877159,
            "remaining_time": 4.459997936
           },
           {
            "iteration": 359,
            "learn": [
             0.1306535148
            ],
            "passed_time": 2.503478338,
            "remaining_time": 4.450628157
           },
           {
            "iteration": 360,
            "learn": [
             0.1302367164
            ],
            "passed_time": 2.509763949,
            "remaining_time": 4.442490758
           },
           {
            "iteration": 361,
            "learn": [
             0.1299137846
            ],
            "passed_time": 2.517019168,
            "remaining_time": 4.436072457
           },
           {
            "iteration": 362,
            "learn": [
             0.129353256
            ],
            "passed_time": 2.523994957,
            "remaining_time": 4.429159195
           },
           {
            "iteration": 363,
            "learn": [
             0.1287813718
            ],
            "passed_time": 2.530527207,
            "remaining_time": 4.421470614
           },
           {
            "iteration": 364,
            "learn": [
             0.1283268687
            ],
            "passed_time": 2.537111694,
            "remaining_time": 4.413879248
           },
           {
            "iteration": 365,
            "learn": [
             0.1279512773
            ],
            "passed_time": 2.543092473,
            "remaining_time": 4.405247618
           },
           {
            "iteration": 366,
            "learn": [
             0.1276349149
            ],
            "passed_time": 2.55000749,
            "remaining_time": 4.398241801
           },
           {
            "iteration": 367,
            "learn": [
             0.1273187714
            ],
            "passed_time": 2.556973953,
            "remaining_time": 4.391324832
           },
           {
            "iteration": 368,
            "learn": [
             0.1270075943
            ],
            "passed_time": 2.563551228,
            "remaining_time": 4.383742072
           },
           {
            "iteration": 369,
            "learn": [
             0.1268033017
            ],
            "passed_time": 2.569460355,
            "remaining_time": 4.375027091
           },
           {
            "iteration": 370,
            "learn": [
             0.1264747124
            ],
            "passed_time": 2.577181405,
            "remaining_time": 4.369399201
           },
           {
            "iteration": 371,
            "learn": [
             0.1260425278
            ],
            "passed_time": 2.583655184,
            "remaining_time": 4.361654451
           },
           {
            "iteration": 372,
            "learn": [
             0.1254917852
            ],
            "passed_time": 2.589968423,
            "remaining_time": 4.353646653
           },
           {
            "iteration": 373,
            "learn": [
             0.1252030647
            ],
            "passed_time": 2.595920988,
            "remaining_time": 4.34504422
           },
           {
            "iteration": 374,
            "learn": [
             0.124788595
            ],
            "passed_time": 2.601387195,
            "remaining_time": 4.335645325
           },
           {
            "iteration": 375,
            "learn": [
             0.1243737558
            ],
            "passed_time": 2.606769166,
            "remaining_time": 4.326127552
           },
           {
            "iteration": 376,
            "learn": [
             0.1238363895
            ],
            "passed_time": 2.6125745,
            "remaining_time": 4.317331336
           },
           {
            "iteration": 377,
            "learn": [
             0.1235045235
            ],
            "passed_time": 2.619569076,
            "remaining_time": 4.310507845
           },
           {
            "iteration": 378,
            "learn": [
             0.1231493314
            ],
            "passed_time": 2.626403223,
            "remaining_time": 4.303420585
           },
           {
            "iteration": 379,
            "learn": [
             0.1226274883
            ],
            "passed_time": 2.632309356,
            "remaining_time": 4.294820528
           },
           {
            "iteration": 380,
            "learn": [
             0.1222007169
            ],
            "passed_time": 2.639549945,
            "remaining_time": 4.288402666
           },
           {
            "iteration": 381,
            "learn": [
             0.1219474938
            ],
            "passed_time": 2.645745098,
            "remaining_time": 4.280289191
           },
           {
            "iteration": 382,
            "learn": [
             0.1215474596
            ],
            "passed_time": 2.651633904,
            "remaining_time": 4.271692216
           },
           {
            "iteration": 383,
            "learn": [
             0.1210467706
            ],
            "passed_time": 2.657422154,
            "remaining_time": 4.262948038
           },
           {
            "iteration": 384,
            "learn": [
             0.1208484847
            ],
            "passed_time": 2.663398273,
            "remaining_time": 4.254519319
           },
           {
            "iteration": 385,
            "learn": [
             0.120460484
            ],
            "passed_time": 2.670371661,
            "remaining_time": 4.247689636
           },
           {
            "iteration": 386,
            "learn": [
             0.1201630979
            ],
            "passed_time": 2.677001061,
            "remaining_time": 4.240314342
           },
           {
            "iteration": 387,
            "learn": [
             0.1198022413
            ],
            "passed_time": 2.683205943,
            "remaining_time": 4.232273292
           },
           {
            "iteration": 388,
            "learn": [
             0.1195048037
            ],
            "passed_time": 2.689528671,
            "remaining_time": 4.224426781
           },
           {
            "iteration": 389,
            "learn": [
             0.1190296322
            ],
            "passed_time": 2.695234056,
            "remaining_time": 4.215622498
           },
           {
            "iteration": 390,
            "learn": [
             0.1187011194
            ],
            "passed_time": 2.700436268,
            "remaining_time": 4.206050351
           },
           {
            "iteration": 391,
            "learn": [
             0.1182816164
            ],
            "passed_time": 2.707469965,
            "remaining_time": 4.19934117
           },
           {
            "iteration": 392,
            "learn": [
             0.1180131297
            ],
            "passed_time": 2.716335337,
            "remaining_time": 4.195459414
           },
           {
            "iteration": 393,
            "learn": [
             0.1176902977
            ],
            "passed_time": 2.723778867,
            "remaining_time": 4.189365465
           },
           {
            "iteration": 394,
            "learn": [
             0.1173592266
            ],
            "passed_time": 2.729497729,
            "remaining_time": 4.180623105
           },
           {
            "iteration": 395,
            "learn": [
             0.1169431529
            ],
            "passed_time": 2.737470906,
            "remaining_time": 4.175334412
           },
           {
            "iteration": 396,
            "learn": [
             0.1166316834
            ],
            "passed_time": 2.746308537,
            "remaining_time": 4.171345209
           },
           {
            "iteration": 397,
            "learn": [
             0.1162546016
            ],
            "passed_time": 2.754804469,
            "remaining_time": 4.166814799
           },
           {
            "iteration": 398,
            "learn": [
             0.1159183165
            ],
            "passed_time": 2.768247665,
            "remaining_time": 4.169716407
           },
           {
            "iteration": 399,
            "learn": [
             0.1155755183
            ],
            "passed_time": 2.776554819,
            "remaining_time": 4.164832229
           },
           {
            "iteration": 400,
            "learn": [
             0.1151424147
            ],
            "passed_time": 2.783821292,
            "remaining_time": 4.158376444
           },
           {
            "iteration": 401,
            "learn": [
             0.1149291335
            ],
            "passed_time": 2.790311491,
            "remaining_time": 4.150761869
           },
           {
            "iteration": 402,
            "learn": [
             0.114462995
            ],
            "passed_time": 2.797515218,
            "remaining_time": 4.144209889
           },
           {
            "iteration": 403,
            "learn": [
             0.1140914188
            ],
            "passed_time": 2.804941276,
            "remaining_time": 4.137982675
           },
           {
            "iteration": 404,
            "learn": [
             0.1137318134
            ],
            "passed_time": 2.817010275,
            "remaining_time": 4.138570651
           },
           {
            "iteration": 405,
            "learn": [
             0.1133457757
            ],
            "passed_time": 2.824099001,
            "remaining_time": 4.131809868
           },
           {
            "iteration": 406,
            "learn": [
             0.1130798875
            ],
            "passed_time": 2.830660584,
            "remaining_time": 4.124279425
           },
           {
            "iteration": 407,
            "learn": [
             0.1127193189
            ],
            "passed_time": 2.837511588,
            "remaining_time": 4.117173676
           },
           {
            "iteration": 408,
            "learn": [
             0.112431477
            ],
            "passed_time": 2.845118603,
            "remaining_time": 4.1111616
           },
           {
            "iteration": 409,
            "learn": [
             0.1120863877
            ],
            "passed_time": 2.852426808,
            "remaining_time": 4.104711748
           },
           {
            "iteration": 410,
            "learn": [
             0.1116977421
            ],
            "passed_time": 2.880624315,
            "remaining_time": 4.12819397
           },
           {
            "iteration": 411,
            "learn": [
             0.1112663537
            ],
            "passed_time": 2.887982717,
            "remaining_time": 4.121684071
           },
           {
            "iteration": 412,
            "learn": [
             0.1107107839
            ],
            "passed_time": 2.894405759,
            "remaining_time": 4.11384063
           },
           {
            "iteration": 413,
            "learn": [
             0.1103142578
            ],
            "passed_time": 2.900839515,
            "remaining_time": 4.106019216
           },
           {
            "iteration": 414,
            "learn": [
             0.1100444274
            ],
            "passed_time": 2.907570434,
            "remaining_time": 4.098623383
           },
           {
            "iteration": 415,
            "learn": [
             0.1097334034
            ],
            "passed_time": 2.914190382,
            "remaining_time": 4.091074959
           },
           {
            "iteration": 416,
            "learn": [
             0.1094388115
            ],
            "passed_time": 2.920874496,
            "remaining_time": 4.083620698
           },
           {
            "iteration": 417,
            "learn": [
             0.1090951353
            ],
            "passed_time": 2.927409045,
            "remaining_time": 4.075961876
           },
           {
            "iteration": 418,
            "learn": [
             0.1087184472
            ],
            "passed_time": 2.933943791,
            "remaining_time": 4.068308693
           },
           {
            "iteration": 419,
            "learn": [
             0.1084580678
            ],
            "passed_time": 2.941282517,
            "remaining_time": 4.061771094
           },
           {
            "iteration": 420,
            "learn": [
             0.1080661716
            ],
            "passed_time": 2.967873928,
            "remaining_time": 4.081707848
           },
           {
            "iteration": 421,
            "learn": [
             0.1077664432
            ],
            "passed_time": 2.996908788,
            "remaining_time": 4.104770804
           },
           {
            "iteration": 422,
            "learn": [
             0.107425999
            ],
            "passed_time": 3.01226235,
            "remaining_time": 4.108925239
           },
           {
            "iteration": 423,
            "learn": [
             0.1071135511
            ],
            "passed_time": 3.029302989,
            "remaining_time": 4.115279532
           },
           {
            "iteration": 424,
            "learn": [
             0.1067239453
            ],
            "passed_time": 3.034601287,
            "remaining_time": 4.105637035
           },
           {
            "iteration": 425,
            "learn": [
             0.1064105108
            ],
            "passed_time": 3.041349181,
            "remaining_time": 4.097968145
           },
           {
            "iteration": 426,
            "learn": [
             0.1061272742
            ],
            "passed_time": 3.048556088,
            "remaining_time": 4.090919529
           },
           {
            "iteration": 427,
            "learn": [
             0.1058442894
            ],
            "passed_time": 3.056555047,
            "remaining_time": 4.084928708
           },
           {
            "iteration": 428,
            "learn": [
             0.1054737554
            ],
            "passed_time": 3.06417583,
            "remaining_time": 4.078425172
           },
           {
            "iteration": 429,
            "learn": [
             0.1052180278
            ],
            "passed_time": 3.070130404,
            "remaining_time": 4.069707745
           },
           {
            "iteration": 430,
            "learn": [
             0.104802994
            ],
            "passed_time": 3.075656768,
            "remaining_time": 4.060437821
           },
           {
            "iteration": 431,
            "learn": [
             0.1045609614
            ],
            "passed_time": 3.082383122,
            "remaining_time": 4.052762994
           },
           {
            "iteration": 432,
            "learn": [
             0.1042649928
            ],
            "passed_time": 3.089264509,
            "remaining_time": 4.045295558
           },
           {
            "iteration": 433,
            "learn": [
             0.1038390769
            ],
            "passed_time": 3.09631384,
            "remaining_time": 4.038049847
           },
           {
            "iteration": 434,
            "learn": [
             0.103543102
            ],
            "passed_time": 3.103251521,
            "remaining_time": 4.030660021
           },
           {
            "iteration": 435,
            "learn": [
             0.1033304325
            ],
            "passed_time": 3.110325161,
            "remaining_time": 4.023448144
           },
           {
            "iteration": 436,
            "learn": [
             0.1029168606
            ],
            "passed_time": 3.117073116,
            "remaining_time": 4.015817309
           },
           {
            "iteration": 437,
            "learn": [
             0.102540271
            ],
            "passed_time": 3.124156184,
            "remaining_time": 4.008620491
           },
           {
            "iteration": 438,
            "learn": [
             0.1022531931
            ],
            "passed_time": 3.130913367,
            "remaining_time": 4.001007743
           },
           {
            "iteration": 439,
            "learn": [
             0.101916897
            ],
            "passed_time": 3.137828901,
            "remaining_time": 3.993600419
           },
           {
            "iteration": 440,
            "learn": [
             0.101694813
            ],
            "passed_time": 3.144528621,
            "remaining_time": 3.985921767
           },
           {
            "iteration": 441,
            "learn": [
             0.1013191954
            ],
            "passed_time": 3.151112542,
            "remaining_time": 3.978101354
           },
           {
            "iteration": 442,
            "learn": [
             0.1010626027
            ],
            "passed_time": 3.156762761,
            "remaining_time": 3.969112547
           },
           {
            "iteration": 443,
            "learn": [
             0.1008261814
            ],
            "passed_time": 3.164156921,
            "remaining_time": 3.962322631
           },
           {
            "iteration": 444,
            "learn": [
             0.1005485423
            ],
            "passed_time": 3.170825814,
            "remaining_time": 3.954625453
           },
           {
            "iteration": 445,
            "learn": [
             0.100095318
            ],
            "passed_time": 3.17770216,
            "remaining_time": 3.947190576
           },
           {
            "iteration": 446,
            "learn": [
             0.09979487587
            ],
            "passed_time": 3.184833706,
            "remaining_time": 3.940073913
           },
           {
            "iteration": 447,
            "learn": [
             0.09942275113
            ],
            "passed_time": 3.191554895,
            "remaining_time": 3.932451567
           },
           {
            "iteration": 448,
            "learn": [
             0.09909329642
            ],
            "passed_time": 3.197991802,
            "remaining_time": 3.924484372
           },
           {
            "iteration": 449,
            "learn": [
             0.09871889412
            ],
            "passed_time": 3.204655607,
            "remaining_time": 3.916801298
           },
           {
            "iteration": 450,
            "learn": [
             0.09851835791
            ],
            "passed_time": 3.210619637,
            "remaining_time": 3.90827091
           },
           {
            "iteration": 451,
            "learn": [
             0.09813818016
            ],
            "passed_time": 3.217722752,
            "remaining_time": 3.901132894
           },
           {
            "iteration": 452,
            "learn": [
             0.09790815324
            ],
            "passed_time": 3.223966634,
            "remaining_time": 3.892957503
           },
           {
            "iteration": 453,
            "learn": [
             0.09762139973
            ],
            "passed_time": 3.230740434,
            "remaining_time": 3.885427923
           },
           {
            "iteration": 454,
            "learn": [
             0.09731822483
            ],
            "passed_time": 3.237308979,
            "remaining_time": 3.87765581
           },
           {
            "iteration": 455,
            "learn": [
             0.09705176679
            ],
            "passed_time": 3.245515604,
            "remaining_time": 3.871843176
           },
           {
            "iteration": 456,
            "learn": [
             0.09682755389
            ],
            "passed_time": 3.252034883,
            "remaining_time": 3.864015189
           },
           {
            "iteration": 457,
            "learn": [
             0.09657713846
            ],
            "passed_time": 3.258843019,
            "remaining_time": 3.856534751
           },
           {
            "iteration": 458,
            "learn": [
             0.09628294837
            ],
            "passed_time": 3.264994329,
            "remaining_time": 3.848283076
           },
           {
            "iteration": 459,
            "learn": [
             0.09607829304
            ],
            "passed_time": 3.271269179,
            "remaining_time": 3.840185558
           },
           {
            "iteration": 460,
            "learn": [
             0.09574085221
            ],
            "passed_time": 3.276657183,
            "remaining_time": 3.83105905
           },
           {
            "iteration": 461,
            "learn": [
             0.09551612716
            ],
            "passed_time": 3.283758247,
            "remaining_time": 3.823943586
           },
           {
            "iteration": 462,
            "learn": [
             0.09524634198
            ],
            "passed_time": 3.290333402,
            "remaining_time": 3.816218222
           },
           {
            "iteration": 463,
            "learn": [
             0.09508568878
            ],
            "passed_time": 3.297465941,
            "remaining_time": 3.80914169
           },
           {
            "iteration": 464,
            "learn": [
             0.09477877491
            ],
            "passed_time": 3.30393745,
            "remaining_time": 3.801304378
           },
           {
            "iteration": 465,
            "learn": [
             0.09450596255
            ],
            "passed_time": 3.312065886,
            "remaining_time": 3.795371637
           },
           {
            "iteration": 466,
            "learn": [
             0.09430529588
            ],
            "passed_time": 3.31736719,
            "remaining_time": 3.78620281
           },
           {
            "iteration": 467,
            "learn": [
             0.09403884531
            ],
            "passed_time": 3.324259162,
            "remaining_time": 3.778858705
           },
           {
            "iteration": 468,
            "learn": [
             0.09382789592
            ],
            "passed_time": 3.330782963,
            "remaining_time": 3.771099687
           },
           {
            "iteration": 469,
            "learn": [
             0.09360318883
            ],
            "passed_time": 3.336817763,
            "remaining_time": 3.762794499
           },
           {
            "iteration": 470,
            "learn": [
             0.09332287825
            ],
            "passed_time": 3.342651537,
            "remaining_time": 3.75427317
           },
           {
            "iteration": 471,
            "learn": [
             0.09313471069
            ],
            "passed_time": 3.351837623,
            "remaining_time": 3.749513273
           },
           {
            "iteration": 472,
            "learn": [
             0.09283921442
            ],
            "passed_time": 3.362726267,
            "remaining_time": 3.746631591
           },
           {
            "iteration": 473,
            "learn": [
             0.09263954919
            ],
            "passed_time": 3.36883982,
            "remaining_time": 3.738417184
           },
           {
            "iteration": 474,
            "learn": [
             0.09245639771
            ],
            "passed_time": 3.374001206,
            "remaining_time": 3.729159228
           },
           {
            "iteration": 475,
            "learn": [
             0.09211648686
            ],
            "passed_time": 3.38042377,
            "remaining_time": 3.721306839
           },
           {
            "iteration": 476,
            "learn": [
             0.09193622604
            ],
            "passed_time": 3.385536892,
            "remaining_time": 3.712024726
           },
           {
            "iteration": 477,
            "learn": [
             0.0917277576
            ],
            "passed_time": 3.391403962,
            "remaining_time": 3.703583406
           },
           {
            "iteration": 478,
            "learn": [
             0.09149958444
            ],
            "passed_time": 3.398818043,
            "remaining_time": 3.696835491
           },
           {
            "iteration": 479,
            "learn": [
             0.0912270178
            ],
            "passed_time": 3.40572321,
            "remaining_time": 3.689533478
           },
           {
            "iteration": 480,
            "learn": [
             0.09095955348
            ],
            "passed_time": 3.412687829,
            "remaining_time": 3.682297263
           },
           {
            "iteration": 481,
            "learn": [
             0.09088876325
            ],
            "passed_time": 3.418443452,
            "remaining_time": 3.673762879
           },
           {
            "iteration": 482,
            "learn": [
             0.09059932149
            ],
            "passed_time": 3.424748675,
            "remaining_time": 3.665828292
           },
           {
            "iteration": 483,
            "learn": [
             0.09044600384
            ],
            "passed_time": 3.431603295,
            "remaining_time": 3.658486157
           },
           {
            "iteration": 484,
            "learn": [
             0.09025243593
            ],
            "passed_time": 3.436927247,
            "remaining_time": 3.649520685
           },
           {
            "iteration": 485,
            "learn": [
             0.09000853969
            ],
            "passed_time": 3.442879057,
            "remaining_time": 3.641234229
           },
           {
            "iteration": 486,
            "learn": [
             0.08982141459
            ],
            "passed_time": 3.448692053,
            "remaining_time": 3.632811136
           },
           {
            "iteration": 487,
            "learn": [
             0.08970394382
            ],
            "passed_time": 3.454892832,
            "remaining_time": 3.624805595
           },
           {
            "iteration": 488,
            "learn": [
             0.08953976574
            ],
            "passed_time": 3.461238641,
            "remaining_time": 3.616958989
           },
           {
            "iteration": 489,
            "learn": [
             0.08936082835
            ],
            "passed_time": 3.468362677,
            "remaining_time": 3.6099285
           },
           {
            "iteration": 490,
            "learn": [
             0.08899246005
            ],
            "passed_time": 3.474946039,
            "remaining_time": 3.602337136
           },
           {
            "iteration": 491,
            "learn": [
             0.08878018273
            ],
            "passed_time": 3.481883342,
            "remaining_time": 3.595115321
           },
           {
            "iteration": 492,
            "learn": [
             0.08860958662
            ],
            "passed_time": 3.488629428,
            "remaining_time": 3.587698012
           },
           {
            "iteration": 493,
            "learn": [
             0.0884280853
            ],
            "passed_time": 3.49519308,
            "remaining_time": 3.580096556
           },
           {
            "iteration": 494,
            "learn": [
             0.08823212438
            ],
            "passed_time": 3.501174678,
            "remaining_time": 3.57190548
           },
           {
            "iteration": 495,
            "learn": [
             0.08802200282
            ],
            "passed_time": 3.509365996,
            "remaining_time": 3.565968673
           },
           {
            "iteration": 496,
            "learn": [
             0.08777348245
            ],
            "passed_time": 3.51740065,
            "remaining_time": 3.559864239
           },
           {
            "iteration": 497,
            "learn": [
             0.08761037094
            ],
            "passed_time": 3.523492428,
            "remaining_time": 3.551793572
           },
           {
            "iteration": 498,
            "learn": [
             0.08741629141
            ],
            "passed_time": 3.529981629,
            "remaining_time": 3.544129852
           },
           {
            "iteration": 499,
            "learn": [
             0.08706708371
            ],
            "passed_time": 3.536224273,
            "remaining_time": 3.536224273
           },
           {
            "iteration": 500,
            "learn": [
             0.08682458252
            ],
            "passed_time": 3.542146938,
            "remaining_time": 3.528006631
           },
           {
            "iteration": 501,
            "learn": [
             0.08662734974
            ],
            "passed_time": 3.548692707,
            "remaining_time": 3.520416271
           },
           {
            "iteration": 502,
            "learn": [
             0.08640370306
            ],
            "passed_time": 3.555143702,
            "remaining_time": 3.512736421
           },
           {
            "iteration": 503,
            "learn": [
             0.08620961545
            ],
            "passed_time": 3.562504419,
            "remaining_time": 3.50595673
           },
           {
            "iteration": 504,
            "learn": [
             0.08595740964
            ],
            "passed_time": 3.569139404,
            "remaining_time": 3.498463376
           },
           {
            "iteration": 505,
            "learn": [
             0.0858394957
            ],
            "passed_time": 3.576064713,
            "remaining_time": 3.491256855
           },
           {
            "iteration": 506,
            "learn": [
             0.08564369002
            ],
            "passed_time": 3.582621085,
            "remaining_time": 3.483692692
           },
           {
            "iteration": 507,
            "learn": [
             0.08547716085
            ],
            "passed_time": 3.588762688,
            "remaining_time": 3.475730792
           },
           {
            "iteration": 508,
            "learn": [
             0.08524554841
            ],
            "passed_time": 3.595474964,
            "remaining_time": 3.468326537
           },
           {
            "iteration": 509,
            "learn": [
             0.08501428601
            ],
            "passed_time": 3.603036372,
            "remaining_time": 3.461740828
           },
           {
            "iteration": 510,
            "learn": [
             0.08483259361
            ],
            "passed_time": 3.610305118,
            "remaining_time": 3.454871238
           },
           {
            "iteration": 511,
            "learn": [
             0.08464402688
            ],
            "passed_time": 3.616071399,
            "remaining_time": 3.446568052
           },
           {
            "iteration": 512,
            "learn": [
             0.08443480198
            ],
            "passed_time": 3.62262918,
            "remaining_time": 3.439026141
           },
           {
            "iteration": 513,
            "learn": [
             0.08430585356
            ],
            "passed_time": 3.629348372,
            "remaining_time": 3.431640678
           },
           {
            "iteration": 514,
            "learn": [
             0.08414013606
            ],
            "passed_time": 3.641582363,
            "remaining_time": 3.429451352
           },
           {
            "iteration": 515,
            "learn": [
             0.08397529433
            ],
            "passed_time": 3.654883511,
            "remaining_time": 3.428224068
           },
           {
            "iteration": 516,
            "learn": [
             0.08374432038
            ],
            "passed_time": 3.662148411,
            "remaining_time": 3.421310798
           },
           {
            "iteration": 517,
            "learn": [
             0.08356487861
            ],
            "passed_time": 3.668159397,
            "remaining_time": 3.413229401
           },
           {
            "iteration": 518,
            "learn": [
             0.08343601942
            ],
            "passed_time": 3.673893268,
            "remaining_time": 3.404899156
           },
           {
            "iteration": 519,
            "learn": [
             0.08316345317
            ],
            "passed_time": 3.680909399,
            "remaining_time": 3.397762522
           },
           {
            "iteration": 520,
            "learn": [
             0.08292118018
            ],
            "passed_time": 3.688368815,
            "remaining_time": 3.391033901
           },
           {
            "iteration": 521,
            "learn": [
             0.08274792284
            ],
            "passed_time": 3.694138798,
            "remaining_time": 3.382755451
           },
           {
            "iteration": 522,
            "learn": [
             0.08261370723
            ],
            "passed_time": 3.699615089,
            "remaining_time": 3.374218733
           },
           {
            "iteration": 523,
            "learn": [
             0.08232317681
            ],
            "passed_time": 3.706108909,
            "remaining_time": 3.366618016
           },
           {
            "iteration": 524,
            "learn": [
             0.08208104034
            ],
            "passed_time": 3.711683591,
            "remaining_time": 3.358189916
           },
           {
            "iteration": 525,
            "learn": [
             0.08187956757
            ],
            "passed_time": 3.717611739,
            "remaining_time": 3.350091187
           },
           {
            "iteration": 526,
            "learn": [
             0.0817217607
            ],
            "passed_time": 3.722759714,
            "remaining_time": 3.341300465
           },
           {
            "iteration": 527,
            "learn": [
             0.08148382012
            ],
            "passed_time": 3.729910305,
            "remaining_time": 3.334313758
           },
           {
            "iteration": 528,
            "learn": [
             0.08120508519
            ],
            "passed_time": 3.737125716,
            "remaining_time": 3.327384144
           },
           {
            "iteration": 529,
            "learn": [
             0.08099491213
            ],
            "passed_time": 3.743471218,
            "remaining_time": 3.319682023
           },
           {
            "iteration": 530,
            "learn": [
             0.08082528828
            ],
            "passed_time": 3.755833223,
            "remaining_time": 3.317299024
           },
           {
            "iteration": 531,
            "learn": [
             0.08067786304
            ],
            "passed_time": 3.762469108,
            "remaining_time": 3.309841246
           },
           {
            "iteration": 532,
            "learn": [
             0.08051192794
            ],
            "passed_time": 3.769066546,
            "remaining_time": 3.302352865
           },
           {
            "iteration": 533,
            "learn": [
             0.0802667362
            ],
            "passed_time": 3.774854666,
            "remaining_time": 3.294161563
           },
           {
            "iteration": 534,
            "learn": [
             0.08012796333
            ],
            "passed_time": 3.78087298,
            "remaining_time": 3.286179319
           },
           {
            "iteration": 535,
            "learn": [
             0.07994253219
            ],
            "passed_time": 3.787589594,
            "remaining_time": 3.278808902
           },
           {
            "iteration": 536,
            "learn": [
             0.07974756494
            ],
            "passed_time": 3.794508503,
            "remaining_time": 3.271615338
           },
           {
            "iteration": 537,
            "learn": [
             0.07956746695
            ],
            "passed_time": 3.799936738,
            "remaining_time": 3.263142701
           },
           {
            "iteration": 538,
            "learn": [
             0.07944595268
            ],
            "passed_time": 3.806103162,
            "remaining_time": 3.255312723
           },
           {
            "iteration": 539,
            "learn": [
             0.07928753172
            ],
            "passed_time": 3.812206371,
            "remaining_time": 3.247435057
           },
           {
            "iteration": 540,
            "learn": [
             0.07909371108
            ],
            "passed_time": 3.819332568,
            "remaining_time": 3.240431883
           },
           {
            "iteration": 541,
            "learn": [
             0.07896159939
            ],
            "passed_time": 3.82583335,
            "remaining_time": 3.232899768
           },
           {
            "iteration": 542,
            "learn": [
             0.07876280095
            ],
            "passed_time": 3.832577716,
            "remaining_time": 3.225576457
           },
           {
            "iteration": 543,
            "learn": [
             0.07861382237
            ],
            "passed_time": 3.839280948,
            "remaining_time": 3.218220795
           },
           {
            "iteration": 544,
            "learn": [
             0.07848023948
            ],
            "passed_time": 3.845385553,
            "remaining_time": 3.210367755
           },
           {
            "iteration": 545,
            "learn": [
             0.0782654594
            ],
            "passed_time": 3.856248832,
            "remaining_time": 3.206477967
           },
           {
            "iteration": 546,
            "learn": [
             0.07811152265
            ],
            "passed_time": 3.868405027,
            "remaining_time": 3.203633414
           },
           {
            "iteration": 547,
            "learn": [
             0.07792120057
            ],
            "passed_time": 3.87404791,
            "remaining_time": 3.195382582
           },
           {
            "iteration": 548,
            "learn": [
             0.0777036917
            ],
            "passed_time": 3.881126681,
            "remaining_time": 3.188320825
           },
           {
            "iteration": 549,
            "learn": [
             0.07749632795
            ],
            "passed_time": 3.887807723,
            "remaining_time": 3.180933591
           },
           {
            "iteration": 550,
            "learn": [
             0.07732864075
            ],
            "passed_time": 3.894242524,
            "remaining_time": 3.173348263
           },
           {
            "iteration": 551,
            "learn": [
             0.07718178377
            ],
            "passed_time": 3.905937256,
            "remaining_time": 3.170036034
           },
           {
            "iteration": 552,
            "learn": [
             0.07699558442
            ],
            "passed_time": 3.911679049,
            "remaining_time": 3.161881618
           },
           {
            "iteration": 553,
            "learn": [
             0.07685132667
            ],
            "passed_time": 3.918638117,
            "remaining_time": 3.154715885
           },
           {
            "iteration": 554,
            "learn": [
             0.07669200716
            ],
            "passed_time": 3.925754231,
            "remaining_time": 3.147676816
           },
           {
            "iteration": 555,
            "learn": [
             0.0764889075
            ],
            "passed_time": 3.933011944,
            "remaining_time": 3.140750545
           },
           {
            "iteration": 556,
            "learn": [
             0.0763092765
            ],
            "passed_time": 3.939625253,
            "remaining_time": 3.133310569
           },
           {
            "iteration": 557,
            "learn": [
             0.07619115157
            ],
            "passed_time": 3.947268918,
            "remaining_time": 3.126689717
           },
           {
            "iteration": 558,
            "learn": [
             0.07594112406
            ],
            "passed_time": 3.953426068,
            "remaining_time": 3.11889248
           },
           {
            "iteration": 559,
            "learn": [
             0.07572504042
            ],
            "passed_time": 3.983827758,
            "remaining_time": 3.130150382
           },
           {
            "iteration": 560,
            "learn": [
             0.07556965026
            ],
            "passed_time": 4.010839406,
            "remaining_time": 3.13860695
           },
           {
            "iteration": 561,
            "learn": [
             0.07534603206
            ],
            "passed_time": 4.026440674,
            "remaining_time": 3.138044511
           },
           {
            "iteration": 562,
            "learn": [
             0.07520940432
            ],
            "passed_time": 4.043587809,
            "remaining_time": 3.138628548
           },
           {
            "iteration": 563,
            "learn": [
             0.07506423129
            ],
            "passed_time": 4.049871886,
            "remaining_time": 3.130752025
           },
           {
            "iteration": 564,
            "learn": [
             0.07489467968
            ],
            "passed_time": 4.057816157,
            "remaining_time": 3.124159342
           },
           {
            "iteration": 565,
            "learn": [
             0.07471149231
            ],
            "passed_time": 4.064447612,
            "remaining_time": 3.116555236
           },
           {
            "iteration": 566,
            "learn": [
             0.07458730393
            ],
            "passed_time": 4.071358184,
            "remaining_time": 3.109167713
           },
           {
            "iteration": 567,
            "learn": [
             0.07444179789
            ],
            "passed_time": 4.078743583,
            "remaining_time": 3.102143007
           },
           {
            "iteration": 568,
            "learn": [
             0.07428367312
            ],
            "passed_time": 4.085596268,
            "remaining_time": 3.094713517
           },
           {
            "iteration": 569,
            "learn": [
             0.07415575469
            ],
            "passed_time": 4.091860899,
            "remaining_time": 3.086842433
           },
           {
            "iteration": 570,
            "learn": [
             0.07401635431
            ],
            "passed_time": 4.098728804,
            "remaining_time": 3.079430222
           },
           {
            "iteration": 571,
            "learn": [
             0.07373887117
            ],
            "passed_time": 4.106314615,
            "remaining_time": 3.07255709
           },
           {
            "iteration": 572,
            "learn": [
             0.07360201378
            ],
            "passed_time": 4.113933147,
            "remaining_time": 3.065705853
           },
           {
            "iteration": 573,
            "learn": [
             0.07344616103
            ],
            "passed_time": 4.120745374,
            "remaining_time": 3.058253535
           },
           {
            "iteration": 574,
            "learn": [
             0.07327969444
            ],
            "passed_time": 4.128218752,
            "remaining_time": 3.051292121
           },
           {
            "iteration": 575,
            "learn": [
             0.07313320523
            ],
            "passed_time": 4.135484164,
            "remaining_time": 3.044175843
           },
           {
            "iteration": 576,
            "learn": [
             0.07290843204
            ],
            "passed_time": 4.141485168,
            "remaining_time": 3.036132108
           },
           {
            "iteration": 577,
            "learn": [
             0.07278903297
            ],
            "passed_time": 4.147709228,
            "remaining_time": 3.028258295
           },
           {
            "iteration": 578,
            "learn": [
             0.07260794583
            ],
            "passed_time": 4.153653456,
            "remaining_time": 3.02018671
           },
           {
            "iteration": 579,
            "learn": [
             0.0723760421
            ],
            "passed_time": 4.159148593,
            "remaining_time": 3.011797257
           },
           {
            "iteration": 580,
            "learn": [
             0.07217233734
            ],
            "passed_time": 4.166067392,
            "remaining_time": 3.00444447
           },
           {
            "iteration": 581,
            "learn": [
             0.07203813975
            ],
            "passed_time": 4.171984102,
            "remaining_time": 2.996373461
           },
           {
            "iteration": 582,
            "learn": [
             0.0718812016
            ],
            "passed_time": 4.178214379,
            "remaining_time": 2.988534127
           },
           {
            "iteration": 583,
            "learn": [
             0.07176084321
            ],
            "passed_time": 4.185283535,
            "remaining_time": 2.981297861
           },
           {
            "iteration": 584,
            "learn": [
             0.07162742405
            ],
            "passed_time": 4.191351147,
            "remaining_time": 2.973351668
           },
           {
            "iteration": 585,
            "learn": [
             0.07144136089
            ],
            "passed_time": 4.198605589,
            "remaining_time": 2.966250365
           },
           {
            "iteration": 586,
            "learn": [
             0.07131345629
            ],
            "passed_time": 4.205431861,
            "remaining_time": 2.958847289
           },
           {
            "iteration": 587,
            "learn": [
             0.0711674228
            ],
            "passed_time": 4.212850416,
            "remaining_time": 2.951861176
           },
           {
            "iteration": 588,
            "learn": [
             0.07101111336
            ],
            "passed_time": 4.219188677,
            "remaining_time": 2.944119773
           },
           {
            "iteration": 589,
            "learn": [
             0.07085396262
            ],
            "passed_time": 4.226756897,
            "remaining_time": 2.937237844
           },
           {
            "iteration": 590,
            "learn": [
             0.07077579867
            ],
            "passed_time": 4.233465402,
            "remaining_time": 2.929758628
           },
           {
            "iteration": 591,
            "learn": [
             0.07062949262
            ],
            "passed_time": 4.239641928,
            "remaining_time": 2.921915383
           },
           {
            "iteration": 592,
            "learn": [
             0.07048060346
            ],
            "passed_time": 4.246520842,
            "remaining_time": 2.914559836
           },
           {
            "iteration": 593,
            "learn": [
             0.07034537931
            ],
            "passed_time": 4.252514952,
            "remaining_time": 2.906601129
           },
           {
            "iteration": 594,
            "learn": [
             0.07022758198
            ],
            "passed_time": 4.25826946,
            "remaining_time": 2.898485935
           },
           {
            "iteration": 595,
            "learn": [
             0.07003566682
            ],
            "passed_time": 4.264609473,
            "remaining_time": 2.890775549
           },
           {
            "iteration": 596,
            "learn": [
             0.06982496586
            ],
            "passed_time": 4.270962924,
            "remaining_time": 2.883078825
           },
           {
            "iteration": 597,
            "learn": [
             0.06968458289
            ],
            "passed_time": 4.277892445,
            "remaining_time": 2.875773851
           },
           {
            "iteration": 598,
            "learn": [
             0.06955773032
            ],
            "passed_time": 4.285216327,
            "remaining_time": 2.868734135
           },
           {
            "iteration": 599,
            "learn": [
             0.06941944781
            ],
            "passed_time": 4.292328614,
            "remaining_time": 2.861552409
           },
           {
            "iteration": 600,
            "learn": [
             0.06931164924
            ],
            "passed_time": 4.298063083,
            "remaining_time": 2.85345619
           },
           {
            "iteration": 601,
            "learn": [
             0.06918054082
            ],
            "passed_time": 4.30484161,
            "remaining_time": 2.846058074
           },
           {
            "iteration": 602,
            "learn": [
             0.06906462437
            ],
            "passed_time": 4.310585345,
            "remaining_time": 2.837980733
           },
           {
            "iteration": 603,
            "learn": [
             0.06887721023
            ],
            "passed_time": 4.31675559,
            "remaining_time": 2.830190751
           },
           {
            "iteration": 604,
            "learn": [
             0.06880890203
            ],
            "passed_time": 4.323193542,
            "remaining_time": 2.822580908
           },
           {
            "iteration": 605,
            "learn": [
             0.06865802689
            ],
            "passed_time": 4.330490414,
            "remaining_time": 2.815533372
           },
           {
            "iteration": 606,
            "learn": [
             0.0685085237
            ],
            "passed_time": 4.336181218,
            "remaining_time": 2.807445171
           },
           {
            "iteration": 607,
            "learn": [
             0.06832300215
            ],
            "passed_time": 4.343167054,
            "remaining_time": 2.800199811
           },
           {
            "iteration": 608,
            "learn": [
             0.06809977169
            ],
            "passed_time": 4.349529225,
            "remaining_time": 2.792554888
           },
           {
            "iteration": 609,
            "learn": [
             0.06795105251
            ],
            "passed_time": 4.35598403,
            "remaining_time": 2.784973396
           },
           {
            "iteration": 610,
            "learn": [
             0.06788927116
            ],
            "passed_time": 4.360081583,
            "remaining_time": 2.775894821
           },
           {
            "iteration": 611,
            "learn": [
             0.06780701305
            ],
            "passed_time": 4.365580133,
            "remaining_time": 2.767720738
           },
           {
            "iteration": 612,
            "learn": [
             0.06771141146
            ],
            "passed_time": 4.372389671,
            "remaining_time": 2.760383039
           },
           {
            "iteration": 613,
            "learn": [
             0.06758237493
            ],
            "passed_time": 4.377885901,
            "remaining_time": 2.752221429
           },
           {
            "iteration": 614,
            "learn": [
             0.06743105971
            ],
            "passed_time": 4.384723061,
            "remaining_time": 2.744907932
           },
           {
            "iteration": 615,
            "learn": [
             0.06728348643
            ],
            "passed_time": 4.390701953,
            "remaining_time": 2.737060957
           },
           {
            "iteration": 616,
            "learn": [
             0.06714796315
            ],
            "passed_time": 4.396816825,
            "remaining_time": 2.729304448
           },
           {
            "iteration": 617,
            "learn": [
             0.0670802602
            ],
            "passed_time": 4.404136917,
            "remaining_time": 2.722298224
           },
           {
            "iteration": 618,
            "learn": [
             0.06698493465
            ],
            "passed_time": 4.410784886,
            "remaining_time": 2.714877289
           },
           {
            "iteration": 619,
            "learn": [
             0.0668428666
            ],
            "passed_time": 4.417064247,
            "remaining_time": 2.707232926
           },
           {
            "iteration": 620,
            "learn": [
             0.06667202335
            ],
            "passed_time": 4.422513779,
            "remaining_time": 2.699086509
           },
           {
            "iteration": 621,
            "learn": [
             0.06655950983
            ],
            "passed_time": 4.428109125,
            "remaining_time": 2.691037378
           },
           {
            "iteration": 622,
            "learn": [
             0.06642660968
            ],
            "passed_time": 4.434532241,
            "remaining_time": 2.683497038
           },
           {
            "iteration": 623,
            "learn": [
             0.06628997355
            ],
            "passed_time": 4.439780174,
            "remaining_time": 2.675252156
           },
           {
            "iteration": 624,
            "learn": [
             0.06614372239
            ],
            "passed_time": 4.446192212,
            "remaining_time": 2.667715327
           },
           {
            "iteration": 625,
            "learn": [
             0.06602512703
            ],
            "passed_time": 4.451910018,
            "remaining_time": 2.659767327
           },
           {
            "iteration": 626,
            "learn": [
             0.06583622252
            ],
            "passed_time": 4.457317324,
            "remaining_time": 2.651641725
           },
           {
            "iteration": 627,
            "learn": [
             0.06571524237
            ],
            "passed_time": 4.463907935,
            "remaining_time": 2.644225719
           },
           {
            "iteration": 628,
            "learn": [
             0.06559987279
            ],
            "passed_time": 4.471166874,
            "remaining_time": 2.637206535
           },
           {
            "iteration": 629,
            "learn": [
             0.06547808254
            ],
            "passed_time": 4.477868816,
            "remaining_time": 2.629859463
           },
           {
            "iteration": 630,
            "learn": [
             0.06537239358
            ],
            "passed_time": 4.484235087,
            "remaining_time": 2.622318141
           },
           {
            "iteration": 631,
            "learn": [
             0.06522809894
            ],
            "passed_time": 4.494149232,
            "remaining_time": 2.616846388
           },
           {
            "iteration": 632,
            "learn": [
             0.06506248363
            ],
            "passed_time": 4.500684142,
            "remaining_time": 2.609401391
           },
           {
            "iteration": 633,
            "learn": [
             0.06495219182
            ],
            "passed_time": 4.507672629,
            "remaining_time": 2.602221108
           },
           {
            "iteration": 634,
            "learn": [
             0.06482976227
            ],
            "passed_time": 4.51372863,
            "remaining_time": 2.594505433
           },
           {
            "iteration": 635,
            "learn": [
             0.06472630556
            ],
            "passed_time": 4.518915691,
            "remaining_time": 2.58629766
           },
           {
            "iteration": 636,
            "learn": [
             0.06451492743
            ],
            "passed_time": 4.524251052,
            "remaining_time": 2.578183881
           },
           {
            "iteration": 637,
            "learn": [
             0.06436610743
            ],
            "passed_time": 4.531415516,
            "remaining_time": 2.571116641
           },
           {
            "iteration": 638,
            "learn": [
             0.06426243009
            ],
            "passed_time": 4.538768976,
            "remaining_time": 2.564155869
           },
           {
            "iteration": 639,
            "learn": [
             0.06416663855
            ],
            "passed_time": 4.545903269,
            "remaining_time": 2.557070589
           },
           {
            "iteration": 640,
            "learn": [
             0.06393204398
            ],
            "passed_time": 4.551711691,
            "remaining_time": 2.549242585
           },
           {
            "iteration": 641,
            "learn": [
             0.0638084575
            ],
            "passed_time": 4.558728183,
            "remaining_time": 2.542094532
           },
           {
            "iteration": 642,
            "learn": [
             0.06371224421
            ],
            "passed_time": 4.564503046,
            "remaining_time": 2.534257523
           },
           {
            "iteration": 643,
            "learn": [
             0.06362257533
            ],
            "passed_time": 4.5713773,
            "remaining_time": 2.527034657
           },
           {
            "iteration": 644,
            "learn": [
             0.06350317755
            ],
            "passed_time": 4.578236098,
            "remaining_time": 2.519804364
           },
           {
            "iteration": 645,
            "learn": [
             0.06339368818
            ],
            "passed_time": 4.584552951,
            "remaining_time": 2.512278242
           },
           {
            "iteration": 646,
            "learn": [
             0.06325559026
            ],
            "passed_time": 4.590702299,
            "remaining_time": 2.504664469
           },
           {
            "iteration": 647,
            "learn": [
             0.06314132254
            ],
            "passed_time": 4.59732016,
            "remaining_time": 2.497309716
           },
           {
            "iteration": 648,
            "learn": [
             0.06300118458
            ],
            "passed_time": 4.60286709,
            "remaining_time": 2.489378041
           },
           {
            "iteration": 649,
            "learn": [
             0.06289849971
            ],
            "passed_time": 4.609049014,
            "remaining_time": 2.481795623
           },
           {
            "iteration": 650,
            "learn": [
             0.06277786505
            ],
            "passed_time": 4.615280455,
            "remaining_time": 2.474244053
           },
           {
            "iteration": 651,
            "learn": [
             0.0626409623
            ],
            "passed_time": 4.621568782,
            "remaining_time": 2.466726896
           },
           {
            "iteration": 652,
            "learn": [
             0.06252634999
            ],
            "passed_time": 4.627999189,
            "remaining_time": 2.459289003
           },
           {
            "iteration": 653,
            "learn": [
             0.06241586759
            ],
            "passed_time": 4.634732733,
            "remaining_time": 2.452014565
           },
           {
            "iteration": 654,
            "learn": [
             0.06234100465
            ],
            "passed_time": 4.641570617,
            "remaining_time": 2.444796737
           },
           {
            "iteration": 655,
            "learn": [
             0.06223623974
            ],
            "passed_time": 4.64748245,
            "remaining_time": 2.437094456
           },
           {
            "iteration": 656,
            "learn": [
             0.06214673233
            ],
            "passed_time": 4.654534499,
            "remaining_time": 2.429992897
           },
           {
            "iteration": 657,
            "learn": [
             0.06200696421
            ],
            "passed_time": 4.66127536,
            "remaining_time": 2.422729747
           },
           {
            "iteration": 658,
            "learn": [
             0.06186293395
            ],
            "passed_time": 4.667186838,
            "remaining_time": 2.415039016
           },
           {
            "iteration": 659,
            "learn": [
             0.06174027283
            ],
            "passed_time": 4.672753157,
            "remaining_time": 2.407175869
           },
           {
            "iteration": 660,
            "learn": [
             0.06157045859
            ],
            "passed_time": 4.679291761,
            "remaining_time": 2.399818316
           },
           {
            "iteration": 661,
            "learn": [
             0.06143124736
            ],
            "passed_time": 4.68468837,
            "remaining_time": 2.391880165
           },
           {
            "iteration": 662,
            "learn": [
             0.06135017967
            ],
            "passed_time": 4.691240478,
            "remaining_time": 2.384537015
           },
           {
            "iteration": 663,
            "learn": [
             0.06123937718
            ],
            "passed_time": 4.698431338,
            "remaining_time": 2.377519472
           },
           {
            "iteration": 664,
            "learn": [
             0.06111855381
            ],
            "passed_time": 4.704950419,
            "remaining_time": 2.370162993
           },
           {
            "iteration": 665,
            "learn": [
             0.06103757018
            ],
            "passed_time": 4.711643045,
            "remaining_time": 2.362896062
           },
           {
            "iteration": 666,
            "learn": [
             0.06093265119
            ],
            "passed_time": 4.718853021,
            "remaining_time": 2.355889139
           },
           {
            "iteration": 667,
            "learn": [
             0.06083218335
            ],
            "passed_time": 4.726143021,
            "remaining_time": 2.348921382
           },
           {
            "iteration": 668,
            "learn": [
             0.06072002738
            ],
            "passed_time": 4.733136799,
            "remaining_time": 2.341806099
           },
           {
            "iteration": 669,
            "learn": [
             0.06062296736
            ],
            "passed_time": 4.739515079,
            "remaining_time": 2.334388024
           },
           {
            "iteration": 670,
            "learn": [
             0.06046627858
            ],
            "passed_time": 4.745356954,
            "remaining_time": 2.326710041
           },
           {
            "iteration": 671,
            "learn": [
             0.06036841909
            ],
            "passed_time": 4.751445827,
            "remaining_time": 2.319158082
           },
           {
            "iteration": 672,
            "learn": [
             0.06022366969
            ],
            "passed_time": 4.757970146,
            "remaining_time": 2.311822047
           },
           {
            "iteration": 673,
            "learn": [
             0.06011620302
            ],
            "passed_time": 4.764676889,
            "remaining_time": 2.304576655
           },
           {
            "iteration": 674,
            "learn": [
             0.060005953
            ],
            "passed_time": 4.770646107,
            "remaining_time": 2.296977755
           },
           {
            "iteration": 675,
            "learn": [
             0.05992692431
            ],
            "passed_time": 4.777377536,
            "remaining_time": 2.289748996
           },
           {
            "iteration": 676,
            "learn": [
             0.05979734077
            ],
            "passed_time": 4.785062062,
            "remaining_time": 2.282976434
           },
           {
            "iteration": 677,
            "learn": [
             0.05971638412
            ],
            "passed_time": 4.791437533,
            "remaining_time": 2.275579477
           },
           {
            "iteration": 678,
            "learn": [
             0.05958939072
            ],
            "passed_time": 4.796662567,
            "remaining_time": 2.267641655
           },
           {
            "iteration": 679,
            "learn": [
             0.05948208665
            ],
            "passed_time": 4.803442476,
            "remaining_time": 2.260443518
           },
           {
            "iteration": 680,
            "learn": [
             0.05939938199
            ],
            "passed_time": 4.810271191,
            "remaining_time": 2.253269471
           },
           {
            "iteration": 681,
            "learn": [
             0.05930002116
            ],
            "passed_time": 4.816660234,
            "remaining_time": 2.245891429
           },
           {
            "iteration": 682,
            "learn": [
             0.05922629956
            ],
            "passed_time": 4.822938133,
            "remaining_time": 2.238464697
           },
           {
            "iteration": 683,
            "learn": [
             0.05913831248
            ],
            "passed_time": 4.828836215,
            "remaining_time": 2.230865854
           },
           {
            "iteration": 684,
            "learn": [
             0.05898768182
            ],
            "passed_time": 4.835784425,
            "remaining_time": 2.223754882
           },
           {
            "iteration": 685,
            "learn": [
             0.05890003122
            ],
            "passed_time": 4.84112075,
            "remaining_time": 2.215906582
           },
           {
            "iteration": 686,
            "learn": [
             0.05880092991
            ],
            "passed_time": 4.855789482,
            "remaining_time": 2.212317479
           },
           {
            "iteration": 687,
            "learn": [
             0.05871443165
            ],
            "passed_time": 4.866427331,
            "remaining_time": 2.206868208
           },
           {
            "iteration": 688,
            "learn": [
             0.05863397326
            ],
            "passed_time": 4.8746689,
            "remaining_time": 2.200322247
           },
           {
            "iteration": 689,
            "learn": [
             0.05854129395
            ],
            "passed_time": 4.881711101,
            "remaining_time": 2.193232524
           },
           {
            "iteration": 690,
            "learn": [
             0.05841270316
            ],
            "passed_time": 4.889546393,
            "remaining_time": 2.186497591
           },
           {
            "iteration": 691,
            "learn": [
             0.05835995364
            ],
            "passed_time": 4.895997704,
            "remaining_time": 2.179143487
           },
           {
            "iteration": 692,
            "learn": [
             0.05828280023
            ],
            "passed_time": 4.902582138,
            "remaining_time": 2.171850962
           },
           {
            "iteration": 693,
            "learn": [
             0.05816005283
            ],
            "passed_time": 4.916577421,
            "remaining_time": 2.167828085
           },
           {
            "iteration": 694,
            "learn": [
             0.05804302703
            ],
            "passed_time": 4.922867612,
            "remaining_time": 2.160395139
           },
           {
            "iteration": 695,
            "learn": [
             0.05796451064
            ],
            "passed_time": 4.928742976,
            "remaining_time": 2.152784288
           },
           {
            "iteration": 696,
            "learn": [
             0.0578706789
            ],
            "passed_time": 4.935762469,
            "remaining_time": 2.145675793
           },
           {
            "iteration": 697,
            "learn": [
             0.05777728837
            ],
            "passed_time": 4.943198917,
            "remaining_time": 2.138747956
           },
           {
            "iteration": 698,
            "learn": [
             0.05769374218
            ],
            "passed_time": 4.949707649,
            "remaining_time": 2.131419174
           },
           {
            "iteration": 699,
            "learn": [
             0.05757824183
            ],
            "passed_time": 4.954309831,
            "remaining_time": 2.123275642
           },
           {
            "iteration": 700,
            "learn": [
             0.05748414118
            ],
            "passed_time": 4.961101784,
            "remaining_time": 2.116076224
           },
           {
            "iteration": 701,
            "learn": [
             0.05739318743
            ],
            "passed_time": 5.146352603,
            "remaining_time": 2.184634011
           },
           {
            "iteration": 702,
            "learn": [
             0.05730908702
            ],
            "passed_time": 5.161176163,
            "remaining_time": 2.18046845
           },
           {
            "iteration": 703,
            "learn": [
             0.05711024759
            ],
            "passed_time": 5.18946914,
            "remaining_time": 2.181935888
           },
           {
            "iteration": 704,
            "learn": [
             0.0570207628
            ],
            "passed_time": 5.217626451,
            "remaining_time": 2.183262132
           },
           {
            "iteration": 705,
            "learn": [
             0.05692984938
            ],
            "passed_time": 5.237920406,
            "remaining_time": 2.181230311
           },
           {
            "iteration": 706,
            "learn": [
             0.05683263124
            ],
            "passed_time": 5.246712889,
            "remaining_time": 2.174380306
           },
           {
            "iteration": 707,
            "learn": [
             0.0567526207
            ],
            "passed_time": 5.255915762,
            "remaining_time": 2.167694071
           },
           {
            "iteration": 708,
            "learn": [
             0.05662583087
            ],
            "passed_time": 5.262043308,
            "remaining_time": 2.159738509
           },
           {
            "iteration": 709,
            "learn": [
             0.05655315392
            ],
            "passed_time": 5.269920492,
            "remaining_time": 2.152502736
           },
           {
            "iteration": 710,
            "learn": [
             0.05645640867
            ],
            "passed_time": 5.277237116,
            "remaining_time": 2.145037309
           },
           {
            "iteration": 711,
            "learn": [
             0.05637103682
            ],
            "passed_time": 5.283310897,
            "remaining_time": 2.137069576
           },
           {
            "iteration": 712,
            "learn": [
             0.05630556567
            ],
            "passed_time": 5.29034392,
            "remaining_time": 2.129493275
           },
           {
            "iteration": 713,
            "learn": [
             0.05622887663
            ],
            "passed_time": 5.296762502,
            "remaining_time": 2.121672375
           },
           {
            "iteration": 714,
            "learn": [
             0.05612007125
            ],
            "passed_time": 5.303415694,
            "remaining_time": 2.113948913
           },
           {
            "iteration": 715,
            "learn": [
             0.05602590121
            ],
            "passed_time": 5.311133357,
            "remaining_time": 2.106650661
           },
           {
            "iteration": 716,
            "learn": [
             0.05586270276
            ],
            "passed_time": 5.31841547,
            "remaining_time": 2.099179328
           },
           {
            "iteration": 717,
            "learn": [
             0.05579435093
            ],
            "passed_time": 5.324369968,
            "remaining_time": 2.09118709
           },
           {
            "iteration": 718,
            "learn": [
             0.05571946172
            ],
            "passed_time": 5.331507048,
            "remaining_time": 2.083662699
           },
           {
            "iteration": 719,
            "learn": [
             0.0556500648
            ],
            "passed_time": 5.3384162,
            "remaining_time": 2.076050744
           },
           {
            "iteration": 720,
            "learn": [
             0.05556074477
            ],
            "passed_time": 5.344900803,
            "remaining_time": 2.068276455
           },
           {
            "iteration": 721,
            "learn": [
             0.05547472725
            ],
            "passed_time": 5.352854504,
            "remaining_time": 2.061071402
           },
           {
            "iteration": 722,
            "learn": [
             0.05537868275
            ],
            "passed_time": 5.360226147,
            "remaining_time": 2.053641276
           },
           {
            "iteration": 723,
            "learn": [
             0.05532002236
            ],
            "passed_time": 5.367811523,
            "remaining_time": 2.046292791
           },
           {
            "iteration": 724,
            "learn": [
             0.05525474659
            ],
            "passed_time": 5.375074422,
            "remaining_time": 2.038821332
           },
           {
            "iteration": 725,
            "learn": [
             0.0551760686
            ],
            "passed_time": 5.381349941,
            "remaining_time": 2.030977801
           },
           {
            "iteration": 726,
            "learn": [
             0.05508308897
            ],
            "passed_time": 5.388534135,
            "remaining_time": 2.023479806
           },
           {
            "iteration": 727,
            "learn": [
             0.05495386339
            ],
            "passed_time": 5.394859529,
            "remaining_time": 2.015661802
           },
           {
            "iteration": 728,
            "learn": [
             0.05485560952
            ],
            "passed_time": 5.401835283,
            "remaining_time": 2.008089659
           },
           {
            "iteration": 729,
            "learn": [
             0.05476650632
            ],
            "passed_time": 5.408680189,
            "remaining_time": 2.000470755
           },
           {
            "iteration": 730,
            "learn": [
             0.0546661813
            ],
            "passed_time": 5.416027948,
            "remaining_time": 1.993039012
           },
           {
            "iteration": 731,
            "learn": [
             0.05454955114
            ],
            "passed_time": 5.422193213,
            "remaining_time": 1.985174564
           },
           {
            "iteration": 732,
            "learn": [
             0.05442107369
            ],
            "passed_time": 5.428884413,
            "remaining_time": 1.977506328
           },
           {
            "iteration": 733,
            "learn": [
             0.05430397524
            ],
            "passed_time": 5.435119417,
            "remaining_time": 1.969675429
           },
           {
            "iteration": 734,
            "learn": [
             0.05418682195
            ],
            "passed_time": 5.441803811,
            "remaining_time": 1.962010898
           },
           {
            "iteration": 735,
            "learn": [
             0.05411278043
            ],
            "passed_time": 5.448567293,
            "remaining_time": 1.954377399
           },
           {
            "iteration": 736,
            "learn": [
             0.05404101274
            ],
            "passed_time": 5.454873615,
            "remaining_time": 1.946583122
           },
           {
            "iteration": 737,
            "learn": [
             0.05393834882
            ],
            "passed_time": 5.46144141,
            "remaining_time": 1.938885704
           },
           {
            "iteration": 738,
            "learn": [
             0.05385085738
            ],
            "passed_time": 5.468256225,
            "remaining_time": 1.931278585
           },
           {
            "iteration": 739,
            "learn": [
             0.05376087014
            ],
            "passed_time": 5.474760943,
            "remaining_time": 1.923564656
           },
           {
            "iteration": 740,
            "learn": [
             0.05369910723
            ],
            "passed_time": 5.481304631,
            "remaining_time": 1.915867611
           },
           {
            "iteration": 741,
            "learn": [
             0.05362135849
            ],
            "passed_time": 5.488106848,
            "remaining_time": 1.908263567
           },
           {
            "iteration": 742,
            "learn": [
             0.05355675834
            ],
            "passed_time": 5.493872735,
            "remaining_time": 1.900303221
           },
           {
            "iteration": 743,
            "learn": [
             0.05348182417
            ],
            "passed_time": 5.500036534,
            "remaining_time": 1.892485689
           },
           {
            "iteration": 744,
            "learn": [
             0.05340919196
            ],
            "passed_time": 5.505444308,
            "remaining_time": 1.884413823
           },
           {
            "iteration": 745,
            "learn": [
             0.05331287608
            ],
            "passed_time": 5.512841049,
            "remaining_time": 1.877026309
           },
           {
            "iteration": 746,
            "learn": [
             0.05324040965
            ],
            "passed_time": 5.520267698,
            "remaining_time": 1.869648899
           },
           {
            "iteration": 747,
            "learn": [
             0.0531595015
            ],
            "passed_time": 5.527790587,
            "remaining_time": 1.862303781
           },
           {
            "iteration": 748,
            "learn": [
             0.05307099631
            ],
            "passed_time": 5.533977267,
            "remaining_time": 1.854510406
           },
           {
            "iteration": 749,
            "learn": [
             0.05294941615
            ],
            "passed_time": 5.540511874,
            "remaining_time": 1.846837291
           },
           {
            "iteration": 750,
            "learn": [
             0.0528912384
            ],
            "passed_time": 5.547315483,
            "remaining_time": 1.839256398
           },
           {
            "iteration": 751,
            "learn": [
             0.05285155428
            ],
            "passed_time": 5.552965947,
            "remaining_time": 1.83129728
           },
           {
            "iteration": 752,
            "learn": [
             0.0527555099
            ],
            "passed_time": 5.560552967,
            "remaining_time": 1.823979526
           },
           {
            "iteration": 753,
            "learn": [
             0.05265317874
            ],
            "passed_time": 5.567656005,
            "remaining_time": 1.816503153
           },
           {
            "iteration": 754,
            "learn": [
             0.05255743882
            ],
            "passed_time": 5.574614259,
            "remaining_time": 1.808980786
           },
           {
            "iteration": 755,
            "learn": [
             0.05246975664
            ],
            "passed_time": 5.58113978,
            "remaining_time": 1.801320246
           },
           {
            "iteration": 756,
            "learn": [
             0.05234914056
            ],
            "passed_time": 5.586802113,
            "remaining_time": 1.793385619
           },
           {
            "iteration": 757,
            "learn": [
             0.05225249665
            ],
            "passed_time": 5.593509045,
            "remaining_time": 1.785790487
           },
           {
            "iteration": 758,
            "learn": [
             0.05216598405
            ],
            "passed_time": 5.598838673,
            "remaining_time": 1.777760369
           },
           {
            "iteration": 759,
            "learn": [
             0.05207449434
            ],
            "passed_time": 5.604430001,
            "remaining_time": 1.76982
           },
           {
            "iteration": 760,
            "learn": [
             0.05201688592
            ],
            "passed_time": 5.611139784,
            "remaining_time": 1.762237067
           },
           {
            "iteration": 761,
            "learn": [
             0.0519269423
            ],
            "passed_time": 5.617666177,
            "remaining_time": 1.754599147
           },
           {
            "iteration": 762,
            "learn": [
             0.05184570872
            ],
            "passed_time": 5.625092909,
            "remaining_time": 1.7472438
           },
           {
            "iteration": 763,
            "learn": [
             0.05176659269
            ],
            "passed_time": 5.630906984,
            "remaining_time": 1.739390115
           },
           {
            "iteration": 764,
            "learn": [
             0.05169352387
            ],
            "passed_time": 5.63801935,
            "remaining_time": 1.731940585
           },
           {
            "iteration": 765,
            "learn": [
             0.05160141984
            ],
            "passed_time": 5.644847158,
            "remaining_time": 1.724405007
           },
           {
            "iteration": 766,
            "learn": [
             0.0515320132
            ],
            "passed_time": 5.651258654,
            "remaining_time": 1.716744806
           },
           {
            "iteration": 767,
            "learn": [
             0.0514720716
            ],
            "passed_time": 5.658604867,
            "remaining_time": 1.70937022
           },
           {
            "iteration": 768,
            "learn": [
             0.05135061611
            ],
            "passed_time": 5.665147822,
            "remaining_time": 1.701754417
           },
           {
            "iteration": 769,
            "learn": [
             0.05125551224
            ],
            "passed_time": 5.671485123,
            "remaining_time": 1.694079972
           },
           {
            "iteration": 770,
            "learn": [
             0.05118808166
            ],
            "passed_time": 5.678373869,
            "remaining_time": 1.686572783
           },
           {
            "iteration": 771,
            "learn": [
             0.05111690196
            ],
            "passed_time": 5.685988568,
            "remaining_time": 1.679281598
           },
           {
            "iteration": 772,
            "learn": [
             0.05103993291
            ],
            "passed_time": 5.692454946,
            "remaining_time": 1.671652358
           },
           {
            "iteration": 773,
            "learn": [
             0.05097381683
            ],
            "passed_time": 5.698973259,
            "remaining_time": 1.664041287
           },
           {
            "iteration": 774,
            "learn": [
             0.05086718074
            ],
            "passed_time": 5.704898893,
            "remaining_time": 1.656260969
           },
           {
            "iteration": 775,
            "learn": [
             0.05079893109
            ],
            "passed_time": 5.715170222,
            "remaining_time": 1.649739858
           },
           {
            "iteration": 776,
            "learn": [
             0.05070862672
            ],
            "passed_time": 5.724296919,
            "remaining_time": 1.642880583
           },
           {
            "iteration": 777,
            "learn": [
             0.05064419077
            ],
            "passed_time": 5.731470176,
            "remaining_time": 1.635458071
           },
           {
            "iteration": 778,
            "learn": [
             0.05052714177
            ],
            "passed_time": 5.7372728,
            "remaining_time": 1.627647354
           },
           {
            "iteration": 779,
            "learn": [
             0.05042655001
            ],
            "passed_time": 5.743986211,
            "remaining_time": 1.620098675
           },
           {
            "iteration": 780,
            "learn": [
             0.05034994218
            ],
            "passed_time": 5.751357008,
            "remaining_time": 1.612736472
           },
           {
            "iteration": 781,
            "learn": [
             0.05028265019
            ],
            "passed_time": 5.758641877,
            "remaining_time": 1.605350293
           },
           {
            "iteration": 782,
            "learn": [
             0.05019738971
            ],
            "passed_time": 5.765512711,
            "remaining_time": 1.597849627
           },
           {
            "iteration": 783,
            "learn": [
             0.050110718
            ],
            "passed_time": 5.772360071,
            "remaining_time": 1.590344101
           },
           {
            "iteration": 784,
            "learn": [
             0.05004488182
            ],
            "passed_time": 5.77917861,
            "remaining_time": 1.582832358
           },
           {
            "iteration": 785,
            "learn": [
             0.04993226825
            ],
            "passed_time": 5.786328149,
            "remaining_time": 1.575412498
           },
           {
            "iteration": 786,
            "learn": [
             0.0498046927
            ],
            "passed_time": 5.792854975,
            "remaining_time": 1.56782479
           },
           {
            "iteration": 787,
            "learn": [
             0.0497333484
            ],
            "passed_time": 5.798985631,
            "remaining_time": 1.56013319
           },
           {
            "iteration": 788,
            "learn": [
             0.04966042421
            ],
            "passed_time": 5.804637545,
            "remaining_time": 1.552317518
           },
           {
            "iteration": 789,
            "learn": [
             0.04957683778
            ],
            "passed_time": 5.810208108,
            "remaining_time": 1.544485699
           },
           {
            "iteration": 790,
            "learn": [
             0.04947631297
            ],
            "passed_time": 5.816900411,
            "remaining_time": 1.536955987
           },
           {
            "iteration": 791,
            "learn": [
             0.04940893956
            ],
            "passed_time": 5.823023099,
            "remaining_time": 1.529278794
           },
           {
            "iteration": 792,
            "learn": [
             0.0493312973
            ],
            "passed_time": 5.829707563,
            "remaining_time": 1.521752163
           },
           {
            "iteration": 793,
            "learn": [
             0.04925448174
            ],
            "passed_time": 5.835718388,
            "remaining_time": 1.514052882
           },
           {
            "iteration": 794,
            "learn": [
             0.0492037795
            ],
            "passed_time": 5.842714546,
            "remaining_time": 1.506611927
           },
           {
            "iteration": 795,
            "learn": [
             0.04913037784
            ],
            "passed_time": 5.854790158,
            "remaining_time": 1.50047386
           },
           {
            "iteration": 796,
            "learn": [
             0.04906776902
            ],
            "passed_time": 5.868507984,
            "remaining_time": 1.494739173
           },
           {
            "iteration": 797,
            "learn": [
             0.04902372181
            ],
            "passed_time": 5.873939683,
            "remaining_time": 1.486886987
           },
           {
            "iteration": 798,
            "learn": [
             0.04893238138
            ],
            "passed_time": 5.881049315,
            "remaining_time": 1.479462969
           },
           {
            "iteration": 799,
            "learn": [
             0.0488309488
            ],
            "passed_time": 5.886881636,
            "remaining_time": 1.471720409
           },
           {
            "iteration": 800,
            "learn": [
             0.04878038297
            ],
            "passed_time": 5.892685849,
            "remaining_time": 1.463975635
           },
           {
            "iteration": 801,
            "learn": [
             0.04872857
            ],
            "passed_time": 5.901404749,
            "remaining_time": 1.456955287
           },
           {
            "iteration": 802,
            "learn": [
             0.04863696024
            ],
            "passed_time": 5.915526645,
            "remaining_time": 1.451256226
           },
           {
            "iteration": 803,
            "learn": [
             0.04854611292
            ],
            "passed_time": 5.923155977,
            "remaining_time": 1.443953447
           },
           {
            "iteration": 804,
            "learn": [
             0.04847119663
            ],
            "passed_time": 5.931190637,
            "remaining_time": 1.436748042
           },
           {
            "iteration": 805,
            "learn": [
             0.04838177381
            ],
            "passed_time": 5.939552593,
            "remaining_time": 1.429619359
           },
           {
            "iteration": 806,
            "learn": [
             0.0483359626
            ],
            "passed_time": 5.947378943,
            "remaining_time": 1.422359524
           },
           {
            "iteration": 807,
            "learn": [
             0.04826955223
            ],
            "passed_time": 5.95420666,
            "remaining_time": 1.414860988
           },
           {
            "iteration": 808,
            "learn": [
             0.04818796457
            ],
            "passed_time": 5.960440319,
            "remaining_time": 1.407223858
           },
           {
            "iteration": 809,
            "learn": [
             0.04811450918
            ],
            "passed_time": 5.967228984,
            "remaining_time": 1.399720379
           },
           {
            "iteration": 810,
            "learn": [
             0.04804203414
            ],
            "passed_time": 5.973546986,
            "remaining_time": 1.392108977
           },
           {
            "iteration": 811,
            "learn": [
             0.04793044686
            ],
            "passed_time": 5.979305593,
            "remaining_time": 1.384371246
           },
           {
            "iteration": 812,
            "learn": [
             0.04784219722
            ],
            "passed_time": 5.98588383,
            "remaining_time": 1.376826908
           },
           {
            "iteration": 813,
            "learn": [
             0.04774854429
            ],
            "passed_time": 5.992325865,
            "remaining_time": 1.369253822
           },
           {
            "iteration": 814,
            "learn": [
             0.04767646691
            ],
            "passed_time": 5.999806923,
            "remaining_time": 1.361919363
           },
           {
            "iteration": 815,
            "learn": [
             0.04756137458
            ],
            "passed_time": 6.00718196,
            "remaining_time": 1.354560638
           },
           {
            "iteration": 816,
            "learn": [
             0.04750090512
            ],
            "passed_time": 6.014069002,
            "remaining_time": 1.347092567
           },
           {
            "iteration": 817,
            "learn": [
             0.04746295837
            ],
            "passed_time": 6.021005145,
            "remaining_time": 1.339636842
           },
           {
            "iteration": 818,
            "learn": [
             0.04738833425
            ],
            "passed_time": 6.027050689,
            "remaining_time": 1.331985561
           },
           {
            "iteration": 819,
            "learn": [
             0.04728211219
            ],
            "passed_time": 6.033523686,
            "remaining_time": 1.324432029
           },
           {
            "iteration": 820,
            "learn": [
             0.04722005813
            ],
            "passed_time": 6.040372623,
            "remaining_time": 1.316963093
           },
           {
            "iteration": 821,
            "learn": [
             0.0471664994
            ],
            "passed_time": 6.047173459,
            "remaining_time": 1.30948525
           },
           {
            "iteration": 822,
            "learn": [
             0.04710530773
            ],
            "passed_time": 6.053697919,
            "remaining_time": 1.301949613
           },
           {
            "iteration": 823,
            "learn": [
             0.047024844
            ],
            "passed_time": 6.060389141,
            "remaining_time": 1.294452049
           },
           {
            "iteration": 824,
            "learn": [
             0.04693344809
            ],
            "passed_time": 6.066367229,
            "remaining_time": 1.28680517
           },
           {
            "iteration": 825,
            "learn": [
             0.04685820299
            ],
            "passed_time": 6.072238016,
            "remaining_time": 1.279139727
           },
           {
            "iteration": 826,
            "learn": [
             0.04680857756
            ],
            "passed_time": 6.077642277,
            "remaining_time": 1.271381033
           },
           {
            "iteration": 827,
            "learn": [
             0.04677264793
            ],
            "passed_time": 6.08297516,
            "remaining_time": 1.263613197
           },
           {
            "iteration": 828,
            "learn": [
             0.04669300079
            ],
            "passed_time": 6.088106035,
            "remaining_time": 1.255809568
           },
           {
            "iteration": 829,
            "learn": [
             0.04660812175
            ],
            "passed_time": 6.09536105,
            "remaining_time": 1.248447444
           },
           {
            "iteration": 830,
            "learn": [
             0.04657960124
            ],
            "passed_time": 6.102324607,
            "remaining_time": 1.241026304
           },
           {
            "iteration": 831,
            "learn": [
             0.04651031167
            ],
            "passed_time": 6.108834193,
            "remaining_time": 1.233514597
           },
           {
            "iteration": 832,
            "learn": [
             0.04644695185
            ],
            "passed_time": 6.114548376,
            "remaining_time": 1.225845833
           },
           {
            "iteration": 833,
            "learn": [
             0.04638481766
            ],
            "passed_time": 6.120997344,
            "remaining_time": 1.218328008
           },
           {
            "iteration": 834,
            "learn": [
             0.04633371184
            ],
            "passed_time": 6.155628034,
            "remaining_time": 1.216381587
           },
           {
            "iteration": 835,
            "learn": [
             0.04625463599
            ],
            "passed_time": 6.173601335,
            "remaining_time": 1.211089257
           },
           {
            "iteration": 836,
            "learn": [
             0.04618526366
            ],
            "passed_time": 6.196461057,
            "remaining_time": 1.206718223
           },
           {
            "iteration": 837,
            "learn": [
             0.04612107041
            ],
            "passed_time": 6.223065352,
            "remaining_time": 1.203026954
           },
           {
            "iteration": 838,
            "learn": [
             0.04605581925
            ],
            "passed_time": 6.23402833,
            "remaining_time": 1.196279572
           },
           {
            "iteration": 839,
            "learn": [
             0.04600229616
            ],
            "passed_time": 6.240325255,
            "remaining_time": 1.188633382
           },
           {
            "iteration": 840,
            "learn": [
             0.04595530631
            ],
            "passed_time": 6.250278604,
            "remaining_time": 1.181681686
           },
           {
            "iteration": 841,
            "learn": [
             0.04589779698
            ],
            "passed_time": 6.268176594,
            "remaining_time": 1.17621366
           },
           {
            "iteration": 842,
            "learn": [
             0.04584971197
            ],
            "passed_time": 6.275118123,
            "remaining_time": 1.168675617
           },
           {
            "iteration": 843,
            "learn": [
             0.04577671749
            ],
            "passed_time": 6.28331471,
            "remaining_time": 1.161370965
           },
           {
            "iteration": 844,
            "learn": [
             0.04571920334
            ],
            "passed_time": 6.29004013,
            "remaining_time": 1.153794343
           },
           {
            "iteration": 845,
            "learn": [
             0.04564021304
            ],
            "passed_time": 6.296373073,
            "remaining_time": 1.14614829
           },
           {
            "iteration": 846,
            "learn": [
             0.04558729017
            ],
            "passed_time": 6.307407261,
            "remaining_time": 1.139354558
           },
           {
            "iteration": 847,
            "learn": [
             0.04551295339
            ],
            "passed_time": 6.315000844,
            "remaining_time": 1.131934114
           },
           {
            "iteration": 848,
            "learn": [
             0.04546764836
            ],
            "passed_time": 6.321932694,
            "remaining_time": 1.124395568
           },
           {
            "iteration": 849,
            "learn": [
             0.04542728957
            ],
            "passed_time": 6.324423511,
            "remaining_time": 1.116074737
           },
           {
            "iteration": 850,
            "learn": [
             0.04535962994
            ],
            "passed_time": 6.33034695,
            "remaining_time": 1.10836862
           },
           {
            "iteration": 851,
            "learn": [
             0.04530499591
            ],
            "passed_time": 6.335608001,
            "remaining_time": 1.100551625
           },
           {
            "iteration": 852,
            "learn": [
             0.04524773364
            ],
            "passed_time": 6.342443778,
            "remaining_time": 1.093011999
           },
           {
            "iteration": 853,
            "learn": [
             0.04519541075
            ],
            "passed_time": 6.349563008,
            "remaining_time": 1.085522482
           },
           {
            "iteration": 854,
            "learn": [
             0.04511488071
            ],
            "passed_time": 6.353416081,
            "remaining_time": 1.07747992
           },
           {
            "iteration": 855,
            "learn": [
             0.0450519503
            ],
            "passed_time": 6.359538404,
            "remaining_time": 1.06982889
           },
           {
            "iteration": 856,
            "learn": [
             0.04499811425
            ],
            "passed_time": 6.366527615,
            "remaining_time": 1.062326078
           },
           {
            "iteration": 857,
            "learn": [
             0.04494377167
            ],
            "passed_time": 6.373118245,
            "remaining_time": 1.054758498
           },
           {
            "iteration": 858,
            "learn": [
             0.04487308091
            ],
            "passed_time": 6.379293642,
            "remaining_time": 1.047125033
           },
           {
            "iteration": 859,
            "learn": [
             0.04483210746
            ],
            "passed_time": 6.386277495,
            "remaining_time": 1.039626569
           },
           {
            "iteration": 860,
            "learn": [
             0.04478090418
            ],
            "passed_time": 6.39212203,
            "remaining_time": 1.031945368
           },
           {
            "iteration": 861,
            "learn": [
             0.04471743515
            ],
            "passed_time": 6.39882887,
            "remaining_time": 1.024406478
           },
           {
            "iteration": 862,
            "learn": [
             0.04466918849
            ],
            "passed_time": 6.406309561,
            "remaining_time": 1.016992364
           },
           {
            "iteration": 863,
            "learn": [
             0.04461587091
            ],
            "passed_time": 6.411791098,
            "remaining_time": 1.009263414
           },
           {
            "iteration": 864,
            "learn": [
             0.04455129938
            ],
            "passed_time": 6.418217704,
            "remaining_time": 1.001687156
           },
           {
            "iteration": 865,
            "learn": [
             0.04450141679
            ],
            "passed_time": 6.424642238,
            "remaining_time": 0.9941132332
           },
           {
            "iteration": 866,
            "learn": [
             0.04445081504
            ],
            "passed_time": 6.431026341,
            "remaining_time": 0.9865357593
           },
           {
            "iteration": 867,
            "learn": [
             0.04437417323
            ],
            "passed_time": 6.43711842,
            "remaining_time": 0.978916626
           },
           {
            "iteration": 868,
            "learn": [
             0.04431409976
            ],
            "passed_time": 6.444078767,
            "remaining_time": 0.9714318969
           },
           {
            "iteration": 869,
            "learn": [
             0.04425140993
            ],
            "passed_time": 6.45060245,
            "remaining_time": 0.9638831247
           },
           {
            "iteration": 870,
            "learn": [
             0.04420142928
            ],
            "passed_time": 6.4563978,
            "remaining_time": 0.9562288361
           },
           {
            "iteration": 871,
            "learn": [
             0.04413816708
            ],
            "passed_time": 6.462977255,
            "remaining_time": 0.948693909
           },
           {
            "iteration": 872,
            "learn": [
             0.04407589735
            ],
            "passed_time": 6.468542992,
            "remaining_time": 0.9410136998
           },
           {
            "iteration": 873,
            "learn": [
             0.04400192833
            ],
            "passed_time": 6.475072639,
            "remaining_time": 0.9334772911
           },
           {
            "iteration": 874,
            "learn": [
             0.0439378729
            ],
            "passed_time": 6.480675391,
            "remaining_time": 0.9258107701
           },
           {
            "iteration": 875,
            "learn": [
             0.0438692686
            ],
            "passed_time": 6.487111735,
            "remaining_time": 0.9182669579
           },
           {
            "iteration": 876,
            "learn": [
             0.04381614066
            ],
            "passed_time": 6.494575096,
            "remaining_time": 0.9108697114
           },
           {
            "iteration": 877,
            "learn": [
             0.04377807952
            ],
            "passed_time": 6.500022429,
            "remaining_time": 0.9031921826
           },
           {
            "iteration": 878,
            "learn": [
             0.04369379672
            ],
            "passed_time": 6.508347762,
            "remaining_time": 0.8959159036
           },
           {
            "iteration": 879,
            "learn": [
             0.04363860321
            ],
            "passed_time": 6.515153506,
            "remaining_time": 0.8884300236
           },
           {
            "iteration": 880,
            "learn": [
             0.04359554625
            ],
            "passed_time": 6.52166153,
            "remaining_time": 0.8809054733
           },
           {
            "iteration": 881,
            "learn": [
             0.04352556085
            ],
            "passed_time": 6.528966688,
            "remaining_time": 0.8734898744
           },
           {
            "iteration": 882,
            "learn": [
             0.04346585424
            ],
            "passed_time": 6.535759155,
            "remaining_time": 0.8660065925
           },
           {
            "iteration": 883,
            "learn": [
             0.04341142585
            ],
            "passed_time": 6.541604475,
            "remaining_time": 0.8584005872
           },
           {
            "iteration": 884,
            "learn": [
             0.04336438676
            ],
            "passed_time": 6.546455216,
            "remaining_time": 0.8506693218
           },
           {
            "iteration": 885,
            "learn": [
             0.04327881955
            ],
            "passed_time": 6.553216169,
            "remaining_time": 0.8431903423
           },
           {
            "iteration": 886,
            "learn": [
             0.0432044421
            ],
            "passed_time": 6.558774829,
            "remaining_time": 0.8355598148
           },
           {
            "iteration": 887,
            "learn": [
             0.04315046356
            ],
            "passed_time": 6.565992091,
            "remaining_time": 0.8281431466
           },
           {
            "iteration": 888,
            "learn": [
             0.04310392299
            ],
            "passed_time": 6.572359507,
            "remaining_time": 0.8206208158
           },
           {
            "iteration": 889,
            "learn": [
             0.04304222037
            ],
            "passed_time": 6.578810232,
            "remaining_time": 0.8131113769
           },
           {
            "iteration": 890,
            "learn": [
             0.04299799879
            ],
            "passed_time": 6.585470878,
            "remaining_time": 0.8056299952
           },
           {
            "iteration": 891,
            "learn": [
             0.04292464635
            ],
            "passed_time": 6.591510276,
            "remaining_time": 0.7980752353
           },
           {
            "iteration": 892,
            "learn": [
             0.04288321118
            ],
            "passed_time": 6.59738907,
            "remaining_time": 0.7905046254
           },
           {
            "iteration": 893,
            "learn": [
             0.04282639373
            ],
            "passed_time": 6.602723899,
            "remaining_time": 0.7828733035
           },
           {
            "iteration": 894,
            "learn": [
             0.04277156953
            ],
            "passed_time": 6.608964178,
            "remaining_time": 0.7753533393
           },
           {
            "iteration": 895,
            "learn": [
             0.04273156816
            ],
            "passed_time": 6.614915637,
            "remaining_time": 0.7678027079
           },
           {
            "iteration": 896,
            "learn": [
             0.04267218453
            ],
            "passed_time": 6.621593762,
            "remaining_time": 0.7603390831
           },
           {
            "iteration": 897,
            "learn": [
             0.04259643421
            ],
            "passed_time": 6.626977254,
            "remaining_time": 0.7527301558
           },
           {
            "iteration": 898,
            "learn": [
             0.04253798088
            ],
            "passed_time": 6.632334438,
            "remaining_time": 0.7451232238
           },
           {
            "iteration": 899,
            "learn": [
             0.04247342371
            ],
            "passed_time": 6.63763097,
            "remaining_time": 0.7375145523
           },
           {
            "iteration": 900,
            "learn": [
             0.04243549811
            ],
            "passed_time": 6.643588747,
            "remaining_time": 0.7299836692
           },
           {
            "iteration": 901,
            "learn": [
             0.04237767883
            ],
            "passed_time": 6.649099779,
            "remaining_time": 0.7224077366
           },
           {
            "iteration": 902,
            "learn": [
             0.04232989056
            ],
            "passed_time": 6.655123196,
            "remaining_time": 0.7148914175
           },
           {
            "iteration": 903,
            "learn": [
             0.04228199809
            ],
            "passed_time": 6.662044962,
            "remaining_time": 0.7074738012
           },
           {
            "iteration": 904,
            "learn": [
             0.04224606737
            ],
            "passed_time": 6.668865419,
            "remaining_time": 0.7000466462
           },
           {
            "iteration": 905,
            "learn": [
             0.04219823986
            ],
            "passed_time": 6.675663875,
            "remaining_time": 0.6926185477
           },
           {
            "iteration": 906,
            "learn": [
             0.042118105
            ],
            "passed_time": 6.682041328,
            "remaining_time": 0.6851486698
           },
           {
            "iteration": 907,
            "learn": [
             0.04207192632
            ],
            "passed_time": 6.688559311,
            "remaining_time": 0.6776954368
           },
           {
            "iteration": 908,
            "learn": [
             0.04203484559
            ],
            "passed_time": 6.694989366,
            "remaining_time": 0.6702354591
           },
           {
            "iteration": 909,
            "learn": [
             0.04199338421
            ],
            "passed_time": 6.700451072,
            "remaining_time": 0.6626819741
           },
           {
            "iteration": 910,
            "learn": [
             0.04193678084
            ],
            "passed_time": 6.707000881,
            "remaining_time": 0.6552393835
           },
           {
            "iteration": 911,
            "learn": [
             0.0418870966
            ],
            "passed_time": 6.712980175,
            "remaining_time": 0.6477437011
           },
           {
            "iteration": 912,
            "learn": [
             0.04184589712
            ],
            "passed_time": 6.718946557,
            "remaining_time": 0.64025011
           },
           {
            "iteration": 913,
            "learn": [
             0.04179412055
            ],
            "passed_time": 6.724771682,
            "remaining_time": 0.6327465696
           },
           {
            "iteration": 914,
            "learn": [
             0.04176104368
            ],
            "passed_time": 6.731433632,
            "remaining_time": 0.6253244357
           },
           {
            "iteration": 915,
            "learn": [
             0.04167633465
            ],
            "passed_time": 6.737496808,
            "remaining_time": 0.6178490523
           },
           {
            "iteration": 916,
            "learn": [
             0.04160620712
            ],
            "passed_time": 6.744180429,
            "remaining_time": 0.6104329069
           },
           {
            "iteration": 917,
            "learn": [
             0.04158383756
            ],
            "passed_time": 6.750707211,
            "remaining_time": 0.6030043478
           },
           {
            "iteration": 918,
            "learn": [
             0.04152735609
            ],
            "passed_time": 6.756344723,
            "remaining_time": 0.5954993717
           },
           {
            "iteration": 919,
            "learn": [
             0.04149124138
            ],
            "passed_time": 6.76238219,
            "remaining_time": 0.5880332339
           },
           {
            "iteration": 920,
            "learn": [
             0.04142796278
            ],
            "passed_time": 6.768157077,
            "remaining_time": 0.5805476755
           },
           {
            "iteration": 921,
            "learn": [
             0.04136221886
            ],
            "passed_time": 6.774755917,
            "remaining_time": 0.5731355331
           },
           {
            "iteration": 922,
            "learn": [
             0.0413186534
            ],
            "passed_time": 6.781231427,
            "remaining_time": 0.5657148644
           },
           {
            "iteration": 923,
            "learn": [
             0.04126566967
            ],
            "passed_time": 6.787432254,
            "remaining_time": 0.5582736486
           },
           {
            "iteration": 924,
            "learn": [
             0.0412082487
            ],
            "passed_time": 6.794268107,
            "remaining_time": 0.5508866033
           },
           {
            "iteration": 925,
            "learn": [
             0.04116984175
            ],
            "passed_time": 6.800487134,
            "remaining_time": 0.5434514556
           },
           {
            "iteration": 926,
            "learn": [
             0.04112546381
            ],
            "passed_time": 6.807539858,
            "remaining_time": 0.5360845843
           },
           {
            "iteration": 927,
            "learn": [
             0.04108740211
            ],
            "passed_time": 6.812978981,
            "remaining_time": 0.5285931968
           },
           {
            "iteration": 928,
            "learn": [
             0.04102681887
            ],
            "passed_time": 6.819873888,
            "remaining_time": 0.5212174877
           },
           {
            "iteration": 929,
            "learn": [
             0.04098284319
            ],
            "passed_time": 6.82631863,
            "remaining_time": 0.5138089291
           },
           {
            "iteration": 930,
            "learn": [
             0.04094187803
            ],
            "passed_time": 6.832115454,
            "remaining_time": 0.5063544214
           },
           {
            "iteration": 931,
            "learn": [
             0.04090279252
            ],
            "passed_time": 6.838399087,
            "remaining_time": 0.4989389892
           },
           {
            "iteration": 932,
            "learn": [
             0.04084190762
            ],
            "passed_time": 6.844642473,
            "remaining_time": 0.4915230929
           },
           {
            "iteration": 933,
            "learn": [
             0.04080798982
            ],
            "passed_time": 6.856025045,
            "remaining_time": 0.4844728618
           },
           {
            "iteration": 934,
            "learn": [
             0.04075763879
            ],
            "passed_time": 6.865709742,
            "remaining_time": 0.4772953297
           },
           {
            "iteration": 935,
            "learn": [
             0.04070403017
            ],
            "passed_time": 6.872046046,
            "remaining_time": 0.4698834903
           },
           {
            "iteration": 936,
            "learn": [
             0.04063652911
            ],
            "passed_time": 6.878349993,
            "remaining_time": 0.4624717712
           },
           {
            "iteration": 937,
            "learn": [
             0.04057634859
            ],
            "passed_time": 6.883576075,
            "remaining_time": 0.4549911691
           },
           {
            "iteration": 938,
            "learn": [
             0.0405213038
            ],
            "passed_time": 6.890150175,
            "remaining_time": 0.44760294
           },
           {
            "iteration": 939,
            "learn": [
             0.04047183293
            ],
            "passed_time": 6.896988002,
            "remaining_time": 0.4402332767
           },
           {
            "iteration": 940,
            "learn": [
             0.04043962871
            ],
            "passed_time": 6.902784235,
            "remaining_time": 0.4327994366
           },
           {
            "iteration": 941,
            "learn": [
             0.04039423957
            ],
            "passed_time": 6.909127802,
            "remaining_time": 0.4254027734
           },
           {
            "iteration": 942,
            "learn": [
             0.04034704378
            ],
            "passed_time": 6.913986676,
            "remaining_time": 0.4179186008
           },
           {
            "iteration": 943,
            "learn": [
             0.04030097832
            ],
            "passed_time": 6.91941758,
            "remaining_time": 0.4104739242
           },
           {
            "iteration": 944,
            "learn": [
             0.04025296518
            ],
            "passed_time": 6.925211935,
            "remaining_time": 0.4030546629
           },
           {
            "iteration": 945,
            "learn": [
             0.04020044669
            ],
            "passed_time": 6.939604839,
            "remaining_time": 0.3961296631
           },
           {
            "iteration": 946,
            "learn": [
             0.04014989172
            ],
            "passed_time": 6.945100979,
            "remaining_time": 0.3886909735
           },
           {
            "iteration": 947,
            "learn": [
             0.04010698128
            ],
            "passed_time": 6.950520007,
            "remaining_time": 0.3812521523
           },
           {
            "iteration": 948,
            "learn": [
             0.04004161319
            ],
            "passed_time": 6.956537143,
            "remaining_time": 0.3738497306
           },
           {
            "iteration": 949,
            "learn": [
             0.03999278024
            ],
            "passed_time": 6.960919317,
            "remaining_time": 0.3663641746
           },
           {
            "iteration": 950,
            "learn": [
             0.03995586358
            ],
            "passed_time": 6.966713425,
            "remaining_time": 0.3589578947
           },
           {
            "iteration": 951,
            "learn": [
             0.03990191788
            ],
            "passed_time": 6.972729401,
            "remaining_time": 0.3515661883
           },
           {
            "iteration": 952,
            "learn": [
             0.03984463334
            ],
            "passed_time": 6.980649396,
            "remaining_time": 0.3442712714
           },
           {
            "iteration": 953,
            "learn": [
             0.03979226146
            ],
            "passed_time": 6.986772682,
            "remaining_time": 0.3368884102
           },
           {
            "iteration": 954,
            "learn": [
             0.0397303735
            ],
            "passed_time": 6.992702966,
            "remaining_time": 0.3294990926
           },
           {
            "iteration": 955,
            "learn": [
             0.03969258971
            ],
            "passed_time": 6.998793185,
            "remaining_time": 0.3221201884
           },
           {
            "iteration": 956,
            "learn": [
             0.03964092578
            ],
            "passed_time": 7.005746667,
            "remaining_time": 0.3147827656
           },
           {
            "iteration": 957,
            "learn": [
             0.03959678284
            ],
            "passed_time": 7.011643895,
            "remaining_time": 0.3073998367
           },
           {
            "iteration": 958,
            "learn": [
             0.03952920538
            ],
            "passed_time": 7.018331085,
            "remaining_time": 0.3000537794
           },
           {
            "iteration": 959,
            "learn": [
             0.03949026141
            ],
            "passed_time": 7.023846599,
            "remaining_time": 0.292660275
           },
           {
            "iteration": 960,
            "learn": [
             0.03944410823
            ],
            "passed_time": 7.030433323,
            "remaining_time": 0.2853141515
           },
           {
            "iteration": 961,
            "learn": [
             0.03940028511
            ],
            "passed_time": 7.036726387,
            "remaining_time": 0.277958007
           },
           {
            "iteration": 962,
            "learn": [
             0.03936643121
            ],
            "passed_time": 7.042278487,
            "remaining_time": 0.2705756013
           },
           {
            "iteration": 963,
            "learn": [
             0.03929044685
            ],
            "passed_time": 7.048810314,
            "remaining_time": 0.2632335802
           },
           {
            "iteration": 964,
            "learn": [
             0.03924529694
            ],
            "passed_time": 7.054020604,
            "remaining_time": 0.2558453069
           },
           {
            "iteration": 965,
            "learn": [
             0.0391884612
            ],
            "passed_time": 7.059886604,
            "remaining_time": 0.2484846217
           },
           {
            "iteration": 966,
            "learn": [
             0.03913617492
            ],
            "passed_time": 7.066139172,
            "remaining_time": 0.2411402199
           },
           {
            "iteration": 967,
            "learn": [
             0.03909438173
            ],
            "passed_time": 7.072694029,
            "remaining_time": 0.2338080671
           },
           {
            "iteration": 968,
            "learn": [
             0.03902953702
            ],
            "passed_time": 7.083589034,
            "remaining_time": 0.2266163674
           },
           {
            "iteration": 969,
            "learn": [
             0.03896517785
            ],
            "passed_time": 7.089051725,
            "remaining_time": 0.2192490224
           },
           {
            "iteration": 970,
            "learn": [
             0.03891488617
            ],
            "passed_time": 7.09467608,
            "remaining_time": 0.2118904288
           },
           {
            "iteration": 971,
            "learn": [
             0.0388815393
            ],
            "passed_time": 7.101433207,
            "remaining_time": 0.2045680348
           },
           {
            "iteration": 972,
            "learn": [
             0.03885208918
            ],
            "passed_time": 7.107691614,
            "remaining_time": 0.1972329636
           },
           {
            "iteration": 973,
            "learn": [
             0.03878789609
            ],
            "passed_time": 7.112563435,
            "remaining_time": 0.1898630896
           },
           {
            "iteration": 974,
            "learn": [
             0.03872791352
            ],
            "passed_time": 7.117776887,
            "remaining_time": 0.1825070997
           },
           {
            "iteration": 975,
            "learn": [
             0.03866543959
            ],
            "passed_time": 7.124656057,
            "remaining_time": 0.1751964604
           },
           {
            "iteration": 976,
            "learn": [
             0.0386186432
            ],
            "passed_time": 7.133012216,
            "remaining_time": 0.1679214749
           },
           {
            "iteration": 977,
            "learn": [
             0.03855868659
            ],
            "passed_time": 7.17655153,
            "remaining_time": 0.1614357195
           },
           {
            "iteration": 978,
            "learn": [
             0.03851775708
            ],
            "passed_time": 7.194398044,
            "remaining_time": 0.154323145
           },
           {
            "iteration": 979,
            "learn": [
             0.03848469802
            ],
            "passed_time": 7.201484498,
            "remaining_time": 0.1469690714
           },
           {
            "iteration": 980,
            "learn": [
             0.03842892628
            ],
            "passed_time": 7.220987901,
            "remaining_time": 0.1398560348
           },
           {
            "iteration": 981,
            "learn": [
             0.03839495771
            ],
            "passed_time": 7.241090652,
            "remaining_time": 0.1327287492
           },
           {
            "iteration": 982,
            "learn": [
             0.03835175683
            ],
            "passed_time": 7.25920672,
            "remaining_time": 0.1255407062
           },
           {
            "iteration": 983,
            "learn": [
             0.03831189285
            ],
            "passed_time": 7.277710749,
            "remaining_time": 0.1183367601
           },
           {
            "iteration": 984,
            "learn": [
             0.03826153434
            ],
            "passed_time": 7.284643397,
            "remaining_time": 0.1109336558
           },
           {
            "iteration": 985,
            "learn": [
             0.03821121489
            ],
            "passed_time": 7.291171493,
            "remaining_time": 0.1035257616
           },
           {
            "iteration": 986,
            "learn": [
             0.03816858504
            ],
            "passed_time": 7.297500187,
            "remaining_time": 0.09611702374
           },
           {
            "iteration": 987,
            "learn": [
             0.03812492475
            ],
            "passed_time": 7.303540652,
            "remaining_time": 0.08870697149
           },
           {
            "iteration": 988,
            "learn": [
             0.0380870625
            ],
            "passed_time": 7.309738752,
            "remaining_time": 0.08130144213
           },
           {
            "iteration": 989,
            "learn": [
             0.03802523794
            ],
            "passed_time": 7.315174669,
            "remaining_time": 0.07389065323
           },
           {
            "iteration": 990,
            "learn": [
             0.03797626073
            ],
            "passed_time": 7.321377034,
            "remaining_time": 0.0664908106
           },
           {
            "iteration": 991,
            "learn": [
             0.03795138666
            ],
            "passed_time": 7.327951179,
            "remaining_time": 0.05909638047
           },
           {
            "iteration": 992,
            "learn": [
             0.03789785889
            ],
            "passed_time": 7.334286556,
            "remaining_time": 0.05170191932
           },
           {
            "iteration": 993,
            "learn": [
             0.03786375445
            ],
            "passed_time": 7.344824073,
            "remaining_time": 0.04433495416
           },
           {
            "iteration": 994,
            "learn": [
             0.0378175375
            ],
            "passed_time": 7.34983218,
            "remaining_time": 0.03693383005
           },
           {
            "iteration": 995,
            "learn": [
             0.03777430575
            ],
            "passed_time": 7.356634105,
            "remaining_time": 0.02954471528
           },
           {
            "iteration": 996,
            "learn": [
             0.03773599542
            ],
            "passed_time": 7.363097793,
            "remaining_time": 0.02215576066
           },
           {
            "iteration": 997,
            "learn": [
             0.03768924779
            ],
            "passed_time": 7.368881695,
            "remaining_time": 0.01476729799
           },
           {
            "iteration": 998,
            "learn": [
             0.0376418857
            ],
            "passed_time": 7.37539333,
            "remaining_time": 0.007382776106
           },
           {
            "iteration": 999,
            "learn": [
             0.03760443183
            ],
            "passed_time": 7.381553943,
            "remaining_time": 0
           }
          ],
          "meta": {
           "iteration_count": 1000,
           "launch_mode": "Train",
           "learn_metrics": [
            {
             "best_value": "Min",
             "name": "MultiClass"
            }
           ],
           "learn_sets": [
            "learn"
           ],
           "name": "experiment",
           "parameters": "",
           "test_metrics": [],
           "test_sets": []
          }
         },
         "passed_iterations": 999,
         "total_iterations": 1000
        },
        "name": "catboost_info",
        "path": "catboost_info"
       }
      },
      "layout": "IPY_MODEL_d965a813be8d4c7d907472caf58b97d0"
     }
    }
   }
  }
 },
 "nbformat": 4,
 "nbformat_minor": 1
}
